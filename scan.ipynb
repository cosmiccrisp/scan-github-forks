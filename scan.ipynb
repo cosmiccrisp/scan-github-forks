{
 "cells": [
  {
   "cell_type": "code",
   "execution_count": 13,
   "metadata": {},
   "outputs": [],
   "source": [
    "import os\n",
    "import shutil\n",
    "import requests\n",
    "import zipfile\n",
    "import subprocess\n",
    "import json\n",
    "from tqdm import tqdm\n",
    "import time\n",
    "from tempfile import TemporaryDirectory"
   ]
  },
  {
   "cell_type": "code",
   "execution_count": null,
   "metadata": {},
   "outputs": [],
   "source": [
    "\n",
    "# -------- CONFIG --------\n",
    "# https://github.com/ChatGPTNextWeb/NextChat\n",
    "REPO_OWNER = \"ChatGPTNextWeb\"\n",
    "REPO_NAME = \"NextChat\"\n",
    "GITHUB_TOKEN = ''\n",
    "MAX_PAGES = 610  # adjust if needed\n",
    "RESULTS_FILE = \"matches.jsonl\"\n",
    "HEADERS = {\"Authorization\": f\"token {GITHUB_TOKEN}\"} if GITHUB_TOKEN else {}\n",
    "# ------------------------"
   ]
  },
  {
   "cell_type": "code",
   "execution_count": 5,
   "metadata": {},
   "outputs": [],
   "source": [
    "API_URL = f\"https://api.github.com/repos/{REPO_OWNER}/{REPO_NAME}/forks\""
   ]
  },
  {
   "cell_type": "code",
   "execution_count": 26,
   "metadata": {},
   "outputs": [
    {
     "data": {
      "text/plain": [
       "610.0"
      ]
     },
     "execution_count": 26,
     "metadata": {},
     "output_type": "execute_result"
    }
   ],
   "source": [
    "61000/100"
   ]
  },
  {
   "cell_type": "code",
   "execution_count": 50,
   "metadata": {},
   "outputs": [
    {
     "name": "stdout",
     "output_type": "stream",
     "text": [
      "[Page 1] Fetching forks...\n",
      "✅ Found 100 forks (total: 100)\n",
      "[Page 2] Fetching forks...\n",
      "✅ Found 100 forks (total: 200)\n",
      "[Page 3] Fetching forks...\n",
      "✅ Found 100 forks (total: 300)\n",
      "[Page 4] Fetching forks...\n",
      "✅ Found 100 forks (total: 400)\n",
      "[Page 5] Fetching forks...\n",
      "✅ Found 100 forks (total: 500)\n",
      "[Page 6] Fetching forks...\n",
      "✅ Found 100 forks (total: 600)\n",
      "[Page 7] Fetching forks...\n",
      "✅ Found 100 forks (total: 700)\n",
      "[Page 8] Fetching forks...\n",
      "✅ Found 100 forks (total: 800)\n",
      "[Page 9] Fetching forks...\n",
      "✅ Found 100 forks (total: 900)\n",
      "[Page 10] Fetching forks...\n",
      "✅ Found 100 forks (total: 1000)\n",
      "[Page 11] Fetching forks...\n",
      "✅ Found 100 forks (total: 1100)\n",
      "[Page 12] Fetching forks...\n",
      "✅ Found 100 forks (total: 1200)\n",
      "[Page 13] Fetching forks...\n",
      "✅ Found 100 forks (total: 1300)\n",
      "[Page 14] Fetching forks...\n",
      "✅ Found 100 forks (total: 1400)\n",
      "[Page 15] Fetching forks...\n",
      "✅ Found 100 forks (total: 1500)\n",
      "[Page 16] Fetching forks...\n",
      "✅ Found 100 forks (total: 1600)\n",
      "[Page 17] Fetching forks...\n",
      "✅ Found 100 forks (total: 1700)\n",
      "[Page 18] Fetching forks...\n",
      "✅ Found 100 forks (total: 1800)\n",
      "[Page 19] Fetching forks...\n",
      "✅ Found 100 forks (total: 1900)\n",
      "[Page 20] Fetching forks...\n",
      "✅ Found 100 forks (total: 2000)\n",
      "[Page 21] Fetching forks...\n",
      "✅ Found 100 forks (total: 2100)\n",
      "[Page 22] Fetching forks...\n",
      "✅ Found 100 forks (total: 2200)\n",
      "[Page 23] Fetching forks...\n",
      "✅ Found 100 forks (total: 2300)\n",
      "[Page 24] Fetching forks...\n",
      "✅ Found 100 forks (total: 2400)\n",
      "[Page 25] Fetching forks...\n",
      "✅ Found 100 forks (total: 2500)\n",
      "[Page 26] Fetching forks...\n",
      "✅ Found 100 forks (total: 2600)\n",
      "[Page 27] Fetching forks...\n",
      "✅ Found 100 forks (total: 2700)\n",
      "[Page 28] Fetching forks...\n",
      "✅ Found 100 forks (total: 2800)\n",
      "[Page 29] Fetching forks...\n",
      "✅ Found 100 forks (total: 2900)\n",
      "[Page 30] Fetching forks...\n",
      "✅ Found 100 forks (total: 3000)\n",
      "[Page 31] Fetching forks...\n",
      "✅ Found 100 forks (total: 3100)\n",
      "[Page 32] Fetching forks...\n",
      "✅ Found 100 forks (total: 3200)\n",
      "[Page 33] Fetching forks...\n",
      "✅ Found 100 forks (total: 3300)\n",
      "[Page 34] Fetching forks...\n",
      "✅ Found 100 forks (total: 3400)\n",
      "[Page 35] Fetching forks...\n",
      "✅ Found 100 forks (total: 3500)\n",
      "[Page 36] Fetching forks...\n",
      "✅ Found 100 forks (total: 3600)\n",
      "[Page 37] Fetching forks...\n",
      "✅ Found 100 forks (total: 3700)\n",
      "[Page 38] Fetching forks...\n",
      "✅ Found 100 forks (total: 3800)\n",
      "[Page 39] Fetching forks...\n",
      "✅ Found 100 forks (total: 3900)\n",
      "[Page 40] Fetching forks...\n",
      "✅ Found 100 forks (total: 4000)\n",
      "[Page 41] Fetching forks...\n",
      "✅ Found 100 forks (total: 4100)\n",
      "[Page 42] Fetching forks...\n",
      "✅ Found 100 forks (total: 4200)\n",
      "[Page 43] Fetching forks...\n",
      "✅ Found 100 forks (total: 4300)\n",
      "[Page 44] Fetching forks...\n",
      "✅ Found 100 forks (total: 4400)\n",
      "[Page 45] Fetching forks...\n",
      "✅ Found 100 forks (total: 4500)\n",
      "[Page 46] Fetching forks...\n",
      "✅ Found 100 forks (total: 4600)\n",
      "[Page 47] Fetching forks...\n",
      "✅ Found 100 forks (total: 4700)\n",
      "[Page 48] Fetching forks...\n",
      "✅ Found 100 forks (total: 4800)\n",
      "[Page 49] Fetching forks...\n",
      "✅ Found 100 forks (total: 4900)\n",
      "[Page 50] Fetching forks...\n",
      "✅ Found 100 forks (total: 5000)\n",
      "[Page 51] Fetching forks...\n",
      "✅ Found 100 forks (total: 5100)\n",
      "[Page 52] Fetching forks...\n",
      "✅ Found 100 forks (total: 5200)\n",
      "[Page 53] Fetching forks...\n",
      "✅ Found 100 forks (total: 5300)\n",
      "[Page 54] Fetching forks...\n",
      "✅ Found 100 forks (total: 5400)\n",
      "[Page 55] Fetching forks...\n",
      "✅ Found 100 forks (total: 5500)\n",
      "[Page 56] Fetching forks...\n",
      "✅ Found 100 forks (total: 5600)\n",
      "[Page 57] Fetching forks...\n",
      "✅ Found 100 forks (total: 5700)\n",
      "[Page 58] Fetching forks...\n",
      "✅ Found 100 forks (total: 5800)\n",
      "[Page 59] Fetching forks...\n",
      "✅ Found 100 forks (total: 5900)\n",
      "[Page 60] Fetching forks...\n",
      "✅ Found 100 forks (total: 6000)\n",
      "[Page 61] Fetching forks...\n",
      "✅ Found 100 forks (total: 6100)\n",
      "[Page 62] Fetching forks...\n",
      "✅ Found 100 forks (total: 6200)\n",
      "[Page 63] Fetching forks...\n",
      "✅ Found 100 forks (total: 6300)\n",
      "[Page 64] Fetching forks...\n",
      "✅ Found 100 forks (total: 6400)\n",
      "[Page 65] Fetching forks...\n",
      "✅ Found 100 forks (total: 6500)\n",
      "[Page 66] Fetching forks...\n",
      "✅ Found 100 forks (total: 6600)\n",
      "[Page 67] Fetching forks...\n",
      "✅ Found 100 forks (total: 6700)\n",
      "[Page 68] Fetching forks...\n",
      "✅ Found 100 forks (total: 6800)\n",
      "[Page 69] Fetching forks...\n",
      "✅ Found 100 forks (total: 6900)\n",
      "[Page 70] Fetching forks...\n",
      "✅ Found 100 forks (total: 7000)\n",
      "[Page 71] Fetching forks...\n",
      "✅ Found 100 forks (total: 7100)\n",
      "[Page 72] Fetching forks...\n",
      "✅ Found 100 forks (total: 7200)\n",
      "[Page 73] Fetching forks...\n",
      "✅ Found 100 forks (total: 7300)\n",
      "[Page 74] Fetching forks...\n",
      "✅ Found 100 forks (total: 7400)\n",
      "[Page 75] Fetching forks...\n",
      "✅ Found 100 forks (total: 7500)\n",
      "[Page 76] Fetching forks...\n",
      "✅ Found 100 forks (total: 7600)\n",
      "[Page 77] Fetching forks...\n",
      "✅ Found 100 forks (total: 7700)\n",
      "[Page 78] Fetching forks...\n",
      "✅ Found 100 forks (total: 7800)\n",
      "[Page 79] Fetching forks...\n",
      "✅ Found 100 forks (total: 7900)\n",
      "[Page 80] Fetching forks...\n",
      "✅ Found 100 forks (total: 8000)\n",
      "[Page 81] Fetching forks...\n",
      "✅ Found 100 forks (total: 8100)\n",
      "[Page 82] Fetching forks...\n",
      "✅ Found 100 forks (total: 8200)\n",
      "[Page 83] Fetching forks...\n",
      "✅ Found 100 forks (total: 8300)\n",
      "[Page 84] Fetching forks...\n",
      "✅ Found 100 forks (total: 8400)\n",
      "[Page 85] Fetching forks...\n",
      "✅ Found 100 forks (total: 8500)\n",
      "[Page 86] Fetching forks...\n",
      "✅ Found 100 forks (total: 8600)\n",
      "[Page 87] Fetching forks...\n",
      "✅ Found 100 forks (total: 8700)\n",
      "[Page 88] Fetching forks...\n",
      "✅ Found 100 forks (total: 8800)\n",
      "[Page 89] Fetching forks...\n",
      "✅ Found 100 forks (total: 8900)\n",
      "[Page 90] Fetching forks...\n",
      "✅ Found 100 forks (total: 9000)\n",
      "[Page 91] Fetching forks...\n",
      "✅ Found 100 forks (total: 9100)\n",
      "[Page 92] Fetching forks...\n",
      "✅ Found 100 forks (total: 9200)\n",
      "[Page 93] Fetching forks...\n",
      "✅ Found 100 forks (total: 9300)\n",
      "[Page 94] Fetching forks...\n",
      "✅ Found 100 forks (total: 9400)\n",
      "[Page 95] Fetching forks...\n",
      "✅ Found 100 forks (total: 9500)\n",
      "[Page 96] Fetching forks...\n",
      "✅ Found 100 forks (total: 9600)\n",
      "[Page 97] Fetching forks...\n",
      "✅ Found 100 forks (total: 9700)\n",
      "[Page 98] Fetching forks...\n",
      "✅ Found 100 forks (total: 9800)\n",
      "[Page 99] Fetching forks...\n",
      "✅ Found 100 forks (total: 9900)\n",
      "[Page 100] Fetching forks...\n",
      "✅ Found 100 forks (total: 10000)\n",
      "[Page 101] Fetching forks...\n",
      "✅ Found 100 forks (total: 10100)\n",
      "[Page 102] Fetching forks...\n",
      "✅ Found 100 forks (total: 10200)\n",
      "[Page 103] Fetching forks...\n",
      "✅ Found 100 forks (total: 10300)\n",
      "[Page 104] Fetching forks...\n",
      "✅ Found 100 forks (total: 10400)\n",
      "[Page 105] Fetching forks...\n",
      "✅ Found 100 forks (total: 10500)\n",
      "[Page 106] Fetching forks...\n",
      "✅ Found 100 forks (total: 10600)\n",
      "[Page 107] Fetching forks...\n",
      "✅ Found 100 forks (total: 10700)\n",
      "[Page 108] Fetching forks...\n",
      "✅ Found 100 forks (total: 10800)\n",
      "[Page 109] Fetching forks...\n",
      "✅ Found 100 forks (total: 10900)\n",
      "[Page 110] Fetching forks...\n",
      "✅ Found 100 forks (total: 11000)\n",
      "[Page 111] Fetching forks...\n",
      "✅ Found 100 forks (total: 11100)\n",
      "[Page 112] Fetching forks...\n",
      "✅ Found 100 forks (total: 11200)\n",
      "[Page 113] Fetching forks...\n",
      "✅ Found 100 forks (total: 11300)\n",
      "[Page 114] Fetching forks...\n",
      "✅ Found 100 forks (total: 11400)\n",
      "[Page 115] Fetching forks...\n",
      "✅ Found 100 forks (total: 11500)\n",
      "[Page 116] Fetching forks...\n",
      "✅ Found 100 forks (total: 11600)\n",
      "[Page 117] Fetching forks...\n",
      "✅ Found 100 forks (total: 11700)\n",
      "[Page 118] Fetching forks...\n",
      "✅ Found 100 forks (total: 11800)\n",
      "[Page 119] Fetching forks...\n",
      "✅ Found 100 forks (total: 11900)\n",
      "[Page 120] Fetching forks...\n",
      "✅ Found 100 forks (total: 12000)\n",
      "[Page 121] Fetching forks...\n",
      "✅ Found 100 forks (total: 12100)\n",
      "[Page 122] Fetching forks...\n",
      "✅ Found 100 forks (total: 12200)\n",
      "[Page 123] Fetching forks...\n",
      "✅ Found 100 forks (total: 12300)\n",
      "[Page 124] Fetching forks...\n",
      "✅ Found 100 forks (total: 12400)\n",
      "[Page 125] Fetching forks...\n",
      "✅ Found 100 forks (total: 12500)\n",
      "[Page 126] Fetching forks...\n",
      "✅ Found 100 forks (total: 12600)\n",
      "[Page 127] Fetching forks...\n",
      "✅ Found 100 forks (total: 12700)\n",
      "[Page 128] Fetching forks...\n",
      "✅ Found 100 forks (total: 12800)\n",
      "[Page 129] Fetching forks...\n",
      "✅ Found 100 forks (total: 12900)\n",
      "[Page 130] Fetching forks...\n",
      "✅ Found 100 forks (total: 13000)\n",
      "[Page 131] Fetching forks...\n",
      "✅ Found 100 forks (total: 13100)\n",
      "[Page 132] Fetching forks...\n",
      "✅ Found 100 forks (total: 13200)\n",
      "[Page 133] Fetching forks...\n",
      "✅ Found 100 forks (total: 13300)\n",
      "[Page 134] Fetching forks...\n",
      "✅ Found 100 forks (total: 13400)\n",
      "[Page 135] Fetching forks...\n",
      "✅ Found 100 forks (total: 13500)\n",
      "[Page 136] Fetching forks...\n",
      "✅ Found 100 forks (total: 13600)\n",
      "[Page 137] Fetching forks...\n",
      "✅ Found 100 forks (total: 13700)\n",
      "[Page 138] Fetching forks...\n",
      "✅ Found 100 forks (total: 13800)\n",
      "[Page 139] Fetching forks...\n",
      "✅ Found 100 forks (total: 13900)\n",
      "[Page 140] Fetching forks...\n",
      "✅ Found 100 forks (total: 14000)\n",
      "[Page 141] Fetching forks...\n",
      "✅ Found 100 forks (total: 14100)\n",
      "[Page 142] Fetching forks...\n",
      "✅ Found 100 forks (total: 14200)\n",
      "[Page 143] Fetching forks...\n",
      "✅ Found 100 forks (total: 14300)\n",
      "[Page 144] Fetching forks...\n",
      "✅ Found 100 forks (total: 14400)\n",
      "[Page 145] Fetching forks...\n",
      "✅ Found 100 forks (total: 14500)\n",
      "[Page 146] Fetching forks...\n",
      "✅ Found 100 forks (total: 14600)\n",
      "[Page 147] Fetching forks...\n",
      "✅ Found 100 forks (total: 14700)\n",
      "[Page 148] Fetching forks...\n",
      "✅ Found 100 forks (total: 14800)\n",
      "[Page 149] Fetching forks...\n",
      "✅ Found 100 forks (total: 14900)\n",
      "[Page 150] Fetching forks...\n",
      "✅ Found 100 forks (total: 15000)\n",
      "[Page 151] Fetching forks...\n",
      "✅ Found 100 forks (total: 15100)\n",
      "[Page 152] Fetching forks...\n",
      "✅ Found 100 forks (total: 15200)\n",
      "[Page 153] Fetching forks...\n",
      "✅ Found 100 forks (total: 15300)\n",
      "[Page 154] Fetching forks...\n",
      "✅ Found 100 forks (total: 15400)\n",
      "[Page 155] Fetching forks...\n",
      "✅ Found 100 forks (total: 15500)\n",
      "[Page 156] Fetching forks...\n",
      "✅ Found 100 forks (total: 15600)\n",
      "[Page 157] Fetching forks...\n",
      "✅ Found 100 forks (total: 15700)\n",
      "[Page 158] Fetching forks...\n",
      "✅ Found 100 forks (total: 15800)\n",
      "[Page 159] Fetching forks...\n",
      "✅ Found 100 forks (total: 15900)\n",
      "[Page 160] Fetching forks...\n",
      "✅ Found 100 forks (total: 16000)\n",
      "[Page 161] Fetching forks...\n",
      "✅ Found 100 forks (total: 16100)\n",
      "[Page 162] Fetching forks...\n",
      "✅ Found 100 forks (total: 16200)\n",
      "[Page 163] Fetching forks...\n",
      "✅ Found 100 forks (total: 16300)\n",
      "[Page 164] Fetching forks...\n",
      "✅ Found 100 forks (total: 16400)\n",
      "[Page 165] Fetching forks...\n",
      "✅ Found 100 forks (total: 16500)\n",
      "[Page 166] Fetching forks...\n",
      "✅ Found 100 forks (total: 16600)\n",
      "[Page 167] Fetching forks...\n",
      "✅ Found 100 forks (total: 16700)\n",
      "[Page 168] Fetching forks...\n",
      "✅ Found 100 forks (total: 16800)\n",
      "[Page 169] Fetching forks...\n",
      "✅ Found 100 forks (total: 16900)\n",
      "[Page 170] Fetching forks...\n",
      "✅ Found 100 forks (total: 17000)\n",
      "[Page 171] Fetching forks...\n",
      "✅ Found 100 forks (total: 17100)\n",
      "[Page 172] Fetching forks...\n",
      "✅ Found 100 forks (total: 17200)\n",
      "[Page 173] Fetching forks...\n",
      "✅ Found 100 forks (total: 17300)\n",
      "[Page 174] Fetching forks...\n",
      "✅ Found 100 forks (total: 17400)\n",
      "[Page 175] Fetching forks...\n",
      "✅ Found 100 forks (total: 17500)\n",
      "[Page 176] Fetching forks...\n",
      "✅ Found 100 forks (total: 17600)\n",
      "[Page 177] Fetching forks...\n",
      "✅ Found 100 forks (total: 17700)\n",
      "[Page 178] Fetching forks...\n",
      "✅ Found 100 forks (total: 17800)\n",
      "[Page 179] Fetching forks...\n",
      "✅ Found 100 forks (total: 17900)\n",
      "[Page 180] Fetching forks...\n",
      "✅ Found 100 forks (total: 18000)\n",
      "[Page 181] Fetching forks...\n",
      "✅ Found 100 forks (total: 18100)\n",
      "[Page 182] Fetching forks...\n",
      "✅ Found 100 forks (total: 18200)\n",
      "[Page 183] Fetching forks...\n",
      "✅ Found 100 forks (total: 18300)\n",
      "[Page 184] Fetching forks...\n",
      "✅ Found 100 forks (total: 18400)\n",
      "[Page 185] Fetching forks...\n",
      "✅ Found 100 forks (total: 18500)\n",
      "[Page 186] Fetching forks...\n",
      "✅ Found 100 forks (total: 18600)\n",
      "[Page 187] Fetching forks...\n",
      "✅ Found 100 forks (total: 18700)\n",
      "[Page 188] Fetching forks...\n",
      "✅ Found 100 forks (total: 18800)\n",
      "[Page 189] Fetching forks...\n",
      "✅ Found 100 forks (total: 18900)\n",
      "[Page 190] Fetching forks...\n",
      "✅ Found 100 forks (total: 19000)\n",
      "[Page 191] Fetching forks...\n",
      "✅ Found 100 forks (total: 19100)\n",
      "[Page 192] Fetching forks...\n",
      "✅ Found 100 forks (total: 19200)\n",
      "[Page 193] Fetching forks...\n",
      "✅ Found 100 forks (total: 19300)\n",
      "[Page 194] Fetching forks...\n",
      "✅ Found 100 forks (total: 19400)\n",
      "[Page 195] Fetching forks...\n",
      "✅ Found 100 forks (total: 19500)\n",
      "[Page 196] Fetching forks...\n",
      "✅ Found 100 forks (total: 19600)\n",
      "[Page 197] Fetching forks...\n",
      "✅ Found 100 forks (total: 19700)\n",
      "[Page 198] Fetching forks...\n",
      "✅ Found 100 forks (total: 19800)\n",
      "[Page 199] Fetching forks...\n",
      "✅ Found 100 forks (total: 19900)\n",
      "[Page 200] Fetching forks...\n",
      "✅ Found 100 forks (total: 20000)\n",
      "[Page 201] Fetching forks...\n",
      "✅ Found 100 forks (total: 20100)\n",
      "[Page 202] Fetching forks...\n",
      "✅ Found 100 forks (total: 20200)\n",
      "[Page 203] Fetching forks...\n",
      "✅ Found 100 forks (total: 20300)\n",
      "[Page 204] Fetching forks...\n",
      "✅ Found 100 forks (total: 20400)\n",
      "[Page 205] Fetching forks...\n",
      "✅ Found 100 forks (total: 20500)\n",
      "[Page 206] Fetching forks...\n",
      "✅ Found 100 forks (total: 20600)\n",
      "[Page 207] Fetching forks...\n",
      "✅ Found 100 forks (total: 20700)\n",
      "[Page 208] Fetching forks...\n",
      "✅ Found 100 forks (total: 20800)\n",
      "[Page 209] Fetching forks...\n",
      "✅ Found 100 forks (total: 20900)\n",
      "[Page 210] Fetching forks...\n",
      "✅ Found 100 forks (total: 21000)\n",
      "[Page 211] Fetching forks...\n",
      "✅ Found 100 forks (total: 21100)\n",
      "[Page 212] Fetching forks...\n",
      "✅ Found 100 forks (total: 21200)\n",
      "[Page 213] Fetching forks...\n",
      "✅ Found 100 forks (total: 21300)\n",
      "[Page 214] Fetching forks...\n",
      "✅ Found 100 forks (total: 21400)\n",
      "[Page 215] Fetching forks...\n",
      "✅ Found 100 forks (total: 21500)\n",
      "[Page 216] Fetching forks...\n",
      "✅ Found 100 forks (total: 21600)\n",
      "[Page 217] Fetching forks...\n",
      "✅ Found 100 forks (total: 21700)\n",
      "[Page 218] Fetching forks...\n",
      "✅ Found 100 forks (total: 21800)\n",
      "[Page 219] Fetching forks...\n",
      "✅ Found 100 forks (total: 21900)\n",
      "[Page 220] Fetching forks...\n",
      "✅ Found 100 forks (total: 22000)\n",
      "[Page 221] Fetching forks...\n",
      "✅ Found 100 forks (total: 22100)\n",
      "[Page 222] Fetching forks...\n",
      "✅ Found 100 forks (total: 22200)\n",
      "[Page 223] Fetching forks...\n",
      "✅ Found 100 forks (total: 22300)\n",
      "[Page 224] Fetching forks...\n",
      "✅ Found 100 forks (total: 22400)\n",
      "[Page 225] Fetching forks...\n",
      "✅ Found 100 forks (total: 22500)\n",
      "[Page 226] Fetching forks...\n",
      "✅ Found 100 forks (total: 22600)\n",
      "[Page 227] Fetching forks...\n",
      "✅ Found 100 forks (total: 22700)\n",
      "[Page 228] Fetching forks...\n",
      "✅ Found 100 forks (total: 22800)\n",
      "[Page 229] Fetching forks...\n",
      "✅ Found 100 forks (total: 22900)\n",
      "[Page 230] Fetching forks...\n",
      "✅ Found 100 forks (total: 23000)\n",
      "[Page 231] Fetching forks...\n",
      "✅ Found 100 forks (total: 23100)\n",
      "[Page 232] Fetching forks...\n",
      "✅ Found 100 forks (total: 23200)\n",
      "[Page 233] Fetching forks...\n",
      "✅ Found 100 forks (total: 23300)\n",
      "[Page 234] Fetching forks...\n",
      "✅ Found 100 forks (total: 23400)\n",
      "[Page 235] Fetching forks...\n",
      "✅ Found 100 forks (total: 23500)\n",
      "[Page 236] Fetching forks...\n",
      "✅ Found 100 forks (total: 23600)\n",
      "[Page 237] Fetching forks...\n",
      "✅ Found 100 forks (total: 23700)\n",
      "[Page 238] Fetching forks...\n",
      "✅ Found 100 forks (total: 23800)\n",
      "[Page 239] Fetching forks...\n",
      "✅ Found 100 forks (total: 23900)\n",
      "[Page 240] Fetching forks...\n",
      "✅ Found 100 forks (total: 24000)\n",
      "[Page 241] Fetching forks...\n",
      "✅ Found 100 forks (total: 24100)\n",
      "[Page 242] Fetching forks...\n",
      "✅ Found 100 forks (total: 24200)\n",
      "[Page 243] Fetching forks...\n",
      "✅ Found 100 forks (total: 24300)\n",
      "[Page 244] Fetching forks...\n",
      "✅ Found 100 forks (total: 24400)\n",
      "[Page 245] Fetching forks...\n",
      "✅ Found 100 forks (total: 24500)\n",
      "[Page 246] Fetching forks...\n",
      "✅ Found 100 forks (total: 24600)\n",
      "[Page 247] Fetching forks...\n",
      "✅ Found 100 forks (total: 24700)\n",
      "[Page 248] Fetching forks...\n",
      "✅ Found 100 forks (total: 24800)\n",
      "[Page 249] Fetching forks...\n",
      "✅ Found 100 forks (total: 24900)\n",
      "[Page 250] Fetching forks...\n",
      "✅ Found 100 forks (total: 25000)\n",
      "[Page 251] Fetching forks...\n",
      "✅ Found 100 forks (total: 25100)\n",
      "[Page 252] Fetching forks...\n",
      "✅ Found 100 forks (total: 25200)\n",
      "[Page 253] Fetching forks...\n",
      "✅ Found 100 forks (total: 25300)\n",
      "[Page 254] Fetching forks...\n",
      "✅ Found 100 forks (total: 25400)\n",
      "[Page 255] Fetching forks...\n",
      "✅ Found 100 forks (total: 25500)\n",
      "[Page 256] Fetching forks...\n",
      "✅ Found 100 forks (total: 25600)\n",
      "[Page 257] Fetching forks...\n",
      "✅ Found 100 forks (total: 25700)\n",
      "[Page 258] Fetching forks...\n",
      "✅ Found 100 forks (total: 25800)\n",
      "[Page 259] Fetching forks...\n",
      "✅ Found 100 forks (total: 25900)\n",
      "[Page 260] Fetching forks...\n",
      "✅ Found 100 forks (total: 26000)\n",
      "[Page 261] Fetching forks...\n",
      "✅ Found 100 forks (total: 26100)\n",
      "[Page 262] Fetching forks...\n",
      "✅ Found 100 forks (total: 26200)\n",
      "[Page 263] Fetching forks...\n",
      "✅ Found 100 forks (total: 26300)\n",
      "[Page 264] Fetching forks...\n",
      "✅ Found 100 forks (total: 26400)\n",
      "[Page 265] Fetching forks...\n",
      "✅ Found 100 forks (total: 26500)\n",
      "[Page 266] Fetching forks...\n",
      "✅ Found 100 forks (total: 26600)\n",
      "[Page 267] Fetching forks...\n",
      "✅ Found 100 forks (total: 26700)\n",
      "[Page 268] Fetching forks...\n",
      "✅ Found 100 forks (total: 26800)\n",
      "[Page 269] Fetching forks...\n",
      "✅ Found 100 forks (total: 26900)\n",
      "[Page 270] Fetching forks...\n",
      "✅ Found 100 forks (total: 27000)\n",
      "[Page 271] Fetching forks...\n",
      "✅ Found 100 forks (total: 27100)\n",
      "[Page 272] Fetching forks...\n",
      "✅ Found 100 forks (total: 27200)\n",
      "[Page 273] Fetching forks...\n",
      "✅ Found 100 forks (total: 27300)\n",
      "[Page 274] Fetching forks...\n",
      "✅ Found 100 forks (total: 27400)\n",
      "[Page 275] Fetching forks...\n",
      "✅ Found 100 forks (total: 27500)\n",
      "[Page 276] Fetching forks...\n",
      "✅ Found 100 forks (total: 27600)\n",
      "[Page 277] Fetching forks...\n",
      "✅ Found 100 forks (total: 27700)\n",
      "[Page 278] Fetching forks...\n",
      "✅ Found 100 forks (total: 27800)\n",
      "[Page 279] Fetching forks...\n",
      "✅ Found 100 forks (total: 27900)\n",
      "[Page 280] Fetching forks...\n",
      "✅ Found 100 forks (total: 28000)\n",
      "[Page 281] Fetching forks...\n",
      "✅ Found 100 forks (total: 28100)\n",
      "[Page 282] Fetching forks...\n",
      "✅ Found 100 forks (total: 28200)\n",
      "[Page 283] Fetching forks...\n",
      "✅ Found 100 forks (total: 28300)\n",
      "[Page 284] Fetching forks...\n",
      "✅ Found 100 forks (total: 28400)\n",
      "[Page 285] Fetching forks...\n",
      "✅ Found 100 forks (total: 28500)\n",
      "[Page 286] Fetching forks...\n",
      "✅ Found 100 forks (total: 28600)\n",
      "[Page 287] Fetching forks...\n",
      "✅ Found 100 forks (total: 28700)\n",
      "[Page 288] Fetching forks...\n",
      "✅ Found 100 forks (total: 28800)\n",
      "[Page 289] Fetching forks...\n",
      "✅ Found 100 forks (total: 28900)\n",
      "[Page 290] Fetching forks...\n",
      "✅ Found 100 forks (total: 29000)\n",
      "[Page 291] Fetching forks...\n",
      "✅ Found 100 forks (total: 29100)\n",
      "[Page 292] Fetching forks...\n",
      "✅ Found 100 forks (total: 29200)\n",
      "[Page 293] Fetching forks...\n",
      "✅ Found 100 forks (total: 29300)\n",
      "[Page 294] Fetching forks...\n",
      "✅ Found 100 forks (total: 29400)\n",
      "[Page 295] Fetching forks...\n",
      "✅ Found 100 forks (total: 29500)\n",
      "[Page 296] Fetching forks...\n",
      "✅ Found 100 forks (total: 29600)\n",
      "[Page 297] Fetching forks...\n",
      "✅ Found 100 forks (total: 29700)\n",
      "[Page 298] Fetching forks...\n",
      "✅ Found 100 forks (total: 29800)\n",
      "[Page 299] Fetching forks...\n",
      "✅ Found 100 forks (total: 29900)\n",
      "[Page 300] Fetching forks...\n",
      "✅ Found 100 forks (total: 30000)\n",
      "[Page 301] Fetching forks...\n",
      "✅ Found 100 forks (total: 30100)\n",
      "[Page 302] Fetching forks...\n",
      "✅ Found 100 forks (total: 30200)\n",
      "[Page 303] Fetching forks...\n",
      "✅ Found 100 forks (total: 30300)\n",
      "[Page 304] Fetching forks...\n",
      "✅ Found 100 forks (total: 30400)\n",
      "[Page 305] Fetching forks...\n",
      "✅ Found 100 forks (total: 30500)\n",
      "[Page 306] Fetching forks...\n",
      "✅ Found 100 forks (total: 30600)\n",
      "[Page 307] Fetching forks...\n",
      "✅ Found 100 forks (total: 30700)\n",
      "[Page 308] Fetching forks...\n",
      "✅ Found 100 forks (total: 30800)\n",
      "[Page 309] Fetching forks...\n",
      "✅ Found 100 forks (total: 30900)\n",
      "[Page 310] Fetching forks...\n",
      "✅ Found 100 forks (total: 31000)\n",
      "[Page 311] Fetching forks...\n",
      "✅ Found 100 forks (total: 31100)\n",
      "[Page 312] Fetching forks...\n",
      "✅ Found 100 forks (total: 31200)\n",
      "[Page 313] Fetching forks...\n",
      "✅ Found 100 forks (total: 31300)\n",
      "[Page 314] Fetching forks...\n",
      "✅ Found 100 forks (total: 31400)\n",
      "[Page 315] Fetching forks...\n",
      "✅ Found 100 forks (total: 31500)\n",
      "[Page 316] Fetching forks...\n",
      "✅ Found 100 forks (total: 31600)\n",
      "[Page 317] Fetching forks...\n",
      "✅ Found 100 forks (total: 31700)\n",
      "[Page 318] Fetching forks...\n",
      "✅ Found 100 forks (total: 31800)\n",
      "[Page 319] Fetching forks...\n",
      "✅ Found 100 forks (total: 31900)\n",
      "[Page 320] Fetching forks...\n",
      "✅ Found 100 forks (total: 32000)\n",
      "[Page 321] Fetching forks...\n",
      "✅ Found 100 forks (total: 32100)\n",
      "[Page 322] Fetching forks...\n",
      "✅ Found 100 forks (total: 32200)\n",
      "[Page 323] Fetching forks...\n",
      "✅ Found 100 forks (total: 32300)\n",
      "[Page 324] Fetching forks...\n",
      "✅ Found 100 forks (total: 32400)\n",
      "[Page 325] Fetching forks...\n",
      "✅ Found 100 forks (total: 32500)\n",
      "[Page 326] Fetching forks...\n",
      "✅ Found 100 forks (total: 32600)\n",
      "[Page 327] Fetching forks...\n",
      "✅ Found 100 forks (total: 32700)\n",
      "[Page 328] Fetching forks...\n",
      "✅ Found 100 forks (total: 32800)\n",
      "[Page 329] Fetching forks...\n",
      "✅ Found 100 forks (total: 32900)\n",
      "[Page 330] Fetching forks...\n",
      "✅ Found 100 forks (total: 33000)\n",
      "[Page 331] Fetching forks...\n",
      "✅ Found 100 forks (total: 33100)\n",
      "[Page 332] Fetching forks...\n",
      "✅ Found 100 forks (total: 33200)\n",
      "[Page 333] Fetching forks...\n",
      "✅ Found 100 forks (total: 33300)\n",
      "[Page 334] Fetching forks...\n",
      "✅ Found 100 forks (total: 33400)\n",
      "[Page 335] Fetching forks...\n",
      "✅ Found 100 forks (total: 33500)\n",
      "[Page 336] Fetching forks...\n",
      "✅ Found 100 forks (total: 33600)\n",
      "[Page 337] Fetching forks...\n",
      "✅ Found 100 forks (total: 33700)\n",
      "[Page 338] Fetching forks...\n",
      "✅ Found 100 forks (total: 33800)\n",
      "[Page 339] Fetching forks...\n",
      "✅ Found 100 forks (total: 33900)\n",
      "[Page 340] Fetching forks...\n",
      "✅ Found 100 forks (total: 34000)\n",
      "[Page 341] Fetching forks...\n",
      "✅ Found 100 forks (total: 34100)\n",
      "[Page 342] Fetching forks...\n",
      "✅ Found 100 forks (total: 34200)\n",
      "[Page 343] Fetching forks...\n",
      "✅ Found 100 forks (total: 34300)\n",
      "[Page 344] Fetching forks...\n",
      "✅ Found 100 forks (total: 34400)\n",
      "[Page 345] Fetching forks...\n",
      "✅ Found 100 forks (total: 34500)\n",
      "[Page 346] Fetching forks...\n",
      "✅ Found 100 forks (total: 34600)\n",
      "[Page 347] Fetching forks...\n",
      "✅ Found 100 forks (total: 34700)\n",
      "[Page 348] Fetching forks...\n",
      "✅ Found 100 forks (total: 34800)\n",
      "[Page 349] Fetching forks...\n",
      "✅ Found 100 forks (total: 34900)\n",
      "[Page 350] Fetching forks...\n",
      "✅ Found 100 forks (total: 35000)\n",
      "[Page 351] Fetching forks...\n",
      "✅ Found 100 forks (total: 35100)\n",
      "[Page 352] Fetching forks...\n",
      "✅ Found 100 forks (total: 35200)\n",
      "[Page 353] Fetching forks...\n",
      "✅ Found 100 forks (total: 35300)\n",
      "[Page 354] Fetching forks...\n",
      "✅ Found 100 forks (total: 35400)\n",
      "[Page 355] Fetching forks...\n",
      "✅ Found 100 forks (total: 35500)\n",
      "[Page 356] Fetching forks...\n",
      "✅ Found 100 forks (total: 35600)\n",
      "[Page 357] Fetching forks...\n",
      "✅ Found 100 forks (total: 35700)\n",
      "[Page 358] Fetching forks...\n",
      "✅ Found 100 forks (total: 35800)\n",
      "[Page 359] Fetching forks...\n",
      "✅ Found 100 forks (total: 35900)\n",
      "[Page 360] Fetching forks...\n",
      "✅ Found 100 forks (total: 36000)\n",
      "[Page 361] Fetching forks...\n",
      "✅ Found 100 forks (total: 36100)\n",
      "[Page 362] Fetching forks...\n",
      "✅ Found 100 forks (total: 36200)\n",
      "[Page 363] Fetching forks...\n",
      "✅ Found 100 forks (total: 36300)\n",
      "[Page 364] Fetching forks...\n",
      "✅ Found 100 forks (total: 36400)\n",
      "[Page 365] Fetching forks...\n",
      "✅ Found 100 forks (total: 36500)\n",
      "[Page 366] Fetching forks...\n",
      "✅ Found 100 forks (total: 36600)\n",
      "[Page 367] Fetching forks...\n",
      "✅ Found 100 forks (total: 36700)\n",
      "[Page 368] Fetching forks...\n",
      "✅ Found 100 forks (total: 36800)\n",
      "[Page 369] Fetching forks...\n",
      "✅ Found 100 forks (total: 36900)\n",
      "[Page 370] Fetching forks...\n",
      "✅ Found 100 forks (total: 37000)\n",
      "[Page 371] Fetching forks...\n",
      "✅ Found 100 forks (total: 37100)\n",
      "[Page 372] Fetching forks...\n",
      "✅ Found 100 forks (total: 37200)\n",
      "[Page 373] Fetching forks...\n",
      "✅ Found 100 forks (total: 37300)\n",
      "[Page 374] Fetching forks...\n",
      "✅ Found 100 forks (total: 37400)\n",
      "[Page 375] Fetching forks...\n",
      "✅ Found 100 forks (total: 37500)\n",
      "[Page 376] Fetching forks...\n",
      "✅ Found 100 forks (total: 37600)\n",
      "[Page 377] Fetching forks...\n",
      "✅ Found 100 forks (total: 37700)\n",
      "[Page 378] Fetching forks...\n",
      "✅ Found 100 forks (total: 37800)\n",
      "[Page 379] Fetching forks...\n",
      "✅ Found 100 forks (total: 37900)\n",
      "[Page 380] Fetching forks...\n",
      "✅ Found 100 forks (total: 38000)\n",
      "[Page 381] Fetching forks...\n",
      "✅ Found 100 forks (total: 38100)\n",
      "[Page 382] Fetching forks...\n",
      "✅ Found 100 forks (total: 38200)\n",
      "[Page 383] Fetching forks...\n",
      "✅ Found 100 forks (total: 38300)\n",
      "[Page 384] Fetching forks...\n",
      "✅ Found 100 forks (total: 38400)\n",
      "[Page 385] Fetching forks...\n",
      "✅ Found 100 forks (total: 38500)\n",
      "[Page 386] Fetching forks...\n",
      "✅ Found 100 forks (total: 38600)\n",
      "[Page 387] Fetching forks...\n",
      "✅ Found 100 forks (total: 38700)\n",
      "[Page 388] Fetching forks...\n",
      "✅ Found 100 forks (total: 38800)\n",
      "[Page 389] Fetching forks...\n",
      "✅ Found 100 forks (total: 38900)\n",
      "[Page 390] Fetching forks...\n",
      "✅ Found 100 forks (total: 39000)\n",
      "[Page 391] Fetching forks...\n",
      "✅ Found 100 forks (total: 39100)\n",
      "[Page 392] Fetching forks...\n",
      "✅ Found 100 forks (total: 39200)\n",
      "[Page 393] Fetching forks...\n",
      "✅ Found 100 forks (total: 39300)\n",
      "[Page 394] Fetching forks...\n",
      "✅ Found 100 forks (total: 39400)\n",
      "[Page 395] Fetching forks...\n",
      "✅ Found 100 forks (total: 39500)\n",
      "[Page 396] Fetching forks...\n",
      "✅ Found 100 forks (total: 39600)\n",
      "[Page 397] Fetching forks...\n",
      "✅ Found 100 forks (total: 39700)\n",
      "[Page 398] Fetching forks...\n",
      "✅ Found 100 forks (total: 39800)\n",
      "[Page 399] Fetching forks...\n",
      "✅ Found 100 forks (total: 39900)\n",
      "[Page 400] Fetching forks...\n",
      "✅ Found 100 forks (total: 40000)\n",
      "[Page 401] Fetching forks...\n",
      "✅ Found 100 forks (total: 40100)\n",
      "[Page 402] Fetching forks...\n",
      "✅ Found 100 forks (total: 40200)\n",
      "[Page 403] Fetching forks...\n",
      "✅ Found 100 forks (total: 40300)\n",
      "[Page 404] Fetching forks...\n",
      "✅ Found 100 forks (total: 40400)\n",
      "[Page 405] Fetching forks...\n",
      "✅ Found 100 forks (total: 40500)\n",
      "[Page 406] Fetching forks...\n",
      "✅ Found 100 forks (total: 40600)\n",
      "[Page 407] Fetching forks...\n",
      "✅ Found 100 forks (total: 40700)\n",
      "[Page 408] Fetching forks...\n",
      "✅ Found 100 forks (total: 40800)\n",
      "[Page 409] Fetching forks...\n",
      "✅ Found 100 forks (total: 40900)\n",
      "[Page 410] Fetching forks...\n",
      "✅ Found 100 forks (total: 41000)\n",
      "[Page 411] Fetching forks...\n",
      "✅ Found 100 forks (total: 41100)\n",
      "[Page 412] Fetching forks...\n",
      "✅ Found 100 forks (total: 41200)\n",
      "[Page 413] Fetching forks...\n",
      "✅ Found 100 forks (total: 41300)\n",
      "[Page 414] Fetching forks...\n",
      "✅ Found 100 forks (total: 41400)\n",
      "[Page 415] Fetching forks...\n",
      "✅ Found 100 forks (total: 41500)\n",
      "[Page 416] Fetching forks...\n",
      "✅ Found 100 forks (total: 41600)\n",
      "[Page 417] Fetching forks...\n",
      "✅ Found 100 forks (total: 41700)\n",
      "[Page 418] Fetching forks...\n",
      "✅ Found 100 forks (total: 41800)\n",
      "[Page 419] Fetching forks...\n",
      "✅ Found 100 forks (total: 41900)\n",
      "[Page 420] Fetching forks...\n",
      "✅ Found 100 forks (total: 42000)\n",
      "[Page 421] Fetching forks...\n",
      "✅ Found 100 forks (total: 42100)\n",
      "[Page 422] Fetching forks...\n",
      "✅ Found 100 forks (total: 42200)\n",
      "[Page 423] Fetching forks...\n",
      "✅ Found 100 forks (total: 42300)\n",
      "[Page 424] Fetching forks...\n",
      "✅ Found 100 forks (total: 42400)\n",
      "[Page 425] Fetching forks...\n",
      "✅ Found 100 forks (total: 42500)\n",
      "[Page 426] Fetching forks...\n",
      "✅ Found 100 forks (total: 42600)\n",
      "[Page 427] Fetching forks...\n",
      "✅ Found 100 forks (total: 42700)\n",
      "[Page 428] Fetching forks...\n",
      "✅ Found 100 forks (total: 42800)\n",
      "[Page 429] Fetching forks...\n",
      "✅ Found 100 forks (total: 42900)\n",
      "[Page 430] Fetching forks...\n",
      "✅ Found 100 forks (total: 43000)\n",
      "[Page 431] Fetching forks...\n",
      "✅ Found 100 forks (total: 43100)\n",
      "[Page 432] Fetching forks...\n",
      "✅ Found 100 forks (total: 43200)\n",
      "[Page 433] Fetching forks...\n",
      "✅ Found 100 forks (total: 43300)\n",
      "[Page 434] Fetching forks...\n",
      "✅ Found 100 forks (total: 43400)\n",
      "[Page 435] Fetching forks...\n",
      "✅ Found 100 forks (total: 43500)\n",
      "[Page 436] Fetching forks...\n",
      "✅ Found 100 forks (total: 43600)\n",
      "[Page 437] Fetching forks...\n",
      "✅ Found 100 forks (total: 43700)\n",
      "[Page 438] Fetching forks...\n",
      "✅ Found 100 forks (total: 43800)\n",
      "[Page 439] Fetching forks...\n",
      "✅ Found 100 forks (total: 43900)\n",
      "[Page 440] Fetching forks...\n",
      "✅ Found 100 forks (total: 44000)\n",
      "[Page 441] Fetching forks...\n",
      "✅ Found 100 forks (total: 44100)\n",
      "[Page 442] Fetching forks...\n",
      "✅ Found 100 forks (total: 44200)\n",
      "[Page 443] Fetching forks...\n",
      "✅ Found 100 forks (total: 44300)\n",
      "[Page 444] Fetching forks...\n",
      "✅ Found 100 forks (total: 44400)\n",
      "[Page 445] Fetching forks...\n",
      "✅ Found 100 forks (total: 44500)\n",
      "[Page 446] Fetching forks...\n",
      "✅ Found 100 forks (total: 44600)\n",
      "[Page 447] Fetching forks...\n",
      "✅ Found 100 forks (total: 44700)\n",
      "[Page 448] Fetching forks...\n",
      "✅ Found 100 forks (total: 44800)\n",
      "[Page 449] Fetching forks...\n",
      "✅ Found 100 forks (total: 44900)\n",
      "[Page 450] Fetching forks...\n",
      "✅ Found 100 forks (total: 45000)\n",
      "[Page 451] Fetching forks...\n",
      "✅ Found 100 forks (total: 45100)\n",
      "[Page 452] Fetching forks...\n",
      "✅ Found 100 forks (total: 45200)\n",
      "[Page 453] Fetching forks...\n",
      "✅ Found 100 forks (total: 45300)\n",
      "[Page 454] Fetching forks...\n",
      "✅ Found 100 forks (total: 45400)\n",
      "[Page 455] Fetching forks...\n",
      "✅ Found 100 forks (total: 45500)\n",
      "[Page 456] Fetching forks...\n",
      "✅ Found 100 forks (total: 45600)\n",
      "[Page 457] Fetching forks...\n",
      "✅ Found 100 forks (total: 45700)\n",
      "[Page 458] Fetching forks...\n",
      "✅ Found 100 forks (total: 45800)\n",
      "[Page 459] Fetching forks...\n",
      "✅ Found 100 forks (total: 45900)\n",
      "[Page 460] Fetching forks...\n",
      "✅ Found 100 forks (total: 46000)\n",
      "[Page 461] Fetching forks...\n",
      "✅ Found 100 forks (total: 46100)\n",
      "[Page 462] Fetching forks...\n",
      "✅ Found 100 forks (total: 46200)\n",
      "[Page 463] Fetching forks...\n",
      "✅ Found 100 forks (total: 46300)\n",
      "[Page 464] Fetching forks...\n",
      "✅ Found 100 forks (total: 46400)\n",
      "[Page 465] Fetching forks...\n",
      "✅ Found 100 forks (total: 46500)\n",
      "[Page 466] Fetching forks...\n",
      "✅ Found 100 forks (total: 46600)\n",
      "[Page 467] Fetching forks...\n",
      "✅ Found 100 forks (total: 46700)\n",
      "[Page 468] Fetching forks...\n",
      "✅ Found 100 forks (total: 46800)\n",
      "[Page 469] Fetching forks...\n",
      "✅ Found 100 forks (total: 46900)\n",
      "[Page 470] Fetching forks...\n",
      "✅ Found 100 forks (total: 47000)\n",
      "[Page 471] Fetching forks...\n",
      "✅ Found 100 forks (total: 47100)\n",
      "[Page 472] Fetching forks...\n",
      "✅ Found 100 forks (total: 47200)\n",
      "[Page 473] Fetching forks...\n",
      "✅ Found 100 forks (total: 47300)\n",
      "[Page 474] Fetching forks...\n",
      "✅ Found 100 forks (total: 47400)\n",
      "[Page 475] Fetching forks...\n",
      "✅ Found 100 forks (total: 47500)\n",
      "[Page 476] Fetching forks...\n",
      "✅ Found 100 forks (total: 47600)\n",
      "[Page 477] Fetching forks...\n",
      "✅ Found 100 forks (total: 47700)\n",
      "[Page 478] Fetching forks...\n",
      "✅ Found 100 forks (total: 47800)\n",
      "[Page 479] Fetching forks...\n",
      "✅ Found 100 forks (total: 47900)\n",
      "[Page 480] Fetching forks...\n",
      "✅ Found 100 forks (total: 48000)\n",
      "[Page 481] Fetching forks...\n",
      "✅ Found 100 forks (total: 48100)\n",
      "[Page 482] Fetching forks...\n",
      "✅ Found 100 forks (total: 48200)\n",
      "[Page 483] Fetching forks...\n",
      "✅ Found 100 forks (total: 48300)\n",
      "[Page 484] Fetching forks...\n",
      "✅ Found 100 forks (total: 48400)\n",
      "[Page 485] Fetching forks...\n",
      "✅ Found 100 forks (total: 48500)\n",
      "[Page 486] Fetching forks...\n",
      "✅ Found 100 forks (total: 48600)\n",
      "[Page 487] Fetching forks...\n",
      "✅ Found 100 forks (total: 48700)\n",
      "[Page 488] Fetching forks...\n",
      "✅ Found 100 forks (total: 48800)\n",
      "[Page 489] Fetching forks...\n",
      "✅ Found 100 forks (total: 48900)\n",
      "[Page 490] Fetching forks...\n",
      "✅ Found 100 forks (total: 49000)\n",
      "[Page 491] Fetching forks...\n",
      "✅ Found 100 forks (total: 49100)\n",
      "[Page 492] Fetching forks...\n",
      "✅ Found 100 forks (total: 49200)\n",
      "[Page 493] Fetching forks...\n",
      "✅ Found 100 forks (total: 49300)\n",
      "[Page 494] Fetching forks...\n",
      "✅ Found 100 forks (total: 49400)\n",
      "[Page 495] Fetching forks...\n",
      "✅ Found 100 forks (total: 49500)\n",
      "[Page 496] Fetching forks...\n",
      "✅ Found 100 forks (total: 49600)\n",
      "[Page 497] Fetching forks...\n",
      "✅ Found 100 forks (total: 49700)\n",
      "[Page 498] Fetching forks...\n",
      "✅ Found 100 forks (total: 49800)\n",
      "[Page 499] Fetching forks...\n",
      "✅ Found 100 forks (total: 49900)\n",
      "[Page 500] Fetching forks...\n",
      "✅ Found 100 forks (total: 50000)\n",
      "[Page 501] Fetching forks...\n",
      "✅ Found 100 forks (total: 50100)\n",
      "[Page 502] Fetching forks...\n",
      "✅ Found 100 forks (total: 50200)\n",
      "[Page 503] Fetching forks...\n",
      "✅ Found 100 forks (total: 50300)\n",
      "[Page 504] Fetching forks...\n",
      "✅ Found 100 forks (total: 50400)\n",
      "[Page 505] Fetching forks...\n",
      "✅ Found 100 forks (total: 50500)\n",
      "[Page 506] Fetching forks...\n",
      "✅ Found 100 forks (total: 50600)\n",
      "[Page 507] Fetching forks...\n",
      "✅ Found 100 forks (total: 50700)\n",
      "[Page 508] Fetching forks...\n",
      "✅ Found 100 forks (total: 50800)\n",
      "[Page 509] Fetching forks...\n",
      "✅ Found 100 forks (total: 50900)\n",
      "[Page 510] Fetching forks...\n",
      "✅ Found 100 forks (total: 51000)\n",
      "[Page 511] Fetching forks...\n",
      "✅ Found 100 forks (total: 51100)\n",
      "[Page 512] Fetching forks...\n",
      "✅ Found 100 forks (total: 51200)\n",
      "[Page 513] Fetching forks...\n",
      "✅ Found 100 forks (total: 51300)\n",
      "[Page 514] Fetching forks...\n",
      "✅ Found 100 forks (total: 51400)\n",
      "[Page 515] Fetching forks...\n",
      "✅ Found 100 forks (total: 51500)\n",
      "[Page 516] Fetching forks...\n",
      "✅ Found 100 forks (total: 51600)\n",
      "[Page 517] Fetching forks...\n",
      "✅ Found 100 forks (total: 51700)\n",
      "[Page 518] Fetching forks...\n",
      "✅ Found 100 forks (total: 51800)\n",
      "[Page 519] Fetching forks...\n",
      "✅ Found 100 forks (total: 51900)\n",
      "[Page 520] Fetching forks...\n",
      "✅ Found 100 forks (total: 52000)\n",
      "[Page 521] Fetching forks...\n",
      "✅ Found 100 forks (total: 52100)\n",
      "[Page 522] Fetching forks...\n",
      "✅ Found 100 forks (total: 52200)\n",
      "[Page 523] Fetching forks...\n",
      "✅ Found 100 forks (total: 52300)\n",
      "[Page 524] Fetching forks...\n",
      "✅ Found 100 forks (total: 52400)\n",
      "[Page 525] Fetching forks...\n",
      "✅ Found 100 forks (total: 52500)\n",
      "[Page 526] Fetching forks...\n",
      "✅ Found 100 forks (total: 52600)\n",
      "[Page 527] Fetching forks...\n",
      "✅ Found 100 forks (total: 52700)\n",
      "[Page 528] Fetching forks...\n",
      "✅ Found 100 forks (total: 52800)\n",
      "[Page 529] Fetching forks...\n",
      "✅ Found 100 forks (total: 52900)\n",
      "[Page 530] Fetching forks...\n",
      "✅ Found 100 forks (total: 53000)\n",
      "[Page 531] Fetching forks...\n",
      "✅ Found 100 forks (total: 53100)\n",
      "[Page 532] Fetching forks...\n",
      "✅ Found 100 forks (total: 53200)\n",
      "[Page 533] Fetching forks...\n",
      "✅ Found 100 forks (total: 53300)\n",
      "[Page 534] Fetching forks...\n",
      "✅ Found 100 forks (total: 53400)\n",
      "[Page 535] Fetching forks...\n",
      "✅ Found 100 forks (total: 53500)\n",
      "[Page 536] Fetching forks...\n",
      "✅ Found 100 forks (total: 53600)\n",
      "[Page 537] Fetching forks...\n",
      "✅ Found 100 forks (total: 53700)\n",
      "[Page 538] Fetching forks...\n",
      "✅ Found 100 forks (total: 53800)\n",
      "[Page 539] Fetching forks...\n",
      "✅ Found 100 forks (total: 53900)\n",
      "[Page 540] Fetching forks...\n",
      "✅ Found 100 forks (total: 54000)\n",
      "[Page 541] Fetching forks...\n",
      "✅ Found 100 forks (total: 54100)\n",
      "[Page 542] Fetching forks...\n",
      "✅ Found 100 forks (total: 54200)\n",
      "[Page 543] Fetching forks...\n",
      "✅ Found 100 forks (total: 54300)\n",
      "[Page 544] Fetching forks...\n",
      "✅ Found 100 forks (total: 54400)\n",
      "[Page 545] Fetching forks...\n",
      "✅ Found 100 forks (total: 54500)\n",
      "[Page 546] Fetching forks...\n",
      "✅ Found 100 forks (total: 54600)\n",
      "[Page 547] Fetching forks...\n",
      "✅ Found 100 forks (total: 54700)\n",
      "[Page 548] Fetching forks...\n",
      "✅ Found 100 forks (total: 54800)\n",
      "[Page 549] Fetching forks...\n",
      "✅ Found 100 forks (total: 54900)\n",
      "[Page 550] Fetching forks...\n",
      "✅ Found 100 forks (total: 55000)\n",
      "[Page 551] Fetching forks...\n",
      "✅ Found 100 forks (total: 55100)\n",
      "[Page 552] Fetching forks...\n",
      "✅ Found 100 forks (total: 55200)\n",
      "[Page 553] Fetching forks...\n",
      "✅ Found 100 forks (total: 55300)\n",
      "[Page 554] Fetching forks...\n",
      "✅ Found 100 forks (total: 55400)\n",
      "[Page 555] Fetching forks...\n",
      "✅ Found 100 forks (total: 55500)\n",
      "[Page 556] Fetching forks...\n",
      "✅ Found 100 forks (total: 55600)\n",
      "[Page 557] Fetching forks...\n",
      "✅ Found 100 forks (total: 55700)\n",
      "[Page 558] Fetching forks...\n",
      "✅ Found 100 forks (total: 55800)\n",
      "[Page 559] Fetching forks...\n",
      "✅ Found 100 forks (total: 55900)\n",
      "[Page 560] Fetching forks...\n",
      "✅ Found 100 forks (total: 56000)\n",
      "[Page 561] Fetching forks...\n",
      "✅ Found 100 forks (total: 56100)\n",
      "[Page 562] Fetching forks...\n",
      "✅ Found 100 forks (total: 56200)\n",
      "[Page 563] Fetching forks...\n",
      "✅ Found 100 forks (total: 56300)\n",
      "[Page 564] Fetching forks...\n",
      "✅ Found 100 forks (total: 56400)\n",
      "[Page 565] Fetching forks...\n",
      "✅ Found 100 forks (total: 56500)\n",
      "[Page 566] Fetching forks...\n",
      "✅ Found 100 forks (total: 56600)\n",
      "[Page 567] Fetching forks...\n",
      "✅ Found 100 forks (total: 56700)\n",
      "[Page 568] Fetching forks...\n",
      "✅ Found 100 forks (total: 56800)\n",
      "[Page 569] Fetching forks...\n",
      "✅ Found 100 forks (total: 56900)\n",
      "[Page 570] Fetching forks...\n",
      "✅ Found 100 forks (total: 57000)\n",
      "[Page 571] Fetching forks...\n",
      "✅ Found 100 forks (total: 57100)\n",
      "[Page 572] Fetching forks...\n",
      "✅ Found 100 forks (total: 57200)\n",
      "[Page 573] Fetching forks...\n",
      "✅ Found 100 forks (total: 57300)\n",
      "[Page 574] Fetching forks...\n",
      "✅ Found 100 forks (total: 57400)\n",
      "[Page 575] Fetching forks...\n",
      "✅ Found 100 forks (total: 57500)\n",
      "[Page 576] Fetching forks...\n",
      "✅ Found 100 forks (total: 57600)\n",
      "[Page 577] Fetching forks...\n",
      "✅ Found 100 forks (total: 57700)\n",
      "[Page 578] Fetching forks...\n",
      "✅ Found 100 forks (total: 57800)\n",
      "[Page 579] Fetching forks...\n",
      "✅ Found 100 forks (total: 57900)\n",
      "[Page 580] Fetching forks...\n",
      "✅ Found 100 forks (total: 58000)\n",
      "[Page 581] Fetching forks...\n",
      "✅ Found 100 forks (total: 58100)\n",
      "[Page 582] Fetching forks...\n",
      "✅ Found 100 forks (total: 58200)\n",
      "[Page 583] Fetching forks...\n",
      "✅ Found 100 forks (total: 58300)\n",
      "[Page 584] Fetching forks...\n",
      "✅ Found 100 forks (total: 58400)\n",
      "[Page 585] Fetching forks...\n",
      "✅ Found 100 forks (total: 58500)\n",
      "[Page 586] Fetching forks...\n",
      "✅ Found 100 forks (total: 58600)\n",
      "[Page 587] Fetching forks...\n",
      "✅ Found 100 forks (total: 58700)\n",
      "[Page 588] Fetching forks...\n",
      "✅ Found 100 forks (total: 58800)\n",
      "[Page 589] Fetching forks...\n",
      "✅ Found 100 forks (total: 58900)\n",
      "[Page 590] Fetching forks...\n",
      "✅ Found 100 forks (total: 59000)\n",
      "[Page 591] Fetching forks...\n",
      "✅ Found 100 forks (total: 59100)\n",
      "[Page 592] Fetching forks...\n",
      "✅ Found 100 forks (total: 59200)\n",
      "[Page 593] Fetching forks...\n",
      "✅ Found 100 forks (total: 59300)\n",
      "[Page 594] Fetching forks...\n",
      "✅ Found 100 forks (total: 59400)\n",
      "[Page 595] Fetching forks...\n",
      "✅ Found 100 forks (total: 59500)\n",
      "[Page 596] Fetching forks...\n",
      "✅ Found 100 forks (total: 59600)\n",
      "[Page 597] Fetching forks...\n",
      "✅ Found 100 forks (total: 59700)\n",
      "[Page 598] Fetching forks...\n",
      "✅ Found 100 forks (total: 59800)\n",
      "[Page 599] Fetching forks...\n",
      "✅ Found 100 forks (total: 59900)\n",
      "[Page 600] Fetching forks...\n",
      "✅ Found 100 forks (total: 60000)\n",
      "[Page 601] Fetching forks...\n",
      "✅ Found 100 forks (total: 60100)\n",
      "[Page 602] Fetching forks...\n",
      "✅ Found 100 forks (total: 60200)\n",
      "[Page 603] Fetching forks...\n",
      "✅ Found 100 forks (total: 60300)\n",
      "[Page 604] Fetching forks...\n",
      "✅ Found 100 forks (total: 60400)\n",
      "[Page 605] Fetching forks...\n",
      "✅ Found 100 forks (total: 60500)\n",
      "[Page 606] Fetching forks...\n",
      "✅ Found 100 forks (total: 60600)\n",
      "[Page 607] Fetching forks...\n",
      "✅ Found 100 forks (total: 60700)\n",
      "[Page 608] Fetching forks...\n",
      "✅ Found 100 forks (total: 60800)\n",
      "[Page 609] Fetching forks...\n",
      "✅ Found 100 forks (total: 60900)\n",
      "[Page 610] Fetching forks...\n",
      "✅ Found 95 forks (total: 60995)\n",
      "\n",
      "🎉 Done! Total forks collected: 60995\n"
     ]
    }
   ],
   "source": [
    "import requests\n",
    "import time\n",
    "import json\n",
    "from requests.adapters import HTTPAdapter\n",
    "from urllib3.util.retry import Retry\n",
    "\n",
    "# --- Config ---\n",
    "API_URL = \"https://api.github.com/repos/ChatGPTNextWeb/NextChat/forks\"\n",
    "HEADERS = {\"Authorization\": f\"token {GITHUB_TOKEN}\"}\n",
    "MAX_PAGES = 610\n",
    "SAVE_FILE = \"fork_names.json\"\n",
    "\n",
    "# --- Retry Setup ---\n",
    "session = requests.Session()\n",
    "retries = Retry(\n",
    "    total=5,\n",
    "    backoff_factor=2,  # exponential backoff: 1s, 2s, 4s, 8s, 16s\n",
    "    status_forcelist=[429, 500, 502, 503, 504],\n",
    "    allowed_methods=[\"GET\"]\n",
    ")\n",
    "session.mount(\"https://\", HTTPAdapter(max_retries=retries))\n",
    "\n",
    "fork_names = []\n",
    "\n",
    "for page in range(1, MAX_PAGES + 1):\n",
    "    try:\n",
    "        print(f\"[Page {page}] Fetching forks...\")\n",
    "        response = session.get(API_URL, headers=HEADERS, params={\"per_page\": 100, \"page\": page}, timeout=15)\n",
    "\n",
    "        if response.status_code != 200:\n",
    "            print(f\"⚠️  Non-200 status code: {response.status_code} - stopping\")\n",
    "            break\n",
    "\n",
    "        page_forks = response.json()\n",
    "\n",
    "        if not page_forks:\n",
    "            print(\"✅ No more forks found — ending early.\")\n",
    "            break\n",
    "\n",
    "        new_forks = [fork[\"full_name\"] for fork in page_forks]\n",
    "        fork_names.extend(new_forks)\n",
    "        print(f\"✅ Found {len(new_forks)} forks (total: {len(fork_names)})\")\n",
    "\n",
    "        # Optional: save progress\n",
    "        if page % 10 == 0:\n",
    "            with open(SAVE_FILE, \"w\") as f:\n",
    "                json.dump(fork_names, f)\n",
    "\n",
    "        # Throttle\n",
    "        time.sleep(1)\n",
    "        if page % 4 == 0:\n",
    "            time.sleep(6)\n",
    "\n",
    "    except requests.exceptions.RequestException as e:\n",
    "        print(f\"❌ Request failed on page {page}: {e}\")\n",
    "        print(\"🕒 Backing off for 30 seconds before retrying this page...\")\n",
    "        time.sleep(30)\n",
    "        continue  # try the same page again\n",
    "\n",
    "# Final save\n",
    "with open(SAVE_FILE, \"w\") as f:\n",
    "    json.dump(fork_names, f)\n",
    "\n",
    "print(f\"\\n🎉 Done! Total forks collected: {len(fork_names)}\")\n"
   ]
  },
  {
   "cell_type": "code",
   "execution_count": 9,
   "metadata": {},
   "outputs": [],
   "source": [
    "import pandas as pd\n",
    "df = pd.read_json('fork_names.json')\n",
    "fork_names = df[0].tolist()"
   ]
  },
  {
   "cell_type": "code",
   "execution_count": 21,
   "metadata": {},
   "outputs": [],
   "source": [
    "import requests\n",
    "import time\n",
    "import zipfile\n",
    "import os\n",
    "from requests.adapters import HTTPAdapter\n",
    "from urllib3.util.retry import Retry\n",
    "\n",
    "# Setup a session with retry logic\n",
    "zip_session = requests.Session()\n",
    "retries = Retry(\n",
    "    total=5,\n",
    "    backoff_factor=2,\n",
    "    status_forcelist=[429, 500, 502, 503, 504],\n",
    "    allowed_methods=[\"GET\"]\n",
    ")\n",
    "zip_session.mount(\"https://\", HTTPAdapter(max_retries=retries))\n",
    "\n",
    "def download_and_extract_zip(repo_full_name, extract_to):\n",
    "    owner, repo = repo_full_name.split(\"/\")\n",
    "    NO_HEADERS = {}  # not needed for public ZIPs\n",
    "    branches = [\"main\", \"master\"]\n",
    "\n",
    "    for branch in branches:\n",
    "        zip_url = f\"https://github.com/{owner}/{repo}/archive/refs/heads/{branch}.zip\"\n",
    "        try:\n",
    "            # print(f\"⬇️  Downloading ZIP for {repo_full_name} ({branch})...\")\n",
    "            res = zip_session.get(zip_url, headers=NO_HEADERS, stream=True, timeout=30)\n",
    "\n",
    "            if res.status_code != 200:\n",
    "                print(f\"⚠️  Could not fetch {branch}.zip for {repo_full_name} (status {res.status_code})\")\n",
    "                continue\n",
    "\n",
    "            zip_path = os.path.join(extract_to, \"repo.zip\")\n",
    "            with open(zip_path, \"wb\") as f:\n",
    "                for chunk in res.iter_content(chunk_size=8192):\n",
    "                    if chunk:\n",
    "                        f.write(chunk)\n",
    "\n",
    "            try:\n",
    "                with zipfile.ZipFile(zip_path, 'r') as zip_ref:\n",
    "                    zip_ref.extractall(extract_to)\n",
    "                # print(f\"✅ Successfully extracted {repo_full_name} ({branch})\")\n",
    "                return branch  # return the branch that worked\n",
    "            except Exception as e:\n",
    "                print(f\"❌ Failed to extract ZIP for {repo_full_name}: {e}\")\n",
    "                return None\n",
    "\n",
    "        except requests.exceptions.RequestException as e:\n",
    "            print(f\"❌ Connection error on {repo_full_name} ({branch}): {e}\")\n",
    "            print(\"🕒 Backing off for 20 seconds before retry...\")\n",
    "            time.sleep(20)\n",
    "            continue\n",
    "\n",
    "    # print(f\"❌ Failed to download any branch for {repo_full_name}\")\n",
    "    with open('repo_code_not_found.txt','a') as f:\n",
    "        f.write(f'{repo_full_name}\\n')\n",
    "\n",
    "    return None\n",
    "\n",
    "\n",
    "def search_with_ripgrep(search_root, search_string):\n",
    "    try:\n",
    "        exclude_globs = [\n",
    "            \"!*.{png,jpg,jpeg,svg,ico,webp,bmp,gif,mp4,mp3,m4a,ogg,avi,mov,mkv,flac}\",\n",
    "            \"!*.{woff,woff2,ttf,otf,pdf}\",\n",
    "            \"!*.{zip,tar.gz,tgz,rar,7z,gz,bz2,xz}\",\n",
    "            \"!*.{min.js,min.css,map,class,o,wasm,dll,exe,so}\",\n",
    "            \"!*.{lock,csv,tsv,db,sqlite,log,bak,swp,tmp}\",\n",
    "            \"!*~\",\n",
    "            \"--glob=!node_modules/**\",\n",
    "            \"--glob=!.next/**\",\n",
    "            \"--glob=!dist/**\",\n",
    "            \"--glob=!build/**\",\n",
    "            \"--glob=!coverage/**\",\n",
    "            \"--glob=!.git/**\",\n",
    "        ]\n",
    "\n",
    "        rg_command = [\n",
    "            \"rg\", \"--fixed-strings\", \"--no-heading\", \"--color\", \"never\",\n",
    "            search_string, search_root\n",
    "        ] + exclude_globs\n",
    "\n",
    "        result = subprocess.run(rg_command, capture_output=True, text=True)\n",
    "        raw_output = result.stdout.strip()\n",
    "        if not raw_output:\n",
    "            return []\n",
    "\n",
    "        file_set = set()\n",
    "        for line in raw_output.splitlines():\n",
    "            if \":\" in line:\n",
    "                abs_path, _ = line.split(\":\", 1)\n",
    "                rel_path = os.path.relpath(abs_path, search_root)\n",
    "                file_set.add(rel_path)\n",
    "\n",
    "        return sorted(file_set)\n",
    "    except Exception as e:\n",
    "        print(f\"ripgrep failed in {search_root}:\", e)\n",
    "        return []\n"
   ]
  },
  {
   "cell_type": "code",
   "execution_count": 22,
   "metadata": {},
   "outputs": [
    {
     "data": {
      "text/plain": [
       "'gitgitTrue/NextChat'"
      ]
     },
     "execution_count": 22,
     "metadata": {},
     "output_type": "execute_result"
    }
   ],
   "source": [
    "fork_names[0]"
   ]
  },
  {
   "cell_type": "code",
   "execution_count": 23,
   "metadata": {},
   "outputs": [
    {
     "name": "stdout",
     "output_type": "stream",
     "text": [
      "Found 60995 forks\n",
      "Batch: 0\n"
     ]
    },
    {
     "name": "stderr",
     "output_type": "stream",
     "text": [
      "Processing forks:  90%|█████████ | 450/500 [00:00<00:00, 1062.17it/s]"
     ]
    },
    {
     "name": "stdout",
     "output_type": "stream",
     "text": [
      "⚠️  Could not fetch main.zip for 20250315lh/NextChat (status 404)\n",
      "⚠️  Could not fetch master.zip for 20250315lh/NextChat (status 404)\n"
     ]
    },
    {
     "name": "stderr",
     "output_type": "stream",
     "text": [
      "Processing forks: 100%|██████████| 500/500 [00:00<00:00, 649.19it/s] \n"
     ]
    },
    {
     "name": "stdout",
     "output_type": "stream",
     "text": [
      "⚠️  Could not fetch main.zip for tim-coding-zero/NextChat (status 404)\n",
      "⚠️  Could not fetch master.zip for tim-coding-zero/NextChat (status 404)\n",
      "Batch: 500\n"
     ]
    },
    {
     "name": "stderr",
     "output_type": "stream",
     "text": [
      "Processing forks:   8%|▊         | 42/500 [00:00<00:03, 122.85it/s]"
     ]
    },
    {
     "name": "stdout",
     "output_type": "stream",
     "text": [
      "⚠️  Could not fetch main.zip for zhuxiaoruip/NextChat (status 404)\n",
      "⚠️  Could not fetch master.zip for zhuxiaoruip/NextChat (status 404)\n"
     ]
    },
    {
     "name": "stderr",
     "output_type": "stream",
     "text": [
      "Processing forks: 100%|██████████| 500/500 [00:00<00:00, 707.93it/s]\n"
     ]
    },
    {
     "name": "stdout",
     "output_type": "stream",
     "text": [
      "⚠️  Could not fetch main.zip for Xanthera5P/NextChat (status 404)\n",
      "⚠️  Could not fetch master.zip for Xanthera5P/NextChat (status 404)\n",
      "Batch: 1000\n"
     ]
    },
    {
     "name": "stderr",
     "output_type": "stream",
     "text": [
      "Processing forks:  25%|██▌       | 127/500 [00:00<00:00, 380.50it/s]"
     ]
    },
    {
     "name": "stdout",
     "output_type": "stream",
     "text": [
      "⚠️  Could not fetch main.zip for Waverockfeyursa/NextChat (status 404)\n",
      "⚠️  Could not fetch master.zip for Waverockfeyursa/NextChat (status 404)\n"
     ]
    },
    {
     "name": "stderr",
     "output_type": "stream",
     "text": [
      "Processing forks:  34%|███▍      | 169/500 [00:00<00:01, 234.07it/s]"
     ]
    },
    {
     "name": "stdout",
     "output_type": "stream",
     "text": [
      "⚠️  Could not fetch main.zip for 96Aesmarh2/NextChat (status 404)\n",
      "⚠️  Could not fetch master.zip for 96Aesmarh2/NextChat (status 404)\n"
     ]
    },
    {
     "name": "stderr",
     "output_type": "stream",
     "text": [
      "Processing forks:  51%|█████     | 254/500 [00:01<00:01, 219.12it/s]"
     ]
    },
    {
     "name": "stdout",
     "output_type": "stream",
     "text": [
      "⚠️  Could not fetch main.zip for tischnermavrogonatou661/NextChat (status 404)\n",
      "⚠️  Could not fetch master.zip for tischnermavrogonatou661/NextChat (status 404)\n"
     ]
    },
    {
     "name": "stderr",
     "output_type": "stream",
     "text": [
      "Processing forks:  85%|████████▍ | 424/500 [00:01<00:00, 249.90it/s]"
     ]
    },
    {
     "name": "stdout",
     "output_type": "stream",
     "text": [
      "⚠️  Could not fetch main.zip for dongsirhub/NextChat (status 404)\n",
      "⚠️  Could not fetch master.zip for dongsirhub/NextChat (status 404)\n"
     ]
    },
    {
     "name": "stderr",
     "output_type": "stream",
     "text": [
      "Processing forks: 100%|██████████| 500/500 [00:02<00:00, 247.70it/s]\n"
     ]
    },
    {
     "name": "stdout",
     "output_type": "stream",
     "text": [
      "⚠️  Could not fetch main.zip for sorvyd3O/NextChat (status 404)\n",
      "⚠️  Could not fetch master.zip for sorvyd3O/NextChat (status 404)\n",
      "Batch: 1500\n"
     ]
    },
    {
     "name": "stderr",
     "output_type": "stream",
     "text": [
      "Processing forks:   9%|▉         | 44/500 [00:00<00:03, 129.60it/s]"
     ]
    },
    {
     "name": "stdout",
     "output_type": "stream",
     "text": [
      "⚠️  Could not fetch main.zip for Halseron42I75/NextChat (status 404)\n",
      "⚠️  Could not fetch master.zip for Halseron42I75/NextChat (status 404)\n",
      "⚠️  Could not fetch main.zip for 1morzanab3/NextChat (status 404)\n"
     ]
    },
    {
     "name": "stderr",
     "output_type": "stream",
     "text": [
      "Processing forks:  13%|█▎        | 67/500 [00:00<00:04, 87.68it/s] "
     ]
    },
    {
     "name": "stdout",
     "output_type": "stream",
     "text": [
      "⚠️  Could not fetch master.zip for 1morzanab3/NextChat (status 404)\n"
     ]
    },
    {
     "name": "stderr",
     "output_type": "stream",
     "text": [
      "Processing forks:  21%|██        | 103/500 [00:01<00:05, 74.56it/s]"
     ]
    },
    {
     "name": "stdout",
     "output_type": "stream",
     "text": [
      "⚠️  Could not fetch main.zip for irvalethtw2/NextChat (status 404)\n",
      "⚠️  Could not fetch master.zip for irvalethtw2/NextChat (status 404)\n"
     ]
    },
    {
     "name": "stderr",
     "output_type": "stream",
     "text": [
      "Processing forks:  30%|███       | 151/500 [00:01<00:03, 97.22it/s]"
     ]
    },
    {
     "name": "stdout",
     "output_type": "stream",
     "text": [
      "⚠️  Could not fetch main.zip for mulladon2Q8/NextChat (status 404)\n",
      "⚠️  Could not fetch master.zip for mulladon2Q8/NextChat (status 404)\n"
     ]
    },
    {
     "name": "stderr",
     "output_type": "stream",
     "text": [
      "Processing forks:  34%|███▎      | 168/500 [00:01<00:04, 80.69it/s]"
     ]
    },
    {
     "name": "stdout",
     "output_type": "stream",
     "text": [
      "⚠️  Could not fetch main.zip for Phandrielvz92/NextChat (status 404)\n",
      "⚠️  Could not fetch master.zip for Phandrielvz92/NextChat (status 404)\n",
      "⚠️  Could not fetch main.zip for kokonomitsu/NextChat (status 404)\n"
     ]
    },
    {
     "name": "stderr",
     "output_type": "stream",
     "text": [
      "Processing forks:  39%|███▉      | 196/500 [00:02<00:03, 76.84it/s]"
     ]
    },
    {
     "name": "stdout",
     "output_type": "stream",
     "text": [
      "⚠️  Could not fetch master.zip for kokonomitsu/NextChat (status 404)\n"
     ]
    },
    {
     "name": "stderr",
     "output_type": "stream",
     "text": [
      "Processing forks:  55%|█████▍    | 274/500 [00:02<00:02, 98.52it/s]"
     ]
    },
    {
     "name": "stdout",
     "output_type": "stream",
     "text": [
      "⚠️  Could not fetch main.zip for Elyndor0u/NextChat (status 404)\n",
      "⚠️  Could not fetch master.zip for Elyndor0u/NextChat (status 404)\n"
     ]
    },
    {
     "name": "stderr",
     "output_type": "stream",
     "text": [
      "Processing forks:  61%|██████    | 304/500 [00:03<00:02, 97.10it/s]"
     ]
    },
    {
     "name": "stdout",
     "output_type": "stream",
     "text": [
      "⚠️  Could not fetch main.zip for beijixingxing/NextChat (status 404)\n",
      "⚠️  Could not fetch master.zip for beijixingxing/NextChat (status 404)\n"
     ]
    },
    {
     "name": "stderr",
     "output_type": "stream",
     "text": [
      "Processing forks:  64%|██████▍   | 320/500 [00:03<00:02, 80.75it/s]"
     ]
    },
    {
     "name": "stdout",
     "output_type": "stream",
     "text": [
      "⚠️  Could not fetch main.zip for franklin007ban2/NextChat (status 404)\n",
      "⚠️  Could not fetch master.zip for franklin007ban2/NextChat (status 404)\n"
     ]
    },
    {
     "name": "stderr",
     "output_type": "stream",
     "text": [
      "Processing forks:  77%|███████▋  | 384/500 [00:04<00:01, 109.32it/s]"
     ]
    },
    {
     "name": "stdout",
     "output_type": "stream",
     "text": [
      "⚠️  Could not fetch main.zip for bin381122/NextChat (status 404)\n",
      "⚠️  Could not fetch master.zip for bin381122/NextChat (status 404)\n"
     ]
    },
    {
     "name": "stderr",
     "output_type": "stream",
     "text": [
      "Processing forks: 100%|██████████| 500/500 [00:04<00:00, 113.05it/s]\n"
     ]
    },
    {
     "name": "stdout",
     "output_type": "stream",
     "text": [
      "⚠️  Could not fetch main.zip for Valroradnx/NextChat (status 404)\n",
      "⚠️  Could not fetch master.zip for Valroradnx/NextChat (status 404)\n",
      "Batch: 2000\n"
     ]
    },
    {
     "name": "stderr",
     "output_type": "stream",
     "text": [
      "Processing forks:   7%|▋         | 36/500 [00:00<00:04, 94.78it/s]"
     ]
    },
    {
     "name": "stdout",
     "output_type": "stream",
     "text": [
      "⚠️  Could not fetch main.zip for Danrethfendriel/NextChat (status 404)\n",
      "⚠️  Could not fetch master.zip for Danrethfendriel/NextChat (status 404)\n"
     ]
    },
    {
     "name": "stderr",
     "output_type": "stream",
     "text": [
      "Processing forks:  10%|▉         | 49/500 [00:00<00:07, 61.18it/s]"
     ]
    },
    {
     "name": "stdout",
     "output_type": "stream",
     "text": [
      "⚠️  Could not fetch main.zip for daisyqueen22/NextChat (status 404)\n",
      "⚠️  Could not fetch master.zip for daisyqueen22/NextChat (status 404)\n"
     ]
    },
    {
     "name": "stderr",
     "output_type": "stream",
     "text": [
      "Processing forks:  11%|█         | 56/500 [00:01<00:10, 41.99it/s]"
     ]
    },
    {
     "name": "stdout",
     "output_type": "stream",
     "text": [
      "⚠️  Could not fetch main.zip for Tyranely3/NextChat (status 404)\n",
      "⚠️  Could not fetch master.zip for Tyranely3/NextChat (status 404)\n"
     ]
    },
    {
     "name": "stderr",
     "output_type": "stream",
     "text": [
      "Processing forks:  40%|████      | 200/500 [00:01<00:01, 187.39it/s]"
     ]
    },
    {
     "name": "stdout",
     "output_type": "stream",
     "text": [
      "⚠️  Could not fetch main.zip for Tancredvy/NextChat (status 404)\n",
      "⚠️  Could not fetch master.zip for Tancredvy/NextChat (status 404)\n"
     ]
    },
    {
     "name": "stderr",
     "output_type": "stream",
     "text": [
      "Processing forks:  56%|█████▌    | 279/500 [00:01<00:01, 202.97it/s]"
     ]
    },
    {
     "name": "stdout",
     "output_type": "stream",
     "text": [
      "⚠️  Could not fetch main.zip for Fenric159/NextChat (status 404)\n",
      "⚠️  Could not fetch master.zip for Fenric159/NextChat (status 404)\n",
      "⚠️  Could not fetch main.zip for 1Lucas7H6/NextChat (status 404)\n"
     ]
    },
    {
     "name": "stderr",
     "output_type": "stream",
     "text": [
      "Processing forks:  80%|███████▉  | 398/500 [00:02<00:00, 246.06it/s]"
     ]
    },
    {
     "name": "stdout",
     "output_type": "stream",
     "text": [
      "⚠️  Could not fetch master.zip for 1Lucas7H6/NextChat (status 404)\n",
      "⚠️  Could not fetch main.zip for keogh575/NextChat (status 404)\n"
     ]
    },
    {
     "name": "stderr",
     "output_type": "stream",
     "text": [
      "Processing forks:  91%|█████████ | 455/500 [00:02<00:00, 219.94it/s]"
     ]
    },
    {
     "name": "stdout",
     "output_type": "stream",
     "text": [
      "⚠️  Could not fetch master.zip for keogh575/NextChat (status 404)\n",
      "⚠️  Could not fetch main.zip for kurokocchi17/NextChat (status 404)\n",
      "⚠️  Could not fetch master.zip for kurokocchi17/NextChat (status 404)\n",
      "⚠️  Could not fetch main.zip for Networkcora/NextChat (status 404)\n"
     ]
    },
    {
     "name": "stderr",
     "output_type": "stream",
     "text": [
      "Processing forks:  96%|█████████▌| 478/500 [00:03<00:00, 128.28it/s]"
     ]
    },
    {
     "name": "stdout",
     "output_type": "stream",
     "text": [
      "⚠️  Could not fetch master.zip for Networkcora/NextChat (status 404)\n",
      "⚠️  Could not fetch main.zip for hjypaek/ChatGPT-Next-Web (status 404)\n"
     ]
    },
    {
     "name": "stderr",
     "output_type": "stream",
     "text": [
      "Processing forks: 100%|██████████| 500/500 [00:03<00:00, 139.66it/s]\n"
     ]
    },
    {
     "name": "stdout",
     "output_type": "stream",
     "text": [
      "⚠️  Could not fetch master.zip for hjypaek/ChatGPT-Next-Web (status 404)\n",
      "Batch: 2500\n"
     ]
    },
    {
     "name": "stderr",
     "output_type": "stream",
     "text": [
      "Processing forks:   0%|          | 0/500 [00:00<?, ?it/s]"
     ]
    },
    {
     "name": "stdout",
     "output_type": "stream",
     "text": [
      "⚠️  Could not fetch main.zip for Onyxbelgrade/ChatGPT-Next-Web (status 404)\n"
     ]
    },
    {
     "name": "stderr",
     "output_type": "stream",
     "text": [
      "Processing forks:  16%|█▌        | 78/500 [00:00<00:02, 209.40it/s]"
     ]
    },
    {
     "name": "stdout",
     "output_type": "stream",
     "text": [
      "⚠️  Could not fetch master.zip for Onyxbelgrade/ChatGPT-Next-Web (status 404)\n",
      "⚠️  Could not fetch main.zip for Binarymoscow/ChatGPT-Next-Web (status 404)\n"
     ]
    },
    {
     "name": "stderr",
     "output_type": "stream",
     "text": [
      "Processing forks:  20%|█▉        | 99/500 [00:00<00:03, 122.07it/s]"
     ]
    },
    {
     "name": "stdout",
     "output_type": "stream",
     "text": [
      "⚠️  Could not fetch master.zip for Binarymoscow/ChatGPT-Next-Web (status 404)\n",
      "⚠️  Could not fetch main.zip for truongnguyenptn/ChatGPT-Next-Web (status 404)\n"
     ]
    },
    {
     "name": "stderr",
     "output_type": "stream",
     "text": [
      "Processing forks:  51%|█████▏    | 257/500 [00:01<00:00, 273.25it/s]"
     ]
    },
    {
     "name": "stdout",
     "output_type": "stream",
     "text": [
      "⚠️  Could not fetch master.zip for truongnguyenptn/ChatGPT-Next-Web (status 404)\n",
      "⚠️  Could not fetch main.zip for Yv0Nn3Kjf6Z3C1/ChatGPT-Next-Web (status 404)\n"
     ]
    },
    {
     "name": "stderr",
     "output_type": "stream",
     "text": [
      "Processing forks:  68%|██████▊   | 338/500 [00:01<00:00, 254.64it/s]"
     ]
    },
    {
     "name": "stdout",
     "output_type": "stream",
     "text": [
      "⚠️  Could not fetch master.zip for Yv0Nn3Kjf6Z3C1/ChatGPT-Next-Web (status 404)\n",
      "⚠️  Could not fetch main.zip for 1Mia3Guopu9/ChatGPT-Next-Web (status 404)\n"
     ]
    },
    {
     "name": "stderr",
     "output_type": "stream",
     "text": [
      "Processing forks:  80%|███████▉  | 398/500 [00:01<00:00, 220.04it/s]"
     ]
    },
    {
     "name": "stdout",
     "output_type": "stream",
     "text": [
      "⚠️  Could not fetch master.zip for 1Mia3Guopu9/ChatGPT-Next-Web (status 404)\n",
      "⚠️  Could not fetch main.zip for Williamiota/ChatGPT-Next-Web (status 404)\n"
     ]
    },
    {
     "name": "stderr",
     "output_type": "stream",
     "text": [
      "Processing forks:  84%|████████▍ | 421/500 [00:02<00:00, 163.29it/s]"
     ]
    },
    {
     "name": "stdout",
     "output_type": "stream",
     "text": [
      "⚠️  Could not fetch master.zip for Williamiota/ChatGPT-Next-Web (status 404)\n",
      "⚠️  Could not fetch main.zip for GGTMU/ChatGPT-Next-Web (status 404)\n"
     ]
    },
    {
     "name": "stderr",
     "output_type": "stream",
     "text": [
      "Processing forks: 100%|██████████| 500/500 [00:02<00:00, 195.78it/s]\n"
     ]
    },
    {
     "name": "stdout",
     "output_type": "stream",
     "text": [
      "⚠️  Could not fetch master.zip for GGTMU/ChatGPT-Next-Web (status 404)\n",
      "Batch: 3000\n"
     ]
    },
    {
     "name": "stderr",
     "output_type": "stream",
     "text": [
      "Processing forks:   0%|          | 0/500 [00:00<?, ?it/s]"
     ]
    },
    {
     "name": "stdout",
     "output_type": "stream",
     "text": [
      "⚠️  Could not fetch main.zip for Yootonn/ChatGPT-Next-Web (status 404)\n"
     ]
    },
    {
     "name": "stderr",
     "output_type": "stream",
     "text": [
      "Processing forks:   6%|▌         | 30/500 [00:00<00:05, 84.73it/s]"
     ]
    },
    {
     "name": "stdout",
     "output_type": "stream",
     "text": [
      "⚠️  Could not fetch master.zip for Yootonn/ChatGPT-Next-Web (status 404)\n",
      "⚠️  Could not fetch main.zip for dZoxottnMBX/ChatGPT-Next-Web (status 404)\n"
     ]
    },
    {
     "name": "stderr",
     "output_type": "stream",
     "text": [
      "Processing forks:  17%|█▋        | 86/500 [00:00<00:03, 128.75it/s]"
     ]
    },
    {
     "name": "stdout",
     "output_type": "stream",
     "text": [
      "⚠️  Could not fetch master.zip for dZoxottnMBX/ChatGPT-Next-Web (status 404)\n",
      "⚠️  Could not fetch main.zip for MysticDragon3352/ChatGPT-Next-Web (status 404)\n"
     ]
    },
    {
     "name": "stderr",
     "output_type": "stream",
     "text": [
      "Processing forks:  42%|████▏     | 211/500 [00:01<00:01, 221.46it/s]"
     ]
    },
    {
     "name": "stdout",
     "output_type": "stream",
     "text": [
      "⚠️  Could not fetch master.zip for MysticDragon3352/ChatGPT-Next-Web (status 404)\n"
     ]
    },
    {
     "name": "stderr",
     "output_type": "stream",
     "text": [
      "Processing forks:  47%|████▋     | 233/500 [00:01<00:01, 154.48it/s]"
     ]
    },
    {
     "name": "stdout",
     "output_type": "stream",
     "text": [
      "⚠️  Could not fetch main.zip for SilentFalcon7837/ChatGPT-Next-Web (status 404)\n",
      "⚠️  Could not fetch master.zip for SilentFalcon7837/ChatGPT-Next-Web (status 404)\n",
      "⚠️  Could not fetch main.zip for Stevie0427/ChatGPT-Next-Web (status 404)\n"
     ]
    },
    {
     "name": "stderr",
     "output_type": "stream",
     "text": [
      "Processing forks: 100%|██████████| 500/500 [00:01<00:00, 266.45it/s]\n"
     ]
    },
    {
     "name": "stdout",
     "output_type": "stream",
     "text": [
      "⚠️  Could not fetch master.zip for Stevie0427/ChatGPT-Next-Web (status 404)\n",
      "Batch: 3500\n"
     ]
    },
    {
     "name": "stderr",
     "output_type": "stream",
     "text": [
      "Processing forks:   0%|          | 0/500 [00:00<?, ?it/s]"
     ]
    },
    {
     "name": "stdout",
     "output_type": "stream",
     "text": [
      "⚠️  Could not fetch main.zip for zkfarmoor/ChatGPT-Next-Web (status 404)\n"
     ]
    },
    {
     "name": "stderr",
     "output_type": "stream",
     "text": [
      "Processing forks:  43%|████▎     | 213/500 [00:00<00:00, 610.74it/s]"
     ]
    },
    {
     "name": "stdout",
     "output_type": "stream",
     "text": [
      "⚠️  Could not fetch master.zip for zkfarmoor/ChatGPT-Next-Web (status 404)\n",
      "⚠️  Could not fetch main.zip for xDevGuru/ChatGPT-Next-Web (status 404)\n"
     ]
    },
    {
     "name": "stderr",
     "output_type": "stream",
     "text": [
      "Processing forks:  75%|███████▍  | 373/500 [00:00<00:00, 500.82it/s]"
     ]
    },
    {
     "name": "stdout",
     "output_type": "stream",
     "text": [
      "⚠️  Could not fetch master.zip for xDevGuru/ChatGPT-Next-Web (status 404)\n",
      "⚠️  Could not fetch main.zip for trifli10da/ChatGPT-Next-Web (status 404)\n"
     ]
    },
    {
     "name": "stderr",
     "output_type": "stream",
     "text": [
      "Processing forks:  85%|████████▍ | 424/500 [00:01<00:00, 343.07it/s]"
     ]
    },
    {
     "name": "stdout",
     "output_type": "stream",
     "text": [
      "⚠️  Could not fetch master.zip for trifli10da/ChatGPT-Next-Web (status 404)\n",
      "⚠️  Could not fetch main.zip for tijaydetoi/ChatGPT-Next-Web (status 404)\n"
     ]
    },
    {
     "name": "stderr",
     "output_type": "stream",
     "text": [
      "Processing forks:  92%|█████████▏| 459/500 [00:01<00:00, 227.40it/s]"
     ]
    },
    {
     "name": "stdout",
     "output_type": "stream",
     "text": [
      "⚠️  Could not fetch master.zip for tijaydetoi/ChatGPT-Next-Web (status 404)\n",
      "⚠️  Could not fetch main.zip for AlberteChristian/ChatGPT-Next-Web (status 404)\n"
     ]
    },
    {
     "name": "stderr",
     "output_type": "stream",
     "text": [
      "Processing forks: 100%|██████████| 500/500 [00:01<00:00, 268.94it/s]\n"
     ]
    },
    {
     "name": "stdout",
     "output_type": "stream",
     "text": [
      "⚠️  Could not fetch master.zip for AlberteChristian/ChatGPT-Next-Web (status 404)\n",
      "Batch: 4000\n"
     ]
    },
    {
     "name": "stderr",
     "output_type": "stream",
     "text": [
      "Processing forks:   9%|▉         | 45/500 [00:00<00:04, 110.64it/s]"
     ]
    },
    {
     "name": "stdout",
     "output_type": "stream",
     "text": [
      "⚠️  Could not fetch main.zip for thatguyspamha/ChatGPT-Next-Web (status 404)\n",
      "⚠️  Could not fetch master.zip for thatguyspamha/ChatGPT-Next-Web (status 404)\n"
     ]
    },
    {
     "name": "stderr",
     "output_type": "stream",
     "text": [
      "Processing forks:  16%|█▌        | 79/500 [00:00<00:04, 101.27it/s]"
     ]
    },
    {
     "name": "stdout",
     "output_type": "stream",
     "text": [
      "⚠️  Could not fetch main.zip for Alexius703/ChatGPT-Next-Web (status 404)\n",
      "⚠️  Could not fetch master.zip for Alexius703/ChatGPT-Next-Web (status 404)\n"
     ]
    },
    {
     "name": "stderr",
     "output_type": "stream",
     "text": [
      "Processing forks:  20%|█▉        | 99/500 [00:01<00:04, 82.24it/s] "
     ]
    },
    {
     "name": "stdout",
     "output_type": "stream",
     "text": [
      "⚠️  Could not fetch main.zip for vHP781Z1qui/ChatGPT-Next-Web (status 404)\n",
      "⚠️  Could not fetch master.zip for vHP781Z1qui/ChatGPT-Next-Web (status 404)\n"
     ]
    },
    {
     "name": "stderr",
     "output_type": "stream",
     "text": [
      "Processing forks:  50%|█████     | 252/500 [00:01<00:01, 210.48it/s]"
     ]
    },
    {
     "name": "stdout",
     "output_type": "stream",
     "text": [
      "⚠️  Could not fetch main.zip for tav537/ChatGPT-Next-Web (status 404)\n",
      "⚠️  Could not fetch master.zip for tav537/ChatGPT-Next-Web (status 404)\n"
     ]
    },
    {
     "name": "stderr",
     "output_type": "stream",
     "text": [
      "Processing forks:  63%|██████▎   | 313/500 [00:01<00:00, 197.27it/s]"
     ]
    },
    {
     "name": "stdout",
     "output_type": "stream",
     "text": [
      "⚠️  Could not fetch main.zip for fdkvmfi/ChatGPT-Next-Web (status 404)\n",
      "⚠️  Could not fetch master.zip for fdkvmfi/ChatGPT-Next-Web (status 404)\n"
     ]
    },
    {
     "name": "stderr",
     "output_type": "stream",
     "text": [
      "Processing forks:  67%|██████▋   | 333/500 [00:02<00:01, 147.21it/s]"
     ]
    },
    {
     "name": "stdout",
     "output_type": "stream",
     "text": [
      "⚠️  Could not fetch main.zip for nfnhyd6/ChatGPT-Next-Web (status 404)\n",
      "⚠️  Could not fetch master.zip for nfnhyd6/ChatGPT-Next-Web (status 404)\n"
     ]
    },
    {
     "name": "stderr",
     "output_type": "stream",
     "text": [
      "Processing forks:  70%|██████▉   | 348/500 [00:02<00:01, 114.52it/s]"
     ]
    },
    {
     "name": "stdout",
     "output_type": "stream",
     "text": [
      "⚠️  Could not fetch main.zip for lattaai1/ChatGPTNextWeb-ChatGPT-Next-Web-5750 (status 404)\n",
      "⚠️  Could not fetch master.zip for lattaai1/ChatGPTNextWeb-ChatGPT-Next-Web-5750 (status 404)\n",
      "⚠️  Could not fetch main.zip for BVFBcx154/ChatGPT-Next-Web (status 404)\n",
      "⚠️  Could not fetch master.zip for BVFBcx154/ChatGPT-Next-Web (status 404)\n"
     ]
    },
    {
     "name": "stderr",
     "output_type": "stream",
     "text": [
      "Processing forks:  87%|████████▋ | 434/500 [00:03<00:00, 117.32it/s]"
     ]
    },
    {
     "name": "stdout",
     "output_type": "stream",
     "text": [
      "⚠️  Could not fetch main.zip for WilsonAmelia/ChatGPT-Next-Web (status 404)\n",
      "⚠️  Could not fetch master.zip for WilsonAmelia/ChatGPT-Next-Web (status 404)\n"
     ]
    },
    {
     "name": "stderr",
     "output_type": "stream",
     "text": [
      "Processing forks:  98%|█████████▊| 490/500 [00:03<00:00, 130.84it/s]"
     ]
    },
    {
     "name": "stdout",
     "output_type": "stream",
     "text": [
      "⚠️  Could not fetch main.zip for gitvup/ChatGPT-Next-Web (status 404)\n",
      "⚠️  Could not fetch master.zip for gitvup/ChatGPT-Next-Web (status 404)\n"
     ]
    },
    {
     "name": "stderr",
     "output_type": "stream",
     "text": [
      "Processing forks: 100%|██████████| 500/500 [00:04<00:00, 123.66it/s]\n"
     ]
    },
    {
     "name": "stdout",
     "output_type": "stream",
     "text": [
      "⚠️  Could not fetch main.zip for gitcvcc/ChatGPT-Next-Web (status 404)\n",
      "⚠️  Could not fetch master.zip for gitcvcc/ChatGPT-Next-Web (status 404)\n",
      "Batch: 4500\n"
     ]
    },
    {
     "name": "stderr",
     "output_type": "stream",
     "text": [
      "Processing forks:   6%|▌         | 30/500 [00:00<00:05, 85.96it/s]"
     ]
    },
    {
     "name": "stdout",
     "output_type": "stream",
     "text": [
      "⚠️  Could not fetch main.zip for merritt-gonzalez934/ChatGPT-Next-Web (status 404)\n",
      "⚠️  Could not fetch master.zip for merritt-gonzalez934/ChatGPT-Next-Web (status 404)\n"
     ]
    },
    {
     "name": "stderr",
     "output_type": "stream",
     "text": [
      "Processing forks:  44%|████▍     | 222/500 [00:00<00:00, 336.32it/s]"
     ]
    },
    {
     "name": "stdout",
     "output_type": "stream",
     "text": [
      "⚠️  Could not fetch main.zip for GsyLocal/ChatGPT-Next-Web (status 404)\n",
      "⚠️  Could not fetch master.zip for GsyLocal/ChatGPT-Next-Web (status 404)\n"
     ]
    },
    {
     "name": "stderr",
     "output_type": "stream",
     "text": [
      "Processing forks:  51%|█████     | 255/500 [00:01<00:01, 228.34it/s]"
     ]
    },
    {
     "name": "stdout",
     "output_type": "stream",
     "text": [
      "⚠️  Could not fetch main.zip for adminvia/ChatGPT-Next-Web (status 404)\n",
      "⚠️  Could not fetch master.zip for adminvia/ChatGPT-Next-Web (status 404)\n"
     ]
    },
    {
     "name": "stderr",
     "output_type": "stream",
     "text": [
      "Processing forks:  57%|█████▋    | 283/500 [00:01<00:01, 171.15it/s]"
     ]
    },
    {
     "name": "stdout",
     "output_type": "stream",
     "text": [
      "⚠️  Could not fetch main.zip for ridhofirmansyh/medspace-ai (status 404)\n",
      "⚠️  Could not fetch master.zip for ridhofirmansyh/medspace-ai (status 404)\n"
     ]
    },
    {
     "name": "stderr",
     "output_type": "stream",
     "text": [
      "Processing forks: 100%|██████████| 500/500 [00:01<00:00, 274.33it/s]"
     ]
    },
    {
     "name": "stdout",
     "output_type": "stream",
     "text": [
      "⚠️  Could not fetch main.zip for MehulShan/ChatGPT-Next-Web (status 404)\n",
      "⚠️  Could not fetch master.zip for MehulShan/ChatGPT-Next-Web (status 404)\n"
     ]
    },
    {
     "name": "stderr",
     "output_type": "stream",
     "text": [
      "\n"
     ]
    },
    {
     "name": "stdout",
     "output_type": "stream",
     "text": [
      "Batch: 5000\n"
     ]
    },
    {
     "name": "stderr",
     "output_type": "stream",
     "text": [
      "Processing forks:   0%|          | 0/500 [00:00<?, ?it/s]"
     ]
    },
    {
     "name": "stdout",
     "output_type": "stream",
     "text": [
      "⚠️  Could not fetch main.zip for OmiduAnjane/gptwebacces (status 404)\n"
     ]
    },
    {
     "name": "stderr",
     "output_type": "stream",
     "text": [
      "Processing forks:  31%|███       | 156/500 [00:00<00:00, 421.74it/s]"
     ]
    },
    {
     "name": "stdout",
     "output_type": "stream",
     "text": [
      "⚠️  Could not fetch master.zip for OmiduAnjane/gptwebacces (status 404)\n",
      "⚠️  Could not fetch main.zip for oldvisions/ChatGPT-Next-Web (status 404)\n"
     ]
    },
    {
     "name": "stderr",
     "output_type": "stream",
     "text": [
      "Processing forks:  51%|█████▏    | 257/500 [00:00<00:00, 312.03it/s]"
     ]
    },
    {
     "name": "stdout",
     "output_type": "stream",
     "text": [
      "⚠️  Could not fetch master.zip for oldvisions/ChatGPT-Next-Web (status 404)\n",
      "⚠️  Could not fetch main.zip for CASIBOM-TURKIYE/ChatGPT-Next-Web (status 404)\n"
     ]
    },
    {
     "name": "stderr",
     "output_type": "stream",
     "text": [
      "Processing forks:  58%|█████▊    | 289/500 [00:01<00:00, 213.74it/s]"
     ]
    },
    {
     "name": "stdout",
     "output_type": "stream",
     "text": [
      "⚠️  Could not fetch master.zip for CASIBOM-TURKIYE/ChatGPT-Next-Web (status 404)\n",
      "⚠️  Could not fetch main.zip for tapioca84/ChatGPT-Next-Web (status 404)\n"
     ]
    },
    {
     "name": "stderr",
     "output_type": "stream",
     "text": [
      "Processing forks:  93%|█████████▎| 465/500 [00:01<00:00, 315.36it/s]"
     ]
    },
    {
     "name": "stdout",
     "output_type": "stream",
     "text": [
      "⚠️  Could not fetch master.zip for tapioca84/ChatGPT-Next-Web (status 404)\n",
      "⚠️  Could not fetch main.zip for vanriteoout/ChatGPT-Next-Web (status 404)\n",
      "⚠️  Could not fetch master.zip for vanriteoout/ChatGPT-Next-Web (status 404)\n",
      "⚠️  Could not fetch main.zip for DorcasLewis/ChatGPT-Next-Web (status 404)\n",
      "⚠️  Could not fetch master.zip for DorcasLewis/ChatGPT-Next-Web (status 404)\n"
     ]
    },
    {
     "name": "stderr",
     "output_type": "stream",
     "text": [
      "Processing forks: 100%|██████████| 500/500 [00:02<00:00, 175.38it/s]\n"
     ]
    },
    {
     "name": "stdout",
     "output_type": "stream",
     "text": [
      "⚠️  Could not fetch main.zip for tzukanoffandrei1972/ChatGPT-Next-Web (status 404)\n",
      "⚠️  Could not fetch master.zip for tzukanoffandrei1972/ChatGPT-Next-Web (status 404)\n",
      "Batch: 5500\n"
     ]
    },
    {
     "name": "stderr",
     "output_type": "stream",
     "text": [
      "Processing forks:   0%|          | 0/500 [00:00<?, ?it/s]"
     ]
    },
    {
     "name": "stdout",
     "output_type": "stream",
     "text": [
      "⚠️  Could not fetch main.zip for tvtvhw2ry/ChatGPT-Next-Web (status 404)\n"
     ]
    },
    {
     "name": "stderr",
     "output_type": "stream",
     "text": [
      "Processing forks:  10%|█         | 50/500 [00:00<00:05, 77.92it/s]"
     ]
    },
    {
     "name": "stdout",
     "output_type": "stream",
     "text": [
      "⚠️  Could not fetch master.zip for tvtvhw2ry/ChatGPT-Next-Web (status 404)\n",
      "⚠️  Could not fetch main.zip for BryantNaquin/ChatGPT-Next-Web (status 404)\n"
     ]
    },
    {
     "name": "stderr",
     "output_type": "stream",
     "text": [
      "Processing forks:  14%|█▍        | 71/500 [00:00<00:06, 70.14it/s]"
     ]
    },
    {
     "name": "stdout",
     "output_type": "stream",
     "text": [
      "⚠️  Could not fetch master.zip for BryantNaquin/ChatGPT-Next-Web (status 404)\n",
      "⚠️  Could not fetch main.zip for unlvjoemi/ChatGPT-Next-Web (status 404)\n"
     ]
    },
    {
     "name": "stderr",
     "output_type": "stream",
     "text": [
      "Processing forks:  16%|█▌        | 78/500 [00:01<00:08, 50.18it/s]"
     ]
    },
    {
     "name": "stdout",
     "output_type": "stream",
     "text": [
      "⚠️  Could not fetch master.zip for unlvjoemi/ChatGPT-Next-Web (status 404)\n",
      "⚠️  Could not fetch main.zip for yawlgofflic/ChatGPT-Next-Web (status 404)\n"
     ]
    },
    {
     "name": "stderr",
     "output_type": "stream",
     "text": [
      "Processing forks:  18%|█▊        | 91/500 [00:01<00:09, 43.38it/s]"
     ]
    },
    {
     "name": "stdout",
     "output_type": "stream",
     "text": [
      "⚠️  Could not fetch master.zip for yawlgofflic/ChatGPT-Next-Web (status 404)\n",
      "⚠️  Could not fetch main.zip for thatlwrkwes/ChatGPT-Next-Web (status 404)\n"
     ]
    },
    {
     "name": "stderr",
     "output_type": "stream",
     "text": [
      "Processing forks:  19%|█▉        | 96/500 [00:02<00:11, 34.67it/s]"
     ]
    },
    {
     "name": "stdout",
     "output_type": "stream",
     "text": [
      "⚠️  Could not fetch master.zip for thatlwrkwes/ChatGPT-Next-Web (status 404)\n",
      "⚠️  Could not fetch main.zip for yiqideren/ChatGPT-Next-Web---ChatGPT-Gemini- (status 404)\n"
     ]
    },
    {
     "name": "stderr",
     "output_type": "stream",
     "text": [
      "Processing forks:  26%|██▋       | 132/500 [00:02<00:06, 57.08it/s]"
     ]
    },
    {
     "name": "stdout",
     "output_type": "stream",
     "text": [
      "⚠️  Could not fetch master.zip for yiqideren/ChatGPT-Next-Web---ChatGPT-Gemini- (status 404)\n",
      "⚠️  Could not fetch main.zip for kugoya/ChatGPT-Next-Web (status 404)\n"
     ]
    },
    {
     "name": "stderr",
     "output_type": "stream",
     "text": [
      "Processing forks:  31%|███       | 153/500 [00:02<00:06, 57.33it/s]"
     ]
    },
    {
     "name": "stdout",
     "output_type": "stream",
     "text": [
      "⚠️  Could not fetch master.zip for kugoya/ChatGPT-Next-Web (status 404)\n",
      "⚠️  Could not fetch main.zip for W217072593/ChatGPT-Next-Web (status 404)\n"
     ]
    },
    {
     "name": "stderr",
     "output_type": "stream",
     "text": [
      "Processing forks:  78%|███████▊  | 389/500 [00:03<00:00, 249.76it/s]"
     ]
    },
    {
     "name": "stdout",
     "output_type": "stream",
     "text": [
      "⚠️  Could not fetch master.zip for W217072593/ChatGPT-Next-Web (status 404)\n",
      "⚠️  Could not fetch main.zip for ffmpegd/ChatGPT-Next-Web (status 404)\n"
     ]
    },
    {
     "name": "stderr",
     "output_type": "stream",
     "text": [
      "Processing forks:  88%|████████▊ | 440/500 [00:03<00:00, 204.16it/s]"
     ]
    },
    {
     "name": "stdout",
     "output_type": "stream",
     "text": [
      "⚠️  Could not fetch master.zip for ffmpegd/ChatGPT-Next-Web (status 404)\n",
      "⚠️  Could not fetch main.zip for heiisows/ChatGPT-Next-Web (status 404)\n"
     ]
    },
    {
     "name": "stderr",
     "output_type": "stream",
     "text": [
      "Processing forks: 100%|██████████| 500/500 [00:03<00:00, 127.35it/s]\n"
     ]
    },
    {
     "name": "stdout",
     "output_type": "stream",
     "text": [
      "⚠️  Could not fetch master.zip for heiisows/ChatGPT-Next-Web (status 404)\n",
      "Batch: 6000\n"
     ]
    },
    {
     "name": "stderr",
     "output_type": "stream",
     "text": [
      "Processing forks:   0%|          | 0/500 [00:00<?, ?it/s]"
     ]
    },
    {
     "name": "stdout",
     "output_type": "stream",
     "text": [
      "⚠️  Could not fetch main.zip for Vape-All-Days/ChatGPT-Next-Web (status 404)\n"
     ]
    },
    {
     "name": "stderr",
     "output_type": "stream",
     "text": [
      "Processing forks:  15%|█▌        | 77/500 [00:00<00:02, 203.92it/s]"
     ]
    },
    {
     "name": "stdout",
     "output_type": "stream",
     "text": [
      "⚠️  Could not fetch master.zip for Vape-All-Days/ChatGPT-Next-Web (status 404)\n",
      "⚠️  Could not fetch main.zip for Mer974480linDeQuincey/ChatGPT-Next-Web (status 404)\n"
     ]
    },
    {
     "name": "stderr",
     "output_type": "stream",
     "text": [
      "Processing forks:  28%|██▊       | 140/500 [00:00<00:01, 186.62it/s]"
     ]
    },
    {
     "name": "stdout",
     "output_type": "stream",
     "text": [
      "⚠️  Could not fetch master.zip for Mer974480linDeQuincey/ChatGPT-Next-Web (status 404)\n",
      "⚠️  Could not fetch main.zip for ocowlvl/ChatGPT-Next-Web (status 404)\n"
     ]
    },
    {
     "name": "stderr",
     "output_type": "stream",
     "text": [
      "Processing forks:  32%|███▏      | 159/500 [00:01<00:02, 120.66it/s]"
     ]
    },
    {
     "name": "stdout",
     "output_type": "stream",
     "text": [
      "⚠️  Could not fetch master.zip for ocowlvl/ChatGPT-Next-Web (status 404)\n",
      "⚠️  Could not fetch main.zip for inhadomaya/ChatGPT-Next-Web (status 404)\n"
     ]
    },
    {
     "name": "stderr",
     "output_type": "stream",
     "text": [
      "Processing forks:  37%|███▋      | 183/500 [00:01<00:03, 101.69it/s]"
     ]
    },
    {
     "name": "stdout",
     "output_type": "stream",
     "text": [
      "⚠️  Could not fetch master.zip for inhadomaya/ChatGPT-Next-Web (status 404)\n",
      "⚠️  Could not fetch main.zip for alltobework/VIP-Web (status 404)\n",
      "⚠️  Could not fetch master.zip for alltobework/VIP-Web (status 404)\n"
     ]
    },
    {
     "name": "stderr",
     "output_type": "stream",
     "text": [
      "Processing forks:  39%|███▉      | 194/500 [00:02<00:06, 48.23it/s] "
     ]
    },
    {
     "name": "stdout",
     "output_type": "stream",
     "text": [
      "⚠️  Could not fetch main.zip for umcdoda/ChatGPT-Next-Web (status 404)\n",
      "⚠️  Could not fetch master.zip for umcdoda/ChatGPT-Next-Web (status 404)\n"
     ]
    },
    {
     "name": "stderr",
     "output_type": "stream",
     "text": [
      "Processing forks:  58%|█████▊    | 292/500 [00:02<00:02, 103.04it/s]"
     ]
    },
    {
     "name": "stdout",
     "output_type": "stream",
     "text": [
      "⚠️  Could not fetch main.zip for ktori77/ChatGPT-Next-Web (status 404)\n",
      "⚠️  Could not fetch master.zip for ktori77/ChatGPT-Next-Web (status 404)\n"
     ]
    },
    {
     "name": "stderr",
     "output_type": "stream",
     "text": [
      "Processing forks:  61%|██████    | 306/500 [00:03<00:02, 87.11it/s] "
     ]
    },
    {
     "name": "stdout",
     "output_type": "stream",
     "text": [
      "⚠️  Could not fetch main.zip for noreena2/ChatGPT-Next-Web (status 404)\n",
      "⚠️  Could not fetch master.zip for noreena2/ChatGPT-Next-Web (status 404)\n",
      "⚠️  Could not fetch main.zip for EXEthereum/ChatGPT-Next-Web (status 404)\n",
      "⚠️  Could not fetch master.zip for EXEthereum/ChatGPT-Next-Web (status 404)\n"
     ]
    },
    {
     "name": "stderr",
     "output_type": "stream",
     "text": [
      "Processing forks:  71%|███████   | 356/500 [00:03<00:01, 99.07it/s]"
     ]
    },
    {
     "name": "stdout",
     "output_type": "stream",
     "text": [
      "⚠️  Could not fetch main.zip for omindudev/ChatGPT-Next-Web (status 404)\n",
      "⚠️  Could not fetch master.zip for omindudev/ChatGPT-Next-Web (status 404)\n",
      "⚠️  Could not fetch main.zip for Alex009-svg/ChatGPT-Next-Web (status 404)\n",
      "⚠️  Could not fetch master.zip for Alex009-svg/ChatGPT-Next-Web (status 404)\n"
     ]
    },
    {
     "name": "stderr",
     "output_type": "stream",
     "text": [
      "Processing forks:  74%|███████▎  | 368/500 [00:04<00:02, 52.35it/s]"
     ]
    },
    {
     "name": "stdout",
     "output_type": "stream",
     "text": [
      "⚠️  Could not fetch main.zip for kirito393/ChatGPT-Next-Web (status 404)\n",
      "⚠️  Could not fetch master.zip for kirito393/ChatGPT-Next-Web (status 404)\n"
     ]
    },
    {
     "name": "stderr",
     "output_type": "stream",
     "text": [
      "Processing forks: 100%|██████████| 500/500 [00:05<00:00, 98.87it/s]\n"
     ]
    },
    {
     "name": "stdout",
     "output_type": "stream",
     "text": [
      "⚠️  Could not fetch main.zip for yshcb5188/ChatGPT-Next-Web (status 404)\n",
      "⚠️  Could not fetch master.zip for yshcb5188/ChatGPT-Next-Web (status 404)\n",
      "Batch: 6500\n"
     ]
    },
    {
     "name": "stderr",
     "output_type": "stream",
     "text": [
      "Processing forks:  30%|██▉       | 148/500 [00:00<00:00, 400.90it/s]"
     ]
    },
    {
     "name": "stdout",
     "output_type": "stream",
     "text": [
      "⚠️  Could not fetch main.zip for dawei321/ChatGPT-Next-Web (status 404)\n",
      "⚠️  Could not fetch master.zip for dawei321/ChatGPT-Next-Web (status 404)\n",
      "⚠️  Could not fetch main.zip for zhang5jm/ChatGPT-Next-Web (status 404)\n",
      "⚠️  Could not fetch master.zip for zhang5jm/ChatGPT-Next-Web (status 404)\n",
      "⚠️  Could not fetch main.zip for aidbisbsejb/ChatGPT-Next-Web (status 404)\n",
      "⚠️  Could not fetch master.zip for aidbisbsejb/ChatGPT-Next-Web (status 404)\n",
      "⚠️  Could not fetch main.zip for eidvidbdb/ChatGPT-Next-Web (status 404)\n"
     ]
    },
    {
     "name": "stderr",
     "output_type": "stream",
     "text": [
      "Processing forks:  38%|███▊      | 189/500 [00:01<00:02, 106.99it/s]"
     ]
    },
    {
     "name": "stdout",
     "output_type": "stream",
     "text": [
      "⚠️  Could not fetch master.zip for eidvidbdb/ChatGPT-Next-Web (status 404)\n",
      "⚠️  Could not fetch main.zip for terrbear07/ChatGPT-Next-Web (status 404)\n"
     ]
    },
    {
     "name": "stderr",
     "output_type": "stream",
     "text": [
      "Processing forks:  54%|█████▍    | 271/500 [00:01<00:01, 138.87it/s]"
     ]
    },
    {
     "name": "stdout",
     "output_type": "stream",
     "text": [
      "⚠️  Could not fetch master.zip for terrbear07/ChatGPT-Next-Web (status 404)\n"
     ]
    },
    {
     "name": "stderr",
     "output_type": "stream",
     "text": [
      "Processing forks:  70%|███████   | 352/500 [00:02<00:01, 135.83it/s]"
     ]
    },
    {
     "name": "stdout",
     "output_type": "stream",
     "text": [
      "⚠️  Could not fetch main.zip for Testgrehtion939/ChatGPT-Next-Web (status 404)\n",
      "⚠️  Could not fetch master.zip for Testgrehtion939/ChatGPT-Next-Web (status 404)\n"
     ]
    },
    {
     "name": "stderr",
     "output_type": "stream",
     "text": [
      "Processing forks:  77%|███████▋  | 387/500 [00:02<00:00, 128.13it/s]"
     ]
    },
    {
     "name": "stdout",
     "output_type": "stream",
     "text": [
      "⚠️  Could not fetch main.zip for faizal553/ChatGPT-Next-Web (status 404)\n",
      "⚠️  Could not fetch master.zip for faizal553/ChatGPT-Next-Web (status 404)\n"
     ]
    },
    {
     "name": "stderr",
     "output_type": "stream",
     "text": [
      "Processing forks:  95%|█████████▌| 476/500 [00:03<00:00, 163.00it/s]"
     ]
    },
    {
     "name": "stdout",
     "output_type": "stream",
     "text": [
      "⚠️  Could not fetch main.zip for alltobebettercollege/ChatGPT-Next-Web (status 404)\n",
      "⚠️  Could not fetch master.zip for alltobebettercollege/ChatGPT-Next-Web (status 404)\n",
      "⚠️  Could not fetch main.zip for LeeYouRan/ChatGPT-Next-Web (status 404)\n",
      "⚠️  Could not fetch master.zip for LeeYouRan/ChatGPT-Next-Web (status 404)\n"
     ]
    },
    {
     "name": "stderr",
     "output_type": "stream",
     "text": [
      "Processing forks:  99%|█████████▉| 495/500 [00:03<00:00, 101.88it/s]"
     ]
    },
    {
     "name": "stdout",
     "output_type": "stream",
     "text": [
      "⚠️  Could not fetch main.zip for tejaswctx/ChatGPT-Next-Web (status 404)\n",
      "⚠️  Could not fetch master.zip for tejaswctx/ChatGPT-Next-Web (status 404)\n",
      "⚠️  Could not fetch main.zip for the-man012001gue/ChatGPT-Next-Web (status 404)\n"
     ]
    },
    {
     "name": "stderr",
     "output_type": "stream",
     "text": [
      "Processing forks: 100%|██████████| 500/500 [00:04<00:00, 117.17it/s]\n"
     ]
    },
    {
     "name": "stdout",
     "output_type": "stream",
     "text": [
      "⚠️  Could not fetch master.zip for the-man012001gue/ChatGPT-Next-Web (status 404)\n",
      "Batch: 7000\n"
     ]
    },
    {
     "name": "stderr",
     "output_type": "stream",
     "text": [
      "Processing forks:   0%|          | 0/500 [00:00<?, ?it/s]"
     ]
    },
    {
     "name": "stdout",
     "output_type": "stream",
     "text": [
      "⚠️  Could not fetch main.zip for lt227/ChatGPT-Next-Web (status 404)\n"
     ]
    },
    {
     "name": "stderr",
     "output_type": "stream",
     "text": [
      "Processing forks:   3%|▎         | 13/500 [00:00<00:12, 37.96it/s]"
     ]
    },
    {
     "name": "stdout",
     "output_type": "stream",
     "text": [
      "⚠️  Could not fetch master.zip for lt227/ChatGPT-Next-Web (status 404)\n",
      "⚠️  Could not fetch main.zip for GJFGJUFGJ/ChatGPT-Next-Web (status 404)\n"
     ]
    },
    {
     "name": "stderr",
     "output_type": "stream",
     "text": [
      "Processing forks:   6%|▌         | 29/500 [00:00<00:11, 41.19it/s]"
     ]
    },
    {
     "name": "stdout",
     "output_type": "stream",
     "text": [
      "⚠️  Could not fetch master.zip for GJFGJUFGJ/ChatGPT-Next-Web (status 404)\n",
      "⚠️  Could not fetch main.zip for gaocheng12344/ChatGPT-Next-Web (status 404)\n"
     ]
    },
    {
     "name": "stderr",
     "output_type": "stream",
     "text": [
      "Processing forks:   7%|▋         | 34/500 [00:01<00:15, 29.27it/s]"
     ]
    },
    {
     "name": "stdout",
     "output_type": "stream",
     "text": [
      "⚠️  Could not fetch master.zip for gaocheng12344/ChatGPT-Next-Web (status 404)\n",
      "⚠️  Could not fetch main.zip for lkxnmsu/ChatGPT-Next-Web (status 404)\n"
     ]
    },
    {
     "name": "stderr",
     "output_type": "stream",
     "text": [
      "Processing forks:   8%|▊         | 38/500 [00:01<00:20, 22.46it/s]"
     ]
    },
    {
     "name": "stdout",
     "output_type": "stream",
     "text": [
      "⚠️  Could not fetch master.zip for lkxnmsu/ChatGPT-Next-Web (status 404)\n",
      "⚠️  Could not fetch main.zip for lkxuc/ChatGPT-Next-Web (status 404)\n"
     ]
    },
    {
     "name": "stderr",
     "output_type": "stream",
     "text": [
      "Processing forks:  10%|█         | 51/500 [00:01<00:16, 27.67it/s]"
     ]
    },
    {
     "name": "stdout",
     "output_type": "stream",
     "text": [
      "⚠️  Could not fetch master.zip for lkxuc/ChatGPT-Next-Web (status 404)\n",
      "⚠️  Could not fetch main.zip for onlyforbakup/ChatGPT-Next-Web (status 404)\n"
     ]
    },
    {
     "name": "stderr",
     "output_type": "stream",
     "text": [
      "Processing forks:  12%|█▏        | 61/500 [00:02<00:15, 27.88it/s]"
     ]
    },
    {
     "name": "stdout",
     "output_type": "stream",
     "text": [
      "⚠️  Could not fetch master.zip for onlyforbakup/ChatGPT-Next-Web (status 404)\n",
      "⚠️  Could not fetch main.zip for SYGPYY/ChatGPT-Next-Web (status 404)\n"
     ]
    },
    {
     "name": "stderr",
     "output_type": "stream",
     "text": [
      "Processing forks:  14%|█▍        | 69/500 [00:02<00:16, 26.09it/s]"
     ]
    },
    {
     "name": "stdout",
     "output_type": "stream",
     "text": [
      "⚠️  Could not fetch master.zip for SYGPYY/ChatGPT-Next-Web (status 404)\n",
      "⚠️  Could not fetch main.zip for 469826336/ChatGPT-Next-Web (status 404)\n"
     ]
    },
    {
     "name": "stderr",
     "output_type": "stream",
     "text": [
      "Processing forks:  29%|██▉       | 146/500 [00:02<00:03, 89.03it/s]"
     ]
    },
    {
     "name": "stdout",
     "output_type": "stream",
     "text": [
      "⚠️  Could not fetch master.zip for 469826336/ChatGPT-Next-Web (status 404)\n",
      "⚠️  Could not fetch main.zip for ELONISEVIL/ChatGPT-Next-Web (status 404)\n"
     ]
    },
    {
     "name": "stderr",
     "output_type": "stream",
     "text": [
      "Processing forks:  46%|████▌     | 228/500 [00:03<00:02, 133.05it/s]"
     ]
    },
    {
     "name": "stdout",
     "output_type": "stream",
     "text": [
      "⚠️  Could not fetch master.zip for ELONISEVIL/ChatGPT-Next-Web (status 404)\n",
      "⚠️  Could not fetch main.zip for xinkain/ChatGPT-Next-Web (status 404)\n"
     ]
    },
    {
     "name": "stderr",
     "output_type": "stream",
     "text": [
      "Processing forks: 100%|██████████| 500/500 [00:03<00:00, 141.49it/s]"
     ]
    },
    {
     "name": "stdout",
     "output_type": "stream",
     "text": [
      "⚠️  Could not fetch master.zip for xinkain/ChatGPT-Next-Web (status 404)\n",
      "Batch: 7500\n"
     ]
    },
    {
     "name": "stderr",
     "output_type": "stream",
     "text": [
      "\n",
      "Processing forks:   0%|          | 1/500 [00:00<03:22,  2.47it/s]"
     ]
    },
    {
     "name": "stdout",
     "output_type": "stream",
     "text": [
      "⚠️  Could not fetch main.zip for elliotsniperccmain/ChatGPT-Next-Web (status 404)\n",
      "⚠️  Could not fetch master.zip for elliotsniperccmain/ChatGPT-Next-Web (status 404)\n"
     ]
    },
    {
     "name": "stderr",
     "output_type": "stream",
     "text": [
      "Processing forks:  18%|█▊        | 90/500 [00:00<00:02, 139.84it/s]"
     ]
    },
    {
     "name": "stdout",
     "output_type": "stream",
     "text": [
      "⚠️  Could not fetch main.zip for Brutal-Magnate/ChatGPT-Next-Web (status 404)\n",
      "⚠️  Could not fetch master.zip for Brutal-Magnate/ChatGPT-Next-Web (status 404)\n"
     ]
    },
    {
     "name": "stderr",
     "output_type": "stream",
     "text": [
      "Processing forks:  33%|███▎      | 165/500 [00:01<00:01, 170.25it/s]"
     ]
    },
    {
     "name": "stdout",
     "output_type": "stream",
     "text": [
      "⚠️  Could not fetch main.zip for yyyzzzxx/ChatGPT-Next-Web (status 404)\n",
      "⚠️  Could not fetch master.zip for yyyzzzxx/ChatGPT-Next-Web (status 404)\n",
      "⚠️  Could not fetch main.zip for yyyyzzzqqq/ChatGPT-Next-Web (status 404)\n",
      "⚠️  Could not fetch master.zip for yyyyzzzqqq/ChatGPT-Next-Web (status 404)\n",
      "⚠️  Could not fetch main.zip for yzzqqq/ChatGPT-Next-Web (status 404)\n",
      "⚠️  Could not fetch master.zip for yzzqqq/ChatGPT-Next-Web (status 404)\n",
      "⚠️  Could not fetch main.zip for yyyzzzqqq97/ChatGPT-Next-Web (status 404)\n",
      "⚠️  Could not fetch master.zip for yyyzzzqqq97/ChatGPT-Next-Web (status 404)\n"
     ]
    },
    {
     "name": "stderr",
     "output_type": "stream",
     "text": [
      "Processing forks:  37%|███▋      | 183/500 [00:02<00:06, 51.89it/s] "
     ]
    },
    {
     "name": "stdout",
     "output_type": "stream",
     "text": [
      "⚠️  Could not fetch main.zip for YZQ970103/ChatGPT-Next-Web (status 404)\n",
      "⚠️  Could not fetch master.zip for YZQ970103/ChatGPT-Next-Web (status 404)\n"
     ]
    },
    {
     "name": "stderr",
     "output_type": "stream",
     "text": [
      "Processing forks:  39%|███▉      | 195/500 [00:03<00:06, 48.66it/s]"
     ]
    },
    {
     "name": "stdout",
     "output_type": "stream",
     "text": [
      "⚠️  Could not fetch main.zip for nhinhipham-busi/ChatGPT-Next-Web (status 404)\n",
      "⚠️  Could not fetch master.zip for nhinhipham-busi/ChatGPT-Next-Web (status 404)\n"
     ]
    },
    {
     "name": "stderr",
     "output_type": "stream",
     "text": [
      "Processing forks:  51%|█████▏    | 257/500 [00:03<00:03, 75.53it/s]"
     ]
    },
    {
     "name": "stdout",
     "output_type": "stream",
     "text": [
      "⚠️  Could not fetch main.zip for easonWaii/ChatGPT-Next-Web (status 404)\n",
      "⚠️  Could not fetch master.zip for easonWaii/ChatGPT-Next-Web (status 404)\n"
     ]
    },
    {
     "name": "stderr",
     "output_type": "stream",
     "text": [
      "Processing forks:  68%|██████▊   | 340/500 [00:03<00:01, 111.82it/s]"
     ]
    },
    {
     "name": "stdout",
     "output_type": "stream",
     "text": [
      "⚠️  Could not fetch main.zip for Jack-Ywn/ChatGPT-Next-Web (status 404)\n",
      "⚠️  Could not fetch master.zip for Jack-Ywn/ChatGPT-Next-Web (status 404)\n"
     ]
    },
    {
     "name": "stderr",
     "output_type": "stream",
     "text": [
      "Processing forks: 100%|██████████| 500/500 [00:04<00:00, 119.30it/s]\n"
     ]
    },
    {
     "name": "stdout",
     "output_type": "stream",
     "text": [
      "⚠️  Could not fetch main.zip for 826889/ChatGPT-Next-Web (status 404)\n",
      "⚠️  Could not fetch master.zip for 826889/ChatGPT-Next-Web (status 404)\n",
      "Batch: 8000\n"
     ]
    },
    {
     "name": "stderr",
     "output_type": "stream",
     "text": [
      "Processing forks:   5%|▍         | 23/500 [00:00<00:07, 65.62it/s]"
     ]
    },
    {
     "name": "stdout",
     "output_type": "stream",
     "text": [
      "⚠️  Could not fetch main.zip for klaght/ChatGPT-Next-Web (status 404)\n",
      "⚠️  Could not fetch master.zip for klaght/ChatGPT-Next-Web (status 404)\n"
     ]
    },
    {
     "name": "stderr",
     "output_type": "stream",
     "text": [
      "Processing forks:  28%|██▊       | 141/500 [00:00<00:01, 220.74it/s]"
     ]
    },
    {
     "name": "stdout",
     "output_type": "stream",
     "text": [
      "⚠️  Could not fetch main.zip for MianBao521/ChatGPT-Next-Web (status 404)\n",
      "⚠️  Could not fetch master.zip for MianBao521/ChatGPT-Next-Web (status 404)\n"
     ]
    },
    {
     "name": "stderr",
     "output_type": "stream",
     "text": [
      "Processing forks:  35%|███▍      | 174/500 [00:01<00:02, 161.15it/s]"
     ]
    },
    {
     "name": "stdout",
     "output_type": "stream",
     "text": [
      "⚠️  Could not fetch main.zip for wuangshaoleng/ChatGPT-Next-Web (status 404)\n",
      "⚠️  Could not fetch master.zip for wuangshaoleng/ChatGPT-Next-Web (status 404)\n"
     ]
    },
    {
     "name": "stderr",
     "output_type": "stream",
     "text": [
      "Processing forks:  39%|███▉      | 197/500 [00:01<00:02, 122.54it/s]"
     ]
    },
    {
     "name": "stdout",
     "output_type": "stream",
     "text": [
      "⚠️  Could not fetch main.zip for Sstiedu/ChatGPT-Next-Web (status 404)\n",
      "⚠️  Could not fetch master.zip for Sstiedu/ChatGPT-Next-Web (status 404)\n"
     ]
    },
    {
     "name": "stderr",
     "output_type": "stream",
     "text": [
      "Processing forks:  58%|█████▊    | 291/500 [00:01<00:01, 176.02it/s]"
     ]
    },
    {
     "name": "stdout",
     "output_type": "stream",
     "text": [
      "⚠️  Could not fetch main.zip for moonzjs/ChatGPT-Next-Web (status 404)\n",
      "⚠️  Could not fetch master.zip for moonzjs/ChatGPT-Next-Web (status 404)\n"
     ]
    },
    {
     "name": "stderr",
     "output_type": "stream",
     "text": [
      "Processing forks: 100%|██████████| 500/500 [00:02<00:00, 232.17it/s]"
     ]
    },
    {
     "name": "stdout",
     "output_type": "stream",
     "text": [
      "⚠️  Could not fetch main.zip for hqsylw123/ChatGPT-Next-Web (status 404)\n",
      "⚠️  Could not fetch master.zip for hqsylw123/ChatGPT-Next-Web (status 404)\n"
     ]
    },
    {
     "name": "stderr",
     "output_type": "stream",
     "text": [
      "\n"
     ]
    },
    {
     "name": "stdout",
     "output_type": "stream",
     "text": [
      "Batch: 8500\n"
     ]
    },
    {
     "name": "stderr",
     "output_type": "stream",
     "text": [
      "Processing forks:   0%|          | 0/500 [00:00<?, ?it/s]"
     ]
    },
    {
     "name": "stdout",
     "output_type": "stream",
     "text": [
      "⚠️  Could not fetch main.zip for bcic666/ChatGPT-Next-Web (status 404)\n"
     ]
    },
    {
     "name": "stderr",
     "output_type": "stream",
     "text": [
      "Processing forks:   1%|          | 6/500 [00:00<00:32, 15.26it/s]"
     ]
    },
    {
     "name": "stdout",
     "output_type": "stream",
     "text": [
      "⚠️  Could not fetch master.zip for bcic666/ChatGPT-Next-Web (status 404)\n",
      "⚠️  Could not fetch main.zip for sovstop/soai (status 404)\n"
     ]
    },
    {
     "name": "stderr",
     "output_type": "stream",
     "text": [
      "Processing forks:  36%|███▌      | 179/500 [00:00<00:01, 275.25it/s]"
     ]
    },
    {
     "name": "stdout",
     "output_type": "stream",
     "text": [
      "⚠️  Could not fetch master.zip for sovstop/soai (status 404)\n",
      "⚠️  Could not fetch main.zip for jzex928/ChatGPT-Next-Web (status 404)\n"
     ]
    },
    {
     "name": "stderr",
     "output_type": "stream",
     "text": [
      "Processing forks:  68%|██████▊   | 338/500 [00:01<00:00, 310.10it/s]"
     ]
    },
    {
     "name": "stdout",
     "output_type": "stream",
     "text": [
      "⚠️  Could not fetch master.zip for jzex928/ChatGPT-Next-Web (status 404)\n",
      "⚠️  Could not fetch main.zip for laohuoyan/ChatGPT-Next-Web (status 404)\n"
     ]
    },
    {
     "name": "stderr",
     "output_type": "stream",
     "text": [
      "Processing forks:  90%|████████▉ | 448/500 [00:01<00:00, 315.22it/s]"
     ]
    },
    {
     "name": "stdout",
     "output_type": "stream",
     "text": [
      "⚠️  Could not fetch master.zip for laohuoyan/ChatGPT-Next-Web (status 404)\n",
      "⚠️  Could not fetch main.zip for wangtaofbs/ChatGPT-Next-Web (status 404)\n"
     ]
    },
    {
     "name": "stderr",
     "output_type": "stream",
     "text": [
      "Processing forks: 100%|██████████| 500/500 [00:01<00:00, 261.73it/s]\n"
     ]
    },
    {
     "name": "stdout",
     "output_type": "stream",
     "text": [
      "⚠️  Could not fetch master.zip for wangtaofbs/ChatGPT-Next-Web (status 404)\n",
      "Batch: 9000\n"
     ]
    },
    {
     "name": "stderr",
     "output_type": "stream",
     "text": [
      "Processing forks:   0%|          | 0/500 [00:00<?, ?it/s]"
     ]
    },
    {
     "name": "stdout",
     "output_type": "stream",
     "text": [
      "⚠️  Could not fetch main.zip for jnlone/cnai (status 404)\n"
     ]
    },
    {
     "name": "stderr",
     "output_type": "stream",
     "text": [
      "Processing forks:   4%|▍         | 19/500 [00:00<00:08, 53.59it/s]"
     ]
    },
    {
     "name": "stdout",
     "output_type": "stream",
     "text": [
      "⚠️  Could not fetch master.zip for jnlone/cnai (status 404)\n",
      "⚠️  Could not fetch main.zip for zhiwei-fight/ChatGPT-Next-Web (status 404)\n"
     ]
    },
    {
     "name": "stderr",
     "output_type": "stream",
     "text": [
      "Processing forks:  33%|███▎      | 165/500 [00:00<00:01, 263.10it/s]"
     ]
    },
    {
     "name": "stdout",
     "output_type": "stream",
     "text": [
      "⚠️  Could not fetch master.zip for zhiwei-fight/ChatGPT-Next-Web (status 404)\n",
      "⚠️  Could not fetch main.zip for longtianye2020/ChatGPT-Next-Web (status 404)\n"
     ]
    },
    {
     "name": "stderr",
     "output_type": "stream",
     "text": [
      "Processing forks:  38%|███▊      | 192/500 [00:01<00:01, 169.74it/s]"
     ]
    },
    {
     "name": "stdout",
     "output_type": "stream",
     "text": [
      "⚠️  Could not fetch master.zip for longtianye2020/ChatGPT-Next-Web (status 404)\n",
      "⚠️  Could not fetch main.zip for UboCA/ChatGPT-Next-Web (status 404)\n"
     ]
    },
    {
     "name": "stderr",
     "output_type": "stream",
     "text": [
      "Processing forks:  53%|█████▎    | 267/500 [00:01<00:01, 185.41it/s]"
     ]
    },
    {
     "name": "stdout",
     "output_type": "stream",
     "text": [
      "⚠️  Could not fetch master.zip for UboCA/ChatGPT-Next-Web (status 404)\n",
      "⚠️  Could not fetch main.zip for hello2wd/ChatGPT-Next-Web (status 404)\n"
     ]
    },
    {
     "name": "stderr",
     "output_type": "stream",
     "text": [
      "Processing forks:  58%|█████▊    | 289/500 [00:01<00:01, 143.93it/s]"
     ]
    },
    {
     "name": "stdout",
     "output_type": "stream",
     "text": [
      "⚠️  Could not fetch master.zip for hello2wd/ChatGPT-Next-Web (status 404)\n",
      "⚠️  Could not fetch main.zip for Magicyang5/ChatGPT-Next-Web (status 404)\n"
     ]
    },
    {
     "name": "stderr",
     "output_type": "stream",
     "text": [
      "Processing forks:  68%|██████▊   | 341/500 [00:02<00:01, 146.06it/s]"
     ]
    },
    {
     "name": "stdout",
     "output_type": "stream",
     "text": [
      "⚠️  Could not fetch master.zip for Magicyang5/ChatGPT-Next-Web (status 404)\n",
      "⚠️  Could not fetch main.zip for Txhesas/ChatGPT-Next-Web (status 404)\n"
     ]
    },
    {
     "name": "stderr",
     "output_type": "stream",
     "text": [
      "Processing forks:  71%|███████   | 356/500 [00:02<00:01, 114.24it/s]"
     ]
    },
    {
     "name": "stdout",
     "output_type": "stream",
     "text": [
      "⚠️  Could not fetch master.zip for Txhesas/ChatGPT-Next-Web (status 404)\n",
      "⚠️  Could not fetch main.zip for joker-fishyu/ChatGPT-Next-Web2 (status 404)\n"
     ]
    },
    {
     "name": "stderr",
     "output_type": "stream",
     "text": [
      "Processing forks:  83%|████████▎ | 413/500 [00:02<00:00, 129.08it/s]"
     ]
    },
    {
     "name": "stdout",
     "output_type": "stream",
     "text": [
      "⚠️  Could not fetch master.zip for joker-fishyu/ChatGPT-Next-Web2 (status 404)\n",
      "⚠️  Could not fetch main.zip for ooshuang/ChatGPT-Next-Web (status 404)\n"
     ]
    },
    {
     "name": "stderr",
     "output_type": "stream",
     "text": [
      "Processing forks: 100%|██████████| 500/500 [00:03<00:00, 156.51it/s]\n"
     ]
    },
    {
     "name": "stdout",
     "output_type": "stream",
     "text": [
      "⚠️  Could not fetch master.zip for ooshuang/ChatGPT-Next-Web (status 404)\n",
      "Batch: 9500\n"
     ]
    },
    {
     "name": "stderr",
     "output_type": "stream",
     "text": [
      "Processing forks:   0%|          | 0/500 [00:00<?, ?it/s]"
     ]
    },
    {
     "name": "stdout",
     "output_type": "stream",
     "text": [
      "⚠️  Could not fetch main.zip for jamesdobala/ChatGPT-Next-Web (status 404)\n"
     ]
    },
    {
     "name": "stderr",
     "output_type": "stream",
     "text": [
      "Processing forks:   0%|          | 2/500 [00:00<01:24,  5.89it/s]"
     ]
    },
    {
     "name": "stdout",
     "output_type": "stream",
     "text": [
      "⚠️  Could not fetch master.zip for jamesdobala/ChatGPT-Next-Web (status 404)\n",
      "⚠️  Could not fetch main.zip for NangongLingshuang/ChatGPT-Next-Web (status 404)\n"
     ]
    },
    {
     "name": "stderr",
     "output_type": "stream",
     "text": [
      "Processing forks:   1%|          | 3/500 [00:00<01:57,  4.23it/s]"
     ]
    },
    {
     "name": "stdout",
     "output_type": "stream",
     "text": [
      "⚠️  Could not fetch master.zip for NangongLingshuang/ChatGPT-Next-Web (status 404)\n",
      "⚠️  Could not fetch main.zip for ChengNanyi/ChatGPT-Next-Web (status 404)\n"
     ]
    },
    {
     "name": "stderr",
     "output_type": "stream",
     "text": [
      "Processing forks:   1%|          | 5/500 [00:01<01:41,  4.87it/s]"
     ]
    },
    {
     "name": "stdout",
     "output_type": "stream",
     "text": [
      "⚠️  Could not fetch master.zip for ChengNanyi/ChatGPT-Next-Web (status 404)\n"
     ]
    },
    {
     "name": "stderr",
     "output_type": "stream",
     "text": [
      "Processing forks:   1%|          | 6/500 [00:01<02:09,  3.82it/s]"
     ]
    },
    {
     "name": "stdout",
     "output_type": "stream",
     "text": [
      "⚠️  Could not fetch main.zip for madisonoya/ChatGPT-Next-Web (status 404)\n",
      "⚠️  Could not fetch master.zip for madisonoya/ChatGPT-Next-Web (status 404)\n"
     ]
    },
    {
     "name": "stderr",
     "output_type": "stream",
     "text": [
      "Processing forks:   2%|▏         | 10/500 [00:01<01:15,  6.48it/s]"
     ]
    },
    {
     "name": "stdout",
     "output_type": "stream",
     "text": [
      "⚠️  Could not fetch main.zip for QunWenlin/ChatGPT-Next-Web (status 404)\n",
      "⚠️  Could not fetch master.zip for QunWenlin/ChatGPT-Next-Web (status 404)\n"
     ]
    },
    {
     "name": "stderr",
     "output_type": "stream",
     "text": [
      "Processing forks:   2%|▏         | 12/500 [00:02<01:17,  6.30it/s]"
     ]
    },
    {
     "name": "stdout",
     "output_type": "stream",
     "text": [
      "⚠️  Could not fetch main.zip for grefsdfs/ChatGPT-Next-Web (status 404)\n",
      "⚠️  Could not fetch master.zip for grefsdfs/ChatGPT-Next-Web (status 404)\n",
      "⚠️  Could not fetch main.zip for GuPeiping/ChatGPT-Next-Web (status 404)\n"
     ]
    },
    {
     "name": "stderr",
     "output_type": "stream",
     "text": [
      "Processing forks:   3%|▎         | 13/500 [00:02<01:35,  5.10it/s]"
     ]
    },
    {
     "name": "stdout",
     "output_type": "stream",
     "text": [
      "⚠️  Could not fetch master.zip for GuPeiping/ChatGPT-Next-Web (status 404)\n",
      "⚠️  Could not fetch main.zip for HanQinxue/ChatGPT-Next-Web (status 404)\n"
     ]
    },
    {
     "name": "stderr",
     "output_type": "stream",
     "text": [
      "Processing forks:   3%|▎         | 14/500 [00:02<01:49,  4.43it/s]"
     ]
    },
    {
     "name": "stdout",
     "output_type": "stream",
     "text": [
      "⚠️  Could not fetch master.zip for HanQinxue/ChatGPT-Next-Web (status 404)\n",
      "⚠️  Could not fetch main.zip for RuanShulan/ChatGPT-Next-Web (status 404)\n"
     ]
    },
    {
     "name": "stderr",
     "output_type": "stream",
     "text": [
      "Processing forks:   3%|▎         | 15/500 [00:03<02:02,  3.95it/s]"
     ]
    },
    {
     "name": "stdout",
     "output_type": "stream",
     "text": [
      "⚠️  Could not fetch master.zip for RuanShulan/ChatGPT-Next-Web (status 404)\n"
     ]
    },
    {
     "name": "stderr",
     "output_type": "stream",
     "text": [
      "Processing forks:   3%|▎         | 16/500 [00:03<02:23,  3.38it/s]"
     ]
    },
    {
     "name": "stdout",
     "output_type": "stream",
     "text": [
      "⚠️  Could not fetch main.zip for WeiHuifang/ChatGPT-Next-Web (status 404)\n",
      "⚠️  Could not fetch master.zip for WeiHuifang/ChatGPT-Next-Web (status 404)\n"
     ]
    },
    {
     "name": "stderr",
     "output_type": "stream",
     "text": [
      "Processing forks:   3%|▎         | 17/500 [00:03<02:29,  3.23it/s]"
     ]
    },
    {
     "name": "stdout",
     "output_type": "stream",
     "text": [
      "⚠️  Could not fetch main.zip for samaoteman/ChatGPT-Next-Web (status 404)\n",
      "⚠️  Could not fetch master.zip for samaoteman/ChatGPT-Next-Web (status 404)\n"
     ]
    },
    {
     "name": "stderr",
     "output_type": "stream",
     "text": [
      "Processing forks:   4%|▍         | 19/500 [00:04<02:00,  3.99it/s]"
     ]
    },
    {
     "name": "stdout",
     "output_type": "stream",
     "text": [
      "⚠️  Could not fetch main.zip for MiQingyue/ChatGPT-Next-Web (status 404)\n",
      "⚠️  Could not fetch master.zip for MiQingyue/ChatGPT-Next-Web (status 404)\n"
     ]
    },
    {
     "name": "stderr",
     "output_type": "stream",
     "text": [
      "Processing forks:   5%|▌         | 25/500 [00:04<01:01,  7.78it/s]"
     ]
    },
    {
     "name": "stdout",
     "output_type": "stream",
     "text": [
      "⚠️  Could not fetch main.zip for dandanweb3/ChatGPT-Next-Web (status 404)\n",
      "⚠️  Could not fetch master.zip for dandanweb3/ChatGPT-Next-Web (status 404)\n"
     ]
    },
    {
     "name": "stderr",
     "output_type": "stream",
     "text": [
      "Processing forks:   6%|▌         | 28/500 [00:05<00:59,  7.99it/s]"
     ]
    },
    {
     "name": "stdout",
     "output_type": "stream",
     "text": [
      "⚠️  Could not fetch main.zip for landonweb/ChatGPT-Next-Web (status 404)\n",
      "⚠️  Could not fetch master.zip for landonweb/ChatGPT-Next-Web (status 404)\n"
     ]
    },
    {
     "name": "stderr",
     "output_type": "stream",
     "text": [
      "Processing forks:  10%|█         | 51/500 [00:05<00:17, 25.17it/s]"
     ]
    },
    {
     "name": "stdout",
     "output_type": "stream",
     "text": [
      "⚠️  Could not fetch main.zip for ps10300920613/ChatGPT-Next-Web (status 404)\n",
      "⚠️  Could not fetch master.zip for ps10300920613/ChatGPT-Next-Web (status 404)\n"
     ]
    },
    {
     "name": "stderr",
     "output_type": "stream",
     "text": [
      "Processing forks:  12%|█▏        | 58/500 [00:05<00:19, 23.20it/s]"
     ]
    },
    {
     "name": "stdout",
     "output_type": "stream",
     "text": [
      "⚠️  Could not fetch main.zip for shangsaal2/ChatGPT-Next-Web (status 404)\n",
      "⚠️  Could not fetch master.zip for shangsaal2/ChatGPT-Next-Web (status 404)\n"
     ]
    },
    {
     "name": "stderr",
     "output_type": "stream",
     "text": [
      "Processing forks:  12%|█▏        | 61/500 [00:06<00:23, 18.64it/s]"
     ]
    },
    {
     "name": "stdout",
     "output_type": "stream",
     "text": [
      "⚠️  Could not fetch main.zip for gr10300850447/ChatGPT-Next-Web (status 404)\n",
      "⚠️  Could not fetch master.zip for gr10300850447/ChatGPT-Next-Web (status 404)\n"
     ]
    },
    {
     "name": "stderr",
     "output_type": "stream",
     "text": [
      "Processing forks:  30%|██▉       | 149/500 [00:06<00:04, 86.80it/s]"
     ]
    },
    {
     "name": "stdout",
     "output_type": "stream",
     "text": [
      "⚠️  Could not fetch main.zip for hossain666/ChatGPT-Next-Web (status 404)\n",
      "⚠️  Could not fetch master.zip for hossain666/ChatGPT-Next-Web (status 404)\n"
     ]
    },
    {
     "name": "stderr",
     "output_type": "stream",
     "text": [
      "Processing forks:  54%|█████▍    | 271/500 [00:06<00:01, 160.19it/s]"
     ]
    },
    {
     "name": "stdout",
     "output_type": "stream",
     "text": [
      "⚠️  Could not fetch main.zip for Mic668/ChatGPT-Next-Web (status 404)\n",
      "⚠️  Could not fetch master.zip for Mic668/ChatGPT-Next-Web (status 404)\n",
      "⚠️  Could not fetch main.zip for darwom63/ChatGPT-Next-Web (status 404)\n"
     ]
    },
    {
     "name": "stderr",
     "output_type": "stream",
     "text": [
      "Processing forks:  68%|██████▊   | 341/500 [00:07<00:01, 118.64it/s]"
     ]
    },
    {
     "name": "stdout",
     "output_type": "stream",
     "text": [
      "⚠️  Could not fetch master.zip for darwom63/ChatGPT-Next-Web (status 404)\n",
      "⚠️  Could not fetch main.zip for Xxs1995/ChatGPT-Next-Web (status 404)\n"
     ]
    },
    {
     "name": "stderr",
     "output_type": "stream",
     "text": [
      "Processing forks:  72%|███████▏  | 358/500 [00:08<00:01, 102.48it/s]"
     ]
    },
    {
     "name": "stdout",
     "output_type": "stream",
     "text": [
      "⚠️  Could not fetch master.zip for Xxs1995/ChatGPT-Next-Web (status 404)\n",
      "⚠️  Could not fetch main.zip for angelarias2014/ChatGPT-Next-Web (status 404)\n"
     ]
    },
    {
     "name": "stderr",
     "output_type": "stream",
     "text": [
      "Processing forks:  80%|████████  | 400/500 [00:08<00:00, 108.33it/s]"
     ]
    },
    {
     "name": "stdout",
     "output_type": "stream",
     "text": [
      "⚠️  Could not fetch master.zip for angelarias2014/ChatGPT-Next-Web (status 404)\n",
      "⚠️  Could not fetch main.zip for 2016963012/ChatGPT-Next-Web (status 404)\n"
     ]
    },
    {
     "name": "stderr",
     "output_type": "stream",
     "text": [
      "Processing forks:  82%|████████▏ | 412/500 [00:08<00:00, 91.03it/s] "
     ]
    },
    {
     "name": "stdout",
     "output_type": "stream",
     "text": [
      "⚠️  Could not fetch master.zip for 2016963012/ChatGPT-Next-Web (status 404)\n",
      "⚠️  Could not fetch main.zip for minliai/ChatGPT-Next-Web (status 404)\n"
     ]
    },
    {
     "name": "stderr",
     "output_type": "stream",
     "text": [
      "Processing forks: 100%|██████████| 500/500 [00:09<00:00, 54.76it/s] \n"
     ]
    },
    {
     "name": "stdout",
     "output_type": "stream",
     "text": [
      "⚠️  Could not fetch master.zip for minliai/ChatGPT-Next-Web (status 404)\n",
      "Batch: 10000\n"
     ]
    },
    {
     "name": "stderr",
     "output_type": "stream",
     "text": [
      "Processing forks:   0%|          | 0/500 [00:00<?, ?it/s]"
     ]
    },
    {
     "name": "stdout",
     "output_type": "stream",
     "text": [
      "⚠️  Could not fetch main.zip for Lownzet/ChatGPT-Next-Web (status 404)\n"
     ]
    },
    {
     "name": "stderr",
     "output_type": "stream",
     "text": [
      "Processing forks:  14%|█▍        | 71/500 [00:00<00:02, 200.35it/s]"
     ]
    },
    {
     "name": "stdout",
     "output_type": "stream",
     "text": [
      "⚠️  Could not fetch master.zip for Lownzet/ChatGPT-Next-Web (status 404)\n",
      "⚠️  Could not fetch main.zip for Phoenxxxxx/ChatGPT-Next-Web-Fork (status 404)\n"
     ]
    },
    {
     "name": "stderr",
     "output_type": "stream",
     "text": [
      "Processing forks:  18%|█▊        | 92/500 [00:00<00:03, 122.67it/s]"
     ]
    },
    {
     "name": "stdout",
     "output_type": "stream",
     "text": [
      "⚠️  Could not fetch master.zip for Phoenxxxxx/ChatGPT-Next-Web-Fork (status 404)\n",
      "⚠️  Could not fetch main.zip for k-liu1/ChatGPT-Next-Web (status 404)\n"
     ]
    },
    {
     "name": "stderr",
     "output_type": "stream",
     "text": [
      "Processing forks:  30%|██▉       | 149/500 [00:01<00:02, 139.73it/s]"
     ]
    },
    {
     "name": "stdout",
     "output_type": "stream",
     "text": [
      "⚠️  Could not fetch master.zip for k-liu1/ChatGPT-Next-Web (status 404)\n",
      "⚠️  Could not fetch main.zip for huo2012/ChatGPT-Next-Web (status 404)\n"
     ]
    },
    {
     "name": "stderr",
     "output_type": "stream",
     "text": [
      "Processing forks:  34%|███▍      | 171/500 [00:01<00:03, 108.01it/s]"
     ]
    },
    {
     "name": "stdout",
     "output_type": "stream",
     "text": [
      "⚠️  Could not fetch master.zip for huo2012/ChatGPT-Next-Web (status 404)\n",
      "⚠️  Could not fetch main.zip for hqsylw/ChatGPT-Next-Web (status 404)\n"
     ]
    },
    {
     "name": "stderr",
     "output_type": "stream",
     "text": [
      "Processing forks:  40%|███▉      | 198/500 [00:01<00:03, 95.71it/s] "
     ]
    },
    {
     "name": "stdout",
     "output_type": "stream",
     "text": [
      "⚠️  Could not fetch master.zip for hqsylw/ChatGPT-Next-Web (status 404)\n",
      "⚠️  Could not fetch main.zip for Gwerfz/ChatGPT-Next-Web (status 404)\n"
     ]
    },
    {
     "name": "stderr",
     "output_type": "stream",
     "text": [
      "Processing forks:  56%|█████▌    | 280/500 [00:02<00:01, 138.98it/s]"
     ]
    },
    {
     "name": "stdout",
     "output_type": "stream",
     "text": [
      "⚠️  Could not fetch master.zip for Gwerfz/ChatGPT-Next-Web (status 404)\n"
     ]
    },
    {
     "name": "stderr",
     "output_type": "stream",
     "text": [
      "Processing forks:  75%|███████▌  | 375/500 [00:02<00:00, 178.75it/s]"
     ]
    },
    {
     "name": "stdout",
     "output_type": "stream",
     "text": [
      "⚠️  Could not fetch main.zip for Moltwa/ChatGPT-Next-Web (status 404)\n",
      "⚠️  Could not fetch master.zip for Moltwa/ChatGPT-Next-Web (status 404)\n",
      "⚠️  Could not fetch main.zip for xxh-skku/ChatGPT-Next-Web (status 404)\n"
     ]
    },
    {
     "name": "stderr",
     "output_type": "stream",
     "text": [
      "Processing forks: 100%|██████████| 500/500 [00:03<00:00, 149.13it/s]\n"
     ]
    },
    {
     "name": "stdout",
     "output_type": "stream",
     "text": [
      "⚠️  Could not fetch master.zip for xxh-skku/ChatGPT-Next-Web (status 404)\n",
      "Batch: 10500\n"
     ]
    },
    {
     "name": "stderr",
     "output_type": "stream",
     "text": [
      "Processing forks:   0%|          | 0/500 [00:00<?, ?it/s]"
     ]
    },
    {
     "name": "stdout",
     "output_type": "stream",
     "text": [
      "⚠️  Could not fetch main.zip for lukahartman1988/ChatGPT-Next-Web (status 404)\n"
     ]
    },
    {
     "name": "stderr",
     "output_type": "stream",
     "text": [
      "Processing forks:  12%|█▏        | 62/500 [00:00<00:04, 98.32it/s]"
     ]
    },
    {
     "name": "stdout",
     "output_type": "stream",
     "text": [
      "⚠️  Could not fetch master.zip for lukahartman1988/ChatGPT-Next-Web (status 404)\n",
      "⚠️  Could not fetch main.zip for tootping/ChatGPT-Next-Web (status 404)\n"
     ]
    },
    {
     "name": "stderr",
     "output_type": "stream",
     "text": [
      "Processing forks:  15%|█▍        | 73/500 [00:00<00:06, 69.44it/s]"
     ]
    },
    {
     "name": "stdout",
     "output_type": "stream",
     "text": [
      "⚠️  Could not fetch master.zip for tootping/ChatGPT-Next-Web (status 404)\n",
      "⚠️  Could not fetch main.zip for Nmersas/ChatGPT-Next-Web (status 404)\n"
     ]
    },
    {
     "name": "stderr",
     "output_type": "stream",
     "text": [
      "Processing forks:  30%|██▉       | 148/500 [00:01<00:02, 126.22it/s]"
     ]
    },
    {
     "name": "stdout",
     "output_type": "stream",
     "text": [
      "⚠️  Could not fetch master.zip for Nmersas/ChatGPT-Next-Web (status 404)\n",
      "⚠️  Could not fetch main.zip for xll006/ChatGPT-Next-Web (status 404)\n"
     ]
    },
    {
     "name": "stderr",
     "output_type": "stream",
     "text": [
      "Processing forks:  36%|███▋      | 182/500 [00:01<00:02, 117.03it/s]"
     ]
    },
    {
     "name": "stdout",
     "output_type": "stream",
     "text": [
      "⚠️  Could not fetch master.zip for xll006/ChatGPT-Next-Web (status 404)\n",
      "⚠️  Could not fetch main.zip for brianamoore303428/ChatGPT-Next-Web (status 404)\n"
     ]
    },
    {
     "name": "stderr",
     "output_type": "stream",
     "text": [
      "Processing forks:  42%|████▏     | 209/500 [00:02<00:02, 104.42it/s]"
     ]
    },
    {
     "name": "stdout",
     "output_type": "stream",
     "text": [
      "⚠️  Could not fetch master.zip for brianamoore303428/ChatGPT-Next-Web (status 404)\n",
      "⚠️  Could not fetch main.zip for 5ROLLFE/ChatGPT-Next-Web (status 404)\n"
     ]
    },
    {
     "name": "stderr",
     "output_type": "stream",
     "text": [
      "Processing forks:  75%|███████▍  | 373/500 [00:02<00:00, 223.59it/s]"
     ]
    },
    {
     "name": "stdout",
     "output_type": "stream",
     "text": [
      "⚠️  Could not fetch master.zip for 5ROLLFE/ChatGPT-Next-Web (status 404)\n",
      "⚠️  Could not fetch main.zip for Mkqozge/ChatGPT-Next-Web (status 404)\n"
     ]
    },
    {
     "name": "stderr",
     "output_type": "stream",
     "text": [
      "Processing forks:  79%|███████▉  | 396/500 [00:02<00:00, 166.64it/s]"
     ]
    },
    {
     "name": "stdout",
     "output_type": "stream",
     "text": [
      "⚠️  Could not fetch master.zip for Mkqozge/ChatGPT-Next-Web (status 404)\n",
      "⚠️  Could not fetch main.zip for iu-dpvihr/ChatGPT-Next-Web (status 404)\n"
     ]
    },
    {
     "name": "stderr",
     "output_type": "stream",
     "text": [
      "Processing forks:  83%|████████▎ | 414/500 [00:03<00:00, 129.59it/s]"
     ]
    },
    {
     "name": "stdout",
     "output_type": "stream",
     "text": [
      "⚠️  Could not fetch master.zip for iu-dpvihr/ChatGPT-Next-Web (status 404)\n",
      "⚠️  Could not fetch main.zip for rahwyihus/ChatGPT-Next-Web (status 404)\n",
      "⚠️  Could not fetch master.zip for rahwyihus/ChatGPT-Next-Web (status 404)\n",
      "⚠️  Could not fetch main.zip for Kaezpel/ChatGPT-Next-Web (status 404)\n"
     ]
    },
    {
     "name": "stderr",
     "output_type": "stream",
     "text": [
      "Processing forks: 100%|██████████| 500/500 [00:03<00:00, 129.41it/s]\n"
     ]
    },
    {
     "name": "stdout",
     "output_type": "stream",
     "text": [
      "⚠️  Could not fetch master.zip for Kaezpel/ChatGPT-Next-Web (status 404)\n",
      "Batch: 11000\n"
     ]
    },
    {
     "name": "stderr",
     "output_type": "stream",
     "text": [
      "Processing forks:  11%|█         | 56/500 [00:00<00:02, 148.43it/s]"
     ]
    },
    {
     "name": "stdout",
     "output_type": "stream",
     "text": [
      "⚠️  Could not fetch main.zip for Howsea/ChatGPT-Next-Web (status 404)\n",
      "⚠️  Could not fetch master.zip for Howsea/ChatGPT-Next-Web (status 404)\n"
     ]
    },
    {
     "name": "stderr",
     "output_type": "stream",
     "text": [
      "Processing forks:  32%|███▏      | 160/500 [00:00<00:01, 228.25it/s]"
     ]
    },
    {
     "name": "stdout",
     "output_type": "stream",
     "text": [
      "⚠️  Could not fetch main.zip for toyleth/ChatGPT-Next-Web (status 404)\n",
      "⚠️  Could not fetch master.zip for toyleth/ChatGPT-Next-Web (status 404)\n"
     ]
    },
    {
     "name": "stderr",
     "output_type": "stream",
     "text": [
      "Processing forks:  41%|████▏     | 207/500 [00:01<00:01, 185.12it/s]"
     ]
    },
    {
     "name": "stdout",
     "output_type": "stream",
     "text": [
      "⚠️  Could not fetch main.zip for yandi8888/ChatGPT-Next-Web (status 404)\n",
      "⚠️  Could not fetch master.zip for yandi8888/ChatGPT-Next-Web (status 404)\n",
      "⚠️  Could not fetch main.zip for johansanfordxx1987/ChatGPT-Next-Web (status 404)\n",
      "⚠️  Could not fetch master.zip for johansanfordxx1987/ChatGPT-Next-Web (status 404)\n"
     ]
    },
    {
     "name": "stderr",
     "output_type": "stream",
     "text": [
      "Processing forks:  69%|██████▉   | 347/500 [00:01<00:00, 172.75it/s]"
     ]
    },
    {
     "name": "stdout",
     "output_type": "stream",
     "text": [
      "⚠️  Could not fetch main.zip for canoi2933/ChatGPT-Next-Web (status 404)\n",
      "⚠️  Could not fetch master.zip for canoi2933/ChatGPT-Next-Web (status 404)\n"
     ]
    },
    {
     "name": "stderr",
     "output_type": "stream",
     "text": [
      "Processing forks:  73%|███████▎  | 364/500 [00:02<00:01, 133.93it/s]"
     ]
    },
    {
     "name": "stdout",
     "output_type": "stream",
     "text": [
      "⚠️  Could not fetch main.zip for chriss-0x01/ChatGPTNextWeb-ChatGPT-Next-Web (status 404)\n",
      "⚠️  Could not fetch master.zip for chriss-0x01/ChatGPTNextWeb-ChatGPT-Next-Web (status 404)\n"
     ]
    },
    {
     "name": "stderr",
     "output_type": "stream",
     "text": [
      "Processing forks:  76%|███████▋  | 382/500 [00:02<00:01, 106.32it/s]"
     ]
    },
    {
     "name": "stdout",
     "output_type": "stream",
     "text": [
      "⚠️  Could not fetch main.zip for s-BriefingPeak/ChatGPT-Next-Web (status 404)\n",
      "⚠️  Could not fetch master.zip for s-BriefingPeak/ChatGPT-Next-Web (status 404)\n",
      "⚠️  Could not fetch main.zip for Weblogik-Deluxeni/ChatGPT-Next-Web (status 404)\n",
      "⚠️  Could not fetch master.zip for Weblogik-Deluxeni/ChatGPT-Next-Web (status 404)\n"
     ]
    },
    {
     "name": "stderr",
     "output_type": "stream",
     "text": [
      "Processing forks:  79%|███████▊  | 393/500 [00:03<00:01, 62.08it/s] "
     ]
    },
    {
     "name": "stdout",
     "output_type": "stream",
     "text": [
      "⚠️  Could not fetch main.zip for JiangHaoGithub-01/ChatGPT-Next-Web (status 404)\n",
      "⚠️  Could not fetch master.zip for JiangHaoGithub-01/ChatGPT-Next-Web (status 404)\n"
     ]
    },
    {
     "name": "stderr",
     "output_type": "stream",
     "text": [
      "Processing forks:  92%|█████████▏| 460/500 [00:03<00:00, 93.63it/s]"
     ]
    },
    {
     "name": "stdout",
     "output_type": "stream",
     "text": [
      "⚠️  Could not fetch main.zip for Jmwox89t/ChatGPT-Next-Web (status 404)\n",
      "⚠️  Could not fetch master.zip for Jmwox89t/ChatGPT-Next-Web (status 404)\n"
     ]
    },
    {
     "name": "stderr",
     "output_type": "stream",
     "text": [
      "Processing forks: 100%|██████████| 500/500 [00:03<00:00, 125.06it/s]\n"
     ]
    },
    {
     "name": "stdout",
     "output_type": "stream",
     "text": [
      "⚠️  Could not fetch main.zip for MOE-1998/ChatGPT-Next-Web (status 404)\n",
      "⚠️  Could not fetch master.zip for MOE-1998/ChatGPT-Next-Web (status 404)\n",
      "Batch: 11500\n"
     ]
    },
    {
     "name": "stderr",
     "output_type": "stream",
     "text": [
      "Processing forks:   2%|▏         | 9/500 [00:00<00:18, 27.27it/s]"
     ]
    },
    {
     "name": "stdout",
     "output_type": "stream",
     "text": [
      "⚠️  Could not fetch main.zip for xiaoheizi2/ChatGPT-Next-Web (status 404)\n",
      "⚠️  Could not fetch master.zip for xiaoheizi2/ChatGPT-Next-Web (status 404)\n",
      "⚠️  Could not fetch main.zip for demoko1/ChatGPT-Next-Web (status 404)\n"
     ]
    },
    {
     "name": "stderr",
     "output_type": "stream",
     "text": [
      "Processing forks:   4%|▍         | 20/500 [00:00<00:17, 27.53it/s]"
     ]
    },
    {
     "name": "stdout",
     "output_type": "stream",
     "text": [
      "⚠️  Could not fetch master.zip for demoko1/ChatGPT-Next-Web (status 404)\n",
      "⚠️  Could not fetch main.zip for deloera8/ChatGPT-Next-Web (status 404)\n"
     ]
    },
    {
     "name": "stderr",
     "output_type": "stream",
     "text": [
      "Processing forks:  16%|█▌        | 81/500 [00:01<00:04, 92.50it/s]"
     ]
    },
    {
     "name": "stdout",
     "output_type": "stream",
     "text": [
      "⚠️  Could not fetch master.zip for deloera8/ChatGPT-Next-Web (status 404)\n",
      "⚠️  Could not fetch main.zip for zhaoxiaojing2000/ChatGPT-Next-Web (status 404)\n"
     ]
    },
    {
     "name": "stderr",
     "output_type": "stream",
     "text": [
      "Processing forks:  19%|█▉        | 97/500 [00:01<00:05, 73.21it/s]"
     ]
    },
    {
     "name": "stdout",
     "output_type": "stream",
     "text": [
      "⚠️  Could not fetch master.zip for zhaoxiaojing2000/ChatGPT-Next-Web (status 404)\n",
      "⚠️  Could not fetch main.zip for imgaryyang/ChatGPT-Next-Web (status 404)\n"
     ]
    },
    {
     "name": "stderr",
     "output_type": "stream",
     "text": [
      "Processing forks:  22%|██▏       | 110/500 [00:01<00:06, 61.63it/s]"
     ]
    },
    {
     "name": "stdout",
     "output_type": "stream",
     "text": [
      "⚠️  Could not fetch master.zip for imgaryyang/ChatGPT-Next-Web (status 404)\n",
      "⚠️  Could not fetch main.zip for qqwangxi/haoke888 (status 404)\n"
     ]
    },
    {
     "name": "stderr",
     "output_type": "stream",
     "text": [
      "Processing forks:  26%|██▌       | 130/500 [00:02<00:06, 58.73it/s]"
     ]
    },
    {
     "name": "stdout",
     "output_type": "stream",
     "text": [
      "⚠️  Could not fetch master.zip for qqwangxi/haoke888 (status 404)\n",
      "⚠️  Could not fetch main.zip for Bwe3dytr/ChatGPT-Next-Web (status 404)\n"
     ]
    },
    {
     "name": "stderr",
     "output_type": "stream",
     "text": [
      "Processing forks:  29%|██▉       | 146/500 [00:02<00:06, 53.94it/s]"
     ]
    },
    {
     "name": "stdout",
     "output_type": "stream",
     "text": [
      "⚠️  Could not fetch master.zip for Bwe3dytr/ChatGPT-Next-Web (status 404)\n",
      "⚠️  Could not fetch main.zip for Twerfx9hx/ChatGPT-Next-Web (status 404)\n"
     ]
    },
    {
     "name": "stderr",
     "output_type": "stream",
     "text": [
      "Processing forks:  32%|███▏      | 160/500 [00:02<00:06, 49.42it/s]"
     ]
    },
    {
     "name": "stdout",
     "output_type": "stream",
     "text": [
      "⚠️  Could not fetch master.zip for Twerfx9hx/ChatGPT-Next-Web (status 404)\n",
      "⚠️  Could not fetch main.zip for ewers8/ChatGPT-Next-Web (status 404)\n"
     ]
    },
    {
     "name": "stderr",
     "output_type": "stream",
     "text": [
      "Processing forks:  38%|███▊      | 189/500 [00:03<00:05, 59.08it/s]"
     ]
    },
    {
     "name": "stdout",
     "output_type": "stream",
     "text": [
      "⚠️  Could not fetch master.zip for ewers8/ChatGPT-Next-Web (status 404)\n",
      "⚠️  Could not fetch main.zip for Hdger1xhg/ChatGPT-Next-Web (status 404)\n"
     ]
    },
    {
     "name": "stderr",
     "output_type": "stream",
     "text": [
      "Processing forks:  43%|████▎     | 213/500 [00:03<00:04, 62.22it/s]"
     ]
    },
    {
     "name": "stdout",
     "output_type": "stream",
     "text": [
      "⚠️  Could not fetch master.zip for Hdger1xhg/ChatGPT-Next-Web (status 404)\n",
      "⚠️  Could not fetch main.zip for hinya56/ChatGPT-Next-Web (status 404)\n"
     ]
    },
    {
     "name": "stderr",
     "output_type": "stream",
     "text": [
      "Processing forks:  44%|████▍     | 220/500 [00:03<00:05, 49.95it/s]"
     ]
    },
    {
     "name": "stdout",
     "output_type": "stream",
     "text": [
      "⚠️  Could not fetch master.zip for hinya56/ChatGPT-Next-Web (status 404)\n",
      "⚠️  Could not fetch main.zip for ccghu/ChatGPT-Web (status 404)\n"
     ]
    },
    {
     "name": "stderr",
     "output_type": "stream",
     "text": [
      "Processing forks:  49%|████▉     | 247/500 [00:04<00:04, 58.56it/s]"
     ]
    },
    {
     "name": "stdout",
     "output_type": "stream",
     "text": [
      "⚠️  Could not fetch master.zip for ccghu/ChatGPT-Web (status 404)\n",
      "⚠️  Could not fetch main.zip for lpcmk95/ChatGPT-Next-Web (status 404)\n"
     ]
    },
    {
     "name": "stderr",
     "output_type": "stream",
     "text": [
      "Processing forks:  51%|█████     | 253/500 [00:04<00:05, 44.26it/s]"
     ]
    },
    {
     "name": "stdout",
     "output_type": "stream",
     "text": [
      "⚠️  Could not fetch master.zip for lpcmk95/ChatGPT-Next-Web (status 404)\n",
      "⚠️  Could not fetch main.zip for grepWolf/ChatGPT-Next-Web (status 404)\n"
     ]
    },
    {
     "name": "stderr",
     "output_type": "stream",
     "text": [
      "Processing forks:  60%|█████▉    | 299/500 [00:05<00:02, 69.59it/s]"
     ]
    },
    {
     "name": "stdout",
     "output_type": "stream",
     "text": [
      "⚠️  Could not fetch master.zip for grepWolf/ChatGPT-Next-Web (status 404)\n",
      "⚠️  Could not fetch main.zip for EdmundBess/ChatGPT-Next-Web (status 404)\n"
     ]
    },
    {
     "name": "stderr",
     "output_type": "stream",
     "text": [
      "Processing forks:  61%|██████▏   | 307/500 [00:05<00:03, 55.80it/s]"
     ]
    },
    {
     "name": "stdout",
     "output_type": "stream",
     "text": [
      "⚠️  Could not fetch master.zip for EdmundBess/ChatGPT-Next-Web (status 404)\n",
      "⚠️  Could not fetch main.zip for unpkg-repository/ChatGPT-Next-Web (status 404)\n"
     ]
    },
    {
     "name": "stderr",
     "output_type": "stream",
     "text": [
      "Processing forks:  69%|██████▉   | 345/500 [00:05<00:02, 72.16it/s]"
     ]
    },
    {
     "name": "stdout",
     "output_type": "stream",
     "text": [
      "⚠️  Could not fetch master.zip for unpkg-repository/ChatGPT-Next-Web (status 404)\n",
      "⚠️  Could not fetch main.zip for peizi20251/ChatGPT-Next-Web (status 404)\n"
     ]
    },
    {
     "name": "stderr",
     "output_type": "stream",
     "text": [
      "Processing forks:  71%|███████   | 353/500 [00:06<00:02, 57.51it/s]"
     ]
    },
    {
     "name": "stdout",
     "output_type": "stream",
     "text": [
      "⚠️  Could not fetch master.zip for peizi20251/ChatGPT-Next-Web (status 404)\n",
      "⚠️  Could not fetch main.zip for ojsaenzc/ChatGPT-Next-Web (status 404)\n"
     ]
    },
    {
     "name": "stderr",
     "output_type": "stream",
     "text": [
      "Processing forks:  76%|███████▌  | 379/500 [00:06<00:01, 62.38it/s]"
     ]
    },
    {
     "name": "stdout",
     "output_type": "stream",
     "text": [
      "⚠️  Could not fetch master.zip for ojsaenzc/ChatGPT-Next-Web (status 404)\n",
      "⚠️  Could not fetch main.zip for Hwerfw31as/ChatGPT-Next-Web (status 404)\n"
     ]
    },
    {
     "name": "stderr",
     "output_type": "stream",
     "text": [
      "Processing forks:  77%|███████▋  | 386/500 [00:06<00:02, 49.92it/s]"
     ]
    },
    {
     "name": "stdout",
     "output_type": "stream",
     "text": [
      "⚠️  Could not fetch master.zip for Hwerfw31as/ChatGPT-Next-Web (status 404)\n",
      "⚠️  Could not fetch main.zip for lyklinuxdo/ChatGPT-Next-Web (status 404)\n"
     ]
    },
    {
     "name": "stderr",
     "output_type": "stream",
     "text": [
      "Processing forks:  89%|████████▊ | 443/500 [00:07<00:00, 84.16it/s]"
     ]
    },
    {
     "name": "stdout",
     "output_type": "stream",
     "text": [
      "⚠️  Could not fetch master.zip for lyklinuxdo/ChatGPT-Next-Web (status 404)\n",
      "⚠️  Could not fetch main.zip for Lsfew3B/ChatGPT-Next-Web (status 404)\n"
     ]
    },
    {
     "name": "stderr",
     "output_type": "stream",
     "text": [
      "Processing forks:  90%|█████████ | 452/500 [00:07<00:00, 67.42it/s]"
     ]
    },
    {
     "name": "stdout",
     "output_type": "stream",
     "text": [
      "⚠️  Could not fetch master.zip for Lsfew3B/ChatGPT-Next-Web (status 404)\n",
      "⚠️  Could not fetch main.zip for zhangkang0331/ChatGPT-Next-Web (status 404)\n",
      "⚠️  Could not fetch master.zip for zhangkang0331/ChatGPT-Next-Web (status 404)\n",
      "⚠️  Could not fetch main.zip for Hewtxz03/ChatGPT-Next-Web (status 404)\n"
     ]
    },
    {
     "name": "stderr",
     "output_type": "stream",
     "text": [
      "Processing forks:  92%|█████████▏| 459/500 [00:08<00:01, 39.64it/s]"
     ]
    },
    {
     "name": "stdout",
     "output_type": "stream",
     "text": [
      "⚠️  Could not fetch master.zip for Hewtxz03/ChatGPT-Next-Web (status 404)\n",
      "⚠️  Could not fetch main.zip for students-c/ChatGPT-Next-Web (status 404)\n"
     ]
    },
    {
     "name": "stderr",
     "output_type": "stream",
     "text": [
      "Processing forks:  93%|█████████▎| 464/500 [00:08<00:01, 33.05it/s]"
     ]
    },
    {
     "name": "stdout",
     "output_type": "stream",
     "text": [
      "⚠️  Could not fetch master.zip for students-c/ChatGPT-Next-Web (status 404)\n",
      "⚠️  Could not fetch main.zip for laoda191991/ChatGPT-Next-Web (status 404)\n"
     ]
    },
    {
     "name": "stderr",
     "output_type": "stream",
     "text": [
      "Processing forks: 100%|██████████| 500/500 [00:08<00:00, 56.39it/s]\n"
     ]
    },
    {
     "name": "stdout",
     "output_type": "stream",
     "text": [
      "⚠️  Could not fetch master.zip for laoda191991/ChatGPT-Next-Web (status 404)\n",
      "Batch: 12000\n"
     ]
    },
    {
     "name": "stderr",
     "output_type": "stream",
     "text": [
      "Processing forks:   0%|          | 0/500 [00:00<?, ?it/s]"
     ]
    },
    {
     "name": "stdout",
     "output_type": "stream",
     "text": [
      "⚠️  Could not fetch main.zip for Uowez/ChatGPT-Next-Web (status 404)\n"
     ]
    },
    {
     "name": "stderr",
     "output_type": "stream",
     "text": [
      "Processing forks:   2%|▏         | 11/500 [00:00<00:15, 31.28it/s]"
     ]
    },
    {
     "name": "stdout",
     "output_type": "stream",
     "text": [
      "⚠️  Could not fetch master.zip for Uowez/ChatGPT-Next-Web (status 404)\n",
      "⚠️  Could not fetch main.zip for Erwoa/ChatGPT-Next-Web (status 404)\n"
     ]
    },
    {
     "name": "stderr",
     "output_type": "stream",
     "text": [
      "Processing forks:   3%|▎         | 16/500 [00:00<00:22, 21.20it/s]"
     ]
    },
    {
     "name": "stdout",
     "output_type": "stream",
     "text": [
      "⚠️  Could not fetch master.zip for Erwoa/ChatGPT-Next-Web (status 404)\n",
      "⚠️  Could not fetch main.zip for Tezofn/ChatGPT-Next-Web (status 404)\n"
     ]
    },
    {
     "name": "stderr",
     "output_type": "stream",
     "text": [
      "Processing forks:   4%|▍         | 19/500 [00:01<00:30, 15.58it/s]"
     ]
    },
    {
     "name": "stdout",
     "output_type": "stream",
     "text": [
      "⚠️  Could not fetch master.zip for Tezofn/ChatGPT-Next-Web (status 404)\n",
      "⚠️  Could not fetch main.zip for Nwojze/ChatGPT-Next-Web (status 404)\n"
     ]
    },
    {
     "name": "stderr",
     "output_type": "stream",
     "text": [
      "Processing forks:   4%|▍         | 22/500 [00:01<00:36, 13.16it/s]"
     ]
    },
    {
     "name": "stdout",
     "output_type": "stream",
     "text": [
      "⚠️  Could not fetch master.zip for Nwojze/ChatGPT-Next-Web (status 404)\n",
      "⚠️  Could not fetch main.zip for Nuwozg/ChatGPT-Next-Web (status 404)\n"
     ]
    },
    {
     "name": "stderr",
     "output_type": "stream",
     "text": [
      "Processing forks:   6%|▌         | 29/500 [00:01<00:30, 15.32it/s]"
     ]
    },
    {
     "name": "stdout",
     "output_type": "stream",
     "text": [
      "⚠️  Could not fetch master.zip for Nuwozg/ChatGPT-Next-Web (status 404)\n",
      "⚠️  Could not fetch main.zip for Geauxgithub/ChatGPT-Next-Web (status 404)\n"
     ]
    },
    {
     "name": "stderr",
     "output_type": "stream",
     "text": [
      "Processing forks:  13%|█▎        | 63/500 [00:02<00:10, 42.64it/s]"
     ]
    },
    {
     "name": "stdout",
     "output_type": "stream",
     "text": [
      "⚠️  Could not fetch master.zip for Geauxgithub/ChatGPT-Next-Web (status 404)\n",
      "⚠️  Could not fetch main.zip for Beupaz/ChatGPT-Next-Web (status 404)\n"
     ]
    },
    {
     "name": "stderr",
     "output_type": "stream",
     "text": [
      "Processing forks:  23%|██▎       | 114/500 [00:02<00:05, 74.69it/s]"
     ]
    },
    {
     "name": "stdout",
     "output_type": "stream",
     "text": [
      "⚠️  Could not fetch master.zip for Beupaz/ChatGPT-Next-Web (status 404)\n",
      "⚠️  Could not fetch main.zip for Mkwprt/ChatGPT-Next-Web (status 404)\n",
      "⚠️  Could not fetch master.zip for Mkwprt/ChatGPT-Next-Web (status 404)\n",
      "⚠️  Could not fetch main.zip for Jcrowa/ChatGPT-Next-Web (status 404)\n",
      "⚠️  Could not fetch master.zip for Jcrowa/ChatGPT-Next-Web (status 404)\n",
      "⚠️  Could not fetch main.zip for Lpwerk/ChatGPT-Next-Web (status 404)\n"
     ]
    },
    {
     "name": "stderr",
     "output_type": "stream",
     "text": [
      "Processing forks:  24%|██▍       | 122/500 [00:03<00:10, 35.25it/s]"
     ]
    },
    {
     "name": "stdout",
     "output_type": "stream",
     "text": [
      "⚠️  Could not fetch master.zip for Lpwerk/ChatGPT-Next-Web (status 404)\n",
      "⚠️  Could not fetch main.zip for shimer123/ChatGPT-Next-Web (status 404)\n"
     ]
    },
    {
     "name": "stderr",
     "output_type": "stream",
     "text": [
      "Processing forks:  36%|███▌      | 181/500 [00:03<00:05, 62.74it/s]"
     ]
    },
    {
     "name": "stdout",
     "output_type": "stream",
     "text": [
      "⚠️  Could not fetch master.zip for shimer123/ChatGPT-Next-Web (status 404)\n"
     ]
    },
    {
     "name": "stderr",
     "output_type": "stream",
     "text": [
      "Processing forks:  69%|██████▉   | 347/500 [00:04<00:01, 152.40it/s]"
     ]
    },
    {
     "name": "stdout",
     "output_type": "stream",
     "text": [
      "⚠️  Could not fetch main.zip for chmaple003/ChatGPT-Next-Web (status 404)\n",
      "⚠️  Could not fetch master.zip for chmaple003/ChatGPT-Next-Web (status 404)\n",
      "⚠️  Could not fetch main.zip for gityoub/ChatGPT-Next-Web (status 404)\n"
     ]
    },
    {
     "name": "stderr",
     "output_type": "stream",
     "text": [
      "Processing forks:  74%|███████▎  | 368/500 [00:04<00:01, 126.21it/s]"
     ]
    },
    {
     "name": "stdout",
     "output_type": "stream",
     "text": [
      "⚠️  Could not fetch master.zip for gityoub/ChatGPT-Next-Web (status 404)\n",
      "⚠️  Could not fetch main.zip for bern9669/ChatGPT-Next-Web (status 404)\n"
     ]
    },
    {
     "name": "stderr",
     "output_type": "stream",
     "text": [
      "Processing forks:  84%|████████▍ | 422/500 [00:05<00:00, 132.73it/s]"
     ]
    },
    {
     "name": "stdout",
     "output_type": "stream",
     "text": [
      "⚠️  Could not fetch master.zip for bern9669/ChatGPT-Next-Web (status 404)\n",
      "⚠️  Could not fetch main.zip for Kanyingxuan/ChatGPT-Next-Web (status 404)\n"
     ]
    },
    {
     "name": "stderr",
     "output_type": "stream",
     "text": [
      "Processing forks: 100%|██████████| 500/500 [00:05<00:00, 91.80it/s] \n"
     ]
    },
    {
     "name": "stdout",
     "output_type": "stream",
     "text": [
      "⚠️  Could not fetch master.zip for Kanyingxuan/ChatGPT-Next-Web (status 404)\n",
      "Batch: 12500\n"
     ]
    },
    {
     "name": "stderr",
     "output_type": "stream",
     "text": [
      "Processing forks:   0%|          | 0/500 [00:00<?, ?it/s]"
     ]
    },
    {
     "name": "stdout",
     "output_type": "stream",
     "text": [
      "⚠️  Could not fetch main.zip for quarksm/ChatGPT-Next-Web (status 404)\n"
     ]
    },
    {
     "name": "stderr",
     "output_type": "stream",
     "text": [
      "Processing forks:   2%|▏         | 12/500 [00:00<00:13, 36.32it/s]"
     ]
    },
    {
     "name": "stdout",
     "output_type": "stream",
     "text": [
      "⚠️  Could not fetch master.zip for quarksm/ChatGPT-Next-Web (status 404)\n",
      "⚠️  Could not fetch main.zip for kennikefilr/ChatGPT-Next-Web (status 404)\n"
     ]
    },
    {
     "name": "stderr",
     "output_type": "stream",
     "text": [
      "Processing forks:   8%|▊         | 42/500 [00:00<00:07, 64.74it/s]"
     ]
    },
    {
     "name": "stdout",
     "output_type": "stream",
     "text": [
      "⚠️  Could not fetch master.zip for kennikefilr/ChatGPT-Next-Web (status 404)\n",
      "⚠️  Could not fetch main.zip for maoneaaaaaaa/ChatGPT-Next-Web (status 404)\n"
     ]
    },
    {
     "name": "stderr",
     "output_type": "stream",
     "text": [
      "Processing forks:  28%|██▊       | 139/500 [00:01<00:02, 152.76it/s]"
     ]
    },
    {
     "name": "stdout",
     "output_type": "stream",
     "text": [
      "⚠️  Could not fetch master.zip for maoneaaaaaaa/ChatGPT-Next-Web (status 404)\n",
      "⚠️  Could not fetch main.zip for kingmoon3/ChatGPT-Next-Web (status 404)\n"
     ]
    },
    {
     "name": "stderr",
     "output_type": "stream",
     "text": [
      "Processing forks:  55%|█████▌    | 275/500 [00:01<00:00, 232.74it/s]"
     ]
    },
    {
     "name": "stdout",
     "output_type": "stream",
     "text": [
      "⚠️  Could not fetch master.zip for kingmoon3/ChatGPT-Next-Web (status 404)\n",
      "⚠️  Could not fetch main.zip for eleanorenachazeljhj3622/ChatGPT-Next-Web (status 404)\n",
      "⚠️  Could not fetch master.zip for eleanorenachazeljhj3622/ChatGPT-Next-Web (status 404)\n"
     ]
    },
    {
     "name": "stderr",
     "output_type": "stream",
     "text": [
      "Processing forks:  60%|█████▉    | 298/500 [00:02<00:01, 122.08it/s]"
     ]
    },
    {
     "name": "stdout",
     "output_type": "stream",
     "text": [
      "⚠️  Could not fetch main.zip for shamblingeno/ChatGPT-Next-Web (status 404)\n",
      "⚠️  Could not fetch master.zip for shamblingeno/ChatGPT-Next-Web (status 404)\n",
      "⚠️  Could not fetch main.zip for ch0712maple02/ChatGPT-Next-Web (status 404)\n"
     ]
    },
    {
     "name": "stderr",
     "output_type": "stream",
     "text": [
      "Processing forks:  63%|██████▎   | 314/500 [00:02<00:01, 98.34it/s] "
     ]
    },
    {
     "name": "stdout",
     "output_type": "stream",
     "text": [
      "⚠️  Could not fetch master.zip for ch0712maple02/ChatGPT-Next-Web (status 404)\n",
      "⚠️  Could not fetch main.zip for safg0013/ChatGPT-Next-Web (status 404)\n"
     ]
    },
    {
     "name": "stderr",
     "output_type": "stream",
     "text": [
      "Processing forks:  71%|███████   | 355/500 [00:03<00:01, 101.17it/s]"
     ]
    },
    {
     "name": "stdout",
     "output_type": "stream",
     "text": [
      "⚠️  Could not fetch master.zip for safg0013/ChatGPT-Next-Web (status 404)\n",
      "⚠️  Could not fetch main.zip for ieaphy/ChatGPT-Next-Web (status 404)\n"
     ]
    },
    {
     "name": "stderr",
     "output_type": "stream",
     "text": [
      "Processing forks:  83%|████████▎ | 413/500 [00:03<00:00, 117.65it/s]"
     ]
    },
    {
     "name": "stdout",
     "output_type": "stream",
     "text": [
      "⚠️  Could not fetch master.zip for ieaphy/ChatGPT-Next-Web (status 404)\n",
      "⚠️  Could not fetch main.zip for ibmchat1/ChatGPT-Next-Web (status 404)\n"
     ]
    },
    {
     "name": "stderr",
     "output_type": "stream",
     "text": [
      "Processing forks:  85%|████████▌ | 426/500 [00:03<00:00, 95.70it/s] "
     ]
    },
    {
     "name": "stdout",
     "output_type": "stream",
     "text": [
      "⚠️  Could not fetch master.zip for ibmchat1/ChatGPT-Next-Web (status 404)\n",
      "⚠️  Could not fetch main.zip for mrmh0u3q/ChatGPT-Next-Web (status 404)\n"
     ]
    },
    {
     "name": "stderr",
     "output_type": "stream",
     "text": [
      "Processing forks:  88%|████████▊ | 440/500 [00:04<00:00, 78.82it/s]"
     ]
    },
    {
     "name": "stdout",
     "output_type": "stream",
     "text": [
      "⚠️  Could not fetch master.zip for mrmh0u3q/ChatGPT-Next-Web (status 404)\n",
      "⚠️  Could not fetch main.zip for Aracelisandr/ChatGPT-Next-Web (status 404)\n"
     ]
    },
    {
     "name": "stderr",
     "output_type": "stream",
     "text": [
      "Processing forks:  90%|████████▉ | 449/500 [00:04<00:00, 61.97it/s]"
     ]
    },
    {
     "name": "stdout",
     "output_type": "stream",
     "text": [
      "⚠️  Could not fetch master.zip for Aracelisandr/ChatGPT-Next-Web (status 404)\n",
      "⚠️  Could not fetch main.zip for AnKeson1/ChatGPT-Next-Web (status 404)\n"
     ]
    },
    {
     "name": "stderr",
     "output_type": "stream",
     "text": [
      "Processing forks: 100%|██████████| 500/500 [00:04<00:00, 102.46it/s]\n"
     ]
    },
    {
     "name": "stdout",
     "output_type": "stream",
     "text": [
      "⚠️  Could not fetch master.zip for AnKeson1/ChatGPT-Next-Web (status 404)\n",
      "Batch: 13000\n"
     ]
    },
    {
     "name": "stderr",
     "output_type": "stream",
     "text": [
      "Processing forks:   0%|          | 0/500 [00:00<?, ?it/s]"
     ]
    },
    {
     "name": "stdout",
     "output_type": "stream",
     "text": [
      "⚠️  Could not fetch main.zip for jayceblue96/ChatGPT-Next-Web (status 404)\n"
     ]
    },
    {
     "name": "stderr",
     "output_type": "stream",
     "text": [
      "Processing forks:  18%|█▊        | 91/500 [00:00<00:01, 243.55it/s]"
     ]
    },
    {
     "name": "stdout",
     "output_type": "stream",
     "text": [
      "⚠️  Could not fetch master.zip for jayceblue96/ChatGPT-Next-Web (status 404)\n",
      "⚠️  Could not fetch main.zip for kleist233/ChatGPT-Next-Web (status 404)\n",
      "⚠️  Could not fetch master.zip for kleist233/ChatGPT-Next-Web (status 404)\n"
     ]
    },
    {
     "name": "stderr",
     "output_type": "stream",
     "text": [
      "Processing forks:  23%|██▎       | 116/500 [00:01<00:05, 67.45it/s]"
     ]
    },
    {
     "name": "stdout",
     "output_type": "stream",
     "text": [
      "⚠️  Could not fetch main.zip for klarnfun/ChatGPT-Next-Web (status 404)\n",
      "⚠️  Could not fetch master.zip for klarnfun/ChatGPT-Next-Web (status 404)\n"
     ]
    },
    {
     "name": "stderr",
     "output_type": "stream",
     "text": [
      "Processing forks:  30%|██▉       | 148/500 [00:01<00:04, 74.04it/s]"
     ]
    },
    {
     "name": "stdout",
     "output_type": "stream",
     "text": [
      "⚠️  Could not fetch main.zip for rockybeerus97/ChatGPT-Next-Web (status 404)\n",
      "⚠️  Could not fetch master.zip for rockybeerus97/ChatGPT-Next-Web (status 404)\n"
     ]
    },
    {
     "name": "stderr",
     "output_type": "stream",
     "text": [
      "Processing forks:  37%|███▋      | 183/500 [00:02<00:03, 81.41it/s]"
     ]
    },
    {
     "name": "stdout",
     "output_type": "stream",
     "text": [
      "⚠️  Could not fetch main.zip for xaguss/ChatGPT-Next-Web (status 404)\n",
      "⚠️  Could not fetch master.zip for xaguss/ChatGPT-Next-Web (status 404)\n"
     ]
    },
    {
     "name": "stderr",
     "output_type": "stream",
     "text": [
      "Processing forks:  46%|████▌     | 228/500 [00:02<00:02, 95.85it/s]"
     ]
    },
    {
     "name": "stdout",
     "output_type": "stream",
     "text": [
      "⚠️  Could not fetch main.zip for pojihaasyu/ChatGPT-Next-Web (status 404)\n",
      "⚠️  Could not fetch master.zip for pojihaasyu/ChatGPT-Next-Web (status 404)\n"
     ]
    },
    {
     "name": "stderr",
     "output_type": "stream",
     "text": [
      "Processing forks:  57%|█████▋    | 285/500 [00:02<00:01, 115.41it/s]"
     ]
    },
    {
     "name": "stdout",
     "output_type": "stream",
     "text": [
      "⚠️  Could not fetch main.zip for Qianran0215/ChatGPT-Next-Web (status 404)\n",
      "⚠️  Could not fetch master.zip for Qianran0215/ChatGPT-Next-Web (status 404)\n"
     ]
    },
    {
     "name": "stderr",
     "output_type": "stream",
     "text": [
      "Processing forks:  84%|████████▍ | 419/500 [00:03<00:00, 189.41it/s]"
     ]
    },
    {
     "name": "stdout",
     "output_type": "stream",
     "text": [
      "⚠️  Could not fetch main.zip for utinbt/ChatGPT-Next-Web (status 404)\n",
      "⚠️  Could not fetch master.zip for utinbt/ChatGPT-Next-Web (status 404)\n",
      "⚠️  Could not fetch main.zip for DKFDDFB44/ChatGPT-Next-Web (status 404)\n",
      "⚠️  Could not fetch master.zip for DKFDDFB44/ChatGPT-Next-Web (status 404)\n"
     ]
    },
    {
     "name": "stderr",
     "output_type": "stream",
     "text": [
      "Processing forks:  88%|████████▊ | 440/500 [00:03<00:00, 116.15it/s]"
     ]
    },
    {
     "name": "stdout",
     "output_type": "stream",
     "text": [
      "⚠️  Could not fetch main.zip for Jenepinto/ChatGPT-Next-Web (status 404)\n",
      "⚠️  Could not fetch master.zip for Jenepinto/ChatGPT-Next-Web (status 404)\n"
     ]
    },
    {
     "name": "stderr",
     "output_type": "stream",
     "text": [
      "Processing forks:  96%|█████████▋| 482/500 [00:04<00:00, 116.48it/s]"
     ]
    },
    {
     "name": "stdout",
     "output_type": "stream",
     "text": [
      "⚠️  Could not fetch main.zip for luo20240308/ChatGPT-Next-Web (status 404)\n",
      "⚠️  Could not fetch master.zip for luo20240308/ChatGPT-Next-Web (status 404)\n",
      "⚠️  Could not fetch main.zip for f20240308/ChatGPT-Next-Web (status 404)\n",
      "⚠️  Could not fetch master.zip for f20240308/ChatGPT-Next-Web (status 404)\n",
      "⚠️  Could not fetch main.zip for fusak1/ChatGPT-Next-Web (status 404)\n",
      "⚠️  Could not fetch master.zip for fusak1/ChatGPT-Next-Web (status 404)\n"
     ]
    },
    {
     "name": "stderr",
     "output_type": "stream",
     "text": [
      "Processing forks:  99%|█████████▉| 496/500 [00:05<00:00, 61.20it/s] "
     ]
    },
    {
     "name": "stdout",
     "output_type": "stream",
     "text": [
      "⚠️  Could not fetch main.zip for c20240308/ChatGPT-Next-Web (status 404)\n",
      "⚠️  Could not fetch master.zip for c20240308/ChatGPT-Next-Web (status 404)\n"
     ]
    },
    {
     "name": "stderr",
     "output_type": "stream",
     "text": [
      "Processing forks: 100%|██████████| 500/500 [00:05<00:00, 86.45it/s]\n"
     ]
    },
    {
     "name": "stdout",
     "output_type": "stream",
     "text": [
      "⚠️  Could not fetch main.zip for git20240308/ChatGPT-Next-Web (status 404)\n",
      "⚠️  Could not fetch master.zip for git20240308/ChatGPT-Next-Web (status 404)\n",
      "Batch: 13500\n"
     ]
    },
    {
     "name": "stderr",
     "output_type": "stream",
     "text": [
      "Processing forks:   7%|▋         | 34/500 [00:00<00:04, 96.31it/s]"
     ]
    },
    {
     "name": "stdout",
     "output_type": "stream",
     "text": [
      "⚠️  Could not fetch main.zip for cc1314ch/ChatGPT-Next-Web (status 404)\n",
      "⚠️  Could not fetch master.zip for cc1314ch/ChatGPT-Next-Web (status 404)\n"
     ]
    },
    {
     "name": "stderr",
     "output_type": "stream",
     "text": [
      "Processing forks:  29%|██▉       | 144/500 [00:00<00:01, 228.97it/s]"
     ]
    },
    {
     "name": "stdout",
     "output_type": "stream",
     "text": [
      "⚠️  Could not fetch main.zip for gogo20240303/ChatGPT-Next-Web (status 404)\n",
      "⚠️  Could not fetch master.zip for gogo20240303/ChatGPT-Next-Web (status 404)\n"
     ]
    },
    {
     "name": "stderr",
     "output_type": "stream",
     "text": [
      "Processing forks:  45%|████▌     | 226/500 [00:01<00:01, 226.20it/s]"
     ]
    },
    {
     "name": "stdout",
     "output_type": "stream",
     "text": [
      "⚠️  Could not fetch main.zip for glory-hzbz/ChatGPT-Next-Web (status 404)\n",
      "⚠️  Could not fetch master.zip for glory-hzbz/ChatGPT-Next-Web (status 404)\n"
     ]
    },
    {
     "name": "stderr",
     "output_type": "stream",
     "text": [
      "Processing forks:  64%|██████▍   | 319/500 [00:01<00:00, 235.58it/s]"
     ]
    },
    {
     "name": "stdout",
     "output_type": "stream",
     "text": [
      "⚠️  Could not fetch main.zip for maple12311/ChatGPT-Next-Web (status 404)\n",
      "⚠️  Could not fetch master.zip for maple12311/ChatGPT-Next-Web (status 404)\n"
     ]
    },
    {
     "name": "stderr",
     "output_type": "stream",
     "text": [
      "Processing forks:  69%|██████▊   | 343/500 [00:01<00:00, 176.40it/s]"
     ]
    },
    {
     "name": "stdout",
     "output_type": "stream",
     "text": [
      "⚠️  Could not fetch main.zip for bye-20240303/ChatGPT-Next-Web (status 404)\n",
      "⚠️  Could not fetch master.zip for bye-20240303/ChatGPT-Next-Web (status 404)\n"
     ]
    },
    {
     "name": "stderr",
     "output_type": "stream",
     "text": [
      "Processing forks:  82%|████████▏ | 412/500 [00:02<00:00, 183.04it/s]"
     ]
    },
    {
     "name": "stdout",
     "output_type": "stream",
     "text": [
      "⚠️  Could not fetch main.zip for Giteacode/ChatGPT-Next-Web (status 404)\n",
      "⚠️  Could not fetch master.zip for Giteacode/ChatGPT-Next-Web (status 404)\n"
     ]
    },
    {
     "name": "stderr",
     "output_type": "stream",
     "text": [
      "Processing forks:  88%|████████▊ | 438/500 [00:02<00:00, 147.94it/s]"
     ]
    },
    {
     "name": "stdout",
     "output_type": "stream",
     "text": [
      "⚠️  Could not fetch main.zip for mtjszqj/ChatGPT-Next-Web (status 404)\n",
      "⚠️  Could not fetch master.zip for mtjszqj/ChatGPT-Next-Web (status 404)\n",
      "⚠️  Could not fetch main.zip for OpenAIbY/ChatGPT-Online (status 404)\n"
     ]
    },
    {
     "name": "stderr",
     "output_type": "stream",
     "text": [
      "Processing forks: 100%|██████████| 500/500 [00:02<00:00, 174.88it/s]\n"
     ]
    },
    {
     "name": "stdout",
     "output_type": "stream",
     "text": [
      "⚠️  Could not fetch master.zip for OpenAIbY/ChatGPT-Online (status 404)\n",
      "Batch: 14000\n"
     ]
    },
    {
     "name": "stderr",
     "output_type": "stream",
     "text": [
      "Processing forks:   0%|          | 0/500 [00:00<?, ?it/s]"
     ]
    },
    {
     "name": "stdout",
     "output_type": "stream",
     "text": [
      "⚠️  Could not fetch main.zip for loganwestke7g/ChatGPT-Next-Web (status 404)\n"
     ]
    },
    {
     "name": "stderr",
     "output_type": "stream",
     "text": [
      "Processing forks:   2%|▏         | 8/500 [00:00<00:21, 23.22it/s]"
     ]
    },
    {
     "name": "stdout",
     "output_type": "stream",
     "text": [
      "⚠️  Could not fetch master.zip for loganwestke7g/ChatGPT-Next-Web (status 404)\n",
      "⚠️  Could not fetch main.zip for aowu993/ChatGPT-Next-Web (status 404)\n"
     ]
    },
    {
     "name": "stderr",
     "output_type": "stream",
     "text": [
      "Processing forks:   8%|▊         | 40/500 [00:00<00:07, 64.07it/s]"
     ]
    },
    {
     "name": "stdout",
     "output_type": "stream",
     "text": [
      "⚠️  Could not fetch master.zip for aowu993/ChatGPT-Next-Web (status 404)\n",
      "⚠️  Could not fetch main.zip for paned0e/ChatGPT-Next-Web (status 404)\n",
      "⚠️  Could not fetch master.zip for paned0e/ChatGPT-Next-Web (status 404)\n"
     ]
    },
    {
     "name": "stderr",
     "output_type": "stream",
     "text": [
      "Processing forks:   9%|▉         | 47/500 [00:01<00:10, 42.22it/s]"
     ]
    },
    {
     "name": "stdout",
     "output_type": "stream",
     "text": [
      "⚠️  Could not fetch main.zip for 51meets/ChatGPT-Next-Web (status 404)\n"
     ]
    },
    {
     "name": "stderr",
     "output_type": "stream",
     "text": [
      "Processing forks:  10%|█         | 52/500 [00:01<00:14, 31.41it/s]"
     ]
    },
    {
     "name": "stdout",
     "output_type": "stream",
     "text": [
      "⚠️  Could not fetch master.zip for 51meets/ChatGPT-Next-Web (status 404)\n",
      "⚠️  Could not fetch main.zip for minecraftyu/ChatGPT-Next-Web (status 404)\n"
     ]
    },
    {
     "name": "stderr",
     "output_type": "stream",
     "text": [
      "Processing forks:  16%|█▌        | 80/500 [00:01<00:08, 48.31it/s]"
     ]
    },
    {
     "name": "stdout",
     "output_type": "stream",
     "text": [
      "⚠️  Could not fetch master.zip for minecraftyu/ChatGPT-Next-Web (status 404)\n",
      "⚠️  Could not fetch main.zip for ffyy2/ChatGPT-Next-Web (status 404)\n"
     ]
    },
    {
     "name": "stderr",
     "output_type": "stream",
     "text": [
      "Processing forks:  17%|█▋        | 86/500 [00:02<00:11, 36.50it/s]"
     ]
    },
    {
     "name": "stdout",
     "output_type": "stream",
     "text": [
      "⚠️  Could not fetch master.zip for ffyy2/ChatGPT-Next-Web (status 404)\n",
      "⚠️  Could not fetch main.zip for wlbspr-HNBALmos/ChatGPT-Next-Web (status 404)\n"
     ]
    },
    {
     "name": "stderr",
     "output_type": "stream",
     "text": [
      "Processing forks:  18%|█▊        | 92/500 [00:02<00:14, 28.87it/s]"
     ]
    },
    {
     "name": "stdout",
     "output_type": "stream",
     "text": [
      "⚠️  Could not fetch master.zip for wlbspr-HNBALmos/ChatGPT-Next-Web (status 404)\n",
      "⚠️  Could not fetch main.zip for jdjdjdndbkwiiwie/ChatGPT-Next-Web (status 404)\n"
     ]
    },
    {
     "name": "stderr",
     "output_type": "stream",
     "text": [
      "Processing forks:  21%|██        | 105/500 [00:02<00:12, 30.86it/s]"
     ]
    },
    {
     "name": "stdout",
     "output_type": "stream",
     "text": [
      "⚠️  Could not fetch master.zip for jdjdjdndbkwiiwie/ChatGPT-Next-Web (status 404)\n",
      "⚠️  Could not fetch main.zip for terryluying/ChatGPT-Next-Web (status 404)\n"
     ]
    },
    {
     "name": "stderr",
     "output_type": "stream",
     "text": [
      "Processing forks:  22%|██▏       | 111/500 [00:03<00:14, 27.19it/s]"
     ]
    },
    {
     "name": "stdout",
     "output_type": "stream",
     "text": [
      "⚠️  Could not fetch master.zip for terryluying/ChatGPT-Next-Web (status 404)\n"
     ]
    },
    {
     "name": "stderr",
     "output_type": "stream",
     "text": [
      "Processing forks:  38%|███▊      | 191/500 [00:03<00:03, 83.82it/s]"
     ]
    },
    {
     "name": "stdout",
     "output_type": "stream",
     "text": [
      "⚠️  Could not fetch main.zip for 25829365639/ChatGPT-Next-Web1 (status 404)\n",
      "⚠️  Could not fetch master.zip for 25829365639/ChatGPT-Next-Web1 (status 404)\n"
     ]
    },
    {
     "name": "stderr",
     "output_type": "stream",
     "text": [
      "Processing forks:  40%|████      | 201/500 [00:04<00:04, 65.54it/s]"
     ]
    },
    {
     "name": "stdout",
     "output_type": "stream",
     "text": [
      "⚠️  Could not fetch main.zip for KeLe112/ChatGPT-Next-Web (status 404)\n",
      "⚠️  Could not fetch master.zip for KeLe112/ChatGPT-Next-Web (status 404)\n"
     ]
    },
    {
     "name": "stderr",
     "output_type": "stream",
     "text": [
      "Processing forks:  44%|████▍     | 219/500 [00:04<00:04, 61.38it/s]"
     ]
    },
    {
     "name": "stdout",
     "output_type": "stream",
     "text": [
      "⚠️  Could not fetch main.zip for ZIqpyutzyd/ChatGPT-Next-Web (status 404)\n",
      "⚠️  Could not fetch master.zip for ZIqpyutzyd/ChatGPT-Next-Web (status 404)\n",
      "⚠️  Could not fetch main.zip for 250942161/ChatGPT-Next-Web (status 404)\n"
     ]
    },
    {
     "name": "stderr",
     "output_type": "stream",
     "text": [
      "Processing forks:  47%|████▋     | 235/500 [00:05<00:06, 39.33it/s]"
     ]
    },
    {
     "name": "stdout",
     "output_type": "stream",
     "text": [
      "⚠️  Could not fetch master.zip for 250942161/ChatGPT-Next-Web (status 404)\n",
      "⚠️  Could not fetch main.zip for vova-kum85tol/ChatGPT-Next-Web (status 404)\n"
     ]
    },
    {
     "name": "stderr",
     "output_type": "stream",
     "text": [
      "Processing forks:  53%|█████▎    | 265/500 [00:05<00:04, 49.62it/s]"
     ]
    },
    {
     "name": "stdout",
     "output_type": "stream",
     "text": [
      "⚠️  Could not fetch master.zip for vova-kum85tol/ChatGPT-Next-Web (status 404)\n",
      "⚠️  Could not fetch main.zip for tclyburn7/ChatGPT-Next-Web (status 404)\n"
     ]
    },
    {
     "name": "stderr",
     "output_type": "stream",
     "text": [
      "Processing forks:  66%|██████▌   | 330/500 [00:06<00:02, 79.09it/s]"
     ]
    },
    {
     "name": "stdout",
     "output_type": "stream",
     "text": [
      "⚠️  Could not fetch master.zip for tclyburn7/ChatGPT-Next-Web (status 404)\n",
      "⚠️  Could not fetch main.zip for tor-lara/ChatGPT-Next-Web (status 404)\n",
      "⚠️  Could not fetch master.zip for tor-lara/ChatGPT-Next-Web (status 404)\n",
      "⚠️  Could not fetch main.zip for transigoadr/ChatGPT-Next-Web (status 404)\n"
     ]
    },
    {
     "name": "stderr",
     "output_type": "stream",
     "text": [
      "Processing forks:  68%|██████▊   | 339/500 [00:06<00:03, 53.03it/s]"
     ]
    },
    {
     "name": "stdout",
     "output_type": "stream",
     "text": [
      "⚠️  Could not fetch master.zip for transigoadr/ChatGPT-Next-Web (status 404)\n",
      "⚠️  Could not fetch main.zip for scriptydudexd/ChatGPT-Next-Web (status 404)\n"
     ]
    },
    {
     "name": "stderr",
     "output_type": "stream",
     "text": [
      "Processing forks:  87%|████████▋ | 433/500 [00:07<00:00, 96.38it/s]"
     ]
    },
    {
     "name": "stdout",
     "output_type": "stream",
     "text": [
      "⚠️  Could not fetch master.zip for scriptydudexd/ChatGPT-Next-Web (status 404)\n",
      "⚠️  Could not fetch main.zip for ginkakalot97/ChatGPT-Next-Web (status 404)\n"
     ]
    },
    {
     "name": "stderr",
     "output_type": "stream",
     "text": [
      "Processing forks: 100%|██████████| 500/500 [00:07<00:00, 66.29it/s]\n"
     ]
    },
    {
     "name": "stdout",
     "output_type": "stream",
     "text": [
      "⚠️  Could not fetch master.zip for ginkakalot97/ChatGPT-Next-Web (status 404)\n",
      "Batch: 14500\n"
     ]
    },
    {
     "name": "stderr",
     "output_type": "stream",
     "text": [
      "Processing forks:   0%|          | 0/500 [00:00<?, ?it/s]"
     ]
    },
    {
     "name": "stdout",
     "output_type": "stream",
     "text": [
      "⚠️  Could not fetch main.zip for zengbiaoqiang/ChatGPT-Next-Web (status 404)\n"
     ]
    },
    {
     "name": "stderr",
     "output_type": "stream",
     "text": [
      "Processing forks:   5%|▌         | 26/500 [00:00<00:06, 72.82it/s]"
     ]
    },
    {
     "name": "stdout",
     "output_type": "stream",
     "text": [
      "⚠️  Could not fetch master.zip for zengbiaoqiang/ChatGPT-Next-Web (status 404)\n",
      "⚠️  Could not fetch main.zip for KusugawaS/ChatGPTNextWeb (status 404)\n"
     ]
    },
    {
     "name": "stderr",
     "output_type": "stream",
     "text": [
      "Processing forks:  11%|█         | 53/500 [00:00<00:06, 72.62it/s]"
     ]
    },
    {
     "name": "stdout",
     "output_type": "stream",
     "text": [
      "⚠️  Could not fetch master.zip for KusugawaS/ChatGPTNextWeb (status 404)\n",
      "⚠️  Could not fetch main.zip for ssisissiwiaiia/ChatGPT-Next-Web (status 404)\n"
     ]
    },
    {
     "name": "stderr",
     "output_type": "stream",
     "text": [
      "Processing forks:  31%|███       | 153/500 [00:01<00:02, 170.26it/s]"
     ]
    },
    {
     "name": "stdout",
     "output_type": "stream",
     "text": [
      "⚠️  Could not fetch master.zip for ssisissiwiaiia/ChatGPT-Next-Web (status 404)\n",
      "⚠️  Could not fetch main.zip for aakakkakas/ChatGPT-Next-Web (status 404)\n",
      "⚠️  Could not fetch master.zip for aakakkakas/ChatGPT-Next-Web (status 404)\n",
      "⚠️  Could not fetch main.zip for yun422376542/ChatGPT-Next-Web (status 404)\n",
      "⚠️  Could not fetch master.zip for yun422376542/ChatGPT-Next-Web (status 404)\n",
      "⚠️  Could not fetch main.zip for jackmillerdev1/ChatGPT-Next-Web (status 404)\n"
     ]
    },
    {
     "name": "stderr",
     "output_type": "stream",
     "text": [
      "Processing forks:  34%|███▍      | 171/500 [00:02<00:06, 51.79it/s] "
     ]
    },
    {
     "name": "stdout",
     "output_type": "stream",
     "text": [
      "⚠️  Could not fetch master.zip for jackmillerdev1/ChatGPT-Next-Web (status 404)\n",
      "⚠️  Could not fetch main.zip for Maskvfx/ChatGPT-Next-Web (status 404)\n"
     ]
    },
    {
     "name": "stderr",
     "output_type": "stream",
     "text": [
      "Processing forks:  44%|████▍     | 220/500 [00:03<00:04, 68.45it/s]"
     ]
    },
    {
     "name": "stdout",
     "output_type": "stream",
     "text": [
      "⚠️  Could not fetch master.zip for Maskvfx/ChatGPT-Next-Web (status 404)\n",
      "⚠️  Could not fetch main.zip for iatp555/ChatGPT-Next-Web (status 404)\n"
     ]
    },
    {
     "name": "stderr",
     "output_type": "stream",
     "text": [
      "Processing forks:  54%|█████▍    | 270/500 [00:03<00:02, 84.59it/s]"
     ]
    },
    {
     "name": "stdout",
     "output_type": "stream",
     "text": [
      "⚠️  Could not fetch master.zip for iatp555/ChatGPT-Next-Web (status 404)\n"
     ]
    },
    {
     "name": "stderr",
     "output_type": "stream",
     "text": [
      "Processing forks:  76%|███████▋  | 382/500 [00:03<00:00, 134.06it/s]"
     ]
    },
    {
     "name": "stdout",
     "output_type": "stream",
     "text": [
      "⚠️  Could not fetch main.zip for t-Authenting/ChatGPT-Next-Web (status 404)\n",
      "⚠️  Could not fetch master.zip for t-Authenting/ChatGPT-Next-Web (status 404)\n"
     ]
    },
    {
     "name": "stderr",
     "output_type": "stream",
     "text": [
      "Processing forks: 100%|██████████| 500/500 [00:04<00:00, 120.80it/s]\n"
     ]
    },
    {
     "name": "stdout",
     "output_type": "stream",
     "text": [
      "⚠️  Could not fetch main.zip for ForumWizardShabbysp/ChatGPT-Next-Web (status 404)\n",
      "⚠️  Could not fetch master.zip for ForumWizardShabbysp/ChatGPT-Next-Web (status 404)\n",
      "Batch: 15000\n"
     ]
    },
    {
     "name": "stderr",
     "output_type": "stream",
     "text": [
      "Processing forks:   5%|▌         | 26/500 [00:00<00:05, 79.15it/s]"
     ]
    },
    {
     "name": "stdout",
     "output_type": "stream",
     "text": [
      "⚠️  Could not fetch main.zip for iamlkx666/ChatGPT-Next-Web (status 404)\n",
      "⚠️  Could not fetch master.zip for iamlkx666/ChatGPT-Next-Web (status 404)\n"
     ]
    },
    {
     "name": "stderr",
     "output_type": "stream",
     "text": [
      "Processing forks:   7%|▋         | 34/500 [00:00<00:10, 45.45it/s]"
     ]
    },
    {
     "name": "stdout",
     "output_type": "stream",
     "text": [
      "⚠️  Could not fetch main.zip for 84-StroonsHulk/ChatGPT-Next-Web (status 404)\n",
      "⚠️  Could not fetch master.zip for 84-StroonsHulk/ChatGPT-Next-Web (status 404)\n"
     ]
    },
    {
     "name": "stderr",
     "output_type": "stream",
     "text": [
      "Processing forks:   8%|▊         | 39/500 [00:01<00:14, 30.92it/s]"
     ]
    },
    {
     "name": "stdout",
     "output_type": "stream",
     "text": [
      "⚠️  Could not fetch main.zip for Kdeschne/ChatGPT-Next-Web (status 404)\n",
      "⚠️  Could not fetch master.zip for Kdeschne/ChatGPT-Next-Web (status 404)\n"
     ]
    },
    {
     "name": "stderr",
     "output_type": "stream",
     "text": [
      "Processing forks:  16%|█▌        | 81/500 [00:01<00:06, 63.37it/s]"
     ]
    },
    {
     "name": "stdout",
     "output_type": "stream",
     "text": [
      "⚠️  Could not fetch main.zip for CharmskuComdarcui/ChatGPT-Next-Web (status 404)\n",
      "⚠️  Could not fetch master.zip for CharmskuComdarcui/ChatGPT-Next-Web (status 404)\n"
     ]
    },
    {
     "name": "stderr",
     "output_type": "stream",
     "text": [
      "Processing forks:  19%|█▉        | 95/500 [00:02<00:14, 27.11it/s]"
     ]
    },
    {
     "name": "stdout",
     "output_type": "stream",
     "text": [
      "⚠️  Could not fetch main.zip for 40-MotoLedger/ChatGPT-Next-Web (status 404)\n",
      "⚠️  Could not fetch master.zip for 40-MotoLedger/ChatGPT-Next-Web (status 404)\n"
     ]
    },
    {
     "name": "stderr",
     "output_type": "stream",
     "text": [
      "Processing forks:  54%|█████▍    | 270/500 [00:03<00:01, 119.39it/s]"
     ]
    },
    {
     "name": "stdout",
     "output_type": "stream",
     "text": [
      "⚠️  Could not fetch main.zip for zmmww/ChatGPT-Next-Web (status 404)\n",
      "⚠️  Could not fetch master.zip for zmmww/ChatGPT-Next-Web (status 404)\n"
     ]
    },
    {
     "name": "stderr",
     "output_type": "stream",
     "text": [
      "Processing forks:  63%|██████▎   | 313/500 [00:03<00:01, 119.35it/s]"
     ]
    },
    {
     "name": "stdout",
     "output_type": "stream",
     "text": [
      "⚠️  Could not fetch main.zip for AxwerbitThegaSeen/ChatGPT-Next-Web (status 404)\n",
      "⚠️  Could not fetch master.zip for AxwerbitThegaSeen/ChatGPT-Next-Web (status 404)\n"
     ]
    },
    {
     "name": "stderr",
     "output_type": "stream",
     "text": [
      "Processing forks:  66%|██████▌   | 330/500 [00:03<00:01, 103.69it/s]"
     ]
    },
    {
     "name": "stdout",
     "output_type": "stream",
     "text": [
      "⚠️  Could not fetch main.zip for 8063Esvcodes/ChatGPT-Next-Web (status 404)\n",
      "⚠️  Could not fetch master.zip for 8063Esvcodes/ChatGPT-Next-Web (status 404)\n"
     ]
    },
    {
     "name": "stderr",
     "output_type": "stream",
     "text": [
      "Processing forks:  76%|███████▋  | 382/500 [00:04<00:01, 115.27it/s]"
     ]
    },
    {
     "name": "stdout",
     "output_type": "stream",
     "text": [
      "⚠️  Could not fetch main.zip for ujourcstcccaa/ChatGPT-Next-Web (status 404)\n",
      "⚠️  Could not fetch master.zip for ujourcstcccaa/ChatGPT-Next-Web (status 404)\n",
      "⚠️  Could not fetch main.zip for sqpcyxnzcccc/ChatGPT-Next-Web (status 404)\n",
      "⚠️  Could not fetch master.zip for sqpcyxnzcccc/ChatGPT-Next-Web (status 404)\n",
      "⚠️  Could not fetch main.zip for zxbynmvncc/ChatGPT-Next-Web (status 404)\n",
      "⚠️  Could not fetch master.zip for zxbynmvncc/ChatGPT-Next-Web (status 404)\n"
     ]
    },
    {
     "name": "stderr",
     "output_type": "stream",
     "text": [
      "Processing forks:  79%|███████▉  | 396/500 [00:05<00:01, 62.32it/s] "
     ]
    },
    {
     "name": "stdout",
     "output_type": "stream",
     "text": [
      "⚠️  Could not fetch main.zip for uhhmzcxbc/ChatGPT-Next-Web (status 404)\n",
      "⚠️  Could not fetch master.zip for uhhmzcxbc/ChatGPT-Next-Web (status 404)\n"
     ]
    },
    {
     "name": "stderr",
     "output_type": "stream",
     "text": [
      "Processing forks:  85%|████████▌ | 426/500 [00:05<00:01, 66.62it/s]"
     ]
    },
    {
     "name": "stdout",
     "output_type": "stream",
     "text": [
      "⚠️  Could not fetch main.zip for xuly28wy23pub/ChatGPT-Next-Web (status 404)\n",
      "⚠️  Could not fetch master.zip for xuly28wy23pub/ChatGPT-Next-Web (status 404)\n"
     ]
    },
    {
     "name": "stderr",
     "output_type": "stream",
     "text": [
      "Processing forks:  89%|████████▉ | 446/500 [00:05<00:00, 65.12it/s]"
     ]
    },
    {
     "name": "stdout",
     "output_type": "stream",
     "text": [
      "⚠️  Could not fetch main.zip for copyi/ChatGPT-Next-Web (status 404)\n",
      "⚠️  Could not fetch master.zip for copyi/ChatGPT-Next-Web (status 404)\n"
     ]
    },
    {
     "name": "stderr",
     "output_type": "stream",
     "text": [
      "Processing forks:  91%|█████████ | 455/500 [00:06<00:00, 55.17it/s]"
     ]
    },
    {
     "name": "stdout",
     "output_type": "stream",
     "text": [
      "⚠️  Could not fetch main.zip for volkgulaas/ChatGPT-Next-Web (status 404)\n",
      "⚠️  Could not fetch master.zip for volkgulaas/ChatGPT-Next-Web (status 404)\n"
     ]
    },
    {
     "name": "stderr",
     "output_type": "stream",
     "text": [
      "Processing forks: 100%|██████████| 500/500 [00:06<00:00, 74.97it/s]\n"
     ]
    },
    {
     "name": "stdout",
     "output_type": "stream",
     "text": [
      "⚠️  Could not fetch main.zip for xghfcgh/ChatGPT-Next-Web (status 404)\n",
      "⚠️  Could not fetch master.zip for xghfcgh/ChatGPT-Next-Web (status 404)\n",
      "Batch: 15500\n"
     ]
    },
    {
     "name": "stderr",
     "output_type": "stream",
     "text": [
      "Processing forks:   1%|          | 6/500 [00:00<00:29, 16.53it/s]"
     ]
    },
    {
     "name": "stdout",
     "output_type": "stream",
     "text": [
      "⚠️  Could not fetch main.zip for fubwdtmsd64/ChatGPT-Next-Web (status 404)\n",
      "⚠️  Could not fetch master.zip for fubwdtmsd64/ChatGPT-Next-Web (status 404)\n",
      "⚠️  Could not fetch main.zip for kbgbvhnrpp42413/ChatGPT-Next-Web (status 404)\n",
      "⚠️  Could not fetch master.zip for kbgbvhnrpp42413/ChatGPT-Next-Web (status 404)\n"
     ]
    },
    {
     "name": "stderr",
     "output_type": "stream",
     "text": [
      "Processing forks:   2%|▏         | 8/500 [00:01<01:18,  6.29it/s]"
     ]
    },
    {
     "name": "stdout",
     "output_type": "stream",
     "text": [
      "⚠️  Could not fetch main.zip for yanshuangi/ChatGPT-Next-Web (status 404)\n",
      "⚠️  Could not fetch master.zip for yanshuangi/ChatGPT-Next-Web (status 404)\n"
     ]
    },
    {
     "name": "stderr",
     "output_type": "stream",
     "text": [
      "Processing forks:   2%|▏         | 10/500 [00:01<01:21,  6.01it/s]"
     ]
    },
    {
     "name": "stdout",
     "output_type": "stream",
     "text": [
      "⚠️  Could not fetch main.zip for anshengjinyuci/ChatGPT-Next-Web (status 404)\n",
      "⚠️  Could not fetch master.zip for anshengjinyuci/ChatGPT-Next-Web (status 404)\n"
     ]
    },
    {
     "name": "stderr",
     "output_type": "stream",
     "text": [
      "Processing forks:   9%|▉         | 46/500 [00:01<00:12, 36.86it/s]"
     ]
    },
    {
     "name": "stdout",
     "output_type": "stream",
     "text": [
      "⚠️  Could not fetch main.zip for opcwang/ChatGPT-Next-Web (status 404)\n",
      "⚠️  Could not fetch master.zip for opcwang/ChatGPT-Next-Web (status 404)\n"
     ]
    },
    {
     "name": "stderr",
     "output_type": "stream",
     "text": [
      "Processing forks:  12%|█▏        | 60/500 [00:02<00:11, 37.53it/s]"
     ]
    },
    {
     "name": "stdout",
     "output_type": "stream",
     "text": [
      "⚠️  Could not fetch main.zip for HymanAgnes/ChatGPT-Next-Web (status 404)\n",
      "⚠️  Could not fetch master.zip for HymanAgnes/ChatGPT-Next-Web (status 404)\n"
     ]
    },
    {
     "name": "stderr",
     "output_type": "stream",
     "text": [
      "Processing forks:  21%|██        | 106/500 [00:02<00:05, 65.68it/s]"
     ]
    },
    {
     "name": "stdout",
     "output_type": "stream",
     "text": [
      "⚠️  Could not fetch main.zip for belugaHackz/ChatGPT-Next-Web (status 404)\n",
      "⚠️  Could not fetch master.zip for belugaHackz/ChatGPT-Next-Web (status 404)\n"
     ]
    },
    {
     "name": "stderr",
     "output_type": "stream",
     "text": [
      "Processing forks:  25%|██▌       | 125/500 [00:02<00:06, 62.01it/s]"
     ]
    },
    {
     "name": "stdout",
     "output_type": "stream",
     "text": [
      "⚠️  Could not fetch main.zip for Kubucoin/ChatGPT-Next-Web (status 404)\n",
      "⚠️  Could not fetch master.zip for Kubucoin/ChatGPT-Next-Web (status 404)\n",
      "⚠️  Could not fetch main.zip for ywxknb/ChatGPT-Next-Web (status 404)\n"
     ]
    },
    {
     "name": "stderr",
     "output_type": "stream",
     "text": [
      "Processing forks:  26%|██▋       | 132/500 [00:03<00:07, 48.56it/s]"
     ]
    },
    {
     "name": "stdout",
     "output_type": "stream",
     "text": [
      "⚠️  Could not fetch master.zip for ywxknb/ChatGPT-Next-Web (status 404)\n"
     ]
    },
    {
     "name": "stderr",
     "output_type": "stream",
     "text": [
      "Processing forks:  34%|███▍      | 170/500 [00:03<00:06, 53.22it/s]"
     ]
    },
    {
     "name": "stdout",
     "output_type": "stream",
     "text": [
      "⚠️  Could not fetch main.zip for vola-chansontryp/ChatGPT-Next-Web (status 404)\n",
      "⚠️  Could not fetch master.zip for vola-chansontryp/ChatGPT-Next-Web (status 404)\n"
     ]
    },
    {
     "name": "stderr",
     "output_type": "stream",
     "text": [
      "Processing forks:  57%|█████▋    | 286/500 [00:04<00:01, 120.23it/s]"
     ]
    },
    {
     "name": "stdout",
     "output_type": "stream",
     "text": [
      "⚠️  Could not fetch main.zip for Qubu-hub/-Next-Web (status 404)\n",
      "⚠️  Could not fetch master.zip for Qubu-hub/-Next-Web (status 404)\n"
     ]
    },
    {
     "name": "stderr",
     "output_type": "stream",
     "text": [
      "Processing forks:  80%|███████▉  | 399/500 [00:04<00:00, 170.60it/s]"
     ]
    },
    {
     "name": "stdout",
     "output_type": "stream",
     "text": [
      "⚠️  Could not fetch main.zip for zzzjim1/ChatGPT-Next-Web (status 404)\n",
      "⚠️  Could not fetch master.zip for zzzjim1/ChatGPT-Next-Web (status 404)\n"
     ]
    },
    {
     "name": "stderr",
     "output_type": "stream",
     "text": [
      "Processing forks:  84%|████████▎ | 418/500 [00:05<00:00, 139.43it/s]"
     ]
    },
    {
     "name": "stdout",
     "output_type": "stream",
     "text": [
      "⚠️  Could not fetch main.zip for Korkmzf/ChatGPT-Next-Web3 (status 404)\n",
      "⚠️  Could not fetch master.zip for Korkmzf/ChatGPT-Next-Web3 (status 404)\n"
     ]
    },
    {
     "name": "stderr",
     "output_type": "stream",
     "text": [
      "Processing forks: 100%|██████████| 500/500 [00:05<00:00, 93.10it/s] \n"
     ]
    },
    {
     "name": "stdout",
     "output_type": "stream",
     "text": [
      "⚠️  Could not fetch main.zip for zy769409993/ChatGPT-Next-Web (status 404)\n",
      "⚠️  Could not fetch master.zip for zy769409993/ChatGPT-Next-Web (status 404)\n",
      "Batch: 16000\n"
     ]
    },
    {
     "name": "stderr",
     "output_type": "stream",
     "text": [
      "Processing forks:  12%|█▏        | 62/500 [00:00<00:02, 182.67it/s]"
     ]
    },
    {
     "name": "stdout",
     "output_type": "stream",
     "text": [
      "⚠️  Could not fetch main.zip for wchnnlhdce953/ChatGPT-Next-Web (status 404)\n",
      "⚠️  Could not fetch master.zip for wchnnlhdce953/ChatGPT-Next-Web (status 404)\n"
     ]
    },
    {
     "name": "stderr",
     "output_type": "stream",
     "text": [
      "Processing forks:  16%|█▌        | 81/500 [00:00<00:04, 103.94it/s]"
     ]
    },
    {
     "name": "stdout",
     "output_type": "stream",
     "text": [
      "⚠️  Could not fetch main.zip for LeiSoft/ChatGPT-Next-Web (status 404)\n",
      "⚠️  Could not fetch master.zip for LeiSoft/ChatGPT-Next-Web (status 404)\n"
     ]
    },
    {
     "name": "stderr",
     "output_type": "stream",
     "text": [
      "Processing forks:  41%|████      | 203/500 [00:01<00:01, 210.64it/s]"
     ]
    },
    {
     "name": "stdout",
     "output_type": "stream",
     "text": [
      "⚠️  Could not fetch main.zip for fanstingman/ChatGPT-Next-Web (status 404)\n",
      "⚠️  Could not fetch master.zip for fanstingman/ChatGPT-Next-Web (status 404)\n"
     ]
    },
    {
     "name": "stderr",
     "output_type": "stream",
     "text": [
      "Processing forks:  47%|████▋     | 234/500 [00:01<00:01, 160.53it/s]"
     ]
    },
    {
     "name": "stdout",
     "output_type": "stream",
     "text": [
      "⚠️  Could not fetch main.zip for tory-stell/ChatGPT-Next-Web (status 404)\n",
      "⚠️  Could not fetch master.zip for tory-stell/ChatGPT-Next-Web (status 404)\n"
     ]
    },
    {
     "name": "stderr",
     "output_type": "stream",
     "text": [
      "Processing forks:  50%|█████     | 251/500 [00:01<00:02, 121.56it/s]"
     ]
    },
    {
     "name": "stdout",
     "output_type": "stream",
     "text": [
      "⚠️  Could not fetch main.zip for sunchaoxiang/ChatGPT-Next-Web (status 404)\n",
      "⚠️  Could not fetch master.zip for sunchaoxiang/ChatGPT-Next-Web (status 404)\n",
      "⚠️  Could not fetch main.zip for MuskAPI/ChatGPT-Next-Web (status 404)\n",
      "⚠️  Could not fetch master.zip for MuskAPI/ChatGPT-Next-Web (status 404)\n"
     ]
    },
    {
     "name": "stderr",
     "output_type": "stream",
     "text": [
      "Processing forks:  60%|██████    | 301/500 [00:02<00:02, 94.39it/s] "
     ]
    },
    {
     "name": "stdout",
     "output_type": "stream",
     "text": [
      "⚠️  Could not fetch main.zip for vikazemlyachkara/ChatGPT-Next-Web (status 404)\n",
      "⚠️  Could not fetch master.zip for vikazemlyachkara/ChatGPT-Next-Web (status 404)\n"
     ]
    },
    {
     "name": "stderr",
     "output_type": "stream",
     "text": [
      "Processing forks:  70%|██████▉   | 349/500 [00:02<00:01, 108.13it/s]"
     ]
    },
    {
     "name": "stdout",
     "output_type": "stream",
     "text": [
      "⚠️  Could not fetch main.zip for vitekblr/ChatGPT-Next-Web (status 404)\n",
      "⚠️  Could not fetch master.zip for vitekblr/ChatGPT-Next-Web (status 404)\n",
      "⚠️  Could not fetch main.zip for wanted-gufi/ChatGPT-Next-Web (status 404)\n"
     ]
    },
    {
     "name": "stderr",
     "output_type": "stream",
     "text": [
      "Processing forks:  72%|███████▏  | 360/500 [00:03<00:01, 81.53it/s] "
     ]
    },
    {
     "name": "stdout",
     "output_type": "stream",
     "text": [
      "⚠️  Could not fetch master.zip for wanted-gufi/ChatGPT-Next-Web (status 404)\n",
      "⚠️  Could not fetch main.zip for xhd193694/ChatGPT-Next-Web (status 404)\n"
     ]
    },
    {
     "name": "stderr",
     "output_type": "stream",
     "text": [
      "Processing forks:  76%|███████▌  | 379/500 [00:03<00:01, 73.81it/s]"
     ]
    },
    {
     "name": "stdout",
     "output_type": "stream",
     "text": [
      "⚠️  Could not fetch master.zip for xhd193694/ChatGPT-Next-Web (status 404)\n",
      "⚠️  Could not fetch main.zip for xipins1/ChatGPT-Next-Web (status 404)\n"
     ]
    },
    {
     "name": "stderr",
     "output_type": "stream",
     "text": [
      "Processing forks:  77%|███████▋  | 387/500 [00:03<00:01, 57.16it/s]"
     ]
    },
    {
     "name": "stdout",
     "output_type": "stream",
     "text": [
      "⚠️  Could not fetch master.zip for xipins1/ChatGPT-Next-Web (status 404)\n",
      "⚠️  Could not fetch main.zip for bewfz/ChatGPT-Next-Web-cst (status 404)\n"
     ]
    },
    {
     "name": "stderr",
     "output_type": "stream",
     "text": [
      "Processing forks:  79%|███████▉  | 396/500 [00:04<00:02, 45.03it/s]"
     ]
    },
    {
     "name": "stdout",
     "output_type": "stream",
     "text": [
      "⚠️  Could not fetch master.zip for bewfz/ChatGPT-Next-Web-cst (status 404)\n",
      "⚠️  Could not fetch main.zip for tenaka4806/ChatGPT-Next-Web (status 404)\n",
      "⚠️  Could not fetch master.zip for tenaka4806/ChatGPT-Next-Web (status 404)\n",
      "⚠️  Could not fetch main.zip for nwaoyyawoog/ChatGPT-Next-Web (status 404)\n"
     ]
    },
    {
     "name": "stderr",
     "output_type": "stream",
     "text": [
      "Processing forks:  80%|████████  | 401/500 [00:05<00:03, 27.59it/s]"
     ]
    },
    {
     "name": "stdout",
     "output_type": "stream",
     "text": [
      "⚠️  Could not fetch master.zip for nwaoyyawoog/ChatGPT-Next-Web (status 404)\n",
      "⚠️  Could not fetch main.zip for tatutatuirovka/ChatGPT-Next-Web (status 404)\n"
     ]
    },
    {
     "name": "stderr",
     "output_type": "stream",
     "text": [
      "Processing forks:  90%|█████████ | 451/500 [00:05<00:00, 54.56it/s]"
     ]
    },
    {
     "name": "stdout",
     "output_type": "stream",
     "text": [
      "⚠️  Could not fetch master.zip for tatutatuirovka/ChatGPT-Next-Web (status 404)\n",
      "⚠️  Could not fetch main.zip for lixiao13361212048/ChatGPT-Next-Web (status 404)\n"
     ]
    },
    {
     "name": "stderr",
     "output_type": "stream",
     "text": [
      "Processing forks: 100%|██████████| 500/500 [00:05<00:00, 85.10it/s]\n"
     ]
    },
    {
     "name": "stdout",
     "output_type": "stream",
     "text": [
      "⚠️  Could not fetch master.zip for lixiao13361212048/ChatGPT-Next-Web (status 404)\n",
      "Batch: 16500\n"
     ]
    },
    {
     "name": "stderr",
     "output_type": "stream",
     "text": [
      "Processing forks:   0%|          | 0/500 [00:00<?, ?it/s]"
     ]
    },
    {
     "name": "stdout",
     "output_type": "stream",
     "text": [
      "⚠️  Could not fetch main.zip for PIPB0Y/ChatGPT-Next-Web (status 404)\n"
     ]
    },
    {
     "name": "stderr",
     "output_type": "stream",
     "text": [
      "Processing forks:  25%|██▌       | 126/500 [00:00<00:01, 324.63it/s]"
     ]
    },
    {
     "name": "stdout",
     "output_type": "stream",
     "text": [
      "⚠️  Could not fetch master.zip for PIPB0Y/ChatGPT-Next-Web (status 404)\n",
      "⚠️  Could not fetch main.zip for baitru5/ChatGPT-Next-Web (status 404)\n"
     ]
    },
    {
     "name": "stderr",
     "output_type": "stream",
     "text": [
      "Processing forks:  39%|███▊      | 193/500 [00:00<00:01, 243.89it/s]"
     ]
    },
    {
     "name": "stdout",
     "output_type": "stream",
     "text": [
      "⚠️  Could not fetch master.zip for baitru5/ChatGPT-Next-Web (status 404)\n",
      "⚠️  Could not fetch main.zip for baicaibe/ChatGPT-Next-Web (status 404)\n",
      "⚠️  Could not fetch master.zip for baicaibe/ChatGPT-Next-Web (status 404)\n",
      "⚠️  Could not fetch main.zip for 3xiaoyang/ChatGPT-Next-Web (status 404)\n",
      "⚠️  Could not fetch master.zip for 3xiaoyang/ChatGPT-Next-Web (status 404)\n",
      "⚠️  Could not fetch main.zip for lareinaFreedom/ChatGPT-Next-Web (status 404)\n"
     ]
    },
    {
     "name": "stderr",
     "output_type": "stream",
     "text": [
      "Processing forks:  44%|████▎     | 218/500 [00:01<00:03, 89.49it/s] "
     ]
    },
    {
     "name": "stdout",
     "output_type": "stream",
     "text": [
      "⚠️  Could not fetch master.zip for lareinaFreedom/ChatGPT-Next-Web (status 404)\n",
      "⚠️  Could not fetch main.zip for yanliangsun/ysunGPT (status 404)\n"
     ]
    },
    {
     "name": "stderr",
     "output_type": "stream",
     "text": [
      "Processing forks:  77%|███████▋  | 383/500 [00:02<00:00, 180.80it/s]"
     ]
    },
    {
     "name": "stdout",
     "output_type": "stream",
     "text": [
      "⚠️  Could not fetch master.zip for yanliangsun/ysunGPT (status 404)\n",
      "⚠️  Could not fetch main.zip for liubao66/ChatGPT-Next-Web (status 404)\n",
      "⚠️  Could not fetch master.zip for liubao66/ChatGPT-Next-Web (status 404)\n",
      "⚠️  Could not fetch main.zip for ifsoslane/ChatGPT-Next-Web (status 404)\n"
     ]
    },
    {
     "name": "stderr",
     "output_type": "stream",
     "text": [
      "Processing forks:  82%|████████▏ | 409/500 [00:02<00:00, 120.42it/s]"
     ]
    },
    {
     "name": "stdout",
     "output_type": "stream",
     "text": [
      "⚠️  Could not fetch master.zip for ifsoslane/ChatGPT-Next-Web (status 404)\n",
      "⚠️  Could not fetch main.zip for fakebody1/ChatGPT-Next-Web (status 404)\n"
     ]
    },
    {
     "name": "stderr",
     "output_type": "stream",
     "text": [
      "Processing forks: 100%|██████████| 500/500 [00:03<00:00, 152.45it/s]\n"
     ]
    },
    {
     "name": "stdout",
     "output_type": "stream",
     "text": [
      "⚠️  Could not fetch master.zip for fakebody1/ChatGPT-Next-Web (status 404)\n",
      "Batch: 17000\n"
     ]
    },
    {
     "name": "stderr",
     "output_type": "stream",
     "text": [
      "Processing forks:   3%|▎         | 16/500 [00:00<00:10, 44.37it/s]"
     ]
    },
    {
     "name": "stdout",
     "output_type": "stream",
     "text": [
      "⚠️  Could not fetch main.zip for tracerkot/ChatGPT-Next-Web (status 404)\n",
      "⚠️  Could not fetch master.zip for tracerkot/ChatGPT-Next-Web (status 404)\n"
     ]
    },
    {
     "name": "stderr",
     "output_type": "stream",
     "text": [
      "Processing forks:   8%|▊         | 39/500 [00:00<00:07, 57.86it/s]"
     ]
    },
    {
     "name": "stdout",
     "output_type": "stream",
     "text": [
      "⚠️  Could not fetch main.zip for waccqlitta/ChatGPT-Next-Web (status 404)\n",
      "⚠️  Could not fetch master.zip for waccqlitta/ChatGPT-Next-Web (status 404)\n"
     ]
    },
    {
     "name": "stderr",
     "output_type": "stream",
     "text": [
      "Processing forks:  16%|█▌        | 79/500 [00:01<00:05, 77.18it/s]"
     ]
    },
    {
     "name": "stdout",
     "output_type": "stream",
     "text": [
      "⚠️  Could not fetch main.zip for 12qwd/ChatGPT-Next-Web (status 404)\n",
      "⚠️  Could not fetch master.zip for 12qwd/ChatGPT-Next-Web (status 404)\n"
     ]
    },
    {
     "name": "stderr",
     "output_type": "stream",
     "text": [
      "Processing forks:  23%|██▎       | 116/500 [00:01<00:04, 84.76it/s]"
     ]
    },
    {
     "name": "stdout",
     "output_type": "stream",
     "text": [
      "⚠️  Could not fetch main.zip for BenjaminBrooks11/ChatGPT-Next-Web (status 404)\n",
      "⚠️  Could not fetch master.zip for BenjaminBrooks11/ChatGPT-Next-Web (status 404)\n",
      "⚠️  Could not fetch main.zip for 131Epiphany/ChatGPT-Next-Web (status 404)\n"
     ]
    },
    {
     "name": "stderr",
     "output_type": "stream",
     "text": [
      "Processing forks:  41%|████      | 206/500 [00:01<00:02, 134.42it/s]"
     ]
    },
    {
     "name": "stdout",
     "output_type": "stream",
     "text": [
      "⚠️  Could not fetch master.zip for 131Epiphany/ChatGPT-Next-Web (status 404)\n"
     ]
    },
    {
     "name": "stderr",
     "output_type": "stream",
     "text": [
      "Processing forks: 100%|██████████| 500/500 [00:02<00:00, 213.29it/s]"
     ]
    },
    {
     "name": "stdout",
     "output_type": "stream",
     "text": [
      "⚠️  Could not fetch main.zip for thetripp/ChatGPT-Next-Web (status 404)\n",
      "⚠️  Could not fetch master.zip for thetripp/ChatGPT-Next-Web (status 404)\n"
     ]
    },
    {
     "name": "stderr",
     "output_type": "stream",
     "text": [
      "\n"
     ]
    },
    {
     "name": "stdout",
     "output_type": "stream",
     "text": [
      "Batch: 17500\n"
     ]
    },
    {
     "name": "stderr",
     "output_type": "stream",
     "text": [
      "Processing forks:   0%|          | 0/500 [00:00<?, ?it/s]"
     ]
    },
    {
     "name": "stdout",
     "output_type": "stream",
     "text": [
      "⚠️  Could not fetch main.zip for hanshat/ChatGPT-Next-Web (status 404)\n"
     ]
    },
    {
     "name": "stderr",
     "output_type": "stream",
     "text": [
      "Processing forks:  13%|█▎        | 64/500 [00:00<00:02, 172.71it/s]"
     ]
    },
    {
     "name": "stdout",
     "output_type": "stream",
     "text": [
      "⚠️  Could not fetch master.zip for hanshat/ChatGPT-Next-Web (status 404)\n",
      "⚠️  Could not fetch main.zip for mangost/ChatGPT-Next-Web (status 404)\n"
     ]
    },
    {
     "name": "stderr",
     "output_type": "stream",
     "text": [
      "Processing forks:  27%|██▋       | 133/500 [00:00<00:01, 184.00it/s]"
     ]
    },
    {
     "name": "stdout",
     "output_type": "stream",
     "text": [
      "⚠️  Could not fetch master.zip for mangost/ChatGPT-Next-Web (status 404)\n",
      "⚠️  Could not fetch main.zip for thashbloodstorm/ChatGPT-Next-Web (status 404)\n"
     ]
    },
    {
     "name": "stderr",
     "output_type": "stream",
     "text": [
      "Processing forks:  37%|███▋      | 187/500 [00:01<00:01, 165.86it/s]"
     ]
    },
    {
     "name": "stdout",
     "output_type": "stream",
     "text": [
      "⚠️  Could not fetch master.zip for thashbloodstorm/ChatGPT-Next-Web (status 404)\n"
     ]
    },
    {
     "name": "stderr",
     "output_type": "stream",
     "text": [
      "Processing forks:  56%|█████▌    | 280/500 [00:01<00:01, 199.31it/s]"
     ]
    },
    {
     "name": "stdout",
     "output_type": "stream",
     "text": [
      "⚠️  Could not fetch main.zip for 93u49vctrn34wr/ChatGPT-Next-Web (status 404)\n",
      "⚠️  Could not fetch master.zip for 93u49vctrn34wr/ChatGPT-Next-Web (status 404)\n"
     ]
    },
    {
     "name": "stderr",
     "output_type": "stream",
     "text": [
      "Processing forks:  64%|██████▍   | 322/500 [00:01<00:01, 164.68it/s]"
     ]
    },
    {
     "name": "stdout",
     "output_type": "stream",
     "text": [
      "⚠️  Could not fetch main.zip for duankengzuan/ChatGPT-Next-Web (status 404)\n",
      "⚠️  Could not fetch master.zip for duankengzuan/ChatGPT-Next-Web (status 404)\n"
     ]
    },
    {
     "name": "stderr",
     "output_type": "stream",
     "text": [
      "Processing forks:  75%|███████▌  | 375/500 [00:02<00:00, 160.51it/s]"
     ]
    },
    {
     "name": "stdout",
     "output_type": "stream",
     "text": [
      "⚠️  Could not fetch main.zip for techJYX/ChatGPT-Next-Web (status 404)\n",
      "⚠️  Could not fetch master.zip for techJYX/ChatGPT-Next-Web (status 404)\n"
     ]
    },
    {
     "name": "stderr",
     "output_type": "stream",
     "text": [
      "Processing forks: 100%|██████████| 500/500 [00:02<00:00, 192.46it/s]\n"
     ]
    },
    {
     "name": "stdout",
     "output_type": "stream",
     "text": [
      "⚠️  Could not fetch main.zip for KikiLoynd/ChatGPT-Next-Web (status 404)\n",
      "⚠️  Could not fetch master.zip for KikiLoynd/ChatGPT-Next-Web (status 404)\n",
      "Batch: 18000\n"
     ]
    },
    {
     "name": "stderr",
     "output_type": "stream",
     "text": [
      "Processing forks:   1%|          | 3/500 [00:00<00:58,  8.56it/s]"
     ]
    },
    {
     "name": "stdout",
     "output_type": "stream",
     "text": [
      "⚠️  Could not fetch main.zip for asssaa123/ChatGPT-Next-Web (status 404)\n",
      "⚠️  Could not fetch master.zip for asssaa123/ChatGPT-Next-Web (status 404)\n"
     ]
    },
    {
     "name": "stderr",
     "output_type": "stream",
     "text": [
      "Processing forks:   9%|▉         | 44/500 [00:00<00:06, 69.59it/s]"
     ]
    },
    {
     "name": "stdout",
     "output_type": "stream",
     "text": [
      "⚠️  Could not fetch main.zip for JFay-i/ChatGPT-Next-Web (status 404)\n",
      "⚠️  Could not fetch master.zip for JFay-i/ChatGPT-Next-Web (status 404)\n"
     ]
    },
    {
     "name": "stderr",
     "output_type": "stream",
     "text": [
      "Processing forks:  13%|█▎        | 64/500 [00:01<00:06, 63.41it/s]"
     ]
    },
    {
     "name": "stdout",
     "output_type": "stream",
     "text": [
      "⚠️  Could not fetch main.zip for wuwuwuwuaa/ChatGPT-Next-Web (status 404)\n",
      "⚠️  Could not fetch master.zip for wuwuwuwuaa/ChatGPT-Next-Web (status 404)\n",
      "⚠️  Could not fetch main.zip for Chris-door/ChatGPT-Next-Web (status 404)\n",
      "⚠️  Could not fetch master.zip for Chris-door/ChatGPT-Next-Web (status 404)\n"
     ]
    },
    {
     "name": "stderr",
     "output_type": "stream",
     "text": [
      "Processing forks:  14%|█▍        | 71/500 [00:01<00:12, 34.53it/s]"
     ]
    },
    {
     "name": "stdout",
     "output_type": "stream",
     "text": [
      "⚠️  Could not fetch main.zip for uttttttt/ChatGPT-Next-Web (status 404)\n",
      "⚠️  Could not fetch master.zip for uttttttt/ChatGPT-Next-Web (status 404)\n"
     ]
    },
    {
     "name": "stderr",
     "output_type": "stream",
     "text": [
      "Processing forks:  15%|█▌        | 76/500 [00:02<00:14, 28.47it/s]"
     ]
    },
    {
     "name": "stdout",
     "output_type": "stream",
     "text": [
      "⚠️  Could not fetch main.zip for zxoozx4178/ChatGPT-Next-Web (status 404)\n",
      "⚠️  Could not fetch master.zip for zxoozx4178/ChatGPT-Next-Web (status 404)\n"
     ]
    },
    {
     "name": "stderr",
     "output_type": "stream",
     "text": [
      "Processing forks:  54%|█████▎    | 268/500 [00:02<00:01, 175.49it/s]"
     ]
    },
    {
     "name": "stdout",
     "output_type": "stream",
     "text": [
      "⚠️  Could not fetch main.zip for backlion/ChatGPT-Next-Web (status 404)\n",
      "⚠️  Could not fetch master.zip for backlion/ChatGPT-Next-Web (status 404)\n"
     ]
    },
    {
     "name": "stderr",
     "output_type": "stream",
     "text": [
      "Processing forks:  69%|██████▉   | 346/500 [00:02<00:00, 188.06it/s]"
     ]
    },
    {
     "name": "stdout",
     "output_type": "stream",
     "text": [
      "⚠️  Could not fetch main.zip for YuZhang257/ChatGPT-Next-Web (status 404)\n",
      "⚠️  Could not fetch master.zip for YuZhang257/ChatGPT-Next-Web (status 404)\n"
     ]
    },
    {
     "name": "stderr",
     "output_type": "stream",
     "text": [
      "Processing forks:  74%|███████▍  | 370/500 [00:03<00:00, 154.44it/s]"
     ]
    },
    {
     "name": "stdout",
     "output_type": "stream",
     "text": [
      "⚠️  Could not fetch main.zip for poniugryyt/ChatGPT-Next-Web (status 404)\n",
      "⚠️  Could not fetch master.zip for poniugryyt/ChatGPT-Next-Web (status 404)\n",
      "⚠️  Could not fetch main.zip for yycon/ChatGPT-Next-Web (status 404)\n",
      "⚠️  Could not fetch master.zip for yycon/ChatGPT-Next-Web (status 404)\n"
     ]
    },
    {
     "name": "stderr",
     "output_type": "stream",
     "text": [
      "Processing forks:  77%|███████▋  | 386/500 [00:03<00:01, 94.96it/s] "
     ]
    },
    {
     "name": "stdout",
     "output_type": "stream",
     "text": [
      "⚠️  Could not fetch main.zip for lili807/ChatGPT-Next-Web (status 404)\n",
      "⚠️  Could not fetch master.zip for lili807/ChatGPT-Next-Web (status 404)\n"
     ]
    },
    {
     "name": "stderr",
     "output_type": "stream",
     "text": [
      "Processing forks:  83%|████████▎ | 417/500 [00:04<00:00, 93.93it/s]"
     ]
    },
    {
     "name": "stdout",
     "output_type": "stream",
     "text": [
      "⚠️  Could not fetch main.zip for zlkngoayaw/ChatGPT-Next-Web (status 404)\n",
      "⚠️  Could not fetch master.zip for zlkngoayaw/ChatGPT-Next-Web (status 404)\n",
      "⚠️  Could not fetch main.zip for zgowyagww/ChatGPT-Next-Web (status 404)\n",
      "⚠️  Could not fetch master.zip for zgowyagww/ChatGPT-Next-Web (status 404)\n",
      "⚠️  Could not fetch main.zip for zowngyaw/ChatGPT-Next-Web (status 404)\n",
      "⚠️  Could not fetch master.zip for zowngyaw/ChatGPT-Next-Web (status 404)\n",
      "⚠️  Could not fetch main.zip for xowngyoayg/ChatGPT-Next-Web (status 404)\n",
      "⚠️  Could not fetch master.zip for xowngyoayg/ChatGPT-Next-Web (status 404)\n",
      "⚠️  Could not fetch main.zip for wignlyag/ChatGPT-Next-Web (status 404)\n",
      "⚠️  Could not fetch master.zip for wignlyag/ChatGPT-Next-Web (status 404)\n",
      "⚠️  Could not fetch main.zip for vwoangyawg/ChatGPT-Next-Web (status 404)\n",
      "⚠️  Could not fetch master.zip for vwoangyawg/ChatGPT-Next-Web (status 404)\n",
      "⚠️  Could not fetch main.zip for ugowanyg/ChatGPT-Next-Web (status 404)\n",
      "⚠️  Could not fetch master.zip for ugowanyg/ChatGPT-Next-Web (status 404)\n",
      "⚠️  Could not fetch main.zip for niwalgoawyg/ChatGPT-Next-Web (status 404)\n",
      "⚠️  Could not fetch master.zip for niwalgoawyg/ChatGPT-Next-Web (status 404)\n"
     ]
    },
    {
     "name": "stderr",
     "output_type": "stream",
     "text": [
      "Processing forks:  86%|████████▌ | 428/500 [00:07<00:02, 27.19it/s]"
     ]
    },
    {
     "name": "stdout",
     "output_type": "stream",
     "text": [
      "⚠️  Could not fetch main.zip for mwingoayaw/ChatGPT-Next-Web (status 404)\n",
      "⚠️  Could not fetch master.zip for mwingoayaw/ChatGPT-Next-Web (status 404)\n",
      "⚠️  Could not fetch main.zip for lingowayld/ChatGPT-Next-Web (status 404)\n",
      "⚠️  Could not fetch master.zip for lingowayld/ChatGPT-Next-Web (status 404)\n",
      "⚠️  Could not fetch main.zip for kignowag/ChatGPT-Next-Web (status 404)\n",
      "⚠️  Could not fetch master.zip for kignowag/ChatGPT-Next-Web (status 404)\n",
      "⚠️  Could not fetch main.zip for jwoawnoga/ChatGPT-Next-Web (status 404)\n",
      "⚠️  Could not fetch master.zip for jwoawnoga/ChatGPT-Next-Web (status 404)\n",
      "⚠️  Could not fetch main.zip for hwongowa/ChatGPT-Next-Web (status 404)\n",
      "⚠️  Could not fetch master.zip for hwongowa/ChatGPT-Next-Web (status 404)\n",
      "⚠️  Could not fetch main.zip for gingiglwogn/ChatGPT-Next-Web (status 404)\n"
     ]
    },
    {
     "name": "stderr",
     "output_type": "stream",
     "text": [
      "Processing forks:  87%|████████▋ | 436/500 [00:08<00:03, 17.78it/s]"
     ]
    },
    {
     "name": "stdout",
     "output_type": "stream",
     "text": [
      "⚠️  Could not fetch master.zip for gingiglwogn/ChatGPT-Next-Web (status 404)\n",
      "⚠️  Could not fetch main.zip for fignoawlyg/ChatGPT-Next-Web (status 404)\n",
      "⚠️  Could not fetch master.zip for fignoawlyg/ChatGPT-Next-Web (status 404)\n",
      "⚠️  Could not fetch main.zip for enawogyoa/ChatGPT-Next-Web (status 404)\n"
     ]
    },
    {
     "name": "stderr",
     "output_type": "stream",
     "text": [
      "Processing forks:  88%|████████▊ | 442/500 [00:09<00:03, 15.94it/s]"
     ]
    },
    {
     "name": "stdout",
     "output_type": "stream",
     "text": [
      "⚠️  Could not fetch master.zip for enawogyoa/ChatGPT-Next-Web (status 404)\n",
      "⚠️  Could not fetch main.zip for dingwlaylg/ChatGPT-Next-Web (status 404)\n",
      "⚠️  Could not fetch master.zip for dingwlaylg/ChatGPT-Next-Web (status 404)\n",
      "⚠️  Could not fetch main.zip for cawnogoayg/ChatGPT-Next-Web (status 404)\n",
      "⚠️  Could not fetch master.zip for cawnogoayg/ChatGPT-Next-Web (status 404)\n",
      "⚠️  Could not fetch main.zip for boawnoaowa/ChatGPT-Next-Web (status 404)\n",
      "⚠️  Could not fetch master.zip for boawnoaowa/ChatGPT-Next-Web (status 404)\n",
      "⚠️  Could not fetch main.zip for awowayynngo/ChatGPT-Next-Web (status 404)\n"
     ]
    },
    {
     "name": "stderr",
     "output_type": "stream",
     "text": [
      "Processing forks:  89%|████████▉ | 447/500 [00:11<00:04, 11.58it/s]"
     ]
    },
    {
     "name": "stdout",
     "output_type": "stream",
     "text": [
      "⚠️  Could not fetch master.zip for awowayynngo/ChatGPT-Next-Web (status 404)\n",
      "⚠️  Could not fetch main.zip for owalyhoawny/ChatGPT-Next-Web (status 404)\n"
     ]
    },
    {
     "name": "stderr",
     "output_type": "stream",
     "text": [
      "Processing forks:  90%|█████████ | 450/500 [00:11<00:04, 11.13it/s]"
     ]
    },
    {
     "name": "stdout",
     "output_type": "stream",
     "text": [
      "⚠️  Could not fetch master.zip for owalyhoawny/ChatGPT-Next-Web (status 404)\n",
      "⚠️  Could not fetch main.zip for uwioalwoa/ChatGPT-Next-Web (status 404)\n",
      "⚠️  Could not fetch master.zip for uwioalwoa/ChatGPT-Next-Web (status 404)\n",
      "⚠️  Could not fetch main.zip for waplwyyawa/ChatGPT-Next-Web (status 404)\n",
      "⚠️  Could not fetch master.zip for waplwyyawa/ChatGPT-Next-Web (status 404)\n",
      "⚠️  Could not fetch main.zip for owalyawona/ChatGPT-Next-Web (status 404)\n"
     ]
    },
    {
     "name": "stderr",
     "output_type": "stream",
     "text": [
      "Processing forks:  91%|█████████ | 453/500 [00:12<00:05,  8.44it/s]"
     ]
    },
    {
     "name": "stdout",
     "output_type": "stream",
     "text": [
      "⚠️  Could not fetch master.zip for owalyawona/ChatGPT-Next-Web (status 404)\n",
      "⚠️  Could not fetch main.zip for jaownyalwi/ChatGPT-Next-Web (status 404)\n",
      "⚠️  Could not fetch master.zip for jaownyalwi/ChatGPT-Next-Web (status 404)\n",
      "⚠️  Could not fetch main.zip for howalwoawe/ChatGPT-Next-Web (status 404)\n"
     ]
    },
    {
     "name": "stderr",
     "output_type": "stream",
     "text": [
      "Processing forks:  91%|█████████ | 455/500 [00:13<00:06,  7.10it/s]"
     ]
    },
    {
     "name": "stdout",
     "output_type": "stream",
     "text": [
      "⚠️  Could not fetch master.zip for howalwoawe/ChatGPT-Next-Web (status 404)\n",
      "⚠️  Could not fetch main.zip for asdfso/ChatGPT-Next-Web (status 404)\n"
     ]
    },
    {
     "name": "stderr",
     "output_type": "stream",
     "text": [
      "Processing forks:  95%|█████████▌| 476/500 [00:13<00:01, 14.32it/s]"
     ]
    },
    {
     "name": "stdout",
     "output_type": "stream",
     "text": [
      "⚠️  Could not fetch master.zip for asdfso/ChatGPT-Next-Web (status 404)\n",
      "⚠️  Could not fetch main.zip for dfhjdt/ChatGPT-Next-Web (status 404)\n"
     ]
    },
    {
     "name": "stderr",
     "output_type": "stream",
     "text": [
      "Processing forks:  96%|█████████▌| 479/500 [00:14<00:01, 13.34it/s]"
     ]
    },
    {
     "name": "stdout",
     "output_type": "stream",
     "text": [
      "⚠️  Could not fetch master.zip for dfhjdt/ChatGPT-Next-Web (status 404)\n",
      "⚠️  Could not fetch main.zip for ser4im/ChatGPT-Next-Web (status 404)\n"
     ]
    },
    {
     "name": "stderr",
     "output_type": "stream",
     "text": [
      "Processing forks:  99%|█████████▉| 496/500 [00:14<00:00, 19.87it/s]"
     ]
    },
    {
     "name": "stdout",
     "output_type": "stream",
     "text": [
      "⚠️  Could not fetch master.zip for ser4im/ChatGPT-Next-Web (status 404)\n",
      "⚠️  Could not fetch main.zip for Akblis/ChatGPT-Next-Web (status 404)\n"
     ]
    },
    {
     "name": "stderr",
     "output_type": "stream",
     "text": [
      "Processing forks: 100%|██████████| 500/500 [00:14<00:00, 33.78it/s]\n"
     ]
    },
    {
     "name": "stdout",
     "output_type": "stream",
     "text": [
      "⚠️  Could not fetch master.zip for Akblis/ChatGPT-Next-Web (status 404)\n",
      "Batch: 18500\n"
     ]
    },
    {
     "name": "stderr",
     "output_type": "stream",
     "text": [
      "Processing forks:   0%|          | 0/500 [00:00<?, ?it/s]"
     ]
    },
    {
     "name": "stdout",
     "output_type": "stream",
     "text": [
      "⚠️  Could not fetch main.zip for mwioayyawnu/ChatGPT-Next-Web (status 404)\n",
      "⚠️  Could not fetch master.zip for mwioayyawnu/ChatGPT-Next-Web (status 404)\n"
     ]
    },
    {
     "name": "stderr",
     "output_type": "stream",
     "text": [
      "Processing forks:   1%|          | 6/500 [00:00<00:30, 15.99it/s]"
     ]
    },
    {
     "name": "stdout",
     "output_type": "stream",
     "text": [
      "⚠️  Could not fetch main.zip for aownwoyadg/ChatGPT-Next-Web (status 404)\n",
      "⚠️  Could not fetch master.zip for aownwoyadg/ChatGPT-Next-Web (status 404)\n",
      "⚠️  Could not fetch main.zip for eoawlawoyt/ChatGPT-Next-Web (status 404)\n"
     ]
    },
    {
     "name": "stderr",
     "output_type": "stream",
     "text": [
      "Processing forks:   2%|▏         | 8/500 [00:01<01:48,  4.55it/s]"
     ]
    },
    {
     "name": "stdout",
     "output_type": "stream",
     "text": [
      "⚠️  Could not fetch master.zip for eoawlawoyt/ChatGPT-Next-Web (status 404)\n",
      "⚠️  Could not fetch main.zip for jwoawloaw/ChatGPT-Next-Web (status 404)\n"
     ]
    },
    {
     "name": "stderr",
     "output_type": "stream",
     "text": [
      "Processing forks:   2%|▏         | 9/500 [00:01<02:00,  4.06it/s]"
     ]
    },
    {
     "name": "stdout",
     "output_type": "stream",
     "text": [
      "⚠️  Could not fetch master.zip for jwoawloaw/ChatGPT-Next-Web (status 404)\n",
      "⚠️  Could not fetch main.zip for lwinawoyaw/ChatGPT-Next-Web (status 404)\n"
     ]
    },
    {
     "name": "stderr",
     "output_type": "stream",
     "text": [
      "Processing forks:   2%|▏         | 10/500 [00:02<02:37,  3.11it/s]"
     ]
    },
    {
     "name": "stdout",
     "output_type": "stream",
     "text": [
      "⚠️  Could not fetch master.zip for lwinawoyaw/ChatGPT-Next-Web (status 404)\n",
      "⚠️  Could not fetch main.zip for kwoanwaoy/ChatGPT-Next-Web (status 404)\n"
     ]
    },
    {
     "name": "stderr",
     "output_type": "stream",
     "text": [
      "Processing forks:   2%|▏         | 11/500 [00:02<02:41,  3.02it/s]"
     ]
    },
    {
     "name": "stdout",
     "output_type": "stream",
     "text": [
      "⚠️  Could not fetch master.zip for kwoanwaoy/ChatGPT-Next-Web (status 404)\n",
      "⚠️  Could not fetch main.zip for cawownaia/ChatGPT-Next-Web (status 404)\n"
     ]
    },
    {
     "name": "stderr",
     "output_type": "stream",
     "text": [
      "Processing forks:   2%|▏         | 12/500 [00:03<02:46,  2.93it/s]"
     ]
    },
    {
     "name": "stdout",
     "output_type": "stream",
     "text": [
      "⚠️  Could not fetch master.zip for cawownaia/ChatGPT-Next-Web (status 404)\n",
      "⚠️  Could not fetch main.zip for vwoalhoyway/ChatGPT-Next-Web (status 404)\n"
     ]
    },
    {
     "name": "stderr",
     "output_type": "stream",
     "text": [
      "Processing forks:   3%|▎         | 13/500 [00:03<02:50,  2.85it/s]"
     ]
    },
    {
     "name": "stdout",
     "output_type": "stream",
     "text": [
      "⚠️  Could not fetch master.zip for vwoalhoyway/ChatGPT-Next-Web (status 404)\n",
      "⚠️  Could not fetch main.zip for jwoanyawjay/ChatGPT-Next-Web (status 404)\n"
     ]
    },
    {
     "name": "stderr",
     "output_type": "stream",
     "text": [
      "Processing forks:   3%|▎         | 15/500 [00:03<02:14,  3.60it/s]"
     ]
    },
    {
     "name": "stdout",
     "output_type": "stream",
     "text": [
      "⚠️  Could not fetch master.zip for jwoanyawjay/ChatGPT-Next-Web (status 404)\n",
      "⚠️  Could not fetch main.zip for baownoawy/ChatGPT-Next-Web (status 404)\n"
     ]
    },
    {
     "name": "stderr",
     "output_type": "stream",
     "text": [
      "Processing forks:   3%|▎         | 16/500 [00:04<02:22,  3.40it/s]"
     ]
    },
    {
     "name": "stdout",
     "output_type": "stream",
     "text": [
      "⚠️  Could not fetch master.zip for baownoawy/ChatGPT-Next-Web (status 404)\n",
      "⚠️  Could not fetch main.zip for ewoenytoes/ChatGPT-Next-Web (status 404)\n"
     ]
    },
    {
     "name": "stderr",
     "output_type": "stream",
     "text": [
      "Processing forks:   3%|▎         | 17/500 [00:04<02:26,  3.29it/s]"
     ]
    },
    {
     "name": "stdout",
     "output_type": "stream",
     "text": [
      "⚠️  Could not fetch master.zip for ewoenytoes/ChatGPT-Next-Web (status 404)\n",
      "⚠️  Could not fetch main.zip for pqowjawolaw/ChatGPT-Next-Web (status 404)\n"
     ]
    },
    {
     "name": "stderr",
     "output_type": "stream",
     "text": [
      "Processing forks:   4%|▍         | 19/500 [00:04<02:00,  3.98it/s]"
     ]
    },
    {
     "name": "stdout",
     "output_type": "stream",
     "text": [
      "⚠️  Could not fetch master.zip for pqowjawolaw/ChatGPT-Next-Web (status 404)\n",
      "⚠️  Could not fetch main.zip for gwoalwanawog/ChatGPT-Next-Web (status 404)\n"
     ]
    },
    {
     "name": "stderr",
     "output_type": "stream",
     "text": [
      "Processing forks:   4%|▍         | 21/500 [00:05<01:46,  4.49it/s]"
     ]
    },
    {
     "name": "stdout",
     "output_type": "stream",
     "text": [
      "⚠️  Could not fetch master.zip for gwoalwanawog/ChatGPT-Next-Web (status 404)\n",
      "⚠️  Could not fetch main.zip for hwoalyanlyaw/ChatGPT-Next-Web (status 404)\n"
     ]
    },
    {
     "name": "stderr",
     "output_type": "stream",
     "text": [
      "Processing forks:   4%|▍         | 22/500 [00:05<01:59,  3.98it/s]"
     ]
    },
    {
     "name": "stdout",
     "output_type": "stream",
     "text": [
      "⚠️  Could not fetch master.zip for hwoalyanlyaw/ChatGPT-Next-Web (status 404)\n"
     ]
    },
    {
     "name": "stderr",
     "output_type": "stream",
     "text": [
      "Processing forks:   5%|▍         | 23/500 [00:06<02:16,  3.50it/s]"
     ]
    },
    {
     "name": "stdout",
     "output_type": "stream",
     "text": [
      "⚠️  Could not fetch main.zip for woaawlkyhad/ChatGPT-Next-Web (status 404)\n",
      "⚠️  Could not fetch master.zip for woaawlkyhad/ChatGPT-Next-Web (status 404)\n"
     ]
    },
    {
     "name": "stderr",
     "output_type": "stream",
     "text": [
      "Processing forks:   6%|▌         | 28/500 [00:06<01:12,  6.52it/s]"
     ]
    },
    {
     "name": "stdout",
     "output_type": "stream",
     "text": [
      "⚠️  Could not fetch main.zip for qpwknawohya/ChatGPT-Next-Web (status 404)\n",
      "⚠️  Could not fetch master.zip for qpwknawohya/ChatGPT-Next-Web (status 404)\n"
     ]
    },
    {
     "name": "stderr",
     "output_type": "stream",
     "text": [
      "Processing forks:   6%|▌         | 29/500 [00:07<02:05,  3.74it/s]"
     ]
    },
    {
     "name": "stdout",
     "output_type": "stream",
     "text": [
      "⚠️  Could not fetch main.zip for naowaklawo/ChatGPT-Next-Web (status 404)\n",
      "⚠️  Could not fetch master.zip for naowaklawo/ChatGPT-Next-Web (status 404)\n"
     ]
    },
    {
     "name": "stderr",
     "output_type": "stream",
     "text": [
      "Processing forks:   6%|▌         | 31/500 [00:07<01:50,  4.23it/s]"
     ]
    },
    {
     "name": "stdout",
     "output_type": "stream",
     "text": [
      "⚠️  Could not fetch main.zip for kwoaywania/ChatGPT-Next-Web (status 404)\n",
      "⚠️  Could not fetch master.zip for kwoaywania/ChatGPT-Next-Web (status 404)\n"
     ]
    },
    {
     "name": "stderr",
     "output_type": "stream",
     "text": [
      "Processing forks:   6%|▋         | 32/500 [00:08<01:59,  3.91it/s]"
     ]
    },
    {
     "name": "stdout",
     "output_type": "stream",
     "text": [
      "⚠️  Could not fetch main.zip for qqowjhowaj/ChatGPT-Next-Web (status 404)\n",
      "⚠️  Could not fetch master.zip for qqowjhowaj/ChatGPT-Next-Web (status 404)\n",
      "⚠️  Could not fetch main.zip for weowanlyha/ChatGPT-Next-Web (status 404)\n"
     ]
    },
    {
     "name": "stderr",
     "output_type": "stream",
     "text": [
      "Processing forks:   7%|▋         | 34/500 [00:08<01:48,  4.29it/s]"
     ]
    },
    {
     "name": "stdout",
     "output_type": "stream",
     "text": [
      "⚠️  Could not fetch master.zip for weowanlyha/ChatGPT-Next-Web (status 404)\n",
      "⚠️  Could not fetch main.zip for tywiaoyawn/ChatGPT-Next-Web (status 404)\n"
     ]
    },
    {
     "name": "stderr",
     "output_type": "stream",
     "text": [
      "Processing forks:   7%|▋         | 36/500 [00:08<01:41,  4.59it/s]"
     ]
    },
    {
     "name": "stdout",
     "output_type": "stream",
     "text": [
      "⚠️  Could not fetch master.zip for tywiaoyawn/ChatGPT-Next-Web (status 404)\n",
      "⚠️  Could not fetch main.zip for wwoayywonawo/ChatGPT-Next-Web (status 404)\n"
     ]
    },
    {
     "name": "stderr",
     "output_type": "stream",
     "text": [
      "Processing forks:   7%|▋         | 37/500 [00:09<01:55,  4.02it/s]"
     ]
    },
    {
     "name": "stdout",
     "output_type": "stream",
     "text": [
      "⚠️  Could not fetch master.zip for wwoayywonawo/ChatGPT-Next-Web (status 404)\n",
      "⚠️  Could not fetch main.zip for hohuisiang558/ChatGPT-Next-Web (status 404)\n"
     ]
    },
    {
     "name": "stderr",
     "output_type": "stream",
     "text": [
      "Processing forks:  14%|█▍        | 70/500 [00:09<00:15, 27.48it/s]"
     ]
    },
    {
     "name": "stdout",
     "output_type": "stream",
     "text": [
      "⚠️  Could not fetch master.zip for hohuisiang558/ChatGPT-Next-Web (status 404)\n",
      "⚠️  Could not fetch main.zip for rvvu/ChatGPT-Next-Web (status 404)\n"
     ]
    },
    {
     "name": "stderr",
     "output_type": "stream",
     "text": [
      "Processing forks:  27%|██▋       | 137/500 [00:09<00:05, 71.25it/s]"
     ]
    },
    {
     "name": "stdout",
     "output_type": "stream",
     "text": [
      "⚠️  Could not fetch master.zip for rvvu/ChatGPT-Next-Web (status 404)\n",
      "⚠️  Could not fetch main.zip for uiiuuiwyao/ChatGPT-Next-Web (status 404)\n"
     ]
    },
    {
     "name": "stderr",
     "output_type": "stream",
     "text": [
      "Processing forks:  29%|██▉       | 145/500 [00:10<00:06, 57.42it/s]"
     ]
    },
    {
     "name": "stdout",
     "output_type": "stream",
     "text": [
      "⚠️  Could not fetch master.zip for uiiuuiwyao/ChatGPT-Next-Web (status 404)\n",
      "⚠️  Could not fetch main.zip for llowvxe/ChatGPT-Next-Websssss (status 404)\n"
     ]
    },
    {
     "name": "stderr",
     "output_type": "stream",
     "text": [
      "Processing forks:  32%|███▏      | 160/500 [00:10<00:06, 52.30it/s]"
     ]
    },
    {
     "name": "stdout",
     "output_type": "stream",
     "text": [
      "⚠️  Could not fetch master.zip for llowvxe/ChatGPT-Next-Websssss (status 404)\n",
      "⚠️  Could not fetch main.zip for HHhne/ChatGPT-Next-Web (status 404)\n"
     ]
    },
    {
     "name": "stderr",
     "output_type": "stream",
     "text": [
      "Processing forks:  40%|███▉      | 198/500 [00:11<00:04, 67.02it/s]"
     ]
    },
    {
     "name": "stdout",
     "output_type": "stream",
     "text": [
      "⚠️  Could not fetch master.zip for HHhne/ChatGPT-Next-Web (status 404)\n",
      "⚠️  Could not fetch main.zip for eowkaownka/ChatGPT-Next-Web (status 404)\n"
     ]
    },
    {
     "name": "stderr",
     "output_type": "stream",
     "text": [
      "Processing forks:  54%|█████▎    | 268/500 [00:11<00:02, 102.00it/s]"
     ]
    },
    {
     "name": "stdout",
     "output_type": "stream",
     "text": [
      "⚠️  Could not fetch master.zip for eowkaownka/ChatGPT-Next-Web (status 404)\n",
      "⚠️  Could not fetch main.zip for woawnoawnm/ChatGPT-Next-Web (status 404)\n",
      "⚠️  Could not fetch master.zip for woawnoawnm/ChatGPT-Next-Web (status 404)\n",
      "⚠️  Could not fetch main.zip for bnalwohaylw/ChatGPT-Next-Web (status 404)\n",
      "⚠️  Could not fetch master.zip for bnalwohaylw/ChatGPT-Next-Web (status 404)\n",
      "⚠️  Could not fetch main.zip for euywopawona/ChatGPT-Next-Web (status 404)\n"
     ]
    },
    {
     "name": "stderr",
     "output_type": "stream",
     "text": [
      "Processing forks:  56%|█████▌    | 279/500 [00:12<00:04, 50.60it/s] "
     ]
    },
    {
     "name": "stdout",
     "output_type": "stream",
     "text": [
      "⚠️  Could not fetch master.zip for euywopawona/ChatGPT-Next-Web (status 404)\n"
     ]
    },
    {
     "name": "stderr",
     "output_type": "stream",
     "text": [
      "Processing forks:  61%|██████▏   | 307/500 [00:12<00:03, 55.17it/s]"
     ]
    },
    {
     "name": "stdout",
     "output_type": "stream",
     "text": [
      "⚠️  Could not fetch main.zip for twownasoayyaw/ChatGPT-Next-Web (status 404)\n",
      "⚠️  Could not fetch master.zip for twownasoayyaw/ChatGPT-Next-Web (status 404)\n",
      "⚠️  Could not fetch main.zip for pwoawnyawpy/ChatGPT-Next-Web (status 404)\n",
      "⚠️  Could not fetch master.zip for pwoawnyawpy/ChatGPT-Next-Web (status 404)\n"
     ]
    },
    {
     "name": "stderr",
     "output_type": "stream",
     "text": [
      "Processing forks:  63%|██████▎   | 315/500 [00:13<00:04, 38.72it/s]"
     ]
    },
    {
     "name": "stdout",
     "output_type": "stream",
     "text": [
      "⚠️  Could not fetch main.zip for ywonawlyafwe/ChatGPT-Next-Web (status 404)\n",
      "⚠️  Could not fetch master.zip for ywonawlyafwe/ChatGPT-Next-Web (status 404)\n"
     ]
    },
    {
     "name": "stderr",
     "output_type": "stream",
     "text": [
      "Processing forks:  64%|██████▍   | 321/500 [00:14<00:05, 34.07it/s]"
     ]
    },
    {
     "name": "stdout",
     "output_type": "stream",
     "text": [
      "⚠️  Could not fetch main.zip for aownyyaonaf/ChatGPT-Next-Web (status 404)\n",
      "⚠️  Could not fetch master.zip for aownyyaonaf/ChatGPT-Next-Web (status 404)\n",
      "⚠️  Could not fetch main.zip for tianzhen889/ChatGPT-Next-Web (status 404)\n",
      "⚠️  Could not fetch master.zip for tianzhen889/ChatGPT-Next-Web (status 404)\n"
     ]
    },
    {
     "name": "stderr",
     "output_type": "stream",
     "text": [
      "Processing forks:  75%|███████▍  | 373/500 [00:14<00:02, 46.56it/s]"
     ]
    },
    {
     "name": "stdout",
     "output_type": "stream",
     "text": [
      "⚠️  Could not fetch main.zip for rich1689/ChatGPT-Next-Web (status 404)\n",
      "⚠️  Could not fetch master.zip for rich1689/ChatGPT-Next-Web (status 404)\n",
      "⚠️  Could not fetch main.zip for ttbuqi/ChatGPT-Next-Web (status 404)\n"
     ]
    },
    {
     "name": "stderr",
     "output_type": "stream",
     "text": [
      "Processing forks:  77%|███████▋  | 385/500 [00:15<00:02, 42.00it/s]"
     ]
    },
    {
     "name": "stdout",
     "output_type": "stream",
     "text": [
      "⚠️  Could not fetch master.zip for ttbuqi/ChatGPT-Next-Web (status 404)\n",
      "⚠️  Could not fetch main.zip for uiwnayanyny/ChatGPT-Next-Web (status 404)\n"
     ]
    },
    {
     "name": "stderr",
     "output_type": "stream",
     "text": [
      "Processing forks:  82%|████████▏ | 408/500 [00:15<00:01, 46.57it/s]"
     ]
    },
    {
     "name": "stdout",
     "output_type": "stream",
     "text": [
      "⚠️  Could not fetch master.zip for uiwnayanyny/ChatGPT-Next-Web (status 404)\n",
      "⚠️  Could not fetch main.zip for hwoyyalhwng/ChatGPT-Next-Web (status 404)\n",
      "⚠️  Could not fetch master.zip for hwoyyalhwng/ChatGPT-Next-Web (status 404)\n",
      "⚠️  Could not fetch main.zip for jwyajjyiaw/ChatGPT-Next-Web (status 404)\n",
      "⚠️  Could not fetch master.zip for jwyajjyiaw/ChatGPT-Next-Web (status 404)\n"
     ]
    },
    {
     "name": "stderr",
     "output_type": "stream",
     "text": [
      "Processing forks:  83%|████████▎ | 413/500 [00:16<00:03, 22.10it/s]"
     ]
    },
    {
     "name": "stdout",
     "output_type": "stream",
     "text": [
      "⚠️  Could not fetch main.zip for miwoaywloap/ChatGPT-Next-Web (status 404)\n",
      "⚠️  Could not fetch master.zip for miwoaywloap/ChatGPT-Next-Web (status 404)\n"
     ]
    },
    {
     "name": "stderr",
     "output_type": "stream",
     "text": [
      "Processing forks:  87%|████████▋ | 433/500 [00:17<00:02, 28.17it/s]"
     ]
    },
    {
     "name": "stdout",
     "output_type": "stream",
     "text": [
      "⚠️  Could not fetch main.zip for zlwoaljwyyafw/ChatGPT-Next-Web (status 404)\n",
      "⚠️  Could not fetch master.zip for zlwoaljwyyafw/ChatGPT-Next-Web (status 404)\n",
      "⚠️  Could not fetch main.zip for sfopuaaywnog/ChatGPT-Next-Web (status 404)\n",
      "⚠️  Could not fetch master.zip for sfopuaaywnog/ChatGPT-Next-Web (status 404)\n",
      "⚠️  Could not fetch main.zip for xwiyaohahjhawu/ChatGPT-Next-Web (status 404)\n",
      "⚠️  Could not fetch master.zip for xwiyaohahjhawu/ChatGPT-Next-Web (status 404)\n",
      "⚠️  Could not fetch main.zip for goanwynnnyaow/ChatGPT-Next-Web (status 404)\n",
      "⚠️  Could not fetch master.zip for goanwynnnyaow/ChatGPT-Next-Web (status 404)\n"
     ]
    },
    {
     "name": "stderr",
     "output_type": "stream",
     "text": [
      "Processing forks:  88%|████████▊ | 438/500 [00:19<00:04, 13.83it/s]"
     ]
    },
    {
     "name": "stdout",
     "output_type": "stream",
     "text": [
      "⚠️  Could not fetch main.zip for mmiwyalynnya/ChatGPT-Next-Web (status 404)\n",
      "⚠️  Could not fetch master.zip for mmiwyalynnya/ChatGPT-Next-Web (status 404)\n"
     ]
    },
    {
     "name": "stderr",
     "output_type": "stream",
     "text": [
      "Processing forks: 100%|██████████| 500/500 [00:19<00:00, 25.68it/s]\n"
     ]
    },
    {
     "name": "stdout",
     "output_type": "stream",
     "text": [
      "⚠️  Could not fetch main.zip for xnaowwwaon/ChatGPT-Next-Web (status 404)\n",
      "⚠️  Could not fetch master.zip for xnaowwwaon/ChatGPT-Next-Web (status 404)\n",
      "Batch: 19000\n"
     ]
    },
    {
     "name": "stderr",
     "output_type": "stream",
     "text": [
      "Processing forks:  21%|██        | 104/500 [00:00<00:01, 284.84it/s]"
     ]
    },
    {
     "name": "stdout",
     "output_type": "stream",
     "text": [
      "⚠️  Could not fetch main.zip for gaoshanyunwuzzz/ChatGPT-Next-Web (status 404)\n",
      "⚠️  Could not fetch master.zip for gaoshanyunwuzzz/ChatGPT-Next-Web (status 404)\n"
     ]
    },
    {
     "name": "stderr",
     "output_type": "stream",
     "text": [
      "Processing forks:  31%|███       | 153/500 [00:00<00:01, 190.36it/s]"
     ]
    },
    {
     "name": "stdout",
     "output_type": "stream",
     "text": [
      "⚠️  Could not fetch main.zip for kepui/ChatGPT-Next-Web (status 404)\n",
      "⚠️  Could not fetch master.zip for kepui/ChatGPT-Next-Web (status 404)\n",
      "⚠️  Could not fetch main.zip for bobquef/ChatGPT-Next-Web1 (status 404)\n"
     ]
    },
    {
     "name": "stderr",
     "output_type": "stream",
     "text": [
      "Processing forks:  38%|███▊      | 191/500 [00:01<00:02, 114.37it/s]"
     ]
    },
    {
     "name": "stdout",
     "output_type": "stream",
     "text": [
      "⚠️  Could not fetch master.zip for bobquef/ChatGPT-Next-Web1 (status 404)\n",
      "⚠️  Could not fetch main.zip for cureyang/ChatGPT-Next-Web (status 404)\n"
     ]
    },
    {
     "name": "stderr",
     "output_type": "stream",
     "text": [
      "Processing forks:  41%|████      | 205/500 [00:01<00:03, 91.07it/s] "
     ]
    },
    {
     "name": "stdout",
     "output_type": "stream",
     "text": [
      "⚠️  Could not fetch master.zip for cureyang/ChatGPT-Next-Web (status 404)\n",
      "⚠️  Could not fetch main.zip for jowljaonlaay/ChatGPT-Next-Web (status 404)\n"
     ]
    },
    {
     "name": "stderr",
     "output_type": "stream",
     "text": [
      "Processing forks:  59%|█████▉    | 297/500 [00:02<00:01, 140.50it/s]"
     ]
    },
    {
     "name": "stdout",
     "output_type": "stream",
     "text": [
      "⚠️  Could not fetch master.zip for jowljaonlaay/ChatGPT-Next-Web (status 404)\n",
      "⚠️  Could not fetch main.zip for owalkioaaw/ChatGPT-Next-Web (status 404)\n"
     ]
    },
    {
     "name": "stderr",
     "output_type": "stream",
     "text": [
      "Processing forks:  62%|██████▏   | 312/500 [00:02<00:01, 108.88it/s]"
     ]
    },
    {
     "name": "stdout",
     "output_type": "stream",
     "text": [
      "⚠️  Could not fetch master.zip for owalkioaaw/ChatGPT-Next-Web (status 404)\n",
      "⚠️  Could not fetch main.zip for zaslaownal/ChatGPT-Next-Web (status 404)\n",
      "⚠️  Could not fetch master.zip for zaslaownal/ChatGPT-Next-Web (status 404)\n",
      "⚠️  Could not fetch main.zip for nalknawo/ChatGPT-Next-Web (status 404)\n",
      "⚠️  Could not fetch master.zip for nalknawo/ChatGPT-Next-Web (status 404)\n",
      "⚠️  Could not fetch main.zip for awoakloiwn/ChatGPT-Next-Web (status 404)\n",
      "⚠️  Could not fetch master.zip for awoakloiwn/ChatGPT-Next-Web (status 404)\n",
      "⚠️  Could not fetch main.zip for liwnoalwonla/ChatGPT-Next-Web (status 404)\n",
      "⚠️  Could not fetch master.zip for liwnoalwonla/ChatGPT-Next-Web (status 404)\n",
      "⚠️  Could not fetch main.zip for kiownoalai/ChatGPT-Next-Web (status 404)\n",
      "⚠️  Could not fetch master.zip for kiownoalai/ChatGPT-Next-Web (status 404)\n"
     ]
    },
    {
     "name": "stderr",
     "output_type": "stream",
     "text": [
      "Processing forks:  79%|███████▉  | 397/500 [00:04<00:01, 59.91it/s] "
     ]
    },
    {
     "name": "stdout",
     "output_type": "stream",
     "text": [
      "⚠️  Could not fetch main.zip for boalawuppa/ChatGPT-Next-Web (status 404)\n",
      "⚠️  Could not fetch master.zip for boalawuppa/ChatGPT-Next-Web (status 404)\n"
     ]
    },
    {
     "name": "stderr",
     "output_type": "stream",
     "text": [
      "Processing forks:  82%|████████▏ | 409/500 [00:05<00:01, 55.23it/s]"
     ]
    },
    {
     "name": "stdout",
     "output_type": "stream",
     "text": [
      "⚠️  Could not fetch main.zip for a263263/ChatGPT-Next-Web (status 404)\n",
      "⚠️  Could not fetch master.zip for a263263/ChatGPT-Next-Web (status 404)\n"
     ]
    },
    {
     "name": "stderr",
     "output_type": "stream",
     "text": [
      "Processing forks: 100%|██████████| 500/500 [00:05<00:00, 87.63it/s]"
     ]
    },
    {
     "name": "stdout",
     "output_type": "stream",
     "text": [
      "⚠️  Could not fetch main.zip for csmyuan/ChatGPT-Next-Web (status 404)\n",
      "⚠️  Could not fetch master.zip for csmyuan/ChatGPT-Next-Web (status 404)\n"
     ]
    },
    {
     "name": "stderr",
     "output_type": "stream",
     "text": [
      "\n"
     ]
    },
    {
     "name": "stdout",
     "output_type": "stream",
     "text": [
      "Batch: 19500\n"
     ]
    },
    {
     "name": "stderr",
     "output_type": "stream",
     "text": [
      "Processing forks:   0%|          | 0/500 [00:00<?, ?it/s]"
     ]
    },
    {
     "name": "stdout",
     "output_type": "stream",
     "text": [
      "⚠️  Could not fetch main.zip for Earnail/ChatGPT-Next-Web (status 404)\n"
     ]
    },
    {
     "name": "stderr",
     "output_type": "stream",
     "text": [
      "Processing forks:  13%|█▎        | 67/500 [00:00<00:02, 186.65it/s]"
     ]
    },
    {
     "name": "stdout",
     "output_type": "stream",
     "text": [
      "⚠️  Could not fetch master.zip for Earnail/ChatGPT-Next-Web (status 404)\n",
      "⚠️  Could not fetch main.zip for degjrhrd/ChatGPT-Next-Web (status 404)\n"
     ]
    },
    {
     "name": "stderr",
     "output_type": "stream",
     "text": [
      "Processing forks:  21%|██▏       | 107/500 [00:00<00:02, 138.50it/s]"
     ]
    },
    {
     "name": "stdout",
     "output_type": "stream",
     "text": [
      "⚠️  Could not fetch master.zip for degjrhrd/ChatGPT-Next-Web (status 404)\n"
     ]
    },
    {
     "name": "stderr",
     "output_type": "stream",
     "text": [
      "Processing forks:  26%|██▌       | 129/500 [00:01<00:05, 62.98it/s] "
     ]
    },
    {
     "name": "stdout",
     "output_type": "stream",
     "text": [
      "⚠️  Could not fetch main.zip for zhufq/ChatGPT-Next-Web (status 404)\n",
      "⚠️  Could not fetch master.zip for zhufq/ChatGPT-Next-Web (status 404)\n",
      "⚠️  Could not fetch main.zip for alongshuaige194/ChatGPT-Next-Web (status 404)\n"
     ]
    },
    {
     "name": "stderr",
     "output_type": "stream",
     "text": [
      "Processing forks:  30%|███       | 151/500 [00:02<00:08, 40.60it/s]"
     ]
    },
    {
     "name": "stdout",
     "output_type": "stream",
     "text": [
      "⚠️  Could not fetch master.zip for alongshuaige194/ChatGPT-Next-Web (status 404)\n",
      "⚠️  Could not fetch main.zip for RXMGAI/ChatGPT-Next-Web (status 404)\n"
     ]
    },
    {
     "name": "stderr",
     "output_type": "stream",
     "text": [
      "Processing forks:  39%|███▉      | 197/500 [00:03<00:06, 44.37it/s]"
     ]
    },
    {
     "name": "stdout",
     "output_type": "stream",
     "text": [
      "⚠️  Could not fetch master.zip for RXMGAI/ChatGPT-Next-Web (status 404)\n",
      "⚠️  Could not fetch main.zip for hunseto/ChatGPT-Next-Web (status 404)\n"
     ]
    },
    {
     "name": "stderr",
     "output_type": "stream",
     "text": [
      "Processing forks:  48%|████▊     | 241/500 [00:04<00:05, 49.57it/s]"
     ]
    },
    {
     "name": "stdout",
     "output_type": "stream",
     "text": [
      "⚠️  Could not fetch master.zip for hunseto/ChatGPT-Next-Web (status 404)\n",
      "⚠️  Could not fetch main.zip for thesixgod6/ChatGPT-Next-Web (status 404)\n"
     ]
    },
    {
     "name": "stderr",
     "output_type": "stream",
     "text": [
      "Processing forks:  61%|██████    | 303/500 [00:04<00:02, 70.91it/s]"
     ]
    },
    {
     "name": "stdout",
     "output_type": "stream",
     "text": [
      "⚠️  Could not fetch master.zip for thesixgod6/ChatGPT-Next-Web (status 404)\n",
      "⚠️  Could not fetch main.zip for wangryanto/ChatGPT-Next-Web (status 404)\n"
     ]
    },
    {
     "name": "stderr",
     "output_type": "stream",
     "text": [
      "Processing forks:  66%|██████▌   | 329/500 [00:05<00:02, 70.80it/s]"
     ]
    },
    {
     "name": "stdout",
     "output_type": "stream",
     "text": [
      "⚠️  Could not fetch master.zip for wangryanto/ChatGPT-Next-Web (status 404)\n",
      "⚠️  Could not fetch main.zip for TytouLi/ChatGPT-Next-Web (status 404)\n"
     ]
    },
    {
     "name": "stderr",
     "output_type": "stream",
     "text": [
      "Processing forks:  68%|██████▊   | 338/500 [00:05<00:02, 59.46it/s]"
     ]
    },
    {
     "name": "stdout",
     "output_type": "stream",
     "text": [
      "⚠️  Could not fetch master.zip for TytouLi/ChatGPT-Next-Web (status 404)\n"
     ]
    },
    {
     "name": "stderr",
     "output_type": "stream",
     "text": [
      "Processing forks: 100%|██████████| 500/500 [00:05<00:00, 85.67it/s] \n"
     ]
    },
    {
     "name": "stdout",
     "output_type": "stream",
     "text": [
      "⚠️  Could not fetch main.zip for dingabcde1/ChatGPT-Next-Web (status 404)\n",
      "⚠️  Could not fetch master.zip for dingabcde1/ChatGPT-Next-Web (status 404)\n",
      "Batch: 20000\n"
     ]
    },
    {
     "name": "stderr",
     "output_type": "stream",
     "text": [
      "Processing forks:   0%|          | 0/500 [00:00<?, ?it/s]"
     ]
    },
    {
     "name": "stdout",
     "output_type": "stream",
     "text": [
      "⚠️  Could not fetch main.zip for witchgirlkc/ChatGPT-Next-Web (status 404)\n"
     ]
    },
    {
     "name": "stderr",
     "output_type": "stream",
     "text": [
      "Processing forks:   2%|▏         | 10/500 [00:00<00:18, 26.03it/s]"
     ]
    },
    {
     "name": "stdout",
     "output_type": "stream",
     "text": [
      "⚠️  Could not fetch master.zip for witchgirlkc/ChatGPT-Next-Web (status 404)\n",
      "⚠️  Could not fetch main.zip for shengwang52004/ChatGPT-Next-Web (status 404)\n"
     ]
    },
    {
     "name": "stderr",
     "output_type": "stream",
     "text": [
      "Processing forks:   6%|▌         | 29/500 [00:00<00:11, 40.56it/s]"
     ]
    },
    {
     "name": "stdout",
     "output_type": "stream",
     "text": [
      "⚠️  Could not fetch master.zip for shengwang52004/ChatGPT-Next-Web (status 404)\n",
      "⚠️  Could not fetch main.zip for sijok94077/ChatGPT-Next-Web (status 404)\n"
     ]
    },
    {
     "name": "stderr",
     "output_type": "stream",
     "text": [
      "Processing forks:  31%|███       | 153/500 [00:01<00:02, 165.61it/s]"
     ]
    },
    {
     "name": "stdout",
     "output_type": "stream",
     "text": [
      "⚠️  Could not fetch master.zip for sijok94077/ChatGPT-Next-Web (status 404)\n",
      "⚠️  Could not fetch main.zip for hanshu1353/ChatGPT-Next-Web (status 404)\n"
     ]
    },
    {
     "name": "stderr",
     "output_type": "stream",
     "text": [
      "Processing forks:  46%|████▌     | 231/500 [00:02<00:02, 121.12it/s]"
     ]
    },
    {
     "name": "stdout",
     "output_type": "stream",
     "text": [
      "⚠️  Could not fetch master.zip for hanshu1353/ChatGPT-Next-Web (status 404)\n",
      "⚠️  Could not fetch main.zip for 1001chat/ChatGPT-Next-Web (status 404)\n"
     ]
    },
    {
     "name": "stderr",
     "output_type": "stream",
     "text": [
      "Processing forks:  52%|█████▏    | 258/500 [00:02<00:02, 106.88it/s]"
     ]
    },
    {
     "name": "stdout",
     "output_type": "stream",
     "text": [
      "⚠️  Could not fetch master.zip for 1001chat/ChatGPT-Next-Web (status 404)\n",
      "⚠️  Could not fetch main.zip for antionettebrisa/ChatGPT-Next-Web (status 404)\n"
     ]
    },
    {
     "name": "stderr",
     "output_type": "stream",
     "text": [
      "Processing forks:  74%|███████▍  | 369/500 [00:02<00:00, 157.88it/s]"
     ]
    },
    {
     "name": "stdout",
     "output_type": "stream",
     "text": [
      "⚠️  Could not fetch master.zip for antionettebrisa/ChatGPT-Next-Web (status 404)\n",
      "⚠️  Could not fetch main.zip for 1ch0/ChatGPT-Next-Web (status 404)\n"
     ]
    },
    {
     "name": "stderr",
     "output_type": "stream",
     "text": [
      "Processing forks:  77%|███████▋  | 387/500 [00:03<00:00, 128.15it/s]"
     ]
    },
    {
     "name": "stdout",
     "output_type": "stream",
     "text": [
      "⚠️  Could not fetch master.zip for 1ch0/ChatGPT-Next-Web (status 404)\n",
      "⚠️  Could not fetch main.zip for 9tvp95uhk/ChatGPT-Next-Web (status 404)\n"
     ]
    },
    {
     "name": "stderr",
     "output_type": "stream",
     "text": [
      "Processing forks: 100%|██████████| 500/500 [00:03<00:00, 140.63it/s]\n"
     ]
    },
    {
     "name": "stdout",
     "output_type": "stream",
     "text": [
      "⚠️  Could not fetch master.zip for 9tvp95uhk/ChatGPT-Next-Web (status 404)\n",
      "Batch: 20500\n"
     ]
    },
    {
     "name": "stderr",
     "output_type": "stream",
     "text": [
      "Processing forks:   9%|▉         | 45/500 [00:00<00:03, 120.38it/s]"
     ]
    },
    {
     "name": "stdout",
     "output_type": "stream",
     "text": [
      "⚠️  Could not fetch main.zip for vyt70/ChatGPT-Next-Web (status 404)\n",
      "⚠️  Could not fetch master.zip for vyt70/ChatGPT-Next-Web (status 404)\n"
     ]
    },
    {
     "name": "stderr",
     "output_type": "stream",
     "text": [
      "Processing forks:  12%|█▏        | 58/500 [00:00<00:06, 66.58it/s] "
     ]
    },
    {
     "name": "stdout",
     "output_type": "stream",
     "text": [
      "⚠️  Could not fetch main.zip for SAZER02/ChatGPT-Next-Web (status 404)\n",
      "⚠️  Could not fetch master.zip for SAZER02/ChatGPT-Next-Web (status 404)\n"
     ]
    },
    {
     "name": "stderr",
     "output_type": "stream",
     "text": [
      "Processing forks:  19%|█▉        | 95/500 [00:01<00:04, 81.37it/s]"
     ]
    },
    {
     "name": "stdout",
     "output_type": "stream",
     "text": [
      "⚠️  Could not fetch main.zip for waterlessDJ/ChatGPT-Next-Web (status 404)\n",
      "⚠️  Could not fetch master.zip for waterlessDJ/ChatGPT-Next-Web (status 404)\n"
     ]
    },
    {
     "name": "stderr",
     "output_type": "stream",
     "text": [
      "Processing forks:  32%|███▏      | 158/500 [00:01<00:03, 112.31it/s]"
     ]
    },
    {
     "name": "stdout",
     "output_type": "stream",
     "text": [
      "⚠️  Could not fetch main.zip for E5shota/ChatGPT-NextWeb (status 404)\n",
      "⚠️  Could not fetch master.zip for E5shota/ChatGPT-NextWeb (status 404)\n"
     ]
    },
    {
     "name": "stderr",
     "output_type": "stream",
     "text": [
      "Processing forks:  34%|███▍      | 170/500 [00:01<00:03, 84.86it/s] "
     ]
    },
    {
     "name": "stdout",
     "output_type": "stream",
     "text": [
      "⚠️  Could not fetch main.zip for underer/new-ChatGPT-Next-Web (status 404)\n",
      "⚠️  Could not fetch master.zip for underer/new-ChatGPT-Next-Web (status 404)\n",
      "⚠️  Could not fetch main.zip for bewfz/ChatGPT-Next-Web (status 404)\n"
     ]
    },
    {
     "name": "stderr",
     "output_type": "stream",
     "text": [
      "Processing forks:  46%|████▌     | 228/500 [00:02<00:02, 107.24it/s]"
     ]
    },
    {
     "name": "stdout",
     "output_type": "stream",
     "text": [
      "⚠️  Could not fetch master.zip for bewfz/ChatGPT-Next-Web (status 404)\n"
     ]
    },
    {
     "name": "stderr",
     "output_type": "stream",
     "text": [
      "Processing forks:  56%|█████▌    | 278/500 [00:02<00:02, 92.21it/s] "
     ]
    },
    {
     "name": "stdout",
     "output_type": "stream",
     "text": [
      "⚠️  Could not fetch main.zip for vy17qmdb72v/ChatGPT-Next-Web (status 404)\n",
      "⚠️  Could not fetch master.zip for vy17qmdb72v/ChatGPT-Next-Web (status 404)\n"
     ]
    },
    {
     "name": "stderr",
     "output_type": "stream",
     "text": [
      "Processing forks: 100%|██████████| 500/500 [00:03<00:00, 147.31it/s]"
     ]
    },
    {
     "name": "stdout",
     "output_type": "stream",
     "text": [
      "⚠️  Could not fetch main.zip for y9990123/ChatGPT-Next-Web (status 404)\n",
      "⚠️  Could not fetch master.zip for y9990123/ChatGPT-Next-Web (status 404)\n"
     ]
    },
    {
     "name": "stderr",
     "output_type": "stream",
     "text": [
      "\n"
     ]
    },
    {
     "name": "stdout",
     "output_type": "stream",
     "text": [
      "Batch: 21000\n"
     ]
    },
    {
     "name": "stderr",
     "output_type": "stream",
     "text": [
      "Processing forks:   0%|          | 0/500 [00:00<?, ?it/s]"
     ]
    },
    {
     "name": "stdout",
     "output_type": "stream",
     "text": [
      "⚠️  Could not fetch main.zip for aptattack/ChatGPT-Next-Web (status 404)\n"
     ]
    },
    {
     "name": "stderr",
     "output_type": "stream",
     "text": [
      "Processing forks:   4%|▎         | 18/500 [00:00<00:09, 49.09it/s]"
     ]
    },
    {
     "name": "stdout",
     "output_type": "stream",
     "text": [
      "⚠️  Could not fetch master.zip for aptattack/ChatGPT-Next-Web (status 404)\n",
      "⚠️  Could not fetch main.zip for h-VodHunter/ChatGPT-Next-Web (status 404)\n"
     ]
    },
    {
     "name": "stderr",
     "output_type": "stream",
     "text": [
      "Processing forks:   9%|▉         | 46/500 [00:00<00:06, 65.56it/s]"
     ]
    },
    {
     "name": "stdout",
     "output_type": "stream",
     "text": [
      "⚠️  Could not fetch master.zip for h-VodHunter/ChatGPT-Next-Web (status 404)\n",
      "⚠️  Could not fetch main.zip for PeachNinja-Mortoupe/ChatGPT-Next-Web (status 404)\n"
     ]
    },
    {
     "name": "stderr",
     "output_type": "stream",
     "text": [
      "Processing forks:  11%|█         | 53/500 [00:01<00:10, 43.61it/s]"
     ]
    },
    {
     "name": "stdout",
     "output_type": "stream",
     "text": [
      "⚠️  Could not fetch master.zip for PeachNinja-Mortoupe/ChatGPT-Next-Web (status 404)\n"
     ]
    },
    {
     "name": "stderr",
     "output_type": "stream",
     "text": [
      "Processing forks:  12%|█▏        | 58/500 [00:01<00:14, 30.43it/s]"
     ]
    },
    {
     "name": "stdout",
     "output_type": "stream",
     "text": [
      "⚠️  Could not fetch main.zip for OpposolisMissingol/ChatGPT-Next-Web (status 404)\n",
      "⚠️  Could not fetch master.zip for OpposolisMissingol/ChatGPT-Next-Web (status 404)\n",
      "⚠️  Could not fetch main.zip for Outrubi-Moyazarz/ChatGPT-Next-Web (status 404)\n",
      "⚠️  Could not fetch master.zip for Outrubi-Moyazarz/ChatGPT-Next-Web (status 404)\n",
      "⚠️  Could not fetch main.zip for Crawlerty46/ChatGPT-Next-Web (status 404)\n",
      "⚠️  Could not fetch master.zip for Crawlerty46/ChatGPT-Next-Web (status 404)\n"
     ]
    },
    {
     "name": "stderr",
     "output_type": "stream",
     "text": [
      "Processing forks:  12%|█▏        | 62/500 [00:02<00:31, 13.85it/s]"
     ]
    },
    {
     "name": "stdout",
     "output_type": "stream",
     "text": [
      "⚠️  Could not fetch main.zip for Racingerf/ChatGPT-Next-Web (status 404)\n",
      "⚠️  Could not fetch master.zip for Racingerf/ChatGPT-Next-Web (status 404)\n",
      "⚠️  Could not fetch main.zip for VodHunter-b/ChatGPT-Next-Web (status 404)\n",
      "⚠️  Could not fetch master.zip for VodHunter-b/ChatGPT-Next-Web (status 404)\n"
     ]
    },
    {
     "name": "stderr",
     "output_type": "stream",
     "text": [
      "Processing forks:  14%|█▍        | 71/500 [00:03<00:26, 16.14it/s]"
     ]
    },
    {
     "name": "stdout",
     "output_type": "stream",
     "text": [
      "⚠️  Could not fetch main.zip for Dailiessa1/ChatGPT-Next-Web (status 404)\n"
     ]
    },
    {
     "name": "stderr",
     "output_type": "stream",
     "text": [
      "Processing forks:  15%|█▌        | 76/500 [00:03<00:32, 12.92it/s]"
     ]
    },
    {
     "name": "stdout",
     "output_type": "stream",
     "text": [
      "⚠️  Could not fetch master.zip for Dailiessa1/ChatGPT-Next-Web (status 404)\n",
      "⚠️  Could not fetch main.zip for PurfectZerp-a/ChatGPT-Next-Web (status 404)\n"
     ]
    },
    {
     "name": "stderr",
     "output_type": "stream",
     "text": [
      "Processing forks:  16%|█▋        | 82/500 [00:04<00:30, 13.69it/s]"
     ]
    },
    {
     "name": "stdout",
     "output_type": "stream",
     "text": [
      "⚠️  Could not fetch master.zip for PurfectZerp-a/ChatGPT-Next-Web (status 404)\n",
      "⚠️  Could not fetch main.zip for r-CornySlip/ChatGPT-Next-Web (status 404)\n"
     ]
    },
    {
     "name": "stderr",
     "output_type": "stream",
     "text": [
      "Processing forks:  17%|█▋        | 84/500 [00:04<00:44,  9.28it/s]"
     ]
    },
    {
     "name": "stdout",
     "output_type": "stream",
     "text": [
      "⚠️  Could not fetch master.zip for r-CornySlip/ChatGPT-Next-Web (status 404)\n",
      "⚠️  Could not fetch main.zip for gScorpions/ChatGPT-Next-Web (status 404)\n"
     ]
    },
    {
     "name": "stderr",
     "output_type": "stream",
     "text": [
      "Processing forks:  17%|█▋        | 86/500 [00:05<00:56,  7.38it/s]"
     ]
    },
    {
     "name": "stdout",
     "output_type": "stream",
     "text": [
      "⚠️  Could not fetch master.zip for gScorpions/ChatGPT-Next-Web (status 404)\n",
      "⚠️  Could not fetch main.zip for 33-SaviorRazu/ChatGPT-Next-Web (status 404)\n"
     ]
    },
    {
     "name": "stderr",
     "output_type": "stream",
     "text": [
      "Processing forks:  18%|█▊        | 92/500 [00:05<00:44,  9.20it/s]"
     ]
    },
    {
     "name": "stdout",
     "output_type": "stream",
     "text": [
      "⚠️  Could not fetch master.zip for 33-SaviorRazu/ChatGPT-Next-Web (status 404)\n",
      "⚠️  Could not fetch main.zip for 64Hvidtoxyt/ChatGPT-Next-Web (status 404)\n"
     ]
    },
    {
     "name": "stderr",
     "output_type": "stream",
     "text": [
      "Processing forks:  20%|█▉        | 98/500 [00:06<00:36, 10.94it/s]"
     ]
    },
    {
     "name": "stdout",
     "output_type": "stream",
     "text": [
      "⚠️  Could not fetch master.zip for 64Hvidtoxyt/ChatGPT-Next-Web (status 404)\n",
      "⚠️  Could not fetch main.zip for UnFlirtyr/ChatGPT-Next-Web (status 404)\n"
     ]
    },
    {
     "name": "stderr",
     "output_type": "stream",
     "text": [
      "Processing forks:  21%|██        | 104/500 [00:06<00:39, 10.04it/s]"
     ]
    },
    {
     "name": "stdout",
     "output_type": "stream",
     "text": [
      "⚠️  Could not fetch master.zip for UnFlirtyr/ChatGPT-Next-Web (status 404)\n",
      "⚠️  Could not fetch main.zip for c-Trendface/ChatGPT-Next-Web (status 404)\n",
      "⚠️  Could not fetch master.zip for c-Trendface/ChatGPT-Next-Web (status 404)\n",
      "⚠️  Could not fetch main.zip for SoccerFarer-15/ChatGPT-Next-Web (status 404)\n"
     ]
    },
    {
     "name": "stderr",
     "output_type": "stream",
     "text": [
      "Processing forks:  21%|██        | 106/500 [00:07<00:54,  7.25it/s]"
     ]
    },
    {
     "name": "stdout",
     "output_type": "stream",
     "text": [
      "⚠️  Could not fetch master.zip for SoccerFarer-15/ChatGPT-Next-Web (status 404)\n",
      "⚠️  Could not fetch main.zip for Baynodo-r/ChatGPT-Next-Web (status 404)\n"
     ]
    },
    {
     "name": "stderr",
     "output_type": "stream",
     "text": [
      "Processing forks:  21%|██▏       | 107/500 [00:07<01:02,  6.32it/s]"
     ]
    },
    {
     "name": "stdout",
     "output_type": "stream",
     "text": [
      "⚠️  Could not fetch master.zip for Baynodo-r/ChatGPT-Next-Web (status 404)\n",
      "⚠️  Could not fetch main.zip for wjpstudy/ChatGPT-Next-Web (status 404)\n"
     ]
    },
    {
     "name": "stderr",
     "output_type": "stream",
     "text": [
      "Processing forks:  27%|██▋       | 134/500 [00:08<00:16, 21.88it/s]"
     ]
    },
    {
     "name": "stdout",
     "output_type": "stream",
     "text": [
      "⚠️  Could not fetch master.zip for wjpstudy/ChatGPT-Next-Web (status 404)\n"
     ]
    },
    {
     "name": "stderr",
     "output_type": "stream",
     "text": [
      "Processing forks:  39%|███▉      | 197/500 [00:08<00:06, 49.34it/s]"
     ]
    },
    {
     "name": "stdout",
     "output_type": "stream",
     "text": [
      "⚠️  Could not fetch main.zip for 173830272/ChatGPT-Next-Web (status 404)\n",
      "⚠️  Could not fetch master.zip for 173830272/ChatGPT-Next-Web (status 404)\n"
     ]
    },
    {
     "name": "stderr",
     "output_type": "stream",
     "text": [
      "Processing forks:  74%|███████▍  | 372/500 [00:09<00:00, 144.43it/s]"
     ]
    },
    {
     "name": "stdout",
     "output_type": "stream",
     "text": [
      "⚠️  Could not fetch main.zip for zerofalt/ChatGPT-Next-Web (status 404)\n",
      "⚠️  Could not fetch master.zip for zerofalt/ChatGPT-Next-Web (status 404)\n"
     ]
    },
    {
     "name": "stderr",
     "output_type": "stream",
     "text": [
      "Processing forks:  91%|█████████▏| 457/500 [00:09<00:00, 166.25it/s]"
     ]
    },
    {
     "name": "stdout",
     "output_type": "stream",
     "text": [
      "⚠️  Could not fetch main.zip for a51v2ryaha/ChatGPT-Next-Web (status 404)\n",
      "⚠️  Could not fetch master.zip for a51v2ryaha/ChatGPT-Next-Web (status 404)\n"
     ]
    },
    {
     "name": "stderr",
     "output_type": "stream",
     "text": [
      "Processing forks:  96%|█████████▌| 481/500 [00:10<00:00, 139.27it/s]"
     ]
    },
    {
     "name": "stdout",
     "output_type": "stream",
     "text": [
      "⚠️  Could not fetch main.zip for xpm2/ChatGPT-Next-Web (status 404)\n",
      "⚠️  Could not fetch master.zip for xpm2/ChatGPT-Next-Web (status 404)\n"
     ]
    },
    {
     "name": "stderr",
     "output_type": "stream",
     "text": [
      "Processing forks:  99%|█████████▉| 497/500 [00:10<00:00, 114.17it/s]"
     ]
    },
    {
     "name": "stdout",
     "output_type": "stream",
     "text": [
      "⚠️  Could not fetch main.zip for Longyanri/ChatGPT-Next-Web (status 404)\n",
      "⚠️  Could not fetch master.zip for Longyanri/ChatGPT-Next-Web (status 404)\n"
     ]
    },
    {
     "name": "stderr",
     "output_type": "stream",
     "text": [
      "Processing forks: 100%|██████████| 500/500 [00:11<00:00, 45.04it/s] \n"
     ]
    },
    {
     "name": "stdout",
     "output_type": "stream",
     "text": [
      "⚠️  Could not fetch main.zip for demo20220401/ChatGPT-Next-Web (status 404)\n",
      "⚠️  Could not fetch master.zip for demo20220401/ChatGPT-Next-Web (status 404)\n",
      "Batch: 21500\n"
     ]
    },
    {
     "name": "stderr",
     "output_type": "stream",
     "text": [
      "Processing forks:   4%|▍         | 19/500 [00:00<00:09, 52.18it/s]"
     ]
    },
    {
     "name": "stdout",
     "output_type": "stream",
     "text": [
      "⚠️  Could not fetch main.zip for huazaiokk/ChatGPT-Next-Web (status 404)\n",
      "⚠️  Could not fetch master.zip for huazaiokk/ChatGPT-Next-Web (status 404)\n"
     ]
    },
    {
     "name": "stderr",
     "output_type": "stream",
     "text": [
      "Processing forks:   8%|▊         | 41/500 [00:00<00:07, 57.87it/s]"
     ]
    },
    {
     "name": "stdout",
     "output_type": "stream",
     "text": [
      "⚠️  Could not fetch main.zip for openhousa/ChatGPT-Next-Web (status 404)\n",
      "⚠️  Could not fetch master.zip for openhousa/ChatGPT-Next-Web (status 404)\n",
      "⚠️  Could not fetch main.zip for ndjksja/ChatGPT-Next-Web (status 404)\n",
      "⚠️  Could not fetch master.zip for ndjksja/ChatGPT-Next-Web (status 404)\n",
      "⚠️  Could not fetch main.zip for mjfskyd/ChatGPT-Next-Web (status 404)\n",
      "⚠️  Could not fetch master.zip for mjfskyd/ChatGPT-Next-Web (status 404)\n",
      "⚠️  Could not fetch main.zip for miseduk/ChatGPT-Next-Web (status 404)\n",
      "⚠️  Could not fetch master.zip for miseduk/ChatGPT-Next-Web (status 404)\n"
     ]
    },
    {
     "name": "stderr",
     "output_type": "stream",
     "text": [
      "Processing forks:   9%|▉         | 47/500 [00:02<00:27, 16.59it/s]"
     ]
    },
    {
     "name": "stdout",
     "output_type": "stream",
     "text": [
      "⚠️  Could not fetch main.zip for midelui/ChatGPT-Next-Web (status 404)\n",
      "⚠️  Could not fetch master.zip for midelui/ChatGPT-Next-Web (status 404)\n",
      "⚠️  Could not fetch main.zip for diuyay/ChatGPT-Next-Web (status 404)\n"
     ]
    },
    {
     "name": "stderr",
     "output_type": "stream",
     "text": [
      "Processing forks:  14%|█▍        | 71/500 [00:02<00:16, 26.74it/s]"
     ]
    },
    {
     "name": "stdout",
     "output_type": "stream",
     "text": [
      "⚠️  Could not fetch master.zip for diuyay/ChatGPT-Next-Web (status 404)\n",
      "⚠️  Could not fetch main.zip for dgjksi/ChatGPT-Next-Web (status 404)\n"
     ]
    },
    {
     "name": "stderr",
     "output_type": "stream",
     "text": [
      "Processing forks:  15%|█▌        | 77/500 [00:02<00:17, 24.68it/s]"
     ]
    },
    {
     "name": "stdout",
     "output_type": "stream",
     "text": [
      "⚠️  Could not fetch master.zip for dgjksi/ChatGPT-Next-Web (status 404)\n",
      "⚠️  Could not fetch main.zip for sj112538/ChatGPT-Next-Web (status 404)\n"
     ]
    },
    {
     "name": "stderr",
     "output_type": "stream",
     "text": [
      "Processing forks:  22%|██▏       | 111/500 [00:03<00:09, 41.67it/s]"
     ]
    },
    {
     "name": "stdout",
     "output_type": "stream",
     "text": [
      "⚠️  Could not fetch master.zip for sj112538/ChatGPT-Next-Web (status 404)\n",
      "⚠️  Could not fetch main.zip for aifreevpn/ChatGPT-Next-Web (status 404)\n"
     ]
    },
    {
     "name": "stderr",
     "output_type": "stream",
     "text": [
      "Processing forks:  24%|██▍       | 121/500 [00:04<00:13, 28.96it/s]"
     ]
    },
    {
     "name": "stdout",
     "output_type": "stream",
     "text": [
      "⚠️  Could not fetch master.zip for aifreevpn/ChatGPT-Next-Web (status 404)\n",
      "⚠️  Could not fetch main.zip for cddjss/ChatGPT-Next-Web (status 404)\n"
     ]
    },
    {
     "name": "stderr",
     "output_type": "stream",
     "text": [
      "Processing forks:  27%|██▋       | 134/500 [00:04<00:11, 30.93it/s]"
     ]
    },
    {
     "name": "stdout",
     "output_type": "stream",
     "text": [
      "⚠️  Could not fetch master.zip for cddjss/ChatGPT-Next-Web (status 404)\n",
      "⚠️  Could not fetch main.zip for maopdkl/ChatGPT-Next-Web (status 404)\n"
     ]
    },
    {
     "name": "stderr",
     "output_type": "stream",
     "text": [
      "Processing forks:  28%|██▊       | 138/500 [00:04<00:13, 26.04it/s]"
     ]
    },
    {
     "name": "stdout",
     "output_type": "stream",
     "text": [
      "⚠️  Could not fetch master.zip for maopdkl/ChatGPT-Next-Web (status 404)\n",
      "⚠️  Could not fetch main.zip for maihalta/ChatGPT-Next-Web (status 404)\n"
     ]
    },
    {
     "name": "stderr",
     "output_type": "stream",
     "text": [
      "Processing forks:  28%|██▊       | 142/500 [00:05<00:16, 22.07it/s]"
     ]
    },
    {
     "name": "stdout",
     "output_type": "stream",
     "text": [
      "⚠️  Could not fetch master.zip for maihalta/ChatGPT-Next-Web (status 404)\n",
      "⚠️  Could not fetch main.zip for lkjifkgo/ChatGPT-Next-Web (status 404)\n"
     ]
    },
    {
     "name": "stderr",
     "output_type": "stream",
     "text": [
      "Processing forks:  30%|██▉       | 149/500 [00:05<00:16, 21.33it/s]"
     ]
    },
    {
     "name": "stdout",
     "output_type": "stream",
     "text": [
      "⚠️  Could not fetch master.zip for lkjifkgo/ChatGPT-Next-Web (status 404)\n",
      "⚠️  Could not fetch main.zip for linghingai/ChatGPT-Next-Web (status 404)\n",
      "⚠️  Could not fetch master.zip for linghingai/ChatGPT-Next-Web (status 404)\n",
      "⚠️  Could not fetch main.zip for lingdkse/ChatGPT-Next-Web (status 404)\n"
     ]
    },
    {
     "name": "stderr",
     "output_type": "stream",
     "text": [
      "Processing forks:  30%|███       | 152/500 [00:06<00:28, 12.25it/s]"
     ]
    },
    {
     "name": "stdout",
     "output_type": "stream",
     "text": [
      "⚠️  Could not fetch master.zip for lingdkse/ChatGPT-Next-Web (status 404)\n",
      "⚠️  Could not fetch main.zip for knowif1/ChatGPT-Next-Web (status 404)\n"
     ]
    },
    {
     "name": "stderr",
     "output_type": "stream",
     "text": [
      "Processing forks:  31%|███       | 154/500 [00:06<00:31, 10.88it/s]"
     ]
    },
    {
     "name": "stdout",
     "output_type": "stream",
     "text": [
      "⚠️  Could not fetch master.zip for knowif1/ChatGPT-Next-Web (status 404)\n",
      "⚠️  Could not fetch main.zip for kaowjla/ChatGPT-Next-Web (status 404)\n"
     ]
    },
    {
     "name": "stderr",
     "output_type": "stream",
     "text": [
      "Processing forks:  31%|███       | 156/500 [00:07<00:35,  9.67it/s]"
     ]
    },
    {
     "name": "stdout",
     "output_type": "stream",
     "text": [
      "⚠️  Could not fetch master.zip for kaowjla/ChatGPT-Next-Web (status 404)\n",
      "⚠️  Could not fetch main.zip for jaowlal/ChatGPT-Next-Web (status 404)\n"
     ]
    },
    {
     "name": "stderr",
     "output_type": "stream",
     "text": [
      "Processing forks:  32%|███▏      | 158/500 [00:07<00:39,  8.56it/s]"
     ]
    },
    {
     "name": "stdout",
     "output_type": "stream",
     "text": [
      "⚠️  Could not fetch master.zip for jaowlal/ChatGPT-Next-Web (status 404)\n",
      "⚠️  Could not fetch main.zip for mastrangel/ChatGPT-Next-Web (status 404)\n"
     ]
    },
    {
     "name": "stderr",
     "output_type": "stream",
     "text": [
      "Processing forks:  43%|████▎     | 213/500 [00:07<00:06, 46.06it/s]"
     ]
    },
    {
     "name": "stdout",
     "output_type": "stream",
     "text": [
      "⚠️  Could not fetch master.zip for mastrangel/ChatGPT-Next-Web (status 404)\n"
     ]
    },
    {
     "name": "stderr",
     "output_type": "stream",
     "text": [
      "Processing forks:  73%|███████▎  | 364/500 [00:08<00:01, 120.81it/s]"
     ]
    },
    {
     "name": "stdout",
     "output_type": "stream",
     "text": [
      "⚠️  Could not fetch main.zip for Gi454x/ChatGPT-Next-Web (status 404)\n",
      "⚠️  Could not fetch master.zip for Gi454x/ChatGPT-Next-Web (status 404)\n"
     ]
    },
    {
     "name": "stderr",
     "output_type": "stream",
     "text": [
      "Processing forks: 100%|██████████| 500/500 [00:08<00:00, 58.27it/s] \n"
     ]
    },
    {
     "name": "stdout",
     "output_type": "stream",
     "text": [
      "Batch: 22000\n"
     ]
    },
    {
     "name": "stderr",
     "output_type": "stream",
     "text": [
      "Processing forks:   0%|          | 0/500 [00:00<?, ?it/s]"
     ]
    },
    {
     "name": "stdout",
     "output_type": "stream",
     "text": [
      "⚠️  Could not fetch main.zip for times062322/ChatGPT-Next-Web (status 404)\n"
     ]
    },
    {
     "name": "stderr",
     "output_type": "stream",
     "text": [
      "Processing forks:   7%|▋         | 37/500 [00:00<00:04, 101.29it/s]"
     ]
    },
    {
     "name": "stdout",
     "output_type": "stream",
     "text": [
      "⚠️  Could not fetch master.zip for times062322/ChatGPT-Next-Web (status 404)\n",
      "⚠️  Could not fetch main.zip for ttzhenhao/ChatGPT-Next-Web (status 404)\n"
     ]
    },
    {
     "name": "stderr",
     "output_type": "stream",
     "text": [
      "Processing forks:  16%|█▌        | 78/500 [00:00<00:03, 110.94it/s]"
     ]
    },
    {
     "name": "stdout",
     "output_type": "stream",
     "text": [
      "⚠️  Could not fetch master.zip for ttzhenhao/ChatGPT-Next-Web (status 404)\n",
      "⚠️  Could not fetch main.zip for blblc/ChatGPT-Next-Web (status 404)\n"
     ]
    },
    {
     "name": "stderr",
     "output_type": "stream",
     "text": [
      "Processing forks:  31%|███       | 154/500 [00:01<00:02, 153.66it/s]"
     ]
    },
    {
     "name": "stdout",
     "output_type": "stream",
     "text": [
      "⚠️  Could not fetch master.zip for blblc/ChatGPT-Next-Web (status 404)\n",
      "⚠️  Could not fetch main.zip for jay-hoo/ChatGPT-Next-Web (status 404)\n"
     ]
    },
    {
     "name": "stderr",
     "output_type": "stream",
     "text": [
      "Processing forks:  37%|███▋      | 186/500 [00:01<00:02, 122.59it/s]"
     ]
    },
    {
     "name": "stdout",
     "output_type": "stream",
     "text": [
      "⚠️  Could not fetch master.zip for jay-hoo/ChatGPT-Next-Web (status 404)\n",
      "⚠️  Could not fetch main.zip for wyndem/ChatGPT-Next-Web (status 404)\n"
     ]
    },
    {
     "name": "stderr",
     "output_type": "stream",
     "text": [
      "Processing forks:  52%|█████▏    | 260/500 [00:01<00:01, 150.60it/s]"
     ]
    },
    {
     "name": "stdout",
     "output_type": "stream",
     "text": [
      "⚠️  Could not fetch master.zip for wyndem/ChatGPT-Next-Web (status 404)\n",
      "⚠️  Could not fetch main.zip for lyn-alex/ChatGPT-Next-Web (status 404)\n"
     ]
    },
    {
     "name": "stderr",
     "output_type": "stream",
     "text": [
      "Processing forks:  66%|██████▌   | 330/500 [00:02<00:01, 162.82it/s]"
     ]
    },
    {
     "name": "stdout",
     "output_type": "stream",
     "text": [
      "⚠️  Could not fetch master.zip for lyn-alex/ChatGPT-Next-Web (status 404)\n"
     ]
    },
    {
     "name": "stderr",
     "output_type": "stream",
     "text": [
      "Processing forks:  84%|████████▍ | 419/500 [00:02<00:00, 186.18it/s]"
     ]
    },
    {
     "name": "stdout",
     "output_type": "stream",
     "text": [
      "⚠️  Could not fetch main.zip for bmcslove1/ChatGPT-Next-Web (status 404)\n",
      "⚠️  Could not fetch master.zip for bmcslove1/ChatGPT-Next-Web (status 404)\n"
     ]
    },
    {
     "name": "stderr",
     "output_type": "stream",
     "text": [
      "Processing forks:  91%|█████████ | 454/500 [00:02<00:00, 156.79it/s]"
     ]
    },
    {
     "name": "stdout",
     "output_type": "stream",
     "text": [
      "⚠️  Could not fetch main.zip for gigidak/ChatGPT-Next-Web (status 404)\n",
      "⚠️  Could not fetch master.zip for gigidak/ChatGPT-Next-Web (status 404)\n"
     ]
    },
    {
     "name": "stderr",
     "output_type": "stream",
     "text": [
      "Processing forks: 100%|██████████| 500/500 [00:03<00:00, 147.94it/s]\n"
     ]
    },
    {
     "name": "stdout",
     "output_type": "stream",
     "text": [
      "⚠️  Could not fetch main.zip for EnergyBBA/ChatGPT-Next-Web (status 404)\n",
      "⚠️  Could not fetch master.zip for EnergyBBA/ChatGPT-Next-Web (status 404)\n",
      "Batch: 22500\n"
     ]
    },
    {
     "name": "stderr",
     "output_type": "stream",
     "text": [
      "Processing forks:  11%|█         | 55/500 [00:00<00:02, 150.41it/s]"
     ]
    },
    {
     "name": "stdout",
     "output_type": "stream",
     "text": [
      "⚠️  Could not fetch main.zip for donetlearn/ChatGPT-Next-Web (status 404)\n",
      "⚠️  Could not fetch master.zip for donetlearn/ChatGPT-Next-Web (status 404)\n",
      "⚠️  Could not fetch main.zip for kingkongchow/ChatGPT-Next-Web (status 404)\n"
     ]
    },
    {
     "name": "stderr",
     "output_type": "stream",
     "text": [
      "Processing forks:  24%|██▎       | 118/500 [00:00<00:02, 155.26it/s]"
     ]
    },
    {
     "name": "stdout",
     "output_type": "stream",
     "text": [
      "⚠️  Could not fetch master.zip for kingkongchow/ChatGPT-Next-Web (status 404)\n",
      "⚠️  Could not fetch main.zip for mmmsr15510/ChatGPT-Next-Web (status 404)\n"
     ]
    },
    {
     "name": "stderr",
     "output_type": "stream",
     "text": [
      "Processing forks:  28%|██▊       | 140/500 [00:01<00:03, 113.71it/s]"
     ]
    },
    {
     "name": "stdout",
     "output_type": "stream",
     "text": [
      "⚠️  Could not fetch master.zip for mmmsr15510/ChatGPT-Next-Web (status 404)\n",
      "⚠️  Could not fetch main.zip for lcq3328/ChatGPT-Next-Web (status 404)\n"
     ]
    },
    {
     "name": "stderr",
     "output_type": "stream",
     "text": [
      "Processing forks:  30%|███       | 152/500 [00:01<00:05, 63.80it/s] "
     ]
    },
    {
     "name": "stdout",
     "output_type": "stream",
     "text": [
      "⚠️  Could not fetch master.zip for lcq3328/ChatGPT-Next-Web (status 404)\n",
      "⚠️  Could not fetch main.zip for magician8520/ChatGPT-Next-Web (status 404)\n"
     ]
    },
    {
     "name": "stderr",
     "output_type": "stream",
     "text": [
      "Processing forks:  33%|███▎      | 163/500 [00:02<00:06, 53.40it/s]"
     ]
    },
    {
     "name": "stdout",
     "output_type": "stream",
     "text": [
      "⚠️  Could not fetch master.zip for magician8520/ChatGPT-Next-Web (status 404)\n",
      "⚠️  Could not fetch main.zip for max-exia/ChatGPT-Next-Web (status 404)\n"
     ]
    },
    {
     "name": "stderr",
     "output_type": "stream",
     "text": [
      "Processing forks:  37%|███▋      | 184/500 [00:02<00:05, 54.56it/s]"
     ]
    },
    {
     "name": "stdout",
     "output_type": "stream",
     "text": [
      "⚠️  Could not fetch master.zip for max-exia/ChatGPT-Next-Web (status 404)\n"
     ]
    },
    {
     "name": "stderr",
     "output_type": "stream",
     "text": [
      "Processing forks: 100%|██████████| 500/500 [00:02<00:00, 172.04it/s]\n"
     ]
    },
    {
     "name": "stdout",
     "output_type": "stream",
     "text": [
      "⚠️  Could not fetch main.zip for baturalpguvenc/ChatGPT-Next-Web (status 404)\n",
      "⚠️  Could not fetch master.zip for baturalpguvenc/ChatGPT-Next-Web (status 404)\n",
      "Batch: 23000\n"
     ]
    },
    {
     "name": "stderr",
     "output_type": "stream",
     "text": [
      "Processing forks:  10%|▉         | 49/500 [00:00<00:03, 130.45it/s]"
     ]
    },
    {
     "name": "stdout",
     "output_type": "stream",
     "text": [
      "⚠️  Could not fetch main.zip for xoxoxxxxx/ChatGPT-Next-Web (status 404)\n",
      "⚠️  Could not fetch master.zip for xoxoxxxxx/ChatGPT-Next-Web (status 404)\n"
     ]
    },
    {
     "name": "stderr",
     "output_type": "stream",
     "text": [
      "Processing forks:  44%|████▍     | 220/500 [00:00<00:00, 310.48it/s]"
     ]
    },
    {
     "name": "stdout",
     "output_type": "stream",
     "text": [
      "⚠️  Could not fetch main.zip for bridget4153/ChatGPT-Next-Web (status 404)\n",
      "⚠️  Could not fetch master.zip for bridget4153/ChatGPT-Next-Web (status 404)\n"
     ]
    },
    {
     "name": "stderr",
     "output_type": "stream",
     "text": [
      "Processing forks:  78%|███████▊  | 390/500 [00:01<00:00, 358.76it/s]"
     ]
    },
    {
     "name": "stdout",
     "output_type": "stream",
     "text": [
      "⚠️  Could not fetch main.zip for luckyouLi/ChatGPT-Next-Web (status 404)\n",
      "⚠️  Could not fetch master.zip for luckyouLi/ChatGPT-Next-Web (status 404)\n"
     ]
    },
    {
     "name": "stderr",
     "output_type": "stream",
     "text": [
      "Processing forks:  88%|████████▊ | 438/500 [00:01<00:00, 258.14it/s]"
     ]
    },
    {
     "name": "stdout",
     "output_type": "stream",
     "text": [
      "⚠️  Could not fetch main.zip for mandrillgpt4110601/ChatGPT-Next-Web (status 404)\n",
      "⚠️  Could not fetch master.zip for mandrillgpt4110601/ChatGPT-Next-Web (status 404)\n"
     ]
    },
    {
     "name": "stderr",
     "output_type": "stream",
     "text": [
      "Processing forks: 100%|██████████| 500/500 [00:02<00:00, 249.24it/s]\n"
     ]
    },
    {
     "name": "stdout",
     "output_type": "stream",
     "text": [
      "⚠️  Could not fetch main.zip for bluefly01/ChatGPT-Next-Web (status 404)\n",
      "⚠️  Could not fetch master.zip for bluefly01/ChatGPT-Next-Web (status 404)\n",
      "Batch: 23500\n"
     ]
    },
    {
     "name": "stderr",
     "output_type": "stream",
     "text": [
      "Processing forks:   2%|▏         | 12/500 [00:00<00:14, 33.32it/s]"
     ]
    },
    {
     "name": "stdout",
     "output_type": "stream",
     "text": [
      "⚠️  Could not fetch main.zip for yingjigithub/yjgpt4 (status 404)\n",
      "⚠️  Could not fetch master.zip for yingjigithub/yjgpt4 (status 404)\n"
     ]
    },
    {
     "name": "stderr",
     "output_type": "stream",
     "text": [
      "Processing forks:   8%|▊         | 38/500 [00:00<00:08, 55.43it/s]"
     ]
    },
    {
     "name": "stdout",
     "output_type": "stream",
     "text": [
      "⚠️  Could not fetch main.zip for usaweili/ChatGPT-Next-Web (status 404)\n",
      "⚠️  Could not fetch master.zip for usaweili/ChatGPT-Next-Web (status 404)\n"
     ]
    },
    {
     "name": "stderr",
     "output_type": "stream",
     "text": [
      "Processing forks:  24%|██▎       | 118/500 [00:01<00:02, 131.94it/s]"
     ]
    },
    {
     "name": "stdout",
     "output_type": "stream",
     "text": [
      "⚠️  Could not fetch main.zip for vitaminc001/ChatGPT-Next-Web (status 404)\n",
      "⚠️  Could not fetch master.zip for vitaminc001/ChatGPT-Next-Web (status 404)\n"
     ]
    },
    {
     "name": "stderr",
     "output_type": "stream",
     "text": [
      "Processing forks:  64%|██████▍   | 321/500 [00:01<00:00, 291.43it/s]"
     ]
    },
    {
     "name": "stdout",
     "output_type": "stream",
     "text": [
      "⚠️  Could not fetch main.zip for nouhahama/momobrian (status 404)\n",
      "⚠️  Could not fetch master.zip for nouhahama/momobrian (status 404)\n",
      "⚠️  Could not fetch main.zip for momonouh/ChatGPT-Next-Web (status 404)\n",
      "⚠️  Could not fetch master.zip for momonouh/ChatGPT-Next-Web (status 404)\n"
     ]
    },
    {
     "name": "stderr",
     "output_type": "stream",
     "text": [
      "Processing forks:  70%|███████   | 350/500 [00:02<00:00, 152.80it/s]"
     ]
    },
    {
     "name": "stdout",
     "output_type": "stream",
     "text": [
      "⚠️  Could not fetch main.zip for kate1586/ChatGPT-Next-Web (status 404)\n",
      "⚠️  Could not fetch master.zip for kate1586/ChatGPT-Next-Web (status 404)\n"
     ]
    },
    {
     "name": "stderr",
     "output_type": "stream",
     "text": [
      "Processing forks: 100%|██████████| 500/500 [00:02<00:00, 216.45it/s]\n"
     ]
    },
    {
     "name": "stdout",
     "output_type": "stream",
     "text": [
      "Batch: 24000\n"
     ]
    },
    {
     "name": "stderr",
     "output_type": "stream",
     "text": [
      "Processing forks:   0%|          | 0/500 [00:00<?, ?it/s]"
     ]
    },
    {
     "name": "stdout",
     "output_type": "stream",
     "text": [
      "⚠️  Could not fetch main.zip for 3677635DebbyHugh/ChatGPT-Next-Web (status 404)\n"
     ]
    },
    {
     "name": "stderr",
     "output_type": "stream",
     "text": [
      "Processing forks:  28%|██▊       | 140/500 [00:00<00:00, 406.96it/s]"
     ]
    },
    {
     "name": "stdout",
     "output_type": "stream",
     "text": [
      "⚠️  Could not fetch master.zip for 3677635DebbyHugh/ChatGPT-Next-Web (status 404)\n",
      "⚠️  Could not fetch main.zip for SamNeedham8467406/ChatGPT-Next-Web (status 404)\n"
     ]
    },
    {
     "name": "stderr",
     "output_type": "stream",
     "text": [
      "Processing forks:  36%|███▌      | 181/500 [00:00<00:01, 224.52it/s]"
     ]
    },
    {
     "name": "stdout",
     "output_type": "stream",
     "text": [
      "⚠️  Could not fetch master.zip for SamNeedham8467406/ChatGPT-Next-Web (status 404)\n",
      "⚠️  Could not fetch main.zip for Myro0796nKeats/ChatGPT-Next-Web (status 404)\n",
      "⚠️  Could not fetch master.zip for Myro0796nKeats/ChatGPT-Next-Web (status 404)\n",
      "⚠️  Could not fetch main.zip for Bla9742irNoel/ChatGPT-Next-Web (status 404)\n",
      "⚠️  Could not fetch master.zip for Bla9742irNoel/ChatGPT-Next-Web (status 404)\n",
      "⚠️  Could not fetch main.zip for OliveEli3810zabeth/ChatGPT-Next-Web (status 404)\n"
     ]
    },
    {
     "name": "stderr",
     "output_type": "stream",
     "text": [
      "Processing forks:  41%|████      | 205/500 [00:01<00:03, 78.63it/s] "
     ]
    },
    {
     "name": "stdout",
     "output_type": "stream",
     "text": [
      "⚠️  Could not fetch master.zip for OliveEli3810zabeth/ChatGPT-Next-Web (status 404)\n",
      "⚠️  Could not fetch main.zip for linyubin48/ChatGPT-Next-Web (status 404)\n"
     ]
    },
    {
     "name": "stderr",
     "output_type": "stream",
     "text": [
      "Processing forks:  45%|████▍     | 223/500 [00:02<00:03, 70.76it/s]"
     ]
    },
    {
     "name": "stdout",
     "output_type": "stream",
     "text": [
      "⚠️  Could not fetch master.zip for linyubin48/ChatGPT-Next-Web (status 404)\n"
     ]
    },
    {
     "name": "stderr",
     "output_type": "stream",
     "text": [
      "Processing forks:  57%|█████▋    | 283/500 [00:02<00:02, 93.05it/s]"
     ]
    },
    {
     "name": "stdout",
     "output_type": "stream",
     "text": [
      "⚠️  Could not fetch main.zip for evilgon/ChatGPT-Next-Web (status 404)\n",
      "⚠️  Could not fetch master.zip for evilgon/ChatGPT-Next-Web (status 404)\n"
     ]
    },
    {
     "name": "stderr",
     "output_type": "stream",
     "text": [
      "Processing forks:  61%|██████    | 304/500 [00:02<00:02, 83.88it/s]"
     ]
    },
    {
     "name": "stdout",
     "output_type": "stream",
     "text": [
      "⚠️  Could not fetch main.zip for imtheabu/ChatGPT-Next-Web (status 404)\n",
      "⚠️  Could not fetch master.zip for imtheabu/ChatGPT-Next-Web (status 404)\n"
     ]
    },
    {
     "name": "stderr",
     "output_type": "stream",
     "text": [
      "Processing forks:  74%|███████▍  | 370/500 [00:03<00:01, 110.22it/s]"
     ]
    },
    {
     "name": "stdout",
     "output_type": "stream",
     "text": [
      "⚠️  Could not fetch main.zip for lc237423551/ChatGPT-Next-Web (status 404)\n",
      "⚠️  Could not fetch master.zip for lc237423551/ChatGPT-Next-Web (status 404)\n",
      "⚠️  Could not fetch main.zip for pipio1/ChatGPT-Next-Web (status 404)\n",
      "⚠️  Could not fetch master.zip for pipio1/ChatGPT-Next-Web (status 404)\n"
     ]
    },
    {
     "name": "stderr",
     "output_type": "stream",
     "text": [
      "Processing forks:  77%|███████▋  | 383/500 [00:04<00:01, 69.39it/s] "
     ]
    },
    {
     "name": "stdout",
     "output_type": "stream",
     "text": [
      "⚠️  Could not fetch main.zip for super117893344p/ChatGPT-Next-Web (status 404)\n",
      "⚠️  Could not fetch master.zip for super117893344p/ChatGPT-Next-Web (status 404)\n"
     ]
    },
    {
     "name": "stderr",
     "output_type": "stream",
     "text": [
      "Processing forks:  90%|█████████ | 450/500 [00:04<00:00, 93.15it/s]"
     ]
    },
    {
     "name": "stdout",
     "output_type": "stream",
     "text": [
      "⚠️  Could not fetch main.zip for TMC6390/ChatGPT-Next-Web (status 404)\n",
      "⚠️  Could not fetch master.zip for TMC6390/ChatGPT-Next-Web (status 404)\n",
      "⚠️  Could not fetch main.zip for Muri345354elZimmerman/ChatGPT-Next-Web (status 404)\n",
      "⚠️  Could not fetch master.zip for Muri345354elZimmerman/ChatGPT-Next-Web (status 404)\n"
     ]
    },
    {
     "name": "stderr",
     "output_type": "stream",
     "text": [
      "Processing forks:  92%|█████████▏| 462/500 [00:05<00:00, 62.65it/s]"
     ]
    },
    {
     "name": "stdout",
     "output_type": "stream",
     "text": [
      "⚠️  Could not fetch main.zip for Muri896935elKatte/ChatGPT-Next-Web (status 404)\n",
      "⚠️  Could not fetch master.zip for Muri896935elKatte/ChatGPT-Next-Web (status 404)\n"
     ]
    },
    {
     "name": "stderr",
     "output_type": "stream",
     "text": [
      "Processing forks:  94%|█████████▍| 472/500 [00:05<00:00, 54.47it/s]"
     ]
    },
    {
     "name": "stdout",
     "output_type": "stream",
     "text": [
      "⚠️  Could not fetch main.zip for M3573867onaKatte/ChatGPT-Next-Web (status 404)\n",
      "⚠️  Could not fetch master.zip for M3573867onaKatte/ChatGPT-Next-Web (status 404)\n"
     ]
    },
    {
     "name": "stderr",
     "output_type": "stream",
     "text": [
      "Processing forks: 100%|██████████| 500/500 [00:05<00:00, 83.68it/s]"
     ]
    },
    {
     "name": "stdout",
     "output_type": "stream",
     "text": [
      "⚠️  Could not fetch main.zip for MikeBl7841oomer/ChatGPT-Next-Web (status 404)\n",
      "⚠️  Could not fetch master.zip for MikeBl7841oomer/ChatGPT-Next-Web (status 404)\n"
     ]
    },
    {
     "name": "stderr",
     "output_type": "stream",
     "text": [
      "\n"
     ]
    },
    {
     "name": "stdout",
     "output_type": "stream",
     "text": [
      "Batch: 24500\n"
     ]
    },
    {
     "name": "stderr",
     "output_type": "stream",
     "text": [
      "Processing forks:   0%|          | 0/500 [00:00<?, ?it/s]"
     ]
    },
    {
     "name": "stdout",
     "output_type": "stream",
     "text": [
      "⚠️  Could not fetch main.zip for tszlfasy/ChatGPT-Next-Web (status 404)\n"
     ]
    },
    {
     "name": "stderr",
     "output_type": "stream",
     "text": [
      "Processing forks:   6%|▌         | 31/500 [00:00<00:05, 85.80it/s]"
     ]
    },
    {
     "name": "stdout",
     "output_type": "stream",
     "text": [
      "⚠️  Could not fetch master.zip for tszlfasy/ChatGPT-Next-Web (status 404)\n",
      "⚠️  Could not fetch main.zip for ysx88/ChatGPT-Next-Web (status 404)\n"
     ]
    },
    {
     "name": "stderr",
     "output_type": "stream",
     "text": [
      "Processing forks:   9%|▉         | 44/500 [00:00<00:08, 56.58it/s]"
     ]
    },
    {
     "name": "stdout",
     "output_type": "stream",
     "text": [
      "⚠️  Could not fetch master.zip for ysx88/ChatGPT-Next-Web (status 404)\n",
      "⚠️  Could not fetch main.zip for ClarenceLi553054zzie/ChatGPT-Next-Web (status 404)\n"
     ]
    },
    {
     "name": "stderr",
     "output_type": "stream",
     "text": [
      "Processing forks:  10%|█         | 50/500 [00:01<00:11, 37.91it/s]"
     ]
    },
    {
     "name": "stdout",
     "output_type": "stream",
     "text": [
      "⚠️  Could not fetch master.zip for ClarenceLi553054zzie/ChatGPT-Next-Web (status 404)\n",
      "⚠️  Could not fetch main.zip for CandiceJudso1295909n/ChatGPT-Next-Web (status 404)\n"
     ]
    },
    {
     "name": "stderr",
     "output_type": "stream",
     "text": [
      "Processing forks:  15%|█▌        | 76/500 [00:01<00:08, 50.97it/s]"
     ]
    },
    {
     "name": "stdout",
     "output_type": "stream",
     "text": [
      "⚠️  Could not fetch master.zip for CandiceJudso1295909n/ChatGPT-Next-Web (status 404)\n",
      "⚠️  Could not fetch main.zip for Jan411971etBloomfield/ChatGPT-Next-Web (status 404)\n"
     ]
    },
    {
     "name": "stderr",
     "output_type": "stream",
     "text": [
      "Processing forks:  16%|█▋        | 82/500 [00:01<00:10, 38.54it/s]"
     ]
    },
    {
     "name": "stdout",
     "output_type": "stream",
     "text": [
      "⚠️  Could not fetch master.zip for Jan411971etBloomfield/ChatGPT-Next-Web (status 404)\n",
      "⚠️  Could not fetch main.zip for TessJ1479350erry/ChatGPT-Next-Web (status 404)\n"
     ]
    },
    {
     "name": "stderr",
     "output_type": "stream",
     "text": [
      "Processing forks:  20%|██        | 100/500 [00:02<00:09, 41.98it/s]"
     ]
    },
    {
     "name": "stdout",
     "output_type": "stream",
     "text": [
      "⚠️  Could not fetch master.zip for TessJ1479350erry/ChatGPT-Next-Web (status 404)\n",
      "⚠️  Could not fetch main.zip for EileenC86655hapman/ChatGPT-Next-Web (status 404)\n"
     ]
    },
    {
     "name": "stderr",
     "output_type": "stream",
     "text": [
      "Processing forks:  26%|██▌       | 130/500 [00:02<00:06, 54.89it/s]"
     ]
    },
    {
     "name": "stdout",
     "output_type": "stream",
     "text": [
      "⚠️  Could not fetch master.zip for EileenC86655hapman/ChatGPT-Next-Web (status 404)\n"
     ]
    },
    {
     "name": "stderr",
     "output_type": "stream",
     "text": [
      "Processing forks:  36%|███▌      | 178/500 [00:03<00:05, 62.61it/s]"
     ]
    },
    {
     "name": "stdout",
     "output_type": "stream",
     "text": [
      "⚠️  Could not fetch main.zip for Anshu1337/ChatGPT-Next-Web (status 404)\n",
      "⚠️  Could not fetch master.zip for Anshu1337/ChatGPT-Next-Web (status 404)\n"
     ]
    },
    {
     "name": "stderr",
     "output_type": "stream",
     "text": [
      "Processing forks:  38%|███▊      | 192/500 [00:03<00:05, 56.93it/s]"
     ]
    },
    {
     "name": "stdout",
     "output_type": "stream",
     "text": [
      "⚠️  Could not fetch main.zip for googleliuli/ChatGPT-Next-Web (status 404)\n",
      "⚠️  Could not fetch master.zip for googleliuli/ChatGPT-Next-Web (status 404)\n"
     ]
    },
    {
     "name": "stderr",
     "output_type": "stream",
     "text": [
      "Processing forks:  47%|████▋     | 235/500 [00:03<00:03, 73.96it/s]"
     ]
    },
    {
     "name": "stdout",
     "output_type": "stream",
     "text": [
      "⚠️  Could not fetch main.zip for BerniceArmst0049713rong/ChatGPT-Next-Web (status 404)\n",
      "⚠️  Could not fetch master.zip for BerniceArmst0049713rong/ChatGPT-Next-Web (status 404)\n"
     ]
    },
    {
     "name": "stderr",
     "output_type": "stream",
     "text": [
      "Processing forks:  61%|██████▏   | 307/500 [00:04<00:01, 108.59it/s]"
     ]
    },
    {
     "name": "stdout",
     "output_type": "stream",
     "text": [
      "⚠️  Could not fetch main.zip for MichaeliaWin3151ifred/ChatGPT-Next-Web (status 404)\n",
      "⚠️  Could not fetch master.zip for MichaeliaWin3151ifred/ChatGPT-Next-Web (status 404)\n"
     ]
    },
    {
     "name": "stderr",
     "output_type": "stream",
     "text": [
      "Processing forks:  68%|██████▊   | 340/500 [00:04<00:01, 103.32it/s]"
     ]
    },
    {
     "name": "stdout",
     "output_type": "stream",
     "text": [
      "⚠️  Could not fetch main.zip for QishaoUwU/ChatGPT-Next-Web (status 404)\n",
      "⚠️  Could not fetch master.zip for QishaoUwU/ChatGPT-Next-Web (status 404)\n"
     ]
    },
    {
     "name": "stderr",
     "output_type": "stream",
     "text": [
      "Processing forks:  79%|███████▉  | 395/500 [00:05<00:00, 116.20it/s]"
     ]
    },
    {
     "name": "stdout",
     "output_type": "stream",
     "text": [
      "⚠️  Could not fetch main.zip for Camill541470eKennedy/ChatGPT-Next-Web (status 404)\n",
      "⚠️  Could not fetch master.zip for Camill541470eKennedy/ChatGPT-Next-Web (status 404)\n"
     ]
    },
    {
     "name": "stderr",
     "output_type": "stream",
     "text": [
      "Processing forks:  85%|████████▌ | 425/500 [00:05<00:00, 107.21it/s]"
     ]
    },
    {
     "name": "stdout",
     "output_type": "stream",
     "text": [
      "⚠️  Could not fetch main.zip for GeekHeng/ChatGPT-Next-Web (status 404)\n",
      "⚠️  Could not fetch master.zip for GeekHeng/ChatGPT-Next-Web (status 404)\n",
      "⚠️  Could not fetch main.zip for MartinaM155276ac/ChatGPT-Next-Web (status 404)\n",
      "⚠️  Could not fetch master.zip for MartinaM155276ac/ChatGPT-Next-Web (status 404)\n"
     ]
    },
    {
     "name": "stderr",
     "output_type": "stream",
     "text": [
      "Processing forks:  89%|████████▉ | 445/500 [00:06<00:00, 64.04it/s] "
     ]
    },
    {
     "name": "stdout",
     "output_type": "stream",
     "text": [
      "⚠️  Could not fetch main.zip for ErnestJ5874580ohnny/ChatGPT-Next-Web (status 404)\n",
      "⚠️  Could not fetch master.zip for ErnestJ5874580ohnny/ChatGPT-Next-Web (status 404)\n"
     ]
    },
    {
     "name": "stderr",
     "output_type": "stream",
     "text": [
      "Processing forks: 100%|██████████| 500/500 [00:06<00:00, 75.99it/s]"
     ]
    },
    {
     "name": "stdout",
     "output_type": "stream",
     "text": [
      "⚠️  Could not fetch main.zip for Migno0759nWilhelmina/ChatGPT-Next-Web (status 404)\n",
      "⚠️  Could not fetch master.zip for Migno0759nWilhelmina/ChatGPT-Next-Web (status 404)\n"
     ]
    },
    {
     "name": "stderr",
     "output_type": "stream",
     "text": [
      "\n"
     ]
    },
    {
     "name": "stdout",
     "output_type": "stream",
     "text": [
      "Batch: 25000\n"
     ]
    },
    {
     "name": "stderr",
     "output_type": "stream",
     "text": [
      "Processing forks:   0%|          | 0/500 [00:00<?, ?it/s]"
     ]
    },
    {
     "name": "stdout",
     "output_type": "stream",
     "text": [
      "⚠️  Could not fetch main.zip for 09470HugoHubbard/ChatGPT-Next-Web (status 404)\n"
     ]
    },
    {
     "name": "stderr",
     "output_type": "stream",
     "text": [
      "Processing forks:   1%|          | 4/500 [00:00<00:43, 11.53it/s]"
     ]
    },
    {
     "name": "stdout",
     "output_type": "stream",
     "text": [
      "⚠️  Could not fetch master.zip for 09470HugoHubbard/ChatGPT-Next-Web (status 404)\n",
      "⚠️  Could not fetch main.zip for TracyRoosevelt5676845/ChatGPT-Next-Web (status 404)\n",
      "⚠️  Could not fetch master.zip for TracyRoosevelt5676845/ChatGPT-Next-Web (status 404)\n",
      "⚠️  Could not fetch main.zip for Nathaniel883864Hewlett/ChatGPT-Next-Web (status 404)\n"
     ]
    },
    {
     "name": "stderr",
     "output_type": "stream",
     "text": [
      "Processing forks:   1%|          | 6/500 [00:01<01:40,  4.92it/s]"
     ]
    },
    {
     "name": "stdout",
     "output_type": "stream",
     "text": [
      "⚠️  Could not fetch master.zip for Nathaniel883864Hewlett/ChatGPT-Next-Web (status 404)\n"
     ]
    },
    {
     "name": "stderr",
     "output_type": "stream",
     "text": [
      "Processing forks:  13%|█▎        | 63/500 [00:01<00:07, 56.62it/s]"
     ]
    },
    {
     "name": "stdout",
     "output_type": "stream",
     "text": [
      "⚠️  Could not fetch main.zip for JaredW49118allace/ChatGPT-Next-Web (status 404)\n",
      "⚠️  Could not fetch master.zip for JaredW49118allace/ChatGPT-Next-Web (status 404)\n"
     ]
    },
    {
     "name": "stderr",
     "output_type": "stream",
     "text": [
      "Processing forks:  14%|█▍        | 71/500 [00:01<00:09, 46.17it/s]"
     ]
    },
    {
     "name": "stdout",
     "output_type": "stream",
     "text": [
      "⚠️  Could not fetch main.zip for G087863abrielGold/ChatGPT-Next-Web (status 404)\n",
      "⚠️  Could not fetch master.zip for G087863abrielGold/ChatGPT-Next-Web (status 404)\n"
     ]
    },
    {
     "name": "stderr",
     "output_type": "stream",
     "text": [
      "Processing forks:  32%|███▏      | 159/500 [00:02<00:03, 103.65it/s]"
     ]
    },
    {
     "name": "stdout",
     "output_type": "stream",
     "text": [
      "⚠️  Could not fetch main.zip for Abne05888rPolly/ChatGPT-Next-Web (status 404)\n",
      "⚠️  Could not fetch master.zip for Abne05888rPolly/ChatGPT-Next-Web (status 404)\n",
      "⚠️  Could not fetch main.zip for Ba4787536ldwinWood/ChatGPT-Next-Web (status 404)\n",
      "⚠️  Could not fetch master.zip for Ba4787536ldwinWood/ChatGPT-Next-Web (status 404)\n",
      "⚠️  Could not fetch main.zip for q646664759/ChatGPT-Next-Web (status 404)\n"
     ]
    },
    {
     "name": "stderr",
     "output_type": "stream",
     "text": [
      "Processing forks:  34%|███▍      | 170/500 [00:03<00:06, 51.77it/s] "
     ]
    },
    {
     "name": "stdout",
     "output_type": "stream",
     "text": [
      "⚠️  Could not fetch master.zip for q646664759/ChatGPT-Next-Web (status 404)\n",
      "⚠️  Could not fetch main.zip for dy072/Ai (status 404)\n"
     ]
    },
    {
     "name": "stderr",
     "output_type": "stream",
     "text": [
      "Processing forks:  36%|███▌      | 178/500 [00:03<00:07, 45.25it/s]"
     ]
    },
    {
     "name": "stdout",
     "output_type": "stream",
     "text": [
      "⚠️  Could not fetch master.zip for dy072/Ai (status 404)\n",
      "⚠️  Could not fetch main.zip for DonS6513towe/ChatGPT-Next-Web (status 404)\n"
     ]
    },
    {
     "name": "stderr",
     "output_type": "stream",
     "text": [
      "Processing forks:  51%|█████     | 253/500 [00:03<00:02, 83.78it/s]"
     ]
    },
    {
     "name": "stdout",
     "output_type": "stream",
     "text": [
      "⚠️  Could not fetch master.zip for DonS6513towe/ChatGPT-Next-Web (status 404)\n",
      "⚠️  Could not fetch main.zip for EricL8468054ongfellow/ChatGPT-Next-Web (status 404)\n"
     ]
    },
    {
     "name": "stderr",
     "output_type": "stream",
     "text": [
      "Processing forks:  53%|█████▎    | 264/500 [00:04<00:03, 70.75it/s]"
     ]
    },
    {
     "name": "stdout",
     "output_type": "stream",
     "text": [
      "⚠️  Could not fetch master.zip for EricL8468054ongfellow/ChatGPT-Next-Web (status 404)\n",
      "⚠️  Could not fetch main.zip for cryptotoolsdev/ChatGPT-Next-Web (status 404)\n"
     ]
    },
    {
     "name": "stderr",
     "output_type": "stream",
     "text": [
      "Processing forks:  57%|█████▋    | 286/500 [00:04<00:03, 68.38it/s]"
     ]
    },
    {
     "name": "stdout",
     "output_type": "stream",
     "text": [
      "⚠️  Could not fetch master.zip for cryptotoolsdev/ChatGPT-Next-Web (status 404)\n",
      "⚠️  Could not fetch main.zip for zy94xhn/ChatGPT-Next-Web (status 404)\n"
     ]
    },
    {
     "name": "stderr",
     "output_type": "stream",
     "text": [
      "Processing forks:  59%|█████▉    | 297/500 [00:05<00:03, 58.04it/s]"
     ]
    },
    {
     "name": "stdout",
     "output_type": "stream",
     "text": [
      "⚠️  Could not fetch master.zip for zy94xhn/ChatGPT-Next-Web (status 404)\n",
      "⚠️  Could not fetch main.zip for Elroy6538Bellamy/ChatGPT-Next-Web (status 404)\n"
     ]
    },
    {
     "name": "stderr",
     "output_type": "stream",
     "text": [
      "Processing forks:  62%|██████▏   | 310/500 [00:05<00:03, 51.77it/s]"
     ]
    },
    {
     "name": "stdout",
     "output_type": "stream",
     "text": [
      "⚠️  Could not fetch master.zip for Elroy6538Bellamy/ChatGPT-Next-Web (status 404)\n",
      "⚠️  Could not fetch main.zip for TabGrot683539e/ChatGPT-Next-Web (status 404)\n"
     ]
    },
    {
     "name": "stderr",
     "output_type": "stream",
     "text": [
      "Processing forks:  63%|██████▎   | 316/500 [00:05<00:04, 42.09it/s]"
     ]
    },
    {
     "name": "stdout",
     "output_type": "stream",
     "text": [
      "⚠️  Could not fetch master.zip for TabGrot683539e/ChatGPT-Next-Web (status 404)\n",
      "⚠️  Could not fetch main.zip for INCOD3/ChatGPT-Next-Web (status 404)\n"
     ]
    },
    {
     "name": "stderr",
     "output_type": "stream",
     "text": [
      "Processing forks:  64%|██████▍   | 321/500 [00:06<00:05, 34.13it/s]"
     ]
    },
    {
     "name": "stdout",
     "output_type": "stream",
     "text": [
      "⚠️  Could not fetch master.zip for INCOD3/ChatGPT-Next-Web (status 404)\n",
      "⚠️  Could not fetch main.zip for CqksMcWNkYuf/ChatGPT-Next-Web (status 404)\n"
     ]
    },
    {
     "name": "stderr",
     "output_type": "stream",
     "text": [
      "Processing forks:  67%|██████▋   | 336/500 [00:06<00:04, 37.37it/s]"
     ]
    },
    {
     "name": "stdout",
     "output_type": "stream",
     "text": [
      "⚠️  Could not fetch master.zip for CqksMcWNkYuf/ChatGPT-Next-Web (status 404)\n",
      "⚠️  Could not fetch main.zip for zHTtHWsLnDhL/ChatGPT-Next-Web (status 404)\n"
     ]
    },
    {
     "name": "stderr",
     "output_type": "stream",
     "text": [
      "Processing forks:  68%|██████▊   | 340/500 [00:06<00:05, 30.26it/s]"
     ]
    },
    {
     "name": "stdout",
     "output_type": "stream",
     "text": [
      "⚠️  Could not fetch master.zip for zHTtHWsLnDhL/ChatGPT-Next-Web (status 404)\n"
     ]
    },
    {
     "name": "stderr",
     "output_type": "stream",
     "text": [
      "Processing forks:  79%|███████▉  | 397/500 [00:07<00:01, 67.29it/s]"
     ]
    },
    {
     "name": "stdout",
     "output_type": "stream",
     "text": [
      "⚠️  Could not fetch main.zip for Co4028rneliaKitto/ChatGPT-Next-Web (status 404)\n",
      "⚠️  Could not fetch master.zip for Co4028rneliaKitto/ChatGPT-Next-Web (status 404)\n",
      "⚠️  Could not fetch main.zip for PunitGuha/ChatGPTNB (status 404)\n"
     ]
    },
    {
     "name": "stderr",
     "output_type": "stream",
     "text": [
      "Processing forks:  85%|████████▍ | 423/500 [00:07<00:01, 67.94it/s]"
     ]
    },
    {
     "name": "stdout",
     "output_type": "stream",
     "text": [
      "⚠️  Could not fetch master.zip for PunitGuha/ChatGPTNB (status 404)\n",
      "⚠️  Could not fetch main.zip for bishop9911/ChatGPT-Next-Web (status 404)\n"
     ]
    },
    {
     "name": "stderr",
     "output_type": "stream",
     "text": [
      "Processing forks: 100%|██████████| 500/500 [00:07<00:00, 62.90it/s]\n"
     ]
    },
    {
     "name": "stdout",
     "output_type": "stream",
     "text": [
      "⚠️  Could not fetch master.zip for bishop9911/ChatGPT-Next-Web (status 404)\n",
      "Batch: 25500\n"
     ]
    },
    {
     "name": "stderr",
     "output_type": "stream",
     "text": [
      "Processing forks:   0%|          | 0/500 [00:00<?, ?it/s]"
     ]
    },
    {
     "name": "stdout",
     "output_type": "stream",
     "text": [
      "⚠️  Could not fetch main.zip for 869454GeneRalph/ChatGPT-Next-Web (status 404)\n"
     ]
    },
    {
     "name": "stderr",
     "output_type": "stream",
     "text": [
      "Processing forks:   5%|▍         | 24/500 [00:00<00:06, 68.37it/s]"
     ]
    },
    {
     "name": "stdout",
     "output_type": "stream",
     "text": [
      "⚠️  Could not fetch master.zip for 869454GeneRalph/ChatGPT-Next-Web (status 404)\n",
      "⚠️  Could not fetch main.zip for SharonVaugh7176471an/ChatGPT-Next-Web (status 404)\n"
     ]
    },
    {
     "name": "stderr",
     "output_type": "stream",
     "text": [
      "Processing forks:   6%|▌         | 31/500 [00:00<00:11, 39.18it/s]"
     ]
    },
    {
     "name": "stdout",
     "output_type": "stream",
     "text": [
      "⚠️  Could not fetch master.zip for SharonVaugh7176471an/ChatGPT-Next-Web (status 404)\n",
      "⚠️  Could not fetch main.zip for Claire0171Rudolph/ChatGPT-Next-Web (status 404)\n"
     ]
    },
    {
     "name": "stderr",
     "output_type": "stream",
     "text": [
      "Processing forks:   9%|▉         | 44/500 [00:01<00:11, 38.61it/s]"
     ]
    },
    {
     "name": "stdout",
     "output_type": "stream",
     "text": [
      "⚠️  Could not fetch master.zip for Claire0171Rudolph/ChatGPT-Next-Web (status 404)\n",
      "⚠️  Could not fetch main.zip for 825700AnselLancelot/ChatGPT-Next-Web (status 404)\n",
      "⚠️  Could not fetch master.zip for 825700AnselLancelot/ChatGPT-Next-Web (status 404)\n",
      "⚠️  Could not fetch main.zip for I14294reneTennyson/ChatGPT-Next-Web (status 404)\n",
      "⚠️  Could not fetch master.zip for I14294reneTennyson/ChatGPT-Next-Web (status 404)\n",
      "⚠️  Could not fetch main.zip for 8521357AlvaMurray/ChatGPT-Next-Web (status 404)\n"
     ]
    },
    {
     "name": "stderr",
     "output_type": "stream",
     "text": [
      "Processing forks:  10%|▉         | 48/500 [00:02<00:29, 15.39it/s]"
     ]
    },
    {
     "name": "stdout",
     "output_type": "stream",
     "text": [
      "⚠️  Could not fetch master.zip for 8521357AlvaMurray/ChatGPT-Next-Web (status 404)\n",
      "⚠️  Could not fetch main.zip for BelyavskiyDmitriy/ChatGPT-Next-Web (status 404)\n"
     ]
    },
    {
     "name": "stderr",
     "output_type": "stream",
     "text": [
      "Processing forks:  13%|█▎        | 63/500 [00:02<00:19, 22.06it/s]"
     ]
    },
    {
     "name": "stdout",
     "output_type": "stream",
     "text": [
      "⚠️  Could not fetch master.zip for BelyavskiyDmitriy/ChatGPT-Next-Web (status 404)\n",
      "⚠️  Could not fetch main.zip for Benso8022447nJefferson/ChatGPT-Next-Web (status 404)\n"
     ]
    },
    {
     "name": "stderr",
     "output_type": "stream",
     "text": [
      "Processing forks:  16%|█▋        | 82/500 [00:02<00:14, 29.53it/s]"
     ]
    },
    {
     "name": "stdout",
     "output_type": "stream",
     "text": [
      "⚠️  Could not fetch master.zip for Benso8022447nJefferson/ChatGPT-Next-Web (status 404)\n"
     ]
    },
    {
     "name": "stderr",
     "output_type": "stream",
     "text": [
      "Processing forks:  26%|██▌       | 129/500 [00:03<00:08, 45.37it/s]"
     ]
    },
    {
     "name": "stdout",
     "output_type": "stream",
     "text": [
      "⚠️  Could not fetch main.zip for Sylv0361iaMacaulay/ChatGPT-Next-Web (status 404)\n",
      "⚠️  Could not fetch master.zip for Sylv0361iaMacaulay/ChatGPT-Next-Web (status 404)\n"
     ]
    },
    {
     "name": "stderr",
     "output_type": "stream",
     "text": [
      "Processing forks:  28%|██▊       | 140/500 [00:03<00:08, 41.70it/s]"
     ]
    },
    {
     "name": "stdout",
     "output_type": "stream",
     "text": [
      "⚠️  Could not fetch main.zip for Jack12354840/ChatGPT-Next-Web (status 404)\n",
      "⚠️  Could not fetch master.zip for Jack12354840/ChatGPT-Next-Web (status 404)\n"
     ]
    },
    {
     "name": "stderr",
     "output_type": "stream",
     "text": [
      "Processing forks:  29%|██▉       | 145/500 [00:04<00:10, 34.98it/s]"
     ]
    },
    {
     "name": "stdout",
     "output_type": "stream",
     "text": [
      "⚠️  Could not fetch main.zip for VilenskiyPolina/ChatGPT-Next-Web (status 404)\n",
      "⚠️  Could not fetch master.zip for VilenskiyPolina/ChatGPT-Next-Web (status 404)\n"
     ]
    },
    {
     "name": "stderr",
     "output_type": "stream",
     "text": [
      "Processing forks:  33%|███▎      | 163/500 [00:04<00:08, 39.03it/s]"
     ]
    },
    {
     "name": "stdout",
     "output_type": "stream",
     "text": [
      "⚠️  Could not fetch main.zip for Gr7428egViolet/ChatGPT-Next-Web (status 404)\n",
      "⚠️  Could not fetch master.zip for Gr7428egViolet/ChatGPT-Next-Web (status 404)\n"
     ]
    },
    {
     "name": "stderr",
     "output_type": "stream",
     "text": [
      "Processing forks:  40%|███▉      | 198/500 [00:05<00:05, 51.43it/s]"
     ]
    },
    {
     "name": "stdout",
     "output_type": "stream",
     "text": [
      "⚠️  Could not fetch main.zip for AntonIshunin/ChatGPT-Next-Web (status 404)\n",
      "⚠️  Could not fetch master.zip for AntonIshunin/ChatGPT-Next-Web (status 404)\n"
     ]
    },
    {
     "name": "stderr",
     "output_type": "stream",
     "text": [
      "Processing forks:  46%|████▋     | 232/500 [00:05<00:04, 63.17it/s]"
     ]
    },
    {
     "name": "stdout",
     "output_type": "stream",
     "text": [
      "⚠️  Could not fetch main.zip for Her331743mosaElizabeth/ChatGPT-Next-Web (status 404)\n",
      "⚠️  Could not fetch master.zip for Her331743mosaElizabeth/ChatGPT-Next-Web (status 404)\n",
      "⚠️  Could not fetch main.zip for Nathaniel58602Pansy/ChatGPT-Next-Web (status 404)\n",
      "⚠️  Could not fetch master.zip for Nathaniel58602Pansy/ChatGPT-Next-Web (status 404)\n",
      "⚠️  Could not fetch main.zip for JosephPayne64/ChatGPT-Next-Web (status 404)\n",
      "⚠️  Could not fetch master.zip for JosephPayne64/ChatGPT-Next-Web (status 404)\n"
     ]
    },
    {
     "name": "stderr",
     "output_type": "stream",
     "text": [
      "Processing forks:  48%|████▊     | 239/500 [00:06<00:07, 33.05it/s]"
     ]
    },
    {
     "name": "stdout",
     "output_type": "stream",
     "text": [
      "⚠️  Could not fetch main.zip for NatalyaVelichko/ChatGPT-Next-Web (status 404)\n",
      "⚠️  Could not fetch master.zip for NatalyaVelichko/ChatGPT-Next-Web (status 404)\n"
     ]
    },
    {
     "name": "stderr",
     "output_type": "stream",
     "text": [
      "Processing forks:  51%|█████     | 256/500 [00:06<00:06, 35.74it/s]"
     ]
    },
    {
     "name": "stdout",
     "output_type": "stream",
     "text": [
      "⚠️  Could not fetch main.zip for mickytexas/ChatGPT-Next-Web (status 404)\n",
      "⚠️  Could not fetch master.zip for mickytexas/ChatGPT-Next-Web (status 404)\n"
     ]
    },
    {
     "name": "stderr",
     "output_type": "stream",
     "text": [
      "Processing forks:  61%|██████    | 303/500 [00:07<00:03, 56.77it/s]"
     ]
    },
    {
     "name": "stdout",
     "output_type": "stream",
     "text": [
      "⚠️  Could not fetch main.zip for Jona1354sHume/ChatGPT-Next-Web (status 404)\n",
      "⚠️  Could not fetch master.zip for Jona1354sHume/ChatGPT-Next-Web (status 404)\n",
      "⚠️  Could not fetch main.zip for QuentinNix892054on/ChatGPT-Next-Web (status 404)\n",
      "⚠️  Could not fetch master.zip for QuentinNix892054on/ChatGPT-Next-Web (status 404)\n",
      "⚠️  Could not fetch main.zip for EdisonD10453ickey/ChatGPT-Next-Web (status 404)\n",
      "⚠️  Could not fetch master.zip for EdisonD10453ickey/ChatGPT-Next-Web (status 404)\n",
      "⚠️  Could not fetch main.zip for 72118CharlesSimon/ChatGPT-Next-Web (status 404)\n",
      "⚠️  Could not fetch master.zip for 72118CharlesSimon/ChatGPT-Next-Web (status 404)\n",
      "⚠️  Could not fetch main.zip for Harriet75154Carnegie/ChatGPT-Next-Web (status 404)\n",
      "⚠️  Could not fetch master.zip for Harriet75154Carnegie/ChatGPT-Next-Web (status 404)\n"
     ]
    },
    {
     "name": "stderr",
     "output_type": "stream",
     "text": [
      "Processing forks:  62%|██████▏   | 311/500 [00:09<00:07, 24.61it/s]"
     ]
    },
    {
     "name": "stdout",
     "output_type": "stream",
     "text": [
      "⚠️  Could not fetch main.zip for EthelMarsha4911955ll/ChatGPT-Next-Web (status 404)\n",
      "⚠️  Could not fetch master.zip for EthelMarsha4911955ll/ChatGPT-Next-Web (status 404)\n",
      "⚠️  Could not fetch main.zip for Perr2894yHoward/ChatGPT-Next-Web (status 404)\n",
      "⚠️  Could not fetch master.zip for Perr2894yHoward/ChatGPT-Next-Web (status 404)\n",
      "⚠️  Could not fetch main.zip for lmdnc8736/ChatGPT-Next-Web (status 404)\n",
      "⚠️  Could not fetch master.zip for lmdnc8736/ChatGPT-Next-Web (status 404)\n"
     ]
    },
    {
     "name": "stderr",
     "output_type": "stream",
     "text": [
      "Processing forks:  63%|██████▎   | 317/500 [00:10<00:10, 17.94it/s]"
     ]
    },
    {
     "name": "stdout",
     "output_type": "stream",
     "text": [
      "⚠️  Could not fetch main.zip for tyec4759/ChatGPT-Next-Web (status 404)\n",
      "⚠️  Could not fetch master.zip for tyec4759/ChatGPT-Next-Web (status 404)\n"
     ]
    },
    {
     "name": "stderr",
     "output_type": "stream",
     "text": [
      "Processing forks:  64%|██████▍   | 321/500 [00:10<00:10, 17.10it/s]"
     ]
    },
    {
     "name": "stdout",
     "output_type": "stream",
     "text": [
      "⚠️  Could not fetch main.zip for ellamlng/ChatGPT-Next-Web (status 404)\n",
      "⚠️  Could not fetch master.zip for ellamlng/ChatGPT-Next-Web (status 404)\n"
     ]
    },
    {
     "name": "stderr",
     "output_type": "stream",
     "text": [
      "Processing forks:  68%|██████▊   | 341/500 [00:10<00:06, 23.26it/s]"
     ]
    },
    {
     "name": "stdout",
     "output_type": "stream",
     "text": [
      "⚠️  Could not fetch main.zip for gprta6460/ChatGPT-Next-Web (status 404)\n",
      "⚠️  Could not fetch master.zip for gprta6460/ChatGPT-Next-Web (status 404)\n",
      "⚠️  Could not fetch main.zip for QuinnD1141037elia/ChatGPT-Next-Web (status 404)\n"
     ]
    },
    {
     "name": "stderr",
     "output_type": "stream",
     "text": [
      "Processing forks:  69%|██████▉   | 346/500 [00:11<00:08, 19.03it/s]"
     ]
    },
    {
     "name": "stdout",
     "output_type": "stream",
     "text": [
      "⚠️  Could not fetch master.zip for QuinnD1141037elia/ChatGPT-Next-Web (status 404)\n",
      "⚠️  Could not fetch main.zip for GenevieveA08728nthony/ChatGPT-Next-Web (status 404)\n"
     ]
    },
    {
     "name": "stderr",
     "output_type": "stream",
     "text": [
      "Processing forks:  71%|███████   | 353/500 [00:11<00:07, 19.09it/s]"
     ]
    },
    {
     "name": "stdout",
     "output_type": "stream",
     "text": [
      "⚠️  Could not fetch master.zip for GenevieveA08728nthony/ChatGPT-Next-Web (status 404)\n",
      "⚠️  Could not fetch main.zip for Arrow-Moon-AI/ChatGPT-Next-Web (status 404)\n"
     ]
    },
    {
     "name": "stderr",
     "output_type": "stream",
     "text": [
      "Processing forks:  71%|███████   | 356/500 [00:12<00:08, 16.43it/s]"
     ]
    },
    {
     "name": "stdout",
     "output_type": "stream",
     "text": [
      "⚠️  Could not fetch master.zip for Arrow-Moon-AI/ChatGPT-Next-Web (status 404)\n",
      "⚠️  Could not fetch main.zip for PaninAndriy/ChatGPT-Next-Web (status 404)\n"
     ]
    },
    {
     "name": "stderr",
     "output_type": "stream",
     "text": [
      "Processing forks: 100%|██████████| 500/500 [00:12<00:00, 39.61it/s]\n"
     ]
    },
    {
     "name": "stdout",
     "output_type": "stream",
     "text": [
      "⚠️  Could not fetch master.zip for PaninAndriy/ChatGPT-Next-Web (status 404)\n",
      "Batch: 26000\n"
     ]
    },
    {
     "name": "stderr",
     "output_type": "stream",
     "text": [
      "Processing forks:  10%|▉         | 48/500 [00:00<00:03, 137.62it/s]"
     ]
    },
    {
     "name": "stdout",
     "output_type": "stream",
     "text": [
      "⚠️  Could not fetch main.zip for haken113/ChatGPT-Next-Web (status 404)\n",
      "⚠️  Could not fetch master.zip for haken113/ChatGPT-Next-Web (status 404)\n"
     ]
    },
    {
     "name": "stderr",
     "output_type": "stream",
     "text": [
      "Processing forks:  14%|█▍        | 72/500 [00:00<00:04, 94.96it/s] "
     ]
    },
    {
     "name": "stdout",
     "output_type": "stream",
     "text": [
      "⚠️  Could not fetch main.zip for AriesEDGE/ChatGPT-Next-Web (status 404)\n",
      "⚠️  Could not fetch master.zip for AriesEDGE/ChatGPT-Next-Web (status 404)\n",
      "⚠️  Could not fetch main.zip for gpthai888/ChatGPT-Next-Web (status 404)\n"
     ]
    },
    {
     "name": "stderr",
     "output_type": "stream",
     "text": [
      "Processing forks:  21%|██        | 105/500 [00:01<00:04, 91.19it/s]"
     ]
    },
    {
     "name": "stdout",
     "output_type": "stream",
     "text": [
      "⚠️  Could not fetch master.zip for gpthai888/ChatGPT-Next-Web (status 404)\n",
      "⚠️  Could not fetch main.zip for KazunguDev/ChatGPT-Next-Web (status 404)\n"
     ]
    },
    {
     "name": "stderr",
     "output_type": "stream",
     "text": [
      "Processing forks:  23%|██▎       | 115/500 [00:01<00:06, 64.11it/s]"
     ]
    },
    {
     "name": "stdout",
     "output_type": "stream",
     "text": [
      "⚠️  Could not fetch master.zip for KazunguDev/ChatGPT-Next-Web (status 404)\n",
      "⚠️  Could not fetch main.zip for vinatro/ChatGPT-Next-Web (status 404)\n"
     ]
    },
    {
     "name": "stderr",
     "output_type": "stream",
     "text": [
      "Processing forks:  31%|███       | 156/500 [00:01<00:04, 80.62it/s]"
     ]
    },
    {
     "name": "stdout",
     "output_type": "stream",
     "text": [
      "⚠️  Could not fetch master.zip for vinatro/ChatGPT-Next-Web (status 404)\n"
     ]
    },
    {
     "name": "stderr",
     "output_type": "stream",
     "text": [
      "Processing forks:  81%|████████  | 406/500 [00:02<00:00, 269.83it/s]"
     ]
    },
    {
     "name": "stdout",
     "output_type": "stream",
     "text": [
      "⚠️  Could not fetch main.zip for lenerasis/ChatGPT-Next-Web (status 404)\n",
      "⚠️  Could not fetch master.zip for lenerasis/ChatGPT-Next-Web (status 404)\n",
      "⚠️  Could not fetch main.zip for chasidydelaura/ChatGPT-Next-Web (status 404)\n",
      "⚠️  Could not fetch master.zip for chasidydelaura/ChatGPT-Next-Web (status 404)\n"
     ]
    },
    {
     "name": "stderr",
     "output_type": "stream",
     "text": [
      "Processing forks:  87%|████████▋ | 434/500 [00:02<00:00, 207.48it/s]"
     ]
    },
    {
     "name": "stdout",
     "output_type": "stream",
     "text": [
      "⚠️  Could not fetch main.zip for alamomaude/ChatGPT-Next-Web (status 404)\n",
      "⚠️  Could not fetch master.zip for alamomaude/ChatGPT-Next-Web (status 404)\n",
      "⚠️  Could not fetch main.zip for alexfrolan98/ChatGPT-Next-Web (status 404)\n",
      "⚠️  Could not fetch master.zip for alexfrolan98/ChatGPT-Next-Web (status 404)\n",
      "⚠️  Could not fetch main.zip for loryhansen/ChatGPT-Next-Web (status 404)\n",
      "⚠️  Could not fetch master.zip for loryhansen/ChatGPT-Next-Web (status 404)\n",
      "⚠️  Could not fetch main.zip for jovitamcclosky/ChatGPT-Next-Web (status 404)\n",
      "⚠️  Could not fetch master.zip for jovitamcclosky/ChatGPT-Next-Web (status 404)\n",
      "⚠️  Could not fetch main.zip for imogentownsend3/ChatGPT-Next-Web (status 404)\n",
      "⚠️  Could not fetch master.zip for imogentownsend3/ChatGPT-Next-Web (status 404)\n",
      "⚠️  Could not fetch main.zip for dimples1995/ChatGPT-Next-Web (status 404)\n",
      "⚠️  Could not fetch master.zip for dimples1995/ChatGPT-Next-Web (status 404)\n",
      "⚠️  Could not fetch main.zip for dichristopherhee/ChatGPT-Next-Web (status 404)\n",
      "⚠️  Could not fetch master.zip for dichristopherhee/ChatGPT-Next-Web (status 404)\n",
      "⚠️  Could not fetch main.zip for granttonmor/ChatGPT-Next-Web (status 404)\n"
     ]
    },
    {
     "name": "stderr",
     "output_type": "stream",
     "text": [
      "Processing forks:  91%|█████████ | 454/500 [00:05<00:00, 46.93it/s] "
     ]
    },
    {
     "name": "stdout",
     "output_type": "stream",
     "text": [
      "⚠️  Could not fetch master.zip for granttonmor/ChatGPT-Next-Web (status 404)\n",
      "⚠️  Could not fetch main.zip for bredesenshavon/ChatGPT-Next-Web (status 404)\n"
     ]
    },
    {
     "name": "stderr",
     "output_type": "stream",
     "text": [
      "Processing forks: 100%|██████████| 500/500 [00:06<00:00, 79.53it/s]\n"
     ]
    },
    {
     "name": "stdout",
     "output_type": "stream",
     "text": [
      "⚠️  Could not fetch master.zip for bredesenshavon/ChatGPT-Next-Web (status 404)\n",
      "Batch: 26500\n"
     ]
    },
    {
     "name": "stderr",
     "output_type": "stream",
     "text": [
      "Processing forks:  20%|██        | 102/500 [00:00<00:01, 276.15it/s]"
     ]
    },
    {
     "name": "stdout",
     "output_type": "stream",
     "text": [
      "⚠️  Could not fetch main.zip for road427/ChatGPT-Next-Web (status 404)\n",
      "⚠️  Could not fetch master.zip for road427/ChatGPT-Next-Web (status 404)\n",
      "⚠️  Could not fetch main.zip for tryto423/ChatGPT-Next-Web (status 404)\n",
      "⚠️  Could not fetch master.zip for tryto423/ChatGPT-Next-Web (status 404)\n",
      "⚠️  Could not fetch main.zip for xin-unauth/ChatGPT-Next-Web (status 404)\n",
      "⚠️  Could not fetch master.zip for xin-unauth/ChatGPT-Next-Web (status 404)\n",
      "⚠️  Could not fetch main.zip for twiopyi/ChatGPT-Next-Web (status 404)\n",
      "⚠️  Could not fetch master.zip for twiopyi/ChatGPT-Next-Web (status 404)\n",
      "⚠️  Could not fetch main.zip for bopikii22/ChatGPT-Next-Web (status 404)\n",
      "⚠️  Could not fetch master.zip for bopikii22/ChatGPT-Next-Web (status 404)\n",
      "⚠️  Could not fetch main.zip for zjhy1968/ChatGPT-Next-Web (status 404)\n",
      "⚠️  Could not fetch master.zip for zjhy1968/ChatGPT-Next-Web (status 404)\n",
      "⚠️  Could not fetch main.zip for tiopkkb22/ChatGPT-Next-Web (status 404)\n",
      "⚠️  Could not fetch master.zip for tiopkkb22/ChatGPT-Next-Web (status 404)\n",
      "⚠️  Could not fetch main.zip for gertypp/ChatGPT-Next-Web (status 404)\n"
     ]
    },
    {
     "name": "stderr",
     "output_type": "stream",
     "text": [
      "Processing forks: 100%|██████████| 500/500 [00:02<00:00, 168.54it/s]\n"
     ]
    },
    {
     "name": "stdout",
     "output_type": "stream",
     "text": [
      "⚠️  Could not fetch master.zip for gertypp/ChatGPT-Next-Web (status 404)\n",
      "Batch: 27000\n"
     ]
    },
    {
     "name": "stderr",
     "output_type": "stream",
     "text": [
      "Processing forks:   3%|▎         | 13/500 [00:00<00:12, 37.49it/s]"
     ]
    },
    {
     "name": "stdout",
     "output_type": "stream",
     "text": [
      "⚠️  Could not fetch main.zip for tonydog111/ChatGPT-Next-Web (status 404)\n",
      "⚠️  Could not fetch master.zip for tonydog111/ChatGPT-Next-Web (status 404)\n"
     ]
    },
    {
     "name": "stderr",
     "output_type": "stream",
     "text": [
      "Processing forks:  17%|█▋        | 87/500 [00:00<00:03, 130.57it/s]"
     ]
    },
    {
     "name": "stdout",
     "output_type": "stream",
     "text": [
      "⚠️  Could not fetch main.zip for asdf123cf/ChatGPT-Next-Web (status 404)\n",
      "⚠️  Could not fetch master.zip for asdf123cf/ChatGPT-Next-Web (status 404)\n"
     ]
    },
    {
     "name": "stderr",
     "output_type": "stream",
     "text": [
      "Processing forks:  28%|██▊       | 141/500 [00:01<00:02, 135.40it/s]"
     ]
    },
    {
     "name": "stdout",
     "output_type": "stream",
     "text": [
      "⚠️  Could not fetch main.zip for LiamFFF/ChatGPT-Next-Web (status 404)\n",
      "⚠️  Could not fetch master.zip for LiamFFF/ChatGPT-Next-Web (status 404)\n"
     ]
    },
    {
     "name": "stderr",
     "output_type": "stream",
     "text": [
      "Processing forks:  31%|███       | 155/500 [00:01<00:03, 98.63it/s] "
     ]
    },
    {
     "name": "stdout",
     "output_type": "stream",
     "text": [
      "⚠️  Could not fetch main.zip for lorna665/ChatGPT-Next-Web (status 404)\n",
      "⚠️  Could not fetch master.zip for lorna665/ChatGPT-Next-Web (status 404)\n"
     ]
    },
    {
     "name": "stderr",
     "output_type": "stream",
     "text": [
      "Processing forks:  39%|███▉      | 194/500 [00:01<00:03, 100.78it/s]"
     ]
    },
    {
     "name": "stdout",
     "output_type": "stream",
     "text": [
      "⚠️  Could not fetch main.zip for provafhusrima/ChatGPT-Next-Web (status 404)\n",
      "⚠️  Could not fetch master.zip for provafhusrima/ChatGPT-Next-Web (status 404)\n"
     ]
    },
    {
     "name": "stderr",
     "output_type": "stream",
     "text": [
      "Processing forks:  41%|████      | 204/500 [00:02<00:03, 77.16it/s] "
     ]
    },
    {
     "name": "stdout",
     "output_type": "stream",
     "text": [
      "⚠️  Could not fetch main.zip for lian20211145/ChatGPT-Next-Web (status 404)\n",
      "⚠️  Could not fetch master.zip for lian20211145/ChatGPT-Next-Web (status 404)\n"
     ]
    },
    {
     "name": "stderr",
     "output_type": "stream",
     "text": [
      "Processing forks:  42%|████▏     | 212/500 [00:02<00:04, 58.01it/s]"
     ]
    },
    {
     "name": "stdout",
     "output_type": "stream",
     "text": [
      "⚠️  Could not fetch main.zip for jiangnanyis1/ChatGPT-Next-Web (status 404)\n",
      "⚠️  Could not fetch master.zip for jiangnanyis1/ChatGPT-Next-Web (status 404)\n"
     ]
    },
    {
     "name": "stderr",
     "output_type": "stream",
     "text": [
      "Processing forks:  44%|████▍     | 222/500 [00:02<00:05, 48.19it/s]"
     ]
    },
    {
     "name": "stdout",
     "output_type": "stream",
     "text": [
      "⚠️  Could not fetch main.zip for oops198/ChatGPT-Next-Web (status 404)\n",
      "⚠️  Could not fetch master.zip for oops198/ChatGPT-Next-Web (status 404)\n"
     ]
    },
    {
     "name": "stderr",
     "output_type": "stream",
     "text": [
      "Processing forks:  50%|█████     | 251/500 [00:03<00:04, 57.47it/s]"
     ]
    },
    {
     "name": "stdout",
     "output_type": "stream",
     "text": [
      "⚠️  Could not fetch main.zip for MortysRickInGithub/ChatGPT-Next-Web (status 404)\n",
      "⚠️  Could not fetch master.zip for MortysRickInGithub/ChatGPT-Next-Web (status 404)\n",
      "⚠️  Could not fetch main.zip for cdnosijco/ChatGPT-Next-Web (status 404)\n",
      "⚠️  Could not fetch master.zip for cdnosijco/ChatGPT-Next-Web (status 404)\n"
     ]
    },
    {
     "name": "stderr",
     "output_type": "stream",
     "text": [
      "Processing forks:  74%|███████▍  | 370/500 [00:04<00:01, 116.87it/s]"
     ]
    },
    {
     "name": "stdout",
     "output_type": "stream",
     "text": [
      "⚠️  Could not fetch main.zip for lu-lu-2023/ChatGPT-Next-Web (status 404)\n",
      "⚠️  Could not fetch master.zip for lu-lu-2023/ChatGPT-Next-Web (status 404)\n"
     ]
    },
    {
     "name": "stderr",
     "output_type": "stream",
     "text": [
      "Processing forks:  78%|███████▊  | 392/500 [00:04<00:01, 100.07it/s]"
     ]
    },
    {
     "name": "stdout",
     "output_type": "stream",
     "text": [
      "⚠️  Could not fetch main.zip for jdynleigh4/ChatGPT-Next-Web (status 404)\n",
      "⚠️  Could not fetch master.zip for jdynleigh4/ChatGPT-Next-Web (status 404)\n"
     ]
    },
    {
     "name": "stderr",
     "output_type": "stream",
     "text": [
      "Processing forks: 100%|██████████| 500/500 [00:05<00:00, 97.28it/s] "
     ]
    },
    {
     "name": "stdout",
     "output_type": "stream",
     "text": [
      "⚠️  Could not fetch main.zip for ding027/ChatGPT-Next-Web (status 404)\n",
      "⚠️  Could not fetch master.zip for ding027/ChatGPT-Next-Web (status 404)\n"
     ]
    },
    {
     "name": "stderr",
     "output_type": "stream",
     "text": [
      "\n"
     ]
    },
    {
     "name": "stdout",
     "output_type": "stream",
     "text": [
      "Batch: 27500\n"
     ]
    },
    {
     "name": "stderr",
     "output_type": "stream",
     "text": [
      "Processing forks:   0%|          | 0/500 [00:00<?, ?it/s]"
     ]
    },
    {
     "name": "stdout",
     "output_type": "stream",
     "text": [
      "⚠️  Could not fetch main.zip for lingsCode/ChatGPT-Next-Web (status 404)\n"
     ]
    },
    {
     "name": "stderr",
     "output_type": "stream",
     "text": [
      "Processing forks:  11%|█         | 56/500 [00:00<00:02, 158.85it/s]"
     ]
    },
    {
     "name": "stdout",
     "output_type": "stream",
     "text": [
      "⚠️  Could not fetch master.zip for lingsCode/ChatGPT-Next-Web (status 404)\n",
      "⚠️  Could not fetch main.zip for qwertyuiop5566/ChatGPT-Next-Web (status 404)\n",
      "⚠️  Could not fetch master.zip for qwertyuiop5566/ChatGPT-Next-Web (status 404)\n"
     ]
    },
    {
     "name": "stderr",
     "output_type": "stream",
     "text": [
      "Processing forks:  19%|█▉        | 97/500 [00:00<00:03, 127.43it/s]"
     ]
    },
    {
     "name": "stdout",
     "output_type": "stream",
     "text": [
      "⚠️  Could not fetch main.zip for ATai7788/ChatGPT-Next-Web (status 404)\n"
     ]
    },
    {
     "name": "stderr",
     "output_type": "stream",
     "text": [
      "Processing forks:  27%|██▋       | 133/500 [00:01<00:03, 112.98it/s]"
     ]
    },
    {
     "name": "stdout",
     "output_type": "stream",
     "text": [
      "⚠️  Could not fetch master.zip for ATai7788/ChatGPT-Next-Web (status 404)\n",
      "⚠️  Could not fetch main.zip for lei-yihan/ChatGPT-Next-Web (status 404)\n"
     ]
    },
    {
     "name": "stderr",
     "output_type": "stream",
     "text": [
      "Processing forks:  33%|███▎      | 165/500 [00:01<00:03, 95.95it/s] "
     ]
    },
    {
     "name": "stdout",
     "output_type": "stream",
     "text": [
      "⚠️  Could not fetch master.zip for lei-yihan/ChatGPT-Next-Web (status 404)\n",
      "⚠️  Could not fetch main.zip for godsure997/ChatGPT-Next-Web (status 404)\n"
     ]
    },
    {
     "name": "stderr",
     "output_type": "stream",
     "text": [
      "Processing forks:  36%|███▋      | 182/500 [00:01<00:04, 79.30it/s]"
     ]
    },
    {
     "name": "stdout",
     "output_type": "stream",
     "text": [
      "⚠️  Could not fetch master.zip for godsure997/ChatGPT-Next-Web (status 404)\n"
     ]
    },
    {
     "name": "stderr",
     "output_type": "stream",
     "text": [
      "Processing forks:  64%|██████▍   | 319/500 [00:02<00:01, 174.65it/s]"
     ]
    },
    {
     "name": "stdout",
     "output_type": "stream",
     "text": [
      "⚠️  Could not fetch main.zip for pettubudiro/ChatGPT-Next-Web (status 404)\n",
      "⚠️  Could not fetch master.zip for pettubudiro/ChatGPT-Next-Web (status 404)\n"
     ]
    },
    {
     "name": "stderr",
     "output_type": "stream",
     "text": [
      "Processing forks:  74%|███████▎  | 368/500 [00:02<00:00, 156.15it/s]"
     ]
    },
    {
     "name": "stdout",
     "output_type": "stream",
     "text": [
      "⚠️  Could not fetch main.zip for x93mf0a/ChatGPT-Next-Web (status 404)\n",
      "⚠️  Could not fetch master.zip for x93mf0a/ChatGPT-Next-Web (status 404)\n"
     ]
    },
    {
     "name": "stderr",
     "output_type": "stream",
     "text": [
      "Processing forks:  82%|████████▏ | 408/500 [00:03<00:00, 130.86it/s]"
     ]
    },
    {
     "name": "stdout",
     "output_type": "stream",
     "text": [
      "⚠️  Could not fetch main.zip for vnukovpk/ChatGPT-Next-Web (status 404)\n",
      "⚠️  Could not fetch master.zip for vnukovpk/ChatGPT-Next-Web (status 404)\n"
     ]
    },
    {
     "name": "stderr",
     "output_type": "stream",
     "text": [
      "Processing forks: 100%|██████████| 500/500 [00:03<00:00, 140.29it/s]"
     ]
    },
    {
     "name": "stdout",
     "output_type": "stream",
     "text": [
      "⚠️  Could not fetch main.zip for TestStudentBook/ChatGPT-Next-Web (status 404)\n",
      "⚠️  Could not fetch master.zip for TestStudentBook/ChatGPT-Next-Web (status 404)\n"
     ]
    },
    {
     "name": "stderr",
     "output_type": "stream",
     "text": [
      "\n"
     ]
    },
    {
     "name": "stdout",
     "output_type": "stream",
     "text": [
      "Batch: 28000\n"
     ]
    },
    {
     "name": "stderr",
     "output_type": "stream",
     "text": [
      "Processing forks:   0%|          | 0/500 [00:00<?, ?it/s]"
     ]
    },
    {
     "name": "stdout",
     "output_type": "stream",
     "text": [
      "⚠️  Could not fetch main.zip for wgq2002/ChatGPT-Next-Web (status 404)\n"
     ]
    },
    {
     "name": "stderr",
     "output_type": "stream",
     "text": [
      "Processing forks:   7%|▋         | 37/500 [00:00<00:04, 97.23it/s]"
     ]
    },
    {
     "name": "stdout",
     "output_type": "stream",
     "text": [
      "⚠️  Could not fetch master.zip for wgq2002/ChatGPT-Next-Web (status 404)\n",
      "⚠️  Could not fetch main.zip for jlmoto/ChatGPT-Next-Web (status 404)\n"
     ]
    },
    {
     "name": "stderr",
     "output_type": "stream",
     "text": [
      "Processing forks:  12%|█▏        | 60/500 [00:00<00:05, 78.63it/s]"
     ]
    },
    {
     "name": "stdout",
     "output_type": "stream",
     "text": [
      "⚠️  Could not fetch master.zip for jlmoto/ChatGPT-Next-Web (status 404)\n",
      "⚠️  Could not fetch main.zip for mickigeorgis/ChatGPT-Next-Web (status 404)\n"
     ]
    },
    {
     "name": "stderr",
     "output_type": "stream",
     "text": [
      "Processing forks:  61%|██████    | 305/500 [00:01<00:00, 259.68it/s]"
     ]
    },
    {
     "name": "stdout",
     "output_type": "stream",
     "text": [
      "⚠️  Could not fetch master.zip for mickigeorgis/ChatGPT-Next-Web (status 404)\n",
      "⚠️  Could not fetch main.zip for QQ903368882/ChatGPT-Next-Web (status 404)\n"
     ]
    },
    {
     "name": "stderr",
     "output_type": "stream",
     "text": [
      "Processing forks:  86%|████████▋ | 432/500 [00:01<00:00, 284.00it/s]"
     ]
    },
    {
     "name": "stdout",
     "output_type": "stream",
     "text": [
      "⚠️  Could not fetch master.zip for QQ903368882/ChatGPT-Next-Web (status 404)\n",
      "⚠️  Could not fetch main.zip for xulres/ChatGPT-Next-Web (status 404)\n",
      "⚠️  Could not fetch master.zip for xulres/ChatGPT-Next-Web (status 404)\n",
      "⚠️  Could not fetch main.zip for jlp10/ChatGPT-Next-Web (status 404)\n",
      "⚠️  Could not fetch master.zip for jlp10/ChatGPT-Next-Web (status 404)\n",
      "⚠️  Could not fetch main.zip for gehrisgenna/ChatGPT-Next-Web (status 404)\n"
     ]
    },
    {
     "name": "stderr",
     "output_type": "stream",
     "text": [
      "Processing forks: 100%|██████████| 500/500 [00:02<00:00, 174.74it/s]\n"
     ]
    },
    {
     "name": "stdout",
     "output_type": "stream",
     "text": [
      "⚠️  Could not fetch master.zip for gehrisgenna/ChatGPT-Next-Web (status 404)\n",
      "Batch: 28500\n"
     ]
    },
    {
     "name": "stderr",
     "output_type": "stream",
     "text": [
      "Processing forks:   8%|▊         | 41/500 [00:00<00:04, 114.01it/s]"
     ]
    },
    {
     "name": "stdout",
     "output_type": "stream",
     "text": [
      "⚠️  Could not fetch main.zip for frankelinn/ChatGPT-Next-Web (status 404)\n",
      "⚠️  Could not fetch master.zip for frankelinn/ChatGPT-Next-Web (status 404)\n"
     ]
    },
    {
     "name": "stderr",
     "output_type": "stream",
     "text": [
      "Processing forks:  33%|███▎      | 166/500 [00:00<00:01, 242.24it/s]"
     ]
    },
    {
     "name": "stdout",
     "output_type": "stream",
     "text": [
      "⚠️  Could not fetch main.zip for pengjieedu/ChatGPT-Next-Web (status 404)\n",
      "⚠️  Could not fetch master.zip for pengjieedu/ChatGPT-Next-Web (status 404)\n"
     ]
    },
    {
     "name": "stderr",
     "output_type": "stream",
     "text": [
      "Processing forks:  51%|█████     | 255/500 [00:01<00:01, 237.94it/s]"
     ]
    },
    {
     "name": "stdout",
     "output_type": "stream",
     "text": [
      "⚠️  Could not fetch main.zip for EphemeralFlame/ChatGPT-Next-Web (status 404)\n",
      "⚠️  Could not fetch master.zip for EphemeralFlame/ChatGPT-Next-Web (status 404)\n"
     ]
    },
    {
     "name": "stderr",
     "output_type": "stream",
     "text": [
      "Processing forks:  96%|█████████▌| 480/500 [00:01<00:00, 365.32it/s]"
     ]
    },
    {
     "name": "stdout",
     "output_type": "stream",
     "text": [
      "⚠️  Could not fetch main.zip for belanlu1997/ChatGPT-Next-Web (status 404)\n",
      "⚠️  Could not fetch master.zip for belanlu1997/ChatGPT-Next-Web (status 404)\n"
     ]
    },
    {
     "name": "stderr",
     "output_type": "stream",
     "text": [
      "Processing forks: 100%|██████████| 500/500 [00:01<00:00, 262.85it/s]\n"
     ]
    },
    {
     "name": "stdout",
     "output_type": "stream",
     "text": [
      "⚠️  Could not fetch main.zip for tudou1591/ChatGPT-Next-Web (status 404)\n",
      "⚠️  Could not fetch master.zip for tudou1591/ChatGPT-Next-Web (status 404)\n",
      "Batch: 29000\n"
     ]
    },
    {
     "name": "stderr",
     "output_type": "stream",
     "text": [
      "Processing forks:   1%|          | 3/500 [00:00<00:56,  8.80it/s]"
     ]
    },
    {
     "name": "stdout",
     "output_type": "stream",
     "text": [
      "⚠️  Could not fetch main.zip for chenGit1763113879QQ/ChatGPT-Next-Web (status 404)\n",
      "⚠️  Could not fetch master.zip for chenGit1763113879QQ/ChatGPT-Next-Web (status 404)\n"
     ]
    },
    {
     "name": "stderr",
     "output_type": "stream",
     "text": [
      "Processing forks:  12%|█▏        | 59/500 [00:00<00:04, 93.54it/s]"
     ]
    },
    {
     "name": "stdout",
     "output_type": "stream",
     "text": [
      "⚠️  Could not fetch main.zip for RootLeeCoder2/ChatGPT-Next-Web (status 404)\n",
      "⚠️  Could not fetch master.zip for RootLeeCoder2/ChatGPT-Next-Web (status 404)\n"
     ]
    },
    {
     "name": "stderr",
     "output_type": "stream",
     "text": [
      "Processing forks:  15%|█▌        | 75/500 [00:01<00:06, 68.74it/s]"
     ]
    },
    {
     "name": "stdout",
     "output_type": "stream",
     "text": [
      "⚠️  Could not fetch main.zip for zhousitong608/ChatGPT-Next-Web (status 404)\n",
      "⚠️  Could not fetch master.zip for zhousitong608/ChatGPT-Next-Web (status 404)\n"
     ]
    },
    {
     "name": "stderr",
     "output_type": "stream",
     "text": [
      "Processing forks:  18%|█▊        | 91/500 [00:01<00:06, 58.54it/s]"
     ]
    },
    {
     "name": "stdout",
     "output_type": "stream",
     "text": [
      "⚠️  Could not fetch main.zip for kfear1337/ChatGPT-Next-Web (status 404)\n",
      "⚠️  Could not fetch master.zip for kfear1337/ChatGPT-Next-Web (status 404)\n"
     ]
    },
    {
     "name": "stderr",
     "output_type": "stream",
     "text": [
      "Processing forks:  22%|██▏       | 110/500 [00:01<00:06, 56.66it/s]"
     ]
    },
    {
     "name": "stdout",
     "output_type": "stream",
     "text": [
      "⚠️  Could not fetch main.zip for Spyis/ChatGPT-Next-Web (status 404)\n",
      "⚠️  Could not fetch master.zip for Spyis/ChatGPT-Next-Web (status 404)\n"
     ]
    },
    {
     "name": "stderr",
     "output_type": "stream",
     "text": [
      "Processing forks:  60%|██████    | 301/500 [00:02<00:00, 203.97it/s]"
     ]
    },
    {
     "name": "stdout",
     "output_type": "stream",
     "text": [
      "⚠️  Could not fetch main.zip for HattieLee/ChatGPT-Next-Web (status 404)\n",
      "⚠️  Could not fetch master.zip for HattieLee/ChatGPT-Next-Web (status 404)\n",
      "⚠️  Could not fetch main.zip for tristelcclpzs/ChatGPT-Next-Web (status 404)\n",
      "⚠️  Could not fetch master.zip for tristelcclpzs/ChatGPT-Next-Web (status 404)\n"
     ]
    },
    {
     "name": "stderr",
     "output_type": "stream",
     "text": [
      "Processing forks:  67%|██████▋   | 336/500 [00:03<00:01, 120.55it/s]"
     ]
    },
    {
     "name": "stdout",
     "output_type": "stream",
     "text": [
      "⚠️  Could not fetch main.zip for geminquantai/ChatGPT-Next-Web (status 404)\n",
      "⚠️  Could not fetch master.zip for geminquantai/ChatGPT-Next-Web (status 404)\n"
     ]
    },
    {
     "name": "stderr",
     "output_type": "stream",
     "text": [
      "Processing forks:  70%|██████▉   | 348/500 [00:03<00:01, 94.88it/s] "
     ]
    },
    {
     "name": "stdout",
     "output_type": "stream",
     "text": [
      "⚠️  Could not fetch main.zip for lishiqi777/ChatGPT-Next-Web (status 404)\n",
      "⚠️  Could not fetch master.zip for lishiqi777/ChatGPT-Next-Web (status 404)\n"
     ]
    },
    {
     "name": "stderr",
     "output_type": "stream",
     "text": [
      "Processing forks:  79%|███████▊  | 393/500 [00:03<00:01, 101.13it/s]"
     ]
    },
    {
     "name": "stdout",
     "output_type": "stream",
     "text": [
      "⚠️  Could not fetch main.zip for Subwei1991/ChatGPT-Next-Web (status 404)\n",
      "⚠️  Could not fetch master.zip for Subwei1991/ChatGPT-Next-Web (status 404)\n"
     ]
    },
    {
     "name": "stderr",
     "output_type": "stream",
     "text": [
      "Processing forks: 100%|██████████| 500/500 [00:03<00:00, 131.97it/s]\n"
     ]
    },
    {
     "name": "stdout",
     "output_type": "stream",
     "text": [
      "Batch: 29500\n"
     ]
    },
    {
     "name": "stderr",
     "output_type": "stream",
     "text": [
      "Processing forks:   0%|          | 0/500 [00:00<?, ?it/s]"
     ]
    },
    {
     "name": "stdout",
     "output_type": "stream",
     "text": [
      "⚠️  Could not fetch main.zip for GoldenUplands/ChatGPT-Next-Web (status 404)\n"
     ]
    },
    {
     "name": "stderr",
     "output_type": "stream",
     "text": [
      "Processing forks:  16%|█▋        | 82/500 [00:00<00:01, 228.59it/s]"
     ]
    },
    {
     "name": "stdout",
     "output_type": "stream",
     "text": [
      "⚠️  Could not fetch master.zip for GoldenUplands/ChatGPT-Next-Web (status 404)\n",
      "⚠️  Could not fetch main.zip for u2holbq/ChatGPT-Next-Web (status 404)\n"
     ]
    },
    {
     "name": "stderr",
     "output_type": "stream",
     "text": [
      "Processing forks:  25%|██▍       | 123/500 [00:00<00:02, 153.02it/s]"
     ]
    },
    {
     "name": "stdout",
     "output_type": "stream",
     "text": [
      "⚠️  Could not fetch master.zip for u2holbq/ChatGPT-Next-Web (status 404)\n",
      "⚠️  Could not fetch main.zip for vvbhwn3/ChatGPT-Next-Web (status 404)\n"
     ]
    },
    {
     "name": "stderr",
     "output_type": "stream",
     "text": [
      "Processing forks:  28%|██▊       | 139/500 [00:01<00:03, 104.78it/s]"
     ]
    },
    {
     "name": "stdout",
     "output_type": "stream",
     "text": [
      "⚠️  Could not fetch master.zip for vvbhwn3/ChatGPT-Next-Web (status 404)\n",
      "⚠️  Could not fetch main.zip for SPGImsimple/ChatGPT-Next-Web (status 404)\n"
     ]
    },
    {
     "name": "stderr",
     "output_type": "stream",
     "text": [
      "Processing forks:  31%|███       | 156/500 [00:01<00:04, 81.22it/s] "
     ]
    },
    {
     "name": "stdout",
     "output_type": "stream",
     "text": [
      "⚠️  Could not fetch master.zip for SPGImsimple/ChatGPT-Next-Web (status 404)\n",
      "⚠️  Could not fetch main.zip for zqdv016/ChatGPT-Next-Web (status 404)\n"
     ]
    },
    {
     "name": "stderr",
     "output_type": "stream",
     "text": [
      "Processing forks:  35%|███▍      | 174/500 [00:01<00:04, 69.81it/s]"
     ]
    },
    {
     "name": "stdout",
     "output_type": "stream",
     "text": [
      "⚠️  Could not fetch master.zip for zqdv016/ChatGPT-Next-Web (status 404)\n",
      "⚠️  Could not fetch main.zip for immAntony/ChatGPT-Next-Web (status 404)\n"
     ]
    },
    {
     "name": "stderr",
     "output_type": "stream",
     "text": [
      "Processing forks:  47%|████▋     | 235/500 [00:02<00:02, 102.07it/s]"
     ]
    },
    {
     "name": "stdout",
     "output_type": "stream",
     "text": [
      "⚠️  Could not fetch master.zip for immAntony/ChatGPT-Next-Web (status 404)\n",
      "⚠️  Could not fetch main.zip for HaleighPineda/ChatGPT-Next-Web (status 404)\n"
     ]
    },
    {
     "name": "stderr",
     "output_type": "stream",
     "text": [
      "Processing forks:  57%|█████▋    | 284/500 [00:02<00:01, 112.27it/s]"
     ]
    },
    {
     "name": "stdout",
     "output_type": "stream",
     "text": [
      "⚠️  Could not fetch master.zip for HaleighPineda/ChatGPT-Next-Web (status 404)\n",
      "⚠️  Could not fetch main.zip for liwenfengg/ChatGPT-Next-Web (status 404)\n"
     ]
    },
    {
     "name": "stderr",
     "output_type": "stream",
     "text": [
      "Processing forks:  62%|██████▏   | 310/500 [00:02<00:01, 97.77it/s] "
     ]
    },
    {
     "name": "stdout",
     "output_type": "stream",
     "text": [
      "⚠️  Could not fetch master.zip for liwenfengg/ChatGPT-Next-Web (status 404)\n"
     ]
    },
    {
     "name": "stderr",
     "output_type": "stream",
     "text": [
      "Processing forks:  76%|███████▌  | 379/500 [00:03<00:00, 123.11it/s]"
     ]
    },
    {
     "name": "stdout",
     "output_type": "stream",
     "text": [
      "⚠️  Could not fetch main.zip for shuoyupt1220/ChatGPT-Next-Web (status 404)\n",
      "⚠️  Could not fetch master.zip for shuoyupt1220/ChatGPT-Next-Web (status 404)\n"
     ]
    },
    {
     "name": "stderr",
     "output_type": "stream",
     "text": [
      "Processing forks:  90%|█████████ | 451/500 [00:03<00:00, 142.73it/s]"
     ]
    },
    {
     "name": "stdout",
     "output_type": "stream",
     "text": [
      "⚠️  Could not fetch main.zip for hello-binbin/ChatGPT-Next-Web (status 404)\n",
      "⚠️  Could not fetch master.zip for hello-binbin/ChatGPT-Next-Web (status 404)\n"
     ]
    },
    {
     "name": "stderr",
     "output_type": "stream",
     "text": [
      "Processing forks: 100%|██████████| 500/500 [00:04<00:00, 121.02it/s]\n"
     ]
    },
    {
     "name": "stdout",
     "output_type": "stream",
     "text": [
      "⚠️  Could not fetch main.zip for HermanKarlLamm/ChatGPT-Next-Web (status 404)\n",
      "⚠️  Could not fetch master.zip for HermanKarlLamm/ChatGPT-Next-Web (status 404)\n",
      "Batch: 30000\n"
     ]
    },
    {
     "name": "stderr",
     "output_type": "stream",
     "text": [
      "Processing forks:  25%|██▍       | 124/500 [00:00<00:01, 328.97it/s]"
     ]
    },
    {
     "name": "stdout",
     "output_type": "stream",
     "text": [
      "⚠️  Could not fetch main.zip for AverHuang/ChatGPT-Next-Web (status 404)\n",
      "⚠️  Could not fetch master.zip for AverHuang/ChatGPT-Next-Web (status 404)\n"
     ]
    },
    {
     "name": "stderr",
     "output_type": "stream",
     "text": [
      "Processing forks:  36%|███▌      | 178/500 [00:00<00:01, 224.12it/s]"
     ]
    },
    {
     "name": "stdout",
     "output_type": "stream",
     "text": [
      "⚠️  Could not fetch main.zip for TyrellDunlap/ChatGPT-Next-Web (status 404)\n",
      "⚠️  Could not fetch master.zip for TyrellDunlap/ChatGPT-Next-Web (status 404)\n",
      "⚠️  Could not fetch main.zip for 1054028125/ChatGPT-Next-Web (status 404)\n",
      "⚠️  Could not fetch master.zip for 1054028125/ChatGPT-Next-Web (status 404)\n"
     ]
    },
    {
     "name": "stderr",
     "output_type": "stream",
     "text": [
      "Processing forks:  40%|████      | 201/500 [00:01<00:02, 102.84it/s]"
     ]
    },
    {
     "name": "stdout",
     "output_type": "stream",
     "text": [
      "⚠️  Could not fetch main.zip for bleedingbyron/ChatGPT-Next-Web (status 404)\n",
      "⚠️  Could not fetch master.zip for bleedingbyron/ChatGPT-Next-Web (status 404)\n"
     ]
    },
    {
     "name": "stderr",
     "output_type": "stream",
     "text": [
      "Processing forks:  45%|████▌     | 226/500 [00:01<00:02, 92.26it/s] "
     ]
    },
    {
     "name": "stdout",
     "output_type": "stream",
     "text": [
      "⚠️  Could not fetch main.zip for harry-rk3e5/ChatGPT-Next-Web (status 404)\n",
      "⚠️  Could not fetch master.zip for harry-rk3e5/ChatGPT-Next-Web (status 404)\n"
     ]
    },
    {
     "name": "stderr",
     "output_type": "stream",
     "text": [
      "Processing forks:  47%|████▋     | 237/500 [00:02<00:03, 74.50it/s]"
     ]
    },
    {
     "name": "stdout",
     "output_type": "stream",
     "text": [
      "⚠️  Could not fetch main.zip for xiaoanag/ChatGPT-Next-Web (status 404)\n",
      "⚠️  Could not fetch master.zip for xiaoanag/ChatGPT-Next-Web (status 404)\n"
     ]
    },
    {
     "name": "stderr",
     "output_type": "stream",
     "text": [
      "Processing forks:  62%|██████▏   | 312/500 [00:02<00:01, 111.86it/s]"
     ]
    },
    {
     "name": "stdout",
     "output_type": "stream",
     "text": [
      "⚠️  Could not fetch main.zip for lipuru/ChatGPT-Next-Web (status 404)\n",
      "⚠️  Could not fetch master.zip for lipuru/ChatGPT-Next-Web (status 404)\n"
     ]
    },
    {
     "name": "stderr",
     "output_type": "stream",
     "text": [
      "Processing forks:  65%|██████▍   | 324/500 [00:02<00:02, 87.58it/s] "
     ]
    },
    {
     "name": "stdout",
     "output_type": "stream",
     "text": [
      "⚠️  Could not fetch main.zip for woniuip/ChatGPT-Next-Web (status 404)\n",
      "⚠️  Could not fetch master.zip for woniuip/ChatGPT-Next-Web (status 404)\n"
     ]
    },
    {
     "name": "stderr",
     "output_type": "stream",
     "text": [
      "Processing forks:  79%|███████▊  | 393/500 [00:03<00:00, 115.55it/s]"
     ]
    },
    {
     "name": "stdout",
     "output_type": "stream",
     "text": [
      "⚠️  Could not fetch main.zip for staman47734519/ChatGPT-Next-Web (status 404)\n",
      "⚠️  Could not fetch master.zip for staman47734519/ChatGPT-Next-Web (status 404)\n",
      "⚠️  Could not fetch main.zip for organization0012/ChatGPT-Next-Web (status 404)\n",
      "⚠️  Could not fetch master.zip for organization0012/ChatGPT-Next-Web (status 404)\n",
      "⚠️  Could not fetch main.zip for accountos/ChatGPT-Next-Web (status 404)\n",
      "⚠️  Could not fetch master.zip for accountos/ChatGPT-Next-Web (status 404)\n"
     ]
    },
    {
     "name": "stderr",
     "output_type": "stream",
     "text": [
      "Processing forks:  81%|████████  | 405/500 [00:04<00:01, 51.98it/s] "
     ]
    },
    {
     "name": "stdout",
     "output_type": "stream",
     "text": [
      "⚠️  Could not fetch main.zip for individuals2/ChatGPT-Next-Web (status 404)\n",
      "⚠️  Could not fetch master.zip for individuals2/ChatGPT-Next-Web (status 404)\n"
     ]
    },
    {
     "name": "stderr",
     "output_type": "stream",
     "text": [
      "Processing forks:  83%|████████▎ | 414/500 [00:05<00:01, 47.12it/s]"
     ]
    },
    {
     "name": "stdout",
     "output_type": "stream",
     "text": [
      "⚠️  Could not fetch main.zip for andresthebomber/ChatGPT-Next-Web (status 404)\n",
      "⚠️  Could not fetch master.zip for andresthebomber/ChatGPT-Next-Web (status 404)\n"
     ]
    },
    {
     "name": "stderr",
     "output_type": "stream",
     "text": [
      "Processing forks:  95%|█████████▍| 474/500 [00:05<00:00, 72.73it/s]"
     ]
    },
    {
     "name": "stdout",
     "output_type": "stream",
     "text": [
      "⚠️  Could not fetch main.zip for huangzhong1001/ChatGPT-Next-Web (status 404)\n",
      "⚠️  Could not fetch master.zip for huangzhong1001/ChatGPT-Next-Web (status 404)\n"
     ]
    },
    {
     "name": "stderr",
     "output_type": "stream",
     "text": [
      "Processing forks:  97%|█████████▋| 484/500 [00:05<00:00, 61.60it/s]"
     ]
    },
    {
     "name": "stdout",
     "output_type": "stream",
     "text": [
      "⚠️  Could not fetch main.zip for alexzhong2333/ChatGPT-Next-Web (status 404)\n",
      "⚠️  Could not fetch master.zip for alexzhong2333/ChatGPT-Next-Web (status 404)\n"
     ]
    },
    {
     "name": "stderr",
     "output_type": "stream",
     "text": [
      "Processing forks: 100%|██████████| 500/500 [00:06<00:00, 81.76it/s]\n"
     ]
    },
    {
     "name": "stdout",
     "output_type": "stream",
     "text": [
      "⚠️  Could not fetch main.zip for Hewang930320/ChatGPT-Next-Web (status 404)\n",
      "⚠️  Could not fetch master.zip for Hewang930320/ChatGPT-Next-Web (status 404)\n",
      "Batch: 30500\n"
     ]
    },
    {
     "name": "stderr",
     "output_type": "stream",
     "text": [
      "Processing forks:  45%|████▌     | 225/500 [00:00<00:00, 536.28it/s]"
     ]
    },
    {
     "name": "stdout",
     "output_type": "stream",
     "text": [
      "⚠️  Could not fetch main.zip for fsfkjw1566/ChatGPT-Next-Web (status 404)\n",
      "⚠️  Could not fetch master.zip for fsfkjw1566/ChatGPT-Next-Web (status 404)\n",
      "⚠️  Could not fetch main.zip for lth166/ChatGPT (status 404)\n",
      "⚠️  Could not fetch master.zip for lth166/ChatGPT (status 404)\n",
      "⚠️  Could not fetch main.zip for 2006mym/ChatGPT-Next-Web (status 404)\n",
      "⚠️  Could not fetch master.zip for 2006mym/ChatGPT-Next-Web (status 404)\n",
      "⚠️  Could not fetch main.zip for 453660983/ChatGPT-Next-Web (status 404)\n",
      "⚠️  Could not fetch master.zip for 453660983/ChatGPT-Next-Web (status 404)\n",
      "⚠️  Could not fetch main.zip for jmxzcx/ChatGPT-Next-Web (status 404)\n"
     ]
    },
    {
     "name": "stderr",
     "output_type": "stream",
     "text": [
      "Processing forks:  56%|█████▌    | 279/500 [00:02<00:02, 96.42it/s] "
     ]
    },
    {
     "name": "stdout",
     "output_type": "stream",
     "text": [
      "⚠️  Could not fetch master.zip for jmxzcx/ChatGPT-Next-Web (status 404)\n",
      "⚠️  Could not fetch main.zip for hifuckbaby/ChatGPT-Next-Web (status 404)\n"
     ]
    },
    {
     "name": "stderr",
     "output_type": "stream",
     "text": [
      "Processing forks:  67%|██████▋   | 336/500 [00:02<00:01, 106.37it/s]"
     ]
    },
    {
     "name": "stdout",
     "output_type": "stream",
     "text": [
      "⚠️  Could not fetch master.zip for hifuckbaby/ChatGPT-Next-Web (status 404)\n",
      "⚠️  Could not fetch main.zip for katherineclarke123/ChatGPT-Next-Web (status 404)\n"
     ]
    },
    {
     "name": "stderr",
     "output_type": "stream",
     "text": [
      "Processing forks:  71%|███████   | 356/500 [00:03<00:01, 92.04it/s] "
     ]
    },
    {
     "name": "stdout",
     "output_type": "stream",
     "text": [
      "⚠️  Could not fetch master.zip for katherineclarke123/ChatGPT-Next-Web (status 404)\n",
      "⚠️  Could not fetch main.zip for galettibarranse554/ChatGPT-Next-Web (status 404)\n",
      "⚠️  Could not fetch master.zip for galettibarranse554/ChatGPT-Next-Web (status 404)\n"
     ]
    },
    {
     "name": "stderr",
     "output_type": "stream",
     "text": [
      "Processing forks:  80%|████████  | 400/500 [00:03<00:01, 74.24it/s]"
     ]
    },
    {
     "name": "stdout",
     "output_type": "stream",
     "text": [
      "⚠️  Could not fetch main.zip for OliverPlaas/ChatGPT-Next-Web (status 404)\n",
      "⚠️  Could not fetch master.zip for OliverPlaas/ChatGPT-Next-Web (status 404)\n",
      "⚠️  Could not fetch main.zip for jannebeata2023/ChatGPT-Next-Web (status 404)\n"
     ]
    },
    {
     "name": "stderr",
     "output_type": "stream",
     "text": [
      "Processing forks:  85%|████████▍ | 424/500 [00:04<00:01, 70.76it/s]"
     ]
    },
    {
     "name": "stdout",
     "output_type": "stream",
     "text": [
      "⚠️  Could not fetch master.zip for jannebeata2023/ChatGPT-Next-Web (status 404)\n"
     ]
    },
    {
     "name": "stderr",
     "output_type": "stream",
     "text": [
      "Processing forks:  95%|█████████▌| 477/500 [00:04<00:00, 86.86it/s]"
     ]
    },
    {
     "name": "stdout",
     "output_type": "stream",
     "text": [
      "⚠️  Could not fetch main.zip for caimoui/ChatGPT-Next-Web (status 404)\n",
      "⚠️  Could not fetch master.zip for caimoui/ChatGPT-Next-Web (status 404)\n",
      "⚠️  Could not fetch main.zip for sophiapearson/ChatGPT-Next-Web (status 404)\n"
     ]
    },
    {
     "name": "stderr",
     "output_type": "stream",
     "text": [
      "Processing forks: 100%|██████████| 500/500 [00:05<00:00, 97.18it/s]\n"
     ]
    },
    {
     "name": "stdout",
     "output_type": "stream",
     "text": [
      "⚠️  Could not fetch master.zip for sophiapearson/ChatGPT-Next-Web (status 404)\n",
      "Batch: 31000\n"
     ]
    },
    {
     "name": "stderr",
     "output_type": "stream",
     "text": [
      "Processing forks:   0%|          | 0/500 [00:00<?, ?it/s]"
     ]
    },
    {
     "name": "stdout",
     "output_type": "stream",
     "text": [
      "⚠️  Could not fetch main.zip for StrongAIGuy/ChatGPT-Next-Web (status 404)\n"
     ]
    },
    {
     "name": "stderr",
     "output_type": "stream",
     "text": [
      "Processing forks:   0%|          | 2/500 [00:00<02:25,  3.43it/s]"
     ]
    },
    {
     "name": "stdout",
     "output_type": "stream",
     "text": [
      "⚠️  Could not fetch master.zip for StrongAIGuy/ChatGPT-Next-Web (status 404)\n"
     ]
    },
    {
     "name": "stderr",
     "output_type": "stream",
     "text": [
      "Processing forks:   1%|          | 4/500 [00:00<01:57,  4.22it/s]"
     ]
    },
    {
     "name": "stdout",
     "output_type": "stream",
     "text": [
      "⚠️  Could not fetch main.zip for githubJumerry/ChatGPT-Next-Web (status 404)\n",
      "⚠️  Could not fetch master.zip for githubJumerry/ChatGPT-Next-Web (status 404)\n"
     ]
    },
    {
     "name": "stderr",
     "output_type": "stream",
     "text": [
      "Processing forks:   6%|▌         | 29/500 [00:01<00:16, 29.20it/s]"
     ]
    },
    {
     "name": "stdout",
     "output_type": "stream",
     "text": [
      "⚠️  Could not fetch main.zip for chokkos/ChatGPT-Next-Web (status 404)\n",
      "⚠️  Could not fetch master.zip for chokkos/ChatGPT-Next-Web (status 404)\n"
     ]
    },
    {
     "name": "stderr",
     "output_type": "stream",
     "text": [
      "Processing forks:  11%|█         | 56/500 [00:01<00:09, 44.89it/s]"
     ]
    },
    {
     "name": "stdout",
     "output_type": "stream",
     "text": [
      "⚠️  Could not fetch main.zip for kolawork/ChatGPT-Next-Web (status 404)\n",
      "⚠️  Could not fetch master.zip for kolawork/ChatGPT-Next-Web (status 404)\n"
     ]
    },
    {
     "name": "stderr",
     "output_type": "stream",
     "text": [
      "Processing forks:  13%|█▎        | 67/500 [00:02<00:10, 40.28it/s]"
     ]
    },
    {
     "name": "stdout",
     "output_type": "stream",
     "text": [
      "⚠️  Could not fetch main.zip for junmoxiao88/ChatGPT-Next-Web (status 404)\n",
      "⚠️  Could not fetch master.zip for junmoxiao88/ChatGPT-Next-Web (status 404)\n",
      "⚠️  Could not fetch main.zip for sqltest01/ChatGPT-Next-Web (status 404)\n"
     ]
    },
    {
     "name": "stderr",
     "output_type": "stream",
     "text": [
      "Processing forks:  51%|█████     | 254/500 [00:02<00:01, 176.97it/s]"
     ]
    },
    {
     "name": "stdout",
     "output_type": "stream",
     "text": [
      "⚠️  Could not fetch master.zip for sqltest01/ChatGPT-Next-Web (status 404)\n",
      "⚠️  Could not fetch main.zip for sqlsecsdgsg08/ChatGPT-Next-Web (status 404)\n"
     ]
    },
    {
     "name": "stderr",
     "output_type": "stream",
     "text": [
      "Processing forks:  54%|█████▍    | 271/500 [00:02<00:01, 137.12it/s]"
     ]
    },
    {
     "name": "stdout",
     "output_type": "stream",
     "text": [
      "⚠️  Could not fetch master.zip for sqlsecsdgsg08/ChatGPT-Next-Web (status 404)\n",
      "⚠️  Could not fetch main.zip for yangxiangjia12121/ChatGPT-Next-Web (status 404)\n",
      "⚠️  Could not fetch master.zip for yangxiangjia12121/ChatGPT-Next-Web (status 404)\n",
      "⚠️  Could not fetch main.zip for yangxiangjia123/ChatGPT-Next-Web (status 404)\n",
      "⚠️  Could not fetch master.zip for yangxiangjia123/ChatGPT-Next-Web (status 404)\n"
     ]
    },
    {
     "name": "stderr",
     "output_type": "stream",
     "text": [
      "Processing forks:  57%|█████▋    | 284/500 [00:04<00:03, 59.77it/s] "
     ]
    },
    {
     "name": "stdout",
     "output_type": "stream",
     "text": [
      "⚠️  Could not fetch main.zip for better123321/ChatGPT-Next-Web (status 404)\n",
      "⚠️  Could not fetch master.zip for better123321/ChatGPT-Next-Web (status 404)\n",
      "⚠️  Could not fetch main.zip for ManuelKatos/ChatGPT-Next-Web (status 404)\n",
      "⚠️  Could not fetch master.zip for ManuelKatos/ChatGPT-Next-Web (status 404)\n"
     ]
    },
    {
     "name": "stderr",
     "output_type": "stream",
     "text": [
      "Processing forks:  59%|█████▊    | 293/500 [00:04<00:04, 44.56it/s]"
     ]
    },
    {
     "name": "stdout",
     "output_type": "stream",
     "text": [
      "⚠️  Could not fetch main.zip for qeeksirius/ChatGPT-Next-Web (status 404)\n",
      "⚠️  Could not fetch master.zip for qeeksirius/ChatGPT-Next-Web (status 404)\n"
     ]
    },
    {
     "name": "stderr",
     "output_type": "stream",
     "text": [
      "Processing forks:  74%|███████▍  | 372/500 [00:05<00:01, 76.05it/s]"
     ]
    },
    {
     "name": "stdout",
     "output_type": "stream",
     "text": [
      "⚠️  Could not fetch main.zip for birch5868/ChatGPT-Next-Web (status 404)\n",
      "⚠️  Could not fetch master.zip for birch5868/ChatGPT-Next-Web (status 404)\n"
     ]
    },
    {
     "name": "stderr",
     "output_type": "stream",
     "text": [
      "Processing forks:  87%|████████▋ | 434/500 [00:05<00:00, 94.46it/s]"
     ]
    },
    {
     "name": "stdout",
     "output_type": "stream",
     "text": [
      "⚠️  Could not fetch main.zip for califlugumxr778/ChatGPT-Next-Web (status 404)\n",
      "⚠️  Could not fetch master.zip for califlugumxr778/ChatGPT-Next-Web (status 404)\n",
      "⚠️  Could not fetch main.zip for fisichellatarra/ChatGPT-Next-Web (status 404)\n",
      "⚠️  Could not fetch master.zip for fisichellatarra/ChatGPT-Next-Web (status 404)\n"
     ]
    },
    {
     "name": "stderr",
     "output_type": "stream",
     "text": [
      "Processing forks:  89%|████████▉ | 447/500 [00:06<00:00, 80.92it/s]"
     ]
    },
    {
     "name": "stdout",
     "output_type": "stream",
     "text": [
      "⚠️  Could not fetch main.zip for Kris-Ham/ChatGPT-Next-Web (status 404)\n"
     ]
    },
    {
     "name": "stderr",
     "output_type": "stream",
     "text": [
      "Processing forks: 100%|██████████| 500/500 [00:06<00:00, 76.44it/s]\n"
     ]
    },
    {
     "name": "stdout",
     "output_type": "stream",
     "text": [
      "⚠️  Could not fetch master.zip for Kris-Ham/ChatGPT-Next-Web (status 404)\n",
      "Batch: 31500\n"
     ]
    },
    {
     "name": "stderr",
     "output_type": "stream",
     "text": [
      "Processing forks:  27%|██▋       | 134/500 [00:00<00:01, 351.60it/s]"
     ]
    },
    {
     "name": "stdout",
     "output_type": "stream",
     "text": [
      "⚠️  Could not fetch main.zip for renjie9527/ChatGPT-Next-Web (status 404)\n",
      "⚠️  Could not fetch master.zip for renjie9527/ChatGPT-Next-Web (status 404)\n"
     ]
    },
    {
     "name": "stderr",
     "output_type": "stream",
     "text": [
      "Processing forks:  36%|███▌      | 179/500 [00:00<00:01, 214.69it/s]"
     ]
    },
    {
     "name": "stdout",
     "output_type": "stream",
     "text": [
      "⚠️  Could not fetch main.zip for NIngsss112/ChatGPT-Next-Web (status 404)\n",
      "⚠️  Could not fetch master.zip for NIngsss112/ChatGPT-Next-Web (status 404)\n"
     ]
    },
    {
     "name": "stderr",
     "output_type": "stream",
     "text": [
      "Processing forks:  40%|████      | 201/500 [00:01<00:02, 142.77it/s]"
     ]
    },
    {
     "name": "stdout",
     "output_type": "stream",
     "text": [
      "⚠️  Could not fetch main.zip for Huangnn22/ChatGPT-Next-Web (status 404)\n",
      "⚠️  Could not fetch master.zip for Huangnn22/ChatGPT-Next-Web (status 404)\n"
     ]
    },
    {
     "name": "stderr",
     "output_type": "stream",
     "text": [
      "Processing forks:  52%|█████▏    | 262/500 [00:01<00:01, 148.33it/s]"
     ]
    },
    {
     "name": "stdout",
     "output_type": "stream",
     "text": [
      "⚠️  Could not fetch main.zip for ZahraMohammadi985i/ChatGPT-Next-Web (status 404)\n",
      "⚠️  Could not fetch master.zip for ZahraMohammadi985i/ChatGPT-Next-Web (status 404)\n"
     ]
    },
    {
     "name": "stderr",
     "output_type": "stream",
     "text": [
      "Processing forks:  55%|█████▌    | 277/500 [00:01<00:02, 110.48it/s]"
     ]
    },
    {
     "name": "stdout",
     "output_type": "stream",
     "text": [
      "⚠️  Could not fetch main.zip for asundiary-y/ChatGPT-Ly (status 404)\n",
      "⚠️  Could not fetch master.zip for asundiary-y/ChatGPT-Ly (status 404)\n"
     ]
    },
    {
     "name": "stderr",
     "output_type": "stream",
     "text": [
      "Processing forks:  61%|██████    | 303/500 [00:02<00:02, 96.73it/s] "
     ]
    },
    {
     "name": "stdout",
     "output_type": "stream",
     "text": [
      "⚠️  Could not fetch main.zip for Jiong6666/ChatGPT-Next-Web-origin (status 404)\n",
      "⚠️  Could not fetch master.zip for Jiong6666/ChatGPT-Next-Web-origin (status 404)\n"
     ]
    },
    {
     "name": "stderr",
     "output_type": "stream",
     "text": [
      "Processing forks:  63%|██████▎   | 313/500 [00:02<00:02, 74.46it/s]"
     ]
    },
    {
     "name": "stdout",
     "output_type": "stream",
     "text": [
      "⚠️  Could not fetch main.zip for zackeryyyhaha/ChatGPT-Next-Web (status 404)\n",
      "⚠️  Could not fetch master.zip for zackeryyyhaha/ChatGPT-Next-Web (status 404)\n"
     ]
    },
    {
     "name": "stderr",
     "output_type": "stream",
     "text": [
      "Processing forks:  67%|██████▋   | 337/500 [00:03<00:02, 71.81it/s]"
     ]
    },
    {
     "name": "stdout",
     "output_type": "stream",
     "text": [
      "⚠️  Could not fetch main.zip for mushini7/ChatGPT-Next-Web (status 404)\n",
      "⚠️  Could not fetch master.zip for mushini7/ChatGPT-Next-Web (status 404)\n"
     ]
    },
    {
     "name": "stderr",
     "output_type": "stream",
     "text": [
      "Processing forks: 100%|██████████| 500/500 [00:03<00:00, 145.14it/s]"
     ]
    },
    {
     "name": "stdout",
     "output_type": "stream",
     "text": [
      "⚠️  Could not fetch main.zip for CliffAndrew4894662/ChatGPT-Next-Web (status 404)\n",
      "⚠️  Could not fetch master.zip for CliffAndrew4894662/ChatGPT-Next-Web (status 404)\n"
     ]
    },
    {
     "name": "stderr",
     "output_type": "stream",
     "text": [
      "\n"
     ]
    },
    {
     "name": "stdout",
     "output_type": "stream",
     "text": [
      "Batch: 32000\n"
     ]
    },
    {
     "name": "stderr",
     "output_type": "stream",
     "text": [
      "Processing forks:   0%|          | 0/500 [00:00<?, ?it/s]"
     ]
    },
    {
     "name": "stdout",
     "output_type": "stream",
     "text": [
      "⚠️  Could not fetch main.zip for Superpowerwill/ChatGPT-Next-Web (status 404)\n"
     ]
    },
    {
     "name": "stderr",
     "output_type": "stream",
     "text": [
      "Processing forks:   0%|          | 1/500 [00:00<02:53,  2.87it/s]"
     ]
    },
    {
     "name": "stdout",
     "output_type": "stream",
     "text": [
      "⚠️  Could not fetch master.zip for Superpowerwill/ChatGPT-Next-Web (status 404)\n",
      "⚠️  Could not fetch main.zip for aimkz/ChatGPT-Next-Web (status 404)\n"
     ]
    },
    {
     "name": "stderr",
     "output_type": "stream",
     "text": [
      "Processing forks:   2%|▏         | 10/500 [00:00<00:31, 15.61it/s]"
     ]
    },
    {
     "name": "stdout",
     "output_type": "stream",
     "text": [
      "⚠️  Could not fetch master.zip for aimkz/ChatGPT-Next-Web (status 404)\n",
      "⚠️  Could not fetch main.zip for yuch8/ChatGPT-Next-Web (status 404)\n"
     ]
    },
    {
     "name": "stderr",
     "output_type": "stream",
     "text": [
      "Processing forks:   3%|▎         | 17/500 [00:01<00:27, 17.30it/s]"
     ]
    },
    {
     "name": "stdout",
     "output_type": "stream",
     "text": [
      "⚠️  Could not fetch master.zip for yuch8/ChatGPT-Next-Web (status 404)\n",
      "⚠️  Could not fetch main.zip for ollieaustin/ChatGPT-Next-Web (status 404)\n"
     ]
    },
    {
     "name": "stderr",
     "output_type": "stream",
     "text": [
      "Processing forks:  15%|█▌        | 75/500 [00:01<00:05, 72.24it/s]"
     ]
    },
    {
     "name": "stdout",
     "output_type": "stream",
     "text": [
      "⚠️  Could not fetch master.zip for ollieaustin/ChatGPT-Next-Web (status 404)\n",
      "⚠️  Could not fetch main.zip for mrjince18/ChatGPT-Next-Web (status 404)\n"
     ]
    },
    {
     "name": "stderr",
     "output_type": "stream",
     "text": [
      "Processing forks:  21%|██        | 103/500 [00:01<00:05, 72.95it/s]"
     ]
    },
    {
     "name": "stdout",
     "output_type": "stream",
     "text": [
      "⚠️  Could not fetch master.zip for mrjince18/ChatGPT-Next-Web (status 404)\n"
     ]
    },
    {
     "name": "stderr",
     "output_type": "stream",
     "text": [
      "Processing forks:  29%|██▉       | 144/500 [00:02<00:04, 84.81it/s]"
     ]
    },
    {
     "name": "stdout",
     "output_type": "stream",
     "text": [
      "⚠️  Could not fetch main.zip for kbecpz645/ChatGPT (status 404)\n",
      "⚠️  Could not fetch master.zip for kbecpz645/ChatGPT (status 404)\n"
     ]
    },
    {
     "name": "stderr",
     "output_type": "stream",
     "text": [
      "Processing forks:  61%|██████    | 306/500 [00:02<00:01, 189.75it/s]"
     ]
    },
    {
     "name": "stdout",
     "output_type": "stream",
     "text": [
      "⚠️  Could not fetch main.zip for chatgithub/ChatGPT-Next-Web (status 404)\n",
      "⚠️  Could not fetch master.zip for chatgithub/ChatGPT-Next-Web (status 404)\n"
     ]
    },
    {
     "name": "stderr",
     "output_type": "stream",
     "text": [
      "Processing forks:  98%|█████████▊| 488/500 [00:03<00:00, 275.05it/s]"
     ]
    },
    {
     "name": "stdout",
     "output_type": "stream",
     "text": [
      "⚠️  Could not fetch main.zip for jobsgi/ChatGPT-Next-Web (status 404)\n",
      "⚠️  Could not fetch master.zip for jobsgi/ChatGPT-Next-Web (status 404)\n"
     ]
    },
    {
     "name": "stderr",
     "output_type": "stream",
     "text": [
      "Processing forks: 100%|██████████| 500/500 [00:03<00:00, 146.42it/s]\n"
     ]
    },
    {
     "name": "stdout",
     "output_type": "stream",
     "text": [
      "⚠️  Could not fetch main.zip for transnul/ChatGPT-Next-Web (status 404)\n",
      "⚠️  Could not fetch master.zip for transnul/ChatGPT-Next-Web (status 404)\n",
      "Batch: 32500\n"
     ]
    },
    {
     "name": "stderr",
     "output_type": "stream",
     "text": [
      "Processing forks:   1%|          | 4/500 [00:00<00:46, 10.67it/s]"
     ]
    },
    {
     "name": "stdout",
     "output_type": "stream",
     "text": [
      "⚠️  Could not fetch main.zip for justicehurley/ChatGPT-Next-Web (status 404)\n",
      "⚠️  Could not fetch master.zip for justicehurley/ChatGPT-Next-Web (status 404)\n"
     ]
    },
    {
     "name": "stderr",
     "output_type": "stream",
     "text": [
      "Processing forks:  13%|█▎        | 65/500 [00:00<00:04, 97.58it/s]"
     ]
    },
    {
     "name": "stdout",
     "output_type": "stream",
     "text": [
      "⚠️  Could not fetch main.zip for yanlichuan1/ChatGPT-Next-Web (status 404)\n",
      "⚠️  Could not fetch master.zip for yanlichuan1/ChatGPT-Next-Web (status 404)\n"
     ]
    },
    {
     "name": "stderr",
     "output_type": "stream",
     "text": [
      "Processing forks:  15%|█▌        | 77/500 [00:01<00:06, 68.30it/s]"
     ]
    },
    {
     "name": "stdout",
     "output_type": "stream",
     "text": [
      "⚠️  Could not fetch main.zip for ewwrwer5555/ChatGPT-Next-Web (status 404)\n",
      "⚠️  Could not fetch master.zip for ewwrwer5555/ChatGPT-Next-Web (status 404)\n"
     ]
    },
    {
     "name": "stderr",
     "output_type": "stream",
     "text": [
      "Processing forks:  17%|█▋        | 84/500 [00:01<00:08, 46.34it/s]"
     ]
    },
    {
     "name": "stdout",
     "output_type": "stream",
     "text": [
      "⚠️  Could not fetch main.zip for yasrr5550ee/ChatGPT-Next-Web (status 404)\n",
      "⚠️  Could not fetch master.zip for yasrr5550ee/ChatGPT-Next-Web (status 404)\n"
     ]
    },
    {
     "name": "stderr",
     "output_type": "stream",
     "text": [
      "Processing forks:  23%|██▎       | 116/500 [00:01<00:06, 59.80it/s]"
     ]
    },
    {
     "name": "stdout",
     "output_type": "stream",
     "text": [
      "⚠️  Could not fetch main.zip for LunarDreamer/ChatGPT-Next-Web (status 404)\n",
      "⚠️  Could not fetch master.zip for LunarDreamer/ChatGPT-Next-Web (status 404)\n"
     ]
    },
    {
     "name": "stderr",
     "output_type": "stream",
     "text": [
      "Processing forks:  33%|███▎      | 167/500 [00:02<00:03, 84.27it/s]"
     ]
    },
    {
     "name": "stdout",
     "output_type": "stream",
     "text": [
      "⚠️  Could not fetch main.zip for PDD-2023/ChatGPT-Next-Web (status 404)\n",
      "⚠️  Could not fetch master.zip for PDD-2023/ChatGPT-Next-Web (status 404)\n"
     ]
    },
    {
     "name": "stderr",
     "output_type": "stream",
     "text": [
      "Processing forks:  37%|███▋      | 186/500 [00:02<00:04, 74.43it/s]"
     ]
    },
    {
     "name": "stdout",
     "output_type": "stream",
     "text": [
      "⚠️  Could not fetch main.zip for ZacharyLucena/ChatGPT-Next-Web (status 404)\n",
      "⚠️  Could not fetch master.zip for ZacharyLucena/ChatGPT-Next-Web (status 404)\n"
     ]
    },
    {
     "name": "stderr",
     "output_type": "stream",
     "text": [
      "Processing forks:  40%|███▉      | 198/500 [00:03<00:05, 57.08it/s]"
     ]
    },
    {
     "name": "stdout",
     "output_type": "stream",
     "text": [
      "⚠️  Could not fetch main.zip for zb0419/ChatGPT-Next-Web (status 404)\n",
      "⚠️  Could not fetch master.zip for zb0419/ChatGPT-Next-Web (status 404)\n"
     ]
    },
    {
     "name": "stderr",
     "output_type": "stream",
     "text": [
      "Processing forks:  44%|████▎     | 218/500 [00:03<00:05, 56.33it/s]"
     ]
    },
    {
     "name": "stdout",
     "output_type": "stream",
     "text": [
      "⚠️  Could not fetch main.zip for m19180538271/ChatGPT-Next-Web (status 404)\n",
      "⚠️  Could not fetch master.zip for m19180538271/ChatGPT-Next-Web (status 404)\n"
     ]
    },
    {
     "name": "stderr",
     "output_type": "stream",
     "text": [
      "Processing forks:  55%|█████▍    | 273/500 [00:03<00:02, 82.04it/s]"
     ]
    },
    {
     "name": "stdout",
     "output_type": "stream",
     "text": [
      "⚠️  Could not fetch main.zip for jamiekennedy460/ChatGPT-Next-Web (status 404)\n",
      "⚠️  Could not fetch master.zip for jamiekennedy460/ChatGPT-Next-Web (status 404)\n",
      "⚠️  Could not fetch main.zip for CNyahir/ChatGPT-Next-Web (status 404)\n"
     ]
    },
    {
     "name": "stderr",
     "output_type": "stream",
     "text": [
      "Processing forks:  58%|█████▊    | 291/500 [00:04<00:02, 70.65it/s]"
     ]
    },
    {
     "name": "stdout",
     "output_type": "stream",
     "text": [
      "⚠️  Could not fetch master.zip for CNyahir/ChatGPT-Next-Web (status 404)\n",
      "⚠️  Could not fetch main.zip for frankiegray46/ChatGPT-Next-Web (status 404)\n"
     ]
    },
    {
     "name": "stderr",
     "output_type": "stream",
     "text": [
      "Processing forks:  72%|███████▏  | 360/500 [00:04<00:01, 104.26it/s]"
     ]
    },
    {
     "name": "stdout",
     "output_type": "stream",
     "text": [
      "⚠️  Could not fetch master.zip for frankiegray46/ChatGPT-Next-Web (status 404)\n",
      "⚠️  Could not fetch main.zip for jaysgi/ChatGPT-Next-Web (status 404)\n"
     ]
    },
    {
     "name": "stderr",
     "output_type": "stream",
     "text": [
      "Processing forks:  74%|███████▍  | 371/500 [00:05<00:01, 83.35it/s] "
     ]
    },
    {
     "name": "stdout",
     "output_type": "stream",
     "text": [
      "⚠️  Could not fetch master.zip for jaysgi/ChatGPT-Next-Web (status 404)\n"
     ]
    },
    {
     "name": "stderr",
     "output_type": "stream",
     "text": [
      "Processing forks:  84%|████████▍ | 420/500 [00:05<00:00, 96.16it/s]"
     ]
    },
    {
     "name": "stdout",
     "output_type": "stream",
     "text": [
      "⚠️  Could not fetch main.zip for Joscometosee/ChatGPT-Next-Web (status 404)\n",
      "⚠️  Could not fetch master.zip for Joscometosee/ChatGPT-Next-Web (status 404)\n"
     ]
    },
    {
     "name": "stderr",
     "output_type": "stream",
     "text": [
      "Processing forks:  94%|█████████▎| 468/500 [00:06<00:00, 82.46it/s]"
     ]
    },
    {
     "name": "stdout",
     "output_type": "stream",
     "text": [
      "⚠️  Could not fetch main.zip for rileyholland545/ChatGPT-Next-Web (status 404)\n",
      "⚠️  Could not fetch master.zip for rileyholland545/ChatGPT-Next-Web (status 404)\n"
     ]
    },
    {
     "name": "stderr",
     "output_type": "stream",
     "text": [
      "Processing forks: 100%|██████████| 500/500 [00:06<00:00, 81.00it/s]\n"
     ]
    },
    {
     "name": "stdout",
     "output_type": "stream",
     "text": [
      "Batch: 33000\n"
     ]
    },
    {
     "name": "stderr",
     "output_type": "stream",
     "text": [
      "Processing forks:   0%|          | 0/500 [00:00<?, ?it/s]"
     ]
    },
    {
     "name": "stdout",
     "output_type": "stream",
     "text": [
      "⚠️  Could not fetch main.zip for Ching2312/ChatGPT-Next-Web (status 404)\n"
     ]
    },
    {
     "name": "stderr",
     "output_type": "stream",
     "text": [
      "Processing forks:  19%|█▉        | 97/500 [00:00<00:01, 206.05it/s]"
     ]
    },
    {
     "name": "stdout",
     "output_type": "stream",
     "text": [
      "⚠️  Could not fetch master.zip for Ching2312/ChatGPT-Next-Web (status 404)\n",
      "⚠️  Could not fetch main.zip for amaneric/ChatGPT-Next-Web (status 404)\n"
     ]
    },
    {
     "name": "stderr",
     "output_type": "stream",
     "text": [
      "Processing forks:  29%|██▉       | 144/500 [00:00<00:02, 158.08it/s]"
     ]
    },
    {
     "name": "stdout",
     "output_type": "stream",
     "text": [
      "⚠️  Could not fetch master.zip for amaneric/ChatGPT-Next-Web (status 404)\n"
     ]
    },
    {
     "name": "stderr",
     "output_type": "stream",
     "text": [
      "Processing forks:  46%|████▌     | 230/500 [00:01<00:01, 182.30it/s]"
     ]
    },
    {
     "name": "stdout",
     "output_type": "stream",
     "text": [
      "⚠️  Could not fetch main.zip for xxx-zz/ChatGPT-Next-Web (status 404)\n",
      "⚠️  Could not fetch master.zip for xxx-zz/ChatGPT-Next-Web (status 404)\n"
     ]
    },
    {
     "name": "stderr",
     "output_type": "stream",
     "text": [
      "Processing forks:  67%|██████▋   | 334/500 [00:01<00:00, 208.72it/s]"
     ]
    },
    {
     "name": "stdout",
     "output_type": "stream",
     "text": [
      "⚠️  Could not fetch main.zip for stars2014/ChatGPT-Next-Web (status 404)\n",
      "⚠️  Could not fetch master.zip for stars2014/ChatGPT-Next-Web (status 404)\n",
      "⚠️  Could not fetch main.zip for fghdtd/ChatGPT-Next-Web (status 404)\n"
     ]
    },
    {
     "name": "stderr",
     "output_type": "stream",
     "text": [
      "Processing forks:  81%|████████  | 406/500 [00:02<00:00, 197.42it/s]"
     ]
    },
    {
     "name": "stdout",
     "output_type": "stream",
     "text": [
      "⚠️  Could not fetch master.zip for fghdtd/ChatGPT-Next-Web (status 404)\n",
      "⚠️  Could not fetch main.zip for sdkjur/ChatGPT-Next-Web (status 404)\n",
      "⚠️  Could not fetch master.zip for sdkjur/ChatGPT-Next-Web (status 404)\n",
      "⚠️  Could not fetch main.zip for fhdhdre/ChatGPT-Next-Web (status 404)\n",
      "⚠️  Could not fetch master.zip for fhdhdre/ChatGPT-Next-Web (status 404)\n",
      "⚠️  Could not fetch main.zip for fhtjf/ChatGPT-Next-Web (status 404)\n",
      "⚠️  Could not fetch master.zip for fhtjf/ChatGPT-Next-Web (status 404)\n",
      "⚠️  Could not fetch main.zip for dtrgg/ChatGPT-Next-Web (status 404)\n",
      "⚠️  Could not fetch master.zip for dtrgg/ChatGPT-Next-Web (status 404)\n",
      "⚠️  Could not fetch main.zip for vhfddr/ChatGPT-Next-Web (status 404)\n"
     ]
    },
    {
     "name": "stderr",
     "output_type": "stream",
     "text": [
      "Processing forks:  85%|████████▌ | 426/500 [00:03<00:01, 67.70it/s] "
     ]
    },
    {
     "name": "stdout",
     "output_type": "stream",
     "text": [
      "⚠️  Could not fetch master.zip for vhfddr/ChatGPT-Next-Web (status 404)\n",
      "⚠️  Could not fetch main.zip for pyalie/ChatGPT-Next-Web (status 404)\n",
      "⚠️  Could not fetch master.zip for pyalie/ChatGPT-Next-Web (status 404)\n",
      "⚠️  Could not fetch main.zip for alizadeh6834/ChatGPT-Next-Web (status 404)\n"
     ]
    },
    {
     "name": "stderr",
     "output_type": "stream",
     "text": [
      "Processing forks:  88%|████████▊ | 440/500 [00:04<00:01, 53.80it/s]"
     ]
    },
    {
     "name": "stdout",
     "output_type": "stream",
     "text": [
      "⚠️  Could not fetch master.zip for alizadeh6834/ChatGPT-Next-Web (status 404)\n",
      "⚠️  Could not fetch main.zip for aidevman/ChatGPT-Next-Web (status 404)\n"
     ]
    },
    {
     "name": "stderr",
     "output_type": "stream",
     "text": [
      "Processing forks:  94%|█████████▍| 470/500 [00:05<00:00, 58.34it/s]"
     ]
    },
    {
     "name": "stdout",
     "output_type": "stream",
     "text": [
      "⚠️  Could not fetch master.zip for aidevman/ChatGPT-Next-Web (status 404)\n",
      "⚠️  Could not fetch main.zip for leishenht/ChatGPT-Next-Web (status 404)\n"
     ]
    },
    {
     "name": "stderr",
     "output_type": "stream",
     "text": [
      "Processing forks: 100%|██████████| 500/500 [00:05<00:00, 91.17it/s]\n"
     ]
    },
    {
     "name": "stdout",
     "output_type": "stream",
     "text": [
      "⚠️  Could not fetch master.zip for leishenht/ChatGPT-Next-Web (status 404)\n",
      "Batch: 33500\n"
     ]
    },
    {
     "name": "stderr",
     "output_type": "stream",
     "text": [
      "Processing forks:   0%|          | 0/500 [00:00<?, ?it/s]"
     ]
    },
    {
     "name": "stdout",
     "output_type": "stream",
     "text": [
      "⚠️  Could not fetch main.zip for ghdthf/ChatGPT-Next-Web (status 404)\n"
     ]
    },
    {
     "name": "stderr",
     "output_type": "stream",
     "text": [
      "Processing forks:  14%|█▎        | 68/500 [00:00<00:02, 164.90it/s]"
     ]
    },
    {
     "name": "stdout",
     "output_type": "stream",
     "text": [
      "⚠️  Could not fetch master.zip for ghdthf/ChatGPT-Next-Web (status 404)\n"
     ]
    },
    {
     "name": "stderr",
     "output_type": "stream",
     "text": [
      "Processing forks:  27%|██▋       | 133/500 [00:00<00:02, 155.61it/s]"
     ]
    },
    {
     "name": "stdout",
     "output_type": "stream",
     "text": [
      "⚠️  Could not fetch main.zip for Donawx/ChatGPT-Next-Web (status 404)\n",
      "⚠️  Could not fetch master.zip for Donawx/ChatGPT-Next-Web (status 404)\n",
      "⚠️  Could not fetch main.zip for h3art4lor/ChatGPT-Next-Web (status 404)\n"
     ]
    },
    {
     "name": "stderr",
     "output_type": "stream",
     "text": [
      "Processing forks:  31%|███       | 155/500 [00:01<00:03, 111.88it/s]"
     ]
    },
    {
     "name": "stdout",
     "output_type": "stream",
     "text": [
      "⚠️  Could not fetch master.zip for h3art4lor/ChatGPT-Next-Web (status 404)\n",
      "⚠️  Could not fetch main.zip for harolddylan040/ChatGPT-Next-Web (status 404)\n"
     ]
    },
    {
     "name": "stderr",
     "output_type": "stream",
     "text": [
      "Processing forks:  33%|███▎      | 167/500 [00:01<00:04, 81.60it/s] "
     ]
    },
    {
     "name": "stdout",
     "output_type": "stream",
     "text": [
      "⚠️  Could not fetch master.zip for harolddylan040/ChatGPT-Next-Web (status 404)\n",
      "⚠️  Could not fetch main.zip for yuhui452/ChatGPT-Next-Web (status 404)\n"
     ]
    },
    {
     "name": "stderr",
     "output_type": "stream",
     "text": [
      "Processing forks:  39%|███▉      | 194/500 [00:01<00:03, 78.23it/s]"
     ]
    },
    {
     "name": "stdout",
     "output_type": "stream",
     "text": [
      "⚠️  Could not fetch master.zip for yuhui452/ChatGPT-Next-Web (status 404)\n",
      "⚠️  Could not fetch main.zip for cqhftc/ChatGPT-Next-0710 (status 404)\n"
     ]
    },
    {
     "name": "stderr",
     "output_type": "stream",
     "text": [
      "Processing forks:  42%|████▏     | 209/500 [00:02<00:04, 66.13it/s]"
     ]
    },
    {
     "name": "stdout",
     "output_type": "stream",
     "text": [
      "⚠️  Could not fetch master.zip for cqhftc/ChatGPT-Next-0710 (status 404)\n",
      "⚠️  Could not fetch main.zip for cqhfxb/ChatGPT-Next-0710 (status 404)\n"
     ]
    },
    {
     "name": "stderr",
     "output_type": "stream",
     "text": [
      "Processing forks:  43%|████▎     | 216/500 [00:02<00:05, 51.13it/s]"
     ]
    },
    {
     "name": "stdout",
     "output_type": "stream",
     "text": [
      "⚠️  Could not fetch master.zip for cqhfxb/ChatGPT-Next-0710 (status 404)\n",
      "⚠️  Could not fetch main.zip for ken439839/ChatGPT-Next-Web (status 404)\n"
     ]
    },
    {
     "name": "stderr",
     "output_type": "stream",
     "text": [
      "Processing forks:  46%|████▋     | 232/500 [00:03<00:05, 49.66it/s]"
     ]
    },
    {
     "name": "stdout",
     "output_type": "stream",
     "text": [
      "⚠️  Could not fetch master.zip for ken439839/ChatGPT-Next-Web (status 404)\n",
      "⚠️  Could not fetch main.zip for lesspylent/ChatGPT-Next-Web (status 404)\n"
     ]
    },
    {
     "name": "stderr",
     "output_type": "stream",
     "text": [
      "Processing forks:  51%|█████     | 254/500 [00:03<00:04, 53.41it/s]"
     ]
    },
    {
     "name": "stdout",
     "output_type": "stream",
     "text": [
      "⚠️  Could not fetch master.zip for lesspylent/ChatGPT-Next-Web (status 404)\n",
      "⚠️  Could not fetch main.zip for williameverto3/ChatGPT-Next-Web (status 404)\n"
     ]
    },
    {
     "name": "stderr",
     "output_type": "stream",
     "text": [
      "Processing forks:  52%|█████▏    | 262/500 [00:03<00:05, 44.33it/s]"
     ]
    },
    {
     "name": "stdout",
     "output_type": "stream",
     "text": [
      "⚠️  Could not fetch master.zip for williameverto3/ChatGPT-Next-Web (status 404)\n"
     ]
    },
    {
     "name": "stderr",
     "output_type": "stream",
     "text": [
      "Processing forks:  58%|█████▊    | 290/500 [00:04<00:03, 52.55it/s]"
     ]
    },
    {
     "name": "stdout",
     "output_type": "stream",
     "text": [
      "⚠️  Could not fetch main.zip for herogoooo/ChatGPT-Next-Web (status 404)\n",
      "⚠️  Could not fetch master.zip for herogoooo/ChatGPT-Next-Web (status 404)\n"
     ]
    },
    {
     "name": "stderr",
     "output_type": "stream",
     "text": [
      "Processing forks:  59%|█████▉    | 296/500 [00:04<00:04, 41.48it/s]"
     ]
    },
    {
     "name": "stdout",
     "output_type": "stream",
     "text": [
      "⚠️  Could not fetch main.zip for maxwelljony/ChatGPT-Next-Web (status 404)\n",
      "⚠️  Could not fetch master.zip for maxwelljony/ChatGPT-Next-Web (status 404)\n"
     ]
    },
    {
     "name": "stderr",
     "output_type": "stream",
     "text": [
      "Processing forks:  62%|██████▏   | 310/500 [00:04<00:04, 41.26it/s]"
     ]
    },
    {
     "name": "stdout",
     "output_type": "stream",
     "text": [
      "⚠️  Could not fetch main.zip for seven-pp/ChatGPT-Next-Web (status 404)\n",
      "⚠️  Could not fetch master.zip for seven-pp/ChatGPT-Next-Web (status 404)\n"
     ]
    },
    {
     "name": "stderr",
     "output_type": "stream",
     "text": [
      "Processing forks:  65%|██████▌   | 327/500 [00:05<00:04, 42.78it/s]"
     ]
    },
    {
     "name": "stdout",
     "output_type": "stream",
     "text": [
      "⚠️  Could not fetch main.zip for fuzhirong/ChatGPT-Next-Web (status 404)\n",
      "⚠️  Could not fetch master.zip for fuzhirong/ChatGPT-Next-Web (status 404)\n"
     ]
    },
    {
     "name": "stderr",
     "output_type": "stream",
     "text": [
      "Processing forks:  66%|██████▋   | 332/500 [00:05<00:04, 33.78it/s]"
     ]
    },
    {
     "name": "stdout",
     "output_type": "stream",
     "text": [
      "⚠️  Could not fetch main.zip for cnhk7079/ChatGPT-Next-Web (status 404)\n",
      "⚠️  Could not fetch master.zip for cnhk7079/ChatGPT-Next-Web (status 404)\n"
     ]
    },
    {
     "name": "stderr",
     "output_type": "stream",
     "text": [
      "Processing forks:  79%|███████▊  | 393/500 [00:06<00:01, 71.08it/s]"
     ]
    },
    {
     "name": "stdout",
     "output_type": "stream",
     "text": [
      "⚠️  Could not fetch main.zip for lilyyuanx/ChatGPT-Next-Web (status 404)\n",
      "⚠️  Could not fetch master.zip for lilyyuanx/ChatGPT-Next-Web (status 404)\n"
     ]
    },
    {
     "name": "stderr",
     "output_type": "stream",
     "text": [
      "Processing forks:  82%|████████▏ | 410/500 [00:06<00:01, 64.22it/s]"
     ]
    },
    {
     "name": "stdout",
     "output_type": "stream",
     "text": [
      "⚠️  Could not fetch main.zip for AICoCoBoy/ChatGPT-Next-Web (status 404)\n",
      "⚠️  Could not fetch master.zip for AICoCoBoy/ChatGPT-Next-Web (status 404)\n"
     ]
    },
    {
     "name": "stderr",
     "output_type": "stream",
     "text": [
      "Processing forks:  88%|████████▊ | 438/500 [00:06<00:00, 67.08it/s]"
     ]
    },
    {
     "name": "stdout",
     "output_type": "stream",
     "text": [
      "⚠️  Could not fetch main.zip for wangdongdong618/ChatGPT-Next-Web (status 404)\n",
      "⚠️  Could not fetch master.zip for wangdongdong618/ChatGPT-Next-Web (status 404)\n",
      "⚠️  Could not fetch main.zip for luosisi0721/ChatGPT-Next-Web (status 404)\n",
      "⚠️  Could not fetch master.zip for luosisi0721/ChatGPT-Next-Web (status 404)\n"
     ]
    },
    {
     "name": "stderr",
     "output_type": "stream",
     "text": [
      "Processing forks: 100%|██████████| 500/500 [00:07<00:00, 69.40it/s]\n"
     ]
    },
    {
     "name": "stdout",
     "output_type": "stream",
     "text": [
      "Batch: 34000\n"
     ]
    },
    {
     "name": "stderr",
     "output_type": "stream",
     "text": [
      "Processing forks:   0%|          | 0/500 [00:00<?, ?it/s]"
     ]
    },
    {
     "name": "stdout",
     "output_type": "stream",
     "text": [
      "⚠️  Could not fetch main.zip for laylordllian/ChatGP-Web (status 404)\n"
     ]
    },
    {
     "name": "stderr",
     "output_type": "stream",
     "text": [
      "Processing forks:  14%|█▍        | 69/500 [00:00<00:02, 181.62it/s]"
     ]
    },
    {
     "name": "stdout",
     "output_type": "stream",
     "text": [
      "⚠️  Could not fetch master.zip for laylordllian/ChatGP-Web (status 404)\n",
      "⚠️  Could not fetch main.zip for ingxhe/ChatGPT-Next-Web (status 404)\n"
     ]
    },
    {
     "name": "stderr",
     "output_type": "stream",
     "text": [
      "Processing forks:  18%|█▊        | 88/500 [00:00<00:05, 77.94it/s] "
     ]
    },
    {
     "name": "stdout",
     "output_type": "stream",
     "text": [
      "⚠️  Could not fetch master.zip for ingxhe/ChatGPT-Next-Web (status 404)\n",
      "⚠️  Could not fetch main.zip for tanbnu/ChatGPT-Next-Web (status 404)\n"
     ]
    },
    {
     "name": "stderr",
     "output_type": "stream",
     "text": [
      "Processing forks:  23%|██▎       | 117/500 [00:01<00:04, 78.09it/s]"
     ]
    },
    {
     "name": "stdout",
     "output_type": "stream",
     "text": [
      "⚠️  Could not fetch master.zip for tanbnu/ChatGPT-Next-Web (status 404)\n",
      "⚠️  Could not fetch main.zip for maotany/ChatGPT-Next-Web (status 404)\n"
     ]
    },
    {
     "name": "stderr",
     "output_type": "stream",
     "text": [
      "Processing forks:  25%|██▌       | 126/500 [00:01<00:06, 59.78it/s]"
     ]
    },
    {
     "name": "stdout",
     "output_type": "stream",
     "text": [
      "⚠️  Could not fetch master.zip for maotany/ChatGPT-Next-Web (status 404)\n",
      "⚠️  Could not fetch main.zip for givenAiT01/ChatGPT-Next-Web (status 404)\n"
     ]
    },
    {
     "name": "stderr",
     "output_type": "stream",
     "text": [
      "Processing forks:  27%|██▋       | 137/500 [00:02<00:07, 49.89it/s]"
     ]
    },
    {
     "name": "stdout",
     "output_type": "stream",
     "text": [
      "⚠️  Could not fetch master.zip for givenAiT01/ChatGPT-Next-Web (status 404)\n",
      "⚠️  Could not fetch main.zip for 0liragunse/ChatGPT-Next-Web (status 404)\n"
     ]
    },
    {
     "name": "stderr",
     "output_type": "stream",
     "text": [
      "Processing forks:  31%|███       | 154/500 [00:02<00:07, 48.69it/s]"
     ]
    },
    {
     "name": "stdout",
     "output_type": "stream",
     "text": [
      "⚠️  Could not fetch master.zip for 0liragunse/ChatGPT-Next-Web (status 404)\n",
      "⚠️  Could not fetch main.zip for zhangangang521/ChatGPT-Next-Web (status 404)\n"
     ]
    },
    {
     "name": "stderr",
     "output_type": "stream",
     "text": [
      "Processing forks:  34%|███▍      | 169/500 [00:02<00:07, 45.84it/s]"
     ]
    },
    {
     "name": "stdout",
     "output_type": "stream",
     "text": [
      "⚠️  Could not fetch master.zip for zhangangang521/ChatGPT-Next-Web (status 404)\n",
      "⚠️  Could not fetch main.zip for liuyesai/ChatGPT-Next-Web (status 404)\n"
     ]
    },
    {
     "name": "stderr",
     "output_type": "stream",
     "text": [
      "Processing forks:  43%|████▎     | 213/500 [00:03<00:04, 67.87it/s]"
     ]
    },
    {
     "name": "stdout",
     "output_type": "stream",
     "text": [
      "⚠️  Could not fetch master.zip for liuyesai/ChatGPT-Next-Web (status 404)\n"
     ]
    },
    {
     "name": "stderr",
     "output_type": "stream",
     "text": [
      "Processing forks:  71%|███████   | 353/500 [00:03<00:00, 159.71it/s]"
     ]
    },
    {
     "name": "stdout",
     "output_type": "stream",
     "text": [
      "⚠️  Could not fetch main.zip for kiauu/ChatGPT-Next-Web (status 404)\n",
      "⚠️  Could not fetch master.zip for kiauu/ChatGPT-Next-Web (status 404)\n",
      "⚠️  Could not fetch main.zip for maodpou/ChatGPT-Next-Web (status 404)\n",
      "⚠️  Could not fetch master.zip for maodpou/ChatGPT-Next-Web (status 404)\n",
      "⚠️  Could not fetch main.zip for bin-wq/ChatGPT-Next-Web (status 404)\n",
      "⚠️  Could not fetch master.zip for bin-wq/ChatGPT-Next-Web (status 404)\n"
     ]
    },
    {
     "name": "stderr",
     "output_type": "stream",
     "text": [
      "Processing forks:  74%|███████▍  | 369/500 [00:04<00:01, 78.83it/s] "
     ]
    },
    {
     "name": "stdout",
     "output_type": "stream",
     "text": [
      "⚠️  Could not fetch main.zip for Pigaolan/ChatGPT-Next-Web (status 404)\n",
      "⚠️  Could not fetch master.zip for Pigaolan/ChatGPT-Next-Web (status 404)\n",
      "⚠️  Could not fetch main.zip for 025GS/ChatGPT-Next-Web (status 404)\n"
     ]
    },
    {
     "name": "stderr",
     "output_type": "stream",
     "text": [
      "Processing forks:  78%|███████▊  | 392/500 [00:05<00:01, 66.15it/s]"
     ]
    },
    {
     "name": "stdout",
     "output_type": "stream",
     "text": [
      "⚠️  Could not fetch master.zip for 025GS/ChatGPT-Next-Web (status 404)\n",
      "⚠️  Could not fetch main.zip for hnjdzhangwei1989/ChatGPT-Next-Web (status 404)\n"
     ]
    },
    {
     "name": "stderr",
     "output_type": "stream",
     "text": [
      "Processing forks: 100%|██████████| 500/500 [00:05<00:00, 87.76it/s]\n"
     ]
    },
    {
     "name": "stdout",
     "output_type": "stream",
     "text": [
      "⚠️  Could not fetch master.zip for hnjdzhangwei1989/ChatGPT-Next-Web (status 404)\n",
      "Batch: 34500\n"
     ]
    },
    {
     "name": "stderr",
     "output_type": "stream",
     "text": [
      "Processing forks:   8%|▊         | 42/500 [00:00<00:04, 111.08it/s]"
     ]
    },
    {
     "name": "stdout",
     "output_type": "stream",
     "text": [
      "⚠️  Could not fetch main.zip for anaptx/ChatGPT-Next-Web (status 404)\n",
      "⚠️  Could not fetch master.zip for anaptx/ChatGPT-Next-Web (status 404)\n",
      "⚠️  Could not fetch main.zip for zhangkuang21/ChatGPT-Next-Web (status 404)\n",
      "⚠️  Could not fetch master.zip for zhangkuang21/ChatGPT-Next-Web (status 404)\n"
     ]
    },
    {
     "name": "stderr",
     "output_type": "stream",
     "text": [
      "Processing forks:  14%|█▍        | 72/500 [00:01<00:08, 50.69it/s] "
     ]
    },
    {
     "name": "stdout",
     "output_type": "stream",
     "text": [
      "⚠️  Could not fetch main.zip for tyataf/ChatGPT-Next-Web (status 404)\n",
      "⚠️  Could not fetch master.zip for tyataf/ChatGPT-Next-Web (status 404)\n"
     ]
    },
    {
     "name": "stderr",
     "output_type": "stream",
     "text": [
      "Processing forks:  16%|█▌        | 79/500 [00:01<00:10, 38.71it/s]"
     ]
    },
    {
     "name": "stdout",
     "output_type": "stream",
     "text": [
      "⚠️  Could not fetch main.zip for zxfccmm/ChatGPT-Next-Web (status 404)\n",
      "⚠️  Could not fetch master.zip for zxfccmm/ChatGPT-Next-Web (status 404)\n"
     ]
    },
    {
     "name": "stderr",
     "output_type": "stream",
     "text": [
      "Processing forks:  21%|██▏       | 107/500 [00:01<00:07, 50.86it/s]"
     ]
    },
    {
     "name": "stdout",
     "output_type": "stream",
     "text": [
      "⚠️  Could not fetch main.zip for ggftd/ChatGPT-Next-Web (status 404)\n",
      "⚠️  Could not fetch master.zip for ggftd/ChatGPT-Next-Web (status 404)\n"
     ]
    },
    {
     "name": "stderr",
     "output_type": "stream",
     "text": [
      "Processing forks:  23%|██▎       | 113/500 [00:02<00:09, 39.87it/s]"
     ]
    },
    {
     "name": "stdout",
     "output_type": "stream",
     "text": [
      "⚠️  Could not fetch main.zip for huaguagua/ChatGPT-Next-Web (status 404)\n",
      "⚠️  Could not fetch master.zip for huaguagua/ChatGPT-Next-Web (status 404)\n"
     ]
    },
    {
     "name": "stderr",
     "output_type": "stream",
     "text": [
      "Processing forks:  42%|████▏     | 208/500 [00:02<00:02, 106.49it/s]"
     ]
    },
    {
     "name": "stdout",
     "output_type": "stream",
     "text": [
      "⚠️  Could not fetch main.zip for ccbgsqw/ChatGPT-Next-Web (status 404)\n",
      "⚠️  Could not fetch master.zip for ccbgsqw/ChatGPT-Next-Web (status 404)\n",
      "⚠️  Could not fetch main.zip for zhanhua587/ChatGPT-Next-Web (status 404)\n",
      "⚠️  Could not fetch master.zip for zhanhua587/ChatGPT-Next-Web (status 404)\n"
     ]
    },
    {
     "name": "stderr",
     "output_type": "stream",
     "text": [
      "Processing forks:  46%|████▌     | 228/500 [00:03<00:04, 64.95it/s] "
     ]
    },
    {
     "name": "stdout",
     "output_type": "stream",
     "text": [
      "⚠️  Could not fetch main.zip for maigiou/ChatGPT-Next-Web (status 404)\n",
      "⚠️  Could not fetch master.zip for maigiou/ChatGPT-Next-Web (status 404)\n"
     ]
    },
    {
     "name": "stderr",
     "output_type": "stream",
     "text": [
      "Processing forks:  73%|███████▎  | 367/500 [00:03<00:00, 153.26it/s]"
     ]
    },
    {
     "name": "stdout",
     "output_type": "stream",
     "text": [
      "⚠️  Could not fetch main.zip for hubertwong91/ChatGPT-Next-Web (status 404)\n",
      "⚠️  Could not fetch master.zip for hubertwong91/ChatGPT-Next-Web (status 404)\n"
     ]
    },
    {
     "name": "stderr",
     "output_type": "stream",
     "text": [
      "Processing forks:  81%|████████  | 404/500 [00:04<00:00, 136.91it/s]"
     ]
    },
    {
     "name": "stdout",
     "output_type": "stream",
     "text": [
      "⚠️  Could not fetch main.zip for dtyicvg/ChatGPT-Next-Web (status 404)\n",
      "⚠️  Could not fetch master.zip for dtyicvg/ChatGPT-Next-Web (status 404)\n"
     ]
    },
    {
     "name": "stderr",
     "output_type": "stream",
     "text": [
      "Processing forks:  90%|█████████ | 451/500 [00:04<00:00, 131.60it/s]"
     ]
    },
    {
     "name": "stdout",
     "output_type": "stream",
     "text": [
      "⚠️  Could not fetch main.zip for entropy987/chatgpt-next (status 404)\n",
      "⚠️  Could not fetch master.zip for entropy987/chatgpt-next (status 404)\n",
      "⚠️  Could not fetch main.zip for hongsheng145/ChatGPT-Next-Web (status 404)\n"
     ]
    },
    {
     "name": "stderr",
     "output_type": "stream",
     "text": [
      "Processing forks: 100%|██████████| 500/500 [00:05<00:00, 98.03it/s] \n"
     ]
    },
    {
     "name": "stdout",
     "output_type": "stream",
     "text": [
      "⚠️  Could not fetch master.zip for hongsheng145/ChatGPT-Next-Web (status 404)\n",
      "Batch: 35000\n"
     ]
    },
    {
     "name": "stderr",
     "output_type": "stream",
     "text": [
      "Processing forks:   0%|          | 0/500 [00:00<?, ?it/s]"
     ]
    },
    {
     "name": "stdout",
     "output_type": "stream",
     "text": [
      "⚠️  Could not fetch main.zip for ertdsad/ChatGPT-Next-Web (status 404)\n"
     ]
    },
    {
     "name": "stderr",
     "output_type": "stream",
     "text": [
      "Processing forks:   7%|▋         | 34/500 [00:00<00:05, 86.75it/s]"
     ]
    },
    {
     "name": "stdout",
     "output_type": "stream",
     "text": [
      "⚠️  Could not fetch master.zip for ertdsad/ChatGPT-Next-Web (status 404)\n",
      "⚠️  Could not fetch main.zip for lonesoulx/ChatGPT-Next-Web (status 404)\n"
     ]
    },
    {
     "name": "stderr",
     "output_type": "stream",
     "text": [
      "Processing forks:   9%|▊         | 43/500 [00:00<00:09, 50.09it/s]"
     ]
    },
    {
     "name": "stdout",
     "output_type": "stream",
     "text": [
      "⚠️  Could not fetch master.zip for lonesoulx/ChatGPT-Next-Web (status 404)\n",
      "⚠️  Could not fetch main.zip for nuikjjgim/ChatGPT-Next-Web (status 404)\n"
     ]
    },
    {
     "name": "stderr",
     "output_type": "stream",
     "text": [
      "Processing forks:  10%|▉         | 48/500 [00:01<00:13, 33.55it/s]"
     ]
    },
    {
     "name": "stdout",
     "output_type": "stream",
     "text": [
      "⚠️  Could not fetch master.zip for nuikjjgim/ChatGPT-Next-Web (status 404)\n",
      "⚠️  Could not fetch main.zip for wenbeng666/ChatGPT-Next-Web (status 404)\n"
     ]
    },
    {
     "name": "stderr",
     "output_type": "stream",
     "text": [
      "Processing forks:  12%|█▏        | 61/500 [00:01<00:12, 34.61it/s]"
     ]
    },
    {
     "name": "stdout",
     "output_type": "stream",
     "text": [
      "⚠️  Could not fetch master.zip for wenbeng666/ChatGPT-Next-Web (status 404)\n",
      "⚠️  Could not fetch main.zip for thruyrrtd/ChatGPT-Next-Web (status 404)\n"
     ]
    },
    {
     "name": "stderr",
     "output_type": "stream",
     "text": [
      "Processing forks:  14%|█▍        | 69/500 [00:01<00:14, 29.91it/s]"
     ]
    },
    {
     "name": "stdout",
     "output_type": "stream",
     "text": [
      "⚠️  Could not fetch master.zip for thruyrrtd/ChatGPT-Next-Web (status 404)\n",
      "⚠️  Could not fetch main.zip for Tii-dev/ChatGPT-Next-Web (status 404)\n"
     ]
    },
    {
     "name": "stderr",
     "output_type": "stream",
     "text": [
      "Processing forks:  16%|█▋        | 82/500 [00:02<00:13, 31.73it/s]"
     ]
    },
    {
     "name": "stdout",
     "output_type": "stream",
     "text": [
      "⚠️  Could not fetch master.zip for Tii-dev/ChatGPT-Next-Web (status 404)\n",
      "⚠️  Could not fetch main.zip for tom1784132/ChatGPT-Next-Web (status 404)\n"
     ]
    },
    {
     "name": "stderr",
     "output_type": "stream",
     "text": [
      "Processing forks:  20%|█▉        | 99/500 [00:02<00:11, 36.01it/s]"
     ]
    },
    {
     "name": "stdout",
     "output_type": "stream",
     "text": [
      "⚠️  Could not fetch master.zip for tom1784132/ChatGPT-Next-Web (status 404)\n",
      "⚠️  Could not fetch main.zip for jbnjbn787/ChatGPT-Next-Web (status 404)\n"
     ]
    },
    {
     "name": "stderr",
     "output_type": "stream",
     "text": [
      "Processing forks:  21%|██        | 103/500 [00:03<00:14, 27.77it/s]"
     ]
    },
    {
     "name": "stdout",
     "output_type": "stream",
     "text": [
      "⚠️  Could not fetch master.zip for jbnjbn787/ChatGPT-Next-Web (status 404)\n",
      "⚠️  Could not fetch main.zip for aasstathamsdom/ChatGPT-Next-Web (status 404)\n"
     ]
    },
    {
     "name": "stderr",
     "output_type": "stream",
     "text": [
      "Processing forks:  22%|██▏       | 109/500 [00:03<00:15, 24.52it/s]"
     ]
    },
    {
     "name": "stdout",
     "output_type": "stream",
     "text": [
      "⚠️  Could not fetch master.zip for aasstathamsdom/ChatGPT-Next-Web (status 404)\n"
     ]
    },
    {
     "name": "stderr",
     "output_type": "stream",
     "text": [
      "Processing forks:  24%|██▍       | 120/500 [00:03<00:14, 25.74it/s]"
     ]
    },
    {
     "name": "stdout",
     "output_type": "stream",
     "text": [
      "⚠️  Could not fetch main.zip for tehney22/ChatGPT-Next-Web (status 404)\n",
      "⚠️  Could not fetch master.zip for tehney22/ChatGPT-Next-Web (status 404)\n"
     ]
    },
    {
     "name": "stderr",
     "output_type": "stream",
     "text": [
      "Processing forks:  26%|██▌       | 130/500 [00:04<00:13, 26.60it/s]"
     ]
    },
    {
     "name": "stdout",
     "output_type": "stream",
     "text": [
      "⚠️  Could not fetch main.zip for fangmf/ChatGPT-Next-Web (status 404)\n",
      "⚠️  Could not fetch master.zip for fangmf/ChatGPT-Next-Web (status 404)\n",
      "⚠️  Could not fetch main.zip for BasilDudley/ChatGPT-Next-Web (status 404)\n"
     ]
    },
    {
     "name": "stderr",
     "output_type": "stream",
     "text": [
      "Processing forks:  29%|██▉       | 147/500 [00:04<00:11, 32.04it/s]"
     ]
    },
    {
     "name": "stdout",
     "output_type": "stream",
     "text": [
      "⚠️  Could not fetch master.zip for BasilDudley/ChatGPT-Next-Web (status 404)\n",
      "⚠️  Could not fetch main.zip for warrensuttonhxn/ChatGPT-Next-Web (status 404)\n"
     ]
    },
    {
     "name": "stderr",
     "output_type": "stream",
     "text": [
      "Processing forks:  30%|███       | 151/500 [00:04<00:13, 25.51it/s]"
     ]
    },
    {
     "name": "stdout",
     "output_type": "stream",
     "text": [
      "⚠️  Could not fetch master.zip for warrensuttonhxn/ChatGPT-Next-Web (status 404)\n",
      "⚠️  Could not fetch main.zip for GerardRoedl/ChatGPT-Next-Web (status 404)\n"
     ]
    },
    {
     "name": "stderr",
     "output_type": "stream",
     "text": [
      "Processing forks:  31%|███       | 154/500 [00:05<00:17, 19.89it/s]"
     ]
    },
    {
     "name": "stdout",
     "output_type": "stream",
     "text": [
      "⚠️  Could not fetch master.zip for GerardRoedl/ChatGPT-Next-Web (status 404)\n",
      "⚠️  Could not fetch main.zip for venomaks/ChatGPT-Next-Web (status 404)\n"
     ]
    },
    {
     "name": "stderr",
     "output_type": "stream",
     "text": [
      "Processing forks:  34%|███▍      | 170/500 [00:05<00:12, 26.97it/s]"
     ]
    },
    {
     "name": "stdout",
     "output_type": "stream",
     "text": [
      "⚠️  Could not fetch master.zip for venomaks/ChatGPT-Next-Web (status 404)\n",
      "⚠️  Could not fetch main.zip for Danadude1/ChatGPT-Next-Web (status 404)\n"
     ]
    },
    {
     "name": "stderr",
     "output_type": "stream",
     "text": [
      "Processing forks:  35%|███▌      | 177/500 [00:05<00:13, 24.40it/s]"
     ]
    },
    {
     "name": "stdout",
     "output_type": "stream",
     "text": [
      "⚠️  Could not fetch master.zip for Danadude1/ChatGPT-Next-Web (status 404)\n",
      "⚠️  Could not fetch main.zip for ecofellere/ChatGPT-Next-Web (status 404)\n"
     ]
    },
    {
     "name": "stderr",
     "output_type": "stream",
     "text": [
      "Processing forks:  42%|████▏     | 210/500 [00:06<00:06, 43.16it/s]"
     ]
    },
    {
     "name": "stdout",
     "output_type": "stream",
     "text": [
      "⚠️  Could not fetch master.zip for ecofellere/ChatGPT-Next-Web (status 404)\n"
     ]
    },
    {
     "name": "stderr",
     "output_type": "stream",
     "text": [
      "Processing forks:  45%|████▍     | 224/500 [00:06<00:06, 40.47it/s]"
     ]
    },
    {
     "name": "stdout",
     "output_type": "stream",
     "text": [
      "⚠️  Could not fetch main.zip for creat885/ChatGPT-Next-Web (status 404)\n",
      "⚠️  Could not fetch master.zip for creat885/ChatGPT-Next-Web (status 404)\n"
     ]
    },
    {
     "name": "stderr",
     "output_type": "stream",
     "text": [
      "Processing forks:  46%|████▌     | 229/500 [00:07<00:08, 32.43it/s]"
     ]
    },
    {
     "name": "stdout",
     "output_type": "stream",
     "text": [
      "⚠️  Could not fetch main.zip for bryane6/ChatGPT-Next-Web (status 404)\n",
      "⚠️  Could not fetch master.zip for bryane6/ChatGPT-Next-Web (status 404)\n"
     ]
    },
    {
     "name": "stderr",
     "output_type": "stream",
     "text": [
      "Processing forks:  47%|████▋     | 233/500 [00:07<00:10, 26.33it/s]"
     ]
    },
    {
     "name": "stdout",
     "output_type": "stream",
     "text": [
      "⚠️  Could not fetch main.zip for yuanchenzhen/ChatGPT-Next-Web (status 404)\n",
      "⚠️  Could not fetch master.zip for yuanchenzhen/ChatGPT-Next-Web (status 404)\n"
     ]
    },
    {
     "name": "stderr",
     "output_type": "stream",
     "text": [
      "Processing forks:  49%|████▊     | 243/500 [00:07<00:09, 26.55it/s]"
     ]
    },
    {
     "name": "stdout",
     "output_type": "stream",
     "text": [
      "⚠️  Could not fetch main.zip for kola898/ChatGPT-Next-Web (status 404)\n",
      "⚠️  Could not fetch master.zip for kola898/ChatGPT-Next-Web (status 404)\n"
     ]
    },
    {
     "name": "stderr",
     "output_type": "stream",
     "text": [
      "Processing forks:  52%|█████▏    | 258/500 [00:08<00:07, 30.83it/s]"
     ]
    },
    {
     "name": "stdout",
     "output_type": "stream",
     "text": [
      "⚠️  Could not fetch main.zip for caiasi/ChatGPT-Next-Web (status 404)\n",
      "⚠️  Could not fetch master.zip for caiasi/ChatGPT-Next-Web (status 404)\n",
      "⚠️  Could not fetch main.zip for remystan/ChatGPT-Next-Web (status 404)\n"
     ]
    },
    {
     "name": "stderr",
     "output_type": "stream",
     "text": [
      "Processing forks:  53%|█████▎    | 264/500 [00:08<00:09, 25.32it/s]"
     ]
    },
    {
     "name": "stdout",
     "output_type": "stream",
     "text": [
      "⚠️  Could not fetch master.zip for remystan/ChatGPT-Next-Web (status 404)\n",
      "⚠️  Could not fetch main.zip for dogking88/ChatGPT-Next-Web (status 404)\n"
     ]
    },
    {
     "name": "stderr",
     "output_type": "stream",
     "text": [
      "Processing forks:  53%|█████▎    | 267/500 [00:09<00:11, 20.37it/s]"
     ]
    },
    {
     "name": "stdout",
     "output_type": "stream",
     "text": [
      "⚠️  Could not fetch master.zip for dogking88/ChatGPT-Next-Web (status 404)\n",
      "⚠️  Could not fetch main.zip for xiongwei233/ChatGPT-Next-Web (status 404)\n"
     ]
    },
    {
     "name": "stderr",
     "output_type": "stream",
     "text": [
      "Processing forks:  56%|█████▌    | 281/500 [00:09<00:08, 25.06it/s]"
     ]
    },
    {
     "name": "stdout",
     "output_type": "stream",
     "text": [
      "⚠️  Could not fetch master.zip for xiongwei233/ChatGPT-Next-Web (status 404)\n",
      "⚠️  Could not fetch main.zip for revoltver/ChatGPT-Next-Web (status 404)\n"
     ]
    },
    {
     "name": "stderr",
     "output_type": "stream",
     "text": [
      "Processing forks:  63%|██████▎   | 313/500 [00:09<00:04, 42.87it/s]"
     ]
    },
    {
     "name": "stdout",
     "output_type": "stream",
     "text": [
      "⚠️  Could not fetch master.zip for revoltver/ChatGPT-Next-Web (status 404)\n",
      "⚠️  Could not fetch main.zip for megabraine/ChatGPT-Next-Web (status 404)\n"
     ]
    },
    {
     "name": "stderr",
     "output_type": "stream",
     "text": [
      "Processing forks:  64%|██████▎   | 318/500 [00:10<00:05, 34.13it/s]"
     ]
    },
    {
     "name": "stdout",
     "output_type": "stream",
     "text": [
      "⚠️  Could not fetch master.zip for megabraine/ChatGPT-Next-Web (status 404)\n",
      "⚠️  Could not fetch main.zip for MHpoixvcm/ChatGPT-Next-Web (status 404)\n"
     ]
    },
    {
     "name": "stderr",
     "output_type": "stream",
     "text": [
      "Processing forks:  65%|██████▍   | 323/500 [00:10<00:06, 28.49it/s]"
     ]
    },
    {
     "name": "stdout",
     "output_type": "stream",
     "text": [
      "⚠️  Could not fetch master.zip for MHpoixvcm/ChatGPT-Next-Web (status 404)\n",
      "⚠️  Could not fetch main.zip for homesadfgs/ChatGPT-Next-Web (status 404)\n"
     ]
    },
    {
     "name": "stderr",
     "output_type": "stream",
     "text": [
      "Processing forks:  67%|██████▋   | 333/500 [00:10<00:05, 28.53it/s]"
     ]
    },
    {
     "name": "stdout",
     "output_type": "stream",
     "text": [
      "⚠️  Could not fetch master.zip for homesadfgs/ChatGPT-Next-Web (status 404)\n",
      "⚠️  Could not fetch main.zip for asummrds/ChatGPT-Next-Web (status 404)\n"
     ]
    },
    {
     "name": "stderr",
     "output_type": "stream",
     "text": [
      "Processing forks:  68%|██████▊   | 340/500 [00:11<00:06, 25.71it/s]"
     ]
    },
    {
     "name": "stdout",
     "output_type": "stream",
     "text": [
      "⚠️  Could not fetch master.zip for asummrds/ChatGPT-Next-Web (status 404)\n",
      "⚠️  Could not fetch main.zip for miyukismile3906/ChatGPT-Next-Web (status 404)\n"
     ]
    },
    {
     "name": "stderr",
     "output_type": "stream",
     "text": [
      "Processing forks:  73%|███████▎  | 367/500 [00:11<00:03, 39.25it/s]"
     ]
    },
    {
     "name": "stdout",
     "output_type": "stream",
     "text": [
      "⚠️  Could not fetch master.zip for miyukismile3906/ChatGPT-Next-Web (status 404)\n",
      "⚠️  Could not fetch main.zip for Lets-VPN/ChatGPT-Next-Web (status 404)\n"
     ]
    },
    {
     "name": "stderr",
     "output_type": "stream",
     "text": [
      "Processing forks:  74%|███████▍  | 371/500 [00:12<00:04, 30.27it/s]"
     ]
    },
    {
     "name": "stdout",
     "output_type": "stream",
     "text": [
      "⚠️  Could not fetch master.zip for Lets-VPN/ChatGPT-Next-Web (status 404)\n"
     ]
    },
    {
     "name": "stderr",
     "output_type": "stream",
     "text": [
      "Processing forks:  76%|███████▌  | 381/500 [00:12<00:04, 28.37it/s]"
     ]
    },
    {
     "name": "stdout",
     "output_type": "stream",
     "text": [
      "⚠️  Could not fetch main.zip for fernicolau/ChatGPT-Next-Web (status 404)\n",
      "⚠️  Could not fetch master.zip for fernicolau/ChatGPT-Next-Web (status 404)\n"
     ]
    },
    {
     "name": "stderr",
     "output_type": "stream",
     "text": [
      "Processing forks:  79%|███████▉  | 395/500 [00:12<00:03, 30.62it/s]"
     ]
    },
    {
     "name": "stdout",
     "output_type": "stream",
     "text": [
      "⚠️  Could not fetch main.zip for kangyushi98/ChatGPT-Next-Web (status 404)\n",
      "⚠️  Could not fetch master.zip for kangyushi98/ChatGPT-Next-Web (status 404)\n",
      "⚠️  Could not fetch main.zip for firelol1/ChatGPT-Next-Web (status 404)\n"
     ]
    },
    {
     "name": "stderr",
     "output_type": "stream",
     "text": [
      "Processing forks:  91%|█████████▏| 457/500 [00:13<00:00, 57.71it/s]"
     ]
    },
    {
     "name": "stdout",
     "output_type": "stream",
     "text": [
      "⚠️  Could not fetch master.zip for firelol1/ChatGPT-Next-Web (status 404)\n"
     ]
    },
    {
     "name": "stderr",
     "output_type": "stream",
     "text": [
      "Processing forks:  93%|█████████▎| 464/500 [00:13<00:00, 46.46it/s]"
     ]
    },
    {
     "name": "stdout",
     "output_type": "stream",
     "text": [
      "⚠️  Could not fetch main.zip for leonardoxy/ChatGPT-Next-Web (status 404)\n",
      "⚠️  Could not fetch master.zip for leonardoxy/ChatGPT-Next-Web (status 404)\n"
     ]
    },
    {
     "name": "stderr",
     "output_type": "stream",
     "text": [
      "Processing forks:  94%|█████████▍| 469/500 [00:14<00:00, 38.25it/s]"
     ]
    },
    {
     "name": "stdout",
     "output_type": "stream",
     "text": [
      "⚠️  Could not fetch main.zip for gabithefool/ChatGPT-Next-Web (status 404)\n",
      "⚠️  Could not fetch master.zip for gabithefool/ChatGPT-Next-Web (status 404)\n"
     ]
    },
    {
     "name": "stderr",
     "output_type": "stream",
     "text": [
      "Processing forks:  96%|█████████▋| 482/500 [00:14<00:00, 37.81it/s]"
     ]
    },
    {
     "name": "stdout",
     "output_type": "stream",
     "text": [
      "⚠️  Could not fetch main.zip for asummrd/ChatGPT-Next-Web (status 404)\n",
      "⚠️  Could not fetch master.zip for asummrd/ChatGPT-Next-Web (status 404)\n"
     ]
    },
    {
     "name": "stderr",
     "output_type": "stream",
     "text": [
      "Processing forks: 100%|██████████| 500/500 [00:15<00:00, 33.16it/s]"
     ]
    },
    {
     "name": "stdout",
     "output_type": "stream",
     "text": [
      "⚠️  Could not fetch main.zip for gimbert246/ChatGPT-Next-Web (status 404)\n",
      "⚠️  Could not fetch master.zip for gimbert246/ChatGPT-Next-Web (status 404)\n"
     ]
    },
    {
     "name": "stderr",
     "output_type": "stream",
     "text": [
      "\n"
     ]
    },
    {
     "name": "stdout",
     "output_type": "stream",
     "text": [
      "Batch: 35500\n"
     ]
    },
    {
     "name": "stderr",
     "output_type": "stream",
     "text": [
      "Processing forks:   0%|          | 0/500 [00:00<?, ?it/s]"
     ]
    },
    {
     "name": "stdout",
     "output_type": "stream",
     "text": [
      "⚠️  Could not fetch main.zip for nishawan/ChatGPT-Next-Web (status 404)\n"
     ]
    },
    {
     "name": "stderr",
     "output_type": "stream",
     "text": [
      "Processing forks:   1%|          | 5/500 [00:00<00:36, 13.59it/s]"
     ]
    },
    {
     "name": "stdout",
     "output_type": "stream",
     "text": [
      "⚠️  Could not fetch master.zip for nishawan/ChatGPT-Next-Web (status 404)\n",
      "⚠️  Could not fetch main.zip for alleyneaugustin/ChatGPT-Next-Web (status 404)\n"
     ]
    },
    {
     "name": "stderr",
     "output_type": "stream",
     "text": [
      "Processing forks:   2%|▏         | 12/500 [00:00<00:29, 16.74it/s]"
     ]
    },
    {
     "name": "stdout",
     "output_type": "stream",
     "text": [
      "⚠️  Could not fetch master.zip for alleyneaugustin/ChatGPT-Next-Web (status 404)\n",
      "⚠️  Could not fetch main.zip for Uncuriousp/ChatGPT-Next-Web (status 404)\n"
     ]
    },
    {
     "name": "stderr",
     "output_type": "stream",
     "text": [
      "Processing forks:   8%|▊         | 40/500 [00:01<00:10, 42.58it/s]"
     ]
    },
    {
     "name": "stdout",
     "output_type": "stream",
     "text": [
      "⚠️  Could not fetch master.zip for Uncuriousp/ChatGPT-Next-Web (status 404)\n",
      "⚠️  Could not fetch main.zip for 02-lang/ChatGPT-Next-Web (status 404)\n"
     ]
    },
    {
     "name": "stderr",
     "output_type": "stream",
     "text": [
      "Processing forks:  12%|█▏        | 58/500 [00:01<00:10, 43.86it/s]"
     ]
    },
    {
     "name": "stdout",
     "output_type": "stream",
     "text": [
      "⚠️  Could not fetch master.zip for 02-lang/ChatGPT-Next-Web (status 404)\n",
      "⚠️  Could not fetch main.zip for cookieheru/ChatGPT-Next-Web (status 404)\n",
      "⚠️  Could not fetch master.zip for cookieheru/ChatGPT-Next-Web (status 404)\n",
      "⚠️  Could not fetch main.zip for thefik6/ChatGPT-Next-Web (status 404)\n"
     ]
    },
    {
     "name": "stderr",
     "output_type": "stream",
     "text": [
      "Processing forks:  13%|█▎        | 63/500 [00:02<00:17, 24.98it/s]"
     ]
    },
    {
     "name": "stdout",
     "output_type": "stream",
     "text": [
      "⚠️  Could not fetch master.zip for thefik6/ChatGPT-Next-Web (status 404)\n",
      "⚠️  Could not fetch main.zip for rexv528/ChatGPT-Next-Web (status 404)\n"
     ]
    },
    {
     "name": "stderr",
     "output_type": "stream",
     "text": [
      "Processing forks:  23%|██▎       | 116/500 [00:02<00:06, 55.93it/s]"
     ]
    },
    {
     "name": "stdout",
     "output_type": "stream",
     "text": [
      "⚠️  Could not fetch master.zip for rexv528/ChatGPT-Next-Web (status 404)\n",
      "⚠️  Could not fetch main.zip for simpsonhf/ChatGPT-Next-Web (status 404)\n",
      "⚠️  Could not fetch master.zip for simpsonhf/ChatGPT-Next-Web (status 404)\n",
      "⚠️  Could not fetch main.zip for lorieaffirmaj/ChatGPT-Next-Web (status 404)\n",
      "⚠️  Could not fetch master.zip for lorieaffirmaj/ChatGPT-Next-Web (status 404)\n"
     ]
    },
    {
     "name": "stderr",
     "output_type": "stream",
     "text": [
      "Processing forks:  25%|██▍       | 123/500 [00:07<00:33, 11.12it/s]"
     ]
    },
    {
     "name": "stdout",
     "output_type": "stream",
     "text": [
      "⚠️  Could not fetch main.zip for whitfiharn/ChatGPT-Next-Web (status 404)\n",
      "⚠️  Could not fetch master.zip for whitfiharn/ChatGPT-Next-Web (status 404)\n",
      "⚠️  Could not fetch main.zip for bradfordcampbell32024/ChatGPT-Next-Web (status 404)\n"
     ]
    },
    {
     "name": "stderr",
     "output_type": "stream",
     "text": [
      "Processing forks:  27%|██▋       | 133/500 [00:07<00:31, 11.81it/s]"
     ]
    },
    {
     "name": "stdout",
     "output_type": "stream",
     "text": [
      "⚠️  Could not fetch master.zip for bradfordcampbell32024/ChatGPT-Next-Web (status 404)\n",
      "⚠️  Could not fetch main.zip for yinghua2004/ChatGPT-Next-Web (status 404)\n"
     ]
    },
    {
     "name": "stderr",
     "output_type": "stream",
     "text": [
      "Processing forks:  27%|██▋       | 137/500 [00:08<00:30, 11.75it/s]"
     ]
    },
    {
     "name": "stdout",
     "output_type": "stream",
     "text": [
      "⚠️  Could not fetch master.zip for yinghua2004/ChatGPT-Next-Web (status 404)\n",
      "⚠️  Could not fetch main.zip for lisheone/ChatGPT-Next-Web (status 404)\n"
     ]
    },
    {
     "name": "stderr",
     "output_type": "stream",
     "text": [
      "Processing forks:  30%|██▉       | 148/500 [00:08<00:24, 14.12it/s]"
     ]
    },
    {
     "name": "stdout",
     "output_type": "stream",
     "text": [
      "⚠️  Could not fetch master.zip for lisheone/ChatGPT-Next-Web (status 404)\n",
      "⚠️  Could not fetch main.zip for toregov/ChatGPT-Next-Web (status 404)\n"
     ]
    },
    {
     "name": "stderr",
     "output_type": "stream",
     "text": [
      "Processing forks:  32%|███▏      | 159/500 [00:08<00:20, 16.68it/s]"
     ]
    },
    {
     "name": "stdout",
     "output_type": "stream",
     "text": [
      "⚠️  Could not fetch master.zip for toregov/ChatGPT-Next-Web (status 404)\n",
      "⚠️  Could not fetch main.zip for daindr0n/ChatGPT-Next-Web (status 404)\n"
     ]
    },
    {
     "name": "stderr",
     "output_type": "stream",
     "text": [
      "Processing forks:  32%|███▏      | 162/500 [00:09<00:22, 15.01it/s]"
     ]
    },
    {
     "name": "stdout",
     "output_type": "stream",
     "text": [
      "⚠️  Could not fetch master.zip for daindr0n/ChatGPT-Next-Web (status 404)\n",
      "⚠️  Could not fetch main.zip for sda6654/ChatGPT-Next-Web (status 404)\n",
      "⚠️  Could not fetch master.zip for sda6654/ChatGPT-Next-Web (status 404)\n",
      "⚠️  Could not fetch main.zip for jjjjdsa665/ChatGPT-Next-Web (status 404)\n"
     ]
    },
    {
     "name": "stderr",
     "output_type": "stream",
     "text": [
      "Processing forks:  33%|███▎      | 165/500 [00:09<00:29, 11.39it/s]"
     ]
    },
    {
     "name": "stdout",
     "output_type": "stream",
     "text": [
      "⚠️  Could not fetch master.zip for jjjjdsa665/ChatGPT-Next-Web (status 404)\n",
      "⚠️  Could not fetch main.zip for gdgg3g32/ChatGPT-Next-Web (status 404)\n"
     ]
    },
    {
     "name": "stderr",
     "output_type": "stream",
     "text": [
      "Processing forks:  34%|███▍      | 172/500 [00:10<00:25, 12.98it/s]"
     ]
    },
    {
     "name": "stdout",
     "output_type": "stream",
     "text": [
      "⚠️  Could not fetch master.zip for gdgg3g32/ChatGPT-Next-Web (status 404)\n",
      "⚠️  Could not fetch main.zip for daff1112/ChatGPT-Next-Web (status 404)\n"
     ]
    },
    {
     "name": "stderr",
     "output_type": "stream",
     "text": [
      "Processing forks:  35%|███▌      | 176/500 [00:10<00:26, 12.34it/s]"
     ]
    },
    {
     "name": "stdout",
     "output_type": "stream",
     "text": [
      "⚠️  Could not fetch master.zip for daff1112/ChatGPT-Next-Web (status 404)\n"
     ]
    },
    {
     "name": "stderr",
     "output_type": "stream",
     "text": [
      "Processing forks:  36%|███▌      | 178/500 [00:11<00:30, 10.40it/s]"
     ]
    },
    {
     "name": "stdout",
     "output_type": "stream",
     "text": [
      "⚠️  Could not fetch main.zip for dfsg554/ChatGPT-Next-Web (status 404)\n",
      "⚠️  Could not fetch master.zip for dfsg554/ChatGPT-Next-Web (status 404)\n"
     ]
    },
    {
     "name": "stderr",
     "output_type": "stream",
     "text": [
      "Processing forks:  36%|███▌      | 180/500 [00:11<00:34,  9.27it/s]"
     ]
    },
    {
     "name": "stdout",
     "output_type": "stream",
     "text": [
      "⚠️  Could not fetch main.zip for nqtsaf665/ChatGPT-Next-Web (status 404)\n",
      "⚠️  Could not fetch master.zip for nqtsaf665/ChatGPT-Next-Web (status 404)\n"
     ]
    },
    {
     "name": "stderr",
     "output_type": "stream",
     "text": [
      "Processing forks:  36%|███▋      | 182/500 [00:11<00:38,  8.20it/s]"
     ]
    },
    {
     "name": "stdout",
     "output_type": "stream",
     "text": [
      "⚠️  Could not fetch main.zip for nqty228rk/ChatGPT-Next-Web (status 404)\n",
      "⚠️  Could not fetch master.zip for nqty228rk/ChatGPT-Next-Web (status 404)\n",
      "⚠️  Could not fetch main.zip for jahosan910/ChatGPT-Next-Web (status 404)\n"
     ]
    },
    {
     "name": "stderr",
     "output_type": "stream",
     "text": [
      "Processing forks:  37%|███▋      | 184/500 [00:12<00:43,  7.20it/s]"
     ]
    },
    {
     "name": "stdout",
     "output_type": "stream",
     "text": [
      "⚠️  Could not fetch master.zip for jahosan910/ChatGPT-Next-Web (status 404)\n",
      "⚠️  Could not fetch main.zip for nqtfs654/ChatGPT-Next-Web (status 404)\n"
     ]
    },
    {
     "name": "stderr",
     "output_type": "stream",
     "text": [
      "Processing forks:  37%|███▋      | 185/500 [00:12<00:52,  6.00it/s]"
     ]
    },
    {
     "name": "stdout",
     "output_type": "stream",
     "text": [
      "⚠️  Could not fetch master.zip for nqtfs654/ChatGPT-Next-Web (status 404)\n",
      "⚠️  Could not fetch main.zip for nqty228r1/ChatGPT-Next-Web (status 404)\n"
     ]
    },
    {
     "name": "stderr",
     "output_type": "stream",
     "text": [
      "Processing forks:  37%|███▋      | 186/500 [00:12<01:00,  5.16it/s]"
     ]
    },
    {
     "name": "stdout",
     "output_type": "stream",
     "text": [
      "⚠️  Could not fetch master.zip for nqty228r1/ChatGPT-Next-Web (status 404)\n",
      "⚠️  Could not fetch main.zip for ffas554/ChatGPT-Next-Web (status 404)\n"
     ]
    },
    {
     "name": "stderr",
     "output_type": "stream",
     "text": [
      "Processing forks:  38%|███▊      | 188/500 [00:13<00:58,  5.30it/s]"
     ]
    },
    {
     "name": "stdout",
     "output_type": "stream",
     "text": [
      "⚠️  Could not fetch master.zip for ffas554/ChatGPT-Next-Web (status 404)\n",
      "⚠️  Could not fetch main.zip for jjjfa685/ChatGPT-Next-Web (status 404)\n"
     ]
    },
    {
     "name": "stderr",
     "output_type": "stream",
     "text": [
      "Processing forks:  38%|███▊      | 192/500 [00:13<00:45,  6.70it/s]"
     ]
    },
    {
     "name": "stdout",
     "output_type": "stream",
     "text": [
      "⚠️  Could not fetch master.zip for jjjfa685/ChatGPT-Next-Web (status 404)\n",
      "⚠️  Could not fetch main.zip for nnnds663/ChatGPT-Next-Web (status 404)\n"
     ]
    },
    {
     "name": "stderr",
     "output_type": "stream",
     "text": [
      "Processing forks:  39%|███▉      | 194/500 [00:14<00:48,  6.28it/s]"
     ]
    },
    {
     "name": "stdout",
     "output_type": "stream",
     "text": [
      "⚠️  Could not fetch master.zip for nnnds663/ChatGPT-Next-Web (status 404)\n",
      "⚠️  Could not fetch main.zip for nqty228rq/ChatGPT-Next-Web (status 404)\n"
     ]
    },
    {
     "name": "stderr",
     "output_type": "stream",
     "text": [
      "Processing forks:  39%|███▉      | 197/500 [00:14<00:44,  6.75it/s]"
     ]
    },
    {
     "name": "stdout",
     "output_type": "stream",
     "text": [
      "⚠️  Could not fetch master.zip for nqty228rq/ChatGPT-Next-Web (status 404)\n",
      "⚠️  Could not fetch main.zip for nisda996/ChatGPT-Next-Web (status 404)\n"
     ]
    },
    {
     "name": "stderr",
     "output_type": "stream",
     "text": [
      "Processing forks:  40%|████      | 202/500 [00:14<00:34,  8.72it/s]"
     ]
    },
    {
     "name": "stdout",
     "output_type": "stream",
     "text": [
      "⚠️  Could not fetch master.zip for nisda996/ChatGPT-Next-Web (status 404)\n",
      "⚠️  Could not fetch main.zip for dfff664/ChatGPT-Next-Web (status 404)\n"
     ]
    },
    {
     "name": "stderr",
     "output_type": "stream",
     "text": [
      "Processing forks:  41%|████▏     | 207/500 [00:15<00:28, 10.19it/s]"
     ]
    },
    {
     "name": "stdout",
     "output_type": "stream",
     "text": [
      "⚠️  Could not fetch master.zip for dfff664/ChatGPT-Next-Web (status 404)\n",
      "⚠️  Could not fetch main.zip for sddf6422/ChatGPT-Next-Web (status 404)\n",
      "⚠️  Could not fetch master.zip for sddf6422/ChatGPT-Next-Web (status 404)\n",
      "⚠️  Could not fetch main.zip for nqty6542/ChatGPT-Next-Web (status 404)\n"
     ]
    },
    {
     "name": "stderr",
     "output_type": "stream",
     "text": [
      "Processing forks:  42%|████▏     | 209/500 [00:15<00:42,  6.87it/s]"
     ]
    },
    {
     "name": "stdout",
     "output_type": "stream",
     "text": [
      "⚠️  Could not fetch master.zip for nqty6542/ChatGPT-Next-Web (status 404)\n",
      "⚠️  Could not fetch main.zip for fder6542/ChatGPT-Next-Web (status 404)\n"
     ]
    },
    {
     "name": "stderr",
     "output_type": "stream",
     "text": [
      "Processing forks:  42%|████▏     | 210/500 [00:16<00:49,  5.88it/s]"
     ]
    },
    {
     "name": "stdout",
     "output_type": "stream",
     "text": [
      "⚠️  Could not fetch master.zip for fder6542/ChatGPT-Next-Web (status 404)\n",
      "⚠️  Could not fetch main.zip for nsda7884/ChatGPT-Next-Web (status 404)\n"
     ]
    },
    {
     "name": "stderr",
     "output_type": "stream",
     "text": [
      "Processing forks:  42%|████▏     | 211/500 [00:16<00:58,  4.95it/s]"
     ]
    },
    {
     "name": "stdout",
     "output_type": "stream",
     "text": [
      "⚠️  Could not fetch master.zip for nsda7884/ChatGPT-Next-Web (status 404)\n",
      "⚠️  Could not fetch main.zip for sddfq611/ChatGPT-Next-Web (status 404)\n"
     ]
    },
    {
     "name": "stderr",
     "output_type": "stream",
     "text": [
      "Processing forks:  42%|████▏     | 212/500 [00:17<01:05,  4.39it/s]"
     ]
    },
    {
     "name": "stdout",
     "output_type": "stream",
     "text": [
      "⚠️  Could not fetch master.zip for sddfq611/ChatGPT-Next-Web (status 404)\n",
      "⚠️  Could not fetch main.zip for nqt09gu1/ChatGPT-Next-Web (status 404)\n"
     ]
    },
    {
     "name": "stderr",
     "output_type": "stream",
     "text": [
      "Processing forks:  48%|████▊     | 241/500 [00:17<00:10, 24.71it/s]"
     ]
    },
    {
     "name": "stdout",
     "output_type": "stream",
     "text": [
      "⚠️  Could not fetch master.zip for nqt09gu1/ChatGPT-Next-Web (status 404)\n",
      "⚠️  Could not fetch main.zip for sdaf6545/ChatGPT-Next-Web (status 404)\n",
      "⚠️  Could not fetch master.zip for sdaf6545/ChatGPT-Next-Web (status 404)\n",
      "⚠️  Could not fetch main.zip for sfaf3532/ChatGPT-Next-Web (status 404)\n",
      "⚠️  Could not fetch master.zip for sfaf3532/ChatGPT-Next-Web (status 404)\n"
     ]
    },
    {
     "name": "stderr",
     "output_type": "stream",
     "text": [
      "Processing forks:  49%|████▉     | 244/500 [00:18<00:20, 12.58it/s]"
     ]
    },
    {
     "name": "stdout",
     "output_type": "stream",
     "text": [
      "⚠️  Could not fetch main.zip for nqty228rr/ChatGPT-Next-Web (status 404)\n",
      "⚠️  Could not fetch master.zip for nqty228rr/ChatGPT-Next-Web (status 404)\n",
      "⚠️  Could not fetch main.zip for svxf657/ChatGPT-Next-Web (status 404)\n",
      "⚠️  Could not fetch master.zip for svxf657/ChatGPT-Next-Web (status 404)\n"
     ]
    },
    {
     "name": "stderr",
     "output_type": "stream",
     "text": [
      "Processing forks:  51%|█████     | 254/500 [00:19<00:20, 12.23it/s]"
     ]
    },
    {
     "name": "stdout",
     "output_type": "stream",
     "text": [
      "⚠️  Could not fetch main.zip for wewf658/ChatGPT-Next-Web (status 404)\n",
      "⚠️  Could not fetch master.zip for wewf658/ChatGPT-Next-Web (status 404)\n",
      "⚠️  Could not fetch main.zip for sdwq6542/ChatGPT-Next-Web (status 404)\n",
      "⚠️  Could not fetch master.zip for sdwq6542/ChatGPT-Next-Web (status 404)\n"
     ]
    },
    {
     "name": "stderr",
     "output_type": "stream",
     "text": [
      "Processing forks:  54%|█████▍    | 269/500 [00:19<00:12, 18.97it/s]"
     ]
    },
    {
     "name": "stdout",
     "output_type": "stream",
     "text": [
      "⚠️  Could not fetch main.zip for sdfa6523/ChatGPT-Next-Web (status 404)\n",
      "⚠️  Could not fetch master.zip for sdfa6523/ChatGPT-Next-Web (status 404)\n"
     ]
    },
    {
     "name": "stderr",
     "output_type": "stream",
     "text": [
      "Processing forks:  54%|█████▍    | 272/500 [00:20<00:17, 12.93it/s]"
     ]
    },
    {
     "name": "stdout",
     "output_type": "stream",
     "text": [
      "⚠️  Could not fetch main.zip for sdfsv34/ChatGPT-Next-Web (status 404)\n",
      "⚠️  Could not fetch master.zip for sdfsv34/ChatGPT-Next-Web (status 404)\n",
      "⚠️  Could not fetch main.zip for wzp2fg/ChatGPT-Next-Web (status 404)\n",
      "⚠️  Could not fetch master.zip for wzp2fg/ChatGPT-Next-Web (status 404)\n",
      "⚠️  Could not fetch main.zip for dfcv654/ChatGPT-Next-Web (status 404)\n"
     ]
    },
    {
     "name": "stderr",
     "output_type": "stream",
     "text": [
      "Processing forks:  55%|█████▍    | 274/500 [00:21<00:25,  8.97it/s]"
     ]
    },
    {
     "name": "stdout",
     "output_type": "stream",
     "text": [
      "⚠️  Could not fetch master.zip for dfcv654/ChatGPT-Next-Web (status 404)\n",
      "⚠️  Could not fetch main.zip for sdfcx3245/ChatGPT-Next-Web (status 404)\n"
     ]
    },
    {
     "name": "stderr",
     "output_type": "stream",
     "text": [
      "Processing forks:  55%|█████▌    | 276/500 [00:21<00:26,  8.37it/s]"
     ]
    },
    {
     "name": "stdout",
     "output_type": "stream",
     "text": [
      "⚠️  Could not fetch master.zip for sdfcx3245/ChatGPT-Next-Web (status 404)\n",
      "⚠️  Could not fetch main.zip for markjamest/ChatGPT-Next-Web (status 404)\n"
     ]
    },
    {
     "name": "stderr",
     "output_type": "stream",
     "text": [
      "Processing forks:  57%|█████▋    | 285/500 [00:21<00:17, 11.98it/s]"
     ]
    },
    {
     "name": "stdout",
     "output_type": "stream",
     "text": [
      "⚠️  Could not fetch master.zip for markjamest/ChatGPT-Next-Web (status 404)\n",
      "⚠️  Could not fetch main.zip for wdf204a/ChatGPT-Next-Web (status 404)\n"
     ]
    },
    {
     "name": "stderr",
     "output_type": "stream",
     "text": [
      "Processing forks:  62%|██████▏   | 311/500 [00:22<00:07, 26.10it/s]"
     ]
    },
    {
     "name": "stdout",
     "output_type": "stream",
     "text": [
      "⚠️  Could not fetch master.zip for wdf204a/ChatGPT-Next-Web (status 404)\n",
      "⚠️  Could not fetch main.zip for jdfaq21/ChatGPT-Next-Web (status 404)\n",
      "⚠️  Could not fetch master.zip for jdfaq21/ChatGPT-Next-Web (status 404)\n",
      "⚠️  Could not fetch main.zip for wzp211/ChatGPT-Next-Web (status 404)\n",
      "⚠️  Could not fetch master.zip for wzp211/ChatGPT-Next-Web (status 404)\n",
      "⚠️  Could not fetch main.zip for sdfxc219/ChatGPT-Next-Web (status 404)\n",
      "⚠️  Could not fetch master.zip for sdfxc219/ChatGPT-Next-Web (status 404)\n",
      "⚠️  Could not fetch main.zip for nqty218qw/ChatGPT-Next-Web (status 404)\n"
     ]
    },
    {
     "name": "stderr",
     "output_type": "stream",
     "text": [
      "Processing forks:  63%|██████▎   | 315/500 [00:23<00:14, 12.64it/s]"
     ]
    },
    {
     "name": "stdout",
     "output_type": "stream",
     "text": [
      "⚠️  Could not fetch master.zip for nqty218qw/ChatGPT-Next-Web (status 404)\n",
      "⚠️  Could not fetch main.zip for nqry217qx/ChatGPT-Next-Web (status 404)\n",
      "⚠️  Could not fetch master.zip for nqry217qx/ChatGPT-Next-Web (status 404)\n",
      "⚠️  Could not fetch main.zip for nqty215qw/ChatGPT-Next-Web (status 404)\n",
      "⚠️  Could not fetch master.zip for nqty215qw/ChatGPT-Next-Web (status 404)\n",
      "⚠️  Could not fetch main.zip for sdxc220/ChatGPT-Next-Web (status 404)\n"
     ]
    },
    {
     "name": "stderr",
     "output_type": "stream",
     "text": [
      "Processing forks:  64%|██████▎   | 318/500 [00:25<00:22,  8.13it/s]"
     ]
    },
    {
     "name": "stdout",
     "output_type": "stream",
     "text": [
      "⚠️  Could not fetch master.zip for sdxc220/ChatGPT-Next-Web (status 404)\n",
      "⚠️  Could not fetch main.zip for nqty216cv/ChatGPT-Next-Web (status 404)\n"
     ]
    },
    {
     "name": "stderr",
     "output_type": "stream",
     "text": [
      "Processing forks:  64%|██████▍   | 320/500 [00:25<00:23,  7.76it/s]"
     ]
    },
    {
     "name": "stdout",
     "output_type": "stream",
     "text": [
      "⚠️  Could not fetch master.zip for nqty216cv/ChatGPT-Next-Web (status 404)\n",
      "⚠️  Could not fetch main.zip for nqtys222c/ChatGPT-Next-Web (status 404)\n"
     ]
    },
    {
     "name": "stderr",
     "output_type": "stream",
     "text": [
      "Processing forks:  64%|██████▍   | 322/500 [00:25<00:24,  7.13it/s]"
     ]
    },
    {
     "name": "stdout",
     "output_type": "stream",
     "text": [
      "⚠️  Could not fetch master.zip for nqtys222c/ChatGPT-Next-Web (status 404)\n",
      "⚠️  Could not fetch main.zip for nqty009q/ChatGPT-Next-Web (status 404)\n",
      "⚠️  Could not fetch master.zip for nqty009q/ChatGPT-Next-Web (status 404)\n",
      "⚠️  Could not fetch main.zip for sdfvc224/ChatGPT-Next-Web (status 404)\n"
     ]
    },
    {
     "name": "stderr",
     "output_type": "stream",
     "text": [
      "Processing forks:  65%|██████▍   | 324/500 [00:26<00:30,  5.71it/s]"
     ]
    },
    {
     "name": "stdout",
     "output_type": "stream",
     "text": [
      "⚠️  Could not fetch master.zip for sdfvc224/ChatGPT-Next-Web (status 404)\n",
      "⚠️  Could not fetch main.zip for nqty228rf/ChatGPT-Next-Web (status 404)\n"
     ]
    },
    {
     "name": "stderr",
     "output_type": "stream",
     "text": [
      "Processing forks:  65%|██████▌   | 325/500 [00:27<00:33,  5.18it/s]"
     ]
    },
    {
     "name": "stdout",
     "output_type": "stream",
     "text": [
      "⚠️  Could not fetch master.zip for nqty228rf/ChatGPT-Next-Web (status 404)\n",
      "⚠️  Could not fetch main.zip for nqcvs223/ChatGPT-Next-Web (status 404)\n"
     ]
    },
    {
     "name": "stderr",
     "output_type": "stream",
     "text": [
      "Processing forks:  65%|██████▌   | 326/500 [00:27<00:37,  4.68it/s]"
     ]
    },
    {
     "name": "stdout",
     "output_type": "stream",
     "text": [
      "⚠️  Could not fetch master.zip for nqcvs223/ChatGPT-Next-Web (status 404)\n",
      "⚠️  Could not fetch main.zip for nqty230f/ChatGPT-Next-Web (status 404)\n"
     ]
    },
    {
     "name": "stderr",
     "output_type": "stream",
     "text": [
      "Processing forks:  65%|██████▌   | 327/500 [00:27<00:41,  4.20it/s]"
     ]
    },
    {
     "name": "stdout",
     "output_type": "stream",
     "text": [
      "⚠️  Could not fetch master.zip for nqty230f/ChatGPT-Next-Web (status 404)\n",
      "⚠️  Could not fetch main.zip for nqrys250/ChatGPT-Next-Web (status 404)\n"
     ]
    },
    {
     "name": "stderr",
     "output_type": "stream",
     "text": [
      "Processing forks:  66%|██████▌   | 330/500 [00:28<00:32,  5.19it/s]"
     ]
    },
    {
     "name": "stdout",
     "output_type": "stream",
     "text": [
      "⚠️  Could not fetch master.zip for nqrys250/ChatGPT-Next-Web (status 404)\n",
      "⚠️  Could not fetch main.zip for wdzso247/ChatGPT-Next-Web (status 404)\n"
     ]
    },
    {
     "name": "stderr",
     "output_type": "stream",
     "text": [
      "Processing forks:  66%|██████▌   | 331/500 [00:28<00:37,  4.55it/s]"
     ]
    },
    {
     "name": "stdout",
     "output_type": "stream",
     "text": [
      "⚠️  Could not fetch master.zip for wdzso247/ChatGPT-Next-Web (status 404)\n",
      "⚠️  Could not fetch main.zip for bqty1223/ChatGPT-Next-Web (status 404)\n"
     ]
    },
    {
     "name": "stderr",
     "output_type": "stream",
     "text": [
      "Processing forks:  66%|██████▋   | 332/500 [00:28<00:41,  4.09it/s]"
     ]
    },
    {
     "name": "stdout",
     "output_type": "stream",
     "text": [
      "⚠️  Could not fetch master.zip for bqty1223/ChatGPT-Next-Web (status 404)\n",
      "⚠️  Could not fetch main.zip for akingeagle/ChatGPT-Next-Web (status 404)\n"
     ]
    },
    {
     "name": "stderr",
     "output_type": "stream",
     "text": [
      "Processing forks:  68%|██████▊   | 341/500 [00:29<00:16,  9.84it/s]"
     ]
    },
    {
     "name": "stdout",
     "output_type": "stream",
     "text": [
      "⚠️  Could not fetch master.zip for akingeagle/ChatGPT-Next-Web (status 404)\n",
      "⚠️  Could not fetch main.zip for slights4066/ChatGPT-Next-Web (status 404)\n"
     ]
    },
    {
     "name": "stderr",
     "output_type": "stream",
     "text": [
      "Processing forks:  71%|███████   | 354/500 [00:29<00:08, 17.14it/s]"
     ]
    },
    {
     "name": "stdout",
     "output_type": "stream",
     "text": [
      "⚠️  Could not fetch master.zip for slights4066/ChatGPT-Next-Web (status 404)\n",
      "⚠️  Could not fetch main.zip for mostafaabdds/ChatGPT-Next-Web (status 404)\n"
     ]
    },
    {
     "name": "stderr",
     "output_type": "stream",
     "text": [
      "Processing forks:  71%|███████   | 356/500 [00:29<00:10, 13.58it/s]"
     ]
    },
    {
     "name": "stdout",
     "output_type": "stream",
     "text": [
      "⚠️  Could not fetch master.zip for mostafaabdds/ChatGPT-Next-Web (status 404)\n",
      "⚠️  Could not fetch main.zip for hington21/ChatGPT-Next-Web (status 404)\n"
     ]
    },
    {
     "name": "stderr",
     "output_type": "stream",
     "text": [
      "Processing forks:  72%|███████▏  | 358/500 [00:30<00:12, 11.17it/s]"
     ]
    },
    {
     "name": "stdout",
     "output_type": "stream",
     "text": [
      "⚠️  Could not fetch master.zip for hington21/ChatGPT-Next-Web (status 404)\n",
      "⚠️  Could not fetch main.zip for rqxn12/ChatGPT-Next-Web (status 404)\n"
     ]
    },
    {
     "name": "stderr",
     "output_type": "stream",
     "text": [
      "Processing forks:  77%|███████▋  | 385/500 [00:30<00:03, 29.37it/s]"
     ]
    },
    {
     "name": "stdout",
     "output_type": "stream",
     "text": [
      "⚠️  Could not fetch master.zip for rqxn12/ChatGPT-Next-Web (status 404)\n",
      "⚠️  Could not fetch main.zip for wzso247q/ChatGPT-Next-Web (status 404)\n"
     ]
    },
    {
     "name": "stderr",
     "output_type": "stream",
     "text": [
      "Processing forks:  82%|████████▏ | 411/500 [00:31<00:02, 38.22it/s]"
     ]
    },
    {
     "name": "stdout",
     "output_type": "stream",
     "text": [
      "⚠️  Could not fetch master.zip for wzso247q/ChatGPT-Next-Web (status 404)\n",
      "⚠️  Could not fetch main.zip for wzpz240/ChatGPT-Next-Web (status 404)\n",
      "⚠️  Could not fetch master.zip for wzpz240/ChatGPT-Next-Web (status 404)\n",
      "⚠️  Could not fetch main.zip for nqty218/ChatGPT-Next-Web (status 404)\n",
      "⚠️  Could not fetch master.zip for nqty218/ChatGPT-Next-Web (status 404)\n",
      "⚠️  Could not fetch main.zip for nikehd/ChatGPT-Next-Web (status 404)\n",
      "⚠️  Could not fetch master.zip for nikehd/ChatGPT-Next-Web (status 404)\n",
      "⚠️  Could not fetch main.zip for Wzp232/ChatGPT-Next-Web (status 404)\n"
     ]
    },
    {
     "name": "stderr",
     "output_type": "stream",
     "text": [
      "Processing forks:  83%|████████▎ | 415/500 [00:32<00:04, 17.09it/s]"
     ]
    },
    {
     "name": "stdout",
     "output_type": "stream",
     "text": [
      "⚠️  Could not fetch master.zip for Wzp232/ChatGPT-Next-Web (status 404)\n",
      "⚠️  Could not fetch main.zip for nqty216/ChatGPT-Next-Web (status 404)\n",
      "⚠️  Could not fetch master.zip for nqty216/ChatGPT-Next-Web (status 404)\n",
      "⚠️  Could not fetch main.zip for wzp242242/ChatGPT-Next-Web (status 404)\n",
      "⚠️  Could not fetch master.zip for wzp242242/ChatGPT-Next-Web (status 404)\n",
      "⚠️  Could not fetch main.zip for fdgb12354/ChatGPT-Next-Web (status 404)\n"
     ]
    },
    {
     "name": "stderr",
     "output_type": "stream",
     "text": [
      "Processing forks:  84%|████████▎ | 418/500 [00:33<00:07, 11.46it/s]"
     ]
    },
    {
     "name": "stdout",
     "output_type": "stream",
     "text": [
      "⚠️  Could not fetch master.zip for fdgb12354/ChatGPT-Next-Web (status 404)\n",
      "⚠️  Could not fetch main.zip for djjfh1/ChatGPT-Next-Web (status 404)\n",
      "⚠️  Could not fetch master.zip for djjfh1/ChatGPT-Next-Web (status 404)\n"
     ]
    },
    {
     "name": "stderr",
     "output_type": "stream",
     "text": [
      "Processing forks:  84%|████████▍ | 420/500 [00:34<00:08,  8.98it/s]"
     ]
    },
    {
     "name": "stdout",
     "output_type": "stream",
     "text": [
      "⚠️  Could not fetch main.zip for wajs126/ChatGPT-Next-Web (status 404)\n",
      "⚠️  Could not fetch master.zip for wajs126/ChatGPT-Next-Web (status 404)\n",
      "⚠️  Could not fetch main.zip for nqty220/ChatGPT-Next-Web (status 404)\n",
      "⚠️  Could not fetch master.zip for nqty220/ChatGPT-Next-Web (status 404)\n",
      "⚠️  Could not fetch main.zip for nqty233d/ChatGPT-Next-Web (status 404)\n"
     ]
    },
    {
     "name": "stderr",
     "output_type": "stream",
     "text": [
      "Processing forks:  84%|████████▍ | 422/500 [00:35<00:10,  7.16it/s]"
     ]
    },
    {
     "name": "stdout",
     "output_type": "stream",
     "text": [
      "⚠️  Could not fetch master.zip for nqty233d/ChatGPT-Next-Web (status 404)\n",
      "⚠️  Could not fetch main.zip for uiiioooc/ChatGPT-Next-Web (status 404)\n"
     ]
    },
    {
     "name": "stderr",
     "output_type": "stream",
     "text": [
      "Processing forks:  85%|████████▍ | 424/500 [00:35<00:10,  6.91it/s]"
     ]
    },
    {
     "name": "stdout",
     "output_type": "stream",
     "text": [
      "⚠️  Could not fetch master.zip for uiiioooc/ChatGPT-Next-Web (status 404)\n",
      "⚠️  Could not fetch main.zip for jameszhangg/ChatGPT-Next-Web (status 404)\n"
     ]
    },
    {
     "name": "stderr",
     "output_type": "stream",
     "text": [
      "Processing forks:  91%|█████████ | 455/500 [00:35<00:02, 22.18it/s]"
     ]
    },
    {
     "name": "stdout",
     "output_type": "stream",
     "text": [
      "⚠️  Could not fetch master.zip for jameszhangg/ChatGPT-Next-Web (status 404)\n",
      "⚠️  Could not fetch main.zip for taoermi888/gpt (status 404)\n"
     ]
    },
    {
     "name": "stderr",
     "output_type": "stream",
     "text": [
      "Processing forks: 100%|██████████| 500/500 [00:36<00:00, 13.78it/s]\n"
     ]
    },
    {
     "name": "stdout",
     "output_type": "stream",
     "text": [
      "⚠️  Could not fetch master.zip for taoermi888/gpt (status 404)\n",
      "Batch: 36000\n"
     ]
    },
    {
     "name": "stderr",
     "output_type": "stream",
     "text": [
      "Processing forks:   7%|▋         | 34/500 [00:00<00:05, 90.68it/s]"
     ]
    },
    {
     "name": "stdout",
     "output_type": "stream",
     "text": [
      "⚠️  Could not fetch main.zip for PhoenixSerenade/ChatGPT-Next-Web (status 404)\n",
      "⚠️  Could not fetch master.zip for PhoenixSerenade/ChatGPT-Next-Web (status 404)\n"
     ]
    },
    {
     "name": "stderr",
     "output_type": "stream",
     "text": [
      "Processing forks:  16%|█▌        | 78/500 [00:00<00:03, 106.25it/s]"
     ]
    },
    {
     "name": "stdout",
     "output_type": "stream",
     "text": [
      "⚠️  Could not fetch main.zip for donaven0311/ChatGPT-Next-Web (status 404)\n",
      "⚠️  Could not fetch master.zip for donaven0311/ChatGPT-Next-Web (status 404)\n",
      "⚠️  Could not fetch main.zip for BBAnn1/ChatGPT-Next-Web (status 404)\n",
      "⚠️  Could not fetch master.zip for BBAnn1/ChatGPT-Next-Web (status 404)\n"
     ]
    },
    {
     "name": "stderr",
     "output_type": "stream",
     "text": [
      "Processing forks:  18%|█▊        | 89/500 [00:01<00:10, 40.08it/s] "
     ]
    },
    {
     "name": "stdout",
     "output_type": "stream",
     "text": [
      "⚠️  Could not fetch main.zip for moorzajiha1/ChatGPT-Next-Web (status 404)\n",
      "⚠️  Could not fetch master.zip for moorzajiha1/ChatGPT-Next-Web (status 404)\n"
     ]
    },
    {
     "name": "stderr",
     "output_type": "stream",
     "text": [
      "Processing forks:  21%|██        | 106/500 [00:02<00:09, 41.85it/s]"
     ]
    },
    {
     "name": "stdout",
     "output_type": "stream",
     "text": [
      "⚠️  Could not fetch main.zip for ansatis/ChatGPT-Next-Web (status 404)\n",
      "⚠️  Could not fetch master.zip for ansatis/ChatGPT-Next-Web (status 404)\n"
     ]
    },
    {
     "name": "stderr",
     "output_type": "stream",
     "text": [
      "Processing forks:  22%|██▏       | 112/500 [00:02<00:11, 35.11it/s]"
     ]
    },
    {
     "name": "stdout",
     "output_type": "stream",
     "text": [
      "⚠️  Could not fetch main.zip for margaretbowlby37/ChatGPT-Next-Web (status 404)\n",
      "⚠️  Could not fetch master.zip for margaretbowlby37/ChatGPT-Next-Web (status 404)\n"
     ]
    },
    {
     "name": "stderr",
     "output_type": "stream",
     "text": [
      "Processing forks:  28%|██▊       | 138/500 [00:02<00:08, 44.60it/s]"
     ]
    },
    {
     "name": "stdout",
     "output_type": "stream",
     "text": [
      "⚠️  Could not fetch main.zip for chuangtiaon/ChatGPT-Next-Web (status 404)\n",
      "⚠️  Could not fetch master.zip for chuangtiaon/ChatGPT-Next-Web (status 404)\n",
      "⚠️  Could not fetch main.zip for panqiaoos/ChatGPT-Next-Web (status 404)\n",
      "⚠️  Could not fetch master.zip for panqiaoos/ChatGPT-Next-Web (status 404)\n"
     ]
    },
    {
     "name": "stderr",
     "output_type": "stream",
     "text": [
      "Processing forks:  29%|██▉       | 144/500 [00:03<00:12, 28.51it/s]"
     ]
    },
    {
     "name": "stdout",
     "output_type": "stream",
     "text": [
      "⚠️  Could not fetch main.zip for chenwb000/ChatGPT-Next-Web (status 404)\n",
      "⚠️  Could not fetch master.zip for chenwb000/ChatGPT-Next-Web (status 404)\n",
      "⚠️  Could not fetch main.zip for chegouleng/ChatGPT-Next-Web (status 404)\n",
      "⚠️  Could not fetch master.zip for chegouleng/ChatGPT-Next-Web (status 404)\n"
     ]
    },
    {
     "name": "stderr",
     "output_type": "stream",
     "text": [
      "Processing forks:  30%|██▉       | 148/500 [00:04<00:18, 19.39it/s]"
     ]
    },
    {
     "name": "stdout",
     "output_type": "stream",
     "text": [
      "⚠️  Could not fetch main.zip for lanlonga/ChatGPT-Next-Web (status 404)\n",
      "⚠️  Could not fetch master.zip for lanlonga/ChatGPT-Next-Web (status 404)\n"
     ]
    },
    {
     "name": "stderr",
     "output_type": "stream",
     "text": [
      "Processing forks:  36%|███▌      | 180/500 [00:04<00:09, 33.90it/s]"
     ]
    },
    {
     "name": "stdout",
     "output_type": "stream",
     "text": [
      "⚠️  Could not fetch main.zip for lisheng2222/ChatGPT-Next-Web (status 404)\n",
      "⚠️  Could not fetch master.zip for lisheng2222/ChatGPT-Next-Web (status 404)\n"
     ]
    },
    {
     "name": "stderr",
     "output_type": "stream",
     "text": [
      "Processing forks:  57%|█████▋    | 287/500 [00:05<00:02, 93.05it/s]"
     ]
    },
    {
     "name": "stdout",
     "output_type": "stream",
     "text": [
      "⚠️  Could not fetch main.zip for jkiejeww/ChatGPT-Next-Web (status 404)\n",
      "⚠️  Could not fetch master.zip for jkiejeww/ChatGPT-Next-Web (status 404)\n"
     ]
    },
    {
     "name": "stderr",
     "output_type": "stream",
     "text": [
      "Processing forks:  60%|██████    | 301/500 [00:05<00:02, 68.06it/s]"
     ]
    },
    {
     "name": "stdout",
     "output_type": "stream",
     "text": [
      "⚠️  Could not fetch main.zip for XiaoQi1101/ChatGPT-Next-Web (status 404)\n",
      "⚠️  Could not fetch master.zip for XiaoQi1101/ChatGPT-Next-Web (status 404)\n"
     ]
    },
    {
     "name": "stderr",
     "output_type": "stream",
     "text": [
      "Processing forks:  62%|██████▏   | 310/500 [00:06<00:03, 57.78it/s]"
     ]
    },
    {
     "name": "stdout",
     "output_type": "stream",
     "text": [
      "⚠️  Could not fetch main.zip for LIQ9/ChatGPT-Next-Web (status 404)\n",
      "⚠️  Could not fetch master.zip for LIQ9/ChatGPT-Next-Web (status 404)\n"
     ]
    },
    {
     "name": "stderr",
     "output_type": "stream",
     "text": [
      "Processing forks:  70%|███████   | 351/500 [00:06<00:02, 67.68it/s]"
     ]
    },
    {
     "name": "stdout",
     "output_type": "stream",
     "text": [
      "⚠️  Could not fetch main.zip for ZHX1995115/ChatGPT-Next-Web (status 404)\n",
      "⚠️  Could not fetch master.zip for ZHX1995115/ChatGPT-Next-Web (status 404)\n",
      "⚠️  Could not fetch main.zip for ZHX123345/ChatGPT-Next-Web (status 404)\n",
      "⚠️  Could not fetch master.zip for ZHX123345/ChatGPT-Next-Web (status 404)\n"
     ]
    },
    {
     "name": "stderr",
     "output_type": "stream",
     "text": [
      "Processing forks:  77%|███████▋  | 386/500 [00:07<00:01, 59.30it/s]"
     ]
    },
    {
     "name": "stdout",
     "output_type": "stream",
     "text": [
      "⚠️  Could not fetch main.zip for goodgoodgood0/ChatGPT-Next-Web (status 404)\n",
      "⚠️  Could not fetch master.zip for goodgoodgood0/ChatGPT-Next-Web (status 404)\n"
     ]
    },
    {
     "name": "stderr",
     "output_type": "stream",
     "text": [
      "Processing forks:  80%|████████  | 402/500 [00:07<00:01, 55.26it/s]"
     ]
    },
    {
     "name": "stdout",
     "output_type": "stream",
     "text": [
      "⚠️  Could not fetch main.zip for wzpsd241/ChatGPT-Next-Web (status 404)\n",
      "⚠️  Could not fetch master.zip for wzpsd241/ChatGPT-Next-Web (status 404)\n",
      "⚠️  Could not fetch main.zip for nqty1245/ChatGPT-Next-Web (status 404)\n",
      "⚠️  Could not fetch master.zip for nqty1245/ChatGPT-Next-Web (status 404)\n",
      "⚠️  Could not fetch main.zip for NZHS123456/ChatGPT-Next-Web (status 404)\n"
     ]
    },
    {
     "name": "stderr",
     "output_type": "stream",
     "text": [
      "Processing forks:  82%|████████▏ | 408/500 [00:08<00:02, 33.05it/s]"
     ]
    },
    {
     "name": "stdout",
     "output_type": "stream",
     "text": [
      "⚠️  Could not fetch master.zip for NZHS123456/ChatGPT-Next-Web (status 404)\n",
      "⚠️  Could not fetch main.zip for Wzp246246/ChatGPT-Next-Web (status 404)\n"
     ]
    },
    {
     "name": "stderr",
     "output_type": "stream",
     "text": [
      "Processing forks:  83%|████████▎ | 413/500 [00:08<00:03, 28.72it/s]"
     ]
    },
    {
     "name": "stdout",
     "output_type": "stream",
     "text": [
      "⚠️  Could not fetch master.zip for Wzp246246/ChatGPT-Next-Web (status 404)\n",
      "⚠️  Could not fetch main.zip for CRUB10/ChatGPT-Next-Web (status 404)\n"
     ]
    },
    {
     "name": "stderr",
     "output_type": "stream",
     "text": [
      "Processing forks:  84%|████████▍ | 421/500 [00:09<00:02, 26.85it/s]"
     ]
    },
    {
     "name": "stdout",
     "output_type": "stream",
     "text": [
      "⚠️  Could not fetch master.zip for CRUB10/ChatGPT-Next-Web (status 404)\n",
      "⚠️  Could not fetch main.zip for Arstarke/ChatGPT-Next-Web (status 404)\n"
     ]
    },
    {
     "name": "stderr",
     "output_type": "stream",
     "text": [
      "Processing forks:  90%|████████▉ | 448/500 [00:09<00:01, 39.18it/s]"
     ]
    },
    {
     "name": "stdout",
     "output_type": "stream",
     "text": [
      "⚠️  Could not fetch master.zip for Arstarke/ChatGPT-Next-Web (status 404)\n",
      "⚠️  Could not fetch main.zip for Xisysspra/ChatGPT-Next-Web (status 404)\n"
     ]
    },
    {
     "name": "stderr",
     "output_type": "stream",
     "text": [
      "Processing forks:  91%|█████████ | 453/500 [00:09<00:01, 32.43it/s]"
     ]
    },
    {
     "name": "stdout",
     "output_type": "stream",
     "text": [
      "⚠️  Could not fetch master.zip for Xisysspra/ChatGPT-Next-Web (status 404)\n",
      "⚠️  Could not fetch main.zip for zhouq2024/ChatGPT-Next-Web (status 404)\n"
     ]
    },
    {
     "name": "stderr",
     "output_type": "stream",
     "text": [
      "Processing forks:  91%|█████████▏| 457/500 [00:10<00:01, 26.63it/s]"
     ]
    },
    {
     "name": "stdout",
     "output_type": "stream",
     "text": [
      "⚠️  Could not fetch master.zip for zhouq2024/ChatGPT-Next-Web (status 404)\n",
      "⚠️  Could not fetch main.zip for kugmiqw/ChatGPT-Next-Web (status 404)\n"
     ]
    },
    {
     "name": "stderr",
     "output_type": "stream",
     "text": [
      "Processing forks:  94%|█████████▍| 470/500 [00:10<00:01, 29.43it/s]"
     ]
    },
    {
     "name": "stdout",
     "output_type": "stream",
     "text": [
      "⚠️  Could not fetch master.zip for kugmiqw/ChatGPT-Next-Web (status 404)\n",
      "⚠️  Could not fetch main.zip for eNBmnhtd6/ChatGPT-Next-Web (status 404)\n"
     ]
    },
    {
     "name": "stderr",
     "output_type": "stream",
     "text": [
      "Processing forks:  95%|█████████▌| 475/500 [00:11<00:00, 25.10it/s]"
     ]
    },
    {
     "name": "stdout",
     "output_type": "stream",
     "text": [
      "⚠️  Could not fetch master.zip for eNBmnhtd6/ChatGPT-Next-Web (status 404)\n",
      "⚠️  Could not fetch main.zip for dfhij/ChatGPT-Next-Web (status 404)\n"
     ]
    },
    {
     "name": "stderr",
     "output_type": "stream",
     "text": [
      "Processing forks: 100%|██████████| 500/500 [00:11<00:00, 43.79it/s]\n"
     ]
    },
    {
     "name": "stdout",
     "output_type": "stream",
     "text": [
      "⚠️  Could not fetch master.zip for dfhij/ChatGPT-Next-Web (status 404)\n",
      "Batch: 36500\n"
     ]
    },
    {
     "name": "stderr",
     "output_type": "stream",
     "text": [
      "Processing forks:   0%|          | 0/500 [00:00<?, ?it/s]"
     ]
    },
    {
     "name": "stdout",
     "output_type": "stream",
     "text": [
      "⚠️  Could not fetch main.zip for David6733/ChatGPT-Next-Web (status 404)\n"
     ]
    },
    {
     "name": "stderr",
     "output_type": "stream",
     "text": [
      "Processing forks:   1%|          | 5/500 [00:00<00:35, 14.11it/s]"
     ]
    },
    {
     "name": "stdout",
     "output_type": "stream",
     "text": [
      "⚠️  Could not fetch master.zip for David6733/ChatGPT-Next-Web (status 404)\n",
      "⚠️  Could not fetch main.zip for hawwer/ChatGPT-Next-Web (status 404)\n"
     ]
    },
    {
     "name": "stderr",
     "output_type": "stream",
     "text": [
      "Processing forks:   4%|▎         | 18/500 [00:00<00:18, 26.47it/s]"
     ]
    },
    {
     "name": "stdout",
     "output_type": "stream",
     "text": [
      "⚠️  Could not fetch master.zip for hawwer/ChatGPT-Next-Web (status 404)\n",
      "⚠️  Could not fetch main.zip for aarom12345/ChatGPT-Next-Web (status 404)\n"
     ]
    },
    {
     "name": "stderr",
     "output_type": "stream",
     "text": [
      "Processing forks:   4%|▍         | 22/500 [00:01<00:24, 19.68it/s]"
     ]
    },
    {
     "name": "stdout",
     "output_type": "stream",
     "text": [
      "⚠️  Could not fetch master.zip for aarom12345/ChatGPT-Next-Web (status 404)\n",
      "⚠️  Could not fetch main.zip for JayNickolas/ChatGPT-Next-Web (status 404)\n"
     ]
    },
    {
     "name": "stderr",
     "output_type": "stream",
     "text": [
      "Processing forks:   6%|▌         | 28/500 [00:01<00:27, 17.46it/s]"
     ]
    },
    {
     "name": "stdout",
     "output_type": "stream",
     "text": [
      "⚠️  Could not fetch master.zip for JayNickolas/ChatGPT-Next-Web (status 404)\n",
      "⚠️  Could not fetch main.zip for Mirotvorec322/ChatGPT-Next-Web (status 404)\n"
     ]
    },
    {
     "name": "stderr",
     "output_type": "stream",
     "text": [
      "Processing forks:   7%|▋         | 36/500 [00:01<00:24, 18.87it/s]"
     ]
    },
    {
     "name": "stdout",
     "output_type": "stream",
     "text": [
      "⚠️  Could not fetch master.zip for Mirotvorec322/ChatGPT-Next-Web (status 404)\n",
      "⚠️  Could not fetch main.zip for ayuan1277/ChatGPT-Next-Web (status 404)\n"
     ]
    },
    {
     "name": "stderr",
     "output_type": "stream",
     "text": [
      "Processing forks:  14%|█▍        | 72/500 [00:02<00:09, 44.38it/s]"
     ]
    },
    {
     "name": "stdout",
     "output_type": "stream",
     "text": [
      "⚠️  Could not fetch master.zip for ayuan1277/ChatGPT-Next-Web (status 404)\n"
     ]
    },
    {
     "name": "stderr",
     "output_type": "stream",
     "text": [
      "Processing forks:  19%|█▉        | 95/500 [00:02<00:08, 48.66it/s]"
     ]
    },
    {
     "name": "stdout",
     "output_type": "stream",
     "text": [
      "⚠️  Could not fetch main.zip for tianmei11/ChatGPT-Next-Web (status 404)\n",
      "⚠️  Could not fetch master.zip for tianmei11/ChatGPT-Next-Web (status 404)\n"
     ]
    },
    {
     "name": "stderr",
     "output_type": "stream",
     "text": [
      "Processing forks:  20%|██        | 102/500 [00:03<00:10, 39.70it/s]"
     ]
    },
    {
     "name": "stdout",
     "output_type": "stream",
     "text": [
      "⚠️  Could not fetch main.zip for XiuptxCal/ChatGPT-Next-Web (status 404)\n",
      "⚠️  Could not fetch master.zip for XiuptxCal/ChatGPT-Next-Web (status 404)\n"
     ]
    },
    {
     "name": "stderr",
     "output_type": "stream",
     "text": [
      "Processing forks:  21%|██        | 106/500 [00:03<00:12, 31.11it/s]"
     ]
    },
    {
     "name": "stdout",
     "output_type": "stream",
     "text": [
      "⚠️  Could not fetch main.zip for Mxxbqqddf/ChatGPT-Next-Web (status 404)\n",
      "⚠️  Could not fetch master.zip for Mxxbqqddf/ChatGPT-Next-Web (status 404)\n"
     ]
    },
    {
     "name": "stderr",
     "output_type": "stream",
     "text": [
      "Processing forks:  29%|██▊       | 143/500 [00:03<00:06, 51.40it/s]"
     ]
    },
    {
     "name": "stdout",
     "output_type": "stream",
     "text": [
      "⚠️  Could not fetch main.zip for jeff-rt/ChatGPT-Next-Web (status 404)\n",
      "⚠️  Could not fetch master.zip for jeff-rt/ChatGPT-Next-Web (status 404)\n"
     ]
    },
    {
     "name": "stderr",
     "output_type": "stream",
     "text": [
      "Processing forks:  38%|███▊      | 191/500 [00:04<00:04, 74.61it/s]"
     ]
    },
    {
     "name": "stdout",
     "output_type": "stream",
     "text": [
      "⚠️  Could not fetch main.zip for huicong202306/ChatGPT-Next-Web (status 404)\n",
      "⚠️  Could not fetch master.zip for huicong202306/ChatGPT-Next-Web (status 404)\n"
     ]
    },
    {
     "name": "stderr",
     "output_type": "stream",
     "text": [
      "Processing forks:  41%|████      | 205/500 [00:04<00:04, 64.26it/s]"
     ]
    },
    {
     "name": "stdout",
     "output_type": "stream",
     "text": [
      "⚠️  Could not fetch main.zip for mask-kit-book/ChatGPT-Next-Web (status 404)\n",
      "⚠️  Could not fetch master.zip for mask-kit-book/ChatGPT-Next-Web (status 404)\n"
     ]
    },
    {
     "name": "stderr",
     "output_type": "stream",
     "text": [
      "Processing forks:  42%|████▏     | 212/500 [00:04<00:05, 51.07it/s]"
     ]
    },
    {
     "name": "stdout",
     "output_type": "stream",
     "text": [
      "⚠️  Could not fetch main.zip for alabyser/ChatGPT-Next-Web (status 404)\n",
      "⚠️  Could not fetch master.zip for alabyser/ChatGPT-Next-Web (status 404)\n"
     ]
    },
    {
     "name": "stderr",
     "output_type": "stream",
     "text": [
      "Processing forks:  44%|████▍     | 220/500 [00:05<00:06, 42.11it/s]"
     ]
    },
    {
     "name": "stdout",
     "output_type": "stream",
     "text": [
      "⚠️  Could not fetch main.zip for qq1257238622/ChatGPT-Next-Web (status 404)\n",
      "⚠️  Could not fetch master.zip for qq1257238622/ChatGPT-Next-Web (status 404)\n"
     ]
    },
    {
     "name": "stderr",
     "output_type": "stream",
     "text": [
      "Processing forks:  50%|████▉     | 249/500 [00:05<00:04, 52.50it/s]"
     ]
    },
    {
     "name": "stdout",
     "output_type": "stream",
     "text": [
      "⚠️  Could not fetch main.zip for hiyingyou/ChatGPT-Next-Web (status 404)\n",
      "⚠️  Could not fetch master.zip for hiyingyou/ChatGPT-Next-Web (status 404)\n",
      "⚠️  Could not fetch main.zip for relichunter1/ChatGPT-Next-Web (status 404)\n"
     ]
    },
    {
     "name": "stderr",
     "output_type": "stream",
     "text": [
      "Processing forks:  52%|█████▏    | 260/500 [00:06<00:05, 43.70it/s]"
     ]
    },
    {
     "name": "stdout",
     "output_type": "stream",
     "text": [
      "⚠️  Could not fetch master.zip for relichunter1/ChatGPT-Next-Web (status 404)\n",
      "⚠️  Could not fetch main.zip for zxcvefr17441/ChatGPT-Next-Web (status 404)\n"
     ]
    },
    {
     "name": "stderr",
     "output_type": "stream",
     "text": [
      "Processing forks:  53%|█████▎    | 265/500 [00:06<00:06, 34.67it/s]"
     ]
    },
    {
     "name": "stdout",
     "output_type": "stream",
     "text": [
      "⚠️  Could not fetch master.zip for zxcvefr17441/ChatGPT-Next-Web (status 404)\n",
      "⚠️  Could not fetch main.zip for kingsheng22/ChatGPT-Next-Web (status 404)\n"
     ]
    },
    {
     "name": "stderr",
     "output_type": "stream",
     "text": [
      "Processing forks:  57%|█████▋    | 283/500 [00:06<00:05, 37.85it/s]"
     ]
    },
    {
     "name": "stdout",
     "output_type": "stream",
     "text": [
      "⚠️  Could not fetch master.zip for kingsheng22/ChatGPT-Next-Web (status 404)\n",
      "⚠️  Could not fetch main.zip for lancechung8888/ChatGPT-Next-Web (status 404)\n"
     ]
    },
    {
     "name": "stderr",
     "output_type": "stream",
     "text": [
      "Processing forks:  57%|█████▋    | 287/500 [00:07<00:07, 30.19it/s]"
     ]
    },
    {
     "name": "stdout",
     "output_type": "stream",
     "text": [
      "⚠️  Could not fetch master.zip for lancechung8888/ChatGPT-Next-Web (status 404)\n",
      "⚠️  Could not fetch main.zip for youngesws22/ChatGPT-Next-Web (status 404)\n"
     ]
    },
    {
     "name": "stderr",
     "output_type": "stream",
     "text": [
      "Processing forks:  58%|█████▊    | 292/500 [00:07<00:08, 25.73it/s]"
     ]
    },
    {
     "name": "stdout",
     "output_type": "stream",
     "text": [
      "⚠️  Could not fetch master.zip for youngesws22/ChatGPT-Next-Web (status 404)\n",
      "⚠️  Could not fetch main.zip for Razengaki/ChatGPT-Next-Web3 (status 404)\n"
     ]
    },
    {
     "name": "stderr",
     "output_type": "stream",
     "text": [
      "Processing forks:  60%|██████    | 300/500 [00:07<00:08, 24.86it/s]"
     ]
    },
    {
     "name": "stdout",
     "output_type": "stream",
     "text": [
      "⚠️  Could not fetch master.zip for Razengaki/ChatGPT-Next-Web3 (status 404)\n",
      "⚠️  Could not fetch main.zip for neo86774/ChatGPT-Next-Web (status 404)\n"
     ]
    },
    {
     "name": "stderr",
     "output_type": "stream",
     "text": [
      "Processing forks:  61%|██████    | 303/500 [00:08<00:09, 19.99it/s]"
     ]
    },
    {
     "name": "stdout",
     "output_type": "stream",
     "text": [
      "⚠️  Could not fetch master.zip for neo86774/ChatGPT-Next-Web (status 404)\n",
      "⚠️  Could not fetch main.zip for cjgcabatino/ChatGPT-Next-Web (status 404)\n"
     ]
    },
    {
     "name": "stderr",
     "output_type": "stream",
     "text": [
      "Processing forks:  67%|██████▋   | 334/500 [00:08<00:04, 38.96it/s]"
     ]
    },
    {
     "name": "stdout",
     "output_type": "stream",
     "text": [
      "⚠️  Could not fetch master.zip for cjgcabatino/ChatGPT-Next-Web (status 404)\n",
      "⚠️  Could not fetch main.zip for tshatin3/ChatGPT-Next-Web (status 404)\n"
     ]
    },
    {
     "name": "stderr",
     "output_type": "stream",
     "text": [
      "Processing forks:  74%|███████▍  | 369/500 [00:08<00:02, 56.32it/s]"
     ]
    },
    {
     "name": "stdout",
     "output_type": "stream",
     "text": [
      "⚠️  Could not fetch master.zip for tshatin3/ChatGPT-Next-Web (status 404)\n",
      "⚠️  Could not fetch main.zip for lbcoder7/ChatGPT-Next-Web (status 404)\n"
     ]
    },
    {
     "name": "stderr",
     "output_type": "stream",
     "text": [
      "Processing forks:  84%|████████▍ | 419/500 [00:09<00:00, 81.11it/s]"
     ]
    },
    {
     "name": "stdout",
     "output_type": "stream",
     "text": [
      "⚠️  Could not fetch master.zip for lbcoder7/ChatGPT-Next-Web (status 404)\n",
      "⚠️  Could not fetch main.zip for craneertderrick/ChatGPT-Next-Web (status 404)\n"
     ]
    },
    {
     "name": "stderr",
     "output_type": "stream",
     "text": [
      "Processing forks:  87%|████████▋ | 437/500 [00:09<00:00, 71.02it/s]"
     ]
    },
    {
     "name": "stdout",
     "output_type": "stream",
     "text": [
      "⚠️  Could not fetch master.zip for craneertderrick/ChatGPT-Next-Web (status 404)\n",
      "⚠️  Could not fetch main.zip for GaleValentine/ChatGPT-Next-Web (status 404)\n"
     ]
    },
    {
     "name": "stderr",
     "output_type": "stream",
     "text": [
      "Processing forks:  89%|████████▉ | 445/500 [00:10<00:00, 56.32it/s]"
     ]
    },
    {
     "name": "stdout",
     "output_type": "stream",
     "text": [
      "⚠️  Could not fetch master.zip for GaleValentine/ChatGPT-Next-Web (status 404)\n",
      "⚠️  Could not fetch main.zip for vastxue/ChatGPT-Next-Web (status 404)\n"
     ]
    },
    {
     "name": "stderr",
     "output_type": "stream",
     "text": [
      "Processing forks:  93%|█████████▎| 466/500 [00:10<00:00, 57.33it/s]"
     ]
    },
    {
     "name": "stdout",
     "output_type": "stream",
     "text": [
      "⚠️  Could not fetch master.zip for vastxue/ChatGPT-Next-Web (status 404)\n",
      "⚠️  Could not fetch main.zip for dqcaicaicai/ChatGPT-Next-Web (status 404)\n",
      "⚠️  Could not fetch master.zip for dqcaicaicai/ChatGPT-Next-Web (status 404)\n"
     ]
    },
    {
     "name": "stderr",
     "output_type": "stream",
     "text": [
      "Processing forks:  95%|█████████▌| 477/500 [00:11<00:00, 31.25it/s]"
     ]
    },
    {
     "name": "stdout",
     "output_type": "stream",
     "text": [
      "⚠️  Could not fetch main.zip for zxx000001/ChatGPT-Next-Web (status 404)\n",
      "⚠️  Could not fetch master.zip for zxx000001/ChatGPT-Next-Web (status 404)\n"
     ]
    },
    {
     "name": "stderr",
     "output_type": "stream",
     "text": [
      "Processing forks:  96%|█████████▌| 481/500 [00:11<00:00, 25.43it/s]"
     ]
    },
    {
     "name": "stdout",
     "output_type": "stream",
     "text": [
      "⚠️  Could not fetch main.zip for qadirfholla/ChatGPT-Next-Web (status 404)\n",
      "⚠️  Could not fetch master.zip for qadirfholla/ChatGPT-Next-Web (status 404)\n"
     ]
    },
    {
     "name": "stderr",
     "output_type": "stream",
     "text": [
      "Processing forks:  97%|█████████▋| 487/500 [00:12<00:00, 22.78it/s]"
     ]
    },
    {
     "name": "stdout",
     "output_type": "stream",
     "text": [
      "⚠️  Could not fetch main.zip for lpper1515/LPPER-ChatGPT-Next-Web (status 404)\n",
      "⚠️  Could not fetch master.zip for lpper1515/LPPER-ChatGPT-Next-Web (status 404)\n",
      "⚠️  Could not fetch main.zip for ddanydaniels/ChatGPT-Next-Web (status 404)\n",
      "⚠️  Could not fetch master.zip for ddanydaniels/ChatGPT-Next-Web (status 404)\n"
     ]
    },
    {
     "name": "stderr",
     "output_type": "stream",
     "text": [
      "Processing forks:  98%|█████████▊| 490/500 [00:12<00:00, 14.84it/s]"
     ]
    },
    {
     "name": "stdout",
     "output_type": "stream",
     "text": [
      "⚠️  Could not fetch main.zip for ilhamseptiadi227/ChatGPT-Next-Web (status 404)\n",
      "⚠️  Could not fetch master.zip for ilhamseptiadi227/ChatGPT-Next-Web (status 404)\n"
     ]
    },
    {
     "name": "stderr",
     "output_type": "stream",
     "text": [
      "Processing forks: 100%|██████████| 500/500 [00:13<00:00, 37.85it/s]\n"
     ]
    },
    {
     "name": "stdout",
     "output_type": "stream",
     "text": [
      "⚠️  Could not fetch main.zip for nicola123q/ChatGPT-Next-Web (status 404)\n",
      "⚠️  Could not fetch master.zip for nicola123q/ChatGPT-Next-Web (status 404)\n",
      "Batch: 37000\n"
     ]
    },
    {
     "name": "stderr",
     "output_type": "stream",
     "text": [
      "Processing forks:   7%|▋         | 37/500 [00:00<00:04, 99.55it/s]"
     ]
    },
    {
     "name": "stdout",
     "output_type": "stream",
     "text": [
      "⚠️  Could not fetch main.zip for butlerjohn6/ChatGPT-Next-Web (status 404)\n",
      "⚠️  Could not fetch master.zip for butlerjohn6/ChatGPT-Next-Web (status 404)\n",
      "⚠️  Could not fetch main.zip for dovyq41769/dov-ChatGPT (status 404)\n",
      "⚠️  Could not fetch master.zip for dovyq41769/dov-ChatGPT (status 404)\n"
     ]
    },
    {
     "name": "stderr",
     "output_type": "stream",
     "text": [
      "Processing forks:   9%|▉         | 47/500 [00:01<00:12, 36.78it/s]"
     ]
    },
    {
     "name": "stdout",
     "output_type": "stream",
     "text": [
      "⚠️  Could not fetch main.zip for nazapish/ChatGPT-Next-Web (status 404)\n",
      "⚠️  Could not fetch master.zip for nazapish/ChatGPT-Next-Web (status 404)\n"
     ]
    },
    {
     "name": "stderr",
     "output_type": "stream",
     "text": [
      "Processing forks:  14%|█▍        | 69/500 [00:01<00:09, 45.62it/s]"
     ]
    },
    {
     "name": "stdout",
     "output_type": "stream",
     "text": [
      "⚠️  Could not fetch main.zip for jijifang/ChatGPT-Next-Web (status 404)\n",
      "⚠️  Could not fetch master.zip for jijifang/ChatGPT-Next-Web (status 404)\n"
     ]
    },
    {
     "name": "stderr",
     "output_type": "stream",
     "text": [
      "Processing forks:  16%|█▋        | 82/500 [00:01<00:10, 41.74it/s]"
     ]
    },
    {
     "name": "stdout",
     "output_type": "stream",
     "text": [
      "⚠️  Could not fetch main.zip for zhangbinxiang002/ChatGPT-Next-Web (status 404)\n",
      "⚠️  Could not fetch master.zip for zhangbinxiang002/ChatGPT-Next-Web (status 404)\n"
     ]
    },
    {
     "name": "stderr",
     "output_type": "stream",
     "text": [
      "Processing forks:  25%|██▍       | 124/500 [00:02<00:05, 63.64it/s]"
     ]
    },
    {
     "name": "stdout",
     "output_type": "stream",
     "text": [
      "⚠️  Could not fetch main.zip for lingxiaosu/ChatGPT-Next-Web (status 404)\n",
      "⚠️  Could not fetch master.zip for lingxiaosu/ChatGPT-Next-Web (status 404)\n"
     ]
    },
    {
     "name": "stderr",
     "output_type": "stream",
     "text": [
      "Processing forks:  26%|██▌       | 131/500 [00:02<00:07, 49.37it/s]"
     ]
    },
    {
     "name": "stdout",
     "output_type": "stream",
     "text": [
      "⚠️  Could not fetch main.zip for rosolongemfekf/ChatGPT-Next-Web (status 404)\n",
      "⚠️  Could not fetch master.zip for rosolongemfekf/ChatGPT-Next-Web (status 404)\n",
      "⚠️  Could not fetch main.zip for partydaos/ChatGPT-Next-Web (status 404)\n"
     ]
    },
    {
     "name": "stderr",
     "output_type": "stream",
     "text": [
      "Processing forks:  30%|███       | 152/500 [00:02<00:06, 50.73it/s]"
     ]
    },
    {
     "name": "stdout",
     "output_type": "stream",
     "text": [
      "⚠️  Could not fetch master.zip for partydaos/ChatGPT-Next-Web (status 404)\n",
      "⚠️  Could not fetch main.zip for bachcy/ChatGPT-Next-Web (status 404)\n"
     ]
    },
    {
     "name": "stderr",
     "output_type": "stream",
     "text": [
      "Processing forks:  40%|████      | 202/500 [00:03<00:03, 74.96it/s]"
     ]
    },
    {
     "name": "stdout",
     "output_type": "stream",
     "text": [
      "⚠️  Could not fetch master.zip for bachcy/ChatGPT-Next-Web (status 404)\n",
      "⚠️  Could not fetch main.zip for oh5555/ChatGPT-Next-Web (status 404)\n"
     ]
    },
    {
     "name": "stderr",
     "output_type": "stream",
     "text": [
      "Processing forks:  44%|████▍     | 219/500 [00:03<00:04, 65.82it/s]"
     ]
    },
    {
     "name": "stdout",
     "output_type": "stream",
     "text": [
      "⚠️  Could not fetch master.zip for oh5555/ChatGPT-Next-Web (status 404)\n",
      "⚠️  Could not fetch main.zip for KeithBuntz/ChatGPT-Next-Web (status 404)\n"
     ]
    },
    {
     "name": "stderr",
     "output_type": "stream",
     "text": [
      "Processing forks:  50%|████▉     | 249/500 [00:04<00:03, 69.88it/s]"
     ]
    },
    {
     "name": "stdout",
     "output_type": "stream",
     "text": [
      "⚠️  Could not fetch master.zip for KeithBuntz/ChatGPT-Next-Web (status 404)\n",
      "⚠️  Could not fetch main.zip for SparklingSpruce/ChatGPT-Next-Web (status 404)\n"
     ]
    },
    {
     "name": "stderr",
     "output_type": "stream",
     "text": [
      "Processing forks:  56%|█████▋    | 282/500 [00:04<00:02, 73.21it/s]"
     ]
    },
    {
     "name": "stdout",
     "output_type": "stream",
     "text": [
      "⚠️  Could not fetch master.zip for SparklingSpruce/ChatGPT-Next-Web (status 404)\n",
      "⚠️  Could not fetch main.zip for xiaodou001/chat-kk (status 404)\n"
     ]
    },
    {
     "name": "stderr",
     "output_type": "stream",
     "text": [
      "Processing forks:  59%|█████▉    | 296/500 [00:04<00:03, 62.65it/s]"
     ]
    },
    {
     "name": "stdout",
     "output_type": "stream",
     "text": [
      "⚠️  Could not fetch master.zip for xiaodou001/chat-kk (status 404)\n",
      "⚠️  Could not fetch main.zip for JohanssonRonny/ChatGPT-Next-Web (status 404)\n"
     ]
    },
    {
     "name": "stderr",
     "output_type": "stream",
     "text": [
      "Processing forks:  61%|██████▏   | 307/500 [00:05<00:03, 52.81it/s]"
     ]
    },
    {
     "name": "stdout",
     "output_type": "stream",
     "text": [
      "⚠️  Could not fetch master.zip for JohanssonRonny/ChatGPT-Next-Web (status 404)\n"
     ]
    },
    {
     "name": "stderr",
     "output_type": "stream",
     "text": [
      "Processing forks:  73%|███████▎  | 367/500 [00:05<00:01, 83.83it/s]"
     ]
    },
    {
     "name": "stdout",
     "output_type": "stream",
     "text": [
      "⚠️  Could not fetch main.zip for yuhan-feng/YDA-cyper-web (status 404)\n",
      "⚠️  Could not fetch master.zip for yuhan-feng/YDA-cyper-web (status 404)\n"
     ]
    },
    {
     "name": "stderr",
     "output_type": "stream",
     "text": [
      "Processing forks:  84%|████████▍ | 420/500 [00:06<00:00, 101.16it/s]"
     ]
    },
    {
     "name": "stdout",
     "output_type": "stream",
     "text": [
      "⚠️  Could not fetch main.zip for aoliann/ChatGPT-Next-Web-1 (status 404)\n",
      "⚠️  Could not fetch master.zip for aoliann/ChatGPT-Next-Web-1 (status 404)\n"
     ]
    },
    {
     "name": "stderr",
     "output_type": "stream",
     "text": [
      "Processing forks: 100%|██████████| 500/500 [00:06<00:00, 77.64it/s] "
     ]
    },
    {
     "name": "stdout",
     "output_type": "stream",
     "text": [
      "⚠️  Could not fetch main.zip for xgh056386/ChatGPT-Next-Web (status 404)\n",
      "⚠️  Could not fetch master.zip for xgh056386/ChatGPT-Next-Web (status 404)\n"
     ]
    },
    {
     "name": "stderr",
     "output_type": "stream",
     "text": [
      "\n"
     ]
    },
    {
     "name": "stdout",
     "output_type": "stream",
     "text": [
      "Batch: 37500\n"
     ]
    },
    {
     "name": "stderr",
     "output_type": "stream",
     "text": [
      "Processing forks:   0%|          | 0/500 [00:00<?, ?it/s]"
     ]
    },
    {
     "name": "stdout",
     "output_type": "stream",
     "text": [
      "⚠️  Could not fetch main.zip for 114514xian/ChatGPT-Next-Web (status 404)\n",
      "⚠️  Could not fetch master.zip for 114514xian/ChatGPT-Next-Web (status 404)\n"
     ]
    },
    {
     "name": "stderr",
     "output_type": "stream",
     "text": [
      "Processing forks:  24%|██▍       | 122/500 [00:00<00:02, 158.01it/s]"
     ]
    },
    {
     "name": "stdout",
     "output_type": "stream",
     "text": [
      "⚠️  Could not fetch main.zip for dingyinduo2/ChatGPT-Personal (status 404)\n",
      "⚠️  Could not fetch master.zip for dingyinduo2/ChatGPT-Personal (status 404)\n",
      "⚠️  Could not fetch main.zip for ai-mask/ChatGPT-Next-Web (status 404)\n",
      "⚠️  Could not fetch master.zip for ai-mask/ChatGPT-Next-Web (status 404)\n",
      "⚠️  Could not fetch main.zip for anhover115/ChatGPT-Next-Web (status 404)\n"
     ]
    },
    {
     "name": "stderr",
     "output_type": "stream",
     "text": [
      "Processing forks:  28%|██▊       | 138/500 [00:01<00:04, 73.60it/s] "
     ]
    },
    {
     "name": "stdout",
     "output_type": "stream",
     "text": [
      "⚠️  Could not fetch master.zip for anhover115/ChatGPT-Next-Web (status 404)\n"
     ]
    },
    {
     "name": "stderr",
     "output_type": "stream",
     "text": [
      "Processing forks:  65%|██████▍   | 323/500 [00:01<00:00, 197.86it/s]"
     ]
    },
    {
     "name": "stdout",
     "output_type": "stream",
     "text": [
      "⚠️  Could not fetch main.zip for HUBlyc/ChatGPT-Next-Web (status 404)\n",
      "⚠️  Could not fetch master.zip for HUBlyc/ChatGPT-Next-Web (status 404)\n"
     ]
    },
    {
     "name": "stderr",
     "output_type": "stream",
     "text": [
      "Processing forks: 100%|██████████| 500/500 [00:02<00:00, 213.43it/s]\n"
     ]
    },
    {
     "name": "stdout",
     "output_type": "stream",
     "text": [
      "⚠️  Could not fetch main.zip for qiliq/ChatGPT-Next-Web (status 404)\n",
      "⚠️  Could not fetch master.zip for qiliq/ChatGPT-Next-Web (status 404)\n",
      "Batch: 38000\n"
     ]
    },
    {
     "name": "stderr",
     "output_type": "stream",
     "text": [
      "Processing forks:   5%|▌         | 27/500 [00:01<00:21, 21.92it/s]"
     ]
    },
    {
     "name": "stdout",
     "output_type": "stream",
     "text": [
      "⚠️  Could not fetch main.zip for neoco9/ChatGPT-Next-Web (status 404)\n",
      "⚠️  Could not fetch master.zip for neoco9/ChatGPT-Next-Web (status 404)\n",
      "⚠️  Could not fetch main.zip for neoco8/ChatGPT-Next-Web (status 404)\n",
      "⚠️  Could not fetch master.zip for neoco8/ChatGPT-Next-Web (status 404)\n"
     ]
    },
    {
     "name": "stderr",
     "output_type": "stream",
     "text": [
      "Processing forks:   6%|▌         | 30/500 [00:01<00:33, 14.03it/s]"
     ]
    },
    {
     "name": "stdout",
     "output_type": "stream",
     "text": [
      "⚠️  Could not fetch main.zip for neoco7/ChatGPT-Next-Web (status 404)\n",
      "⚠️  Could not fetch master.zip for neoco7/ChatGPT-Next-Web (status 404)\n"
     ]
    },
    {
     "name": "stderr",
     "output_type": "stream",
     "text": [
      "Processing forks:   6%|▋         | 32/500 [00:02<00:39, 11.85it/s]"
     ]
    },
    {
     "name": "stdout",
     "output_type": "stream",
     "text": [
      "⚠️  Could not fetch main.zip for neoco6/ChatGPT-Next-Web (status 404)\n",
      "⚠️  Could not fetch master.zip for neoco6/ChatGPT-Next-Web (status 404)\n"
     ]
    },
    {
     "name": "stderr",
     "output_type": "stream",
     "text": [
      "Processing forks:   8%|▊         | 40/500 [00:02<00:31, 14.48it/s]"
     ]
    },
    {
     "name": "stdout",
     "output_type": "stream",
     "text": [
      "⚠️  Could not fetch main.zip for neoco4/ChatGPT-Next-Web (status 404)\n",
      "⚠️  Could not fetch master.zip for neoco4/ChatGPT-Next-Web (status 404)\n"
     ]
    },
    {
     "name": "stderr",
     "output_type": "stream",
     "text": [
      "Processing forks:   9%|▊         | 43/500 [00:03<00:35, 12.75it/s]"
     ]
    },
    {
     "name": "stdout",
     "output_type": "stream",
     "text": [
      "⚠️  Could not fetch main.zip for neoco3/ChatGPT-Next-Web (status 404)\n",
      "⚠️  Could not fetch master.zip for neoco3/ChatGPT-Next-Web (status 404)\n"
     ]
    },
    {
     "name": "stderr",
     "output_type": "stream",
     "text": [
      "Processing forks:   9%|▉         | 45/500 [00:03<00:42, 10.76it/s]"
     ]
    },
    {
     "name": "stdout",
     "output_type": "stream",
     "text": [
      "⚠️  Could not fetch main.zip for neoco2/ChatGPT-Next-Web (status 404)\n",
      "⚠️  Could not fetch master.zip for neoco2/ChatGPT-Next-Web (status 404)\n"
     ]
    },
    {
     "name": "stderr",
     "output_type": "stream",
     "text": [
      "Processing forks:   9%|▉         | 47/500 [00:03<00:49,  9.19it/s]"
     ]
    },
    {
     "name": "stdout",
     "output_type": "stream",
     "text": [
      "⚠️  Could not fetch main.zip for neoco1/ChatGPT-Next-Web (status 404)\n",
      "⚠️  Could not fetch master.zip for neoco1/ChatGPT-Next-Web (status 404)\n"
     ]
    },
    {
     "name": "stderr",
     "output_type": "stream",
     "text": [
      "Processing forks:  13%|█▎        | 65/500 [00:04<00:20, 20.77it/s]"
     ]
    },
    {
     "name": "stdout",
     "output_type": "stream",
     "text": [
      "⚠️  Could not fetch main.zip for neoco0/ChatGPT-Next-Web (status 404)\n",
      "⚠️  Could not fetch master.zip for neoco0/ChatGPT-Next-Web (status 404)\n"
     ]
    },
    {
     "name": "stderr",
     "output_type": "stream",
     "text": [
      "Processing forks:  37%|███▋      | 186/500 [00:04<00:02, 108.56it/s]"
     ]
    },
    {
     "name": "stdout",
     "output_type": "stream",
     "text": [
      "⚠️  Could not fetch main.zip for rsniubi/ChatGPT-Next-Web-3 (status 404)\n",
      "⚠️  Could not fetch master.zip for rsniubi/ChatGPT-Next-Web-3 (status 404)\n",
      "⚠️  Could not fetch main.zip for long6218344/ChatGPT-Next-Web (status 404)\n"
     ]
    },
    {
     "name": "stderr",
     "output_type": "stream",
     "text": [
      "Processing forks:  62%|██████▏   | 309/500 [00:05<00:01, 160.37it/s]"
     ]
    },
    {
     "name": "stdout",
     "output_type": "stream",
     "text": [
      "⚠️  Could not fetch master.zip for long6218344/ChatGPT-Next-Web (status 404)\n"
     ]
    },
    {
     "name": "stderr",
     "output_type": "stream",
     "text": [
      "Processing forks:  99%|█████████▊| 493/500 [00:05<00:00, 248.28it/s]"
     ]
    },
    {
     "name": "stdout",
     "output_type": "stream",
     "text": [
      "⚠️  Could not fetch main.zip for Orime1314/ChatGPT-Next-Web (status 404)\n",
      "⚠️  Could not fetch master.zip for Orime1314/ChatGPT-Next-Web (status 404)\n"
     ]
    },
    {
     "name": "stderr",
     "output_type": "stream",
     "text": [
      "Processing forks: 100%|██████████| 500/500 [00:05<00:00, 86.45it/s] \n"
     ]
    },
    {
     "name": "stdout",
     "output_type": "stream",
     "text": [
      "⚠️  Could not fetch main.zip for DEFYOFFICE/ChatGPT-Next-Web (status 404)\n",
      "⚠️  Could not fetch master.zip for DEFYOFFICE/ChatGPT-Next-Web (status 404)\n",
      "Batch: 38500\n"
     ]
    },
    {
     "name": "stderr",
     "output_type": "stream",
     "text": [
      "Processing forks:   4%|▎         | 18/500 [00:00<00:10, 48.12it/s]"
     ]
    },
    {
     "name": "stdout",
     "output_type": "stream",
     "text": [
      "⚠️  Could not fetch main.zip for mgit011/ChatGPT-Next-Web (status 404)\n",
      "⚠️  Could not fetch master.zip for mgit011/ChatGPT-Next-Web (status 404)\n"
     ]
    },
    {
     "name": "stderr",
     "output_type": "stream",
     "text": [
      "Processing forks:  29%|██▉       | 147/500 [00:00<00:01, 213.53it/s]"
     ]
    },
    {
     "name": "stdout",
     "output_type": "stream",
     "text": [
      "⚠️  Could not fetch main.zip for xuke15108293724/ChatGPT-Next-Web (status 404)\n",
      "⚠️  Could not fetch master.zip for xuke15108293724/ChatGPT-Next-Web (status 404)\n"
     ]
    },
    {
     "name": "stderr",
     "output_type": "stream",
     "text": [
      "Processing forks:  35%|███▌      | 177/500 [00:01<00:02, 154.44it/s]"
     ]
    },
    {
     "name": "stdout",
     "output_type": "stream",
     "text": [
      "⚠️  Could not fetch main.zip for liyitong12/ChatGPT-Next-Web (status 404)\n",
      "⚠️  Could not fetch master.zip for liyitong12/ChatGPT-Next-Web (status 404)\n"
     ]
    },
    {
     "name": "stderr",
     "output_type": "stream",
     "text": [
      "Processing forks:  45%|████▍     | 224/500 [00:01<00:01, 140.96it/s]"
     ]
    },
    {
     "name": "stdout",
     "output_type": "stream",
     "text": [
      "⚠️  Could not fetch main.zip for TanzheBAN/ChatGPT-Next-Web (status 404)\n",
      "⚠️  Could not fetch master.zip for TanzheBAN/ChatGPT-Next-Web (status 404)\n"
     ]
    },
    {
     "name": "stderr",
     "output_type": "stream",
     "text": [
      "Processing forks:  52%|█████▏    | 258/500 [00:01<00:02, 117.78it/s]"
     ]
    },
    {
     "name": "stdout",
     "output_type": "stream",
     "text": [
      "⚠️  Could not fetch main.zip for zxywind2/ChatGPT-Next-Web (status 404)\n",
      "⚠️  Could not fetch master.zip for zxywind2/ChatGPT-Next-Web (status 404)\n",
      "⚠️  Could not fetch main.zip for heroku666/chat (status 404)\n"
     ]
    },
    {
     "name": "stderr",
     "output_type": "stream",
     "text": [
      "Processing forks:  58%|█████▊    | 290/500 [00:02<00:02, 102.50it/s]"
     ]
    },
    {
     "name": "stdout",
     "output_type": "stream",
     "text": [
      "⚠️  Could not fetch master.zip for heroku666/chat (status 404)\n",
      "⚠️  Could not fetch main.zip for gyroflaw/ChatGPT-Next-Web (status 404)\n"
     ]
    },
    {
     "name": "stderr",
     "output_type": "stream",
     "text": [
      "Processing forks:  60%|██████    | 301/500 [00:02<00:02, 82.04it/s] "
     ]
    },
    {
     "name": "stdout",
     "output_type": "stream",
     "text": [
      "⚠️  Could not fetch master.zip for gyroflaw/ChatGPT-Next-Web (status 404)\n",
      "⚠️  Could not fetch main.zip for carbonau/ChatGPT-Next-Web (status 404)\n"
     ]
    },
    {
     "name": "stderr",
     "output_type": "stream",
     "text": [
      "Processing forks:  70%|███████   | 350/500 [00:03<00:01, 97.47it/s]"
     ]
    },
    {
     "name": "stdout",
     "output_type": "stream",
     "text": [
      "⚠️  Could not fetch master.zip for carbonau/ChatGPT-Next-Web (status 404)\n",
      "⚠️  Could not fetch main.zip for RadiantRazor/ChatGPT-Next-Web (status 404)\n"
     ]
    },
    {
     "name": "stderr",
     "output_type": "stream",
     "text": [
      "Processing forks:  81%|████████▏ | 407/500 [00:03<00:00, 112.23it/s]"
     ]
    },
    {
     "name": "stdout",
     "output_type": "stream",
     "text": [
      "⚠️  Could not fetch master.zip for RadiantRazor/ChatGPT-Next-Web (status 404)\n",
      "⚠️  Could not fetch main.zip for stephencanbe/ChatGPT-Next-Web (status 404)\n"
     ]
    },
    {
     "name": "stderr",
     "output_type": "stream",
     "text": [
      "Processing forks: 100%|██████████| 500/500 [00:03<00:00, 128.55it/s]\n"
     ]
    },
    {
     "name": "stdout",
     "output_type": "stream",
     "text": [
      "⚠️  Could not fetch master.zip for stephencanbe/ChatGPT-Next-Web (status 404)\n",
      "Batch: 39000\n"
     ]
    },
    {
     "name": "stderr",
     "output_type": "stream",
     "text": [
      "Processing forks:  16%|█▌        | 81/500 [00:00<00:01, 211.47it/s]"
     ]
    },
    {
     "name": "stdout",
     "output_type": "stream",
     "text": [
      "⚠️  Could not fetch main.zip for JollyJaguar/ChatGPT-Next-Web (status 404)\n",
      "⚠️  Could not fetch master.zip for JollyJaguar/ChatGPT-Next-Web (status 404)\n"
     ]
    },
    {
     "name": "stderr",
     "output_type": "stream",
     "text": [
      "Processing forks:  42%|████▏     | 211/500 [00:00<00:01, 276.63it/s]"
     ]
    },
    {
     "name": "stdout",
     "output_type": "stream",
     "text": [
      "⚠️  Could not fetch main.zip for DreamyDove/ChatGPT-Next-Web (status 404)\n",
      "⚠️  Could not fetch master.zip for DreamyDove/ChatGPT-Next-Web (status 404)\n",
      "⚠️  Could not fetch main.zip for fxven/ChatGPT-Next-Web-1 (status 404)\n"
     ]
    },
    {
     "name": "stderr",
     "output_type": "stream",
     "text": [
      "Processing forks:  79%|███████▉  | 394/500 [00:01<00:00, 331.61it/s]"
     ]
    },
    {
     "name": "stdout",
     "output_type": "stream",
     "text": [
      "⚠️  Could not fetch master.zip for fxven/ChatGPT-Next-Web-1 (status 404)\n",
      "⚠️  Could not fetch main.zip for fefrrf233/ChatGPT-Next-Web (status 404)\n",
      "⚠️  Could not fetch master.zip for fefrrf233/ChatGPT-Next-Web (status 404)\n",
      "⚠️  Could not fetch main.zip for cdcddce343/ChatGPT-Next-Web (status 404)\n"
     ]
    },
    {
     "name": "stderr",
     "output_type": "stream",
     "text": [
      "Processing forks:  85%|████████▌ | 427/500 [00:02<00:00, 180.56it/s]"
     ]
    },
    {
     "name": "stdout",
     "output_type": "stream",
     "text": [
      "⚠️  Could not fetch master.zip for cdcddce343/ChatGPT-Next-Web (status 404)\n",
      "⚠️  Could not fetch main.zip for kunkuner18/ChatGPT-Next-Web (status 404)\n"
     ]
    },
    {
     "name": "stderr",
     "output_type": "stream",
     "text": [
      "Processing forks:  92%|█████████▏| 458/500 [00:02<00:00, 153.76it/s]"
     ]
    },
    {
     "name": "stdout",
     "output_type": "stream",
     "text": [
      "⚠️  Could not fetch master.zip for kunkuner18/ChatGPT-Next-Web (status 404)\n",
      "⚠️  Could not fetch main.zip for LQYto99/ChatGPT-Next-Web (status 404)\n"
     ]
    },
    {
     "name": "stderr",
     "output_type": "stream",
     "text": [
      "Processing forks: 100%|██████████| 500/500 [00:02<00:00, 181.40it/s]\n"
     ]
    },
    {
     "name": "stdout",
     "output_type": "stream",
     "text": [
      "⚠️  Could not fetch master.zip for LQYto99/ChatGPT-Next-Web (status 404)\n",
      "Batch: 39500\n"
     ]
    },
    {
     "name": "stderr",
     "output_type": "stream",
     "text": [
      "Processing forks:  25%|██▍       | 123/500 [00:00<00:01, 297.58it/s]"
     ]
    },
    {
     "name": "stdout",
     "output_type": "stream",
     "text": [
      "⚠️  Could not fetch main.zip for yuaaaaan2/ChatGPT-Next-Web (status 404)\n",
      "⚠️  Could not fetch master.zip for yuaaaaan2/ChatGPT-Next-Web (status 404)\n",
      "⚠️  Could not fetch main.zip for whc-aicode/ChatGPT-Next-Web (status 404)\n"
     ]
    },
    {
     "name": "stderr",
     "output_type": "stream",
     "text": [
      "Processing forks:  37%|███▋      | 186/500 [00:00<00:01, 210.84it/s]"
     ]
    },
    {
     "name": "stdout",
     "output_type": "stream",
     "text": [
      "⚠️  Could not fetch master.zip for whc-aicode/ChatGPT-Next-Web (status 404)\n",
      "⚠️  Could not fetch main.zip for linanwen/ChatGPT-Next-Web (status 404)\n"
     ]
    },
    {
     "name": "stderr",
     "output_type": "stream",
     "text": [
      "Processing forks:  42%|████▏     | 208/500 [00:01<00:01, 146.34it/s]"
     ]
    },
    {
     "name": "stdout",
     "output_type": "stream",
     "text": [
      "⚠️  Could not fetch master.zip for linanwen/ChatGPT-Next-Web (status 404)\n",
      "⚠️  Could not fetch main.zip for 5l1v3r1/ChatGPT-Next-Web (status 404)\n"
     ]
    },
    {
     "name": "stderr",
     "output_type": "stream",
     "text": [
      "Processing forks:  52%|█████▏    | 259/500 [00:01<00:01, 161.35it/s]"
     ]
    },
    {
     "name": "stdout",
     "output_type": "stream",
     "text": [
      "⚠️  Could not fetch master.zip for 5l1v3r1/ChatGPT-Next-Web (status 404)\n"
     ]
    },
    {
     "name": "stderr",
     "output_type": "stream",
     "text": [
      "Processing forks:  71%|███████   | 353/500 [00:01<00:00, 188.14it/s]"
     ]
    },
    {
     "name": "stdout",
     "output_type": "stream",
     "text": [
      "⚠️  Could not fetch main.zip for jianghzzz/ChatGPT-Next-Web (status 404)\n",
      "⚠️  Could not fetch master.zip for jianghzzz/ChatGPT-Next-Web (status 404)\n"
     ]
    },
    {
     "name": "stderr",
     "output_type": "stream",
     "text": [
      "Processing forks: 100%|██████████| 500/500 [00:01<00:00, 258.49it/s]\n"
     ]
    },
    {
     "name": "stdout",
     "output_type": "stream",
     "text": [
      "Batch: 40000\n"
     ]
    },
    {
     "name": "stderr",
     "output_type": "stream",
     "text": [
      "Processing forks:   0%|          | 0/500 [00:00<?, ?it/s]"
     ]
    },
    {
     "name": "stdout",
     "output_type": "stream",
     "text": [
      "⚠️  Could not fetch main.zip for wmypg/ChatGPT-Next-Web (status 404)\n"
     ]
    },
    {
     "name": "stderr",
     "output_type": "stream",
     "text": [
      "Processing forks:   1%|          | 6/500 [00:00<00:28, 17.60it/s]"
     ]
    },
    {
     "name": "stdout",
     "output_type": "stream",
     "text": [
      "⚠️  Could not fetch master.zip for wmypg/ChatGPT-Next-Web (status 404)\n",
      "⚠️  Could not fetch main.zip for go5aeg/ChatGPT-Next-Web (status 404)\n"
     ]
    },
    {
     "name": "stderr",
     "output_type": "stream",
     "text": [
      "Processing forks:  16%|█▋        | 82/500 [00:00<00:03, 123.12it/s]"
     ]
    },
    {
     "name": "stdout",
     "output_type": "stream",
     "text": [
      "⚠️  Could not fetch master.zip for go5aeg/ChatGPT-Next-Web (status 404)\n",
      "⚠️  Could not fetch main.zip for Savantank/ChatGPT-Next-Web (status 404)\n"
     ]
    },
    {
     "name": "stderr",
     "output_type": "stream",
     "text": [
      "Processing forks:  65%|██████▌   | 326/500 [00:01<00:00, 316.35it/s]"
     ]
    },
    {
     "name": "stdout",
     "output_type": "stream",
     "text": [
      "⚠️  Could not fetch master.zip for Savantank/ChatGPT-Next-Web (status 404)\n",
      "⚠️  Could not fetch main.zip for b8sb2521233/ChatGPT-Next-Web (status 404)\n"
     ]
    },
    {
     "name": "stderr",
     "output_type": "stream",
     "text": [
      "Processing forks:  71%|███████   | 355/500 [00:01<00:00, 233.85it/s]"
     ]
    },
    {
     "name": "stdout",
     "output_type": "stream",
     "text": [
      "⚠️  Could not fetch master.zip for b8sb2521233/ChatGPT-Next-Web (status 404)\n"
     ]
    },
    {
     "name": "stderr",
     "output_type": "stream",
     "text": [
      "Processing forks:  82%|████████▏ | 412/500 [00:01<00:00, 208.33it/s]"
     ]
    },
    {
     "name": "stdout",
     "output_type": "stream",
     "text": [
      "⚠️  Could not fetch main.zip for Sylizee/ChatGPT-Next-Web (status 404)\n",
      "⚠️  Could not fetch master.zip for Sylizee/ChatGPT-Next-Web (status 404)\n"
     ]
    },
    {
     "name": "stderr",
     "output_type": "stream",
     "text": [
      "Processing forks:  86%|████████▌ | 431/500 [00:02<00:00, 155.53it/s]"
     ]
    },
    {
     "name": "stdout",
     "output_type": "stream",
     "text": [
      "⚠️  Could not fetch main.zip for douyin111/ChatGPT-Next-Web (status 404)\n",
      "⚠️  Could not fetch master.zip for douyin111/ChatGPT-Next-Web (status 404)\n",
      "⚠️  Could not fetch main.zip for gohomegohomego/ChatGPT-Next-Web (status 404)\n",
      "⚠️  Could not fetch master.zip for gohomegohomego/ChatGPT-Next-Web (status 404)\n"
     ]
    },
    {
     "name": "stderr",
     "output_type": "stream",
     "text": [
      "Processing forks:  89%|████████▉ | 446/500 [00:03<00:00, 90.33it/s] "
     ]
    },
    {
     "name": "stdout",
     "output_type": "stream",
     "text": [
      "⚠️  Could not fetch main.zip for nikanjintianhenhao/ChatGPT-Next-Web (status 404)\n",
      "⚠️  Could not fetch master.zip for nikanjintianhenhao/ChatGPT-Next-Web (status 404)\n",
      "⚠️  Could not fetch main.zip for nikanjintiantianqibucuo/ChatGPT-Next-Web (status 404)\n",
      "⚠️  Could not fetch master.zip for nikanjintiantianqibucuo/ChatGPT-Next-Web (status 404)\n"
     ]
    },
    {
     "name": "stderr",
     "output_type": "stream",
     "text": [
      "Processing forks: 100%|██████████| 500/500 [00:03<00:00, 131.39it/s]\n"
     ]
    },
    {
     "name": "stdout",
     "output_type": "stream",
     "text": [
      "⚠️  Could not fetch main.zip for kofsky/ChatGPT-Next-Web (status 404)\n",
      "⚠️  Could not fetch master.zip for kofsky/ChatGPT-Next-Web (status 404)\n",
      "Batch: 40500\n"
     ]
    },
    {
     "name": "stderr",
     "output_type": "stream",
     "text": [
      "Processing forks:   3%|▎         | 17/500 [00:00<00:10, 47.56it/s]"
     ]
    },
    {
     "name": "stdout",
     "output_type": "stream",
     "text": [
      "⚠️  Could not fetch main.zip for jackcheng2050/ChatGPT-Next-Web (status 404)\n",
      "⚠️  Could not fetch master.zip for jackcheng2050/ChatGPT-Next-Web (status 404)\n"
     ]
    },
    {
     "name": "stderr",
     "output_type": "stream",
     "text": [
      "Processing forks:  43%|████▎     | 217/500 [00:00<00:00, 336.90it/s]"
     ]
    },
    {
     "name": "stdout",
     "output_type": "stream",
     "text": [
      "⚠️  Could not fetch main.zip for bjbbet/ChatGPT-Next-Web (status 404)\n",
      "⚠️  Could not fetch master.zip for bjbbet/ChatGPT-Next-Web (status 404)\n",
      "⚠️  Could not fetch main.zip for XuZhijun123/ChatGPT-Next-Web (status 404)\n",
      "⚠️  Could not fetch master.zip for XuZhijun123/ChatGPT-Next-Web (status 404)\n"
     ]
    },
    {
     "name": "stderr",
     "output_type": "stream",
     "text": [
      "Processing forks:  55%|█████▍    | 274/500 [00:01<00:01, 159.02it/s]"
     ]
    },
    {
     "name": "stdout",
     "output_type": "stream",
     "text": [
      "⚠️  Could not fetch main.zip for zbmikisen/ChatGPT-Next-Web (status 404)\n",
      "⚠️  Could not fetch master.zip for zbmikisen/ChatGPT-Next-Web (status 404)\n"
     ]
    },
    {
     "name": "stderr",
     "output_type": "stream",
     "text": [
      "Processing forks:  59%|█████▉    | 295/500 [00:01<00:01, 124.95it/s]"
     ]
    },
    {
     "name": "stdout",
     "output_type": "stream",
     "text": [
      "⚠️  Could not fetch main.zip for orcshk/ChatGPT-Next-Web (status 404)\n",
      "⚠️  Could not fetch master.zip for orcshk/ChatGPT-Next-Web (status 404)\n"
     ]
    },
    {
     "name": "stderr",
     "output_type": "stream",
     "text": [
      "Processing forks:  63%|██████▎   | 317/500 [00:02<00:01, 104.09it/s]"
     ]
    },
    {
     "name": "stdout",
     "output_type": "stream",
     "text": [
      "⚠️  Could not fetch main.zip for walre1301/ChatGPT-Next-Web (status 404)\n",
      "⚠️  Could not fetch master.zip for walre1301/ChatGPT-Next-Web (status 404)\n"
     ]
    },
    {
     "name": "stderr",
     "output_type": "stream",
     "text": [
      "Processing forks:  66%|██████▌   | 328/500 [00:02<00:02, 80.95it/s] "
     ]
    },
    {
     "name": "stdout",
     "output_type": "stream",
     "text": [
      "⚠️  Could not fetch main.zip for rsniubi/Chat (status 404)\n",
      "⚠️  Could not fetch master.zip for rsniubi/Chat (status 404)\n"
     ]
    },
    {
     "name": "stderr",
     "output_type": "stream",
     "text": [
      "Processing forks:  67%|██████▋   | 336/500 [00:02<00:02, 61.68it/s]"
     ]
    },
    {
     "name": "stdout",
     "output_type": "stream",
     "text": [
      "⚠️  Could not fetch main.zip for rsniubi/gpt (status 404)\n",
      "⚠️  Could not fetch master.zip for rsniubi/gpt (status 404)\n"
     ]
    },
    {
     "name": "stderr",
     "output_type": "stream",
     "text": [
      "Processing forks:  70%|██████▉   | 349/500 [00:03<00:02, 54.12it/s]"
     ]
    },
    {
     "name": "stdout",
     "output_type": "stream",
     "text": [
      "⚠️  Could not fetch main.zip for chatgpt2000/ChatGPT-Next-Web (status 404)\n",
      "⚠️  Could not fetch master.zip for chatgpt2000/ChatGPT-Next-Web (status 404)\n"
     ]
    },
    {
     "name": "stderr",
     "output_type": "stream",
     "text": [
      "Processing forks: 100%|██████████| 500/500 [00:03<00:00, 136.39it/s]"
     ]
    },
    {
     "name": "stdout",
     "output_type": "stream",
     "text": [
      "⚠️  Could not fetch main.zip for michael-private-jiang/ChatGPT-Next-Web (status 404)\n",
      "⚠️  Could not fetch master.zip for michael-private-jiang/ChatGPT-Next-Web (status 404)\n"
     ]
    },
    {
     "name": "stderr",
     "output_type": "stream",
     "text": [
      "\n"
     ]
    },
    {
     "name": "stdout",
     "output_type": "stream",
     "text": [
      "Batch: 41000\n"
     ]
    },
    {
     "name": "stderr",
     "output_type": "stream",
     "text": [
      "Processing forks:  40%|███▉      | 199/500 [00:00<00:00, 497.47it/s]"
     ]
    },
    {
     "name": "stdout",
     "output_type": "stream",
     "text": [
      "⚠️  Could not fetch main.zip for DEARENDWANG/ChatGPT-Next-Web (status 404)\n",
      "⚠️  Could not fetch master.zip for DEARENDWANG/ChatGPT-Next-Web (status 404)\n"
     ]
    },
    {
     "name": "stderr",
     "output_type": "stream",
     "text": [
      "Processing forks:  50%|████▉     | 249/500 [00:00<00:00, 282.72it/s]"
     ]
    },
    {
     "name": "stdout",
     "output_type": "stream",
     "text": [
      "⚠️  Could not fetch main.zip for wyz-gz/ChatGPT-Next-Web (status 404)\n",
      "⚠️  Could not fetch master.zip for wyz-gz/ChatGPT-Next-Web (status 404)\n"
     ]
    },
    {
     "name": "stderr",
     "output_type": "stream",
     "text": [
      "Processing forks:  60%|█████▉    | 298/500 [00:01<00:00, 215.34it/s]"
     ]
    },
    {
     "name": "stdout",
     "output_type": "stream",
     "text": [
      "⚠️  Could not fetch main.zip for Coisinilanan/ChatGPT-Next-Web (status 404)\n",
      "⚠️  Could not fetch master.zip for Coisinilanan/ChatGPT-Next-Web (status 404)\n"
     ]
    },
    {
     "name": "stderr",
     "output_type": "stream",
     "text": [
      "Processing forks:  64%|██████▍   | 321/500 [00:01<00:01, 158.47it/s]"
     ]
    },
    {
     "name": "stdout",
     "output_type": "stream",
     "text": [
      "⚠️  Could not fetch main.zip for rsniubi/ChatGPT (status 404)\n",
      "⚠️  Could not fetch master.zip for rsniubi/ChatGPT (status 404)\n"
     ]
    },
    {
     "name": "stderr",
     "output_type": "stream",
     "text": [
      "Processing forks:  74%|███████▍  | 372/500 [00:01<00:00, 150.89it/s]"
     ]
    },
    {
     "name": "stdout",
     "output_type": "stream",
     "text": [
      "⚠️  Could not fetch main.zip for renderuserproxies/ChatGPT-Next-Web (status 404)\n",
      "⚠️  Could not fetch master.zip for renderuserproxies/ChatGPT-Next-Web (status 404)\n"
     ]
    },
    {
     "name": "stderr",
     "output_type": "stream",
     "text": [
      "Processing forks: 100%|██████████| 500/500 [00:01<00:00, 257.03it/s]\n"
     ]
    },
    {
     "name": "stdout",
     "output_type": "stream",
     "text": [
      "Batch: 41500\n"
     ]
    },
    {
     "name": "stderr",
     "output_type": "stream",
     "text": [
      "Processing forks:   0%|          | 0/500 [00:00<?, ?it/s]"
     ]
    },
    {
     "name": "stdout",
     "output_type": "stream",
     "text": [
      "⚠️  Could not fetch main.zip for 738383838383838-50782199-mesh163-38-4/ChatGPT-Next-Web (status 404)\n"
     ]
    },
    {
     "name": "stderr",
     "output_type": "stream",
     "text": [
      "Processing forks:   1%|          | 5/500 [00:00<00:33, 14.72it/s]"
     ]
    },
    {
     "name": "stdout",
     "output_type": "stream",
     "text": [
      "⚠️  Could not fetch master.zip for 738383838383838-50782199-mesh163-38-4/ChatGPT-Next-Web (status 404)\n"
     ]
    },
    {
     "name": "stderr",
     "output_type": "stream",
     "text": [
      "Processing forks:   9%|▉         | 44/500 [00:00<00:06, 67.53it/s]"
     ]
    },
    {
     "name": "stdout",
     "output_type": "stream",
     "text": [
      "⚠️  Could not fetch main.zip for dickwong371/ChatGPT-Next-Web (status 404)\n",
      "⚠️  Could not fetch master.zip for dickwong371/ChatGPT-Next-Web (status 404)\n"
     ]
    },
    {
     "name": "stderr",
     "output_type": "stream",
     "text": [
      "Processing forks:  14%|█▍        | 69/500 [00:01<00:06, 68.49it/s]"
     ]
    },
    {
     "name": "stdout",
     "output_type": "stream",
     "text": [
      "⚠️  Could not fetch main.zip for XiaoDcopilot/ChatGPT-Next-Web (status 404)\n",
      "⚠️  Could not fetch master.zip for XiaoDcopilot/ChatGPT-Next-Web (status 404)\n"
     ]
    },
    {
     "name": "stderr",
     "output_type": "stream",
     "text": [
      "Processing forks:  21%|██        | 105/500 [00:01<00:05, 78.56it/s]"
     ]
    },
    {
     "name": "stdout",
     "output_type": "stream",
     "text": [
      "⚠️  Could not fetch main.zip for borphi/ChatGPT-Next-Web (status 404)\n",
      "⚠️  Could not fetch master.zip for borphi/ChatGPT-Next-Web (status 404)\n"
     ]
    },
    {
     "name": "stderr",
     "output_type": "stream",
     "text": [
      "Processing forks:  38%|███▊      | 191/500 [00:01<00:02, 131.42it/s]"
     ]
    },
    {
     "name": "stdout",
     "output_type": "stream",
     "text": [
      "⚠️  Could not fetch main.zip for coolfirewang/ChatGPT-Next-Web (status 404)\n",
      "⚠️  Could not fetch master.zip for coolfirewang/ChatGPT-Next-Web (status 404)\n"
     ]
    },
    {
     "name": "stderr",
     "output_type": "stream",
     "text": [
      "Processing forks:  41%|████▏     | 207/500 [00:02<00:02, 102.19it/s]"
     ]
    },
    {
     "name": "stdout",
     "output_type": "stream",
     "text": [
      "⚠️  Could not fetch main.zip for hhyyr94/ChatGPT-Next-Web (status 404)\n",
      "⚠️  Could not fetch master.zip for hhyyr94/ChatGPT-Next-Web (status 404)\n"
     ]
    },
    {
     "name": "stderr",
     "output_type": "stream",
     "text": [
      "Processing forks:  63%|██████▎   | 316/500 [00:02<00:01, 162.18it/s]"
     ]
    },
    {
     "name": "stdout",
     "output_type": "stream",
     "text": [
      "⚠️  Could not fetch main.zip for granatik/ChatGPT-Next-Webcopy (status 404)\n",
      "⚠️  Could not fetch master.zip for granatik/ChatGPT-Next-Webcopy (status 404)\n"
     ]
    },
    {
     "name": "stderr",
     "output_type": "stream",
     "text": [
      "Processing forks:  76%|███████▋  | 382/500 [00:03<00:00, 165.22it/s]"
     ]
    },
    {
     "name": "stdout",
     "output_type": "stream",
     "text": [
      "⚠️  Could not fetch main.zip for panduola5566yy/ChatGPT-Next-Web (status 404)\n",
      "⚠️  Could not fetch master.zip for panduola5566yy/ChatGPT-Next-Web (status 404)\n"
     ]
    },
    {
     "name": "stderr",
     "output_type": "stream",
     "text": [
      "Processing forks: 100%|██████████| 500/500 [00:03<00:00, 146.50it/s]\n"
     ]
    },
    {
     "name": "stdout",
     "output_type": "stream",
     "text": [
      "⚠️  Could not fetch main.zip for Fun-P/ChatGPT-Next-Web (status 404)\n",
      "⚠️  Could not fetch master.zip for Fun-P/ChatGPT-Next-Web (status 404)\n",
      "Batch: 42000\n"
     ]
    },
    {
     "name": "stderr",
     "output_type": "stream",
     "text": [
      "Processing forks:   2%|▏         | 10/500 [00:00<00:16, 30.18it/s]"
     ]
    },
    {
     "name": "stdout",
     "output_type": "stream",
     "text": [
      "⚠️  Could not fetch main.zip for EvanWang18/ChatGPT-Next-Web (status 404)\n",
      "⚠️  Could not fetch master.zip for EvanWang18/ChatGPT-Next-Web (status 404)\n"
     ]
    },
    {
     "name": "stderr",
     "output_type": "stream",
     "text": [
      "Processing forks:  38%|███▊      | 191/500 [00:00<00:01, 297.15it/s]"
     ]
    },
    {
     "name": "stdout",
     "output_type": "stream",
     "text": [
      "⚠️  Could not fetch main.zip for gfzhsh/ChatGPT-Next-Web (status 404)\n",
      "⚠️  Could not fetch master.zip for gfzhsh/ChatGPT-Next-Web (status 404)\n"
     ]
    },
    {
     "name": "stderr",
     "output_type": "stream",
     "text": [
      "Processing forks:  47%|████▋     | 233/500 [00:01<00:01, 213.96it/s]"
     ]
    },
    {
     "name": "stdout",
     "output_type": "stream",
     "text": [
      "⚠️  Could not fetch main.zip for KayLxa/ChatGPT-Next-Web (status 404)\n",
      "⚠️  Could not fetch master.zip for KayLxa/ChatGPT-Next-Web (status 404)\n",
      "⚠️  Could not fetch main.zip for liaodaofei/ChatGPT-Next-Web (status 404)\n"
     ]
    },
    {
     "name": "stderr",
     "output_type": "stream",
     "text": [
      "Processing forks:  51%|█████     | 254/500 [00:01<00:02, 119.27it/s]"
     ]
    },
    {
     "name": "stdout",
     "output_type": "stream",
     "text": [
      "⚠️  Could not fetch master.zip for liaodaofei/ChatGPT-Next-Web (status 404)\n"
     ]
    },
    {
     "name": "stderr",
     "output_type": "stream",
     "text": [
      "Processing forks:  65%|██████▍   | 323/500 [00:02<00:01, 138.01it/s]"
     ]
    },
    {
     "name": "stdout",
     "output_type": "stream",
     "text": [
      "⚠️  Could not fetch main.zip for fenglkytwe/ChatGPT-Next-Web (status 404)\n",
      "⚠️  Could not fetch master.zip for fenglkytwe/ChatGPT-Next-Web (status 404)\n"
     ]
    },
    {
     "name": "stderr",
     "output_type": "stream",
     "text": [
      "Processing forks:  70%|███████   | 350/500 [00:02<00:01, 117.99it/s]"
     ]
    },
    {
     "name": "stdout",
     "output_type": "stream",
     "text": [
      "⚠️  Could not fetch main.zip for ScarlDi/ChatGPT-Next-Web (status 404)\n",
      "⚠️  Could not fetch master.zip for ScarlDi/ChatGPT-Next-Web (status 404)\n"
     ]
    },
    {
     "name": "stderr",
     "output_type": "stream",
     "text": [
      "Processing forks:  73%|███████▎  | 363/500 [00:02<00:01, 93.88it/s] "
     ]
    },
    {
     "name": "stdout",
     "output_type": "stream",
     "text": [
      "⚠️  Could not fetch main.zip for ArashPython7/ChatGPT-Next-Web (status 404)\n",
      "⚠️  Could not fetch master.zip for ArashPython7/ChatGPT-Next-Web (status 404)\n"
     ]
    },
    {
     "name": "stderr",
     "output_type": "stream",
     "text": [
      "Processing forks: 100%|██████████| 500/500 [00:03<00:00, 154.10it/s]\n"
     ]
    },
    {
     "name": "stdout",
     "output_type": "stream",
     "text": [
      "⚠️  Could not fetch main.zip for richardniu39/ChatGPT-Next-Web (status 404)\n",
      "⚠️  Could not fetch master.zip for richardniu39/ChatGPT-Next-Web (status 404)\n",
      "Batch: 42500\n"
     ]
    },
    {
     "name": "stderr",
     "output_type": "stream",
     "text": [
      "Processing forks:  34%|███▍      | 171/500 [00:00<00:00, 438.41it/s]"
     ]
    },
    {
     "name": "stdout",
     "output_type": "stream",
     "text": [
      "⚠️  Could not fetch main.zip for ValeyOfcas/ChatGPT-Next-Web (status 404)\n",
      "⚠️  Could not fetch master.zip for ValeyOfcas/ChatGPT-Next-Web (status 404)\n",
      "⚠️  Could not fetch main.zip for AriyantoYulinur/ChatGPT-Next-Web (status 404)\n"
     ]
    },
    {
     "name": "stderr",
     "output_type": "stream",
     "text": [
      "Processing forks:  43%|████▎     | 215/500 [00:00<00:01, 234.13it/s]"
     ]
    },
    {
     "name": "stdout",
     "output_type": "stream",
     "text": [
      "⚠️  Could not fetch master.zip for AriyantoYulinur/ChatGPT-Next-Web (status 404)\n",
      "⚠️  Could not fetch main.zip for ljrong2023/ChatGPT-Next-Web (status 404)\n"
     ]
    },
    {
     "name": "stderr",
     "output_type": "stream",
     "text": [
      "Processing forks:  48%|████▊     | 240/500 [00:01<00:01, 163.44it/s]"
     ]
    },
    {
     "name": "stdout",
     "output_type": "stream",
     "text": [
      "⚠️  Could not fetch master.zip for ljrong2023/ChatGPT-Next-Web (status 404)\n",
      "⚠️  Could not fetch main.zip for 1435x/ChatGPT-Next-Web (status 404)\n"
     ]
    },
    {
     "name": "stderr",
     "output_type": "stream",
     "text": [
      "Processing forks:  52%|█████▏    | 260/500 [00:01<00:01, 122.88it/s]"
     ]
    },
    {
     "name": "stdout",
     "output_type": "stream",
     "text": [
      "⚠️  Could not fetch master.zip for 1435x/ChatGPT-Next-Web (status 404)\n"
     ]
    },
    {
     "name": "stderr",
     "output_type": "stream",
     "text": [
      "Processing forks:  81%|████████▏ | 407/500 [00:01<00:00, 211.35it/s]"
     ]
    },
    {
     "name": "stdout",
     "output_type": "stream",
     "text": [
      "⚠️  Could not fetch main.zip for xxjmail/ChatGPT-Next-Web (status 404)\n",
      "⚠️  Could not fetch master.zip for xxjmail/ChatGPT-Next-Web (status 404)\n"
     ]
    },
    {
     "name": "stderr",
     "output_type": "stream",
     "text": [
      "Processing forks:  86%|████████▌ | 428/500 [00:02<00:00, 161.65it/s]"
     ]
    },
    {
     "name": "stdout",
     "output_type": "stream",
     "text": [
      "⚠️  Could not fetch main.zip for chuck1225/ChatGPT-Next-Web (status 404)\n",
      "⚠️  Could not fetch master.zip for chuck1225/ChatGPT-Next-Web (status 404)\n"
     ]
    },
    {
     "name": "stderr",
     "output_type": "stream",
     "text": [
      "Processing forks: 100%|██████████| 500/500 [00:02<00:00, 184.80it/s]"
     ]
    },
    {
     "name": "stdout",
     "output_type": "stream",
     "text": [
      "⚠️  Could not fetch main.zip for Jetjet51/ChatGPT-Next-Web (status 404)\n",
      "⚠️  Could not fetch master.zip for Jetjet51/ChatGPT-Next-Web (status 404)\n"
     ]
    },
    {
     "name": "stderr",
     "output_type": "stream",
     "text": [
      "\n"
     ]
    },
    {
     "name": "stdout",
     "output_type": "stream",
     "text": [
      "Batch: 43000\n"
     ]
    },
    {
     "name": "stderr",
     "output_type": "stream",
     "text": [
      "Processing forks:  25%|██▌       | 127/500 [00:00<00:01, 326.08it/s]"
     ]
    },
    {
     "name": "stdout",
     "output_type": "stream",
     "text": [
      "⚠️  Could not fetch main.zip for NekomiyaShizuku/ChatGPT-Next-Web (status 404)\n",
      "⚠️  Could not fetch master.zip for NekomiyaShizuku/ChatGPT-Next-Web (status 404)\n",
      "⚠️  Could not fetch main.zip for 3lominapi/ChatGPT-Next-Web (status 404)\n",
      "⚠️  Could not fetch master.zip for 3lominapi/ChatGPT-Next-Web (status 404)\n",
      "⚠️  Could not fetch main.zip for 1lasuWmonsza/ChatGPT-Next-Web (status 404)\n",
      "⚠️  Could not fetch master.zip for 1lasuWmonsza/ChatGPT-Next-Web (status 404)\n"
     ]
    },
    {
     "name": "stderr",
     "output_type": "stream",
     "text": [
      "Processing forks:  32%|███▏      | 160/500 [00:01<00:04, 73.43it/s] "
     ]
    },
    {
     "name": "stdout",
     "output_type": "stream",
     "text": [
      "⚠️  Could not fetch main.zip for 7ralumliara/ChatGPT-Next-Web (status 404)\n",
      "⚠️  Could not fetch master.zip for 7ralumliara/ChatGPT-Next-Web (status 404)\n",
      "⚠️  Could not fetch main.zip for 1opinKcuncgu/ChatGPT-Next-Web (status 404)\n",
      "⚠️  Could not fetch master.zip for 1opinKcuncgu/ChatGPT-Next-Web (status 404)\n"
     ]
    },
    {
     "name": "stderr",
     "output_type": "stream",
     "text": [
      "Processing forks:  35%|███▌      | 175/500 [00:02<00:05, 54.68it/s]"
     ]
    },
    {
     "name": "stdout",
     "output_type": "stream",
     "text": [
      "⚠️  Could not fetch main.zip for 7metsiAnewa/ChatGPT-Next-Web (status 404)\n",
      "⚠️  Could not fetch master.zip for 7metsiAnewa/ChatGPT-Next-Web (status 404)\n"
     ]
    },
    {
     "name": "stderr",
     "output_type": "stream",
     "text": [
      "Processing forks:  37%|███▋      | 185/500 [00:02<00:06, 49.14it/s]"
     ]
    },
    {
     "name": "stdout",
     "output_type": "stream",
     "text": [
      "⚠️  Could not fetch main.zip for 8supppehypsa/ChatGPT-Next-Web (status 404)\n",
      "⚠️  Could not fetch master.zip for 8supppehypsa/ChatGPT-Next-Web (status 404)\n"
     ]
    },
    {
     "name": "stderr",
     "output_type": "stream",
     "text": [
      "Processing forks:  41%|████▏     | 207/500 [00:03<00:05, 51.63it/s]"
     ]
    },
    {
     "name": "stdout",
     "output_type": "stream",
     "text": [
      "⚠️  Could not fetch main.zip for atsaYrompgo/ChatGPT-Next-Web (status 404)\n",
      "⚠️  Could not fetch master.zip for atsaYrompgo/ChatGPT-Next-Web (status 404)\n"
     ]
    },
    {
     "name": "stderr",
     "output_type": "stream",
     "text": [
      "Processing forks:  45%|████▍     | 223/500 [00:03<00:05, 50.50it/s]"
     ]
    },
    {
     "name": "stdout",
     "output_type": "stream",
     "text": [
      "⚠️  Could not fetch main.zip for incatincmi/ChatGPT-Next-Web (status 404)\n",
      "⚠️  Could not fetch master.zip for incatincmi/ChatGPT-Next-Web (status 404)\n"
     ]
    },
    {
     "name": "stderr",
     "output_type": "stream",
     "text": [
      "Processing forks:  49%|████▉     | 245/500 [00:03<00:04, 53.42it/s]"
     ]
    },
    {
     "name": "stdout",
     "output_type": "stream",
     "text": [
      "⚠️  Could not fetch main.zip for aftuquoyu/ChatGPT-Next-Web (status 404)\n",
      "⚠️  Could not fetch master.zip for aftuquoyu/ChatGPT-Next-Web (status 404)\n",
      "⚠️  Could not fetch main.zip for ficilOnaeku/ChatGPT-Next-Web (status 404)\n"
     ]
    },
    {
     "name": "stderr",
     "output_type": "stream",
     "text": [
      "Processing forks:  51%|█████     | 253/500 [00:04<00:06, 37.25it/s]"
     ]
    },
    {
     "name": "stdout",
     "output_type": "stream",
     "text": [
      "⚠️  Could not fetch master.zip for ficilOnaeku/ChatGPT-Next-Web (status 404)\n",
      "⚠️  Could not fetch main.zip for caopengfei2023/ChatGPT-Next-Web (status 404)\n"
     ]
    },
    {
     "name": "stderr",
     "output_type": "stream",
     "text": [
      "Processing forks:  52%|█████▏    | 262/500 [00:04<00:06, 34.51it/s]"
     ]
    },
    {
     "name": "stdout",
     "output_type": "stream",
     "text": [
      "⚠️  Could not fetch master.zip for caopengfei2023/ChatGPT-Next-Web (status 404)\n"
     ]
    },
    {
     "name": "stderr",
     "output_type": "stream",
     "text": [
      "Processing forks:  64%|██████▍   | 319/500 [00:05<00:02, 65.87it/s]"
     ]
    },
    {
     "name": "stdout",
     "output_type": "stream",
     "text": [
      "⚠️  Could not fetch main.zip for caustinMsuffke/ChatGPT-Next-Web (status 404)\n",
      "⚠️  Could not fetch master.zip for caustinMsuffke/ChatGPT-Next-Web (status 404)\n"
     ]
    },
    {
     "name": "stderr",
     "output_type": "stream",
     "text": [
      "Processing forks:  67%|██████▋   | 334/500 [00:05<00:02, 60.07it/s]"
     ]
    },
    {
     "name": "stdout",
     "output_type": "stream",
     "text": [
      "⚠️  Could not fetch main.zip for 9contcecadzu/ChatGPT-Next-Web (status 404)\n",
      "⚠️  Could not fetch master.zip for 9contcecadzu/ChatGPT-Next-Web (status 404)\n",
      "⚠️  Could not fetch main.zip for theopimissji/ChatGPT-Next-Web (status 404)\n",
      "⚠️  Could not fetch master.zip for theopimissji/ChatGPT-Next-Web (status 404)\n"
     ]
    },
    {
     "name": "stderr",
     "output_type": "stream",
     "text": [
      "Processing forks:  68%|██████▊   | 341/500 [00:06<00:04, 38.33it/s]"
     ]
    },
    {
     "name": "stdout",
     "output_type": "stream",
     "text": [
      "⚠️  Could not fetch main.zip for dataZfirpa/ChatGPT-Next-Web (status 404)\n",
      "⚠️  Could not fetch master.zip for dataZfirpa/ChatGPT-Next-Web (status 404)\n"
     ]
    },
    {
     "name": "stderr",
     "output_type": "stream",
     "text": [
      "Processing forks:  70%|██████▉   | 349/500 [00:06<00:04, 34.52it/s]"
     ]
    },
    {
     "name": "stdout",
     "output_type": "stream",
     "text": [
      "⚠️  Could not fetch main.zip for lialierbu/ChatGPT-Next-Web (status 404)\n",
      "⚠️  Could not fetch master.zip for lialierbu/ChatGPT-Next-Web (status 404)\n"
     ]
    },
    {
     "name": "stderr",
     "output_type": "stream",
     "text": [
      "Processing forks:  82%|████████▏ | 408/500 [00:07<00:01, 65.96it/s]"
     ]
    },
    {
     "name": "stdout",
     "output_type": "stream",
     "text": [
      "⚠️  Could not fetch main.zip for 8destmisVlicne/ChatGPT-Next-Web (status 404)\n",
      "⚠️  Could not fetch master.zip for 8destmisVlicne/ChatGPT-Next-Web (status 404)\n"
     ]
    },
    {
     "name": "stderr",
     "output_type": "stream",
     "text": [
      "Processing forks:  83%|████████▎ | 416/500 [00:07<00:01, 54.65it/s]"
     ]
    },
    {
     "name": "stdout",
     "output_type": "stream",
     "text": [
      "⚠️  Could not fetch main.zip for inneoFconsi/ChatGPT-Next-Web (status 404)\n",
      "⚠️  Could not fetch master.zip for inneoFconsi/ChatGPT-Next-Web (status 404)\n"
     ]
    },
    {
     "name": "stderr",
     "output_type": "stream",
     "text": [
      "Processing forks:  86%|████████▌ | 431/500 [00:07<00:01, 50.63it/s]"
     ]
    },
    {
     "name": "stdout",
     "output_type": "stream",
     "text": [
      "⚠️  Could not fetch main.zip for punditiaji/ChatGPT-Next-Web (status 404)\n",
      "⚠️  Could not fetch master.zip for punditiaji/ChatGPT-Next-Web (status 404)\n"
     ]
    },
    {
     "name": "stderr",
     "output_type": "stream",
     "text": [
      "Processing forks:  89%|████████▊ | 443/500 [00:08<00:01, 46.49it/s]"
     ]
    },
    {
     "name": "stdout",
     "output_type": "stream",
     "text": [
      "⚠️  Could not fetch main.zip for 8liacaprudji/ChatGPT-Next-Web (status 404)\n",
      "⚠️  Could not fetch master.zip for 8liacaprudji/ChatGPT-Next-Web (status 404)\n"
     ]
    },
    {
     "name": "stderr",
     "output_type": "stream",
     "text": [
      "Processing forks:  92%|█████████▏| 461/500 [00:08<00:00, 47.48it/s]"
     ]
    },
    {
     "name": "stdout",
     "output_type": "stream",
     "text": [
      "⚠️  Could not fetch main.zip for 1umdistiobu/ChatGPT-Next-Web (status 404)\n",
      "⚠️  Could not fetch master.zip for 1umdistiobu/ChatGPT-Next-Web (status 404)\n",
      "⚠️  Could not fetch main.zip for subssaYcaeza/ChatGPT-Next-Web (status 404)\n",
      "⚠️  Could not fetch master.zip for subssaYcaeza/ChatGPT-Next-Web (status 404)\n",
      "⚠️  Could not fetch main.zip for sesdiOagpo/ChatGPT-Next-Web (status 404)\n"
     ]
    },
    {
     "name": "stderr",
     "output_type": "stream",
     "text": [
      "Processing forks:  93%|█████████▎| 466/500 [00:09<00:01, 28.94it/s]"
     ]
    },
    {
     "name": "stdout",
     "output_type": "stream",
     "text": [
      "⚠️  Could not fetch master.zip for sesdiOagpo/ChatGPT-Next-Web (status 404)\n",
      "⚠️  Could not fetch main.zip for ceniVsuaka/ChatGPT-Next-Web (status 404)\n"
     ]
    },
    {
     "name": "stderr",
     "output_type": "stream",
     "text": [
      "Processing forks:  94%|█████████▍| 470/500 [00:09<00:01, 25.11it/s]"
     ]
    },
    {
     "name": "stdout",
     "output_type": "stream",
     "text": [
      "⚠️  Could not fetch master.zip for ceniVsuaka/ChatGPT-Next-Web (status 404)\n",
      "⚠️  Could not fetch main.zip for festaturse/ChatGPT-Next-Web (status 404)\n"
     ]
    },
    {
     "name": "stderr",
     "output_type": "stream",
     "text": [
      "Processing forks:  95%|█████████▌| 477/500 [00:09<00:00, 23.85it/s]"
     ]
    },
    {
     "name": "stdout",
     "output_type": "stream",
     "text": [
      "⚠️  Could not fetch master.zip for festaturse/ChatGPT-Next-Web (status 404)\n",
      "⚠️  Could not fetch main.zip for 1abecconge/ChatGPT-Next-Web (status 404)\n"
     ]
    },
    {
     "name": "stderr",
     "output_type": "stream",
     "text": [
      "Processing forks:  97%|█████████▋| 483/500 [00:10<00:00, 22.08it/s]"
     ]
    },
    {
     "name": "stdout",
     "output_type": "stream",
     "text": [
      "⚠️  Could not fetch master.zip for 1abecconge/ChatGPT-Next-Web (status 404)\n",
      "⚠️  Could not fetch main.zip for 9nitmiFconcru/ChatGPT-Next-Web (status 404)\n"
     ]
    },
    {
     "name": "stderr",
     "output_type": "stream",
     "text": [
      "Processing forks:  98%|█████████▊| 491/500 [00:10<00:00, 22.62it/s]"
     ]
    },
    {
     "name": "stdout",
     "output_type": "stream",
     "text": [
      "⚠️  Could not fetch master.zip for 9nitmiFconcru/ChatGPT-Next-Web (status 404)\n",
      "⚠️  Could not fetch main.zip for tuiliMree/ChatGPT-Next-Web (status 404)\n"
     ]
    },
    {
     "name": "stderr",
     "output_type": "stream",
     "text": [
      "Processing forks:  99%|█████████▉| 494/500 [00:10<00:00, 18.78it/s]"
     ]
    },
    {
     "name": "stdout",
     "output_type": "stream",
     "text": [
      "⚠️  Could not fetch master.zip for tuiliMree/ChatGPT-Next-Web (status 404)\n",
      "⚠️  Could not fetch main.zip for tincsiXvismi/ChatGPT-Next-Web (status 404)\n"
     ]
    },
    {
     "name": "stderr",
     "output_type": "stream",
     "text": [
      "Processing forks:  99%|█████████▉| 496/500 [00:11<00:00, 15.05it/s]"
     ]
    },
    {
     "name": "stdout",
     "output_type": "stream",
     "text": [
      "⚠️  Could not fetch master.zip for tincsiXvismi/ChatGPT-Next-Web (status 404)\n",
      "⚠️  Could not fetch main.zip for 7terslengaeni/ChatGPT-Next-Web (status 404)\n"
     ]
    },
    {
     "name": "stderr",
     "output_type": "stream",
     "text": [
      "Processing forks: 100%|██████████| 500/500 [00:11<00:00, 42.39it/s]\n"
     ]
    },
    {
     "name": "stdout",
     "output_type": "stream",
     "text": [
      "⚠️  Could not fetch master.zip for 7terslengaeni/ChatGPT-Next-Web (status 404)\n",
      "Batch: 43500\n"
     ]
    },
    {
     "name": "stderr",
     "output_type": "stream",
     "text": [
      "Processing forks:   0%|          | 0/500 [00:00<?, ?it/s]"
     ]
    },
    {
     "name": "stdout",
     "output_type": "stream",
     "text": [
      "⚠️  Could not fetch main.zip for 9flocinvibi/ChatGPT-Next-Web (status 404)\n"
     ]
    },
    {
     "name": "stderr",
     "output_type": "stream",
     "text": [
      "Processing forks:   1%|▏         | 7/500 [00:00<00:24, 20.26it/s]"
     ]
    },
    {
     "name": "stdout",
     "output_type": "stream",
     "text": [
      "⚠️  Could not fetch master.zip for 9flocinvibi/ChatGPT-Next-Web (status 404)\n",
      "⚠️  Could not fetch main.zip for liahaunaphtra/ChatGPT-Next-Web (status 404)\n"
     ]
    },
    {
     "name": "stderr",
     "output_type": "stream",
     "text": [
      "Processing forks:   2%|▏         | 11/500 [00:00<00:31, 15.72it/s]"
     ]
    },
    {
     "name": "stdout",
     "output_type": "stream",
     "text": [
      "⚠️  Could not fetch master.zip for liahaunaphtra/ChatGPT-Next-Web (status 404)\n"
     ]
    },
    {
     "name": "stderr",
     "output_type": "stream",
     "text": [
      "Processing forks:   3%|▎         | 13/500 [00:01<00:48, 10.13it/s]"
     ]
    },
    {
     "name": "stdout",
     "output_type": "stream",
     "text": [
      "⚠️  Could not fetch main.zip for toybonnie-nicklost/ChatGPT-Next-Web (status 404)\n",
      "⚠️  Could not fetch master.zip for toybonnie-nicklost/ChatGPT-Next-Web (status 404)\n"
     ]
    },
    {
     "name": "stderr",
     "output_type": "stream",
     "text": [
      "Processing forks:   3%|▎         | 16/500 [00:01<00:50,  9.60it/s]"
     ]
    },
    {
     "name": "stdout",
     "output_type": "stream",
     "text": [
      "⚠️  Could not fetch main.zip for vipersona33maximen/ChatGPT-Next-Web (status 404)\n",
      "⚠️  Could not fetch master.zip for vipersona33maximen/ChatGPT-Next-Web (status 404)\n"
     ]
    },
    {
     "name": "stderr",
     "output_type": "stream",
     "text": [
      "Processing forks:   4%|▎         | 18/500 [00:01<00:58,  8.29it/s]"
     ]
    },
    {
     "name": "stdout",
     "output_type": "stream",
     "text": [
      "⚠️  Could not fetch main.zip for chewking1988/ChatGPT-Next-Web (status 404)\n",
      "⚠️  Could not fetch master.zip for chewking1988/ChatGPT-Next-Web (status 404)\n"
     ]
    },
    {
     "name": "stderr",
     "output_type": "stream",
     "text": [
      "Processing forks:   4%|▍         | 19/500 [00:02<01:13,  6.51it/s]"
     ]
    },
    {
     "name": "stdout",
     "output_type": "stream",
     "text": [
      "⚠️  Could not fetch main.zip for kreker98dika/ChatGPT-Next-Web (status 404)\n",
      "⚠️  Could not fetch master.zip for kreker98dika/ChatGPT-Next-Web (status 404)\n"
     ]
    },
    {
     "name": "stderr",
     "output_type": "stream",
     "text": [
      "Processing forks:   6%|▌         | 28/500 [00:02<00:38, 12.41it/s]"
     ]
    },
    {
     "name": "stdout",
     "output_type": "stream",
     "text": [
      "⚠️  Could not fetch main.zip for tavirsimpbo/ChatGPT-Next-Web (status 404)\n",
      "⚠️  Could not fetch master.zip for tavirsimpbo/ChatGPT-Next-Web (status 404)\n"
     ]
    },
    {
     "name": "stderr",
     "output_type": "stream",
     "text": [
      "Processing forks:   6%|▌         | 31/500 [00:02<00:41, 11.17it/s]"
     ]
    },
    {
     "name": "stdout",
     "output_type": "stream",
     "text": [
      "⚠️  Could not fetch main.zip for 7crusnatrucwa/ChatGPT-Next-Web (status 404)\n",
      "⚠️  Could not fetch master.zip for 7crusnatrucwa/ChatGPT-Next-Web (status 404)\n"
     ]
    },
    {
     "name": "stderr",
     "output_type": "stream",
     "text": [
      "Processing forks:   8%|▊         | 40/500 [00:03<00:29, 15.66it/s]"
     ]
    },
    {
     "name": "stdout",
     "output_type": "stream",
     "text": [
      "⚠️  Could not fetch main.zip for scurriKniani/ChatGPT-Next-Web (status 404)\n",
      "⚠️  Could not fetch master.zip for scurriKniani/ChatGPT-Next-Web (status 404)\n",
      "⚠️  Could not fetch main.zip for mrkat-generalworld/ChatGPT-Next-Web (status 404)\n",
      "⚠️  Could not fetch master.zip for mrkat-generalworld/ChatGPT-Next-Web (status 404)\n"
     ]
    },
    {
     "name": "stderr",
     "output_type": "stream",
     "text": [
      "Processing forks:  11%|█         | 53/500 [00:03<00:28, 15.81it/s]"
     ]
    },
    {
     "name": "stdout",
     "output_type": "stream",
     "text": [
      "⚠️  Could not fetch main.zip for 1inniacontru/ChatGPT-Next-Web (status 404)\n",
      "⚠️  Could not fetch master.zip for 1inniacontru/ChatGPT-Next-Web (status 404)\n"
     ]
    },
    {
     "name": "stderr",
     "output_type": "stream",
     "text": [
      "Processing forks:  11%|█         | 56/500 [00:04<00:32, 13.60it/s]"
     ]
    },
    {
     "name": "stdout",
     "output_type": "stream",
     "text": [
      "⚠️  Could not fetch main.zip for iwantican17freeman/ChatGPT-Next-Web (status 404)\n",
      "⚠️  Could not fetch master.zip for iwantican17freeman/ChatGPT-Next-Web (status 404)\n"
     ]
    },
    {
     "name": "stderr",
     "output_type": "stream",
     "text": [
      "Processing forks:  12%|█▏        | 59/500 [00:04<00:36, 12.10it/s]"
     ]
    },
    {
     "name": "stdout",
     "output_type": "stream",
     "text": [
      "⚠️  Could not fetch main.zip for kennywestwood/ChatGPT-Next-Web (status 404)\n",
      "⚠️  Could not fetch master.zip for kennywestwood/ChatGPT-Next-Web (status 404)\n"
     ]
    },
    {
     "name": "stderr",
     "output_type": "stream",
     "text": [
      "Processing forks:  12%|█▏        | 61/500 [00:04<00:42, 10.25it/s]"
     ]
    },
    {
     "name": "stdout",
     "output_type": "stream",
     "text": [
      "⚠️  Could not fetch main.zip for a411353600/ChatGPT-Next-Web (status 404)\n",
      "⚠️  Could not fetch master.zip for a411353600/ChatGPT-Next-Web (status 404)\n"
     ]
    },
    {
     "name": "stderr",
     "output_type": "stream",
     "text": [
      "Processing forks:  13%|█▎        | 67/500 [00:05<00:35, 12.25it/s]"
     ]
    },
    {
     "name": "stdout",
     "output_type": "stream",
     "text": [
      "⚠️  Could not fetch main.zip for ladyluck-1988/ChatGPT-Next-Web (status 404)\n",
      "⚠️  Could not fetch master.zip for ladyluck-1988/ChatGPT-Next-Web (status 404)\n"
     ]
    },
    {
     "name": "stderr",
     "output_type": "stream",
     "text": [
      "Processing forks:  20%|██        | 100/500 [00:05<00:11, 36.08it/s]"
     ]
    },
    {
     "name": "stdout",
     "output_type": "stream",
     "text": [
      "⚠️  Could not fetch main.zip for oncorenze/ChatGPT-Next-Web (status 404)\n",
      "⚠️  Could not fetch master.zip for oncorenze/ChatGPT-Next-Web (status 404)\n"
     ]
    },
    {
     "name": "stderr",
     "output_type": "stream",
     "text": [
      "Processing forks:  22%|██▏       | 108/500 [00:06<00:12, 32.12it/s]"
     ]
    },
    {
     "name": "stdout",
     "output_type": "stream",
     "text": [
      "⚠️  Could not fetch main.zip for beastgreen1988/ChatGPT-Next-Web (status 404)\n",
      "⚠️  Could not fetch master.zip for beastgreen1988/ChatGPT-Next-Web (status 404)\n"
     ]
    },
    {
     "name": "stderr",
     "output_type": "stream",
     "text": [
      "Processing forks:  23%|██▎       | 114/500 [00:06<00:13, 27.78it/s]"
     ]
    },
    {
     "name": "stdout",
     "output_type": "stream",
     "text": [
      "⚠️  Could not fetch main.zip for kingfisher-digal/ChatGPT-Next-Web (status 404)\n",
      "⚠️  Could not fetch master.zip for kingfisher-digal/ChatGPT-Next-Web (status 404)\n"
     ]
    },
    {
     "name": "stderr",
     "output_type": "stream",
     "text": [
      "Processing forks:  25%|██▌       | 126/500 [00:06<00:12, 30.20it/s]"
     ]
    },
    {
     "name": "stdout",
     "output_type": "stream",
     "text": [
      "⚠️  Could not fetch main.zip for brokollymeddywlair/ChatGPT-Next-Web (status 404)\n",
      "⚠️  Could not fetch master.zip for brokollymeddywlair/ChatGPT-Next-Web (status 404)\n"
     ]
    },
    {
     "name": "stderr",
     "output_type": "stream",
     "text": [
      "Processing forks:  26%|██▌       | 129/500 [00:07<00:16, 23.07it/s]"
     ]
    },
    {
     "name": "stdout",
     "output_type": "stream",
     "text": [
      "⚠️  Could not fetch main.zip for realblonde48gomery/ChatGPT-Next-Web (status 404)\n",
      "⚠️  Could not fetch master.zip for realblonde48gomery/ChatGPT-Next-Web (status 404)\n"
     ]
    },
    {
     "name": "stderr",
     "output_type": "stream",
     "text": [
      "Processing forks:  30%|███       | 150/500 [00:07<00:10, 33.27it/s]"
     ]
    },
    {
     "name": "stdout",
     "output_type": "stream",
     "text": [
      "⚠️  Could not fetch main.zip for 1suediaWdogi/ChatGPT-Next-Web (status 404)\n",
      "⚠️  Could not fetch master.zip for 1suediaWdogi/ChatGPT-Next-Web (status 404)\n"
     ]
    },
    {
     "name": "stderr",
     "output_type": "stream",
     "text": [
      "Processing forks:  34%|███▍      | 170/500 [00:07<00:08, 40.30it/s]"
     ]
    },
    {
     "name": "stdout",
     "output_type": "stream",
     "text": [
      "⚠️  Could not fetch main.zip for stelimFgramga/ChatGPT-Next-Web (status 404)\n",
      "⚠️  Could not fetch master.zip for stelimFgramga/ChatGPT-Next-Web (status 404)\n"
     ]
    },
    {
     "name": "stderr",
     "output_type": "stream",
     "text": [
      "Processing forks:  35%|███▌      | 176/500 [00:08<00:09, 33.58it/s]"
     ]
    },
    {
     "name": "stdout",
     "output_type": "stream",
     "text": [
      "⚠️  Could not fetch main.zip for blueberry265/ChatGPT-Next-Web (status 404)\n",
      "⚠️  Could not fetch master.zip for blueberry265/ChatGPT-Next-Web (status 404)\n"
     ]
    },
    {
     "name": "stderr",
     "output_type": "stream",
     "text": [
      "Processing forks:  37%|███▋      | 184/500 [00:08<00:10, 31.08it/s]"
     ]
    },
    {
     "name": "stdout",
     "output_type": "stream",
     "text": [
      "⚠️  Could not fetch main.zip for hantosman575/ChatGPT-Next-Web (status 404)\n",
      "⚠️  Could not fetch master.zip for hantosman575/ChatGPT-Next-Web (status 404)\n"
     ]
    },
    {
     "name": "stderr",
     "output_type": "stream",
     "text": [
      "Processing forks:  38%|███▊      | 188/500 [00:08<00:12, 25.11it/s]"
     ]
    },
    {
     "name": "stdout",
     "output_type": "stream",
     "text": [
      "⚠️  Could not fetch main.zip for doriron-1988/ChatGPT-Next-Web (status 404)\n",
      "⚠️  Could not fetch master.zip for doriron-1988/ChatGPT-Next-Web (status 404)\n"
     ]
    },
    {
     "name": "stderr",
     "output_type": "stream",
     "text": [
      "Processing forks:  38%|███▊      | 191/500 [00:09<00:15, 20.20it/s]"
     ]
    },
    {
     "name": "stdout",
     "output_type": "stream",
     "text": [
      "⚠️  Could not fetch main.zip for cmetankacabbie85/ChatGPT-Next-Web (status 404)\n",
      "⚠️  Could not fetch master.zip for cmetankacabbie85/ChatGPT-Next-Web (status 404)\n"
     ]
    },
    {
     "name": "stderr",
     "output_type": "stream",
     "text": [
      "Processing forks:  43%|████▎     | 215/500 [00:09<00:08, 34.69it/s]"
     ]
    },
    {
     "name": "stdout",
     "output_type": "stream",
     "text": [
      "⚠️  Could not fetch main.zip for 3quiveFabgi/ChatGPT-Next-Web (status 404)\n",
      "⚠️  Could not fetch master.zip for 3quiveFabgi/ChatGPT-Next-Web (status 404)\n"
     ]
    },
    {
     "name": "stderr",
     "output_type": "stream",
     "text": [
      "Processing forks:  46%|████▌     | 229/500 [00:09<00:07, 36.75it/s]"
     ]
    },
    {
     "name": "stdout",
     "output_type": "stream",
     "text": [
      "⚠️  Could not fetch main.zip for manggianna-bigboy/ChatGPT-Next-Web (status 404)\n",
      "⚠️  Could not fetch master.zip for manggianna-bigboy/ChatGPT-Next-Web (status 404)\n"
     ]
    },
    {
     "name": "stderr",
     "output_type": "stream",
     "text": [
      "Processing forks:  49%|████▉     | 246/500 [00:10<00:06, 40.75it/s]"
     ]
    },
    {
     "name": "stdout",
     "output_type": "stream",
     "text": [
      "⚠️  Could not fetch main.zip for kilshadowchaser62/ChatGPT-Next-Web (status 404)\n",
      "⚠️  Could not fetch master.zip for kilshadowchaser62/ChatGPT-Next-Web (status 404)\n"
     ]
    },
    {
     "name": "stderr",
     "output_type": "stream",
     "text": [
      "Processing forks:  52%|█████▏    | 258/500 [00:10<00:06, 39.61it/s]"
     ]
    },
    {
     "name": "stdout",
     "output_type": "stream",
     "text": [
      "⚠️  Could not fetch main.zip for KelseyHandmaiden/ChatGPT-Next-Web (status 404)\n",
      "⚠️  Could not fetch master.zip for KelseyHandmaiden/ChatGPT-Next-Web (status 404)\n"
     ]
    },
    {
     "name": "stderr",
     "output_type": "stream",
     "text": [
      "Processing forks:  52%|█████▏    | 262/500 [00:10<00:07, 30.46it/s]"
     ]
    },
    {
     "name": "stdout",
     "output_type": "stream",
     "text": [
      "⚠️  Could not fetch main.zip for eddyserialkiller0/ChatGPT-Next-Web (status 404)\n",
      "⚠️  Could not fetch master.zip for eddyserialkiller0/ChatGPT-Next-Web (status 404)\n",
      "⚠️  Could not fetch main.zip for quickbullet1/ChatGPT-Next-Web (status 404)\n"
     ]
    },
    {
     "name": "stderr",
     "output_type": "stream",
     "text": [
      "Processing forks:  57%|█████▋    | 284/500 [00:11<00:05, 37.01it/s]"
     ]
    },
    {
     "name": "stdout",
     "output_type": "stream",
     "text": [
      "⚠️  Could not fetch master.zip for quickbullet1/ChatGPT-Next-Web (status 404)\n",
      "⚠️  Could not fetch main.zip for binbenladen67/ChatGPT-Next-Web (status 404)\n"
     ]
    },
    {
     "name": "stderr",
     "output_type": "stream",
     "text": [
      "Processing forks:  58%|█████▊    | 291/500 [00:11<00:06, 31.92it/s]"
     ]
    },
    {
     "name": "stdout",
     "output_type": "stream",
     "text": [
      "⚠️  Could not fetch master.zip for binbenladen67/ChatGPT-Next-Web (status 404)\n",
      "⚠️  Could not fetch main.zip for abinglordral/ChatGPT-Next-Web (status 404)\n"
     ]
    },
    {
     "name": "stderr",
     "output_type": "stream",
     "text": [
      "Processing forks:  64%|██████▎   | 318/500 [00:12<00:04, 44.14it/s]"
     ]
    },
    {
     "name": "stdout",
     "output_type": "stream",
     "text": [
      "⚠️  Could not fetch master.zip for abinglordral/ChatGPT-Next-Web (status 404)\n",
      "⚠️  Could not fetch main.zip for senatorpage887/ChatGPT-Next-Web (status 404)\n"
     ]
    },
    {
     "name": "stderr",
     "output_type": "stream",
     "text": [
      "Processing forks:  65%|██████▌   | 326/500 [00:12<00:04, 38.53it/s]"
     ]
    },
    {
     "name": "stdout",
     "output_type": "stream",
     "text": [
      "⚠️  Could not fetch master.zip for senatorpage887/ChatGPT-Next-Web (status 404)\n",
      "⚠️  Could not fetch main.zip for fladdreamlife/ChatGPT-Next-Web (status 404)\n"
     ]
    },
    {
     "name": "stderr",
     "output_type": "stream",
     "text": [
      "Processing forks:  69%|██████▉   | 344/500 [00:12<00:03, 42.38it/s]"
     ]
    },
    {
     "name": "stdout",
     "output_type": "stream",
     "text": [
      "⚠️  Could not fetch master.zip for fladdreamlife/ChatGPT-Next-Web (status 404)\n",
      "⚠️  Could not fetch main.zip for tonaro-dummy/ChatGPT-Next-Web (status 404)\n"
     ]
    },
    {
     "name": "stderr",
     "output_type": "stream",
     "text": [
      "Processing forks:  70%|██████▉   | 349/500 [00:13<00:04, 33.59it/s]"
     ]
    },
    {
     "name": "stdout",
     "output_type": "stream",
     "text": [
      "⚠️  Could not fetch master.zip for tonaro-dummy/ChatGPT-Next-Web (status 404)\n"
     ]
    },
    {
     "name": "stderr",
     "output_type": "stream",
     "text": [
      "Processing forks:  74%|███████▎  | 368/500 [00:13<00:03, 38.04it/s]"
     ]
    },
    {
     "name": "stdout",
     "output_type": "stream",
     "text": [
      "⚠️  Could not fetch main.zip for negativburn1988/ChatGPT-Next-Web (status 404)\n",
      "⚠️  Could not fetch master.zip for negativburn1988/ChatGPT-Next-Web (status 404)\n"
     ]
    },
    {
     "name": "stderr",
     "output_type": "stream",
     "text": [
      "Processing forks:  82%|████████▏ | 411/500 [00:13<00:01, 62.06it/s]"
     ]
    },
    {
     "name": "stdout",
     "output_type": "stream",
     "text": [
      "⚠️  Could not fetch main.zip for jiankz/ChatGPT-Next-Web (status 404)\n",
      "⚠️  Could not fetch master.zip for jiankz/ChatGPT-Next-Web (status 404)\n",
      "⚠️  Could not fetch main.zip for okielight794/ChatGPT-Next-Web (status 404)\n",
      "⚠️  Could not fetch master.zip for okielight794/ChatGPT-Next-Web (status 404)\n"
     ]
    },
    {
     "name": "stderr",
     "output_type": "stream",
     "text": [
      "Processing forks:  84%|████████▎ | 418/500 [00:14<00:02, 39.42it/s]"
     ]
    },
    {
     "name": "stdout",
     "output_type": "stream",
     "text": [
      "⚠️  Could not fetch main.zip for stalkricecream11/ChatGPT-Next-Web (status 404)\n",
      "⚠️  Could not fetch master.zip for stalkricecream11/ChatGPT-Next-Web (status 404)\n"
     ]
    },
    {
     "name": "stderr",
     "output_type": "stream",
     "text": [
      "Processing forks:  85%|████████▍ | 424/500 [00:14<00:02, 33.81it/s]"
     ]
    },
    {
     "name": "stdout",
     "output_type": "stream",
     "text": [
      "⚠️  Could not fetch main.zip for elishainfiniti83/ChatGPT-Next-Web (status 404)\n",
      "⚠️  Could not fetch master.zip for elishainfiniti83/ChatGPT-Next-Web (status 404)\n"
     ]
    },
    {
     "name": "stderr",
     "output_type": "stream",
     "text": [
      "Processing forks:  86%|████████▌ | 428/500 [00:15<00:02, 27.80it/s]"
     ]
    },
    {
     "name": "stdout",
     "output_type": "stream",
     "text": [
      "⚠️  Could not fetch main.zip for binsword-1988/ChatGPT-Next-Web (status 404)\n",
      "⚠️  Could not fetch master.zip for binsword-1988/ChatGPT-Next-Web (status 404)\n"
     ]
    },
    {
     "name": "stderr",
     "output_type": "stream",
     "text": [
      "Processing forks:  93%|█████████▎| 463/500 [00:15<00:00, 46.28it/s]"
     ]
    },
    {
     "name": "stdout",
     "output_type": "stream",
     "text": [
      "⚠️  Could not fetch main.zip for worzadrot696/ChatGPT-Next-Web (status 404)\n",
      "⚠️  Could not fetch master.zip for worzadrot696/ChatGPT-Next-Web (status 404)\n"
     ]
    },
    {
     "name": "stderr",
     "output_type": "stream",
     "text": [
      "Processing forks:  94%|█████████▎| 468/500 [00:16<00:00, 37.79it/s]"
     ]
    },
    {
     "name": "stdout",
     "output_type": "stream",
     "text": [
      "⚠️  Could not fetch main.zip for anarkiwu/ChatGPT-Next-Web (status 404)\n",
      "⚠️  Could not fetch master.zip for anarkiwu/ChatGPT-Next-Web (status 404)\n"
     ]
    },
    {
     "name": "stderr",
     "output_type": "stream",
     "text": [
      "Processing forks:  94%|█████████▍| 472/500 [00:16<00:00, 30.43it/s]"
     ]
    },
    {
     "name": "stdout",
     "output_type": "stream",
     "text": [
      "⚠️  Could not fetch main.zip for huraboa15red/ChatGPT-Next-Web (status 404)\n",
      "⚠️  Could not fetch master.zip for huraboa15red/ChatGPT-Next-Web (status 404)\n"
     ]
    },
    {
     "name": "stderr",
     "output_type": "stream",
     "text": [
      "Processing forks: 100%|██████████| 500/500 [00:16<00:00, 29.88it/s]\n"
     ]
    },
    {
     "name": "stdout",
     "output_type": "stream",
     "text": [
      "⚠️  Could not fetch main.zip for nyancat-nevrox/ChatGPT-Next-Web (status 404)\n",
      "⚠️  Could not fetch master.zip for nyancat-nevrox/ChatGPT-Next-Web (status 404)\n",
      "Batch: 44000\n"
     ]
    },
    {
     "name": "stderr",
     "output_type": "stream",
     "text": [
      "Processing forks:   1%|▏         | 7/500 [00:00<00:24, 19.93it/s]"
     ]
    },
    {
     "name": "stdout",
     "output_type": "stream",
     "text": [
      "⚠️  Could not fetch main.zip for bladewoodfelix0/ChatGPT-Next-Web (status 404)\n",
      "⚠️  Could not fetch master.zip for bladewoodfelix0/ChatGPT-Next-Web (status 404)\n"
     ]
    },
    {
     "name": "stderr",
     "output_type": "stream",
     "text": [
      "Processing forks:   4%|▎         | 18/500 [00:00<00:17, 27.90it/s]"
     ]
    },
    {
     "name": "stdout",
     "output_type": "stream",
     "text": [
      "⚠️  Could not fetch main.zip for hardliner410/ChatGPT-Next-Web (status 404)\n",
      "⚠️  Could not fetch master.zip for hardliner410/ChatGPT-Next-Web (status 404)\n"
     ]
    },
    {
     "name": "stderr",
     "output_type": "stream",
     "text": [
      "Processing forks:  13%|█▎        | 67/500 [00:01<00:05, 76.14it/s]"
     ]
    },
    {
     "name": "stdout",
     "output_type": "stream",
     "text": [
      "⚠️  Could not fetch main.zip for dronblackmysoul515/ChatGPT-Next-Web (status 404)\n",
      "⚠️  Could not fetch master.zip for dronblackmysoul515/ChatGPT-Next-Web (status 404)\n"
     ]
    },
    {
     "name": "stderr",
     "output_type": "stream",
     "text": [
      "Processing forks:  17%|█▋        | 86/500 [00:01<00:06, 66.87it/s]"
     ]
    },
    {
     "name": "stdout",
     "output_type": "stream",
     "text": [
      "⚠️  Could not fetch main.zip for bai0072/ChatGPT-Next-Web (status 404)\n",
      "⚠️  Could not fetch master.zip for bai0072/ChatGPT-Next-Web (status 404)\n"
     ]
    },
    {
     "name": "stderr",
     "output_type": "stream",
     "text": [
      "Processing forks:  21%|██        | 105/500 [00:01<00:06, 60.94it/s]"
     ]
    },
    {
     "name": "stdout",
     "output_type": "stream",
     "text": [
      "⚠️  Could not fetch main.zip for skipmonsterblack/ChatGPT-Next-Web (status 404)\n",
      "⚠️  Could not fetch master.zip for skipmonsterblack/ChatGPT-Next-Web (status 404)\n"
     ]
    },
    {
     "name": "stderr",
     "output_type": "stream",
     "text": [
      "Processing forks:  30%|██▉       | 149/500 [00:02<00:04, 82.95it/s]"
     ]
    },
    {
     "name": "stdout",
     "output_type": "stream",
     "text": [
      "⚠️  Could not fetch main.zip for commandonikefeed87/ChatGPT-Next-Web (status 404)\n",
      "⚠️  Could not fetch master.zip for commandonikefeed87/ChatGPT-Next-Web (status 404)\n"
     ]
    },
    {
     "name": "stderr",
     "output_type": "stream",
     "text": [
      "Processing forks:  33%|███▎      | 164/500 [00:02<00:04, 69.26it/s]"
     ]
    },
    {
     "name": "stdout",
     "output_type": "stream",
     "text": [
      "⚠️  Could not fetch main.zip for Masned/ChatGPT-Next-Web (status 404)\n",
      "⚠️  Could not fetch master.zip for Masned/ChatGPT-Next-Web (status 404)\n"
     ]
    },
    {
     "name": "stderr",
     "output_type": "stream",
     "text": [
      "Processing forks:  34%|███▍      | 171/500 [00:02<00:06, 53.61it/s]"
     ]
    },
    {
     "name": "stdout",
     "output_type": "stream",
     "text": [
      "⚠️  Could not fetch main.zip for brebourne1988/ChatGPT-Next-Web (status 404)\n",
      "⚠️  Could not fetch master.zip for brebourne1988/ChatGPT-Next-Web (status 404)\n"
     ]
    },
    {
     "name": "stderr",
     "output_type": "stream",
     "text": [
      "Processing forks:  43%|████▎     | 213/500 [00:03<00:03, 73.38it/s]"
     ]
    },
    {
     "name": "stdout",
     "output_type": "stream",
     "text": [
      "⚠️  Could not fetch main.zip for ashly36babe/ChatGPT-Next-Web (status 404)\n",
      "⚠️  Could not fetch master.zip for ashly36babe/ChatGPT-Next-Web (status 404)\n"
     ]
    },
    {
     "name": "stderr",
     "output_type": "stream",
     "text": [
      "Processing forks:  46%|████▋     | 232/500 [00:03<00:03, 67.23it/s]"
     ]
    },
    {
     "name": "stdout",
     "output_type": "stream",
     "text": [
      "⚠️  Could not fetch main.zip for roadinchain/ChatGPT-Next-Web (status 404)\n",
      "⚠️  Could not fetch master.zip for roadinchain/ChatGPT-Next-Web (status 404)\n"
     ]
    },
    {
     "name": "stderr",
     "output_type": "stream",
     "text": [
      "Processing forks:  75%|███████▌  | 375/500 [00:03<00:00, 164.01it/s]"
     ]
    },
    {
     "name": "stdout",
     "output_type": "stream",
     "text": [
      "⚠️  Could not fetch main.zip for dyrdyryyf5e66/ChatGPT-Next-Web (status 404)\n",
      "⚠️  Could not fetch master.zip for dyrdyryyf5e66/ChatGPT-Next-Web (status 404)\n"
     ]
    },
    {
     "name": "stderr",
     "output_type": "stream",
     "text": [
      "Processing forks:  85%|████████▌ | 425/500 [00:04<00:00, 154.89it/s]"
     ]
    },
    {
     "name": "stdout",
     "output_type": "stream",
     "text": [
      "⚠️  Could not fetch main.zip for wendrik-1988/ChatGPT-Next-Web (status 404)\n",
      "⚠️  Could not fetch master.zip for wendrik-1988/ChatGPT-Next-Web (status 404)\n",
      "⚠️  Could not fetch main.zip for yourtiger-vortex/ChatGPT-Next-Web (status 404)\n",
      "⚠️  Could not fetch master.zip for yourtiger-vortex/ChatGPT-Next-Web (status 404)\n"
     ]
    },
    {
     "name": "stderr",
     "output_type": "stream",
     "text": [
      "Processing forks:  88%|████████▊ | 441/500 [00:05<00:00, 93.74it/s] "
     ]
    },
    {
     "name": "stdout",
     "output_type": "stream",
     "text": [
      "⚠️  Could not fetch main.zip for caerbeaver49/ChatGPT-Next-Web (status 404)\n",
      "⚠️  Could not fetch master.zip for caerbeaver49/ChatGPT-Next-Web (status 404)\n",
      "⚠️  Could not fetch main.zip for wim-fondelamore/ChatGPT-Next-Web (status 404)\n",
      "⚠️  Could not fetch master.zip for wim-fondelamore/ChatGPT-Next-Web (status 404)\n",
      "⚠️  Could not fetch main.zip for mrsmiley-1988/ChatGPT-Next-Web (status 404)\n",
      "⚠️  Could not fetch master.zip for mrsmiley-1988/ChatGPT-Next-Web (status 404)\n"
     ]
    },
    {
     "name": "stderr",
     "output_type": "stream",
     "text": [
      "Processing forks:  91%|█████████ | 453/500 [00:06<00:00, 54.24it/s]"
     ]
    },
    {
     "name": "stdout",
     "output_type": "stream",
     "text": [
      "⚠️  Could not fetch main.zip for marus77bronze/ChatGPT-Next-Web (status 404)\n",
      "⚠️  Could not fetch master.zip for marus77bronze/ChatGPT-Next-Web (status 404)\n"
     ]
    },
    {
     "name": "stderr",
     "output_type": "stream",
     "text": [
      "Processing forks:  92%|█████████▏| 462/500 [00:06<00:00, 49.03it/s]"
     ]
    },
    {
     "name": "stdout",
     "output_type": "stream",
     "text": [
      "⚠️  Could not fetch main.zip for griwieldkrasavchik/ChatGPT-Next-Web (status 404)\n",
      "⚠️  Could not fetch master.zip for griwieldkrasavchik/ChatGPT-Next-Web (status 404)\n",
      "⚠️  Could not fetch main.zip for sexyboy-1988/ChatGPT-Next-Web (status 404)\n",
      "⚠️  Could not fetch master.zip for sexyboy-1988/ChatGPT-Next-Web (status 404)\n",
      "⚠️  Could not fetch main.zip for adeon14westwood/ChatGPT-Next-Web (status 404)\n",
      "⚠️  Could not fetch master.zip for adeon14westwood/ChatGPT-Next-Web (status 404)\n"
     ]
    },
    {
     "name": "stderr",
     "output_type": "stream",
     "text": [
      "Processing forks:  95%|█████████▍| 474/500 [00:07<00:00, 30.29it/s]"
     ]
    },
    {
     "name": "stdout",
     "output_type": "stream",
     "text": [
      "⚠️  Could not fetch main.zip for alphavoinsveta631/ChatGPT-Next-Web (status 404)\n",
      "⚠️  Could not fetch master.zip for alphavoinsveta631/ChatGPT-Next-Web (status 404)\n",
      "⚠️  Could not fetch main.zip for gusarbeedeepee66/ChatGPT-Next-Web (status 404)\n",
      "⚠️  Could not fetch master.zip for gusarbeedeepee66/ChatGPT-Next-Web (status 404)\n"
     ]
    },
    {
     "name": "stderr",
     "output_type": "stream",
     "text": [
      "Processing forks:  96%|█████████▌| 478/500 [00:07<00:00, 25.52it/s]"
     ]
    },
    {
     "name": "stdout",
     "output_type": "stream",
     "text": [
      "⚠️  Could not fetch main.zip for icelookcoolboy52/ChatGPT-Next-Web (status 404)\n",
      "⚠️  Could not fetch master.zip for icelookcoolboy52/ChatGPT-Next-Web (status 404)\n"
     ]
    },
    {
     "name": "stderr",
     "output_type": "stream",
     "text": [
      "Processing forks:  96%|█████████▌| 481/500 [00:08<00:01, 17.20it/s]"
     ]
    },
    {
     "name": "stdout",
     "output_type": "stream",
     "text": [
      "⚠️  Could not fetch main.zip for ringvortex1988/ChatGPT-Next-Web (status 404)\n",
      "⚠️  Could not fetch master.zip for ringvortex1988/ChatGPT-Next-Web (status 404)\n"
     ]
    },
    {
     "name": "stderr",
     "output_type": "stream",
     "text": [
      "Processing forks:  97%|█████████▋| 487/500 [00:09<00:00, 17.12it/s]"
     ]
    },
    {
     "name": "stdout",
     "output_type": "stream",
     "text": [
      "⚠️  Could not fetch main.zip for castle-worthy/ChatGPT-Next-Web (status 404)\n",
      "⚠️  Could not fetch master.zip for castle-worthy/ChatGPT-Next-Web (status 404)\n"
     ]
    },
    {
     "name": "stderr",
     "output_type": "stream",
     "text": [
      "Processing forks:  99%|█████████▉| 495/500 [00:09<00:00, 18.42it/s]"
     ]
    },
    {
     "name": "stdout",
     "output_type": "stream",
     "text": [
      "⚠️  Could not fetch main.zip for animatvonmarus/ChatGPT-Next-Web (status 404)\n",
      "⚠️  Could not fetch master.zip for animatvonmarus/ChatGPT-Next-Web (status 404)\n"
     ]
    },
    {
     "name": "stderr",
     "output_type": "stream",
     "text": [
      "Processing forks: 100%|██████████| 500/500 [00:09<00:00, 51.45it/s]\n"
     ]
    },
    {
     "name": "stdout",
     "output_type": "stream",
     "text": [
      "⚠️  Could not fetch main.zip for flowerslover-88/ChatGPT-Next-Web (status 404)\n",
      "⚠️  Could not fetch master.zip for flowerslover-88/ChatGPT-Next-Web (status 404)\n",
      "Batch: 44500\n"
     ]
    },
    {
     "name": "stderr",
     "output_type": "stream",
     "text": [
      "Processing forks:   1%|          | 4/500 [00:00<00:45, 11.01it/s]"
     ]
    },
    {
     "name": "stdout",
     "output_type": "stream",
     "text": [
      "⚠️  Could not fetch main.zip for tigercub1988/ChatGPT-Next-Web (status 404)\n",
      "⚠️  Could not fetch master.zip for tigercub1988/ChatGPT-Next-Web (status 404)\n"
     ]
    },
    {
     "name": "stderr",
     "output_type": "stream",
     "text": [
      "Processing forks:   2%|▏         | 11/500 [00:00<00:30, 16.06it/s]"
     ]
    },
    {
     "name": "stdout",
     "output_type": "stream",
     "text": [
      "⚠️  Could not fetch main.zip for mal32detlaff/ChatGPT-Next-Web (status 404)\n",
      "⚠️  Could not fetch master.zip for mal32detlaff/ChatGPT-Next-Web (status 404)\n"
     ]
    },
    {
     "name": "stderr",
     "output_type": "stream",
     "text": [
      "Processing forks:   3%|▎         | 17/500 [00:01<00:29, 16.46it/s]"
     ]
    },
    {
     "name": "stdout",
     "output_type": "stream",
     "text": [
      "⚠️  Could not fetch main.zip for hantosswitok66/ChatGPT-Next-Web (status 404)\n",
      "⚠️  Could not fetch master.zip for hantosswitok66/ChatGPT-Next-Web (status 404)\n"
     ]
    },
    {
     "name": "stderr",
     "output_type": "stream",
     "text": [
      "Processing forks:   5%|▍         | 24/500 [00:01<00:27, 17.42it/s]"
     ]
    },
    {
     "name": "stdout",
     "output_type": "stream",
     "text": [
      "⚠️  Could not fetch main.zip for hdftlg/ChatGPT-Next-Web (status 404)\n",
      "⚠️  Could not fetch master.zip for hdftlg/ChatGPT-Next-Web (status 404)\n"
     ]
    },
    {
     "name": "stderr",
     "output_type": "stream",
     "text": [
      "Processing forks:   7%|▋         | 34/500 [00:01<00:21, 21.26it/s]"
     ]
    },
    {
     "name": "stdout",
     "output_type": "stream",
     "text": [
      "⚠️  Could not fetch main.zip for onionking1988/ChatGPT-Next-Web (status 404)\n",
      "⚠️  Could not fetch master.zip for onionking1988/ChatGPT-Next-Web (status 404)\n",
      "⚠️  Could not fetch main.zip for bigboylux907/ChatGPT-Next-Web (status 404)\n",
      "⚠️  Could not fetch master.zip for bigboylux907/ChatGPT-Next-Web (status 404)\n"
     ]
    },
    {
     "name": "stderr",
     "output_type": "stream",
     "text": [
      "Processing forks:   7%|▋         | 37/500 [00:02<00:36, 12.69it/s]"
     ]
    },
    {
     "name": "stdout",
     "output_type": "stream",
     "text": [
      "⚠️  Could not fetch main.zip for bountyhunter175/ChatGPT-Next-Web (status 404)\n",
      "⚠️  Could not fetch master.zip for bountyhunter175/ChatGPT-Next-Web (status 404)\n"
     ]
    },
    {
     "name": "stderr",
     "output_type": "stream",
     "text": [
      "Processing forks:   9%|▉         | 45/500 [00:02<00:29, 15.40it/s]"
     ]
    },
    {
     "name": "stdout",
     "output_type": "stream",
     "text": [
      "⚠️  Could not fetch main.zip for fireboymarksman204/ChatGPT-Next-Web (status 404)\n",
      "⚠️  Could not fetch master.zip for fireboymarksman204/ChatGPT-Next-Web (status 404)\n"
     ]
    },
    {
     "name": "stderr",
     "output_type": "stream",
     "text": [
      "Processing forks:  10%|▉         | 48/500 [00:03<00:33, 13.55it/s]"
     ]
    },
    {
     "name": "stdout",
     "output_type": "stream",
     "text": [
      "⚠️  Could not fetch main.zip for flynewers-88/ChatGPT-Next-Web (status 404)\n",
      "⚠️  Could not fetch master.zip for flynewers-88/ChatGPT-Next-Web (status 404)\n"
     ]
    },
    {
     "name": "stderr",
     "output_type": "stream",
     "text": [
      "Processing forks:  13%|█▎        | 63/500 [00:03<00:20, 21.75it/s]"
     ]
    },
    {
     "name": "stdout",
     "output_type": "stream",
     "text": [
      "⚠️  Could not fetch main.zip for supermetal32ter/ChatGPT-Next-Web (status 404)\n",
      "⚠️  Could not fetch master.zip for supermetal32ter/ChatGPT-Next-Web (status 404)\n"
     ]
    },
    {
     "name": "stderr",
     "output_type": "stream",
     "text": [
      "Processing forks:  13%|█▎        | 66/500 [00:03<00:23, 18.24it/s]"
     ]
    },
    {
     "name": "stdout",
     "output_type": "stream",
     "text": [
      "⚠️  Could not fetch main.zip for knockoutsley36/ChatGPT-Next-Web (status 404)\n",
      "⚠️  Could not fetch master.zip for knockoutsley36/ChatGPT-Next-Web (status 404)\n"
     ]
    },
    {
     "name": "stderr",
     "output_type": "stream",
     "text": [
      "Processing forks:  14%|█▎        | 68/500 [00:04<00:29, 14.50it/s]"
     ]
    },
    {
     "name": "stdout",
     "output_type": "stream",
     "text": [
      "⚠️  Could not fetch main.zip for luckyguy43crusher/ChatGPT-Next-Web (status 404)\n",
      "⚠️  Could not fetch master.zip for luckyguy43crusher/ChatGPT-Next-Web (status 404)\n"
     ]
    },
    {
     "name": "stderr",
     "output_type": "stream",
     "text": [
      "Processing forks:  14%|█▍        | 72/500 [00:04<00:31, 13.58it/s]"
     ]
    },
    {
     "name": "stdout",
     "output_type": "stream",
     "text": [
      "⚠️  Could not fetch main.zip for sportsmen247/ChatGPT-Next-Web (status 404)\n",
      "⚠️  Could not fetch master.zip for sportsmen247/ChatGPT-Next-Web (status 404)\n",
      "⚠️  Could not fetch main.zip for beastluckycat4/ChatGPT-Next-Web (status 404)\n",
      "⚠️  Could not fetch master.zip for beastluckycat4/ChatGPT-Next-Web (status 404)\n"
     ]
    },
    {
     "name": "stderr",
     "output_type": "stream",
     "text": [
      "Processing forks:  16%|█▌        | 80/500 [00:05<00:35, 11.82it/s]"
     ]
    },
    {
     "name": "stdout",
     "output_type": "stream",
     "text": [
      "⚠️  Could not fetch main.zip for bibishkamrmaclaren/ChatGPT-Next-Web (status 404)\n",
      "⚠️  Could not fetch master.zip for bibishkamrmaclaren/ChatGPT-Next-Web (status 404)\n"
     ]
    },
    {
     "name": "stderr",
     "output_type": "stream",
     "text": [
      "Processing forks:  17%|█▋        | 84/500 [00:05<00:34, 12.06it/s]"
     ]
    },
    {
     "name": "stdout",
     "output_type": "stream",
     "text": [
      "⚠️  Could not fetch main.zip for nonameter1988/ChatGPT-Next-Web (status 404)\n",
      "⚠️  Could not fetch master.zip for nonameter1988/ChatGPT-Next-Web (status 404)\n",
      "⚠️  Could not fetch main.zip for malmes-nezameten/ChatGPT-Next-Web (status 404)\n",
      "⚠️  Could not fetch master.zip for malmes-nezameten/ChatGPT-Next-Web (status 404)\n",
      "⚠️  Could not fetch main.zip for rexbrewrulesinpage/ChatGPT-Next-Web (status 404)\n"
     ]
    },
    {
     "name": "stderr",
     "output_type": "stream",
     "text": [
      "Processing forks:  17%|█▋        | 86/500 [00:06<01:00,  6.81it/s]"
     ]
    },
    {
     "name": "stdout",
     "output_type": "stream",
     "text": [
      "⚠️  Could not fetch master.zip for rexbrewrulesinpage/ChatGPT-Next-Web (status 404)\n",
      "⚠️  Could not fetch main.zip for yourpartner18/ChatGPT-Next-Web (status 404)\n"
     ]
    },
    {
     "name": "stderr",
     "output_type": "stream",
     "text": [
      "Processing forks:  18%|█▊        | 91/500 [00:06<00:47,  8.55it/s]"
     ]
    },
    {
     "name": "stdout",
     "output_type": "stream",
     "text": [
      "⚠️  Could not fetch master.zip for yourpartner18/ChatGPT-Next-Web (status 404)\n",
      "⚠️  Could not fetch main.zip for shob53noangel/ChatGPT-Next-Web (status 404)\n"
     ]
    },
    {
     "name": "stderr",
     "output_type": "stream",
     "text": [
      "Processing forks:  22%|██▏       | 112/500 [00:07<00:18, 21.04it/s]"
     ]
    },
    {
     "name": "stdout",
     "output_type": "stream",
     "text": [
      "⚠️  Could not fetch master.zip for shob53noangel/ChatGPT-Next-Web (status 404)\n",
      "⚠️  Could not fetch main.zip for myrtiscrayton/Hasan-AGI (status 404)\n"
     ]
    },
    {
     "name": "stderr",
     "output_type": "stream",
     "text": [
      "Processing forks:  23%|██▎       | 115/500 [00:07<00:21, 17.90it/s]"
     ]
    },
    {
     "name": "stdout",
     "output_type": "stream",
     "text": [
      "⚠️  Could not fetch master.zip for myrtiscrayton/Hasan-AGI (status 404)\n",
      "⚠️  Could not fetch main.zip for mal-ubileieme/ChatGPT-Next-Web (status 404)\n"
     ]
    },
    {
     "name": "stderr",
     "output_type": "stream",
     "text": [
      "Processing forks:  24%|██▍       | 120/500 [00:07<00:22, 17.03it/s]"
     ]
    },
    {
     "name": "stdout",
     "output_type": "stream",
     "text": [
      "⚠️  Could not fetch master.zip for mal-ubileieme/ChatGPT-Next-Web (status 404)\n",
      "⚠️  Could not fetch main.zip for jarvis70foolyou/ChatGPT-Next-Web (status 404)\n"
     ]
    },
    {
     "name": "stderr",
     "output_type": "stream",
     "text": [
      "Processing forks:  24%|██▍       | 122/500 [00:08<00:26, 14.09it/s]"
     ]
    },
    {
     "name": "stdout",
     "output_type": "stream",
     "text": [
      "⚠️  Could not fetch master.zip for jarvis70foolyou/ChatGPT-Next-Web (status 404)\n",
      "⚠️  Could not fetch main.zip for bradrofellosh4/ChatGPT-Next-Web (status 404)\n"
     ]
    },
    {
     "name": "stderr",
     "output_type": "stream",
     "text": [
      "Processing forks:  25%|██▍       | 124/500 [00:08<00:31, 11.91it/s]"
     ]
    },
    {
     "name": "stdout",
     "output_type": "stream",
     "text": [
      "⚠️  Could not fetch master.zip for bradrofellosh4/ChatGPT-Next-Web (status 404)\n",
      "⚠️  Could not fetch main.zip for hartsilver-1988/ChatGPT-Next-Web (status 404)\n"
     ]
    },
    {
     "name": "stderr",
     "output_type": "stream",
     "text": [
      "Processing forks:  27%|██▋       | 133/500 [00:08<00:23, 15.87it/s]"
     ]
    },
    {
     "name": "stdout",
     "output_type": "stream",
     "text": [
      "⚠️  Could not fetch master.zip for hartsilver-1988/ChatGPT-Next-Web (status 404)\n",
      "⚠️  Could not fetch main.zip for monkgunfighter/ChatGPT-Next-Web (status 404)\n"
     ]
    },
    {
     "name": "stderr",
     "output_type": "stream",
     "text": [
      "Processing forks:  27%|██▋       | 135/500 [00:09<00:28, 12.89it/s]"
     ]
    },
    {
     "name": "stdout",
     "output_type": "stream",
     "text": [
      "⚠️  Could not fetch master.zip for monkgunfighter/ChatGPT-Next-Web (status 404)\n",
      "⚠️  Could not fetch main.zip for chewpsychotic/ChatGPT-Next-Web (status 404)\n"
     ]
    },
    {
     "name": "stderr",
     "output_type": "stream",
     "text": [
      "Processing forks:  29%|██▊       | 143/500 [00:09<00:22, 15.97it/s]"
     ]
    },
    {
     "name": "stdout",
     "output_type": "stream",
     "text": [
      "⚠️  Could not fetch master.zip for chewpsychotic/ChatGPT-Next-Web (status 404)\n",
      "⚠️  Could not fetch main.zip for gamerquant680/ChatGPT-Next-Web (status 404)\n"
     ]
    },
    {
     "name": "stderr",
     "output_type": "stream",
     "text": [
      "Processing forks:  29%|██▉       | 145/500 [00:09<00:27, 13.01it/s]"
     ]
    },
    {
     "name": "stdout",
     "output_type": "stream",
     "text": [
      "⚠️  Could not fetch master.zip for gamerquant680/ChatGPT-Next-Web (status 404)\n",
      "⚠️  Could not fetch main.zip for sparky8digal/ChatGPT-Next-Web (status 404)\n"
     ]
    },
    {
     "name": "stderr",
     "output_type": "stream",
     "text": [
      "Processing forks:  30%|███       | 151/500 [00:10<00:24, 14.29it/s]"
     ]
    },
    {
     "name": "stdout",
     "output_type": "stream",
     "text": [
      "⚠️  Could not fetch master.zip for sparky8digal/ChatGPT-Next-Web (status 404)\n",
      "⚠️  Could not fetch main.zip for boogabearmiwka75/ChatGPT-Next-Web (status 404)\n"
     ]
    },
    {
     "name": "stderr",
     "output_type": "stream",
     "text": [
      "Processing forks:  31%|███       | 155/500 [00:10<00:25, 13.50it/s]"
     ]
    },
    {
     "name": "stdout",
     "output_type": "stream",
     "text": [
      "⚠️  Could not fetch master.zip for boogabearmiwka75/ChatGPT-Next-Web (status 404)\n",
      "⚠️  Could not fetch main.zip for ahoafury-1988/ChatGPT-Next-Web (status 404)\n"
     ]
    },
    {
     "name": "stderr",
     "output_type": "stream",
     "text": [
      "Processing forks:  32%|███▏      | 159/500 [00:11<00:26, 12.86it/s]"
     ]
    },
    {
     "name": "stdout",
     "output_type": "stream",
     "text": [
      "⚠️  Could not fetch master.zip for ahoafury-1988/ChatGPT-Next-Web (status 404)\n",
      "⚠️  Could not fetch main.zip for jueldwarf1988/ChatGPT-Next-Web (status 404)\n"
     ]
    },
    {
     "name": "stderr",
     "output_type": "stream",
     "text": [
      "Processing forks:  33%|███▎      | 164/500 [00:11<00:25, 13.21it/s]"
     ]
    },
    {
     "name": "stdout",
     "output_type": "stream",
     "text": [
      "⚠️  Could not fetch master.zip for jueldwarf1988/ChatGPT-Next-Web (status 404)\n",
      "⚠️  Could not fetch main.zip for onetwospinkpiggys/ChatGPT-Next-Web (status 404)\n"
     ]
    },
    {
     "name": "stderr",
     "output_type": "stream",
     "text": [
      "Processing forks:  34%|███▍      | 169/500 [00:11<00:24, 13.70it/s]"
     ]
    },
    {
     "name": "stdout",
     "output_type": "stream",
     "text": [
      "⚠️  Could not fetch master.zip for onetwospinkpiggys/ChatGPT-Next-Web (status 404)\n",
      "⚠️  Could not fetch main.zip for bladewoodbarashka9/ChatGPT-Next-Web (status 404)\n"
     ]
    },
    {
     "name": "stderr",
     "output_type": "stream",
     "text": [
      "Processing forks:  36%|███▌      | 178/500 [00:12<00:18, 17.46it/s]"
     ]
    },
    {
     "name": "stdout",
     "output_type": "stream",
     "text": [
      "⚠️  Could not fetch master.zip for bladewoodbarashka9/ChatGPT-Next-Web (status 404)\n",
      "⚠️  Could not fetch main.zip for herrybarashka23/ChatGPT-Next-Web (status 404)\n"
     ]
    },
    {
     "name": "stderr",
     "output_type": "stream",
     "text": [
      "Processing forks:  39%|███▉      | 195/500 [00:12<00:11, 26.75it/s]"
     ]
    },
    {
     "name": "stdout",
     "output_type": "stream",
     "text": [
      "⚠️  Could not fetch master.zip for herrybarashka23/ChatGPT-Next-Web (status 404)\n",
      "⚠️  Could not fetch main.zip for raydenlordral4/ChatGPT-Next-Web (status 404)\n"
     ]
    },
    {
     "name": "stderr",
     "output_type": "stream",
     "text": [
      "Processing forks:  43%|████▎     | 213/500 [00:12<00:08, 33.09it/s]"
     ]
    },
    {
     "name": "stdout",
     "output_type": "stream",
     "text": [
      "⚠️  Could not fetch master.zip for raydenlordral4/ChatGPT-Next-Web (status 404)\n",
      "⚠️  Could not fetch main.zip for melblackwolf-1988/ChatGPT-Next-Web (status 404)\n"
     ]
    },
    {
     "name": "stderr",
     "output_type": "stream",
     "text": [
      "Processing forks:  43%|████▎     | 217/500 [00:13<00:10, 26.72it/s]"
     ]
    },
    {
     "name": "stdout",
     "output_type": "stream",
     "text": [
      "⚠️  Could not fetch master.zip for melblackwolf-1988/ChatGPT-Next-Web (status 404)\n",
      "⚠️  Could not fetch main.zip for valetrusty78/ChatGPT-Next-Web (status 404)\n"
     ]
    },
    {
     "name": "stderr",
     "output_type": "stream",
     "text": [
      "Processing forks:  44%|████▍     | 221/500 [00:13<00:12, 21.89it/s]"
     ]
    },
    {
     "name": "stdout",
     "output_type": "stream",
     "text": [
      "⚠️  Could not fetch master.zip for valetrusty78/ChatGPT-Next-Web (status 404)\n",
      "⚠️  Could not fetch main.zip for southymym1988/ChatGPT-Next-Web (status 404)\n"
     ]
    },
    {
     "name": "stderr",
     "output_type": "stream",
     "text": [
      "Processing forks:  45%|████▍     | 224/500 [00:13<00:15, 18.15it/s]"
     ]
    },
    {
     "name": "stdout",
     "output_type": "stream",
     "text": [
      "⚠️  Could not fetch master.zip for southymym1988/ChatGPT-Next-Web (status 404)\n",
      "⚠️  Could not fetch main.zip for dilemmafixer0/ChatGPT-Next-Web (status 404)\n"
     ]
    },
    {
     "name": "stderr",
     "output_type": "stream",
     "text": [
      "Processing forks:  47%|████▋     | 234/500 [00:14<00:12, 21.36it/s]"
     ]
    },
    {
     "name": "stdout",
     "output_type": "stream",
     "text": [
      "⚠️  Could not fetch master.zip for dilemmafixer0/ChatGPT-Next-Web (status 404)\n",
      "⚠️  Could not fetch main.zip for kingmanxoreoxx8/ChatGPT-Next-Web (status 404)\n"
     ]
    },
    {
     "name": "stderr",
     "output_type": "stream",
     "text": [
      "Processing forks:  47%|████▋     | 237/500 [00:14<00:15, 17.29it/s]"
     ]
    },
    {
     "name": "stdout",
     "output_type": "stream",
     "text": [
      "⚠️  Could not fetch master.zip for kingmanxoreoxx8/ChatGPT-Next-Web (status 404)\n",
      "⚠️  Could not fetch main.zip for bladewood599/ChatGPT-Next-Web (status 404)\n"
     ]
    },
    {
     "name": "stderr",
     "output_type": "stream",
     "text": [
      "Processing forks:  48%|████▊     | 239/500 [00:14<00:18, 13.84it/s]"
     ]
    },
    {
     "name": "stdout",
     "output_type": "stream",
     "text": [
      "⚠️  Could not fetch master.zip for bladewood599/ChatGPT-Next-Web (status 404)\n",
      "⚠️  Could not fetch main.zip for enigmaheadshot355/ChatGPT-Next-Web (status 404)\n"
     ]
    },
    {
     "name": "stderr",
     "output_type": "stream",
     "text": [
      "Processing forks:  49%|████▉     | 246/500 [00:15<00:16, 15.35it/s]"
     ]
    },
    {
     "name": "stdout",
     "output_type": "stream",
     "text": [
      "⚠️  Could not fetch master.zip for enigmaheadshot355/ChatGPT-Next-Web (status 404)\n",
      "⚠️  Could not fetch main.zip for naivetealive/ChatGPT-Next-Web (status 404)\n"
     ]
    },
    {
     "name": "stderr",
     "output_type": "stream",
     "text": [
      "Processing forks:  50%|████▉     | 248/500 [00:15<00:20, 12.01it/s]"
     ]
    },
    {
     "name": "stdout",
     "output_type": "stream",
     "text": [
      "⚠️  Could not fetch master.zip for naivetealive/ChatGPT-Next-Web (status 404)\n",
      "⚠️  Could not fetch main.zip for cuddlebug-88/ChatGPT-Next-Web (status 404)\n"
     ]
    },
    {
     "name": "stderr",
     "output_type": "stream",
     "text": [
      "Processing forks:  51%|█████     | 254/500 [00:16<00:18, 13.38it/s]"
     ]
    },
    {
     "name": "stdout",
     "output_type": "stream",
     "text": [
      "⚠️  Could not fetch master.zip for cuddlebug-88/ChatGPT-Next-Web (status 404)\n",
      "⚠️  Could not fetch main.zip for anarhian-1988/ChatGPT-Next-Web (status 404)\n"
     ]
    },
    {
     "name": "stderr",
     "output_type": "stream",
     "text": [
      "Processing forks:  52%|█████▏    | 261/500 [00:16<00:15, 15.23it/s]"
     ]
    },
    {
     "name": "stdout",
     "output_type": "stream",
     "text": [
      "⚠️  Could not fetch master.zip for anarhian-1988/ChatGPT-Next-Web (status 404)\n",
      "⚠️  Could not fetch main.zip for sexboy123/ChatGPT-Next-Web (status 404)\n"
     ]
    },
    {
     "name": "stderr",
     "output_type": "stream",
     "text": [
      "Processing forks:  53%|█████▎    | 263/500 [00:16<00:18, 12.58it/s]"
     ]
    },
    {
     "name": "stdout",
     "output_type": "stream",
     "text": [
      "⚠️  Could not fetch master.zip for sexboy123/ChatGPT-Next-Web (status 404)\n",
      "⚠️  Could not fetch main.zip for bottes-dancing/ChatGPT-Next-Web (status 404)\n"
     ]
    },
    {
     "name": "stderr",
     "output_type": "stream",
     "text": [
      "Processing forks:  57%|█████▋    | 286/500 [00:17<00:07, 28.38it/s]"
     ]
    },
    {
     "name": "stdout",
     "output_type": "stream",
     "text": [
      "⚠️  Could not fetch master.zip for bottes-dancing/ChatGPT-Next-Web (status 404)\n",
      "⚠️  Could not fetch main.zip for termit-hellopeopl/ChatGPT-Next-Web (status 404)\n"
     ]
    },
    {
     "name": "stderr",
     "output_type": "stream",
     "text": [
      "Processing forks:  58%|█████▊    | 289/500 [00:17<00:09, 22.23it/s]"
     ]
    },
    {
     "name": "stdout",
     "output_type": "stream",
     "text": [
      "⚠️  Could not fetch master.zip for termit-hellopeopl/ChatGPT-Next-Web (status 404)\n",
      "⚠️  Could not fetch main.zip for darklegion-1988/ChatGPT-Next-Web (status 404)\n"
     ]
    },
    {
     "name": "stderr",
     "output_type": "stream",
     "text": [
      "Processing forks:  58%|█████▊    | 292/500 [00:17<00:11, 17.98it/s]"
     ]
    },
    {
     "name": "stdout",
     "output_type": "stream",
     "text": [
      "⚠️  Could not fetch master.zip for darklegion-1988/ChatGPT-Next-Web (status 404)\n",
      "⚠️  Could not fetch main.zip for kingfisher198/ChatGPT-Next-Web (status 404)\n"
     ]
    },
    {
     "name": "stderr",
     "output_type": "stream",
     "text": [
      "Processing forks:  60%|█████▉    | 299/500 [00:18<00:11, 18.19it/s]"
     ]
    },
    {
     "name": "stdout",
     "output_type": "stream",
     "text": [
      "⚠️  Could not fetch master.zip for kingfisher198/ChatGPT-Next-Web (status 404)\n",
      "⚠️  Could not fetch main.zip for bris-dancing/ChatGPT-Next-Web (status 404)\n"
     ]
    },
    {
     "name": "stderr",
     "output_type": "stream",
     "text": [
      "Processing forks:  60%|██████    | 301/500 [00:18<00:13, 14.62it/s]"
     ]
    },
    {
     "name": "stdout",
     "output_type": "stream",
     "text": [
      "⚠️  Could not fetch master.zip for bris-dancing/ChatGPT-Next-Web (status 404)\n",
      "⚠️  Could not fetch main.zip for amazingsandbox/ChatGPT-Next-Web (status 404)\n"
     ]
    },
    {
     "name": "stderr",
     "output_type": "stream",
     "text": [
      "Processing forks:  61%|██████    | 303/500 [00:18<00:16, 11.87it/s]"
     ]
    },
    {
     "name": "stdout",
     "output_type": "stream",
     "text": [
      "⚠️  Could not fetch master.zip for amazingsandbox/ChatGPT-Next-Web (status 404)\n",
      "⚠️  Could not fetch main.zip for ballistic-88/ChatGPT-Next-Web (status 404)\n"
     ]
    },
    {
     "name": "stderr",
     "output_type": "stream",
     "text": [
      "Processing forks:  61%|██████    | 305/500 [00:19<00:19,  9.79it/s]"
     ]
    },
    {
     "name": "stdout",
     "output_type": "stream",
     "text": [
      "⚠️  Could not fetch master.zip for ballistic-88/ChatGPT-Next-Web (status 404)\n",
      "⚠️  Could not fetch main.zip for icelook91doventor/ChatGPT-Next-Web (status 404)\n"
     ]
    },
    {
     "name": "stderr",
     "output_type": "stream",
     "text": [
      "Processing forks:  62%|██████▏   | 309/500 [00:20<00:28,  6.66it/s]"
     ]
    },
    {
     "name": "stdout",
     "output_type": "stream",
     "text": [
      "⚠️  Could not fetch master.zip for icelook91doventor/ChatGPT-Next-Web (status 404)\n",
      "⚠️  Could not fetch main.zip for tarosscreamer/ChatGPT-Next-Web (status 404)\n"
     ]
    },
    {
     "name": "stderr",
     "output_type": "stream",
     "text": [
      "Processing forks:  62%|██████▏   | 310/500 [00:20<00:32,  5.89it/s]"
     ]
    },
    {
     "name": "stdout",
     "output_type": "stream",
     "text": [
      "⚠️  Could not fetch master.zip for tarosscreamer/ChatGPT-Next-Web (status 404)\n",
      "⚠️  Could not fetch main.zip for pinballwheel1/ChatGPT-Next-Web (status 404)\n"
     ]
    },
    {
     "name": "stderr",
     "output_type": "stream",
     "text": [
      "Processing forks:  63%|██████▎   | 314/500 [00:20<00:26,  7.13it/s]"
     ]
    },
    {
     "name": "stdout",
     "output_type": "stream",
     "text": [
      "⚠️  Could not fetch master.zip for pinballwheel1/ChatGPT-Next-Web (status 404)\n"
     ]
    },
    {
     "name": "stderr",
     "output_type": "stream",
     "text": [
      "Processing forks:  64%|██████▍   | 320/500 [00:21<00:21,  8.22it/s]"
     ]
    },
    {
     "name": "stdout",
     "output_type": "stream",
     "text": [
      "⚠️  Could not fetch main.zip for gusar27deadasted/ChatGPT-Next-Web (status 404)\n",
      "⚠️  Could not fetch master.zip for gusar27deadasted/ChatGPT-Next-Web (status 404)\n"
     ]
    },
    {
     "name": "stderr",
     "output_type": "stream",
     "text": [
      "Processing forks:  64%|██████▍   | 321/500 [00:21<00:25,  6.92it/s]"
     ]
    },
    {
     "name": "stdout",
     "output_type": "stream",
     "text": [
      "⚠️  Could not fetch main.zip for starletbull20/ChatGPT-Next-Web (status 404)\n",
      "⚠️  Could not fetch master.zip for starletbull20/ChatGPT-Next-Web (status 404)\n"
     ]
    },
    {
     "name": "stderr",
     "output_type": "stream",
     "text": [
      "Processing forks:  65%|██████▌   | 327/500 [00:22<00:21,  7.97it/s]"
     ]
    },
    {
     "name": "stdout",
     "output_type": "stream",
     "text": [
      "⚠️  Could not fetch main.zip for asimu62kielarne/ChatGPT-Next-Web (status 404)\n",
      "⚠️  Could not fetch master.zip for asimu62kielarne/ChatGPT-Next-Web (status 404)\n"
     ]
    },
    {
     "name": "stderr",
     "output_type": "stream",
     "text": [
      "Processing forks:  71%|███████▏  | 357/500 [00:22<00:05, 25.25it/s]"
     ]
    },
    {
     "name": "stdout",
     "output_type": "stream",
     "text": [
      "⚠️  Could not fetch main.zip for kelmlasthuman868/ChatGPT-Next-Web (status 404)\n",
      "⚠️  Could not fetch master.zip for kelmlasthuman868/ChatGPT-Next-Web (status 404)\n"
     ]
    },
    {
     "name": "stderr",
     "output_type": "stream",
     "text": [
      "Processing forks:  72%|███████▏  | 360/500 [00:23<00:06, 21.10it/s]"
     ]
    },
    {
     "name": "stdout",
     "output_type": "stream",
     "text": [
      "⚠️  Could not fetch main.zip for ringarrow728/ChatGPT-Next-Web (status 404)\n",
      "⚠️  Could not fetch master.zip for ringarrow728/ChatGPT-Next-Web (status 404)\n"
     ]
    },
    {
     "name": "stderr",
     "output_type": "stream",
     "text": [
      "Processing forks:  74%|███████▎  | 368/500 [00:23<00:06, 21.67it/s]"
     ]
    },
    {
     "name": "stdout",
     "output_type": "stream",
     "text": [
      "⚠️  Could not fetch main.zip for fallenangelyard6/ChatGPT-Next-Web (status 404)\n",
      "⚠️  Could not fetch master.zip for fallenangelyard6/ChatGPT-Next-Web (status 404)\n"
     ]
    },
    {
     "name": "stderr",
     "output_type": "stream",
     "text": [
      "Processing forks:  74%|███████▍  | 371/500 [00:24<00:08, 15.08it/s]"
     ]
    },
    {
     "name": "stdout",
     "output_type": "stream",
     "text": [
      "⚠️  Could not fetch main.zip for lightsoul93iron/ChatGPT-Next-Web (status 404)\n",
      "⚠️  Could not fetch master.zip for lightsoul93iron/ChatGPT-Next-Web (status 404)\n"
     ]
    },
    {
     "name": "stderr",
     "output_type": "stream",
     "text": [
      "Processing forks:  77%|███████▋  | 387/500 [00:24<00:05, 22.45it/s]"
     ]
    },
    {
     "name": "stdout",
     "output_type": "stream",
     "text": [
      "⚠️  Could not fetch main.zip for batterymistik/ChatGPT-Next-Web (status 404)\n",
      "⚠️  Could not fetch master.zip for batterymistik/ChatGPT-Next-Web (status 404)\n"
     ]
    },
    {
     "name": "stderr",
     "output_type": "stream",
     "text": [
      "Processing forks:  80%|████████  | 402/500 [00:24<00:03, 27.04it/s]"
     ]
    },
    {
     "name": "stdout",
     "output_type": "stream",
     "text": [
      "⚠️  Could not fetch main.zip for buehnernikmine2/ChatGPT-Next-Web (status 404)\n",
      "⚠️  Could not fetch master.zip for buehnernikmine2/ChatGPT-Next-Web (status 404)\n"
     ]
    },
    {
     "name": "stderr",
     "output_type": "stream",
     "text": [
      "Processing forks:  83%|████████▎ | 415/500 [00:25<00:02, 29.50it/s]"
     ]
    },
    {
     "name": "stdout",
     "output_type": "stream",
     "text": [
      "⚠️  Could not fetch main.zip for fan970/ChatGPT-Next-Web (status 404)\n",
      "⚠️  Could not fetch master.zip for fan970/ChatGPT-Next-Web (status 404)\n"
     ]
    },
    {
     "name": "stderr",
     "output_type": "stream",
     "text": [
      "Processing forks:  86%|████████▌ | 430/500 [00:25<00:02, 32.72it/s]"
     ]
    },
    {
     "name": "stdout",
     "output_type": "stream",
     "text": [
      "⚠️  Could not fetch main.zip for sportmanneskwick/ChatGPT-Next-Web (status 404)\n",
      "⚠️  Could not fetch master.zip for sportmanneskwick/ChatGPT-Next-Web (status 404)\n"
     ]
    },
    {
     "name": "stderr",
     "output_type": "stream",
     "text": [
      "Processing forks:  87%|████████▋ | 435/500 [00:26<00:02, 27.68it/s]"
     ]
    },
    {
     "name": "stdout",
     "output_type": "stream",
     "text": [
      "⚠️  Could not fetch main.zip for wot-kenytownsend/ChatGPT-Next-Web (status 404)\n",
      "⚠️  Could not fetch master.zip for wot-kenytownsend/ChatGPT-Next-Web (status 404)\n"
     ]
    },
    {
     "name": "stderr",
     "output_type": "stream",
     "text": [
      "Processing forks:  93%|█████████▎| 463/500 [00:26<00:00, 41.61it/s]"
     ]
    },
    {
     "name": "stdout",
     "output_type": "stream",
     "text": [
      "⚠️  Could not fetch main.zip for blackkiller-88/ChatGPT-Next-Web (status 404)\n",
      "⚠️  Could not fetch master.zip for blackkiller-88/ChatGPT-Next-Web (status 404)\n"
     ]
    },
    {
     "name": "stderr",
     "output_type": "stream",
     "text": [
      "Processing forks:  94%|█████████▎| 468/500 [00:26<00:00, 33.51it/s]"
     ]
    },
    {
     "name": "stdout",
     "output_type": "stream",
     "text": [
      "⚠️  Could not fetch main.zip for juhusbadger1988/ChatGPT-Next-Web (status 404)\n",
      "⚠️  Could not fetch master.zip for juhusbadger1988/ChatGPT-Next-Web (status 404)\n"
     ]
    },
    {
     "name": "stderr",
     "output_type": "stream",
     "text": [
      "Processing forks:  95%|█████████▍| 474/500 [00:27<00:01, 23.50it/s]"
     ]
    },
    {
     "name": "stdout",
     "output_type": "stream",
     "text": [
      "⚠️  Could not fetch main.zip for pharomrgenry874/ChatGPT-Next-Web (status 404)\n",
      "⚠️  Could not fetch master.zip for pharomrgenry874/ChatGPT-Next-Web (status 404)\n"
     ]
    },
    {
     "name": "stderr",
     "output_type": "stream",
     "text": [
      "Processing forks:  95%|█████████▌| 477/500 [00:27<00:01, 19.81it/s]"
     ]
    },
    {
     "name": "stdout",
     "output_type": "stream",
     "text": [
      "⚠️  Could not fetch main.zip for dubermanworthy/ChatGPT-Next-Web (status 404)\n",
      "⚠️  Could not fetch master.zip for dubermanworthy/ChatGPT-Next-Web (status 404)\n"
     ]
    },
    {
     "name": "stderr",
     "output_type": "stream",
     "text": [
      "Processing forks:  97%|█████████▋| 484/500 [00:28<00:00, 19.59it/s]"
     ]
    },
    {
     "name": "stdout",
     "output_type": "stream",
     "text": [
      "⚠️  Could not fetch main.zip for lord-dayhawk/ChatGPT-Next-Web (status 404)\n",
      "⚠️  Could not fetch master.zip for lord-dayhawk/ChatGPT-Next-Web (status 404)\n"
     ]
    },
    {
     "name": "stderr",
     "output_type": "stream",
     "text": [
      "Processing forks:  99%|█████████▊| 493/500 [00:28<00:00, 20.67it/s]"
     ]
    },
    {
     "name": "stdout",
     "output_type": "stream",
     "text": [
      "⚠️  Could not fetch main.zip for chieftain653/ChatGPT-Next-Web (status 404)\n",
      "⚠️  Could not fetch master.zip for chieftain653/ChatGPT-Next-Web (status 404)\n"
     ]
    },
    {
     "name": "stderr",
     "output_type": "stream",
     "text": [
      "Processing forks: 100%|██████████| 500/500 [00:28<00:00, 17.53it/s]\n"
     ]
    },
    {
     "name": "stdout",
     "output_type": "stream",
     "text": [
      "Batch: 45000\n"
     ]
    },
    {
     "name": "stderr",
     "output_type": "stream",
     "text": [
      "Processing forks:   0%|          | 0/500 [00:00<?, ?it/s]"
     ]
    },
    {
     "name": "stdout",
     "output_type": "stream",
     "text": [
      "⚠️  Could not fetch main.zip for mrrip83ralph/ChatGPT-Next-Web (status 404)\n"
     ]
    },
    {
     "name": "stderr",
     "output_type": "stream",
     "text": [
      "Processing forks:   3%|▎         | 17/500 [00:00<00:10, 47.33it/s]"
     ]
    },
    {
     "name": "stdout",
     "output_type": "stream",
     "text": [
      "⚠️  Could not fetch master.zip for mrrip83ralph/ChatGPT-Next-Web (status 404)\n",
      "⚠️  Could not fetch main.zip for jdynraisshaipow95/ChatGPT-Next-Web (status 404)\n"
     ]
    },
    {
     "name": "stderr",
     "output_type": "stream",
     "text": [
      "Processing forks:   6%|▌         | 29/500 [00:00<00:11, 40.30it/s]"
     ]
    },
    {
     "name": "stdout",
     "output_type": "stream",
     "text": [
      "⚠️  Could not fetch master.zip for jdynraisshaipow95/ChatGPT-Next-Web (status 404)\n",
      "⚠️  Could not fetch main.zip for zipperqueenie855/ChatGPT-Next-Web (status 404)\n"
     ]
    },
    {
     "name": "stderr",
     "output_type": "stream",
     "text": [
      "Processing forks:   7%|▋         | 34/500 [00:01<00:16, 28.49it/s]"
     ]
    },
    {
     "name": "stdout",
     "output_type": "stream",
     "text": [
      "⚠️  Could not fetch master.zip for zipperqueenie855/ChatGPT-Next-Web (status 404)\n",
      "⚠️  Could not fetch main.zip for timedustpolbatona/ChatGPT-Next-Web (status 404)\n"
     ]
    },
    {
     "name": "stderr",
     "output_type": "stream",
     "text": [
      "Processing forks:   8%|▊         | 39/500 [00:01<00:20, 21.99it/s]"
     ]
    },
    {
     "name": "stdout",
     "output_type": "stream",
     "text": [
      "⚠️  Could not fetch master.zip for timedustpolbatona/ChatGPT-Next-Web (status 404)\n",
      "⚠️  Could not fetch main.zip for spydragonralph1988/ChatGPT-Next-Web (status 404)\n"
     ]
    },
    {
     "name": "stderr",
     "output_type": "stream",
     "text": [
      "Processing forks:   9%|▊         | 43/500 [00:01<00:26, 17.57it/s]"
     ]
    },
    {
     "name": "stdout",
     "output_type": "stream",
     "text": [
      "⚠️  Could not fetch master.zip for spydragonralph1988/ChatGPT-Next-Web (status 404)\n",
      "⚠️  Could not fetch main.zip for grebblysonryles/ChatGPT-Next-Web (status 404)\n"
     ]
    },
    {
     "name": "stderr",
     "output_type": "stream",
     "text": [
      "Processing forks:  11%|█         | 54/500 [00:02<00:20, 21.73it/s]"
     ]
    },
    {
     "name": "stdout",
     "output_type": "stream",
     "text": [
      "⚠️  Could not fetch master.zip for grebblysonryles/ChatGPT-Next-Web (status 404)\n",
      "⚠️  Could not fetch main.zip for bonnlyrix-1988/ChatGPT-Next-Web (status 404)\n"
     ]
    },
    {
     "name": "stderr",
     "output_type": "stream",
     "text": [
      "Processing forks:  11%|█▏        | 57/500 [00:02<00:25, 17.61it/s]"
     ]
    },
    {
     "name": "stdout",
     "output_type": "stream",
     "text": [
      "⚠️  Could not fetch master.zip for bonnlyrix-1988/ChatGPT-Next-Web (status 404)\n"
     ]
    },
    {
     "name": "stderr",
     "output_type": "stream",
     "text": [
      "Processing forks:  12%|█▏        | 61/500 [00:03<00:35, 12.36it/s]"
     ]
    },
    {
     "name": "stdout",
     "output_type": "stream",
     "text": [
      "⚠️  Could not fetch main.zip for lellman-burton/ChatGPT-Next-Web (status 404)\n",
      "⚠️  Could not fetch master.zip for lellman-burton/ChatGPT-Next-Web (status 404)\n"
     ]
    },
    {
     "name": "stderr",
     "output_type": "stream",
     "text": [
      "Processing forks:  13%|█▎        | 65/500 [00:03<00:36, 11.91it/s]"
     ]
    },
    {
     "name": "stdout",
     "output_type": "stream",
     "text": [
      "⚠️  Could not fetch main.zip for darksoulmrzamo8/ChatGPT-Next-Web (status 404)\n",
      "⚠️  Could not fetch master.zip for darksoulmrzamo8/ChatGPT-Next-Web (status 404)\n"
     ]
    },
    {
     "name": "stderr",
     "output_type": "stream",
     "text": [
      "Processing forks:  13%|█▎        | 67/500 [00:03<00:42, 10.15it/s]"
     ]
    },
    {
     "name": "stdout",
     "output_type": "stream",
     "text": [
      "⚠️  Could not fetch main.zip for mirroxlulu195/ChatGPT-Next-Web (status 404)\n",
      "⚠️  Could not fetch master.zip for mirroxlulu195/ChatGPT-Next-Web (status 404)\n"
     ]
    },
    {
     "name": "stderr",
     "output_type": "stream",
     "text": [
      "Processing forks:  14%|█▍        | 69/500 [00:04<00:48,  8.88it/s]"
     ]
    },
    {
     "name": "stdout",
     "output_type": "stream",
     "text": [
      "⚠️  Could not fetch main.zip for ring-elasticheart/ChatGPT-Next-Web (status 404)\n",
      "⚠️  Could not fetch master.zip for ring-elasticheart/ChatGPT-Next-Web (status 404)\n",
      "⚠️  Could not fetch main.zip for popsbourne1988/ChatGPT-Next-Web (status 404)\n"
     ]
    },
    {
     "name": "stderr",
     "output_type": "stream",
     "text": [
      "Processing forks:  14%|█▍        | 70/500 [00:04<01:02,  6.83it/s]"
     ]
    },
    {
     "name": "stdout",
     "output_type": "stream",
     "text": [
      "⚠️  Could not fetch master.zip for popsbourne1988/ChatGPT-Next-Web (status 404)\n",
      "⚠️  Could not fetch main.zip for warloedeil186/ChatGPT-Next-Web (status 404)\n"
     ]
    },
    {
     "name": "stderr",
     "output_type": "stream",
     "text": [
      "Processing forks:  15%|█▍        | 73/500 [00:05<00:58,  7.25it/s]"
     ]
    },
    {
     "name": "stdout",
     "output_type": "stream",
     "text": [
      "⚠️  Could not fetch master.zip for warloedeil186/ChatGPT-Next-Web (status 404)\n",
      "⚠️  Could not fetch main.zip for screwtapetree1988/ChatGPT-Next-Web (status 404)\n"
     ]
    },
    {
     "name": "stderr",
     "output_type": "stream",
     "text": [
      "Processing forks:  15%|█▍        | 74/500 [00:05<01:11,  6.00it/s]"
     ]
    },
    {
     "name": "stdout",
     "output_type": "stream",
     "text": [
      "⚠️  Could not fetch master.zip for screwtapetree1988/ChatGPT-Next-Web (status 404)\n",
      "⚠️  Could not fetch main.zip for lubbeluckycat0/ChatGPT-Next-Web (status 404)\n"
     ]
    },
    {
     "name": "stderr",
     "output_type": "stream",
     "text": [
      "Processing forks:  15%|█▌        | 76/500 [00:05<01:12,  5.85it/s]"
     ]
    },
    {
     "name": "stdout",
     "output_type": "stream",
     "text": [
      "⚠️  Could not fetch master.zip for lubbeluckycat0/ChatGPT-Next-Web (status 404)\n",
      "⚠️  Could not fetch main.zip for mendyoluckystrike0/ChatGPT-Next-Web (status 404)\n"
     ]
    },
    {
     "name": "stderr",
     "output_type": "stream",
     "text": [
      "Processing forks:  16%|█▌        | 79/500 [00:06<01:03,  6.63it/s]"
     ]
    },
    {
     "name": "stdout",
     "output_type": "stream",
     "text": [
      "⚠️  Could not fetch master.zip for mendyoluckystrike0/ChatGPT-Next-Web (status 404)\n",
      "⚠️  Could not fetch main.zip for bridgyurik-1988/ChatGPT-Next-Web (status 404)\n"
     ]
    },
    {
     "name": "stderr",
     "output_type": "stream",
     "text": [
      "Processing forks:  16%|█▌        | 80/500 [00:06<01:16,  5.51it/s]"
     ]
    },
    {
     "name": "stdout",
     "output_type": "stream",
     "text": [
      "⚠️  Could not fetch master.zip for bridgyurik-1988/ChatGPT-Next-Web (status 404)\n",
      "⚠️  Could not fetch main.zip for bludmoonspace48/ChatGPT-Next-Web (status 404)\n"
     ]
    },
    {
     "name": "stderr",
     "output_type": "stream",
     "text": [
      "Processing forks:  16%|█▌        | 81/500 [00:06<01:29,  4.69it/s]"
     ]
    },
    {
     "name": "stdout",
     "output_type": "stream",
     "text": [
      "⚠️  Could not fetch master.zip for bludmoonspace48/ChatGPT-Next-Web (status 404)\n",
      "⚠️  Could not fetch main.zip for linkbabyboom551/ChatGPT-Next-Web (status 404)\n"
     ]
    },
    {
     "name": "stderr",
     "output_type": "stream",
     "text": [
      "Processing forks:  16%|█▋        | 82/500 [00:07<01:42,  4.07it/s]"
     ]
    },
    {
     "name": "stdout",
     "output_type": "stream",
     "text": [
      "⚠️  Could not fetch master.zip for linkbabyboom551/ChatGPT-Next-Web (status 404)\n",
      "⚠️  Could not fetch main.zip for troutgirlnonstop5/ChatGPT-Next-Web (status 404)\n"
     ]
    },
    {
     "name": "stderr",
     "output_type": "stream",
     "text": [
      "Processing forks:  17%|█▋        | 85/500 [00:07<01:18,  5.31it/s]"
     ]
    },
    {
     "name": "stdout",
     "output_type": "stream",
     "text": [
      "⚠️  Could not fetch master.zip for troutgirlnonstop5/ChatGPT-Next-Web (status 404)\n",
      "⚠️  Could not fetch main.zip for zevs2sqizman/ChatGPT-Next-Web (status 404)\n"
     ]
    },
    {
     "name": "stderr",
     "output_type": "stream",
     "text": [
      "Processing forks:  18%|█▊        | 90/500 [00:07<00:51,  7.96it/s]"
     ]
    },
    {
     "name": "stdout",
     "output_type": "stream",
     "text": [
      "⚠️  Could not fetch master.zip for zevs2sqizman/ChatGPT-Next-Web (status 404)\n",
      "⚠️  Could not fetch main.zip for numberonewild133/ChatGPT-Next-Web (status 404)\n"
     ]
    },
    {
     "name": "stderr",
     "output_type": "stream",
     "text": [
      "Processing forks:  20%|█▉        | 99/500 [00:08<00:30, 13.05it/s]"
     ]
    },
    {
     "name": "stdout",
     "output_type": "stream",
     "text": [
      "⚠️  Could not fetch master.zip for numberonewild133/ChatGPT-Next-Web (status 404)\n",
      "⚠️  Could not fetch main.zip for AnDev2023/ChatGPT-Next-Web (status 404)\n"
     ]
    },
    {
     "name": "stderr",
     "output_type": "stream",
     "text": [
      "Processing forks:  51%|█████     | 256/500 [00:08<00:01, 128.95it/s]"
     ]
    },
    {
     "name": "stdout",
     "output_type": "stream",
     "text": [
      "⚠️  Could not fetch master.zip for AnDev2023/ChatGPT-Next-Web (status 404)\n"
     ]
    },
    {
     "name": "stderr",
     "output_type": "stream",
     "text": [
      "Processing forks:  59%|█████▊    | 293/500 [00:09<00:01, 119.66it/s]"
     ]
    },
    {
     "name": "stdout",
     "output_type": "stream",
     "text": [
      "⚠️  Could not fetch main.zip for mialee1206/ChatGPT-Next-Web (status 404)\n",
      "⚠️  Could not fetch master.zip for mialee1206/ChatGPT-Next-Web (status 404)\n",
      "⚠️  Could not fetch main.zip for anqi-zhao/ChatGPT-Next-Web (status 404)\n"
     ]
    },
    {
     "name": "stderr",
     "output_type": "stream",
     "text": [
      "Processing forks: 100%|██████████| 500/500 [00:09<00:00, 52.03it/s] \n"
     ]
    },
    {
     "name": "stdout",
     "output_type": "stream",
     "text": [
      "⚠️  Could not fetch master.zip for anqi-zhao/ChatGPT-Next-Web (status 404)\n",
      "Batch: 45500\n"
     ]
    },
    {
     "name": "stderr",
     "output_type": "stream",
     "text": [
      "Processing forks:  37%|███▋      | 186/500 [00:00<00:00, 449.52it/s]"
     ]
    },
    {
     "name": "stdout",
     "output_type": "stream",
     "text": [
      "⚠️  Could not fetch main.zip for 30x40/ChatGPT-Next-Web (status 404)\n",
      "⚠️  Could not fetch master.zip for 30x40/ChatGPT-Next-Web (status 404)\n",
      "⚠️  Could not fetch main.zip for 21432556/ChatGPT-Next-Web (status 404)\n",
      "⚠️  Could not fetch master.zip for 21432556/ChatGPT-Next-Web (status 404)\n"
     ]
    },
    {
     "name": "stderr",
     "output_type": "stream",
     "text": [
      "Processing forks: 100%|██████████| 500/500 [00:01<00:00, 400.79it/s]"
     ]
    },
    {
     "name": "stdout",
     "output_type": "stream",
     "text": [
      "⚠️  Could not fetch main.zip for oestthrunj/ChatGPT-Next-Web (status 404)\n",
      "⚠️  Could not fetch master.zip for oestthrunj/ChatGPT-Next-Web (status 404)\n"
     ]
    },
    {
     "name": "stderr",
     "output_type": "stream",
     "text": [
      "\n"
     ]
    },
    {
     "name": "stdout",
     "output_type": "stream",
     "text": [
      "Batch: 46000\n"
     ]
    },
    {
     "name": "stderr",
     "output_type": "stream",
     "text": [
      "Processing forks:   0%|          | 0/500 [00:00<?, ?it/s]"
     ]
    },
    {
     "name": "stdout",
     "output_type": "stream",
     "text": [
      "⚠️  Could not fetch main.zip for GGzz520/ChatGPT-Next-Web (status 404)\n"
     ]
    },
    {
     "name": "stderr",
     "output_type": "stream",
     "text": [
      "Processing forks:  19%|█▉        | 95/500 [00:00<00:01, 264.39it/s]"
     ]
    },
    {
     "name": "stdout",
     "output_type": "stream",
     "text": [
      "⚠️  Could not fetch master.zip for GGzz520/ChatGPT-Next-Web (status 404)\n"
     ]
    },
    {
     "name": "stderr",
     "output_type": "stream",
     "text": [
      "Processing forks:  72%|███████▏  | 361/500 [00:00<00:00, 479.49it/s]"
     ]
    },
    {
     "name": "stdout",
     "output_type": "stream",
     "text": [
      "⚠️  Could not fetch main.zip for ANG-CHONG-TAT/ChatGPT-Next-Web (status 404)\n",
      "⚠️  Could not fetch master.zip for ANG-CHONG-TAT/ChatGPT-Next-Web (status 404)\n"
     ]
    },
    {
     "name": "stderr",
     "output_type": "stream",
     "text": [
      "Processing forks:  85%|████████▌ | 427/500 [00:01<00:00, 330.09it/s]"
     ]
    },
    {
     "name": "stdout",
     "output_type": "stream",
     "text": [
      "⚠️  Could not fetch main.zip for BlackThinkPro/ChatGPT-Next-Web (status 404)\n",
      "⚠️  Could not fetch master.zip for BlackThinkPro/ChatGPT-Next-Web (status 404)\n"
     ]
    },
    {
     "name": "stderr",
     "output_type": "stream",
     "text": [
      "Processing forks: 100%|██████████| 500/500 [00:01<00:00, 395.87it/s]\n"
     ]
    },
    {
     "name": "stdout",
     "output_type": "stream",
     "text": [
      "Batch: 46500\n"
     ]
    },
    {
     "name": "stderr",
     "output_type": "stream",
     "text": [
      "Processing forks:   0%|          | 0/500 [00:00<?, ?it/s]"
     ]
    },
    {
     "name": "stdout",
     "output_type": "stream",
     "text": [
      "⚠️  Could not fetch main.zip for isaac5489/ChatGPT-Next-Web (status 404)\n"
     ]
    },
    {
     "name": "stderr",
     "output_type": "stream",
     "text": [
      "Processing forks:   5%|▌         | 26/500 [00:00<00:06, 76.85it/s]"
     ]
    },
    {
     "name": "stdout",
     "output_type": "stream",
     "text": [
      "⚠️  Could not fetch master.zip for isaac5489/ChatGPT-Next-Web (status 404)\n"
     ]
    },
    {
     "name": "stderr",
     "output_type": "stream",
     "text": [
      "Processing forks:  23%|██▎       | 114/500 [00:00<00:02, 167.30it/s]"
     ]
    },
    {
     "name": "stdout",
     "output_type": "stream",
     "text": [
      "⚠️  Could not fetch main.zip for eteeng618/ChatGPT-Next-Web (status 404)\n",
      "⚠️  Could not fetch master.zip for eteeng618/ChatGPT-Next-Web (status 404)\n",
      "⚠️  Could not fetch main.zip for lin19981210/ChatGPT-Next-Web (status 404)\n"
     ]
    },
    {
     "name": "stderr",
     "output_type": "stream",
     "text": [
      "Processing forks:  30%|███       | 151/500 [00:01<00:03, 97.48it/s] "
     ]
    },
    {
     "name": "stdout",
     "output_type": "stream",
     "text": [
      "⚠️  Could not fetch master.zip for lin19981210/ChatGPT-Next-Web (status 404)\n"
     ]
    },
    {
     "name": "stderr",
     "output_type": "stream",
     "text": [
      "Processing forks:  57%|█████▋    | 284/500 [00:01<00:01, 173.11it/s]"
     ]
    },
    {
     "name": "stdout",
     "output_type": "stream",
     "text": [
      "⚠️  Could not fetch main.zip for d8776282/ChatGPT-Next-Web (status 404)\n",
      "⚠️  Could not fetch master.zip for d8776282/ChatGPT-Next-Web (status 404)\n",
      "⚠️  Could not fetch main.zip for dingshi2022/ChatGPT-Next-Web (status 404)\n"
     ]
    },
    {
     "name": "stderr",
     "output_type": "stream",
     "text": [
      "Processing forks: 100%|██████████| 500/500 [00:02<00:00, 194.44it/s]\n"
     ]
    },
    {
     "name": "stdout",
     "output_type": "stream",
     "text": [
      "⚠️  Could not fetch master.zip for dingshi2022/ChatGPT-Next-Web (status 404)\n",
      "Batch: 47000\n"
     ]
    },
    {
     "name": "stderr",
     "output_type": "stream",
     "text": [
      "Processing forks:  42%|████▏     | 212/500 [00:00<00:00, 520.04it/s]"
     ]
    },
    {
     "name": "stdout",
     "output_type": "stream",
     "text": [
      "⚠️  Could not fetch main.zip for kenshin198311/ChatGPT-Next-Web (status 404)\n",
      "⚠️  Could not fetch master.zip for kenshin198311/ChatGPT-Next-Web (status 404)\n",
      "⚠️  Could not fetch main.zip for claire056/ChatGPT-Next-Web (status 404)\n"
     ]
    },
    {
     "name": "stderr",
     "output_type": "stream",
     "text": [
      "Processing forks:  53%|█████▎    | 265/500 [00:01<00:01, 214.43it/s]"
     ]
    },
    {
     "name": "stdout",
     "output_type": "stream",
     "text": [
      "⚠️  Could not fetch master.zip for claire056/ChatGPT-Next-Web (status 404)\n",
      "⚠️  Could not fetch main.zip for DavidFeng007/ChatGPT-Next-Web (status 404)\n"
     ]
    },
    {
     "name": "stderr",
     "output_type": "stream",
     "text": [
      "Processing forks:  58%|█████▊    | 292/500 [00:01<00:01, 163.56it/s]"
     ]
    },
    {
     "name": "stdout",
     "output_type": "stream",
     "text": [
      "⚠️  Could not fetch master.zip for DavidFeng007/ChatGPT-Next-Web (status 404)\n"
     ]
    },
    {
     "name": "stderr",
     "output_type": "stream",
     "text": [
      "Processing forks:  63%|██████▎   | 316/500 [00:01<00:01, 131.46it/s]"
     ]
    },
    {
     "name": "stdout",
     "output_type": "stream",
     "text": [
      "⚠️  Could not fetch main.zip for kengchi323/ChatGPT-Next-Web (status 404)\n",
      "⚠️  Could not fetch master.zip for kengchi323/ChatGPT-Next-Web (status 404)\n"
     ]
    },
    {
     "name": "stderr",
     "output_type": "stream",
     "text": [
      "Processing forks: 100%|██████████| 500/500 [00:01<00:00, 267.54it/s]\n"
     ]
    },
    {
     "name": "stdout",
     "output_type": "stream",
     "text": [
      "Batch: 47500\n"
     ]
    },
    {
     "name": "stderr",
     "output_type": "stream",
     "text": [
      "Processing forks:   0%|          | 0/500 [00:00<?, ?it/s]"
     ]
    },
    {
     "name": "stdout",
     "output_type": "stream",
     "text": [
      "⚠️  Could not fetch main.zip for myfork001/ChatGPT-Next-Web (status 404)\n"
     ]
    },
    {
     "name": "stderr",
     "output_type": "stream",
     "text": [
      "Processing forks:   2%|▏         | 10/500 [00:00<00:17, 28.39it/s]"
     ]
    },
    {
     "name": "stdout",
     "output_type": "stream",
     "text": [
      "⚠️  Could not fetch master.zip for myfork001/ChatGPT-Next-Web (status 404)\n"
     ]
    },
    {
     "name": "stderr",
     "output_type": "stream",
     "text": [
      "Processing forks:  15%|█▌        | 75/500 [00:00<00:03, 110.33it/s]"
     ]
    },
    {
     "name": "stdout",
     "output_type": "stream",
     "text": [
      "⚠️  Could not fetch main.zip for abubao/ChatGPT-Next-Web (status 404)\n",
      "⚠️  Could not fetch master.zip for abubao/ChatGPT-Next-Web (status 404)\n",
      "⚠️  Could not fetch main.zip for renjoy112/chatgpt-nextweb (status 404)\n",
      "⚠️  Could not fetch master.zip for renjoy112/chatgpt-nextweb (status 404)\n"
     ]
    },
    {
     "name": "stderr",
     "output_type": "stream",
     "text": [
      "Processing forks:  20%|██        | 102/500 [00:01<00:06, 61.54it/s]"
     ]
    },
    {
     "name": "stdout",
     "output_type": "stream",
     "text": [
      "⚠️  Could not fetch main.zip for MarcoSpinelli009/Hans-Chat (status 404)\n",
      "⚠️  Could not fetch master.zip for MarcoSpinelli009/Hans-Chat (status 404)\n"
     ]
    },
    {
     "name": "stderr",
     "output_type": "stream",
     "text": [
      "Processing forks:  22%|██▏       | 108/500 [00:01<00:08, 46.72it/s]"
     ]
    },
    {
     "name": "stdout",
     "output_type": "stream",
     "text": [
      "⚠️  Could not fetch main.zip for Alex99901/Chat (status 404)\n",
      "⚠️  Could not fetch master.zip for Alex99901/Chat (status 404)\n"
     ]
    },
    {
     "name": "stderr",
     "output_type": "stream",
     "text": [
      "Processing forks:  38%|███▊      | 189/500 [00:02<00:02, 104.29it/s]"
     ]
    },
    {
     "name": "stdout",
     "output_type": "stream",
     "text": [
      "⚠️  Could not fetch main.zip for DanteS3/ChatGPT-Next-Web (status 404)\n",
      "⚠️  Could not fetch master.zip for DanteS3/ChatGPT-Next-Web (status 404)\n"
     ]
    },
    {
     "name": "stderr",
     "output_type": "stream",
     "text": [
      "Processing forks:  47%|████▋     | 237/500 [00:02<00:02, 111.77it/s]"
     ]
    },
    {
     "name": "stdout",
     "output_type": "stream",
     "text": [
      "⚠️  Could not fetch main.zip for whot20/ChatGPT-Next-Web-1 (status 404)\n",
      "⚠️  Could not fetch master.zip for whot20/ChatGPT-Next-Web-1 (status 404)\n"
     ]
    },
    {
     "name": "stderr",
     "output_type": "stream",
     "text": [
      "Processing forks:  59%|█████▉    | 296/500 [00:03<00:01, 103.46it/s]"
     ]
    },
    {
     "name": "stdout",
     "output_type": "stream",
     "text": [
      "⚠️  Could not fetch main.zip for lX9xWQeq/ChatGPT-Next-Web-1 (status 404)\n",
      "⚠️  Could not fetch master.zip for lX9xWQeq/ChatGPT-Next-Web-1 (status 404)\n"
     ]
    },
    {
     "name": "stderr",
     "output_type": "stream",
     "text": [
      "Processing forks:  78%|███████▊  | 388/500 [00:03<00:00, 139.06it/s]"
     ]
    },
    {
     "name": "stdout",
     "output_type": "stream",
     "text": [
      "⚠️  Could not fetch main.zip for RayHaney/ChatGPT-Next-Web (status 404)\n",
      "⚠️  Could not fetch master.zip for RayHaney/ChatGPT-Next-Web (status 404)\n"
     ]
    },
    {
     "name": "stderr",
     "output_type": "stream",
     "text": [
      "Processing forks: 100%|██████████| 500/500 [00:03<00:00, 134.58it/s]\n"
     ]
    },
    {
     "name": "stdout",
     "output_type": "stream",
     "text": [
      "Batch: 48000\n"
     ]
    },
    {
     "name": "stderr",
     "output_type": "stream",
     "text": [
      "Processing forks:   0%|          | 0/500 [00:00<?, ?it/s]"
     ]
    },
    {
     "name": "stdout",
     "output_type": "stream",
     "text": [
      "⚠️  Could not fetch main.zip for Johnjanoskovachs1994/ChatGPT-Next-Web (status 404)\n"
     ]
    },
    {
     "name": "stderr",
     "output_type": "stream",
     "text": [
      "Processing forks:  13%|█▎        | 67/500 [00:00<00:02, 180.26it/s]"
     ]
    },
    {
     "name": "stdout",
     "output_type": "stream",
     "text": [
      "⚠️  Could not fetch master.zip for Johnjanoskovachs1994/ChatGPT-Next-Web (status 404)\n",
      "⚠️  Could not fetch main.zip for Aj-Butt/ChatGPT-Next-Web (status 404)\n"
     ]
    },
    {
     "name": "stderr",
     "output_type": "stream",
     "text": [
      "Processing forks:  22%|██▏       | 109/500 [00:00<00:02, 141.78it/s]"
     ]
    },
    {
     "name": "stdout",
     "output_type": "stream",
     "text": [
      "⚠️  Could not fetch master.zip for Aj-Butt/ChatGPT-Next-Web (status 404)\n",
      "⚠️  Could not fetch main.zip for baolincl215/ChatGPT-Next-Web (status 404)\n"
     ]
    },
    {
     "name": "stderr",
     "output_type": "stream",
     "text": [
      "Processing forks:  50%|█████     | 252/500 [00:01<00:01, 232.87it/s]"
     ]
    },
    {
     "name": "stdout",
     "output_type": "stream",
     "text": [
      "⚠️  Could not fetch master.zip for baolincl215/ChatGPT-Next-Web (status 404)\n",
      "⚠️  Could not fetch main.zip for warriersober/ChatGPT-Next-Web (status 404)\n"
     ]
    },
    {
     "name": "stderr",
     "output_type": "stream",
     "text": [
      "Processing forks:  55%|█████▌    | 277/500 [00:01<00:01, 173.40it/s]"
     ]
    },
    {
     "name": "stdout",
     "output_type": "stream",
     "text": [
      "⚠️  Could not fetch master.zip for warriersober/ChatGPT-Next-Web (status 404)\n",
      "⚠️  Could not fetch main.zip for yameei/ChatGPT-Next-Web-1 (status 404)\n",
      "⚠️  Could not fetch master.zip for yameei/ChatGPT-Next-Web-1 (status 404)\n",
      "⚠️  Could not fetch main.zip for tyldev/ChatGPT-Next-Web (status 404)\n"
     ]
    },
    {
     "name": "stderr",
     "output_type": "stream",
     "text": [
      "Processing forks:  59%|█████▉    | 294/500 [00:02<00:02, 95.00it/s] "
     ]
    },
    {
     "name": "stdout",
     "output_type": "stream",
     "text": [
      "⚠️  Could not fetch master.zip for tyldev/ChatGPT-Next-Web (status 404)\n"
     ]
    },
    {
     "name": "stderr",
     "output_type": "stream",
     "text": [
      "Processing forks:  65%|██████▌   | 325/500 [00:02<00:01, 90.63it/s]"
     ]
    },
    {
     "name": "stdout",
     "output_type": "stream",
     "text": [
      "⚠️  Could not fetch main.zip for wux4106/ChatGPT-Next-Web-1 (status 404)\n",
      "⚠️  Could not fetch master.zip for wux4106/ChatGPT-Next-Web-1 (status 404)\n"
     ]
    },
    {
     "name": "stderr",
     "output_type": "stream",
     "text": [
      "Processing forks:  96%|█████████▌| 478/500 [00:03<00:00, 172.73it/s]"
     ]
    },
    {
     "name": "stdout",
     "output_type": "stream",
     "text": [
      "⚠️  Could not fetch main.zip for baohui0/ChatGPT-Next-Web (status 404)\n",
      "⚠️  Could not fetch master.zip for baohui0/ChatGPT-Next-Web (status 404)\n"
     ]
    },
    {
     "name": "stderr",
     "output_type": "stream",
     "text": [
      "Processing forks: 100%|██████████| 500/500 [00:03<00:00, 144.21it/s]\n"
     ]
    },
    {
     "name": "stdout",
     "output_type": "stream",
     "text": [
      "⚠️  Could not fetch main.zip for xie-guan-hua/ChatGPT-Next-Web (status 404)\n",
      "⚠️  Could not fetch master.zip for xie-guan-hua/ChatGPT-Next-Web (status 404)\n",
      "Batch: 48500\n"
     ]
    },
    {
     "name": "stderr",
     "output_type": "stream",
     "text": [
      "Processing forks:  11%|█         | 56/500 [00:00<00:02, 152.76it/s]"
     ]
    },
    {
     "name": "stdout",
     "output_type": "stream",
     "text": [
      "⚠️  Could not fetch main.zip for nbyhz/ChatGPT-Next-Web (status 404)\n",
      "⚠️  Could not fetch master.zip for nbyhz/ChatGPT-Next-Web (status 404)\n"
     ]
    },
    {
     "name": "stderr",
     "output_type": "stream",
     "text": [
      "Processing forks:  15%|█▌        | 77/500 [00:00<00:04, 98.63it/s] "
     ]
    },
    {
     "name": "stdout",
     "output_type": "stream",
     "text": [
      "⚠️  Could not fetch main.zip for melbaskdiaaa/ChatGPT-Next-Web (status 404)\n",
      "⚠️  Could not fetch master.zip for melbaskdiaaa/ChatGPT-Next-Web (status 404)\n"
     ]
    },
    {
     "name": "stderr",
     "output_type": "stream",
     "text": [
      "Processing forks:  36%|███▌      | 178/500 [00:01<00:01, 172.68it/s]"
     ]
    },
    {
     "name": "stdout",
     "output_type": "stream",
     "text": [
      "⚠️  Could not fetch main.zip for yuchenchen66/ChatGPT-Next-Web (status 404)\n",
      "⚠️  Could not fetch master.zip for yuchenchen66/ChatGPT-Next-Web (status 404)\n",
      "⚠️  Could not fetch main.zip for leeqingminggood/ChatGPT-Next-Web (status 404)\n"
     ]
    },
    {
     "name": "stderr",
     "output_type": "stream",
     "text": [
      "Processing forks:  47%|████▋     | 237/500 [00:01<00:01, 161.32it/s]"
     ]
    },
    {
     "name": "stdout",
     "output_type": "stream",
     "text": [
      "⚠️  Could not fetch master.zip for leeqingminggood/ChatGPT-Next-Web (status 404)\n"
     ]
    },
    {
     "name": "stderr",
     "output_type": "stream",
     "text": [
      "Processing forks:  63%|██████▎   | 314/500 [00:01<00:01, 171.30it/s]"
     ]
    },
    {
     "name": "stdout",
     "output_type": "stream",
     "text": [
      "⚠️  Could not fetch main.zip for dongfangzhaofu/ChatGPT-Next-Web (status 404)\n",
      "⚠️  Could not fetch master.zip for dongfangzhaofu/ChatGPT-Next-Web (status 404)\n",
      "⚠️  Could not fetch main.zip for csdn002/ChatGPT-Next-Web (status 404)\n"
     ]
    },
    {
     "name": "stderr",
     "output_type": "stream",
     "text": [
      "Processing forks:  66%|██████▋   | 332/500 [00:02<00:01, 126.41it/s]"
     ]
    },
    {
     "name": "stdout",
     "output_type": "stream",
     "text": [
      "⚠️  Could not fetch master.zip for csdn002/ChatGPT-Next-Web (status 404)\n",
      "⚠️  Could not fetch main.zip for ndx2527/ChatGPT-Next-Web (status 404)\n"
     ]
    },
    {
     "name": "stderr",
     "output_type": "stream",
     "text": [
      "Processing forks:  73%|███████▎  | 363/500 [00:02<00:01, 112.16it/s]"
     ]
    },
    {
     "name": "stdout",
     "output_type": "stream",
     "text": [
      "⚠️  Could not fetch master.zip for ndx2527/ChatGPT-Next-Web (status 404)\n",
      "⚠️  Could not fetch main.zip for yuchenchen6/ChatGPT-Next-Web (status 404)\n"
     ]
    },
    {
     "name": "stderr",
     "output_type": "stream",
     "text": [
      "Processing forks:  79%|███████▉  | 395/500 [00:03<00:01, 103.28it/s]"
     ]
    },
    {
     "name": "stdout",
     "output_type": "stream",
     "text": [
      "⚠️  Could not fetch master.zip for yuchenchen6/ChatGPT-Next-Web (status 404)\n",
      "⚠️  Could not fetch main.zip for tttttffs/ChatGPT-Next-Web (status 404)\n"
     ]
    },
    {
     "name": "stderr",
     "output_type": "stream",
     "text": [
      "Processing forks:  82%|████████▏ | 409/500 [00:03<00:01, 84.68it/s] "
     ]
    },
    {
     "name": "stdout",
     "output_type": "stream",
     "text": [
      "⚠️  Could not fetch master.zip for tttttffs/ChatGPT-Next-Web (status 404)\n"
     ]
    },
    {
     "name": "stderr",
     "output_type": "stream",
     "text": [
      "Processing forks:  89%|████████▉ | 446/500 [00:03<00:00, 87.91it/s]"
     ]
    },
    {
     "name": "stdout",
     "output_type": "stream",
     "text": [
      "⚠️  Could not fetch main.zip for Nan1chen/ChatGPT-Next-Web-1 (status 404)\n",
      "⚠️  Could not fetch master.zip for Nan1chen/ChatGPT-Next-Web-1 (status 404)\n",
      "⚠️  Could not fetch main.zip for xiaotong1995/ChatGPT-Next-Web (status 404)\n"
     ]
    },
    {
     "name": "stderr",
     "output_type": "stream",
     "text": [
      "Processing forks: 100%|██████████| 500/500 [00:04<00:00, 109.51it/s]\n"
     ]
    },
    {
     "name": "stdout",
     "output_type": "stream",
     "text": [
      "⚠️  Could not fetch master.zip for xiaotong1995/ChatGPT-Next-Web (status 404)\n",
      "Batch: 49000\n"
     ]
    },
    {
     "name": "stderr",
     "output_type": "stream",
     "text": [
      "Processing forks:  11%|█         | 56/500 [00:00<00:03, 130.75it/s]"
     ]
    },
    {
     "name": "stdout",
     "output_type": "stream",
     "text": [
      "⚠️  Could not fetch main.zip for ngrotjohan/ChatGPT-Next-Web (status 404)\n",
      "⚠️  Could not fetch master.zip for ngrotjohan/ChatGPT-Next-Web (status 404)\n"
     ]
    },
    {
     "name": "stderr",
     "output_type": "stream",
     "text": [
      "Processing forks:  59%|█████▉    | 295/500 [00:00<00:00, 381.98it/s]"
     ]
    },
    {
     "name": "stdout",
     "output_type": "stream",
     "text": [
      "⚠️  Could not fetch main.zip for GauroTello/ChatGPT-Next-Web (status 404)\n",
      "⚠️  Could not fetch master.zip for GauroTello/ChatGPT-Next-Web (status 404)\n"
     ]
    },
    {
     "name": "stderr",
     "output_type": "stream",
     "text": [
      "Processing forks: 100%|██████████| 500/500 [00:00<00:00, 530.92it/s]\n"
     ]
    },
    {
     "name": "stdout",
     "output_type": "stream",
     "text": [
      "Batch: 49500\n"
     ]
    },
    {
     "name": "stderr",
     "output_type": "stream",
     "text": [
      "Processing forks:   0%|          | 0/500 [00:00<?, ?it/s]"
     ]
    },
    {
     "name": "stdout",
     "output_type": "stream",
     "text": [
      "⚠️  Could not fetch main.zip for jdsry/ChatGPT-Next-Web (status 404)\n"
     ]
    },
    {
     "name": "stderr",
     "output_type": "stream",
     "text": [
      "Processing forks:   7%|▋         | 36/500 [00:00<00:04, 100.17it/s]"
     ]
    },
    {
     "name": "stdout",
     "output_type": "stream",
     "text": [
      "⚠️  Could not fetch master.zip for jdsry/ChatGPT-Next-Web (status 404)\n"
     ]
    },
    {
     "name": "stderr",
     "output_type": "stream",
     "text": [
      "Processing forks:  38%|███▊      | 191/500 [00:01<00:01, 185.44it/s]"
     ]
    },
    {
     "name": "stdout",
     "output_type": "stream",
     "text": [
      "⚠️  Could not fetch main.zip for chenxuan1028/ChatGPT-Next-Web (status 404)\n",
      "⚠️  Could not fetch master.zip for chenxuan1028/ChatGPT-Next-Web (status 404)\n",
      "⚠️  Could not fetch main.zip for dongmuhds/ChatGPT-Next-Web (status 404)\n"
     ]
    },
    {
     "name": "stderr",
     "output_type": "stream",
     "text": [
      "Processing forks:  50%|█████     | 250/500 [00:01<00:01, 131.60it/s]"
     ]
    },
    {
     "name": "stdout",
     "output_type": "stream",
     "text": [
      "⚠️  Could not fetch master.zip for dongmuhds/ChatGPT-Next-Web (status 404)\n",
      "⚠️  Could not fetch main.zip for isrihanhedi/ChatGPT-Next-Web (status 404)\n"
     ]
    },
    {
     "name": "stderr",
     "output_type": "stream",
     "text": [
      "Processing forks:  53%|█████▎    | 263/500 [00:02<00:02, 104.84it/s]"
     ]
    },
    {
     "name": "stdout",
     "output_type": "stream",
     "text": [
      "⚠️  Could not fetch master.zip for isrihanhedi/ChatGPT-Next-Web (status 404)\n",
      "⚠️  Could not fetch main.zip for CollmeYH/ChatGPT-Next-Web (status 404)\n"
     ]
    },
    {
     "name": "stderr",
     "output_type": "stream",
     "text": [
      "Processing forks:  75%|███████▌  | 376/500 [00:02<00:00, 135.16it/s]"
     ]
    },
    {
     "name": "stdout",
     "output_type": "stream",
     "text": [
      "⚠️  Could not fetch master.zip for CollmeYH/ChatGPT-Next-Web (status 404)\n",
      "⚠️  Could not fetch main.zip for happytpch/ChatGPT-Next-Web (status 404)\n"
     ]
    },
    {
     "name": "stderr",
     "output_type": "stream",
     "text": [
      "Processing forks:  78%|███████▊  | 390/500 [00:03<00:01, 93.28it/s] "
     ]
    },
    {
     "name": "stdout",
     "output_type": "stream",
     "text": [
      "⚠️  Could not fetch master.zip for happytpch/ChatGPT-Next-Web (status 404)\n",
      "⚠️  Could not fetch main.zip for kezi9521/ChatGPT-Next-Web (status 404)\n"
     ]
    },
    {
     "name": "stderr",
     "output_type": "stream",
     "text": [
      "Processing forks:  80%|████████  | 400/500 [00:03<00:01, 77.58it/s]"
     ]
    },
    {
     "name": "stdout",
     "output_type": "stream",
     "text": [
      "⚠️  Could not fetch master.zip for kezi9521/ChatGPT-Next-Web (status 404)\n"
     ]
    },
    {
     "name": "stderr",
     "output_type": "stream",
     "text": [
      "Processing forks: 100%|██████████| 500/500 [00:04<00:00, 117.80it/s]"
     ]
    },
    {
     "name": "stdout",
     "output_type": "stream",
     "text": [
      "⚠️  Could not fetch main.zip for kissiiiii/ChatGPT-Next-Web (status 404)\n",
      "⚠️  Could not fetch master.zip for kissiiiii/ChatGPT-Next-Web (status 404)\n"
     ]
    },
    {
     "name": "stderr",
     "output_type": "stream",
     "text": [
      "\n"
     ]
    },
    {
     "name": "stdout",
     "output_type": "stream",
     "text": [
      "Batch: 50000\n"
     ]
    },
    {
     "name": "stderr",
     "output_type": "stream",
     "text": [
      "Processing forks:   0%|          | 0/500 [00:00<?, ?it/s]"
     ]
    },
    {
     "name": "stdout",
     "output_type": "stream",
     "text": [
      "⚠️  Could not fetch main.zip for SundayWind2023/ChatGPT-Next-Web (status 404)\n"
     ]
    },
    {
     "name": "stderr",
     "output_type": "stream",
     "text": [
      "Processing forks:   2%|▏         | 10/500 [00:00<00:17, 28.24it/s]"
     ]
    },
    {
     "name": "stdout",
     "output_type": "stream",
     "text": [
      "⚠️  Could not fetch master.zip for SundayWind2023/ChatGPT-Next-Web (status 404)\n"
     ]
    },
    {
     "name": "stderr",
     "output_type": "stream",
     "text": [
      "Processing forks:  36%|███▋      | 182/500 [00:00<00:01, 270.09it/s]"
     ]
    },
    {
     "name": "stdout",
     "output_type": "stream",
     "text": [
      "⚠️  Could not fetch main.zip for kevin422/ChatGPT-Next-Web (status 404)\n",
      "⚠️  Could not fetch master.zip for kevin422/ChatGPT-Next-Web (status 404)\n",
      "⚠️  Could not fetch main.zip for ldzg/ChatGPT-Next-Web-1 (status 404)\n",
      "⚠️  Could not fetch master.zip for ldzg/ChatGPT-Next-Web-1 (status 404)\n"
     ]
    },
    {
     "name": "stderr",
     "output_type": "stream",
     "text": [
      "Processing forks:  42%|████▏     | 208/500 [00:01<00:02, 128.60it/s]"
     ]
    },
    {
     "name": "stdout",
     "output_type": "stream",
     "text": [
      "⚠️  Could not fetch main.zip for Fun-X/ChatGPT-Next-Web (status 404)\n",
      "⚠️  Could not fetch master.zip for Fun-X/ChatGPT-Next-Web (status 404)\n"
     ]
    },
    {
     "name": "stderr",
     "output_type": "stream",
     "text": [
      "Processing forks:  48%|████▊     | 238/500 [00:01<00:02, 112.97it/s]"
     ]
    },
    {
     "name": "stdout",
     "output_type": "stream",
     "text": [
      "⚠️  Could not fetch main.zip for boyueluzhipeng/ChatGPT-Next-Web-1 (status 404)\n",
      "⚠️  Could not fetch master.zip for boyueluzhipeng/ChatGPT-Next-Web-1 (status 404)\n"
     ]
    },
    {
     "name": "stderr",
     "output_type": "stream",
     "text": [
      "Processing forks:  75%|███████▍  | 373/500 [00:02<00:00, 183.31it/s]"
     ]
    },
    {
     "name": "stdout",
     "output_type": "stream",
     "text": [
      "⚠️  Could not fetch main.zip for rsniubi/ChatGPT-Next-Web-2 (status 404)\n",
      "⚠️  Could not fetch master.zip for rsniubi/ChatGPT-Next-Web-2 (status 404)\n"
     ]
    },
    {
     "name": "stderr",
     "output_type": "stream",
     "text": [
      "Processing forks:  79%|███████▊  | 393/500 [00:02<00:00, 145.17it/s]"
     ]
    },
    {
     "name": "stdout",
     "output_type": "stream",
     "text": [
      "⚠️  Could not fetch main.zip for rsniubi/ChatGPT-Next-Web (status 404)\n",
      "⚠️  Could not fetch master.zip for rsniubi/ChatGPT-Next-Web (status 404)\n"
     ]
    },
    {
     "name": "stderr",
     "output_type": "stream",
     "text": [
      "Processing forks: 100%|██████████| 500/500 [00:02<00:00, 186.06it/s]\n"
     ]
    },
    {
     "name": "stdout",
     "output_type": "stream",
     "text": [
      "Batch: 50500\n"
     ]
    },
    {
     "name": "stderr",
     "output_type": "stream",
     "text": [
      "Processing forks:   0%|          | 0/500 [00:00<?, ?it/s]"
     ]
    },
    {
     "name": "stdout",
     "output_type": "stream",
     "text": [
      "⚠️  Could not fetch main.zip for lasotaagency/ChatGPT-Next-Web-1 (status 404)\n"
     ]
    },
    {
     "name": "stderr",
     "output_type": "stream",
     "text": [
      "Processing forks:  14%|█▍        | 69/500 [00:00<00:02, 184.52it/s]"
     ]
    },
    {
     "name": "stdout",
     "output_type": "stream",
     "text": [
      "⚠️  Could not fetch master.zip for lasotaagency/ChatGPT-Next-Web-1 (status 404)\n"
     ]
    },
    {
     "name": "stderr",
     "output_type": "stream",
     "text": [
      "Processing forks:  49%|████▊     | 243/500 [00:00<00:00, 326.28it/s]"
     ]
    },
    {
     "name": "stdout",
     "output_type": "stream",
     "text": [
      "⚠️  Could not fetch main.zip for imdadsiddi/ChatGPT-Next-Web (status 404)\n",
      "⚠️  Could not fetch master.zip for imdadsiddi/ChatGPT-Next-Web (status 404)\n",
      "⚠️  Could not fetch main.zip for ahwadwan888/ChatGPT-Next-Web (status 404)\n",
      "⚠️  Could not fetch master.zip for ahwadwan888/ChatGPT-Next-Web (status 404)\n"
     ]
    },
    {
     "name": "stderr",
     "output_type": "stream",
     "text": [
      "Processing forks:  55%|█████▌    | 275/500 [00:01<00:01, 153.52it/s]"
     ]
    },
    {
     "name": "stdout",
     "output_type": "stream",
     "text": [
      "⚠️  Could not fetch main.zip for ahwad/ChatGPT-Next-Web (status 404)\n",
      "⚠️  Could not fetch master.zip for ahwad/ChatGPT-Next-Web (status 404)\n",
      "⚠️  Could not fetch main.zip for ahwadwan8888/ChatGPT-Next-Web (status 404)\n",
      "⚠️  Could not fetch master.zip for ahwadwan8888/ChatGPT-Next-Web (status 404)\n",
      "⚠️  Could not fetch main.zip for ahwadwan88/ChatGPT-Next-Web (status 404)\n",
      "⚠️  Could not fetch master.zip for ahwadwan88/ChatGPT-Next-Web (status 404)\n"
     ]
    },
    {
     "name": "stderr",
     "output_type": "stream",
     "text": [
      "Processing forks:  72%|███████▏  | 358/500 [00:02<00:01, 112.69it/s]"
     ]
    },
    {
     "name": "stdout",
     "output_type": "stream",
     "text": [
      "⚠️  Could not fetch main.zip for cynthiaksid/ChatGPT-Next-Web (status 404)\n",
      "⚠️  Could not fetch master.zip for cynthiaksid/ChatGPT-Next-Web (status 404)\n"
     ]
    },
    {
     "name": "stderr",
     "output_type": "stream",
     "text": [
      "Processing forks:  78%|███████▊  | 391/500 [00:03<00:01, 104.71it/s]"
     ]
    },
    {
     "name": "stdout",
     "output_type": "stream",
     "text": [
      "⚠️  Could not fetch main.zip for wd824/ChatGPT-Next-Web (status 404)\n",
      "⚠️  Could not fetch master.zip for wd824/ChatGPT-Next-Web (status 404)\n",
      "⚠️  Could not fetch main.zip for linmew/ChatGPT-Next-Web (status 404)\n"
     ]
    },
    {
     "name": "stderr",
     "output_type": "stream",
     "text": [
      "Processing forks:  93%|█████████▎| 463/500 [00:03<00:00, 123.71it/s]"
     ]
    },
    {
     "name": "stdout",
     "output_type": "stream",
     "text": [
      "⚠️  Could not fetch master.zip for linmew/ChatGPT-Next-Web (status 404)\n",
      "⚠️  Could not fetch main.zip for ocowqehbqjja/ChatGPT-Next-Web (status 404)\n"
     ]
    },
    {
     "name": "stderr",
     "output_type": "stream",
     "text": [
      "Processing forks: 100%|██████████| 500/500 [00:03<00:00, 128.82it/s]\n"
     ]
    },
    {
     "name": "stdout",
     "output_type": "stream",
     "text": [
      "⚠️  Could not fetch master.zip for ocowqehbqjja/ChatGPT-Next-Web (status 404)\n",
      "Batch: 51000\n"
     ]
    },
    {
     "name": "stderr",
     "output_type": "stream",
     "text": [
      "Processing forks:  37%|███▋      | 184/500 [00:00<00:00, 429.50it/s]"
     ]
    },
    {
     "name": "stdout",
     "output_type": "stream",
     "text": [
      "⚠️  Could not fetch main.zip for NancyNelso/ChatGPT-Next-Web (status 404)\n",
      "⚠️  Could not fetch master.zip for NancyNelso/ChatGPT-Next-Web (status 404)\n",
      "⚠️  Could not fetch main.zip for SarahAdams537191/ChatGPT-Next-Web (status 404)\n"
     ]
    },
    {
     "name": "stderr",
     "output_type": "stream",
     "text": [
      "Processing forks:  45%|████▌     | 227/500 [00:01<00:01, 179.82it/s]"
     ]
    },
    {
     "name": "stdout",
     "output_type": "stream",
     "text": [
      "⚠️  Could not fetch master.zip for SarahAdams537191/ChatGPT-Next-Web (status 404)\n"
     ]
    },
    {
     "name": "stderr",
     "output_type": "stream",
     "text": [
      "Processing forks:  73%|███████▎  | 367/500 [00:01<00:00, 238.70it/s]"
     ]
    },
    {
     "name": "stdout",
     "output_type": "stream",
     "text": [
      "⚠️  Could not fetch main.zip for 52gpt6666/ChatGPT-Next-Web (status 404)\n",
      "⚠️  Could not fetch master.zip for 52gpt6666/ChatGPT-Next-Web (status 404)\n"
     ]
    },
    {
     "name": "stderr",
     "output_type": "stream",
     "text": [
      "Processing forks: 100%|██████████| 500/500 [00:01<00:00, 323.01it/s]\n"
     ]
    },
    {
     "name": "stdout",
     "output_type": "stream",
     "text": [
      "Batch: 51500\n"
     ]
    },
    {
     "name": "stderr",
     "output_type": "stream",
     "text": [
      "Processing forks:   0%|          | 0/500 [00:00<?, ?it/s]"
     ]
    },
    {
     "name": "stdout",
     "output_type": "stream",
     "text": [
      "⚠️  Could not fetch main.zip for PathompolPiyasamut/ChatGPT-Next-Web (status 404)\n"
     ]
    },
    {
     "name": "stderr",
     "output_type": "stream",
     "text": [
      "Processing forks:  10%|█         | 51/500 [00:00<00:03, 137.07it/s]"
     ]
    },
    {
     "name": "stdout",
     "output_type": "stream",
     "text": [
      "⚠️  Could not fetch master.zip for PathompolPiyasamut/ChatGPT-Next-Web (status 404)\n",
      "⚠️  Could not fetch main.zip for messtwritess/ChatGPT-Next-Web (status 404)\n",
      "⚠️  Could not fetch master.zip for messtwritess/ChatGPT-Next-Web (status 404)\n"
     ]
    },
    {
     "name": "stderr",
     "output_type": "stream",
     "text": [
      "Processing forks:  13%|█▎        | 65/500 [00:00<00:05, 79.10it/s] "
     ]
    },
    {
     "name": "stdout",
     "output_type": "stream",
     "text": [
      "⚠️  Could not fetch main.zip for bruce20230426/ChatGPT-Next-Web (status 404)\n"
     ]
    },
    {
     "name": "stderr",
     "output_type": "stream",
     "text": [
      "Processing forks:  16%|█▌        | 78/500 [00:01<00:07, 58.51it/s]"
     ]
    },
    {
     "name": "stdout",
     "output_type": "stream",
     "text": [
      "⚠️  Could not fetch master.zip for bruce20230426/ChatGPT-Next-Web (status 404)\n",
      "⚠️  Could not fetch main.zip for 2777938394/ChatGPT- (status 404)\n"
     ]
    },
    {
     "name": "stderr",
     "output_type": "stream",
     "text": [
      "Processing forks:  17%|█▋        | 84/500 [00:01<00:09, 42.54it/s]"
     ]
    },
    {
     "name": "stdout",
     "output_type": "stream",
     "text": [
      "⚠️  Could not fetch master.zip for 2777938394/ChatGPT- (status 404)\n",
      "⚠️  Could not fetch main.zip for ilioner/ChatGPT-Next-Web (status 404)\n"
     ]
    },
    {
     "name": "stderr",
     "output_type": "stream",
     "text": [
      "Processing forks:  34%|███▎      | 168/500 [00:01<00:03, 102.17it/s]"
     ]
    },
    {
     "name": "stdout",
     "output_type": "stream",
     "text": [
      "⚠️  Could not fetch master.zip for ilioner/ChatGPT-Next-Web (status 404)\n",
      "⚠️  Could not fetch main.zip for asghar765/ChatGPT-Next-Web (status 404)\n"
     ]
    },
    {
     "name": "stderr",
     "output_type": "stream",
     "text": [
      "Processing forks:  46%|████▌     | 230/500 [00:02<00:02, 123.43it/s]"
     ]
    },
    {
     "name": "stdout",
     "output_type": "stream",
     "text": [
      "⚠️  Could not fetch master.zip for asghar765/ChatGPT-Next-Web (status 404)\n",
      "⚠️  Could not fetch main.zip for LYFly228/ChatGPT-Next-Web (status 404)\n"
     ]
    },
    {
     "name": "stderr",
     "output_type": "stream",
     "text": [
      "Processing forks:  54%|█████▍    | 272/500 [00:02<00:01, 121.28it/s]"
     ]
    },
    {
     "name": "stdout",
     "output_type": "stream",
     "text": [
      "⚠️  Could not fetch master.zip for LYFly228/ChatGPT-Next-Web (status 404)\n",
      "⚠️  Could not fetch main.zip for cosifis/ChatGPT-Next-Web (status 404)\n"
     ]
    },
    {
     "name": "stderr",
     "output_type": "stream",
     "text": [
      "Processing forks:  57%|█████▋    | 284/500 [00:03<00:02, 94.39it/s] "
     ]
    },
    {
     "name": "stdout",
     "output_type": "stream",
     "text": [
      "⚠️  Could not fetch master.zip for cosifis/ChatGPT-Next-Web (status 404)\n",
      "⚠️  Could not fetch main.zip for MOHFIRMANSYAH/ChatGPT-Next-Web (status 404)\n"
     ]
    },
    {
     "name": "stderr",
     "output_type": "stream",
     "text": [
      "Processing forks:  60%|█████▉    | 298/500 [00:03<00:02, 78.56it/s]"
     ]
    },
    {
     "name": "stdout",
     "output_type": "stream",
     "text": [
      "⚠️  Could not fetch master.zip for MOHFIRMANSYAH/ChatGPT-Next-Web (status 404)\n",
      "⚠️  Could not fetch main.zip for hcythiasavoie7/ChatGPT-Next-Web (status 404)\n"
     ]
    },
    {
     "name": "stderr",
     "output_type": "stream",
     "text": [
      "Processing forks:  66%|██████▋   | 332/500 [00:03<00:02, 82.97it/s]"
     ]
    },
    {
     "name": "stdout",
     "output_type": "stream",
     "text": [
      "⚠️  Could not fetch master.zip for hcythiasavoie7/ChatGPT-Next-Web (status 404)\n",
      "⚠️  Could not fetch main.zip for pwadgjlkhfs/ChatGPT-Next-Web (status 404)\n"
     ]
    },
    {
     "name": "stderr",
     "output_type": "stream",
     "text": [
      "Processing forks:  72%|███████▏  | 361/500 [00:04<00:01, 82.18it/s]"
     ]
    },
    {
     "name": "stdout",
     "output_type": "stream",
     "text": [
      "⚠️  Could not fetch master.zip for pwadgjlkhfs/ChatGPT-Next-Web (status 404)\n",
      "⚠️  Could not fetch main.zip for makeDf/ChatGPT-Next-Web (status 404)\n"
     ]
    },
    {
     "name": "stderr",
     "output_type": "stream",
     "text": [
      "Processing forks:  88%|████████▊ | 440/500 [00:04<00:00, 117.90it/s]"
     ]
    },
    {
     "name": "stdout",
     "output_type": "stream",
     "text": [
      "⚠️  Could not fetch master.zip for makeDf/ChatGPT-Next-Web (status 404)\n",
      "⚠️  Could not fetch main.zip for b4sh1t1/ChatGPT-Next-Web (status 404)\n"
     ]
    },
    {
     "name": "stderr",
     "output_type": "stream",
     "text": [
      "Processing forks:  90%|█████████ | 452/500 [00:04<00:00, 93.18it/s] "
     ]
    },
    {
     "name": "stdout",
     "output_type": "stream",
     "text": [
      "⚠️  Could not fetch master.zip for b4sh1t1/ChatGPT-Next-Web (status 404)\n",
      "⚠️  Could not fetch main.zip for LeeQingmingCool/ChatGPT-Next-Web (status 404)\n"
     ]
    },
    {
     "name": "stderr",
     "output_type": "stream",
     "text": [
      "Processing forks:  92%|█████████▏| 461/500 [00:05<00:00, 73.56it/s]"
     ]
    },
    {
     "name": "stdout",
     "output_type": "stream",
     "text": [
      "⚠️  Could not fetch master.zip for LeeQingmingCool/ChatGPT-Next-Web (status 404)\n",
      "⚠️  Could not fetch main.zip for xcrdjn/ChatGPT-Next-Web (status 404)\n"
     ]
    },
    {
     "name": "stderr",
     "output_type": "stream",
     "text": [
      "Processing forks: 100%|██████████| 500/500 [00:05<00:00, 88.95it/s]\n"
     ]
    },
    {
     "name": "stdout",
     "output_type": "stream",
     "text": [
      "⚠️  Could not fetch master.zip for xcrdjn/ChatGPT-Next-Web (status 404)\n",
      "Batch: 52000\n"
     ]
    },
    {
     "name": "stderr",
     "output_type": "stream",
     "text": [
      "Processing forks:  33%|███▎      | 164/500 [00:00<00:00, 407.69it/s]"
     ]
    },
    {
     "name": "stdout",
     "output_type": "stream",
     "text": [
      "⚠️  Could not fetch main.zip for ChatGPTaibot2/vs-ai (status 404)\n",
      "⚠️  Could not fetch master.zip for ChatGPTaibot2/vs-ai (status 404)\n",
      "⚠️  Could not fetch main.zip for ChatGPTaibot/ChatGPT-Next-Web (status 404)\n",
      "⚠️  Could not fetch master.zip for ChatGPTaibot/ChatGPT-Next-Web (status 404)\n"
     ]
    },
    {
     "name": "stderr",
     "output_type": "stream",
     "text": [
      "Processing forks:  41%|████      | 205/500 [00:00<00:01, 230.75it/s]"
     ]
    },
    {
     "name": "stdout",
     "output_type": "stream",
     "text": [
      "⚠️  Could not fetch main.zip for bruce20230424/ChatGPT-Next-Web (status 404)\n"
     ]
    },
    {
     "name": "stderr",
     "output_type": "stream",
     "text": [
      "Processing forks: 100%|██████████| 500/500 [00:01<00:00, 333.81it/s]\n"
     ]
    },
    {
     "name": "stdout",
     "output_type": "stream",
     "text": [
      "⚠️  Could not fetch master.zip for bruce20230424/ChatGPT-Next-Web (status 404)\n",
      "Batch: 52500\n"
     ]
    },
    {
     "name": "stderr",
     "output_type": "stream",
     "text": [
      "Processing forks:  10%|█         | 52/500 [00:00<00:03, 145.68it/s]"
     ]
    },
    {
     "name": "stdout",
     "output_type": "stream",
     "text": [
      "⚠️  Could not fetch main.zip for billyzhao2023/ChatGPT-Next-Web (status 404)\n",
      "⚠️  Could not fetch master.zip for billyzhao2023/ChatGPT-Next-Web (status 404)\n",
      "⚠️  Could not fetch main.zip for ttony29/ChatGPT-Next-Web (status 404)\n"
     ]
    },
    {
     "name": "stderr",
     "output_type": "stream",
     "text": [
      "Processing forks:  14%|█▍        | 70/500 [00:00<00:05, 85.02it/s] "
     ]
    },
    {
     "name": "stdout",
     "output_type": "stream",
     "text": [
      "⚠️  Could not fetch master.zip for ttony29/ChatGPT-Next-Web (status 404)\n",
      "⚠️  Could not fetch main.zip for tikiyes/ChatGPT-Next-Web (status 404)\n"
     ]
    },
    {
     "name": "stderr",
     "output_type": "stream",
     "text": [
      "Processing forks:  16%|█▌        | 79/500 [00:01<00:07, 56.21it/s]"
     ]
    },
    {
     "name": "stdout",
     "output_type": "stream",
     "text": [
      "⚠️  Could not fetch master.zip for tikiyes/ChatGPT-Next-Web (status 404)\n"
     ]
    },
    {
     "name": "stderr",
     "output_type": "stream",
     "text": [
      "Processing forks:  34%|███▍      | 170/500 [00:01<00:02, 126.41it/s]"
     ]
    },
    {
     "name": "stdout",
     "output_type": "stream",
     "text": [
      "⚠️  Could not fetch main.zip for PornhuBox/ChatGPT-Next-Web (status 404)\n",
      "⚠️  Could not fetch master.zip for PornhuBox/ChatGPT-Next-Web (status 404)\n"
     ]
    },
    {
     "name": "stderr",
     "output_type": "stream",
     "text": [
      "Processing forks: 100%|██████████| 500/500 [00:01<00:00, 303.43it/s]\n"
     ]
    },
    {
     "name": "stdout",
     "output_type": "stream",
     "text": [
      "Batch: 53000\n"
     ]
    },
    {
     "name": "stderr",
     "output_type": "stream",
     "text": [
      "Processing forks:   0%|          | 0/500 [00:00<?, ?it/s]"
     ]
    },
    {
     "name": "stdout",
     "output_type": "stream",
     "text": [
      "⚠️  Could not fetch main.zip for satan0259/ChatGPT-Next-Web (status 404)\n"
     ]
    },
    {
     "name": "stderr",
     "output_type": "stream",
     "text": [
      "Processing forks:   0%|          | 2/500 [00:00<01:27,  5.71it/s]"
     ]
    },
    {
     "name": "stdout",
     "output_type": "stream",
     "text": [
      "⚠️  Could not fetch master.zip for satan0259/ChatGPT-Next-Web (status 404)\n",
      "⚠️  Could not fetch main.zip for TJF-wind/ChatGPT-Wind (status 404)\n"
     ]
    },
    {
     "name": "stderr",
     "output_type": "stream",
     "text": [
      "Processing forks:   4%|▍         | 20/500 [00:00<00:14, 32.15it/s]"
     ]
    },
    {
     "name": "stdout",
     "output_type": "stream",
     "text": [
      "⚠️  Could not fetch master.zip for TJF-wind/ChatGPT-Wind (status 404)\n",
      "⚠️  Could not fetch main.zip for reksagalang1/ChatGPT-Next-Web (status 404)\n"
     ]
    },
    {
     "name": "stderr",
     "output_type": "stream",
     "text": [
      "Processing forks:  10%|█         | 52/500 [00:01<00:07, 56.81it/s]"
     ]
    },
    {
     "name": "stdout",
     "output_type": "stream",
     "text": [
      "⚠️  Could not fetch master.zip for reksagalang1/ChatGPT-Next-Web (status 404)\n"
     ]
    },
    {
     "name": "stderr",
     "output_type": "stream",
     "text": [
      "Processing forks:  44%|████▍     | 222/500 [00:01<00:01, 206.56it/s]"
     ]
    },
    {
     "name": "stdout",
     "output_type": "stream",
     "text": [
      "⚠️  Could not fetch main.zip for songsva/ChatGPT-Next-Web (status 404)\n",
      "⚠️  Could not fetch master.zip for songsva/ChatGPT-Next-Web (status 404)\n"
     ]
    },
    {
     "name": "stderr",
     "output_type": "stream",
     "text": [
      "Processing forks: 100%|██████████| 500/500 [00:01<00:00, 311.44it/s]\n"
     ]
    },
    {
     "name": "stdout",
     "output_type": "stream",
     "text": [
      "Batch: 53500\n"
     ]
    },
    {
     "name": "stderr",
     "output_type": "stream",
     "text": [
      "Processing forks:   0%|          | 0/500 [00:00<?, ?it/s]"
     ]
    },
    {
     "name": "stdout",
     "output_type": "stream",
     "text": [
      "⚠️  Could not fetch main.zip for yuqikzz/ChatGPT-Next-Web-1 (status 404)\n"
     ]
    },
    {
     "name": "stderr",
     "output_type": "stream",
     "text": [
      "Processing forks:   0%|          | 1/500 [00:00<03:01,  2.75it/s]"
     ]
    },
    {
     "name": "stdout",
     "output_type": "stream",
     "text": [
      "⚠️  Could not fetch master.zip for yuqikzz/ChatGPT-Next-Web-1 (status 404)\n"
     ]
    },
    {
     "name": "stderr",
     "output_type": "stream",
     "text": [
      "Processing forks:  47%|████▋     | 235/500 [00:00<00:00, 662.55it/s]"
     ]
    },
    {
     "name": "stdout",
     "output_type": "stream",
     "text": [
      "⚠️  Could not fetch main.zip for reinhartHeldham/ChatGPT-Next-Web-1 (status 404)\n",
      "⚠️  Could not fetch master.zip for reinhartHeldham/ChatGPT-Next-Web-1 (status 404)\n"
     ]
    },
    {
     "name": "stderr",
     "output_type": "stream",
     "text": [
      "Processing forks: 100%|██████████| 500/500 [00:00<00:00, 541.36it/s]\n"
     ]
    },
    {
     "name": "stdout",
     "output_type": "stream",
     "text": [
      "Batch: 54000\n"
     ]
    },
    {
     "name": "stderr",
     "output_type": "stream",
     "text": [
      "Processing forks:   0%|          | 0/500 [00:00<?, ?it/s]"
     ]
    },
    {
     "name": "stdout",
     "output_type": "stream",
     "text": [
      "⚠️  Could not fetch main.zip for hodkiewicz9980/ChatGPT-Next-Web (status 404)\n"
     ]
    },
    {
     "name": "stderr",
     "output_type": "stream",
     "text": [
      "Processing forks:   7%|▋         | 34/500 [00:00<00:04, 98.40it/s]"
     ]
    },
    {
     "name": "stdout",
     "output_type": "stream",
     "text": [
      "⚠️  Could not fetch master.zip for hodkiewicz9980/ChatGPT-Next-Web (status 404)\n",
      "⚠️  Could not fetch main.zip for sadazs/ChatGPT-UI (status 404)\n"
     ]
    },
    {
     "name": "stderr",
     "output_type": "stream",
     "text": [
      "Processing forks:  18%|█▊        | 90/500 [00:00<00:03, 124.99it/s]"
     ]
    },
    {
     "name": "stdout",
     "output_type": "stream",
     "text": [
      "⚠️  Could not fetch master.zip for sadazs/ChatGPT-UI (status 404)\n"
     ]
    },
    {
     "name": "stderr",
     "output_type": "stream",
     "text": [
      "Processing forks:  27%|██▋       | 134/500 [00:01<00:03, 119.39it/s]"
     ]
    },
    {
     "name": "stdout",
     "output_type": "stream",
     "text": [
      "⚠️  Could not fetch main.zip for dyw200159/ChatGPT-Next-Web (status 404)\n",
      "⚠️  Could not fetch master.zip for dyw200159/ChatGPT-Next-Web (status 404)\n"
     ]
    },
    {
     "name": "stderr",
     "output_type": "stream",
     "text": [
      "Processing forks: 100%|██████████| 500/500 [00:01<00:00, 395.10it/s]\n"
     ]
    },
    {
     "name": "stdout",
     "output_type": "stream",
     "text": [
      "Batch: 54500\n"
     ]
    },
    {
     "name": "stderr",
     "output_type": "stream",
     "text": [
      "Processing forks:   0%|          | 0/500 [00:00<?, ?it/s]"
     ]
    },
    {
     "name": "stdout",
     "output_type": "stream",
     "text": [
      "⚠️  Could not fetch main.zip for moeyys/ChatGPT-Next-Web (status 404)\n"
     ]
    },
    {
     "name": "stderr",
     "output_type": "stream",
     "text": [
      "Processing forks:   5%|▍         | 24/500 [00:00<00:07, 64.80it/s]"
     ]
    },
    {
     "name": "stdout",
     "output_type": "stream",
     "text": [
      "⚠️  Could not fetch master.zip for moeyys/ChatGPT-Next-Web (status 404)\n"
     ]
    },
    {
     "name": "stderr",
     "output_type": "stream",
     "text": [
      "Processing forks:   6%|▋         | 32/500 [00:00<00:15, 29.32it/s]"
     ]
    },
    {
     "name": "stdout",
     "output_type": "stream",
     "text": [
      "⚠️  Could not fetch main.zip for liluo031207/ChatGPT-Next-Web (status 404)\n",
      "⚠️  Could not fetch master.zip for liluo031207/ChatGPT-Next-Web (status 404)\n"
     ]
    },
    {
     "name": "stderr",
     "output_type": "stream",
     "text": [
      "Processing forks:  21%|██▏       | 107/500 [00:01<00:04, 92.98it/s]"
     ]
    },
    {
     "name": "stdout",
     "output_type": "stream",
     "text": [
      "⚠️  Could not fetch main.zip for taoduanzhi/ChatGPT-Next-Web (status 404)\n",
      "⚠️  Could not fetch master.zip for taoduanzhi/ChatGPT-Next-Web (status 404)\n"
     ]
    },
    {
     "name": "stderr",
     "output_type": "stream",
     "text": [
      "Processing forks:  48%|████▊     | 240/500 [00:01<00:01, 179.00it/s]"
     ]
    },
    {
     "name": "stdout",
     "output_type": "stream",
     "text": [
      "⚠️  Could not fetch main.zip for zlatislav/ChatGPT-Next-Web (status 404)\n",
      "⚠️  Could not fetch master.zip for zlatislav/ChatGPT-Next-Web (status 404)\n"
     ]
    },
    {
     "name": "stderr",
     "output_type": "stream",
     "text": [
      "Processing forks: 100%|██████████| 500/500 [00:01<00:00, 267.86it/s]\n"
     ]
    },
    {
     "name": "stdout",
     "output_type": "stream",
     "text": [
      "Batch: 55000\n"
     ]
    },
    {
     "name": "stderr",
     "output_type": "stream",
     "text": [
      "Processing forks:  31%|███       | 153/500 [00:00<00:00, 378.00it/s]"
     ]
    },
    {
     "name": "stdout",
     "output_type": "stream",
     "text": [
      "⚠️  Could not fetch main.zip for moxaio12/ChatGPT-Next-Web (status 404)\n",
      "⚠️  Could not fetch master.zip for moxaio12/ChatGPT-Next-Web (status 404)\n"
     ]
    },
    {
     "name": "stderr",
     "output_type": "stream",
     "text": [
      "Processing forks:  47%|████▋     | 235/500 [00:00<00:00, 274.54it/s]"
     ]
    },
    {
     "name": "stdout",
     "output_type": "stream",
     "text": [
      "⚠️  Could not fetch main.zip for gyu66/ChatGPT-Next-Web (status 404)\n",
      "⚠️  Could not fetch master.zip for gyu66/ChatGPT-Next-Web (status 404)\n"
     ]
    },
    {
     "name": "stderr",
     "output_type": "stream",
     "text": [
      "Processing forks:  64%|██████▍   | 322/500 [00:01<00:00, 249.53it/s]"
     ]
    },
    {
     "name": "stdout",
     "output_type": "stream",
     "text": [
      "⚠️  Could not fetch main.zip for ben1008610/ChatGPT-Next-Web (status 404)\n",
      "⚠️  Could not fetch master.zip for ben1008610/ChatGPT-Next-Web (status 404)\n"
     ]
    },
    {
     "name": "stderr",
     "output_type": "stream",
     "text": [
      "Processing forks: 100%|██████████| 500/500 [00:01<00:00, 386.83it/s]\n"
     ]
    },
    {
     "name": "stdout",
     "output_type": "stream",
     "text": [
      "Batch: 55500\n"
     ]
    },
    {
     "name": "stderr",
     "output_type": "stream",
     "text": [
      "Processing forks:   0%|          | 0/500 [00:00<?, ?it/s]"
     ]
    },
    {
     "name": "stdout",
     "output_type": "stream",
     "text": [
      "⚠️  Could not fetch main.zip for jojoXR/ChatGPT-Next-Web (status 404)\n"
     ]
    },
    {
     "name": "stderr",
     "output_type": "stream",
     "text": [
      "Processing forks:  17%|█▋        | 86/500 [00:00<00:01, 230.73it/s]"
     ]
    },
    {
     "name": "stdout",
     "output_type": "stream",
     "text": [
      "⚠️  Could not fetch master.zip for jojoXR/ChatGPT-Next-Web (status 404)\n"
     ]
    },
    {
     "name": "stderr",
     "output_type": "stream",
     "text": [
      "Processing forks:  43%|████▎     | 215/500 [00:00<00:01, 268.90it/s]"
     ]
    },
    {
     "name": "stdout",
     "output_type": "stream",
     "text": [
      "⚠️  Could not fetch main.zip for fivexby/ChatGPT-Next-Web (status 404)\n",
      "⚠️  Could not fetch master.zip for fivexby/ChatGPT-Next-Web (status 404)\n",
      "⚠️  Could not fetch main.zip for AI2Hub/ChatGPT-Next-Web (status 404)\n",
      "⚠️  Could not fetch master.zip for AI2Hub/ChatGPT-Next-Web (status 404)\n"
     ]
    },
    {
     "name": "stderr",
     "output_type": "stream",
     "text": [
      "Processing forks: 100%|██████████| 500/500 [00:01<00:00, 382.37it/s]\n"
     ]
    },
    {
     "name": "stdout",
     "output_type": "stream",
     "text": [
      "Batch: 56000\n"
     ]
    },
    {
     "name": "stderr",
     "output_type": "stream",
     "text": [
      "Processing forks:  38%|███▊      | 192/500 [00:00<00:00, 443.66it/s]"
     ]
    },
    {
     "name": "stdout",
     "output_type": "stream",
     "text": [
      "⚠️  Could not fetch main.zip for DivenDing/ChatGPT-Next-Web (status 404)\n",
      "⚠️  Could not fetch master.zip for DivenDing/ChatGPT-Next-Web (status 404)\n"
     ]
    },
    {
     "name": "stderr",
     "output_type": "stream",
     "text": [
      "Processing forks:  83%|████████▎ | 415/500 [00:00<00:00, 886.57it/s]"
     ]
    },
    {
     "name": "stdout",
     "output_type": "stream",
     "text": [
      "⚠️  Could not fetch main.zip for heyweoil/ChatGPT-Next-Web (status 404)\n",
      "⚠️  Could not fetch master.zip for heyweoil/ChatGPT-Next-Web (status 404)\n",
      "⚠️  Could not fetch main.zip for mingjia2009/ChatGPT-Next-Web (status 404)\n",
      "⚠️  Could not fetch master.zip for mingjia2009/ChatGPT-Next-Web (status 404)\n"
     ]
    },
    {
     "name": "stderr",
     "output_type": "stream",
     "text": [
      "Processing forks: 100%|██████████| 500/500 [00:01<00:00, 303.44it/s]\n"
     ]
    },
    {
     "name": "stdout",
     "output_type": "stream",
     "text": [
      "⚠️  Could not fetch main.zip for mycopt001/ChatGPT-Next-Web (status 404)\n",
      "⚠️  Could not fetch master.zip for mycopt001/ChatGPT-Next-Web (status 404)\n",
      "Batch: 56500\n"
     ]
    },
    {
     "name": "stderr",
     "output_type": "stream",
     "text": [
      "Processing forks:   7%|▋         | 34/500 [00:00<00:05, 84.49it/s]"
     ]
    },
    {
     "name": "stdout",
     "output_type": "stream",
     "text": [
      "⚠️  Could not fetch main.zip for y99901/ChatGPTNextWeb (status 404)\n",
      "⚠️  Could not fetch master.zip for y99901/ChatGPTNextWeb (status 404)\n",
      "⚠️  Could not fetch main.zip for github00eric/ChatGPT-Web-Personal-Use (status 404)\n",
      "⚠️  Could not fetch master.zip for github00eric/ChatGPT-Web-Personal-Use (status 404)\n"
     ]
    },
    {
     "name": "stderr",
     "output_type": "stream",
     "text": [
      "Processing forks:  36%|███▌      | 181/500 [00:00<00:01, 234.02it/s]"
     ]
    },
    {
     "name": "stdout",
     "output_type": "stream",
     "text": [
      "⚠️  Could not fetch main.zip for Tango5155/ChatGPT-Next-Web (status 404)\n"
     ]
    },
    {
     "name": "stderr",
     "output_type": "stream",
     "text": [
      "Processing forks:  53%|█████▎    | 265/500 [00:01<00:01, 179.26it/s]"
     ]
    },
    {
     "name": "stdout",
     "output_type": "stream",
     "text": [
      "⚠️  Could not fetch master.zip for Tango5155/ChatGPT-Next-Web (status 404)\n",
      "⚠️  Could not fetch main.zip for WenhuWee/ChatGPT-Next-Web-f (status 404)\n"
     ]
    },
    {
     "name": "stderr",
     "output_type": "stream",
     "text": [
      "Processing forks:  60%|█████▉    | 299/500 [00:01<00:01, 151.87it/s]"
     ]
    },
    {
     "name": "stdout",
     "output_type": "stream",
     "text": [
      "⚠️  Could not fetch master.zip for WenhuWee/ChatGPT-Next-Web-f (status 404)\n"
     ]
    },
    {
     "name": "stderr",
     "output_type": "stream",
     "text": [
      "Processing forks: 100%|██████████| 500/500 [00:02<00:00, 218.57it/s]"
     ]
    },
    {
     "name": "stdout",
     "output_type": "stream",
     "text": [
      "⚠️  Could not fetch main.zip for ttluts/ChatGPT-Next-Web (status 404)\n",
      "⚠️  Could not fetch master.zip for ttluts/ChatGPT-Next-Web (status 404)\n"
     ]
    },
    {
     "name": "stderr",
     "output_type": "stream",
     "text": [
      "\n"
     ]
    },
    {
     "name": "stdout",
     "output_type": "stream",
     "text": [
      "Batch: 57000\n"
     ]
    },
    {
     "name": "stderr",
     "output_type": "stream",
     "text": [
      "Processing forks:  51%|█████     | 253/500 [00:00<00:00, 586.80it/s]"
     ]
    },
    {
     "name": "stdout",
     "output_type": "stream",
     "text": [
      "⚠️  Could not fetch main.zip for HyyOwen/ChatGPT-Next-Web (status 404)\n",
      "⚠️  Could not fetch master.zip for HyyOwen/ChatGPT-Next-Web (status 404)\n"
     ]
    },
    {
     "name": "stderr",
     "output_type": "stream",
     "text": [
      "Processing forks:  81%|████████  | 404/500 [00:00<00:00, 447.36it/s]"
     ]
    },
    {
     "name": "stdout",
     "output_type": "stream",
     "text": [
      "⚠️  Could not fetch main.zip for ooxx0223/ChatGPT-Next-Web (status 404)\n",
      "⚠️  Could not fetch master.zip for ooxx0223/ChatGPT-Next-Web (status 404)\n"
     ]
    },
    {
     "name": "stderr",
     "output_type": "stream",
     "text": [
      "Processing forks: 100%|██████████| 500/500 [00:00<00:00, 542.50it/s]\n"
     ]
    },
    {
     "name": "stdout",
     "output_type": "stream",
     "text": [
      "Batch: 57500\n"
     ]
    },
    {
     "name": "stderr",
     "output_type": "stream",
     "text": [
      "Processing forks:   0%|          | 0/500 [00:00<?, ?it/s]"
     ]
    },
    {
     "name": "stdout",
     "output_type": "stream",
     "text": [
      "⚠️  Could not fetch main.zip for boyongye218617/ChatGPT-Next-Web (status 404)\n"
     ]
    },
    {
     "name": "stderr",
     "output_type": "stream",
     "text": [
      "Processing forks:   8%|▊         | 41/500 [00:00<00:05, 82.92it/s]"
     ]
    },
    {
     "name": "stdout",
     "output_type": "stream",
     "text": [
      "⚠️  Could not fetch master.zip for boyongye218617/ChatGPT-Next-Web (status 404)\n",
      "⚠️  Could not fetch main.zip for fjiabinc/ChatGPT-Next-Web (status 404)\n"
     ]
    },
    {
     "name": "stderr",
     "output_type": "stream",
     "text": [
      "Processing forks:  45%|████▍     | 224/500 [00:01<00:01, 211.38it/s]"
     ]
    },
    {
     "name": "stdout",
     "output_type": "stream",
     "text": [
      "⚠️  Could not fetch master.zip for fjiabinc/ChatGPT-Next-Web (status 404)\n",
      "⚠️  Could not fetch main.zip for poseidon996/ChatGPT-Next-Web (status 404)\n"
     ]
    },
    {
     "name": "stderr",
     "output_type": "stream",
     "text": [
      "Processing forks:  55%|█████▌    | 277/500 [00:01<00:01, 189.73it/s]"
     ]
    },
    {
     "name": "stdout",
     "output_type": "stream",
     "text": [
      "⚠️  Could not fetch master.zip for poseidon996/ChatGPT-Next-Web (status 404)\n",
      "⚠️  Could not fetch main.zip for lorilee/ChatGPT-Next-Web (status 404)\n"
     ]
    },
    {
     "name": "stderr",
     "output_type": "stream",
     "text": [
      "Processing forks:  59%|█████▉    | 295/500 [00:01<00:01, 144.35it/s]"
     ]
    },
    {
     "name": "stdout",
     "output_type": "stream",
     "text": [
      "⚠️  Could not fetch master.zip for lorilee/ChatGPT-Next-Web (status 404)\n",
      "⚠️  Could not fetch main.zip for githubforleesir/ChatGPT-Next-Web (status 404)\n"
     ]
    },
    {
     "name": "stderr",
     "output_type": "stream",
     "text": [
      "Processing forks:  63%|██████▎   | 316/500 [00:02<00:01, 113.90it/s]"
     ]
    },
    {
     "name": "stdout",
     "output_type": "stream",
     "text": [
      "⚠️  Could not fetch master.zip for githubforleesir/ChatGPT-Next-Web (status 404)\n",
      "⚠️  Could not fetch main.zip for mcself/ChatGPT-Next-Web (status 404)\n"
     ]
    },
    {
     "name": "stderr",
     "output_type": "stream",
     "text": [
      "Processing forks:  72%|███████▏  | 360/500 [00:02<00:01, 116.01it/s]"
     ]
    },
    {
     "name": "stdout",
     "output_type": "stream",
     "text": [
      "⚠️  Could not fetch master.zip for mcself/ChatGPT-Next-Web (status 404)\n"
     ]
    },
    {
     "name": "stderr",
     "output_type": "stream",
     "text": [
      "Processing forks:  82%|████████▏ | 411/500 [00:03<00:00, 120.23it/s]"
     ]
    },
    {
     "name": "stdout",
     "output_type": "stream",
     "text": [
      "⚠️  Could not fetch main.zip for 3Kmfi6HP/ChatGPT-Next-Web (status 404)\n",
      "⚠️  Could not fetch master.zip for 3Kmfi6HP/ChatGPT-Next-Web (status 404)\n"
     ]
    },
    {
     "name": "stderr",
     "output_type": "stream",
     "text": [
      "Processing forks: 100%|██████████| 500/500 [00:03<00:00, 145.32it/s]"
     ]
    },
    {
     "name": "stdout",
     "output_type": "stream",
     "text": [
      "⚠️  Could not fetch main.zip for baohusanvip/ChatGPT-Next-Web (status 404)\n",
      "⚠️  Could not fetch master.zip for baohusanvip/ChatGPT-Next-Web (status 404)\n"
     ]
    },
    {
     "name": "stderr",
     "output_type": "stream",
     "text": [
      "\n"
     ]
    },
    {
     "name": "stdout",
     "output_type": "stream",
     "text": [
      "Batch: 58000\n"
     ]
    },
    {
     "name": "stderr",
     "output_type": "stream",
     "text": [
      "Processing forks:  45%|████▌     | 226/500 [00:00<00:00, 517.55it/s]"
     ]
    },
    {
     "name": "stdout",
     "output_type": "stream",
     "text": [
      "⚠️  Could not fetch main.zip for mcqnby/ChatGPT-Next-Web-LHQ (status 404)\n",
      "⚠️  Could not fetch master.zip for mcqnby/ChatGPT-Next-Web-LHQ (status 404)\n"
     ]
    },
    {
     "name": "stderr",
     "output_type": "stream",
     "text": [
      "Processing forks:  58%|█████▊    | 292/500 [00:00<00:00, 316.91it/s]"
     ]
    },
    {
     "name": "stdout",
     "output_type": "stream",
     "text": [
      "⚠️  Could not fetch main.zip for aigithub2023/ChatGPT-Next-Web (status 404)\n",
      "⚠️  Could not fetch master.zip for aigithub2023/ChatGPT-Next-Web (status 404)\n"
     ]
    },
    {
     "name": "stderr",
     "output_type": "stream",
     "text": [
      "Processing forks: 100%|██████████| 500/500 [00:00<00:00, 543.56it/s]\n"
     ]
    },
    {
     "name": "stdout",
     "output_type": "stream",
     "text": [
      "Batch: 58500\n"
     ]
    },
    {
     "name": "stderr",
     "output_type": "stream",
     "text": [
      "Processing forks:  51%|█████▏    | 257/500 [00:00<00:00, 586.71it/s]"
     ]
    },
    {
     "name": "stdout",
     "output_type": "stream",
     "text": [
      "⚠️  Could not fetch main.zip for dsfadfadf/ChatGPT-Next-Web (status 404)\n",
      "⚠️  Could not fetch master.zip for dsfadfadf/ChatGPT-Next-Web (status 404)\n",
      "⚠️  Could not fetch main.zip for zxbin2000/ChatGPT-Next-Web (status 404)\n",
      "⚠️  Could not fetch master.zip for zxbin2000/ChatGPT-Next-Web (status 404)\n"
     ]
    },
    {
     "name": "stderr",
     "output_type": "stream",
     "text": [
      "Processing forks:  63%|██████▎   | 316/500 [00:01<00:00, 219.66it/s]"
     ]
    },
    {
     "name": "stdout",
     "output_type": "stream",
     "text": [
      "⚠️  Could not fetch main.zip for eamon-cai/ChatGPT-Next-Web (status 404)\n",
      "⚠️  Could not fetch master.zip for eamon-cai/ChatGPT-Next-Web (status 404)\n"
     ]
    },
    {
     "name": "stderr",
     "output_type": "stream",
     "text": [
      "Processing forks:  84%|████████▍ | 422/500 [00:01<00:00, 234.78it/s]"
     ]
    },
    {
     "name": "stdout",
     "output_type": "stream",
     "text": [
      "⚠️  Could not fetch main.zip for woodzhang008/ChatGPT-Next-Web (status 404)\n",
      "⚠️  Could not fetch master.zip for woodzhang008/ChatGPT-Next-Web (status 404)\n",
      "⚠️  Could not fetch main.zip for Wuu-Ce/ChatGPT-Next-Web (status 404)\n",
      "⚠️  Could not fetch master.zip for Wuu-Ce/ChatGPT-Next-Web (status 404)\n"
     ]
    },
    {
     "name": "stderr",
     "output_type": "stream",
     "text": [
      "Processing forks: 100%|██████████| 500/500 [00:02<00:00, 244.17it/s]\n"
     ]
    },
    {
     "name": "stdout",
     "output_type": "stream",
     "text": [
      "Batch: 59000\n"
     ]
    },
    {
     "name": "stderr",
     "output_type": "stream",
     "text": [
      "Processing forks:   0%|          | 0/500 [00:00<?, ?it/s]"
     ]
    },
    {
     "name": "stdout",
     "output_type": "stream",
     "text": [
      "⚠️  Could not fetch main.zip for youmuhatsune/ChatGPT-Next-Web (status 404)\n"
     ]
    },
    {
     "name": "stderr",
     "output_type": "stream",
     "text": [
      "Processing forks:   9%|▉         | 45/500 [00:00<00:03, 119.42it/s]"
     ]
    },
    {
     "name": "stdout",
     "output_type": "stream",
     "text": [
      "⚠️  Could not fetch master.zip for youmuhatsune/ChatGPT-Next-Web (status 404)\n",
      "⚠️  Could not fetch main.zip for Tor101/ChatGPT-Next-Web (status 404)\n"
     ]
    },
    {
     "name": "stderr",
     "output_type": "stream",
     "text": [
      "Processing forks:  12%|█▏        | 62/500 [00:00<00:05, 74.40it/s] "
     ]
    },
    {
     "name": "stdout",
     "output_type": "stream",
     "text": [
      "⚠️  Could not fetch master.zip for Tor101/ChatGPT-Next-Web (status 404)\n"
     ]
    },
    {
     "name": "stderr",
     "output_type": "stream",
     "text": [
      "Processing forks:  35%|███▍      | 173/500 [00:01<00:01, 166.96it/s]"
     ]
    },
    {
     "name": "stdout",
     "output_type": "stream",
     "text": [
      "⚠️  Could not fetch main.zip for LeonLeeok/ChatGPT-Next-Web (status 404)\n",
      "⚠️  Could not fetch master.zip for LeonLeeok/ChatGPT-Next-Web (status 404)\n"
     ]
    },
    {
     "name": "stderr",
     "output_type": "stream",
     "text": [
      "Processing forks:  46%|████▌     | 229/500 [00:01<00:01, 158.94it/s]"
     ]
    },
    {
     "name": "stdout",
     "output_type": "stream",
     "text": [
      "⚠️  Could not fetch main.zip for rdy45et4e/Nintendoz (status 404)\n",
      "⚠️  Could not fetch master.zip for rdy45et4e/Nintendoz (status 404)\n"
     ]
    },
    {
     "name": "stderr",
     "output_type": "stream",
     "text": [
      "Processing forks:  65%|██████▌   | 325/500 [00:01<00:00, 185.42it/s]"
     ]
    },
    {
     "name": "stdout",
     "output_type": "stream",
     "text": [
      "⚠️  Could not fetch main.zip for flydzy/ChatGPT-Next-Web (status 404)\n",
      "⚠️  Could not fetch master.zip for flydzy/ChatGPT-Next-Web (status 404)\n",
      "⚠️  Could not fetch main.zip for maodamao0331/ChatGPT-Next-Web-1 (status 404)\n",
      "⚠️  Could not fetch master.zip for maodamao0331/ChatGPT-Next-Web-1 (status 404)\n"
     ]
    },
    {
     "name": "stderr",
     "output_type": "stream",
     "text": [
      "Processing forks: 100%|██████████| 500/500 [00:02<00:00, 204.27it/s]\n"
     ]
    },
    {
     "name": "stdout",
     "output_type": "stream",
     "text": [
      "Batch: 59500\n"
     ]
    },
    {
     "name": "stderr",
     "output_type": "stream",
     "text": [
      "Processing forks:   0%|          | 0/500 [00:00<?, ?it/s]"
     ]
    },
    {
     "name": "stdout",
     "output_type": "stream",
     "text": [
      "⚠️  Could not fetch main.zip for Burgerhuman/ChatGPT-Next-Web (status 404)\n"
     ]
    },
    {
     "name": "stderr",
     "output_type": "stream",
     "text": [
      "Processing forks:   4%|▍         | 19/500 [00:00<00:09, 53.05it/s]"
     ]
    },
    {
     "name": "stdout",
     "output_type": "stream",
     "text": [
      "⚠️  Could not fetch master.zip for Burgerhuman/ChatGPT-Next-Web (status 404)\n",
      "⚠️  Could not fetch main.zip for shao1f/ChatGPT-Next-Web (status 404)\n"
     ]
    },
    {
     "name": "stderr",
     "output_type": "stream",
     "text": [
      "Processing forks:  12%|█▏        | 62/500 [00:00<00:04, 89.25it/s]"
     ]
    },
    {
     "name": "stdout",
     "output_type": "stream",
     "text": [
      "⚠️  Could not fetch master.zip for shao1f/ChatGPT-Next-Web (status 404)\n",
      "⚠️  Could not fetch main.zip for zheccma/ChatGPT-Next-Web (status 404)\n"
     ]
    },
    {
     "name": "stderr",
     "output_type": "stream",
     "text": [
      "Processing forks:  20%|██        | 102/500 [00:01<00:04, 93.33it/s]"
     ]
    },
    {
     "name": "stdout",
     "output_type": "stream",
     "text": [
      "⚠️  Could not fetch master.zip for zheccma/ChatGPT-Next-Web (status 404)\n",
      "⚠️  Could not fetch main.zip for wsadczh/ChatGPT-Next-Web (status 404)\n"
     ]
    },
    {
     "name": "stderr",
     "output_type": "stream",
     "text": [
      "Processing forks:  62%|██████▏   | 311/500 [00:01<00:00, 202.45it/s]"
     ]
    },
    {
     "name": "stdout",
     "output_type": "stream",
     "text": [
      "⚠️  Could not fetch master.zip for wsadczh/ChatGPT-Next-Web (status 404)\n",
      "⚠️  Could not fetch main.zip for hefref9/ChatGPT-Next-Web (status 404)\n"
     ]
    },
    {
     "name": "stderr",
     "output_type": "stream",
     "text": [
      "Processing forks:  68%|██████▊   | 338/500 [00:02<00:00, 165.26it/s]"
     ]
    },
    {
     "name": "stdout",
     "output_type": "stream",
     "text": [
      "⚠️  Could not fetch master.zip for hefref9/ChatGPT-Next-Web (status 404)\n"
     ]
    },
    {
     "name": "stderr",
     "output_type": "stream",
     "text": [
      "Processing forks: 100%|██████████| 500/500 [00:02<00:00, 188.80it/s]"
     ]
    },
    {
     "name": "stdout",
     "output_type": "stream",
     "text": [
      "⚠️  Could not fetch main.zip for Rahib777-7/ChatGPT-Next-Web (status 404)\n",
      "⚠️  Could not fetch master.zip for Rahib777-7/ChatGPT-Next-Web (status 404)\n"
     ]
    },
    {
     "name": "stderr",
     "output_type": "stream",
     "text": [
      "\n"
     ]
    },
    {
     "name": "stdout",
     "output_type": "stream",
     "text": [
      "Batch: 60000\n"
     ]
    },
    {
     "name": "stderr",
     "output_type": "stream",
     "text": [
      "Processing forks:   3%|▎         | 13/500 [00:00<00:24, 19.86it/s]"
     ]
    },
    {
     "name": "stdout",
     "output_type": "stream",
     "text": [
      "⚠️  Could not fetch main.zip for leyiweb/ChatGPT-Next-Web (status 404)\n",
      "⚠️  Could not fetch master.zip for leyiweb/ChatGPT-Next-Web (status 404)\n"
     ]
    },
    {
     "name": "stderr",
     "output_type": "stream",
     "text": [
      "Processing forks:  52%|█████▏    | 260/500 [00:00<00:00, 458.73it/s]"
     ]
    },
    {
     "name": "stdout",
     "output_type": "stream",
     "text": [
      "⚠️  Could not fetch main.zip for lanshao520/ChatGPT-Next-Web (status 404)\n",
      "⚠️  Could not fetch master.zip for lanshao520/ChatGPT-Next-Web (status 404)\n"
     ]
    },
    {
     "name": "stderr",
     "output_type": "stream",
     "text": [
      "Processing forks: 100%|██████████| 500/500 [00:01<00:00, 415.24it/s]\n"
     ]
    },
    {
     "name": "stdout",
     "output_type": "stream",
     "text": [
      "Batch: 60500\n"
     ]
    },
    {
     "name": "stderr",
     "output_type": "stream",
     "text": [
      "Processing forks:  63%|██████▎   | 310/495 [00:00<00:00, 3092.14it/s]"
     ]
    },
    {
     "name": "stdout",
     "output_type": "stream",
     "text": [
      "⚠️  Could not fetch main.zip for xhazy01/ChatGPT-Next-Web (status 404)\n",
      "⚠️  Could not fetch master.zip for xhazy01/ChatGPT-Next-Web (status 404)\n",
      "⚠️  Could not fetch main.zip for esgcopilot/ChatGPT-Next-Web (status 404)\n",
      "⚠️  Could not fetch master.zip for esgcopilot/ChatGPT-Next-Web (status 404)\n",
      "⚠️  Could not fetch main.zip for szukodf/ChatGPT-Next-Web-1 (status 404)\n",
      "⚠️  Could not fetch master.zip for szukodf/ChatGPT-Next-Web-1 (status 404)\n"
     ]
    },
    {
     "name": "stderr",
     "output_type": "stream",
     "text": [
      "Processing forks: 100%|██████████| 495/495 [00:01<00:00, 311.98it/s] "
     ]
    },
    {
     "name": "stdout",
     "output_type": "stream",
     "text": [
      "⚠️  Could not fetch main.zip for JoaoAraujo40/test (status 404)\n",
      "⚠️  Could not fetch master.zip for JoaoAraujo40/test (status 404)\n",
      "\n",
      "✅ Done! See results in matches.jsonl\n"
     ]
    },
    {
     "name": "stderr",
     "output_type": "stream",
     "text": [
      "\n"
     ]
    }
   ],
   "source": [
    "print(f\"Found {len(fork_names)} forks\")\n",
    "\n",
    "# FULL_SYSTEM_PROMPT = '''**Casual Style**\n",
    "#                 2. **Detailed Responses with Emphasis** - Ensure thoroughness and depth in explanations, covering all relevant aspects.\n",
    "#                 3. **Neutral, Suggestive When Clear**\n",
    "#                 4. **Use LaTeX for Math When Applicable** - Apply only for math-related queries, Inline: `$equation$`, Display: `$$equation$$`\n",
    "#                 5. **Match Query Language Precisely** - If the question is in Chinese, respond in Chinese; for other languages, the same rule applies.\n",
    "#                 6. **Focus on Specifics**'''\n",
    "\n",
    "SYSTEM_PROMPT = 'If the question is in Chinese, respond in Chinese; for other languages, the same rule applies.'\n",
    "df = pd.read_json('matches.jsonl',lines=True)\n",
    "already_searched = df['repo'].tolist()\n",
    "# already_searched = []\n",
    "with open(RESULTS_FILE, \"a\") as out_file:\n",
    "    for batch in range(0,61_000,500):\n",
    "        print(f'Batch: {batch}')\n",
    "        for fork in tqdm(fork_names[batch:batch+500], desc=\"Processing forks\"):\n",
    "            if fork in already_searched:\n",
    "                # print(f'{fork} already searched')\n",
    "                continue\n",
    "            with TemporaryDirectory() as tmpdir:\n",
    "                MAIN_OR_MASTER = download_and_extract_zip(fork, tmpdir)\n",
    "                if not MAIN_OR_MASTER:\n",
    "                    continue\n",
    "                subdirs = [d for d in os.listdir(tmpdir) if os.path.isdir(os.path.join(tmpdir, d))]\n",
    "                if not subdirs:\n",
    "                    continue\n",
    "                repo_dir = os.path.join(tmpdir, subdirs[0])\n",
    "                matches = search_with_ripgrep(repo_dir, SYSTEM_PROMPT)\n",
    "                urls = [\n",
    "                    f\"https://github.com/{fork}/blob/{MAIN_OR_MASTER}/{path}\"\n",
    "                    for path in matches\n",
    "                ]\n",
    "\n",
    "                out_file.write(json.dumps({\n",
    "                    \"repo\": fork,\n",
    "                    \"files\": urls}) + \"\\n\")\n",
    "                \n",
    "                if len(matches) > 0:\n",
    "                    print(f'Matches found in {fork}')\n",
    "                \n",
    "    print(f\"\\n✅ Done! See results in {RESULTS_FILE}\")"
   ]
  },
  {
   "cell_type": "code",
   "execution_count": null,
   "metadata": {},
   "outputs": [],
   "source": []
  }
 ],
 "metadata": {
  "kernelspec": {
   "display_name": ".venv",
   "language": "python",
   "name": "python3"
  },
  "language_info": {
   "codemirror_mode": {
    "name": "ipython",
    "version": 3
   },
   "file_extension": ".py",
   "mimetype": "text/x-python",
   "name": "python",
   "nbconvert_exporter": "python",
   "pygments_lexer": "ipython3",
   "version": "3.9.6"
  }
 },
 "nbformat": 4,
 "nbformat_minor": 2
}
